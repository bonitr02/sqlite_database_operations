{
  "nbformat": 4,
  "nbformat_minor": 0,
  "metadata": {
    "colab": {
      "provenance": [],
      "collapsed_sections": [
        "-_wLOMSfLmE2",
        "zCAUuWR1K6Fn",
        "Fugoj3xGNzJa",
        "w2KlnVi1xENl"
      ],
      "authorship_tag": "ABX9TyNVJ6H9oI/JhV/Nm9EN9ptM",
      "include_colab_link": true
    },
    "kernelspec": {
      "name": "python3",
      "display_name": "Python 3"
    },
    "language_info": {
      "name": "python"
    }
  },
  "cells": [
    {
      "cell_type": "markdown",
      "metadata": {
        "id": "view-in-github",
        "colab_type": "text"
      },
      "source": [
        "<a href=\"https://colab.research.google.com/github/bonitr02/sqlite_database_operations/blob/main/hha504_assgn3.ipynb\" target=\"_parent\"><img src=\"https://colab.research.google.com/assets/colab-badge.svg\" alt=\"Open In Colab\"/></a>"
      ]
    },
    {
      "cell_type": "markdown",
      "source": [
        "## Load packages"
      ],
      "metadata": {
        "id": "gVfe3f_Huz_Q"
      }
    },
    {
      "cell_type": "code",
      "execution_count": 133,
      "metadata": {
        "colab": {
          "base_uri": "https://localhost:8080/"
        },
        "id": "pCjelQZlsVBx",
        "outputId": "300d5cf7-792e-4ea7-d0ba-1bb60f0442c2"
      },
      "outputs": [
        {
          "output_type": "stream",
          "name": "stdout",
          "text": [
            "Requirement already satisfied: sqlalchemy in /usr/local/lib/python3.10/dist-packages (2.0.20)\n",
            "Requirement already satisfied: typing-extensions>=4.2.0 in /usr/local/lib/python3.10/dist-packages (from sqlalchemy) (4.5.0)\n",
            "Requirement already satisfied: greenlet!=0.4.17 in /usr/local/lib/python3.10/dist-packages (from sqlalchemy) (2.0.2)\n"
          ]
        }
      ],
      "source": [
        "! pip install sqlalchemy\n",
        "from sqlalchemy import create_engine\n",
        "import sqlite3\n",
        "import pandas as pd\n",
        "from tabulate import tabulate\n",
        "import numpy as np\n",
        "import matplotlib.pyplot as plt\n",
        "import seaborn as sns\n",
        "import plotly.graph_objects as go\n",
        "from IPython import display"
      ]
    },
    {
      "cell_type": "markdown",
      "source": [
        "# Hospital Dataset 1: Mount Sinai Queens"
      ],
      "metadata": {
        "id": "Qpaf9Z5MIDdN"
      }
    },
    {
      "cell_type": "markdown",
      "source": [
        "## Import data Hospital 1"
      ],
      "metadata": {
        "id": "4LB-o5hOKQ5r"
      }
    },
    {
      "cell_type": "code",
      "execution_count": null,
      "metadata": {
        "colab": {
          "base_uri": "https://localhost:8080/"
        },
        "id": "Ve_InWCmJ7Db",
        "outputId": "fd0a6065-72df-471c-f130-4bae91d44e55"
      },
      "outputs": [
        {
          "output_type": "stream",
          "name": "stderr",
          "text": [
            "<ipython-input-30-00c9927208ca>:1: DtypeWarning: Columns (9,10,12,13,14,15,17,19,20,21,22,23,24,27,28,29,31,33,34,35,36,38,41,43,45,47,48,49,50,52) have mixed types. Specify dtype option on import or set low_memory=False.\n",
            "  df = pd.read_csv('/content/131624096_mount-sinai-queens_chargemaster.csv')\n"
          ]
        }
      ],
      "source": [
        "df = pd.read_csv('/content/131624096_mount-sinai-queens_chargemaster.csv')"
      ]
    },
    {
      "cell_type": "code",
      "source": [
        "df.shape\n",
        "#114893 rows and 55 columns"
      ],
      "metadata": {
        "colab": {
          "base_uri": "https://localhost:8080/"
        },
        "id": "wCtSL2CgNbDc",
        "outputId": "ef379515-ef27-41c6-ac17-74b27fbc88ae"
      },
      "execution_count": null,
      "outputs": [
        {
          "output_type": "execute_result",
          "data": {
            "text/plain": [
              "(114893, 55)"
            ]
          },
          "metadata": {},
          "execution_count": 31
        }
      ]
    },
    {
      "cell_type": "code",
      "source": [
        "df.head(10)"
      ],
      "metadata": {
        "colab": {
          "base_uri": "https://localhost:8080/",
          "height": 846
        },
        "id": "P_79z11NLvVm",
        "outputId": "ffbfe8ca-7190-4357-dcf3-744065366162"
      },
      "execution_count": null,
      "outputs": [
        {
          "output_type": "execute_result",
          "data": {
            "text/plain": [
              "   CHARGE CODE                     CHARGE DESC  \\\n",
              "0     10300300         NON ESRD HEMO INPT UNIT   \n",
              "1     10300500  NON ESRD HEMO ED IN DIALYS UNI   \n",
              "2     10300600             INPT CAPD TREATMENT   \n",
              "3     10300700     ESRD HEMO ED IN DIALYS UNIT   \n",
              "4     10300800             ESRD HEMO INPT UNIT   \n",
              "5     10301000    ESRD HEMO INPT DIALYSIS UNIT   \n",
              "6     10303200                CCPD CYCLER INPT   \n",
              "7     10303400  NONESRD ULTRAFLTR IP DIALY UNI   \n",
              "8     10304600        ESRD ULTRAFLTR INPT UNIT   \n",
              "9     10304700  ESRD ULTRAFLTR IP DIALYSIS UNI   \n",
              "\n",
              "            ALTERNATE DESCRIPTION  DEPARTMENT CODE DEPARTMENT NAME  \\\n",
              "0         NON ESRD HEMO INPT UNIT              103        DIALYSIS   \n",
              "1  NON ESRD HEMO ED IN DIALYS UNI              103        DIALYSIS   \n",
              "2             INPT CAPD TREATMENT              103        DIALYSIS   \n",
              "3     ESRD HEMO ED IN DIALYS UNIT              103        DIALYSIS   \n",
              "4             ESRD HEMO INPT UNIT              103        DIALYSIS   \n",
              "5    ESRD HEMO INPT DIALYSIS UNIT              103        DIALYSIS   \n",
              "6                CCPD CYCLER INPT              103        DIALYSIS   \n",
              "7  NONESRD ULTRAFLTR IP DIALY UNI              103        DIALYSIS   \n",
              "8        ESRD ULTRAFLTR INPT UNIT              103        DIALYSIS   \n",
              "9  ESRD ULTRAFLTR IP DIALYSIS UNI              103        DIALYSIS   \n",
              "\n",
              "  EFFECTIVE DATE  RATE CHARGED  TP RATE (340B) GENERAL CPT4 CODE  \\\n",
              "0        12/1/18        2150.0             0.0             90935   \n",
              "1        12/1/18        1500.0             0.0             90935   \n",
              "2         1/1/19        1150.0             0.0             90945   \n",
              "3        12/1/18        1500.0             0.0             G0257   \n",
              "4        12/1/18        1700.0             0.0             90935   \n",
              "5        12/1/18        1500.0             0.0             90935   \n",
              "6         1/1/19        1150.0             0.0             90945   \n",
              "7        12/1/18        1150.0             0.0             90945   \n",
              "8         1/1/19        1150.0             0.0             90945   \n",
              "9        12/1/18        1150.0             0.0             90945   \n",
              "\n",
              "  GENERAL MODIFER 1  ... BC IP MODIFIER2 EFF DATE  BC OP REV CODE  \\\n",
              "0               NaN  ...                      NaN             NaN   \n",
              "1               NaN  ...                      NaN             NaN   \n",
              "2               NaN  ...                      NaN             NaN   \n",
              "3               NaN  ...                      NaN             NaN   \n",
              "4               NaN  ...                      NaN             NaN   \n",
              "5               NaN  ...                      NaN             NaN   \n",
              "6               NaN  ...                      NaN             NaN   \n",
              "7               NaN  ...                      NaN             NaN   \n",
              "8               NaN  ...                      NaN             NaN   \n",
              "9               NaN  ...                      NaN             NaN   \n",
              "\n",
              "  BC OP HCPCS CODE BC OP HCPCS EFF DATE BC OP MODIFIER1  \\\n",
              "0              NaN                  NaN             NaN   \n",
              "1              NaN                  NaN             NaN   \n",
              "2              NaN                  NaN             NaN   \n",
              "3              NaN                  NaN             NaN   \n",
              "4              NaN                  NaN             NaN   \n",
              "5              NaN                  NaN             NaN   \n",
              "6              NaN                  NaN             NaN   \n",
              "7              NaN                  NaN             NaN   \n",
              "8              NaN                  NaN             NaN   \n",
              "9              NaN                  NaN             NaN   \n",
              "\n",
              "  BC OP MODIFIER1 EFF DATE  BC OP MODIFIER2 BC OP MODIFIER2 EFF DATE  \\\n",
              "0                      NaN              NaN                      NaN   \n",
              "1                      NaN              NaN                      NaN   \n",
              "2                      NaN              NaN                      NaN   \n",
              "3                      NaN              NaN                      NaN   \n",
              "4                      NaN              NaN                      NaN   \n",
              "5                      NaN              NaN                      NaN   \n",
              "6                      NaN              NaN                      NaN   \n",
              "7                      NaN              NaN                      NaN   \n",
              "8                      NaN              NaN                      NaN   \n",
              "9                      NaN              NaN                      NaN   \n",
              "\n",
              "   REVENUE CODE INPATIENT REVENUE CODE OUTPATIENT  \n",
              "0                   801.0                   801.0  \n",
              "1                   821.0                   821.0  \n",
              "2                   803.0                   803.0  \n",
              "3                   821.0                   821.0  \n",
              "4                   801.0                   801.0  \n",
              "5                   801.0                   801.0  \n",
              "6                   804.0                   804.0  \n",
              "7                   881.0                   881.0  \n",
              "8                   881.0                   881.0  \n",
              "9                   881.0                   881.0  \n",
              "\n",
              "[10 rows x 55 columns]"
            ],
            "text/html": [
              "\n",
              "  <div id=\"df-12d6370c-f10a-4ff7-9810-84193537623d\" class=\"colab-df-container\">\n",
              "    <div>\n",
              "<style scoped>\n",
              "    .dataframe tbody tr th:only-of-type {\n",
              "        vertical-align: middle;\n",
              "    }\n",
              "\n",
              "    .dataframe tbody tr th {\n",
              "        vertical-align: top;\n",
              "    }\n",
              "\n",
              "    .dataframe thead th {\n",
              "        text-align: right;\n",
              "    }\n",
              "</style>\n",
              "<table border=\"1\" class=\"dataframe\">\n",
              "  <thead>\n",
              "    <tr style=\"text-align: right;\">\n",
              "      <th></th>\n",
              "      <th>CHARGE CODE</th>\n",
              "      <th>CHARGE DESC</th>\n",
              "      <th>ALTERNATE DESCRIPTION</th>\n",
              "      <th>DEPARTMENT CODE</th>\n",
              "      <th>DEPARTMENT NAME</th>\n",
              "      <th>EFFECTIVE DATE</th>\n",
              "      <th>RATE CHARGED</th>\n",
              "      <th>TP RATE (340B)</th>\n",
              "      <th>GENERAL CPT4 CODE</th>\n",
              "      <th>GENERAL MODIFER 1</th>\n",
              "      <th>...</th>\n",
              "      <th>BC IP MODIFIER2 EFF DATE</th>\n",
              "      <th>BC OP REV CODE</th>\n",
              "      <th>BC OP HCPCS CODE</th>\n",
              "      <th>BC OP HCPCS EFF DATE</th>\n",
              "      <th>BC OP MODIFIER1</th>\n",
              "      <th>BC OP MODIFIER1 EFF DATE</th>\n",
              "      <th>BC OP MODIFIER2</th>\n",
              "      <th>BC OP MODIFIER2 EFF DATE</th>\n",
              "      <th>REVENUE CODE INPATIENT</th>\n",
              "      <th>REVENUE CODE OUTPATIENT</th>\n",
              "    </tr>\n",
              "  </thead>\n",
              "  <tbody>\n",
              "    <tr>\n",
              "      <th>0</th>\n",
              "      <td>10300300</td>\n",
              "      <td>NON ESRD HEMO INPT UNIT</td>\n",
              "      <td>NON ESRD HEMO INPT UNIT</td>\n",
              "      <td>103</td>\n",
              "      <td>DIALYSIS</td>\n",
              "      <td>12/1/18</td>\n",
              "      <td>2150.0</td>\n",
              "      <td>0.0</td>\n",
              "      <td>90935</td>\n",
              "      <td>NaN</td>\n",
              "      <td>...</td>\n",
              "      <td>NaN</td>\n",
              "      <td>NaN</td>\n",
              "      <td>NaN</td>\n",
              "      <td>NaN</td>\n",
              "      <td>NaN</td>\n",
              "      <td>NaN</td>\n",
              "      <td>NaN</td>\n",
              "      <td>NaN</td>\n",
              "      <td>801.0</td>\n",
              "      <td>801.0</td>\n",
              "    </tr>\n",
              "    <tr>\n",
              "      <th>1</th>\n",
              "      <td>10300500</td>\n",
              "      <td>NON ESRD HEMO ED IN DIALYS UNI</td>\n",
              "      <td>NON ESRD HEMO ED IN DIALYS UNI</td>\n",
              "      <td>103</td>\n",
              "      <td>DIALYSIS</td>\n",
              "      <td>12/1/18</td>\n",
              "      <td>1500.0</td>\n",
              "      <td>0.0</td>\n",
              "      <td>90935</td>\n",
              "      <td>NaN</td>\n",
              "      <td>...</td>\n",
              "      <td>NaN</td>\n",
              "      <td>NaN</td>\n",
              "      <td>NaN</td>\n",
              "      <td>NaN</td>\n",
              "      <td>NaN</td>\n",
              "      <td>NaN</td>\n",
              "      <td>NaN</td>\n",
              "      <td>NaN</td>\n",
              "      <td>821.0</td>\n",
              "      <td>821.0</td>\n",
              "    </tr>\n",
              "    <tr>\n",
              "      <th>2</th>\n",
              "      <td>10300600</td>\n",
              "      <td>INPT CAPD TREATMENT</td>\n",
              "      <td>INPT CAPD TREATMENT</td>\n",
              "      <td>103</td>\n",
              "      <td>DIALYSIS</td>\n",
              "      <td>1/1/19</td>\n",
              "      <td>1150.0</td>\n",
              "      <td>0.0</td>\n",
              "      <td>90945</td>\n",
              "      <td>NaN</td>\n",
              "      <td>...</td>\n",
              "      <td>NaN</td>\n",
              "      <td>NaN</td>\n",
              "      <td>NaN</td>\n",
              "      <td>NaN</td>\n",
              "      <td>NaN</td>\n",
              "      <td>NaN</td>\n",
              "      <td>NaN</td>\n",
              "      <td>NaN</td>\n",
              "      <td>803.0</td>\n",
              "      <td>803.0</td>\n",
              "    </tr>\n",
              "    <tr>\n",
              "      <th>3</th>\n",
              "      <td>10300700</td>\n",
              "      <td>ESRD HEMO ED IN DIALYS UNIT</td>\n",
              "      <td>ESRD HEMO ED IN DIALYS UNIT</td>\n",
              "      <td>103</td>\n",
              "      <td>DIALYSIS</td>\n",
              "      <td>12/1/18</td>\n",
              "      <td>1500.0</td>\n",
              "      <td>0.0</td>\n",
              "      <td>G0257</td>\n",
              "      <td>NaN</td>\n",
              "      <td>...</td>\n",
              "      <td>NaN</td>\n",
              "      <td>NaN</td>\n",
              "      <td>NaN</td>\n",
              "      <td>NaN</td>\n",
              "      <td>NaN</td>\n",
              "      <td>NaN</td>\n",
              "      <td>NaN</td>\n",
              "      <td>NaN</td>\n",
              "      <td>821.0</td>\n",
              "      <td>821.0</td>\n",
              "    </tr>\n",
              "    <tr>\n",
              "      <th>4</th>\n",
              "      <td>10300800</td>\n",
              "      <td>ESRD HEMO INPT UNIT</td>\n",
              "      <td>ESRD HEMO INPT UNIT</td>\n",
              "      <td>103</td>\n",
              "      <td>DIALYSIS</td>\n",
              "      <td>12/1/18</td>\n",
              "      <td>1700.0</td>\n",
              "      <td>0.0</td>\n",
              "      <td>90935</td>\n",
              "      <td>NaN</td>\n",
              "      <td>...</td>\n",
              "      <td>NaN</td>\n",
              "      <td>NaN</td>\n",
              "      <td>NaN</td>\n",
              "      <td>NaN</td>\n",
              "      <td>NaN</td>\n",
              "      <td>NaN</td>\n",
              "      <td>NaN</td>\n",
              "      <td>NaN</td>\n",
              "      <td>801.0</td>\n",
              "      <td>801.0</td>\n",
              "    </tr>\n",
              "    <tr>\n",
              "      <th>5</th>\n",
              "      <td>10301000</td>\n",
              "      <td>ESRD HEMO INPT DIALYSIS UNIT</td>\n",
              "      <td>ESRD HEMO INPT DIALYSIS UNIT</td>\n",
              "      <td>103</td>\n",
              "      <td>DIALYSIS</td>\n",
              "      <td>12/1/18</td>\n",
              "      <td>1500.0</td>\n",
              "      <td>0.0</td>\n",
              "      <td>90935</td>\n",
              "      <td>NaN</td>\n",
              "      <td>...</td>\n",
              "      <td>NaN</td>\n",
              "      <td>NaN</td>\n",
              "      <td>NaN</td>\n",
              "      <td>NaN</td>\n",
              "      <td>NaN</td>\n",
              "      <td>NaN</td>\n",
              "      <td>NaN</td>\n",
              "      <td>NaN</td>\n",
              "      <td>801.0</td>\n",
              "      <td>801.0</td>\n",
              "    </tr>\n",
              "    <tr>\n",
              "      <th>6</th>\n",
              "      <td>10303200</td>\n",
              "      <td>CCPD CYCLER INPT</td>\n",
              "      <td>CCPD CYCLER INPT</td>\n",
              "      <td>103</td>\n",
              "      <td>DIALYSIS</td>\n",
              "      <td>1/1/19</td>\n",
              "      <td>1150.0</td>\n",
              "      <td>0.0</td>\n",
              "      <td>90945</td>\n",
              "      <td>NaN</td>\n",
              "      <td>...</td>\n",
              "      <td>NaN</td>\n",
              "      <td>NaN</td>\n",
              "      <td>NaN</td>\n",
              "      <td>NaN</td>\n",
              "      <td>NaN</td>\n",
              "      <td>NaN</td>\n",
              "      <td>NaN</td>\n",
              "      <td>NaN</td>\n",
              "      <td>804.0</td>\n",
              "      <td>804.0</td>\n",
              "    </tr>\n",
              "    <tr>\n",
              "      <th>7</th>\n",
              "      <td>10303400</td>\n",
              "      <td>NONESRD ULTRAFLTR IP DIALY UNI</td>\n",
              "      <td>NONESRD ULTRAFLTR IP DIALY UNI</td>\n",
              "      <td>103</td>\n",
              "      <td>DIALYSIS</td>\n",
              "      <td>12/1/18</td>\n",
              "      <td>1150.0</td>\n",
              "      <td>0.0</td>\n",
              "      <td>90945</td>\n",
              "      <td>NaN</td>\n",
              "      <td>...</td>\n",
              "      <td>NaN</td>\n",
              "      <td>NaN</td>\n",
              "      <td>NaN</td>\n",
              "      <td>NaN</td>\n",
              "      <td>NaN</td>\n",
              "      <td>NaN</td>\n",
              "      <td>NaN</td>\n",
              "      <td>NaN</td>\n",
              "      <td>881.0</td>\n",
              "      <td>881.0</td>\n",
              "    </tr>\n",
              "    <tr>\n",
              "      <th>8</th>\n",
              "      <td>10304600</td>\n",
              "      <td>ESRD ULTRAFLTR INPT UNIT</td>\n",
              "      <td>ESRD ULTRAFLTR INPT UNIT</td>\n",
              "      <td>103</td>\n",
              "      <td>DIALYSIS</td>\n",
              "      <td>1/1/19</td>\n",
              "      <td>1150.0</td>\n",
              "      <td>0.0</td>\n",
              "      <td>90945</td>\n",
              "      <td>NaN</td>\n",
              "      <td>...</td>\n",
              "      <td>NaN</td>\n",
              "      <td>NaN</td>\n",
              "      <td>NaN</td>\n",
              "      <td>NaN</td>\n",
              "      <td>NaN</td>\n",
              "      <td>NaN</td>\n",
              "      <td>NaN</td>\n",
              "      <td>NaN</td>\n",
              "      <td>881.0</td>\n",
              "      <td>881.0</td>\n",
              "    </tr>\n",
              "    <tr>\n",
              "      <th>9</th>\n",
              "      <td>10304700</td>\n",
              "      <td>ESRD ULTRAFLTR IP DIALYSIS UNI</td>\n",
              "      <td>ESRD ULTRAFLTR IP DIALYSIS UNI</td>\n",
              "      <td>103</td>\n",
              "      <td>DIALYSIS</td>\n",
              "      <td>12/1/18</td>\n",
              "      <td>1150.0</td>\n",
              "      <td>0.0</td>\n",
              "      <td>90945</td>\n",
              "      <td>NaN</td>\n",
              "      <td>...</td>\n",
              "      <td>NaN</td>\n",
              "      <td>NaN</td>\n",
              "      <td>NaN</td>\n",
              "      <td>NaN</td>\n",
              "      <td>NaN</td>\n",
              "      <td>NaN</td>\n",
              "      <td>NaN</td>\n",
              "      <td>NaN</td>\n",
              "      <td>881.0</td>\n",
              "      <td>881.0</td>\n",
              "    </tr>\n",
              "  </tbody>\n",
              "</table>\n",
              "<p>10 rows × 55 columns</p>\n",
              "</div>\n",
              "    <div class=\"colab-df-buttons\">\n",
              "\n",
              "  <div class=\"colab-df-container\">\n",
              "    <button class=\"colab-df-convert\" onclick=\"convertToInteractive('df-12d6370c-f10a-4ff7-9810-84193537623d')\"\n",
              "            title=\"Convert this dataframe to an interactive table.\"\n",
              "            style=\"display:none;\">\n",
              "\n",
              "  <svg xmlns=\"http://www.w3.org/2000/svg\" height=\"24px\" viewBox=\"0 -960 960 960\">\n",
              "    <path d=\"M120-120v-720h720v720H120Zm60-500h600v-160H180v160Zm220 220h160v-160H400v160Zm0 220h160v-160H400v160ZM180-400h160v-160H180v160Zm440 0h160v-160H620v160ZM180-180h160v-160H180v160Zm440 0h160v-160H620v160Z\"/>\n",
              "  </svg>\n",
              "    </button>\n",
              "\n",
              "  <style>\n",
              "    .colab-df-container {\n",
              "      display:flex;\n",
              "      gap: 12px;\n",
              "    }\n",
              "\n",
              "    .colab-df-convert {\n",
              "      background-color: #E8F0FE;\n",
              "      border: none;\n",
              "      border-radius: 50%;\n",
              "      cursor: pointer;\n",
              "      display: none;\n",
              "      fill: #1967D2;\n",
              "      height: 32px;\n",
              "      padding: 0 0 0 0;\n",
              "      width: 32px;\n",
              "    }\n",
              "\n",
              "    .colab-df-convert:hover {\n",
              "      background-color: #E2EBFA;\n",
              "      box-shadow: 0px 1px 2px rgba(60, 64, 67, 0.3), 0px 1px 3px 1px rgba(60, 64, 67, 0.15);\n",
              "      fill: #174EA6;\n",
              "    }\n",
              "\n",
              "    .colab-df-buttons div {\n",
              "      margin-bottom: 4px;\n",
              "    }\n",
              "\n",
              "    [theme=dark] .colab-df-convert {\n",
              "      background-color: #3B4455;\n",
              "      fill: #D2E3FC;\n",
              "    }\n",
              "\n",
              "    [theme=dark] .colab-df-convert:hover {\n",
              "      background-color: #434B5C;\n",
              "      box-shadow: 0px 1px 3px 1px rgba(0, 0, 0, 0.15);\n",
              "      filter: drop-shadow(0px 1px 2px rgba(0, 0, 0, 0.3));\n",
              "      fill: #FFFFFF;\n",
              "    }\n",
              "  </style>\n",
              "\n",
              "    <script>\n",
              "      const buttonEl =\n",
              "        document.querySelector('#df-12d6370c-f10a-4ff7-9810-84193537623d button.colab-df-convert');\n",
              "      buttonEl.style.display =\n",
              "        google.colab.kernel.accessAllowed ? 'block' : 'none';\n",
              "\n",
              "      async function convertToInteractive(key) {\n",
              "        const element = document.querySelector('#df-12d6370c-f10a-4ff7-9810-84193537623d');\n",
              "        const dataTable =\n",
              "          await google.colab.kernel.invokeFunction('convertToInteractive',\n",
              "                                                    [key], {});\n",
              "        if (!dataTable) return;\n",
              "\n",
              "        const docLinkHtml = 'Like what you see? Visit the ' +\n",
              "          '<a target=\"_blank\" href=https://colab.research.google.com/notebooks/data_table.ipynb>data table notebook</a>'\n",
              "          + ' to learn more about interactive tables.';\n",
              "        element.innerHTML = '';\n",
              "        dataTable['output_type'] = 'display_data';\n",
              "        await google.colab.output.renderOutput(dataTable, element);\n",
              "        const docLink = document.createElement('div');\n",
              "        docLink.innerHTML = docLinkHtml;\n",
              "        element.appendChild(docLink);\n",
              "      }\n",
              "    </script>\n",
              "  </div>\n",
              "\n",
              "\n",
              "<div id=\"df-b5114fed-ad17-4dfb-b7c7-981ea4b01014\">\n",
              "  <button class=\"colab-df-quickchart\" onclick=\"quickchart('df-b5114fed-ad17-4dfb-b7c7-981ea4b01014')\"\n",
              "            title=\"Suggest charts.\"\n",
              "            style=\"display:none;\">\n",
              "\n",
              "<svg xmlns=\"http://www.w3.org/2000/svg\" height=\"24px\"viewBox=\"0 0 24 24\"\n",
              "     width=\"24px\">\n",
              "    <g>\n",
              "        <path d=\"M19 3H5c-1.1 0-2 .9-2 2v14c0 1.1.9 2 2 2h14c1.1 0 2-.9 2-2V5c0-1.1-.9-2-2-2zM9 17H7v-7h2v7zm4 0h-2V7h2v10zm4 0h-2v-4h2v4z\"/>\n",
              "    </g>\n",
              "</svg>\n",
              "  </button>\n",
              "\n",
              "<style>\n",
              "  .colab-df-quickchart {\n",
              "      --bg-color: #E8F0FE;\n",
              "      --fill-color: #1967D2;\n",
              "      --hover-bg-color: #E2EBFA;\n",
              "      --hover-fill-color: #174EA6;\n",
              "      --disabled-fill-color: #AAA;\n",
              "      --disabled-bg-color: #DDD;\n",
              "  }\n",
              "\n",
              "  [theme=dark] .colab-df-quickchart {\n",
              "      --bg-color: #3B4455;\n",
              "      --fill-color: #D2E3FC;\n",
              "      --hover-bg-color: #434B5C;\n",
              "      --hover-fill-color: #FFFFFF;\n",
              "      --disabled-bg-color: #3B4455;\n",
              "      --disabled-fill-color: #666;\n",
              "  }\n",
              "\n",
              "  .colab-df-quickchart {\n",
              "    background-color: var(--bg-color);\n",
              "    border: none;\n",
              "    border-radius: 50%;\n",
              "    cursor: pointer;\n",
              "    display: none;\n",
              "    fill: var(--fill-color);\n",
              "    height: 32px;\n",
              "    padding: 0;\n",
              "    width: 32px;\n",
              "  }\n",
              "\n",
              "  .colab-df-quickchart:hover {\n",
              "    background-color: var(--hover-bg-color);\n",
              "    box-shadow: 0 1px 2px rgba(60, 64, 67, 0.3), 0 1px 3px 1px rgba(60, 64, 67, 0.15);\n",
              "    fill: var(--button-hover-fill-color);\n",
              "  }\n",
              "\n",
              "  .colab-df-quickchart-complete:disabled,\n",
              "  .colab-df-quickchart-complete:disabled:hover {\n",
              "    background-color: var(--disabled-bg-color);\n",
              "    fill: var(--disabled-fill-color);\n",
              "    box-shadow: none;\n",
              "  }\n",
              "\n",
              "  .colab-df-spinner {\n",
              "    border: 2px solid var(--fill-color);\n",
              "    border-color: transparent;\n",
              "    border-bottom-color: var(--fill-color);\n",
              "    animation:\n",
              "      spin 1s steps(1) infinite;\n",
              "  }\n",
              "\n",
              "  @keyframes spin {\n",
              "    0% {\n",
              "      border-color: transparent;\n",
              "      border-bottom-color: var(--fill-color);\n",
              "      border-left-color: var(--fill-color);\n",
              "    }\n",
              "    20% {\n",
              "      border-color: transparent;\n",
              "      border-left-color: var(--fill-color);\n",
              "      border-top-color: var(--fill-color);\n",
              "    }\n",
              "    30% {\n",
              "      border-color: transparent;\n",
              "      border-left-color: var(--fill-color);\n",
              "      border-top-color: var(--fill-color);\n",
              "      border-right-color: var(--fill-color);\n",
              "    }\n",
              "    40% {\n",
              "      border-color: transparent;\n",
              "      border-right-color: var(--fill-color);\n",
              "      border-top-color: var(--fill-color);\n",
              "    }\n",
              "    60% {\n",
              "      border-color: transparent;\n",
              "      border-right-color: var(--fill-color);\n",
              "    }\n",
              "    80% {\n",
              "      border-color: transparent;\n",
              "      border-right-color: var(--fill-color);\n",
              "      border-bottom-color: var(--fill-color);\n",
              "    }\n",
              "    90% {\n",
              "      border-color: transparent;\n",
              "      border-bottom-color: var(--fill-color);\n",
              "    }\n",
              "  }\n",
              "</style>\n",
              "\n",
              "  <script>\n",
              "    async function quickchart(key) {\n",
              "      const quickchartButtonEl =\n",
              "        document.querySelector('#' + key + ' button');\n",
              "      quickchartButtonEl.disabled = true;  // To prevent multiple clicks.\n",
              "      quickchartButtonEl.classList.add('colab-df-spinner');\n",
              "      try {\n",
              "        const charts = await google.colab.kernel.invokeFunction(\n",
              "            'suggestCharts', [key], {});\n",
              "      } catch (error) {\n",
              "        console.error('Error during call to suggestCharts:', error);\n",
              "      }\n",
              "      quickchartButtonEl.classList.remove('colab-df-spinner');\n",
              "      quickchartButtonEl.classList.add('colab-df-quickchart-complete');\n",
              "    }\n",
              "    (() => {\n",
              "      let quickchartButtonEl =\n",
              "        document.querySelector('#df-b5114fed-ad17-4dfb-b7c7-981ea4b01014 button');\n",
              "      quickchartButtonEl.style.display =\n",
              "        google.colab.kernel.accessAllowed ? 'block' : 'none';\n",
              "    })();\n",
              "  </script>\n",
              "</div>\n",
              "    </div>\n",
              "  </div>\n"
            ]
          },
          "metadata": {},
          "execution_count": 34
        }
      ]
    },
    {
      "cell_type": "code",
      "source": [
        "df.columns"
      ],
      "metadata": {
        "id": "nuCMbx2bLgbE"
      },
      "execution_count": null,
      "outputs": []
    },
    {
      "cell_type": "markdown",
      "source": [
        "## Data cleaning Hospital 1\n",
        "\n"
      ],
      "metadata": {
        "id": "-_wLOMSfLmE2"
      }
    },
    {
      "cell_type": "code",
      "source": [
        "# Drop empty columns\n",
        "df.dropna(how='all', axis=1, inplace=True)\n",
        "print(df)\n",
        "\n",
        "#Results in 114893 rows and 48 columns"
      ],
      "metadata": {
        "id": "l7D0MF-QNlkK"
      },
      "execution_count": null,
      "outputs": []
    },
    {
      "cell_type": "code",
      "source": [
        "# Check for missing values in a column\n",
        "print(df.isnull().sum())\n",
        "# Results in only a few columns not missing values: CHARGE CODE, CHARGE DESC, ALTERNATE DESCRIPTION, DEPARTMENT CODE, DEPARTMENT NAME, EFFECTIVE DATE, RATE CHARGED, TP RATE (340B), REVENUE CODE INPATIENT, REVENUE CODE OUTPATIENT"
      ],
      "metadata": {
        "id": "xDMsAyuzQbun"
      },
      "execution_count": null,
      "outputs": []
    },
    {
      "cell_type": "code",
      "source": [
        "df.drop_duplicates(inplace=True)\n",
        "# No duplicate rows identified"
      ],
      "metadata": {
        "id": "BZdrEUqkQmIJ"
      },
      "execution_count": null,
      "outputs": []
    },
    {
      "cell_type": "code",
      "source": [
        "#Rename columns\n",
        "newDF=df.rename(columns={'CHARGE CODE': 'CHARGEcode', 'CHARGE DESC':'CHARGEdesc', 'ALTERNATE DESCRIPTION': 'ALTdesc', 'DEPARTMENT CODE':'DEPTcode', 'DEPARTMENT NAME':'DEPTname', 'EFFECTIVE DATE':'EFFECTIVEdate', 'RATE CHARGED':'RATEcharged', \"TP RATE (340B)\":'TP_RATE_340B', 'REVENUE CODE INPATIENT':'REVENUEcodeINPT', 'REVENUE CODE OUTPATIENT':'REVENUEcodeOPT'})"
      ],
      "metadata": {
        "id": "wOBhCLFOQl_h"
      },
      "execution_count": null,
      "outputs": []
    },
    {
      "cell_type": "code",
      "source": [
        "print(newDF)"
      ],
      "metadata": {
        "id": "iBoCjXloWLJB"
      },
      "execution_count": null,
      "outputs": []
    },
    {
      "cell_type": "code",
      "source": [
        "df_msq=newDF[['CHARGEcode','CHARGEdesc','ALTdesc','DEPTcode','DEPTname','EFFECTIVEdate','RATEcharged','REVENUEcodeINPT','REVENUEcodeOPT']]"
      ],
      "metadata": {
        "id": "_TBdJ10oQhlw"
      },
      "execution_count": null,
      "outputs": []
    },
    {
      "cell_type": "code",
      "source": [
        "df_msq.to_csv('/content/cleaned_mount-sinai-queens_chargemaster.csv')"
      ],
      "metadata": {
        "id": "e-LEXU3_UDuW"
      },
      "execution_count": null,
      "outputs": []
    },
    {
      "cell_type": "markdown",
      "source": [
        "## Exploratory Analysis Hospital 1\n",
        "\n"
      ],
      "metadata": {
        "id": "f_-UkbPlXTUv"
      }
    },
    {
      "cell_type": "markdown",
      "source": [
        "#### Observations:\n",
        "\n",
        "A lot of missing columns and values; created new dataframe with clean data to remove null values\n",
        "\n",
        "The prescence of outliers created an almost unreadable graph - removed outliers greater than 3 standard deviations\n",
        "\n",
        "Data is heavily skewed to the right\n",
        "\n",
        "Variance between data values is very high (in the thousands)"
      ],
      "metadata": {
        "id": "8_YK9FxWjPEl"
      }
    },
    {
      "cell_type": "code",
      "source": [
        "df_msq.dtypes"
      ],
      "metadata": {
        "colab": {
          "base_uri": "https://localhost:8080/"
        },
        "id": "T6GxZYmoX6mI",
        "outputId": "e78dde1d-d902-4ef1-fac8-bd0330357356"
      },
      "execution_count": null,
      "outputs": [
        {
          "output_type": "execute_result",
          "data": {
            "text/plain": [
              "CHARGEcode          object\n",
              "CHARGEdesc          object\n",
              "ALTdesc             object\n",
              "DEPTcode            object\n",
              "DEPTname            object\n",
              "EFFECTIVEdate       object\n",
              "RATEcharged        float64\n",
              "REVENUEcodeINPT     object\n",
              "REVENUEcodeOPT      object\n",
              "dtype: object"
            ]
          },
          "metadata": {},
          "execution_count": 72
        }
      ]
    },
    {
      "cell_type": "code",
      "source": [
        "# Convert columns to strings\n",
        "df_msq['CHARGEcode'] = df_msq['CHARGEcode'].apply(str)\n",
        "df_msq['DEPTcode'] = df_msq['DEPTcode'].apply(str)\n",
        "df_msq['REVENUEcodeINPT'] = df_msq['REVENUEcodeINPT'].apply(str)\n",
        "df_msq['REVENUEcodeOPT'] = df_msq['REVENUEcodeOPT'].apply(str)"
      ],
      "metadata": {
        "id": "w-RE8Z-WYHj-"
      },
      "execution_count": null,
      "outputs": []
    },
    {
      "cell_type": "code",
      "source": [
        "df_msq.describe()"
      ],
      "metadata": {
        "colab": {
          "base_uri": "https://localhost:8080/",
          "height": 300
        },
        "id": "vUo7MxRIYDeP",
        "outputId": "0228f44f-9c3b-4cd6-99df-ddd0432e1723"
      },
      "execution_count": null,
      "outputs": [
        {
          "output_type": "execute_result",
          "data": {
            "text/plain": [
              "         RATEcharged\n",
              "count  114893.000000\n",
              "mean     2051.366813\n",
              "std      4404.024927\n",
              "min         0.000000\n",
              "25%       164.630000\n",
              "50%       636.180000\n",
              "75%      2226.000000\n",
              "max    318000.000000"
            ],
            "text/html": [
              "\n",
              "  <div id=\"df-c73771e1-e542-491b-bd9b-fc436397b10b\" class=\"colab-df-container\">\n",
              "    <div>\n",
              "<style scoped>\n",
              "    .dataframe tbody tr th:only-of-type {\n",
              "        vertical-align: middle;\n",
              "    }\n",
              "\n",
              "    .dataframe tbody tr th {\n",
              "        vertical-align: top;\n",
              "    }\n",
              "\n",
              "    .dataframe thead th {\n",
              "        text-align: right;\n",
              "    }\n",
              "</style>\n",
              "<table border=\"1\" class=\"dataframe\">\n",
              "  <thead>\n",
              "    <tr style=\"text-align: right;\">\n",
              "      <th></th>\n",
              "      <th>RATEcharged</th>\n",
              "    </tr>\n",
              "  </thead>\n",
              "  <tbody>\n",
              "    <tr>\n",
              "      <th>count</th>\n",
              "      <td>114893.000000</td>\n",
              "    </tr>\n",
              "    <tr>\n",
              "      <th>mean</th>\n",
              "      <td>2051.366813</td>\n",
              "    </tr>\n",
              "    <tr>\n",
              "      <th>std</th>\n",
              "      <td>4404.024927</td>\n",
              "    </tr>\n",
              "    <tr>\n",
              "      <th>min</th>\n",
              "      <td>0.000000</td>\n",
              "    </tr>\n",
              "    <tr>\n",
              "      <th>25%</th>\n",
              "      <td>164.630000</td>\n",
              "    </tr>\n",
              "    <tr>\n",
              "      <th>50%</th>\n",
              "      <td>636.180000</td>\n",
              "    </tr>\n",
              "    <tr>\n",
              "      <th>75%</th>\n",
              "      <td>2226.000000</td>\n",
              "    </tr>\n",
              "    <tr>\n",
              "      <th>max</th>\n",
              "      <td>318000.000000</td>\n",
              "    </tr>\n",
              "  </tbody>\n",
              "</table>\n",
              "</div>\n",
              "    <div class=\"colab-df-buttons\">\n",
              "\n",
              "  <div class=\"colab-df-container\">\n",
              "    <button class=\"colab-df-convert\" onclick=\"convertToInteractive('df-c73771e1-e542-491b-bd9b-fc436397b10b')\"\n",
              "            title=\"Convert this dataframe to an interactive table.\"\n",
              "            style=\"display:none;\">\n",
              "\n",
              "  <svg xmlns=\"http://www.w3.org/2000/svg\" height=\"24px\" viewBox=\"0 -960 960 960\">\n",
              "    <path d=\"M120-120v-720h720v720H120Zm60-500h600v-160H180v160Zm220 220h160v-160H400v160Zm0 220h160v-160H400v160ZM180-400h160v-160H180v160Zm440 0h160v-160H620v160ZM180-180h160v-160H180v160Zm440 0h160v-160H620v160Z\"/>\n",
              "  </svg>\n",
              "    </button>\n",
              "\n",
              "  <style>\n",
              "    .colab-df-container {\n",
              "      display:flex;\n",
              "      gap: 12px;\n",
              "    }\n",
              "\n",
              "    .colab-df-convert {\n",
              "      background-color: #E8F0FE;\n",
              "      border: none;\n",
              "      border-radius: 50%;\n",
              "      cursor: pointer;\n",
              "      display: none;\n",
              "      fill: #1967D2;\n",
              "      height: 32px;\n",
              "      padding: 0 0 0 0;\n",
              "      width: 32px;\n",
              "    }\n",
              "\n",
              "    .colab-df-convert:hover {\n",
              "      background-color: #E2EBFA;\n",
              "      box-shadow: 0px 1px 2px rgba(60, 64, 67, 0.3), 0px 1px 3px 1px rgba(60, 64, 67, 0.15);\n",
              "      fill: #174EA6;\n",
              "    }\n",
              "\n",
              "    .colab-df-buttons div {\n",
              "      margin-bottom: 4px;\n",
              "    }\n",
              "\n",
              "    [theme=dark] .colab-df-convert {\n",
              "      background-color: #3B4455;\n",
              "      fill: #D2E3FC;\n",
              "    }\n",
              "\n",
              "    [theme=dark] .colab-df-convert:hover {\n",
              "      background-color: #434B5C;\n",
              "      box-shadow: 0px 1px 3px 1px rgba(0, 0, 0, 0.15);\n",
              "      filter: drop-shadow(0px 1px 2px rgba(0, 0, 0, 0.3));\n",
              "      fill: #FFFFFF;\n",
              "    }\n",
              "  </style>\n",
              "\n",
              "    <script>\n",
              "      const buttonEl =\n",
              "        document.querySelector('#df-c73771e1-e542-491b-bd9b-fc436397b10b button.colab-df-convert');\n",
              "      buttonEl.style.display =\n",
              "        google.colab.kernel.accessAllowed ? 'block' : 'none';\n",
              "\n",
              "      async function convertToInteractive(key) {\n",
              "        const element = document.querySelector('#df-c73771e1-e542-491b-bd9b-fc436397b10b');\n",
              "        const dataTable =\n",
              "          await google.colab.kernel.invokeFunction('convertToInteractive',\n",
              "                                                    [key], {});\n",
              "        if (!dataTable) return;\n",
              "\n",
              "        const docLinkHtml = 'Like what you see? Visit the ' +\n",
              "          '<a target=\"_blank\" href=https://colab.research.google.com/notebooks/data_table.ipynb>data table notebook</a>'\n",
              "          + ' to learn more about interactive tables.';\n",
              "        element.innerHTML = '';\n",
              "        dataTable['output_type'] = 'display_data';\n",
              "        await google.colab.output.renderOutput(dataTable, element);\n",
              "        const docLink = document.createElement('div');\n",
              "        docLink.innerHTML = docLinkHtml;\n",
              "        element.appendChild(docLink);\n",
              "      }\n",
              "    </script>\n",
              "  </div>\n",
              "\n",
              "\n",
              "<div id=\"df-df9e2b0d-21d9-41fb-9ba0-176b65e62d09\">\n",
              "  <button class=\"colab-df-quickchart\" onclick=\"quickchart('df-df9e2b0d-21d9-41fb-9ba0-176b65e62d09')\"\n",
              "            title=\"Suggest charts.\"\n",
              "            style=\"display:none;\">\n",
              "\n",
              "<svg xmlns=\"http://www.w3.org/2000/svg\" height=\"24px\"viewBox=\"0 0 24 24\"\n",
              "     width=\"24px\">\n",
              "    <g>\n",
              "        <path d=\"M19 3H5c-1.1 0-2 .9-2 2v14c0 1.1.9 2 2 2h14c1.1 0 2-.9 2-2V5c0-1.1-.9-2-2-2zM9 17H7v-7h2v7zm4 0h-2V7h2v10zm4 0h-2v-4h2v4z\"/>\n",
              "    </g>\n",
              "</svg>\n",
              "  </button>\n",
              "\n",
              "<style>\n",
              "  .colab-df-quickchart {\n",
              "      --bg-color: #E8F0FE;\n",
              "      --fill-color: #1967D2;\n",
              "      --hover-bg-color: #E2EBFA;\n",
              "      --hover-fill-color: #174EA6;\n",
              "      --disabled-fill-color: #AAA;\n",
              "      --disabled-bg-color: #DDD;\n",
              "  }\n",
              "\n",
              "  [theme=dark] .colab-df-quickchart {\n",
              "      --bg-color: #3B4455;\n",
              "      --fill-color: #D2E3FC;\n",
              "      --hover-bg-color: #434B5C;\n",
              "      --hover-fill-color: #FFFFFF;\n",
              "      --disabled-bg-color: #3B4455;\n",
              "      --disabled-fill-color: #666;\n",
              "  }\n",
              "\n",
              "  .colab-df-quickchart {\n",
              "    background-color: var(--bg-color);\n",
              "    border: none;\n",
              "    border-radius: 50%;\n",
              "    cursor: pointer;\n",
              "    display: none;\n",
              "    fill: var(--fill-color);\n",
              "    height: 32px;\n",
              "    padding: 0;\n",
              "    width: 32px;\n",
              "  }\n",
              "\n",
              "  .colab-df-quickchart:hover {\n",
              "    background-color: var(--hover-bg-color);\n",
              "    box-shadow: 0 1px 2px rgba(60, 64, 67, 0.3), 0 1px 3px 1px rgba(60, 64, 67, 0.15);\n",
              "    fill: var(--button-hover-fill-color);\n",
              "  }\n",
              "\n",
              "  .colab-df-quickchart-complete:disabled,\n",
              "  .colab-df-quickchart-complete:disabled:hover {\n",
              "    background-color: var(--disabled-bg-color);\n",
              "    fill: var(--disabled-fill-color);\n",
              "    box-shadow: none;\n",
              "  }\n",
              "\n",
              "  .colab-df-spinner {\n",
              "    border: 2px solid var(--fill-color);\n",
              "    border-color: transparent;\n",
              "    border-bottom-color: var(--fill-color);\n",
              "    animation:\n",
              "      spin 1s steps(1) infinite;\n",
              "  }\n",
              "\n",
              "  @keyframes spin {\n",
              "    0% {\n",
              "      border-color: transparent;\n",
              "      border-bottom-color: var(--fill-color);\n",
              "      border-left-color: var(--fill-color);\n",
              "    }\n",
              "    20% {\n",
              "      border-color: transparent;\n",
              "      border-left-color: var(--fill-color);\n",
              "      border-top-color: var(--fill-color);\n",
              "    }\n",
              "    30% {\n",
              "      border-color: transparent;\n",
              "      border-left-color: var(--fill-color);\n",
              "      border-top-color: var(--fill-color);\n",
              "      border-right-color: var(--fill-color);\n",
              "    }\n",
              "    40% {\n",
              "      border-color: transparent;\n",
              "      border-right-color: var(--fill-color);\n",
              "      border-top-color: var(--fill-color);\n",
              "    }\n",
              "    60% {\n",
              "      border-color: transparent;\n",
              "      border-right-color: var(--fill-color);\n",
              "    }\n",
              "    80% {\n",
              "      border-color: transparent;\n",
              "      border-right-color: var(--fill-color);\n",
              "      border-bottom-color: var(--fill-color);\n",
              "    }\n",
              "    90% {\n",
              "      border-color: transparent;\n",
              "      border-bottom-color: var(--fill-color);\n",
              "    }\n",
              "  }\n",
              "</style>\n",
              "\n",
              "  <script>\n",
              "    async function quickchart(key) {\n",
              "      const quickchartButtonEl =\n",
              "        document.querySelector('#' + key + ' button');\n",
              "      quickchartButtonEl.disabled = true;  // To prevent multiple clicks.\n",
              "      quickchartButtonEl.classList.add('colab-df-spinner');\n",
              "      try {\n",
              "        const charts = await google.colab.kernel.invokeFunction(\n",
              "            'suggestCharts', [key], {});\n",
              "      } catch (error) {\n",
              "        console.error('Error during call to suggestCharts:', error);\n",
              "      }\n",
              "      quickchartButtonEl.classList.remove('colab-df-spinner');\n",
              "      quickchartButtonEl.classList.add('colab-df-quickchart-complete');\n",
              "    }\n",
              "    (() => {\n",
              "      let quickchartButtonEl =\n",
              "        document.querySelector('#df-df9e2b0d-21d9-41fb-9ba0-176b65e62d09 button');\n",
              "      quickchartButtonEl.style.display =\n",
              "        google.colab.kernel.accessAllowed ? 'block' : 'none';\n",
              "    })();\n",
              "  </script>\n",
              "</div>\n",
              "    </div>\n",
              "  </div>\n"
            ]
          },
          "metadata": {},
          "execution_count": 86
        }
      ]
    },
    {
      "cell_type": "code",
      "source": [
        "df_msq['CHARGEcode'].value_counts()"
      ],
      "metadata": {
        "colab": {
          "base_uri": "https://localhost:8080/"
        },
        "id": "szl35dw3iXOd",
        "outputId": "6c892549-0d8d-4e5d-ff31-115d9c0a4cc9"
      },
      "execution_count": null,
      "outputs": [
        {
          "output_type": "execute_result",
          "data": {
            "text/plain": [
              "10300300    1\n",
              "70019617    1\n",
              "70019454    1\n",
              "70019453    1\n",
              "70019452    1\n",
              "           ..\n",
              "50024335    1\n",
              "50024334    1\n",
              "50024333    1\n",
              "50024332    1\n",
              "99899993    1\n",
              "Name: CHARGEcode, Length: 114893, dtype: int64"
            ]
          },
          "metadata": {},
          "execution_count": 77
        }
      ]
    },
    {
      "cell_type": "code",
      "source": [
        "df_msq['CHARGEdesc'].value_counts()"
      ],
      "metadata": {
        "colab": {
          "base_uri": "https://localhost:8080/"
        },
        "id": "tNi3GFBgivab",
        "outputId": "648d747a-76b0-4567-9721-fd4742564260"
      },
      "execution_count": null,
      "outputs": [
        {
          "output_type": "execute_result",
          "data": {
            "text/plain": [
              "TIBIAL INSERT W SCREW             53\n",
              "CATH PTA 142CM MARVERCK VARSZ     49\n",
              "STEM 195MM STEM REST MOD CONI     49\n",
              "ERYTHROPOIETIN RECOMBINANT INJ    45\n",
              "SPHINCTER   4.9F   .035/450       42\n",
              "                                  ..\n",
              "CATH  ANGIO 14X2 5.8FR 75CM        1\n",
              "CATH ANGIO 16X2 5.8FR 120CM        1\n",
              "EXTRACTOR STONE RETR BLLN 8.5      1\n",
              "EXTRACTOR RETRIEV BLLN 12-15M      1\n",
              "LEFT WITHOUT BEEN SEEN/ERRONEO     1\n",
              "Name: CHARGEdesc, Length: 76586, dtype: int64"
            ]
          },
          "metadata": {},
          "execution_count": 78
        }
      ]
    },
    {
      "cell_type": "code",
      "source": [
        "df_msq['ALTdesc'].value_counts()"
      ],
      "metadata": {
        "colab": {
          "base_uri": "https://localhost:8080/"
        },
        "id": "s_YVm87_ixRc",
        "outputId": "fc995e6c-4e3e-4286-bd11-5de379e55348"
      },
      "execution_count": null,
      "outputs": [
        {
          "output_type": "execute_result",
          "data": {
            "text/plain": [
              "TIBIAL INSERT W SCREW             53\n",
              "STEM 195MM STEM REST MOD CONI     49\n",
              "CATH PTA 142CM MARVERCK VARSZ     49\n",
              "ERYTHROPOIETIN RECOMBINANT INJ    45\n",
              "SPHINCTER   4.9F   .035/450       42\n",
              "                                  ..\n",
              "GRAFT HEMA MICROVEL22 X30CM        1\n",
              "BALLOON  PULMONARY 8.5MM           1\n",
              "CATH  CONTRA ANGIOG 5 FR 65        1\n",
              "CATH ULTRA BLLN DIL 3X2  75CM      1\n",
              "LEFT WITHOUT BEEN SEEN/ERRONEO     1\n",
              "Name: ALTdesc, Length: 76591, dtype: int64"
            ]
          },
          "metadata": {},
          "execution_count": 79
        }
      ]
    },
    {
      "cell_type": "code",
      "source": [
        "df_msq['DEPTcode'].value_counts()"
      ],
      "metadata": {
        "colab": {
          "base_uri": "https://localhost:8080/"
        },
        "id": "EGkUmqBdiyVo",
        "outputId": "34e06b7d-2139-4272-908f-d4cb618147e9"
      },
      "execution_count": null,
      "outputs": [
        {
          "output_type": "execute_result",
          "data": {
            "text/plain": [
              "700    47056\n",
              "500    31710\n",
              "184     7320\n",
              "800     6480\n",
              "415     4452\n",
              "       ...  \n",
              "162        2\n",
              "626        1\n",
              "310        1\n",
              "994        1\n",
              "998        1\n",
              "Name: DEPTcode, Length: 75, dtype: int64"
            ]
          },
          "metadata": {},
          "execution_count": 80
        }
      ]
    },
    {
      "cell_type": "code",
      "source": [
        "df_msq['DEPTname'].value_counts()"
      ],
      "metadata": {
        "colab": {
          "base_uri": "https://localhost:8080/"
        },
        "id": "yyp4Hy6IiyF-",
        "outputId": "e2514982-d787-4983-a683-eb10fbbf579d"
      },
      "execution_count": null,
      "outputs": [
        {
          "output_type": "execute_result",
          "data": {
            "text/plain": [
              "OR OPTIME SUPPLIES 700      47056\n",
              "OR SUPPLIES A00             31710\n",
              "PHARMACY                    11772\n",
              "OR OPTIME SUPPLIES 800       6480\n",
              "OR SUPPLIES X21- IR          4028\n",
              "                            ...  \n",
              "AMBULATORY SERV. TESTING        2\n",
              "AMBULATORY SURGERY              2\n",
              "BALANCE FORWARD                 1\n",
              "ROOM & BOARD ICU                1\n",
              "MISCELLANEOUS                   1\n",
              "Name: DEPTname, Length: 71, dtype: int64"
            ]
          },
          "metadata": {},
          "execution_count": 81
        }
      ]
    },
    {
      "cell_type": "code",
      "source": [
        "df_msq['RATEcharged'].value_counts()"
      ],
      "metadata": {
        "colab": {
          "base_uri": "https://localhost:8080/"
        },
        "id": "Eqvov_z8ixqY",
        "outputId": "4548285e-8d01-4056-aea9-223b706a4dbd"
      },
      "execution_count": null,
      "outputs": [
        {
          "output_type": "execute_result",
          "data": {
            "text/plain": [
              "1.00       952\n",
              "300.00     717\n",
              "0.00       677\n",
              "250.00     612\n",
              "500.00     573\n",
              "          ... \n",
              "405.10       1\n",
              "455.54       1\n",
              "414.20       1\n",
              "2582.00      1\n",
              "220.64       1\n",
              "Name: RATEcharged, Length: 15914, dtype: int64"
            ]
          },
          "metadata": {},
          "execution_count": 82
        }
      ]
    },
    {
      "cell_type": "code",
      "source": [
        "df_msq['REVENUEcodeINPT'].value_counts()"
      ],
      "metadata": {
        "colab": {
          "base_uri": "https://localhost:8080/"
        },
        "id": "V1bQ7r-xi1_Q",
        "outputId": "f60ae62e-bf50-4d5c-8a30-f8b96ff4b6fe"
      },
      "execution_count": null,
      "outputs": [
        {
          "output_type": "execute_result",
          "data": {
            "text/plain": [
              "278.0    82182\n",
              "270.0     7830\n",
              "250.0     7549\n",
              "276.0     3221\n",
              "636.0     2899\n",
              "         ...  \n",
              "381.0        1\n",
              "389.0        1\n",
              "385.0        1\n",
              "303.0        1\n",
              "271.0        1\n",
              "Name: REVENUEcodeINPT, Length: 124, dtype: int64"
            ]
          },
          "metadata": {},
          "execution_count": 83
        }
      ]
    },
    {
      "cell_type": "code",
      "source": [
        "df_msq['REVENUEcodeOPT'].value_counts()"
      ],
      "metadata": {
        "colab": {
          "base_uri": "https://localhost:8080/"
        },
        "id": "kypvDTAAi2Q_",
        "outputId": "a71eff26-b5da-4293-9791-813265435b10"
      },
      "execution_count": null,
      "outputs": [
        {
          "output_type": "execute_result",
          "data": {
            "text/plain": [
              "278.0    82182\n",
              "270.0     7830\n",
              "250.0     7257\n",
              "276.0     3221\n",
              "636.0     3191\n",
              "         ...  \n",
              "381.0        1\n",
              "389.0        1\n",
              "385.0        1\n",
              "303.0        1\n",
              "271.0        1\n",
              "Name: REVENUEcodeOPT, Length: 124, dtype: int64"
            ]
          },
          "metadata": {},
          "execution_count": 84
        }
      ]
    },
    {
      "cell_type": "code",
      "source": [
        "# Data distribution\n",
        "\n",
        "# Calculate mean, median, and mode\n",
        "mean= df_msq['RATEcharged'].mean()\n",
        "median = df_msq['RATEcharged'].median()\n",
        "mode = df_msq['RATEcharged'].mode().iloc[0]\n",
        "print(\"Mean is:\", mean)\n",
        "print(\"Median is:\", median)\n",
        "print(\"Mode is: \", mode)\n",
        "# Calculate range\n",
        "range  = df_msq['RATEcharged'].max() - df_msq['RATEcharged'].min()\n",
        "print(\"Range is:\", range)\n",
        "# Calculate variance and standard deviation\n",
        "variance = np.var(df_msq['RATEcharged'])\n",
        "print(\"Variance is: \",variance)\n",
        "std_dev = np.std(df_msq['RATEcharged'])\n",
        "print(\"Standard Deviation is:\", std_dev)"
      ],
      "metadata": {
        "colab": {
          "base_uri": "https://localhost:8080/"
        },
        "id": "hgKRLtRvXern",
        "outputId": "8d8669ca-23b8-4b5e-c40e-3011e7ad7b8e"
      },
      "execution_count": null,
      "outputs": [
        {
          "output_type": "stream",
          "name": "stdout",
          "text": [
            "Mean is: 2051.366812512512\n",
            "Median is: 636.18\n",
            "Mode is:  1.0\n",
            "Range is: 318000.0\n",
            "Variance is:  19395266.741329383\n",
            "Standard Deviation is: 4404.005760819277\n"
          ]
        }
      ]
    },
    {
      "cell_type": "code",
      "source": [
        "# Remove outliers by only allowing data within 3 standard deviations\n",
        "df_cleaned = df_msq[df_msq['RATEcharged']<= std_dev*3]"
      ],
      "metadata": {
        "id": "32QzOR6bo4CJ"
      },
      "execution_count": null,
      "outputs": []
    },
    {
      "cell_type": "code",
      "source": [
        "# Create a histogram\n",
        "plt.hist(df_cleaned['RATEcharged'], bins=30, density=True, alpha=0.7, color='purple', label='Histogram')\n",
        "\n",
        "# Create a probability density function (PDF) curve\n",
        "x = np.linspace(min(df_cleaned['RATEcharged']), max(df_cleaned['RATEcharged']),100)\n",
        "pdf = (1/(std_dev * np.sqrt(2*np.pi))) * np.exp(-(x - mean)**2 / (2*std_dev**2))\n",
        "plt.plot(x, pdf, color='blue', label='PDF')\n",
        "\n",
        "plt.title('Distribution of Rates Charged ($)')\n",
        "plt.xlabel('Rate Charged ($)')\n",
        "plt.ylabel('Probability Density')\n",
        "plt.legend()\n",
        "plt.grid(True)\n",
        "plt.show()"
      ],
      "metadata": {
        "colab": {
          "base_uri": "https://localhost:8080/",
          "height": 472
        },
        "id": "elu-_0mhpJd1",
        "outputId": "05c0d5b7-1799-4178-9f95-4f36d53404ef"
      },
      "execution_count": null,
      "outputs": [
        {
          "output_type": "display_data",
          "data": {
            "text/plain": [
              "<Figure size 640x480 with 1 Axes>"
            ],
            "image/png": "[encoded data removed]"
          },
          "metadata": {}
        }
      ]
    },
    {
      "cell_type": "code",
      "source": [
        "df_cleaned.to_csv('/content/outliers_rem_cleaned_mount-sinai-queens_chargemaster.csv')"
      ],
      "metadata": {
        "id": "lTd_BXZQqEyn"
      },
      "execution_count": null,
      "outputs": []
    },
    {
      "cell_type": "markdown",
      "source": [
        "# Hospital Dataset 2: New York Presbyterian"
      ],
      "metadata": {
        "id": "N8qmGpHpKsOW"
      }
    },
    {
      "cell_type": "markdown",
      "source": [
        "## Import data Hospital 2"
      ],
      "metadata": {
        "id": "zCAUuWR1K6Fn"
      }
    },
    {
      "cell_type": "code",
      "execution_count": 8,
      "metadata": {
        "id": "DyudjLb2K6Fn"
      },
      "outputs": [],
      "source": [
        "df2 = pd.read_json('/content/133957095_NewYorkPresbyterianHospital_standardcharges.json')"
      ]
    },
    {
      "cell_type": "code",
      "source": [
        "df2.shape\n",
        "#6193 rows and 47 columns"
      ],
      "metadata": {
        "colab": {
          "base_uri": "https://localhost:8080/"
        },
        "outputId": "b1bc36d6-e5df-41c7-d334-fe1578efd1cc",
        "id": "duBWxYSrK6Fo"
      },
      "execution_count": 9,
      "outputs": [
        {
          "output_type": "execute_result",
          "data": {
            "text/plain": [
              "(6193, 47)"
            ]
          },
          "metadata": {},
          "execution_count": 9
        }
      ]
    },
    {
      "cell_type": "code",
      "source": [
        "df2.head(10)"
      ],
      "metadata": {
        "colab": {
          "base_uri": "https://localhost:8080/",
          "height": 777
        },
        "outputId": "35182bb2-8028-44ab-b29d-d5dce762ab79",
        "id": "at3DRsfgK6Fo"
      },
      "execution_count": 10,
      "outputs": [
        {
          "output_type": "execute_result",
          "data": {
            "text/plain": [
              "  Code (CPT/DRG)                                        Description Rev Code  \\\n",
              "0          96360        HC IV INFUSION HYDRATION INITIAL 31 MIN-1HR     0260   \n",
              "1          96361            HC IV INFUSION HYDRATION FLUIDS ADDL HR     0260   \n",
              "2          96365  HC IV INFUSION FOR THER/PROPH/DIAG INITIAL UP ...     0260   \n",
              "3          96367  HC IV INF THER/PROPH/DIAG ADDL SEQ NEW DRUG UP...     0260   \n",
              "4          96368      HC IV INFUSION FOR THER/PROPH/DIAG CONCURRENT     0260   \n",
              "5          96369                      HC NON-CHEMO SC INFUSION 1 HR     0260   \n",
              "6          96370              HC NON-CHEMO SC INFUSION EACH ADDL HR     0260   \n",
              "7          96375     HC THERAPEUTIC/PROPH/DIAG INJ IV PUSH ADDL SEQ     0260   \n",
              "8          96376         HC THERAPEUTIC/PROPH/DIAG INJ IV PUSH SAME     0260   \n",
              "9          96377                    HC APPLICATION OF BODY INJECTOR     0260   \n",
              "\n",
              "   Inpatient/Outpatient  Gross Charges  Discounted Cash Price     Aetna  \\\n",
              "0  Inpatient/Outpatient          866.0                  866.0   641.706   \n",
              "1  Inpatient/Outpatient          358.0                  358.0   265.278   \n",
              "2  Inpatient/Outpatient         1397.0                 1397.0  1035.177   \n",
              "3  Inpatient/Outpatient          480.0                  480.0    355.68   \n",
              "4  Inpatient/Outpatient          480.0                  480.0    355.68   \n",
              "5  Inpatient/Outpatient          780.0                  780.0    577.98   \n",
              "6  Inpatient/Outpatient          480.0                  480.0    355.68   \n",
              "7  Inpatient/Outpatient          602.0                  602.0   446.082   \n",
              "8  Inpatient/Outpatient          357.0                  357.0   264.537   \n",
              "9  Inpatient/Outpatient          510.0                  510.0    377.91   \n",
              "\n",
              "     Cigna Empire Blue Cross Blue Shield Emblem Health  ...  \\\n",
              "0  494.486                        640.84      1388.424  ...   \n",
              "1  204.418                        264.92      1305.112  ...   \n",
              "2  797.687                       1033.78      1475.508  ...   \n",
              "3   274.08                         355.2       1325.12  ...   \n",
              "4   274.08                         355.2       1325.12  ...   \n",
              "5   445.38                         577.2       1374.32  ...   \n",
              "6   274.08                         355.2       1325.12  ...   \n",
              "7  343.742                        445.48      1345.128  ...   \n",
              "8  203.847                        264.18      1304.948  ...   \n",
              "9   291.21                         377.4       1330.04  ...   \n",
              "\n",
              "  Consumer Health Network     Devon    Equian First Health Magnacare  \\\n",
              "0                393.5104  393.5104  393.5104     393.5104  393.5104   \n",
              "1                162.6752  162.6752  162.6752     162.6752  162.6752   \n",
              "2                634.7968  634.7968  634.7968     634.7968  634.7968   \n",
              "3                 218.112   218.112   218.112      218.112   218.112   \n",
              "4                 218.112   218.112   218.112      218.112   218.112   \n",
              "5                 354.432   354.432   354.432      354.432   354.432   \n",
              "6                 218.112   218.112   218.112      218.112   218.112   \n",
              "7                273.5488  273.5488  273.5488     273.5488  273.5488   \n",
              "8                162.2208  162.2208  162.2208     162.2208  162.2208   \n",
              "9                 231.744   231.744   231.744      231.744   231.744   \n",
              "\n",
              "  Multiplan/Beechstreet/PHCS       QHM Worldwide Minimum Negotiated Charge  \\\n",
              "0                   393.5104  393.5104  393.5104                 253.04825   \n",
              "1                   162.6752  162.6752  162.6752                  51.90325   \n",
              "2                   634.7968  634.7968  634.7968                 253.04825   \n",
              "3                    218.112   218.112   218.112                  82.65075   \n",
              "4                    218.112   218.112   218.112                 156.98280   \n",
              "5                    354.432   354.432   354.432                 253.04825   \n",
              "6                    218.112   218.112   218.112                  51.90325   \n",
              "7                   273.5488  273.5488  273.5488                  51.90325   \n",
              "8                   162.2208  162.2208  162.2208                 162.22080   \n",
              "9                    231.744   231.744   231.744                  51.90325   \n",
              "\n",
              "  Maximum Negotiated Charge  \n",
              "0               1388.424000  \n",
              "1               1990.891341  \n",
              "2               1475.508000  \n",
              "3               1325.120000  \n",
              "4               1325.120000  \n",
              "5               1374.320000  \n",
              "6               1990.891341  \n",
              "7               1345.128000  \n",
              "8               1304.948000  \n",
              "9               1330.040000  \n",
              "\n",
              "[10 rows x 47 columns]"
            ],
            "text/html": [
              "\n",
              "  <div id=\"df-314c67d2-ac84-41ad-a711-6313f91ecba5\" class=\"colab-df-container\">\n",
              "    <div>\n",
              "<style scoped>\n",
              "    .dataframe tbody tr th:only-of-type {\n",
              "        vertical-align: middle;\n",
              "    }\n",
              "\n",
              "    .dataframe tbody tr th {\n",
              "        vertical-align: top;\n",
              "    }\n",
              "\n",
              "    .dataframe thead th {\n",
              "        text-align: right;\n",
              "    }\n",
              "</style>\n",
              "<table border=\"1\" class=\"dataframe\">\n",
              "  <thead>\n",
              "    <tr style=\"text-align: right;\">\n",
              "      <th></th>\n",
              "      <th>Code (CPT/DRG)</th>\n",
              "      <th>Description</th>\n",
              "      <th>Rev Code</th>\n",
              "      <th>Inpatient/Outpatient</th>\n",
              "      <th>Gross Charges</th>\n",
              "      <th>Discounted Cash Price</th>\n",
              "      <th>Aetna</th>\n",
              "      <th>Cigna</th>\n",
              "      <th>Empire Blue Cross Blue Shield</th>\n",
              "      <th>Emblem Health</th>\n",
              "      <th>...</th>\n",
              "      <th>Consumer Health Network</th>\n",
              "      <th>Devon</th>\n",
              "      <th>Equian</th>\n",
              "      <th>First Health</th>\n",
              "      <th>Magnacare</th>\n",
              "      <th>Multiplan/Beechstreet/PHCS</th>\n",
              "      <th>QHM</th>\n",
              "      <th>Worldwide</th>\n",
              "      <th>Minimum Negotiated Charge</th>\n",
              "      <th>Maximum Negotiated Charge</th>\n",
              "    </tr>\n",
              "  </thead>\n",
              "  <tbody>\n",
              "    <tr>\n",
              "      <th>0</th>\n",
              "      <td>96360</td>\n",
              "      <td>HC IV INFUSION HYDRATION INITIAL 31 MIN-1HR</td>\n",
              "      <td>0260</td>\n",
              "      <td>Inpatient/Outpatient</td>\n",
              "      <td>866.0</td>\n",
              "      <td>866.0</td>\n",
              "      <td>641.706</td>\n",
              "      <td>494.486</td>\n",
              "      <td>640.84</td>\n",
              "      <td>1388.424</td>\n",
              "      <td>...</td>\n",
              "      <td>393.5104</td>\n",
              "      <td>393.5104</td>\n",
              "      <td>393.5104</td>\n",
              "      <td>393.5104</td>\n",
              "      <td>393.5104</td>\n",
              "      <td>393.5104</td>\n",
              "      <td>393.5104</td>\n",
              "      <td>393.5104</td>\n",
              "      <td>253.04825</td>\n",
              "      <td>1388.424000</td>\n",
              "    </tr>\n",
              "    <tr>\n",
              "      <th>1</th>\n",
              "      <td>96361</td>\n",
              "      <td>HC IV INFUSION HYDRATION FLUIDS ADDL HR</td>\n",
              "      <td>0260</td>\n",
              "      <td>Inpatient/Outpatient</td>\n",
              "      <td>358.0</td>\n",
              "      <td>358.0</td>\n",
              "      <td>265.278</td>\n",
              "      <td>204.418</td>\n",
              "      <td>264.92</td>\n",
              "      <td>1305.112</td>\n",
              "      <td>...</td>\n",
              "      <td>162.6752</td>\n",
              "      <td>162.6752</td>\n",
              "      <td>162.6752</td>\n",
              "      <td>162.6752</td>\n",
              "      <td>162.6752</td>\n",
              "      <td>162.6752</td>\n",
              "      <td>162.6752</td>\n",
              "      <td>162.6752</td>\n",
              "      <td>51.90325</td>\n",
              "      <td>1990.891341</td>\n",
              "    </tr>\n",
              "    <tr>\n",
              "      <th>2</th>\n",
              "      <td>96365</td>\n",
              "      <td>HC IV INFUSION FOR THER/PROPH/DIAG INITIAL UP ...</td>\n",
              "      <td>0260</td>\n",
              "      <td>Inpatient/Outpatient</td>\n",
              "      <td>1397.0</td>\n",
              "      <td>1397.0</td>\n",
              "      <td>1035.177</td>\n",
              "      <td>797.687</td>\n",
              "      <td>1033.78</td>\n",
              "      <td>1475.508</td>\n",
              "      <td>...</td>\n",
              "      <td>634.7968</td>\n",
              "      <td>634.7968</td>\n",
              "      <td>634.7968</td>\n",
              "      <td>634.7968</td>\n",
              "      <td>634.7968</td>\n",
              "      <td>634.7968</td>\n",
              "      <td>634.7968</td>\n",
              "      <td>634.7968</td>\n",
              "      <td>253.04825</td>\n",
              "      <td>1475.508000</td>\n",
              "    </tr>\n",
              "    <tr>\n",
              "      <th>3</th>\n",
              "      <td>96367</td>\n",
              "      <td>HC IV INF THER/PROPH/DIAG ADDL SEQ NEW DRUG UP...</td>\n",
              "      <td>0260</td>\n",
              "      <td>Inpatient/Outpatient</td>\n",
              "      <td>480.0</td>\n",
              "      <td>480.0</td>\n",
              "      <td>355.68</td>\n",
              "      <td>274.08</td>\n",
              "      <td>355.2</td>\n",
              "      <td>1325.12</td>\n",
              "      <td>...</td>\n",
              "      <td>218.112</td>\n",
              "      <td>218.112</td>\n",
              "      <td>218.112</td>\n",
              "      <td>218.112</td>\n",
              "      <td>218.112</td>\n",
              "      <td>218.112</td>\n",
              "      <td>218.112</td>\n",
              "      <td>218.112</td>\n",
              "      <td>82.65075</td>\n",
              "      <td>1325.120000</td>\n",
              "    </tr>\n",
              "    <tr>\n",
              "      <th>4</th>\n",
              "      <td>96368</td>\n",
              "      <td>HC IV INFUSION FOR THER/PROPH/DIAG CONCURRENT</td>\n",
              "      <td>0260</td>\n",
              "      <td>Inpatient/Outpatient</td>\n",
              "      <td>480.0</td>\n",
              "      <td>480.0</td>\n",
              "      <td>355.68</td>\n",
              "      <td>274.08</td>\n",
              "      <td>355.2</td>\n",
              "      <td>1325.12</td>\n",
              "      <td>...</td>\n",
              "      <td>218.112</td>\n",
              "      <td>218.112</td>\n",
              "      <td>218.112</td>\n",
              "      <td>218.112</td>\n",
              "      <td>218.112</td>\n",
              "      <td>218.112</td>\n",
              "      <td>218.112</td>\n",
              "      <td>218.112</td>\n",
              "      <td>156.98280</td>\n",
              "      <td>1325.120000</td>\n",
              "    </tr>\n",
              "    <tr>\n",
              "      <th>5</th>\n",
              "      <td>96369</td>\n",
              "      <td>HC NON-CHEMO SC INFUSION 1 HR</td>\n",
              "      <td>0260</td>\n",
              "      <td>Inpatient/Outpatient</td>\n",
              "      <td>780.0</td>\n",
              "      <td>780.0</td>\n",
              "      <td>577.98</td>\n",
              "      <td>445.38</td>\n",
              "      <td>577.2</td>\n",
              "      <td>1374.32</td>\n",
              "      <td>...</td>\n",
              "      <td>354.432</td>\n",
              "      <td>354.432</td>\n",
              "      <td>354.432</td>\n",
              "      <td>354.432</td>\n",
              "      <td>354.432</td>\n",
              "      <td>354.432</td>\n",
              "      <td>354.432</td>\n",
              "      <td>354.432</td>\n",
              "      <td>253.04825</td>\n",
              "      <td>1374.320000</td>\n",
              "    </tr>\n",
              "    <tr>\n",
              "      <th>6</th>\n",
              "      <td>96370</td>\n",
              "      <td>HC NON-CHEMO SC INFUSION EACH ADDL HR</td>\n",
              "      <td>0260</td>\n",
              "      <td>Inpatient/Outpatient</td>\n",
              "      <td>480.0</td>\n",
              "      <td>480.0</td>\n",
              "      <td>355.68</td>\n",
              "      <td>274.08</td>\n",
              "      <td>355.2</td>\n",
              "      <td>1325.12</td>\n",
              "      <td>...</td>\n",
              "      <td>218.112</td>\n",
              "      <td>218.112</td>\n",
              "      <td>218.112</td>\n",
              "      <td>218.112</td>\n",
              "      <td>218.112</td>\n",
              "      <td>218.112</td>\n",
              "      <td>218.112</td>\n",
              "      <td>218.112</td>\n",
              "      <td>51.90325</td>\n",
              "      <td>1990.891341</td>\n",
              "    </tr>\n",
              "    <tr>\n",
              "      <th>7</th>\n",
              "      <td>96375</td>\n",
              "      <td>HC THERAPEUTIC/PROPH/DIAG INJ IV PUSH ADDL SEQ</td>\n",
              "      <td>0260</td>\n",
              "      <td>Inpatient/Outpatient</td>\n",
              "      <td>602.0</td>\n",
              "      <td>602.0</td>\n",
              "      <td>446.082</td>\n",
              "      <td>343.742</td>\n",
              "      <td>445.48</td>\n",
              "      <td>1345.128</td>\n",
              "      <td>...</td>\n",
              "      <td>273.5488</td>\n",
              "      <td>273.5488</td>\n",
              "      <td>273.5488</td>\n",
              "      <td>273.5488</td>\n",
              "      <td>273.5488</td>\n",
              "      <td>273.5488</td>\n",
              "      <td>273.5488</td>\n",
              "      <td>273.5488</td>\n",
              "      <td>51.90325</td>\n",
              "      <td>1345.128000</td>\n",
              "    </tr>\n",
              "    <tr>\n",
              "      <th>8</th>\n",
              "      <td>96376</td>\n",
              "      <td>HC THERAPEUTIC/PROPH/DIAG INJ IV PUSH SAME</td>\n",
              "      <td>0260</td>\n",
              "      <td>Inpatient/Outpatient</td>\n",
              "      <td>357.0</td>\n",
              "      <td>357.0</td>\n",
              "      <td>264.537</td>\n",
              "      <td>203.847</td>\n",
              "      <td>264.18</td>\n",
              "      <td>1304.948</td>\n",
              "      <td>...</td>\n",
              "      <td>162.2208</td>\n",
              "      <td>162.2208</td>\n",
              "      <td>162.2208</td>\n",
              "      <td>162.2208</td>\n",
              "      <td>162.2208</td>\n",
              "      <td>162.2208</td>\n",
              "      <td>162.2208</td>\n",
              "      <td>162.2208</td>\n",
              "      <td>162.22080</td>\n",
              "      <td>1304.948000</td>\n",
              "    </tr>\n",
              "    <tr>\n",
              "      <th>9</th>\n",
              "      <td>96377</td>\n",
              "      <td>HC APPLICATION OF BODY INJECTOR</td>\n",
              "      <td>0260</td>\n",
              "      <td>Inpatient/Outpatient</td>\n",
              "      <td>510.0</td>\n",
              "      <td>510.0</td>\n",
              "      <td>377.91</td>\n",
              "      <td>291.21</td>\n",
              "      <td>377.4</td>\n",
              "      <td>1330.04</td>\n",
              "      <td>...</td>\n",
              "      <td>231.744</td>\n",
              "      <td>231.744</td>\n",
              "      <td>231.744</td>\n",
              "      <td>231.744</td>\n",
              "      <td>231.744</td>\n",
              "      <td>231.744</td>\n",
              "      <td>231.744</td>\n",
              "      <td>231.744</td>\n",
              "      <td>51.90325</td>\n",
              "      <td>1330.040000</td>\n",
              "    </tr>\n",
              "  </tbody>\n",
              "</table>\n",
              "<p>10 rows × 47 columns</p>\n",
              "</div>\n",
              "    <div class=\"colab-df-buttons\">\n",
              "\n",
              "  <div class=\"colab-df-container\">\n",
              "    <button class=\"colab-df-convert\" onclick=\"convertToInteractive('df-314c67d2-ac84-41ad-a711-6313f91ecba5')\"\n",
              "            title=\"Convert this dataframe to an interactive table.\"\n",
              "            style=\"display:none;\">\n",
              "\n",
              "  <svg xmlns=\"http://www.w3.org/2000/svg\" height=\"24px\" viewBox=\"0 -960 960 960\">\n",
              "    <path d=\"M120-120v-720h720v720H120Zm60-500h600v-160H180v160Zm220 220h160v-160H400v160Zm0 220h160v-160H400v160ZM180-400h160v-160H180v160Zm440 0h160v-160H620v160ZM180-180h160v-160H180v160Zm440 0h160v-160H620v160Z\"/>\n",
              "  </svg>\n",
              "    </button>\n",
              "\n",
              "  <style>\n",
              "    .colab-df-container {\n",
              "      display:flex;\n",
              "      gap: 12px;\n",
              "    }\n",
              "\n",
              "    .colab-df-convert {\n",
              "      background-color: #E8F0FE;\n",
              "      border: none;\n",
              "      border-radius: 50%;\n",
              "      cursor: pointer;\n",
              "      display: none;\n",
              "      fill: #1967D2;\n",
              "      height: 32px;\n",
              "      padding: 0 0 0 0;\n",
              "      width: 32px;\n",
              "    }\n",
              "\n",
              "    .colab-df-convert:hover {\n",
              "      background-color: #E2EBFA;\n",
              "      box-shadow: 0px 1px 2px rgba(60, 64, 67, 0.3), 0px 1px 3px 1px rgba(60, 64, 67, 0.15);\n",
              "      fill: #174EA6;\n",
              "    }\n",
              "\n",
              "    .colab-df-buttons div {\n",
              "      margin-bottom: 4px;\n",
              "    }\n",
              "\n",
              "    [theme=dark] .colab-df-convert {\n",
              "      background-color: #3B4455;\n",
              "      fill: #D2E3FC;\n",
              "    }\n",
              "\n",
              "    [theme=dark] .colab-df-convert:hover {\n",
              "      background-color: #434B5C;\n",
              "      box-shadow: 0px 1px 3px 1px rgba(0, 0, 0, 0.15);\n",
              "      filter: drop-shadow(0px 1px 2px rgba(0, 0, 0, 0.3));\n",
              "      fill: #FFFFFF;\n",
              "    }\n",
              "  </style>\n",
              "\n",
              "    <script>\n",
              "      const buttonEl =\n",
              "        document.querySelector('#df-314c67d2-ac84-41ad-a711-6313f91ecba5 button.colab-df-convert');\n",
              "      buttonEl.style.display =\n",
              "        google.colab.kernel.accessAllowed ? 'block' : 'none';\n",
              "\n",
              "      async function convertToInteractive(key) {\n",
              "        const element = document.querySelector('#df-314c67d2-ac84-41ad-a711-6313f91ecba5');\n",
              "        const dataTable =\n",
              "          await google.colab.kernel.invokeFunction('convertToInteractive',\n",
              "                                                    [key], {});\n",
              "        if (!dataTable) return;\n",
              "\n",
              "        const docLinkHtml = 'Like what you see? Visit the ' +\n",
              "          '<a target=\"_blank\" href=https://colab.research.google.com/notebooks/data_table.ipynb>data table notebook</a>'\n",
              "          + ' to learn more about interactive tables.';\n",
              "        element.innerHTML = '';\n",
              "        dataTable['output_type'] = 'display_data';\n",
              "        await google.colab.output.renderOutput(dataTable, element);\n",
              "        const docLink = document.createElement('div');\n",
              "        docLink.innerHTML = docLinkHtml;\n",
              "        element.appendChild(docLink);\n",
              "      }\n",
              "    </script>\n",
              "  </div>\n",
              "\n",
              "\n",
              "<div id=\"df-80e63951-98b3-4b90-9644-e172f8486ca2\">\n",
              "  <button class=\"colab-df-quickchart\" onclick=\"quickchart('df-80e63951-98b3-4b90-9644-e172f8486ca2')\"\n",
              "            title=\"Suggest charts.\"\n",
              "            style=\"display:none;\">\n",
              "\n",
              "<svg xmlns=\"http://www.w3.org/2000/svg\" height=\"24px\"viewBox=\"0 0 24 24\"\n",
              "     width=\"24px\">\n",
              "    <g>\n",
              "        <path d=\"M19 3H5c-1.1 0-2 .9-2 2v14c0 1.1.9 2 2 2h14c1.1 0 2-.9 2-2V5c0-1.1-.9-2-2-2zM9 17H7v-7h2v7zm4 0h-2V7h2v10zm4 0h-2v-4h2v4z\"/>\n",
              "    </g>\n",
              "</svg>\n",
              "  </button>\n",
              "\n",
              "<style>\n",
              "  .colab-df-quickchart {\n",
              "      --bg-color: #E8F0FE;\n",
              "      --fill-color: #1967D2;\n",
              "      --hover-bg-color: #E2EBFA;\n",
              "      --hover-fill-color: #174EA6;\n",
              "      --disabled-fill-color: #AAA;\n",
              "      --disabled-bg-color: #DDD;\n",
              "  }\n",
              "\n",
              "  [theme=dark] .colab-df-quickchart {\n",
              "      --bg-color: #3B4455;\n",
              "      --fill-color: #D2E3FC;\n",
              "      --hover-bg-color: #434B5C;\n",
              "      --hover-fill-color: #FFFFFF;\n",
              "      --disabled-bg-color: #3B4455;\n",
              "      --disabled-fill-color: #666;\n",
              "  }\n",
              "\n",
              "  .colab-df-quickchart {\n",
              "    background-color: var(--bg-color);\n",
              "    border: none;\n",
              "    border-radius: 50%;\n",
              "    cursor: pointer;\n",
              "    display: none;\n",
              "    fill: var(--fill-color);\n",
              "    height: 32px;\n",
              "    padding: 0;\n",
              "    width: 32px;\n",
              "  }\n",
              "\n",
              "  .colab-df-quickchart:hover {\n",
              "    background-color: var(--hover-bg-color);\n",
              "    box-shadow: 0 1px 2px rgba(60, 64, 67, 0.3), 0 1px 3px 1px rgba(60, 64, 67, 0.15);\n",
              "    fill: var(--button-hover-fill-color);\n",
              "  }\n",
              "\n",
              "  .colab-df-quickchart-complete:disabled,\n",
              "  .colab-df-quickchart-complete:disabled:hover {\n",
              "    background-color: var(--disabled-bg-color);\n",
              "    fill: var(--disabled-fill-color);\n",
              "    box-shadow: none;\n",
              "  }\n",
              "\n",
              "  .colab-df-spinner {\n",
              "    border: 2px solid var(--fill-color);\n",
              "    border-color: transparent;\n",
              "    border-bottom-color: var(--fill-color);\n",
              "    animation:\n",
              "      spin 1s steps(1) infinite;\n",
              "  }\n",
              "\n",
              "  @keyframes spin {\n",
              "    0% {\n",
              "      border-color: transparent;\n",
              "      border-bottom-color: var(--fill-color);\n",
              "      border-left-color: var(--fill-color);\n",
              "    }\n",
              "    20% {\n",
              "      border-color: transparent;\n",
              "      border-left-color: var(--fill-color);\n",
              "      border-top-color: var(--fill-color);\n",
              "    }\n",
              "    30% {\n",
              "      border-color: transparent;\n",
              "      border-left-color: var(--fill-color);\n",
              "      border-top-color: var(--fill-color);\n",
              "      border-right-color: var(--fill-color);\n",
              "    }\n",
              "    40% {\n",
              "      border-color: transparent;\n",
              "      border-right-color: var(--fill-color);\n",
              "      border-top-color: var(--fill-color);\n",
              "    }\n",
              "    60% {\n",
              "      border-color: transparent;\n",
              "      border-right-color: var(--fill-color);\n",
              "    }\n",
              "    80% {\n",
              "      border-color: transparent;\n",
              "      border-right-color: var(--fill-color);\n",
              "      border-bottom-color: var(--fill-color);\n",
              "    }\n",
              "    90% {\n",
              "      border-color: transparent;\n",
              "      border-bottom-color: var(--fill-color);\n",
              "    }\n",
              "  }\n",
              "</style>\n",
              "\n",
              "  <script>\n",
              "    async function quickchart(key) {\n",
              "      const quickchartButtonEl =\n",
              "        document.querySelector('#' + key + ' button');\n",
              "      quickchartButtonEl.disabled = true;  // To prevent multiple clicks.\n",
              "      quickchartButtonEl.classList.add('colab-df-spinner');\n",
              "      try {\n",
              "        const charts = await google.colab.kernel.invokeFunction(\n",
              "            'suggestCharts', [key], {});\n",
              "      } catch (error) {\n",
              "        console.error('Error during call to suggestCharts:', error);\n",
              "      }\n",
              "      quickchartButtonEl.classList.remove('colab-df-spinner');\n",
              "      quickchartButtonEl.classList.add('colab-df-quickchart-complete');\n",
              "    }\n",
              "    (() => {\n",
              "      let quickchartButtonEl =\n",
              "        document.querySelector('#df-80e63951-98b3-4b90-9644-e172f8486ca2 button');\n",
              "      quickchartButtonEl.style.display =\n",
              "        google.colab.kernel.accessAllowed ? 'block' : 'none';\n",
              "    })();\n",
              "  </script>\n",
              "</div>\n",
              "    </div>\n",
              "  </div>\n"
            ]
          },
          "metadata": {},
          "execution_count": 10
        }
      ]
    },
    {
      "cell_type": "code",
      "source": [
        "df2.columns"
      ],
      "metadata": {
        "colab": {
          "base_uri": "https://localhost:8080/"
        },
        "id": "12gHhu5mK6Fo",
        "outputId": "11db4517-9102-4ea6-c19d-1b5803cfbd73"
      },
      "execution_count": 11,
      "outputs": [
        {
          "output_type": "execute_result",
          "data": {
            "text/plain": [
              "Index(['Code (CPT/DRG)', 'Description', 'Rev Code', 'Inpatient/Outpatient',\n",
              "       'Gross Charges', 'Discounted Cash Price', 'Aetna', 'Cigna',\n",
              "       'Empire Blue Cross Blue Shield', 'Emblem Health', 'United Health Group',\n",
              "       'Aetna Medicare', 'AgeWell Medicare', 'Emblem Medicare',\n",
              "       'Empire Medicare', 'Fidelis Medicare', 'Healthfirst Medicare',\n",
              "       'UHC Community Plan/United Medicare', 'VNS Medicare',\n",
              "       'WellCare Medicare', '1199', 'Affinity Molina Essential',\n",
              "       'Affinity Molina Medicaid/CHP', 'Amida Care Medicaid',\n",
              "       'Emblem Medicaid/CHP', 'Empire Healthplus Essential',\n",
              "       'Empire Healthplus Exchange', 'Empire Healthplus Medicaid/CHP',\n",
              "       'Fidelis Essential/Exchange', 'Fidelis Medicaid/CHP',\n",
              "       'Healthfirst Essential/Exchange', 'Healthfirst Medicaid/CHP',\n",
              "       'MVP Medicaid/CHP', 'MVP Essential', 'United Community Plan Essential',\n",
              "       'United Community Plan Medicaid', 'VNS Medicaid',\n",
              "       'Consumer Health Network', 'Devon', 'Equian', 'First Health',\n",
              "       'Magnacare', 'Multiplan/Beechstreet/PHCS', 'QHM', 'Worldwide',\n",
              "       'Minimum Negotiated Charge', 'Maximum Negotiated Charge'],\n",
              "      dtype='object')"
            ]
          },
          "metadata": {},
          "execution_count": 11
        }
      ]
    },
    {
      "cell_type": "markdown",
      "source": [
        "## Data cleaning Hospital 2\n",
        "\n"
      ],
      "metadata": {
        "id": "UyU2yq1vIdKn"
      }
    },
    {
      "cell_type": "code",
      "source": [
        "# Drop empty columns\n",
        "df2.dropna(how='all', axis=1, inplace=True)\n",
        "print(df2)\n",
        "\n",
        "#No empty columns dropped"
      ],
      "metadata": {
        "colab": {
          "base_uri": "https://localhost:8080/"
        },
        "id": "uLY8fF-bIdKx",
        "outputId": "a72a530d-a102-4be9-ea7f-fc8695cea17c"
      },
      "execution_count": 12,
      "outputs": [
        {
          "output_type": "stream",
          "name": "stdout",
          "text": [
            "     Code (CPT/DRG)                                        Description  \\\n",
            "0             96360        HC IV INFUSION HYDRATION INITIAL 31 MIN-1HR   \n",
            "1             96361            HC IV INFUSION HYDRATION FLUIDS ADDL HR   \n",
            "2             96365  HC IV INFUSION FOR THER/PROPH/DIAG INITIAL UP ...   \n",
            "3             96367  HC IV INF THER/PROPH/DIAG ADDL SEQ NEW DRUG UP...   \n",
            "4             96368      HC IV INFUSION FOR THER/PROPH/DIAG CONCURRENT   \n",
            "...             ...                                                ...   \n",
            "6188            982  EXTENSIVE O.R. PROCEDURES UNRELATED TO PRINCIP...   \n",
            "6189            983  EXTENSIVE O.R. PROCEDURES UNRELATED TO PRINCIP...   \n",
            "6190            987  NON-EXTENSIVE O.R. PROCEDURES UNRELATED TO PRI...   \n",
            "6191            988  NON-EXTENSIVE O.R. PROCEDURES UNRELATED TO PRI...   \n",
            "6192            989  NON-EXTENSIVE O.R. PROCEDURES UNRELATED TO PRI...   \n",
            "\n",
            "      Rev Code  Inpatient/Outpatient  Gross Charges  Discounted Cash Price  \\\n",
            "0         0260  Inpatient/Outpatient     866.000000             866.000000   \n",
            "1         0260  Inpatient/Outpatient     358.000000             358.000000   \n",
            "2         0260  Inpatient/Outpatient    1397.000000            1397.000000   \n",
            "3         0260  Inpatient/Outpatient     480.000000             480.000000   \n",
            "4         0260  Inpatient/Outpatient     480.000000             480.000000   \n",
            "...        ...                   ...            ...                    ...   \n",
            "6188  Multiple             Inpatient  184095.129020          184095.129020   \n",
            "6189  Multiple             Inpatient   85385.941857           85385.941857   \n",
            "6190  Multiple             Inpatient  411665.999955          411665.999955   \n",
            "6191  Multiple             Inpatient  126522.871140          126522.871140   \n",
            "6192  Multiple             Inpatient   77081.639496           77081.639496   \n",
            "\n",
            "            Aetna          Cigna Empire Blue Cross Blue Shield Emblem Health  \\\n",
            "0         641.706        494.486                        640.84      1388.424   \n",
            "1         265.278        204.418                        264.92      1305.112   \n",
            "2        1035.177        797.687                       1033.78      1475.508   \n",
            "3          355.68         274.08                         355.2       1325.12   \n",
            "4          355.68         274.08                         355.2       1325.12   \n",
            "...           ...            ...                           ...           ...   \n",
            "6188   86723.5232   98911.694706                      82299.84  115129.89148   \n",
            "6189   57748.8352   65864.888166                  63931.455093   76664.51828   \n",
            "6190  114736.9984  130862.199072                 214294.876425  152319.20576   \n",
            "6191   58654.7264   66898.093812                    91907.6928   77867.13496   \n",
            "6192   38116.5824   43473.507792                   44463.77208   50601.70336   \n",
            "\n",
            "      ... Consumer Health Network         Devon        Equian  First Health  \\\n",
            "0     ...                393.5104      393.5104      393.5104      393.5104   \n",
            "1     ...                162.6752      162.6752      162.6752      162.6752   \n",
            "2     ...                634.7968      634.7968      634.7968      634.7968   \n",
            "3     ...                 218.112       218.112       218.112       218.112   \n",
            "4     ...                 218.112       218.112       218.112       218.112   \n",
            "...   ...                     ...           ...           ...           ...   \n",
            "6188  ...            83652.826627  83652.826627  83652.826627  83652.826627   \n",
            "6189  ...             38799.37198   38799.37198   38799.37198   38799.37198   \n",
            "6190  ...            187061.03038  187061.03038  187061.03038  187061.03038   \n",
            "6191  ...            57491.992646  57491.992646  57491.992646  57491.992646   \n",
            "6192  ...            35025.896987  35025.896987  35025.896987  35025.896987   \n",
            "\n",
            "         Magnacare Multiplan/Beechstreet/PHCS           QHM     Worldwide  \\\n",
            "0         393.5104                   393.5104      393.5104      393.5104   \n",
            "1         162.6752                   162.6752      162.6752      162.6752   \n",
            "2         634.7968                   634.7968      634.7968      634.7968   \n",
            "3          218.112                    218.112       218.112       218.112   \n",
            "4          218.112                    218.112       218.112       218.112   \n",
            "...            ...                        ...           ...           ...   \n",
            "6188  83652.826627               83652.826627  83652.826627  83652.826627   \n",
            "6189   38799.37198                38799.37198   38799.37198   38799.37198   \n",
            "6190  187061.03038               187061.03038  187061.03038  187061.03038   \n",
            "6191  57491.992646               57491.992646  57491.992646  57491.992646   \n",
            "6192  35025.896987               35025.896987  35025.896987  35025.896987   \n",
            "\n",
            "     Minimum Negotiated Charge Maximum Negotiated Charge  \n",
            "0                   253.048250               1388.424000  \n",
            "1                    51.903250               1990.891341  \n",
            "2                   253.048250               1475.508000  \n",
            "3                    82.650750               1325.120000  \n",
            "4                   156.982800               1325.120000  \n",
            "...                        ...                       ...  \n",
            "6188              12561.144027             115129.891480  \n",
            "6189               7833.746854              76664.518280  \n",
            "6190              21016.798830             214294.876425  \n",
            "6191              10429.428059              91907.692800  \n",
            "6192               5995.071552              50601.703360  \n",
            "\n",
            "[6193 rows x 47 columns]\n"
          ]
        }
      ]
    },
    {
      "cell_type": "code",
      "source": [
        "# Check for missing values in a column\n",
        "print(df2.isnull().sum())\n",
        "# Results in only Minimum Negotiated Charge and Maximum Negotiated Charge resulting in 281 missing values each"
      ],
      "metadata": {
        "colab": {
          "base_uri": "https://localhost:8080/"
        },
        "id": "UGB167KHIdKx",
        "outputId": "04b4ee6d-2fbd-4cf9-af5b-cf4c005fc1d0"
      },
      "execution_count": 13,
      "outputs": [
        {
          "output_type": "stream",
          "name": "stdout",
          "text": [
            "Code (CPT/DRG)                          0\n",
            "Description                             0\n",
            "Rev Code                                0\n",
            "Inpatient/Outpatient                    0\n",
            "Gross Charges                           0\n",
            "Discounted Cash Price                   0\n",
            "Aetna                                   0\n",
            "Cigna                                   0\n",
            "Empire Blue Cross Blue Shield           0\n",
            "Emblem Health                           0\n",
            "United Health Group                     0\n",
            "Aetna Medicare                          0\n",
            "AgeWell Medicare                        0\n",
            "Emblem Medicare                         0\n",
            "Empire Medicare                         0\n",
            "Fidelis Medicare                        0\n",
            "Healthfirst Medicare                    0\n",
            "UHC Community Plan/United Medicare      0\n",
            "VNS Medicare                            0\n",
            "WellCare Medicare                       0\n",
            "1199                                    0\n",
            "Affinity Molina Essential               0\n",
            "Affinity Molina Medicaid/CHP            0\n",
            "Amida Care Medicaid                     0\n",
            "Emblem Medicaid/CHP                     0\n",
            "Empire Healthplus Essential             0\n",
            "Empire Healthplus Exchange              0\n",
            "Empire Healthplus Medicaid/CHP          0\n",
            "Fidelis Essential/Exchange              0\n",
            "Fidelis Medicaid/CHP                    0\n",
            "Healthfirst Essential/Exchange          0\n",
            "Healthfirst Medicaid/CHP                0\n",
            "MVP Medicaid/CHP                        0\n",
            "MVP Essential                           0\n",
            "United Community Plan Essential         0\n",
            "United Community Plan Medicaid          0\n",
            "VNS Medicaid                            0\n",
            "Consumer Health Network                 0\n",
            "Devon                                   0\n",
            "Equian                                  0\n",
            "First Health                            0\n",
            "Magnacare                               0\n",
            "Multiplan/Beechstreet/PHCS              0\n",
            "QHM                                     0\n",
            "Worldwide                               0\n",
            "Minimum Negotiated Charge             281\n",
            "Maximum Negotiated Charge             281\n",
            "dtype: int64\n"
          ]
        }
      ]
    },
    {
      "cell_type": "code",
      "source": [
        "df2.drop_duplicates(inplace=True)\n",
        "# No duplicate rows identified"
      ],
      "metadata": {
        "id": "PZPNicmGIdKx"
      },
      "execution_count": 14,
      "outputs": []
    },
    {
      "cell_type": "code",
      "source": [
        "#Rename columns\n",
        "df2_clean=df2.rename(columns={'Code (CPT/DRG)':'CPTDRGCode', 'Inpatient/Outpatient':'Inpt_Oupt','Affinity Molina Medicaid/CHP':'Affinity_Molina_Medicaid_CHP','UHC Community Plan/United Medicare':\"UHC_CommPlan_Medicare\",'Emblem Medicaid/CHP':'Emblem_Medicaid_CHP','Empire Medicaid/CHP':'Empire_medicaid_CHP','Empire Healthplus Medicaid/CHP':'Empire_Healthplus_MedicaidCHP','Fidelis Essential/Exchange':'Fidelis_Essential_Exchange','Fidelis Medicaid/CHP':'Fidelis_Medicaid_CHP','Healthfirst Essential/Exchange':'Healthfirst_Essential_Exchange','Healthfirst Medicaid/CHP':'Healthfirst_Medicaid_CHP','MVP Medicaid/CHP':'MVP_Medicaid_CHP','Multiplan/Beechstreet/PHCS':'Multiplan_Beechstreet_PHCS'})"
      ],
      "metadata": {
        "id": "UuHSdfpRODxB"
      },
      "execution_count": 15,
      "outputs": []
    },
    {
      "cell_type": "markdown",
      "source": [
        "#### Identify and convert strings to floats for Insurance Company pricing\n",
        "\n"
      ],
      "metadata": {
        "id": "Fugoj3xGNzJa"
      }
    },
    {
      "cell_type": "code",
      "source": [
        "#Identify strings that need to be converted to floats, and run this command to confirm conversion\n",
        "df2_clean.dtypes"
      ],
      "metadata": {
        "colab": {
          "base_uri": "https://localhost:8080/"
        },
        "outputId": "8caa2238-cee5-4ef8-b88a-d7fabb1d5c86",
        "id": "aGJMsMTmI7Qz"
      },
      "execution_count": 115,
      "outputs": [
        {
          "output_type": "execute_result",
          "data": {
            "text/plain": [
              "CPTDRGCode                          object\n",
              "Description                         object\n",
              "Rev Code                            object\n",
              "Inpt_Oupt                           object\n",
              "Gross Charges                      float64\n",
              "Discounted Cash Price              float64\n",
              "Aetna                              float64\n",
              "Cigna                              float64\n",
              "Empire Blue Cross Blue Shield      float64\n",
              "Emblem Health                      float64\n",
              "United Health Group                float64\n",
              "Aetna Medicare                     float64\n",
              "AgeWell Medicare                   float64\n",
              "Emblem Medicare                    float64\n",
              "Empire Medicare                    float64\n",
              "Fidelis Medicare                   float64\n",
              "Healthfirst Medicare               float64\n",
              "UHC_CommPlan_Medicare              float64\n",
              "VNS Medicare                       float64\n",
              "WellCare Medicare                  float64\n",
              "1199                               float64\n",
              "Affinity Molina Essential          float64\n",
              "Affinity_Molina_Medicaid_CHP       float64\n",
              "Amida Care Medicaid                float64\n",
              "Emblem_Medicaid_CHP                float64\n",
              "Empire Healthplus Essential        float64\n",
              "Empire Healthplus Exchange         float64\n",
              "Empire_Healthplus_MedicaidCHP      float64\n",
              "Fidelis_Essential_Exchange         float64\n",
              "Fidelis_Medicaid_CHP               float64\n",
              "Healthfirst_Essential_Exchange     float64\n",
              "Healthfirst_Medicaid_CHP           float64\n",
              "MVP_Medicaid_CHP                   float64\n",
              "MVP Essential                      float64\n",
              "United Community Plan Essential    float64\n",
              "United Community Plan Medicaid     float64\n",
              "VNS Medicaid                       float64\n",
              "Consumer Health Network            float64\n",
              "Devon                              float64\n",
              "Equian                             float64\n",
              "First Health                       float64\n",
              "Magnacare                          float64\n",
              "Multiplan_Beechstreet_PHCS         float64\n",
              "QHM                                float64\n",
              "Worldwide                          float64\n",
              "Minimum Negotiated Charge          float64\n",
              "Maximum Negotiated Charge          float64\n",
              "dtype: object"
            ]
          },
          "metadata": {},
          "execution_count": 115
        }
      ]
    },
    {
      "cell_type": "code",
      "source": [
        "for x in df2_clean.index:\n",
        "  if df2_clean.loc[x, \"Aetna\"] == 'Not separately payable' or df2_clean.loc[x, \"Aetna\"] == 'Included in Service Package' or df2_clean.loc[x, \"Aetna\"] == 'Patient responsibility':\n",
        "    df2_clean.drop(x, inplace = True)"
      ],
      "metadata": {
        "id": "gHNfX199Fyiy"
      },
      "execution_count": 20,
      "outputs": []
    },
    {
      "cell_type": "code",
      "source": [
        "df2_clean['Aetna'] = df2_clean['Aetna'].apply(float)"
      ],
      "metadata": {
        "id": "1ju6bqViE2lC"
      },
      "execution_count": 21,
      "outputs": []
    },
    {
      "cell_type": "code",
      "source": [
        "for x in df2_clean.index:\n",
        "  if df2_clean.loc[x, \"Cigna\"] == 'Not separately payable' or df2_clean.loc[x, \"Cigna\"] == 'Included in Service Package' or df2_clean.loc[x, \"Cigna\"] == 'Patient responsibility':\n",
        "    df2_clean.drop(x, inplace = True)"
      ],
      "metadata": {
        "id": "DYbyJUyOHxRT"
      },
      "execution_count": 25,
      "outputs": []
    },
    {
      "cell_type": "code",
      "source": [
        "df2_clean['Cigna'] = df2_clean['Cigna'].apply(float)"
      ],
      "metadata": {
        "id": "4srTyTa8HQN4"
      },
      "execution_count": 26,
      "outputs": []
    },
    {
      "cell_type": "code",
      "source": [
        "for x in df2_clean.index:\n",
        "  if df2_clean.loc[x, \"Empire Blue Cross Blue Shield\"] == 'Not separately payable' or df2_clean.loc[x, \"Empire Blue Cross Blue Shield\"] == 'Included in Service Package' or df2_clean.loc[x, \"Empire Blue Cross Blue Shield\"] == 'Patient responsibility':\n",
        "    df2_clean.drop(x, inplace = True)"
      ],
      "metadata": {
        "id": "SZKVhJQjH63s"
      },
      "execution_count": 34,
      "outputs": []
    },
    {
      "cell_type": "code",
      "source": [
        "df2_clean['Empire Blue Cross Blue Shield'] = df2_clean['Empire Blue Cross Blue Shield'].apply(float)"
      ],
      "metadata": {
        "id": "IxUi5RYpHbPt"
      },
      "execution_count": 35,
      "outputs": []
    },
    {
      "cell_type": "code",
      "source": [
        "for x in df2_clean.index:\n",
        "  if df2_clean.loc[x, \"Emblem Health\"] == 'Not separately payable' or df2_clean.loc[x, \"Emblem Health\"] == 'Included in Service Package' or df2_clean.loc[x, \"Emblem Health\"] == 'Patient responsibility':\n",
        "    df2_clean.drop(x, inplace = True)"
      ],
      "metadata": {
        "id": "1alM0YyfItzC"
      },
      "execution_count": 37,
      "outputs": []
    },
    {
      "cell_type": "code",
      "source": [
        "df2_clean['Emblem Health'] = df2_clean['Emblem Health'].apply(float)"
      ],
      "metadata": {
        "id": "GKQnhdd7HbK8"
      },
      "execution_count": 38,
      "outputs": []
    },
    {
      "cell_type": "code",
      "source": [
        "for x in df2_clean.index:\n",
        "  if df2_clean.loc[x, \"United Health Group\"] == 'Not separately payable' or df2_clean.loc[x, \"United Health Group\"] == 'Included in Service Package' or df2_clean.loc[x, \"United Health Group\"] == 'Patient responsibility':\n",
        "    df2_clean.drop(x, inplace = True)"
      ],
      "metadata": {
        "id": "1RRKgDHZIzO1"
      },
      "execution_count": 39,
      "outputs": []
    },
    {
      "cell_type": "code",
      "source": [
        "df2_clean['United Health Group'] = df2_clean['United Health Group'].apply(float)"
      ],
      "metadata": {
        "id": "2EOKczNdHbGQ"
      },
      "execution_count": 40,
      "outputs": []
    },
    {
      "cell_type": "code",
      "source": [
        "for x in df2_clean.index:\n",
        "  if df2_clean.loc[x, \"Aetna Medicare\"] == 'Not separately payable' or df2_clean.loc[x, \"Aetna Medicare\"] == 'Included in Service Package' or df2_clean.loc[x, \"Aetna Medicare\"] == 'Patient responsibility':\n",
        "    df2_clean.drop(x, inplace = True)"
      ],
      "metadata": {
        "id": "L8zciUbfIz5a"
      },
      "execution_count": 41,
      "outputs": []
    },
    {
      "cell_type": "code",
      "source": [
        "df2_clean['Aetna Medicare'] = df2_clean['Aetna Medicare'].apply(float)"
      ],
      "metadata": {
        "id": "5AnEApKrHbBk"
      },
      "execution_count": 42,
      "outputs": []
    },
    {
      "cell_type": "code",
      "source": [
        "for x in df2_clean.index:\n",
        "  if df2_clean.loc[x, \"AgeWell Medicare\"] == 'Not separately payable' or df2_clean.loc[x, \"AgeWell Medicare\"] == 'Included in Service Package' or df2_clean.loc[x, \"AgeWell Medicare\"] == 'Patient responsibility':\n",
        "    df2_clean.drop(x, inplace = True)"
      ],
      "metadata": {
        "id": "rEo5m8epI0ca"
      },
      "execution_count": 43,
      "outputs": []
    },
    {
      "cell_type": "code",
      "source": [
        "df2_clean['AgeWell Medicare'] = df2_clean['AgeWell Medicare'].apply(float)"
      ],
      "metadata": {
        "id": "n2KEPFhSHa8o"
      },
      "execution_count": 44,
      "outputs": []
    },
    {
      "cell_type": "code",
      "source": [
        "for x in df2_clean.index:\n",
        "  if df2_clean.loc[x, \"Emblem Medicare\"] == 'Not separately payable' or df2_clean.loc[x, \"Emblem Medicare\"] == 'Included in Service Package' or df2_clean.loc[x, \"Emblem Medicare\"] == 'Patient responsibility':\n",
        "    df2_clean.drop(x, inplace = True)"
      ],
      "metadata": {
        "id": "ipLwzPDiJCam"
      },
      "execution_count": 45,
      "outputs": []
    },
    {
      "cell_type": "code",
      "source": [
        "df2_clean['Emblem Medicare'] = df2_clean['Emblem Medicare'].apply(float)"
      ],
      "metadata": {
        "id": "W4-heRs4Ha3r"
      },
      "execution_count": 46,
      "outputs": []
    },
    {
      "cell_type": "code",
      "source": [
        "for x in df2_clean.index:\n",
        "  if df2_clean.loc[x, \"Empire Medicare\"] == 'Not separately payable' or df2_clean.loc[x, \"Empire Medicare\"] == 'Included in Service Package' or df2_clean.loc[x, \"Empire Medicare\"] == 'Patient responsibility':\n",
        "    df2_clean.drop(x, inplace = True)"
      ],
      "metadata": {
        "id": "c1v-ihAUJBx2"
      },
      "execution_count": 47,
      "outputs": []
    },
    {
      "cell_type": "code",
      "source": [
        "df2_clean['Empire Medicare'] = df2_clean['Empire Medicare'].apply(float)"
      ],
      "metadata": {
        "id": "4ssPdi7uHayw"
      },
      "execution_count": 48,
      "outputs": []
    },
    {
      "cell_type": "code",
      "source": [
        "for x in df2_clean.index:\n",
        "  if df2_clean.loc[x, \"Fidelis Medicare\"] == 'Not separately payable' or df2_clean.loc[x, \"Fidelis Medicare\"] == 'Included in Service Package' or df2_clean.loc[x, \"Fidelis Medicare\"] == 'Patient responsibility':\n",
        "    df2_clean.drop(x, inplace = True)"
      ],
      "metadata": {
        "id": "BbFNHO1fJBai"
      },
      "execution_count": 49,
      "outputs": []
    },
    {
      "cell_type": "code",
      "source": [
        "df2_clean['Fidelis Medicare'] = df2_clean['Fidelis Medicare'].apply(float)"
      ],
      "metadata": {
        "id": "iD8sSI9uHat0"
      },
      "execution_count": 50,
      "outputs": []
    },
    {
      "cell_type": "code",
      "source": [
        "for x in df2_clean.index:\n",
        "  if df2_clean.loc[x, \"Healthfirst Medicare\"] == 'Not separately payable' or df2_clean.loc[x, \"Healthfirst Medicare\"] == 'Included in Service Package' or df2_clean.loc[x, \"Healthfirst Medicare\"] == 'Patient responsibility':\n",
        "    df2_clean.drop(x, inplace = True)"
      ],
      "metadata": {
        "id": "fKcRw-V-I7ie"
      },
      "execution_count": 51,
      "outputs": []
    },
    {
      "cell_type": "code",
      "source": [
        "df2_clean['Healthfirst Medicare'] = df2_clean['Healthfirst Medicare'].apply(float)"
      ],
      "metadata": {
        "id": "OmhLY9d4Hapk"
      },
      "execution_count": 52,
      "outputs": []
    },
    {
      "cell_type": "code",
      "source": [
        "for x in df2_clean.index:\n",
        "  if df2_clean.loc[x, \"UHC_CommPlan_Medicare\"] == 'Not separately payable' or df2_clean.loc[x, \"UHC_CommPlan_Medicare\"] == 'Included in Service Package' or df2_clean.loc[x, \"UHC_CommPlan_Medicare\"] == 'Patient responsibility':\n",
        "    df2_clean.drop(x, inplace = True)"
      ],
      "metadata": {
        "id": "2qylgYzKI75Z"
      },
      "execution_count": 53,
      "outputs": []
    },
    {
      "cell_type": "code",
      "source": [
        "df2_clean['UHC_CommPlan_Medicare'] = df2_clean['UHC_CommPlan_Medicare'].apply(float)"
      ],
      "metadata": {
        "id": "ExsiE4CIHalL"
      },
      "execution_count": 54,
      "outputs": []
    },
    {
      "cell_type": "code",
      "source": [
        "for x in df2_clean.index:\n",
        "  if df2_clean.loc[x, \"VNS Medicare\"] == 'Not separately payable' or df2_clean.loc[x, \"VNS Medicare\"] == 'Included in Service Package' or df2_clean.loc[x, \"VNS Medicare\"] == 'Patient responsibility':\n",
        "    df2_clean.drop(x, inplace = True)"
      ],
      "metadata": {
        "id": "dtqQRvsqJACA"
      },
      "execution_count": 55,
      "outputs": []
    },
    {
      "cell_type": "code",
      "source": [
        "df2_clean['VNS Medicare'] = df2_clean['VNS Medicare'].apply(float)"
      ],
      "metadata": {
        "id": "GLWGdFZwHagW"
      },
      "execution_count": 56,
      "outputs": []
    },
    {
      "cell_type": "code",
      "source": [
        "for x in df2_clean.index:\n",
        "  if df2_clean.loc[x, \"WellCare Medicare\"] == 'Not separately payable' or df2_clean.loc[x, \"WellCare Medicare\"] == 'Included in Service Package' or df2_clean.loc[x, \"WellCare Medicare\"] == 'Patient responsibility':\n",
        "    df2_clean.drop(x, inplace = True)"
      ],
      "metadata": {
        "id": "1JaoWRMCI_vf"
      },
      "execution_count": 57,
      "outputs": []
    },
    {
      "cell_type": "code",
      "source": [
        "df2_clean['WellCare Medicare'] = df2_clean['WellCare Medicare'].apply(float)"
      ],
      "metadata": {
        "id": "rRNIYyFlHab0"
      },
      "execution_count": 114,
      "outputs": []
    },
    {
      "cell_type": "code",
      "source": [
        "for x in df2_clean.index:\n",
        "  if df2_clean.loc[x, \"1199\"] == 'Not separately payable' or df2_clean.loc[x, \"1199\"] == 'Included in Service Package' or df2_clean.loc[x, \"1199\"] == 'Patient responsibility':\n",
        "    df2_clean.drop(x, inplace = True)"
      ],
      "metadata": {
        "id": "0KL9xwauI_gX"
      },
      "execution_count": 58,
      "outputs": []
    },
    {
      "cell_type": "code",
      "source": [
        "df2_clean['1199'] = df2_clean['1199'].apply(float)"
      ],
      "metadata": {
        "id": "L9ge8PT1HaXn"
      },
      "execution_count": 59,
      "outputs": []
    },
    {
      "cell_type": "code",
      "source": [
        "for x in df2_clean.index:\n",
        "  if df2_clean.loc[x, \"Affinity Molina Essential\"] == 'Not separately payable' or df2_clean.loc[x, \"Affinity Molina Essential\"] == 'Included in Service Package' or df2_clean.loc[x, \"Affinity Molina Essential\"] == 'Patient responsibility' or df2_clean.loc[x,\"Affinity Molina Essential\"] == 'See Tab A':\n",
        "    df2_clean.drop(x, inplace = True)"
      ],
      "metadata": {
        "id": "J186CZltI-6h"
      },
      "execution_count": 63,
      "outputs": []
    },
    {
      "cell_type": "code",
      "source": [
        "df2_clean['Affinity Molina Essential'] = df2_clean['Affinity Molina Essential'].apply(float)"
      ],
      "metadata": {
        "id": "bGqA8k39HaTN"
      },
      "execution_count": 64,
      "outputs": []
    },
    {
      "cell_type": "code",
      "source": [
        "for x in df2_clean.index:\n",
        "  if df2_clean.loc[x, \"Affinity_Molina_Medicaid_CHP\"] == 'Not separately payable' or df2_clean.loc[x, \"Affinity_Molina_Medicaid_CHP\"] == 'Included in Service Package' or df2_clean.loc[x, \"Affinity_Molina_Medicaid_CHP\"] == 'Patient responsibility':\n",
        "    df2_clean.drop(x, inplace = True)"
      ],
      "metadata": {
        "id": "CTzN-5paI-pT"
      },
      "execution_count": 66,
      "outputs": []
    },
    {
      "cell_type": "code",
      "source": [
        "df2_clean['Affinity_Molina_Medicaid_CHP'] = df2_clean['Affinity_Molina_Medicaid_CHP'].apply(float)"
      ],
      "metadata": {
        "id": "YgLQ_EHGHaOg"
      },
      "execution_count": 67,
      "outputs": []
    },
    {
      "cell_type": "code",
      "source": [
        "for x in df2_clean.index:\n",
        "  if df2_clean.loc[x, \"Amida Care Medicaid\"] == 'Not separately payable' or df2_clean.loc[x, \"Amida Care Medicaid\"] == 'Included in Service Package' or df2_clean.loc[x, \"Amida Care Medicaid\"] == 'Patient responsibility':\n",
        "    df2_clean.drop(x, inplace = True)"
      ],
      "metadata": {
        "id": "VMYXV-VrI-a5"
      },
      "execution_count": 68,
      "outputs": []
    },
    {
      "cell_type": "code",
      "source": [
        "df2_clean['Amida Care Medicaid'] = df2_clean['Amida Care Medicaid'].apply(float)"
      ],
      "metadata": {
        "id": "l_EtvLttHaKG"
      },
      "execution_count": 69,
      "outputs": []
    },
    {
      "cell_type": "code",
      "source": [
        "for x in df2_clean.index:\n",
        "  if df2_clean.loc[x, \"Emblem_Medicaid_CHP\"] == 'Not separately payable' or df2_clean.loc[x, \"Emblem_Medicaid_CHP\"] == 'Included in Service Package' or df2_clean.loc[x, \"Emblem_Medicaid_CHP\"] == 'Patient responsibility':\n",
        "    df2_clean.drop(x, inplace = True)"
      ],
      "metadata": {
        "id": "wcrhyoLqI-Ef"
      },
      "execution_count": 70,
      "outputs": []
    },
    {
      "cell_type": "code",
      "source": [
        "df2_clean['Emblem_Medicaid_CHP'] = df2_clean['Emblem_Medicaid_CHP'].apply(float)"
      ],
      "metadata": {
        "id": "pMO9jUOJHaFj"
      },
      "execution_count": 71,
      "outputs": []
    },
    {
      "cell_type": "code",
      "source": [
        "for x in df2_clean.index:\n",
        "  if df2_clean.loc[x, \"Empire Healthplus Essential\"] == 'Not separately payable' or df2_clean.loc[x, \"Empire Healthplus Essential\"] == 'Included in Service Package' or df2_clean.loc[x, \"Empire Healthplus Essential\"] == 'Patient responsibility':\n",
        "    df2_clean.drop(x, inplace = True)"
      ],
      "metadata": {
        "id": "9C1ex94hI9xf"
      },
      "execution_count": 72,
      "outputs": []
    },
    {
      "cell_type": "code",
      "source": [
        "df2_clean['Empire Healthplus Essential'] = df2_clean['Empire Healthplus Essential'].apply(float)"
      ],
      "metadata": {
        "id": "vXlRVoC_HaA0"
      },
      "execution_count": 73,
      "outputs": []
    },
    {
      "cell_type": "code",
      "source": [
        "for x in df2_clean.index:\n",
        "  if df2_clean.loc[x, \"Empire Healthplus Exchange\"] == 'Not separately payable' or df2_clean.loc[x, \"Empire Healthplus Exchange\"] == 'Included in Service Package' or df2_clean.loc[x, \"Empire Healthplus Exchange\"] == 'Patient responsibility':\n",
        "    df2_clean.drop(x, inplace = True)"
      ],
      "metadata": {
        "id": "VBYTrdIhI9jc"
      },
      "execution_count": 74,
      "outputs": []
    },
    {
      "cell_type": "code",
      "source": [
        "df2_clean['Empire Healthplus Exchange'] = df2_clean['Empire Healthplus Exchange'].apply(float)"
      ],
      "metadata": {
        "id": "PsX-FIZ4HZ8f"
      },
      "execution_count": 75,
      "outputs": []
    },
    {
      "cell_type": "code",
      "source": [
        "for x in df2_clean.index:\n",
        "  if df2_clean.loc[x, \"Empire_Healthplus_MedicaidCHP\"] == 'Not separately payable' or df2_clean.loc[x, \"Empire_Healthplus_MedicaidCHP\"] == 'Included in Service Package' or df2_clean.loc[x, \"Empire_Healthplus_MedicaidCHP\"] == 'Patient responsibility':\n",
        "    df2_clean.drop(x, inplace = True)"
      ],
      "metadata": {
        "id": "i1F4cAYkI9U7"
      },
      "execution_count": 76,
      "outputs": []
    },
    {
      "cell_type": "code",
      "source": [
        "df2_clean['Empire_Healthplus_MedicaidCHP'] = df2_clean['Empire_Healthplus_MedicaidCHP'].apply(float)"
      ],
      "metadata": {
        "id": "_kyIognqHZ4J"
      },
      "execution_count": 77,
      "outputs": []
    },
    {
      "cell_type": "code",
      "source": [
        "for x in df2_clean.index:\n",
        "  if df2_clean.loc[x, \"Fidelis_Essential_Exchange\"] == 'Not separately payable' or df2_clean.loc[x, \"Fidelis_Essential_Exchange\"] == 'Included in Service Package' or df2_clean.loc[x, \"Fidelis_Essential_Exchange\"] == 'Patient responsibility':\n",
        "    df2_clean.drop(x, inplace = True)"
      ],
      "metadata": {
        "id": "vBPG29uHI84G"
      },
      "execution_count": 78,
      "outputs": []
    },
    {
      "cell_type": "code",
      "source": [
        "df2_clean['Fidelis_Essential_Exchange'] = df2_clean['Fidelis_Essential_Exchange'].apply(float)"
      ],
      "metadata": {
        "id": "RekQoDkZHZz9"
      },
      "execution_count": 79,
      "outputs": []
    },
    {
      "cell_type": "code",
      "source": [
        "for x in df2_clean.index:\n",
        "  if df2_clean.loc[x, \"Fidelis_Medicaid_CHP\"] == 'Not separately payable' or df2_clean.loc[x, \"Fidelis_Medicaid_CHP\"] == 'Included in Service Package' or df2_clean.loc[x, \"Fidelis_Medicaid_CHP\"] == 'Patient responsibility':\n",
        "    df2_clean.drop(x, inplace = True)"
      ],
      "metadata": {
        "id": "HGXwXr4kI61L"
      },
      "execution_count": 80,
      "outputs": []
    },
    {
      "cell_type": "code",
      "source": [
        "df2_clean['Fidelis_Medicaid_CHP'] = df2_clean['Fidelis_Medicaid_CHP'].apply(float)"
      ],
      "metadata": {
        "id": "qokBjGIuHZvz"
      },
      "execution_count": 81,
      "outputs": []
    },
    {
      "cell_type": "code",
      "source": [
        "for x in df2_clean.index:\n",
        "  if df2_clean.loc[x, \"Healthfirst_Essential_Exchange\"] == 'Not separately payable' or df2_clean.loc[x, \"Healthfirst_Essential_Exchange\"] == 'Included in Service Package' or df2_clean.loc[x, \"Healthfirst_Essential_Exchange\"] == 'Patient responsibility':\n",
        "    df2_clean.drop(x, inplace = True)"
      ],
      "metadata": {
        "id": "V6OcTXoqI6U6"
      },
      "execution_count": 82,
      "outputs": []
    },
    {
      "cell_type": "code",
      "source": [
        "df2_clean['Healthfirst_Essential_Exchange'] = df2_clean['Healthfirst_Essential_Exchange'].apply(float)"
      ],
      "metadata": {
        "id": "8X19dQftHZro"
      },
      "execution_count": 83,
      "outputs": []
    },
    {
      "cell_type": "code",
      "source": [
        "for x in df2_clean.index:\n",
        "  if df2_clean.loc[x, \"Healthfirst_Medicaid_CHP\"] == 'Not separately payable' or df2_clean.loc[x, \"Healthfirst_Medicaid_CHP\"] == 'Included in Service Package' or df2_clean.loc[x, \"Healthfirst_Medicaid_CHP\"] == 'Patient responsibility':\n",
        "    df2_clean.drop(x, inplace = True)"
      ],
      "metadata": {
        "id": "6G8OB4ICI6Cr"
      },
      "execution_count": 84,
      "outputs": []
    },
    {
      "cell_type": "code",
      "source": [
        "df2_clean['Healthfirst_Medicaid_CHP'] = df2_clean['Healthfirst_Medicaid_CHP'].apply(float)"
      ],
      "metadata": {
        "id": "0Pj52YGEHZne"
      },
      "execution_count": 85,
      "outputs": []
    },
    {
      "cell_type": "code",
      "source": [
        "for x in df2_clean.index:\n",
        "  if df2_clean.loc[x, \"MVP_Medicaid_CHP\"] == 'Not separately payable' or df2_clean.loc[x, \"MVP_Medicaid_CHP\"] == 'Included in Service Package' or df2_clean.loc[x, \"MVP_Medicaid_CHP\"] == 'Patient responsibility':\n",
        "    df2_clean.drop(x, inplace = True)"
      ],
      "metadata": {
        "id": "tVlNPck6I5v7"
      },
      "execution_count": 86,
      "outputs": []
    },
    {
      "cell_type": "code",
      "source": [
        "df2_clean['MVP_Medicaid_CHP'] = df2_clean['MVP_Medicaid_CHP'].apply(float)"
      ],
      "metadata": {
        "id": "34losPg9HZjD"
      },
      "execution_count": 87,
      "outputs": []
    },
    {
      "cell_type": "code",
      "source": [
        "for x in df2_clean.index:\n",
        "  if df2_clean.loc[x, \"MVP Essential\"] == 'Not separately payable' or df2_clean.loc[x, \"MVP Essential\"] == 'Included in Service Package' or df2_clean.loc[x, \"MVP Essential\"] == 'Patient responsibility':\n",
        "    df2_clean.drop(x, inplace = True)"
      ],
      "metadata": {
        "id": "jpjbzVXkI5Qc"
      },
      "execution_count": 88,
      "outputs": []
    },
    {
      "cell_type": "code",
      "source": [
        "df2_clean['MVP Essential'] = df2_clean['MVP Essential'].apply(float)"
      ],
      "metadata": {
        "id": "3XcfZjiLHZe-"
      },
      "execution_count": 89,
      "outputs": []
    },
    {
      "cell_type": "code",
      "source": [
        "for x in df2_clean.index:\n",
        "  if df2_clean.loc[x, \"United Community Plan Essential\"] == 'Not separately payable' or df2_clean.loc[x, \"United Community Plan Essential\"] == 'Included in Service Package' or df2_clean.loc[x, \"United Community Plan Essential\"] == 'Patient responsibility':\n",
        "    df2_clean.drop(x, inplace = True)"
      ],
      "metadata": {
        "id": "jNTRX8O2I40Y"
      },
      "execution_count": 90,
      "outputs": []
    },
    {
      "cell_type": "code",
      "source": [
        "df2_clean['United Community Plan Essential'] = df2_clean['United Community Plan Essential'].apply(float)"
      ],
      "metadata": {
        "id": "e8tzPaxKHZat"
      },
      "execution_count": 91,
      "outputs": []
    },
    {
      "cell_type": "code",
      "source": [
        "for x in df2_clean.index:\n",
        "  if df2_clean.loc[x, \"United Community Plan Medicaid\"] == 'Not separately payable' or df2_clean.loc[x, \"United Community Plan Medicaid\"] == 'Included in Service Package' or df2_clean.loc[x, \"United Community Plan Medicaid\"] == 'Patient responsibility':\n",
        "    df2_clean.drop(x, inplace = True)"
      ],
      "metadata": {
        "id": "Tv6WsDZ-I4Yf"
      },
      "execution_count": 92,
      "outputs": []
    },
    {
      "cell_type": "code",
      "source": [
        "df2_clean['United Community Plan Medicaid'] = df2_clean['United Community Plan Medicaid'].apply(float)"
      ],
      "metadata": {
        "id": "lbuVo4dvHZWp"
      },
      "execution_count": 93,
      "outputs": []
    },
    {
      "cell_type": "code",
      "source": [
        "for x in df2_clean.index:\n",
        "  if df2_clean.loc[x, \"VNS Medicaid\"] == 'Not separately payable' or df2_clean.loc[x, \"VNS Medicaid\"] == 'Included in Service Package' or df2_clean.loc[x, \"VNS Medicaid\"] == 'Patient responsibility':\n",
        "    df2_clean.drop(x, inplace = True)"
      ],
      "metadata": {
        "id": "amJQwx-0I4NR"
      },
      "execution_count": 94,
      "outputs": []
    },
    {
      "cell_type": "code",
      "source": [
        "df2_clean['VNS Medicaid'] = df2_clean['VNS Medicaid'].apply(float)"
      ],
      "metadata": {
        "id": "4EEb7n25HZSX"
      },
      "execution_count": 95,
      "outputs": []
    },
    {
      "cell_type": "code",
      "source": [
        "for x in df2_clean.index:\n",
        "  if df2_clean.loc[x, \"Consumer Health Network\"] == 'Not separately payable' or df2_clean.loc[x, \"Consumer Health Network\"] == 'Included in Service Package' or df2_clean.loc[x, \"Consumer Health Network\"] == 'Patient responsibility':\n",
        "    df2_clean.drop(x, inplace = True)"
      ],
      "metadata": {
        "id": "2vDwtqNrI3yw"
      },
      "execution_count": 96,
      "outputs": []
    },
    {
      "cell_type": "code",
      "source": [
        "df2_clean['Consumer Health Network'] = df2_clean['Consumer Health Network'].apply(float)"
      ],
      "metadata": {
        "id": "NecYBEPJHZOM"
      },
      "execution_count": 97,
      "outputs": []
    },
    {
      "cell_type": "code",
      "source": [
        "for x in df2_clean.index:\n",
        "  if df2_clean.loc[x, \"Devon\"] == 'Not separately payable' or df2_clean.loc[x, \"Devon\"] == 'Included in Service Package' or df2_clean.loc[x, \"Devon\"] == 'Patient responsibility':\n",
        "    df2_clean.drop(x, inplace = True)"
      ],
      "metadata": {
        "id": "6XjTb4Q5I3di"
      },
      "execution_count": 98,
      "outputs": []
    },
    {
      "cell_type": "code",
      "source": [
        "df2_clean['Devon'] = df2_clean['Devon'].apply(float)"
      ],
      "metadata": {
        "id": "0_Pj3dtVHZKC"
      },
      "execution_count": 99,
      "outputs": []
    },
    {
      "cell_type": "code",
      "source": [
        "for x in df2_clean.index:\n",
        "  if df2_clean.loc[x, \"Equian\"] == 'Not separately payable' or df2_clean.loc[x, \"Equian\"] == 'Included in Service Package' or df2_clean.loc[x, \"Equian\"] == 'Patient responsibility':\n",
        "    df2_clean.drop(x, inplace = True)"
      ],
      "metadata": {
        "id": "w76uFc8aI3NP"
      },
      "execution_count": 100,
      "outputs": []
    },
    {
      "cell_type": "code",
      "source": [
        "df2_clean['Equian'] = df2_clean['Equian'].apply(float)"
      ],
      "metadata": {
        "id": "c1OPCv3LHZF3"
      },
      "execution_count": 101,
      "outputs": []
    },
    {
      "cell_type": "code",
      "source": [
        "for x in df2_clean.index:\n",
        "  if df2_clean.loc[x, \"First Health\"] == 'Not separately payable' or df2_clean.loc[x, \"First Health\"] == 'Included in Service Package' or df2_clean.loc[x, \"First Health\"] == 'Patient responsibility':\n",
        "    df2_clean.drop(x, inplace = True)"
      ],
      "metadata": {
        "id": "USyp_QTII282"
      },
      "execution_count": 102,
      "outputs": []
    },
    {
      "cell_type": "code",
      "source": [
        "df2_clean['First Health'] = df2_clean['First Health'].apply(float)"
      ],
      "metadata": {
        "id": "KyOhobdKHZBl"
      },
      "execution_count": 103,
      "outputs": []
    },
    {
      "cell_type": "code",
      "source": [
        "for x in df2_clean.index:\n",
        "  if df2_clean.loc[x, \"Magnacare\"] == 'Not separately payable' or df2_clean.loc[x, \"Magnacare\"] == 'Included in Service Package' or df2_clean.loc[x, \"Magnacare\"] == 'Patient responsibility':\n",
        "    df2_clean.drop(x, inplace = True)"
      ],
      "metadata": {
        "id": "6PBTxcztI2sV"
      },
      "execution_count": 104,
      "outputs": []
    },
    {
      "cell_type": "code",
      "source": [
        "df2_clean['Magnacare'] = df2_clean['Magnacare'].apply(float)"
      ],
      "metadata": {
        "id": "r_-pHf2_HY9V"
      },
      "execution_count": 105,
      "outputs": []
    },
    {
      "cell_type": "code",
      "source": [
        "for x in df2_clean.index:\n",
        "  if df2_clean.loc[x, \"Multiplan_Beechstreet_PHCS\"] == 'Not separately payable' or df2_clean.loc[x, \"Multiplan_Beechstreet_PHCS\"] == 'Included in Service Package' or df2_clean.loc[x, \"Multiplan_Beechstreet_PHCS\"] == 'Patient responsibility':\n",
        "    df2_clean.drop(x, inplace = True)"
      ],
      "metadata": {
        "id": "0hypcCdDI2ZW"
      },
      "execution_count": 106,
      "outputs": []
    },
    {
      "cell_type": "code",
      "source": [
        "df2_clean['Multiplan_Beechstreet_PHCS'] = df2_clean['Multiplan_Beechstreet_PHCS'].apply(float)"
      ],
      "metadata": {
        "id": "cWU_-uYUHY44"
      },
      "execution_count": 107,
      "outputs": []
    },
    {
      "cell_type": "code",
      "source": [
        "for x in df2_clean.index:\n",
        "  if df2_clean.loc[x, \"QHM\"] == 'Not separately payable' or df2_clean.loc[x, \"QHM\"] == 'Included in Service Package' or df2_clean.loc[x, \"QHM\"] == 'Patient responsibility':\n",
        "    df2_clean.drop(x, inplace = True)"
      ],
      "metadata": {
        "id": "GtHHGA5xI2IY"
      },
      "execution_count": 108,
      "outputs": []
    },
    {
      "cell_type": "code",
      "source": [
        "df2_clean['QHM'] = df2_clean['QHM'].apply(float)"
      ],
      "metadata": {
        "id": "wdPIUK2hHYz8"
      },
      "execution_count": 109,
      "outputs": []
    },
    {
      "cell_type": "code",
      "source": [
        "for x in df2_clean.index:\n",
        "  if df2_clean.loc[x, \"Worldwide\"] == 'Not separately payable' or df2_clean.loc[x, \"Worldwide\"] == 'Included in Service Package' or df2_clean.loc[x, \"Worldwide\"] == 'Patient responsibility':\n",
        "    df2_clean.drop(x, inplace = True)"
      ],
      "metadata": {
        "id": "s9uNYYk7I1xg"
      },
      "execution_count": 110,
      "outputs": []
    },
    {
      "cell_type": "code",
      "source": [
        "df2_clean['Worldwide'] = df2_clean['Worldwide'].apply(float)"
      ],
      "metadata": {
        "id": "ypG1Bs7yHYuz"
      },
      "execution_count": 111,
      "outputs": []
    },
    {
      "cell_type": "markdown",
      "source": [
        "## Exploratory Analysis Hospital 2\n",
        "\n"
      ],
      "metadata": {
        "id": "cXm4fBbtI7Qo"
      }
    },
    {
      "cell_type": "markdown",
      "source": [
        "#### Observations:\n",
        "\n",
        "Very few missing values\n",
        "\n",
        "The majority of charge code prices for insurance companies were loaded as strings and needed to be converted to float\n",
        "\n",
        "The presence of outliers skewed the data; removed all outliers greater than 3 standard deviations for the graphs\n",
        "\n",
        "Data is heavily skewed to the right\n",
        "\n",
        "Variance between data values is very high (in the thousands)"
      ],
      "metadata": {
        "id": "5KDfzv4_I7Qy"
      }
    },
    {
      "cell_type": "code",
      "source": [
        "df2_clean.to_csv('/content/newdb_NewYorkPresbyterianHospital_standardcharges.csv')"
      ],
      "metadata": {
        "id": "8Ap8ALUJI7Q2"
      },
      "execution_count": 122,
      "outputs": []
    },
    {
      "cell_type": "code",
      "source": [
        "df2_clean.describe()"
      ],
      "metadata": {
        "colab": {
          "base_uri": "https://localhost:8080/",
          "height": 402
        },
        "outputId": "35bd565b-545c-411a-fd73-b981692f145a",
        "id": "9BP86BvnI7Qz"
      },
      "execution_count": 112,
      "outputs": [
        {
          "output_type": "execute_result",
          "data": {
            "text/plain": [
              "       Gross Charges  Discounted Cash Price         Aetna         Cigna  \\\n",
              "count   3.953000e+03           3.953000e+03  3.953000e+03  3.953000e+03   \n",
              "mean    4.699778e+04           4.699778e+04  1.926944e+04  1.996704e+04   \n",
              "std     1.159730e+05           1.159730e+05  4.773265e+04  5.331035e+04   \n",
              "min     2.100000e+01           2.100000e+01  1.575000e+00  1.365000e+00   \n",
              "25%     8.930000e+02           8.930000e+02  5.809440e+02  3.745760e+02   \n",
              "50%     2.126000e+04           2.126000e+04  9.144000e+03  7.496000e+03   \n",
              "75%     4.297300e+04           4.297300e+04  9.144000e+03  7.496000e+03   \n",
              "max     2.538980e+06           2.538980e+06  1.249756e+06  1.425398e+06   \n",
              "\n",
              "       Empire Blue Cross Blue Shield  Emblem Health  United Health Group  \\\n",
              "count                   3.953000e+03   3.953000e+03         3.953000e+03   \n",
              "mean                    2.656232e+04   2.507008e+04         2.091419e+04   \n",
              "std                     7.605949e+04   7.123049e+04         5.876413e+04   \n",
              "min                     1.575000e+00   1.575000e+00         3.600000e+00   \n",
              "25%                     5.365206e+02   4.679280e+02         2.817900e+02   \n",
              "50%                     1.192400e+04   9.474400e+03         5.445000e+03   \n",
              "75%                     1.541400e+04   9.474400e+03         9.670000e+03   \n",
              "max                     1.698874e+06   1.713460e+06         1.483291e+06   \n",
              "\n",
              "       Aetna Medicare  AgeWell Medicare  Emblem Medicare  ...  \\\n",
              "count     3953.000000       3953.000000      3953.000000  ...   \n",
              "mean      6233.779425       7790.569565      6246.638656  ...   \n",
              "std      13122.910977      16403.682377     13143.105162  ...   \n",
              "min          2.250000          2.812500         2.250000  ...   \n",
              "25%        142.234750        177.793438       142.234750  ...   \n",
              "50%       2133.447750       2666.809688      2133.447750  ...   \n",
              "75%       7280.358750       9100.448437      7280.358750  ...   \n",
              "max     334941.744704     418677.180880    334941.744704  ...   \n",
              "\n",
              "       Consumer Health Network         Devon        Equian  First Health  \\\n",
              "count             3.953000e+03  3.953000e+03  3.953000e+03  3.953000e+03   \n",
              "mean              2.135579e+04  2.135579e+04  2.135579e+04  2.135579e+04   \n",
              "std               5.269815e+04  5.269815e+04  5.269815e+04  5.269815e+04   \n",
              "min               9.542400e+00  9.542400e+00  9.542400e+00  9.542400e+00   \n",
              "25%               4.057792e+02  4.057792e+02  4.057792e+02  4.057792e+02   \n",
              "50%               9.660544e+03  9.660544e+03  9.660544e+03  9.660544e+03   \n",
              "75%               1.952693e+04  1.952693e+04  1.952693e+04  1.952693e+04   \n",
              "max               1.153712e+06  1.153712e+06  1.153712e+06  1.153712e+06   \n",
              "\n",
              "          Magnacare  Multiplan_Beechstreet_PHCS           QHM     Worldwide  \\\n",
              "count  3.953000e+03                3.953000e+03  3.953000e+03  3.953000e+03   \n",
              "mean   2.135579e+04                2.135579e+04  2.135579e+04  2.135579e+04   \n",
              "std    5.269815e+04                5.269815e+04  5.269815e+04  5.269815e+04   \n",
              "min    9.542400e+00                9.542400e+00  9.542400e+00  9.542400e+00   \n",
              "25%    4.057792e+02                4.057792e+02  4.057792e+02  4.057792e+02   \n",
              "50%    9.660544e+03                9.660544e+03  9.660544e+03  9.660544e+03   \n",
              "75%    1.952693e+04                1.952693e+04  1.952693e+04  1.952693e+04   \n",
              "max    1.153712e+06                1.153712e+06  1.153712e+06  1.153712e+06   \n",
              "\n",
              "       Minimum Negotiated Charge  Maximum Negotiated Charge  \n",
              "count                3953.000000               3.953000e+03  \n",
              "mean                 3083.751046               3.329255e+04  \n",
              "std                  7150.731559               8.535069e+04  \n",
              "min                     1.365000               1.422000e+02  \n",
              "25%                   130.928000               8.803800e+02  \n",
              "50%                  1135.400400               1.305900e+04  \n",
              "75%                  2571.898415               2.728500e+04  \n",
              "max                204861.126000               1.713460e+06  \n",
              "\n",
              "[8 rows x 42 columns]"
            ],
            "text/html": [
              "\n",
              "  <div id=\"df-4b4ab36c-4f53-472f-b943-0cf8ee492ca8\" class=\"colab-df-container\">\n",
              "    <div>\n",
              "<style scoped>\n",
              "    .dataframe tbody tr th:only-of-type {\n",
              "        vertical-align: middle;\n",
              "    }\n",
              "\n",
              "    .dataframe tbody tr th {\n",
              "        vertical-align: top;\n",
              "    }\n",
              "\n",
              "    .dataframe thead th {\n",
              "        text-align: right;\n",
              "    }\n",
              "</style>\n",
              "<table border=\"1\" class=\"dataframe\">\n",
              "  <thead>\n",
              "    <tr style=\"text-align: right;\">\n",
              "      <th></th>\n",
              "      <th>Gross Charges</th>\n",
              "      <th>Discounted Cash Price</th>\n",
              "      <th>Aetna</th>\n",
              "      <th>Cigna</th>\n",
              "      <th>Empire Blue Cross Blue Shield</th>\n",
              "      <th>Emblem Health</th>\n",
              "      <th>United Health Group</th>\n",
              "      <th>Aetna Medicare</th>\n",
              "      <th>AgeWell Medicare</th>\n",
              "      <th>Emblem Medicare</th>\n",
              "      <th>...</th>\n",
              "      <th>Consumer Health Network</th>\n",
              "      <th>Devon</th>\n",
              "      <th>Equian</th>\n",
              "      <th>First Health</th>\n",
              "      <th>Magnacare</th>\n",
              "      <th>Multiplan_Beechstreet_PHCS</th>\n",
              "      <th>QHM</th>\n",
              "      <th>Worldwide</th>\n",
              "      <th>Minimum Negotiated Charge</th>\n",
              "      <th>Maximum Negotiated Charge</th>\n",
              "    </tr>\n",
              "  </thead>\n",
              "  <tbody>\n",
              "    <tr>\n",
              "      <th>count</th>\n",
              "      <td>3.953000e+03</td>\n",
              "      <td>3.953000e+03</td>\n",
              "      <td>3.953000e+03</td>\n",
              "      <td>3.953000e+03</td>\n",
              "      <td>3.953000e+03</td>\n",
              "      <td>3.953000e+03</td>\n",
              "      <td>3.953000e+03</td>\n",
              "      <td>3953.000000</td>\n",
              "      <td>3953.000000</td>\n",
              "      <td>3953.000000</td>\n",
              "      <td>...</td>\n",
              "      <td>3.953000e+03</td>\n",
              "      <td>3.953000e+03</td>\n",
              "      <td>3.953000e+03</td>\n",
              "      <td>3.953000e+03</td>\n",
              "      <td>3.953000e+03</td>\n",
              "      <td>3.953000e+03</td>\n",
              "      <td>3.953000e+03</td>\n",
              "      <td>3.953000e+03</td>\n",
              "      <td>3953.000000</td>\n",
              "      <td>3.953000e+03</td>\n",
              "    </tr>\n",
              "    <tr>\n",
              "      <th>mean</th>\n",
              "      <td>4.699778e+04</td>\n",
              "      <td>4.699778e+04</td>\n",
              "      <td>1.926944e+04</td>\n",
              "      <td>1.996704e+04</td>\n",
              "      <td>2.656232e+04</td>\n",
              "      <td>2.507008e+04</td>\n",
              "      <td>2.091419e+04</td>\n",
              "      <td>6233.779425</td>\n",
              "      <td>7790.569565</td>\n",
              "      <td>6246.638656</td>\n",
              "      <td>...</td>\n",
              "      <td>2.135579e+04</td>\n",
              "      <td>2.135579e+04</td>\n",
              "      <td>2.135579e+04</td>\n",
              "      <td>2.135579e+04</td>\n",
              "      <td>2.135579e+04</td>\n",
              "      <td>2.135579e+04</td>\n",
              "      <td>2.135579e+04</td>\n",
              "      <td>2.135579e+04</td>\n",
              "      <td>3083.751046</td>\n",
              "      <td>3.329255e+04</td>\n",
              "    </tr>\n",
              "    <tr>\n",
              "      <th>std</th>\n",
              "      <td>1.159730e+05</td>\n",
              "      <td>1.159730e+05</td>\n",
              "      <td>4.773265e+04</td>\n",
              "      <td>5.331035e+04</td>\n",
              "      <td>7.605949e+04</td>\n",
              "      <td>7.123049e+04</td>\n",
              "      <td>5.876413e+04</td>\n",
              "      <td>13122.910977</td>\n",
              "      <td>16403.682377</td>\n",
              "      <td>13143.105162</td>\n",
              "      <td>...</td>\n",
              "      <td>5.269815e+04</td>\n",
              "      <td>5.269815e+04</td>\n",
              "      <td>5.269815e+04</td>\n",
              "      <td>5.269815e+04</td>\n",
              "      <td>5.269815e+04</td>\n",
              "      <td>5.269815e+04</td>\n",
              "      <td>5.269815e+04</td>\n",
              "      <td>5.269815e+04</td>\n",
              "      <td>7150.731559</td>\n",
              "      <td>8.535069e+04</td>\n",
              "    </tr>\n",
              "    <tr>\n",
              "      <th>min</th>\n",
              "      <td>2.100000e+01</td>\n",
              "      <td>2.100000e+01</td>\n",
              "      <td>1.575000e+00</td>\n",
              "      <td>1.365000e+00</td>\n",
              "      <td>1.575000e+00</td>\n",
              "      <td>1.575000e+00</td>\n",
              "      <td>3.600000e+00</td>\n",
              "      <td>2.250000</td>\n",
              "      <td>2.812500</td>\n",
              "      <td>2.250000</td>\n",
              "      <td>...</td>\n",
              "      <td>9.542400e+00</td>\n",
              "      <td>9.542400e+00</td>\n",
              "      <td>9.542400e+00</td>\n",
              "      <td>9.542400e+00</td>\n",
              "      <td>9.542400e+00</td>\n",
              "      <td>9.542400e+00</td>\n",
              "      <td>9.542400e+00</td>\n",
              "      <td>9.542400e+00</td>\n",
              "      <td>1.365000</td>\n",
              "      <td>1.422000e+02</td>\n",
              "    </tr>\n",
              "    <tr>\n",
              "      <th>25%</th>\n",
              "      <td>8.930000e+02</td>\n",
              "      <td>8.930000e+02</td>\n",
              "      <td>5.809440e+02</td>\n",
              "      <td>3.745760e+02</td>\n",
              "      <td>5.365206e+02</td>\n",
              "      <td>4.679280e+02</td>\n",
              "      <td>2.817900e+02</td>\n",
              "      <td>142.234750</td>\n",
              "      <td>177.793438</td>\n",
              "      <td>142.234750</td>\n",
              "      <td>...</td>\n",
              "      <td>4.057792e+02</td>\n",
              "      <td>4.057792e+02</td>\n",
              "      <td>4.057792e+02</td>\n",
              "      <td>4.057792e+02</td>\n",
              "      <td>4.057792e+02</td>\n",
              "      <td>4.057792e+02</td>\n",
              "      <td>4.057792e+02</td>\n",
              "      <td>4.057792e+02</td>\n",
              "      <td>130.928000</td>\n",
              "      <td>8.803800e+02</td>\n",
              "    </tr>\n",
              "    <tr>\n",
              "      <th>50%</th>\n",
              "      <td>2.126000e+04</td>\n",
              "      <td>2.126000e+04</td>\n",
              "      <td>9.144000e+03</td>\n",
              "      <td>7.496000e+03</td>\n",
              "      <td>1.192400e+04</td>\n",
              "      <td>9.474400e+03</td>\n",
              "      <td>5.445000e+03</td>\n",
              "      <td>2133.447750</td>\n",
              "      <td>2666.809688</td>\n",
              "      <td>2133.447750</td>\n",
              "      <td>...</td>\n",
              "      <td>9.660544e+03</td>\n",
              "      <td>9.660544e+03</td>\n",
              "      <td>9.660544e+03</td>\n",
              "      <td>9.660544e+03</td>\n",
              "      <td>9.660544e+03</td>\n",
              "      <td>9.660544e+03</td>\n",
              "      <td>9.660544e+03</td>\n",
              "      <td>9.660544e+03</td>\n",
              "      <td>1135.400400</td>\n",
              "      <td>1.305900e+04</td>\n",
              "    </tr>\n",
              "    <tr>\n",
              "      <th>75%</th>\n",
              "      <td>4.297300e+04</td>\n",
              "      <td>4.297300e+04</td>\n",
              "      <td>9.144000e+03</td>\n",
              "      <td>7.496000e+03</td>\n",
              "      <td>1.541400e+04</td>\n",
              "      <td>9.474400e+03</td>\n",
              "      <td>9.670000e+03</td>\n",
              "      <td>7280.358750</td>\n",
              "      <td>9100.448437</td>\n",
              "      <td>7280.358750</td>\n",
              "      <td>...</td>\n",
              "      <td>1.952693e+04</td>\n",
              "      <td>1.952693e+04</td>\n",
              "      <td>1.952693e+04</td>\n",
              "      <td>1.952693e+04</td>\n",
              "      <td>1.952693e+04</td>\n",
              "      <td>1.952693e+04</td>\n",
              "      <td>1.952693e+04</td>\n",
              "      <td>1.952693e+04</td>\n",
              "      <td>2571.898415</td>\n",
              "      <td>2.728500e+04</td>\n",
              "    </tr>\n",
              "    <tr>\n",
              "      <th>max</th>\n",
              "      <td>2.538980e+06</td>\n",
              "      <td>2.538980e+06</td>\n",
              "      <td>1.249756e+06</td>\n",
              "      <td>1.425398e+06</td>\n",
              "      <td>1.698874e+06</td>\n",
              "      <td>1.713460e+06</td>\n",
              "      <td>1.483291e+06</td>\n",
              "      <td>334941.744704</td>\n",
              "      <td>418677.180880</td>\n",
              "      <td>334941.744704</td>\n",
              "      <td>...</td>\n",
              "      <td>1.153712e+06</td>\n",
              "      <td>1.153712e+06</td>\n",
              "      <td>1.153712e+06</td>\n",
              "      <td>1.153712e+06</td>\n",
              "      <td>1.153712e+06</td>\n",
              "      <td>1.153712e+06</td>\n",
              "      <td>1.153712e+06</td>\n",
              "      <td>1.153712e+06</td>\n",
              "      <td>204861.126000</td>\n",
              "      <td>1.713460e+06</td>\n",
              "    </tr>\n",
              "  </tbody>\n",
              "</table>\n",
              "<p>8 rows × 42 columns</p>\n",
              "</div>\n",
              "    <div class=\"colab-df-buttons\">\n",
              "\n",
              "  <div class=\"colab-df-container\">\n",
              "    <button class=\"colab-df-convert\" onclick=\"convertToInteractive('df-4b4ab36c-4f53-472f-b943-0cf8ee492ca8')\"\n",
              "            title=\"Convert this dataframe to an interactive table.\"\n",
              "            style=\"display:none;\">\n",
              "\n",
              "  <svg xmlns=\"http://www.w3.org/2000/svg\" height=\"24px\" viewBox=\"0 -960 960 960\">\n",
              "    <path d=\"M120-120v-720h720v720H120Zm60-500h600v-160H180v160Zm220 220h160v-160H400v160Zm0 220h160v-160H400v160ZM180-400h160v-160H180v160Zm440 0h160v-160H620v160ZM180-180h160v-160H180v160Zm440 0h160v-160H620v160Z\"/>\n",
              "  </svg>\n",
              "    </button>\n",
              "\n",
              "  <style>\n",
              "    .colab-df-container {\n",
              "      display:flex;\n",
              "      gap: 12px;\n",
              "    }\n",
              "\n",
              "    .colab-df-convert {\n",
              "      background-color: #E8F0FE;\n",
              "      border: none;\n",
              "      border-radius: 50%;\n",
              "      cursor: pointer;\n",
              "      display: none;\n",
              "      fill: #1967D2;\n",
              "      height: 32px;\n",
              "      padding: 0 0 0 0;\n",
              "      width: 32px;\n",
              "    }\n",
              "\n",
              "    .colab-df-convert:hover {\n",
              "      background-color: #E2EBFA;\n",
              "      box-shadow: 0px 1px 2px rgba(60, 64, 67, 0.3), 0px 1px 3px 1px rgba(60, 64, 67, 0.15);\n",
              "      fill: #174EA6;\n",
              "    }\n",
              "\n",
              "    .colab-df-buttons div {\n",
              "      margin-bottom: 4px;\n",
              "    }\n",
              "\n",
              "    [theme=dark] .colab-df-convert {\n",
              "      background-color: #3B4455;\n",
              "      fill: #D2E3FC;\n",
              "    }\n",
              "\n",
              "    [theme=dark] .colab-df-convert:hover {\n",
              "      background-color: #434B5C;\n",
              "      box-shadow: 0px 1px 3px 1px rgba(0, 0, 0, 0.15);\n",
              "      filter: drop-shadow(0px 1px 2px rgba(0, 0, 0, 0.3));\n",
              "      fill: #FFFFFF;\n",
              "    }\n",
              "  </style>\n",
              "\n",
              "    <script>\n",
              "      const buttonEl =\n",
              "        document.querySelector('#df-4b4ab36c-4f53-472f-b943-0cf8ee492ca8 button.colab-df-convert');\n",
              "      buttonEl.style.display =\n",
              "        google.colab.kernel.accessAllowed ? 'block' : 'none';\n",
              "\n",
              "      async function convertToInteractive(key) {\n",
              "        const element = document.querySelector('#df-4b4ab36c-4f53-472f-b943-0cf8ee492ca8');\n",
              "        const dataTable =\n",
              "          await google.colab.kernel.invokeFunction('convertToInteractive',\n",
              "                                                    [key], {});\n",
              "        if (!dataTable) return;\n",
              "\n",
              "        const docLinkHtml = 'Like what you see? Visit the ' +\n",
              "          '<a target=\"_blank\" href=https://colab.research.google.com/notebooks/data_table.ipynb>data table notebook</a>'\n",
              "          + ' to learn more about interactive tables.';\n",
              "        element.innerHTML = '';\n",
              "        dataTable['output_type'] = 'display_data';\n",
              "        await google.colab.output.renderOutput(dataTable, element);\n",
              "        const docLink = document.createElement('div');\n",
              "        docLink.innerHTML = docLinkHtml;\n",
              "        element.appendChild(docLink);\n",
              "      }\n",
              "    </script>\n",
              "  </div>\n",
              "\n",
              "\n",
              "<div id=\"df-98c8174c-17ed-4b6c-ac1e-c8489aaebe2b\">\n",
              "  <button class=\"colab-df-quickchart\" onclick=\"quickchart('df-98c8174c-17ed-4b6c-ac1e-c8489aaebe2b')\"\n",
              "            title=\"Suggest charts.\"\n",
              "            style=\"display:none;\">\n",
              "\n",
              "<svg xmlns=\"http://www.w3.org/2000/svg\" height=\"24px\"viewBox=\"0 0 24 24\"\n",
              "     width=\"24px\">\n",
              "    <g>\n",
              "        <path d=\"M19 3H5c-1.1 0-2 .9-2 2v14c0 1.1.9 2 2 2h14c1.1 0 2-.9 2-2V5c0-1.1-.9-2-2-2zM9 17H7v-7h2v7zm4 0h-2V7h2v10zm4 0h-2v-4h2v4z\"/>\n",
              "    </g>\n",
              "</svg>\n",
              "  </button>\n",
              "\n",
              "<style>\n",
              "  .colab-df-quickchart {\n",
              "      --bg-color: #E8F0FE;\n",
              "      --fill-color: #1967D2;\n",
              "      --hover-bg-color: #E2EBFA;\n",
              "      --hover-fill-color: #174EA6;\n",
              "      --disabled-fill-color: #AAA;\n",
              "      --disabled-bg-color: #DDD;\n",
              "  }\n",
              "\n",
              "  [theme=dark] .colab-df-quickchart {\n",
              "      --bg-color: #3B4455;\n",
              "      --fill-color: #D2E3FC;\n",
              "      --hover-bg-color: #434B5C;\n",
              "      --hover-fill-color: #FFFFFF;\n",
              "      --disabled-bg-color: #3B4455;\n",
              "      --disabled-fill-color: #666;\n",
              "  }\n",
              "\n",
              "  .colab-df-quickchart {\n",
              "    background-color: var(--bg-color);\n",
              "    border: none;\n",
              "    border-radius: 50%;\n",
              "    cursor: pointer;\n",
              "    display: none;\n",
              "    fill: var(--fill-color);\n",
              "    height: 32px;\n",
              "    padding: 0;\n",
              "    width: 32px;\n",
              "  }\n",
              "\n",
              "  .colab-df-quickchart:hover {\n",
              "    background-color: var(--hover-bg-color);\n",
              "    box-shadow: 0 1px 2px rgba(60, 64, 67, 0.3), 0 1px 3px 1px rgba(60, 64, 67, 0.15);\n",
              "    fill: var(--button-hover-fill-color);\n",
              "  }\n",
              "\n",
              "  .colab-df-quickchart-complete:disabled,\n",
              "  .colab-df-quickchart-complete:disabled:hover {\n",
              "    background-color: var(--disabled-bg-color);\n",
              "    fill: var(--disabled-fill-color);\n",
              "    box-shadow: none;\n",
              "  }\n",
              "\n",
              "  .colab-df-spinner {\n",
              "    border: 2px solid var(--fill-color);\n",
              "    border-color: transparent;\n",
              "    border-bottom-color: var(--fill-color);\n",
              "    animation:\n",
              "      spin 1s steps(1) infinite;\n",
              "  }\n",
              "\n",
              "  @keyframes spin {\n",
              "    0% {\n",
              "      border-color: transparent;\n",
              "      border-bottom-color: var(--fill-color);\n",
              "      border-left-color: var(--fill-color);\n",
              "    }\n",
              "    20% {\n",
              "      border-color: transparent;\n",
              "      border-left-color: var(--fill-color);\n",
              "      border-top-color: var(--fill-color);\n",
              "    }\n",
              "    30% {\n",
              "      border-color: transparent;\n",
              "      border-left-color: var(--fill-color);\n",
              "      border-top-color: var(--fill-color);\n",
              "      border-right-color: var(--fill-color);\n",
              "    }\n",
              "    40% {\n",
              "      border-color: transparent;\n",
              "      border-right-color: var(--fill-color);\n",
              "      border-top-color: var(--fill-color);\n",
              "    }\n",
              "    60% {\n",
              "      border-color: transparent;\n",
              "      border-right-color: var(--fill-color);\n",
              "    }\n",
              "    80% {\n",
              "      border-color: transparent;\n",
              "      border-right-color: var(--fill-color);\n",
              "      border-bottom-color: var(--fill-color);\n",
              "    }\n",
              "    90% {\n",
              "      border-color: transparent;\n",
              "      border-bottom-color: var(--fill-color);\n",
              "    }\n",
              "  }\n",
              "</style>\n",
              "\n",
              "  <script>\n",
              "    async function quickchart(key) {\n",
              "      const quickchartButtonEl =\n",
              "        document.querySelector('#' + key + ' button');\n",
              "      quickchartButtonEl.disabled = true;  // To prevent multiple clicks.\n",
              "      quickchartButtonEl.classList.add('colab-df-spinner');\n",
              "      try {\n",
              "        const charts = await google.colab.kernel.invokeFunction(\n",
              "            'suggestCharts', [key], {});\n",
              "      } catch (error) {\n",
              "        console.error('Error during call to suggestCharts:', error);\n",
              "      }\n",
              "      quickchartButtonEl.classList.remove('colab-df-spinner');\n",
              "      quickchartButtonEl.classList.add('colab-df-quickchart-complete');\n",
              "    }\n",
              "    (() => {\n",
              "      let quickchartButtonEl =\n",
              "        document.querySelector('#df-98c8174c-17ed-4b6c-ac1e-c8489aaebe2b button');\n",
              "      quickchartButtonEl.style.display =\n",
              "        google.colab.kernel.accessAllowed ? 'block' : 'none';\n",
              "    })();\n",
              "  </script>\n",
              "</div>\n",
              "    </div>\n",
              "  </div>\n"
            ]
          },
          "metadata": {},
          "execution_count": 112
        }
      ]
    },
    {
      "cell_type": "code",
      "source": [
        "# Data distribution\n",
        "\n",
        "# Calculate mean, median, and mode\n",
        "mean2= df2_clean[['Gross Charges','Discounted Cash Price','Minimum Negotiated Charge', 'Maximum Negotiated Charge','Aetna','Cigna','Empire Blue Cross Blue Shield','Emblem Health','United Health Group','Aetna Medicare','AgeWell Medicare','Emblem Medicare','Empire Medicare','Fidelis Medicare','Healthfirst Medicare','UHC_CommPlan_Medicare','VNS Medicare','WellCare Medicare','1199','Affinity Molina Essential','Affinity_Molina_Medicaid_CHP','Amida Care Medicaid','Emblem_Medicaid_CHP','Empire Healthplus Essential','Empire Healthplus Exchange','Empire_Healthplus_MedicaidCHP','Fidelis_Essential_Exchange','Fidelis_Medicaid_CHP','Healthfirst_Essential_Exchange','Healthfirst_Medicaid_CHP','MVP_Medicaid_CHP','MVP Essential','United Community Plan Essential','United Community Plan Medicaid','VNS Medicaid','Consumer Health Network','Devon','Equian','First Health', 'Magnacare','Multiplan_Beechstreet_PHCS','QHM','Worldwide']].mean()\n",
        "median2 = df2_clean[['Gross Charges','Discounted Cash Price','Minimum Negotiated Charge', 'Maximum Negotiated Charge','Aetna','Cigna','Empire Blue Cross Blue Shield','Emblem Health','United Health Group','Aetna Medicare','AgeWell Medicare','Emblem Medicare','Empire Medicare','Fidelis Medicare','Healthfirst Medicare','UHC_CommPlan_Medicare','VNS Medicare','WellCare Medicare','1199','Affinity Molina Essential','Affinity_Molina_Medicaid_CHP','Amida Care Medicaid','Emblem_Medicaid_CHP','Empire Healthplus Essential','Empire Healthplus Exchange','Empire_Healthplus_MedicaidCHP','Fidelis_Essential_Exchange','Fidelis_Medicaid_CHP','Healthfirst_Essential_Exchange','Healthfirst_Medicaid_CHP','MVP_Medicaid_CHP','MVP Essential','United Community Plan Essential','United Community Plan Medicaid','VNS Medicaid','Consumer Health Network','Devon','Equian','First Health', 'Magnacare','Multiplan_Beechstreet_PHCS','QHM','Worldwide']].median()\n",
        "mode2 = df2_clean[['Gross Charges','Discounted Cash Price','Minimum Negotiated Charge', 'Maximum Negotiated Charge','Aetna','Cigna','Empire Blue Cross Blue Shield','Emblem Health','United Health Group','Aetna Medicare','AgeWell Medicare','Emblem Medicare','Empire Medicare','Fidelis Medicare','Healthfirst Medicare','UHC_CommPlan_Medicare','VNS Medicare','WellCare Medicare','1199','Affinity Molina Essential','Affinity_Molina_Medicaid_CHP','Amida Care Medicaid','Emblem_Medicaid_CHP','Empire Healthplus Essential','Empire Healthplus Exchange','Empire_Healthplus_MedicaidCHP','Fidelis_Essential_Exchange','Fidelis_Medicaid_CHP','Healthfirst_Essential_Exchange','Healthfirst_Medicaid_CHP','MVP_Medicaid_CHP','MVP Essential','United Community Plan Essential','United Community Plan Medicaid','VNS Medicaid','Consumer Health Network','Devon','Equian','First Health', 'Magnacare','Multiplan_Beechstreet_PHCS','QHM','Worldwide']].mode().iloc[0]\n",
        "print(\"Mean is:\\n\", mean2, '\\n')\n",
        "print(\"Median is:\\n\", median2, '\\n')\n",
        "print(\"Mode is:\\n \", mode2, '\\n')\n",
        "# Calculate range\n",
        "range2 = df2_clean[['Gross Charges','Discounted Cash Price','Minimum Negotiated Charge', 'Maximum Negotiated Charge','Aetna','Cigna','Empire Blue Cross Blue Shield','Emblem Health','United Health Group','Aetna Medicare','AgeWell Medicare','Emblem Medicare','Empire Medicare','Fidelis Medicare','Healthfirst Medicare','UHC_CommPlan_Medicare','VNS Medicare','WellCare Medicare','1199','Affinity Molina Essential','Affinity_Molina_Medicaid_CHP','Amida Care Medicaid','Emblem_Medicaid_CHP','Empire Healthplus Essential','Empire Healthplus Exchange','Empire_Healthplus_MedicaidCHP','Fidelis_Essential_Exchange','Fidelis_Medicaid_CHP','Healthfirst_Essential_Exchange','Healthfirst_Medicaid_CHP','MVP_Medicaid_CHP','MVP Essential','United Community Plan Essential','United Community Plan Medicaid','VNS Medicaid','Consumer Health Network','Devon','Equian','First Health', 'Magnacare','Multiplan_Beechstreet_PHCS','QHM','Worldwide']].max() - df2_clean[['Gross Charges','Discounted Cash Price','Minimum Negotiated Charge', 'Maximum Negotiated Charge','Aetna','Cigna','Empire Blue Cross Blue Shield','Emblem Health','United Health Group','Aetna Medicare','AgeWell Medicare','Emblem Medicare','Empire Medicare','Fidelis Medicare','Healthfirst Medicare','UHC_CommPlan_Medicare','VNS Medicare','WellCare Medicare','1199','Affinity Molina Essential','Affinity_Molina_Medicaid_CHP','Amida Care Medicaid','Emblem_Medicaid_CHP','Empire Healthplus Essential','Empire Healthplus Exchange','Empire_Healthplus_MedicaidCHP','Fidelis_Essential_Exchange','Fidelis_Medicaid_CHP','Healthfirst_Essential_Exchange','Healthfirst_Medicaid_CHP','MVP_Medicaid_CHP','MVP Essential','United Community Plan Essential','United Community Plan Medicaid','VNS Medicaid','Consumer Health Network','Devon','Equian','First Health', 'Magnacare','Multiplan_Beechstreet_PHCS','QHM','Worldwide']].min()\n",
        "print(\"Range is:\\n\", range2, '\\n')\n",
        "# Calculate variance and standard deviation\n",
        "variance2 = np.var(df2_clean[['Gross Charges','Discounted Cash Price','Minimum Negotiated Charge', 'Maximum Negotiated Charge','Aetna','Cigna','Empire Blue Cross Blue Shield','Emblem Health','United Health Group','Aetna Medicare','AgeWell Medicare','Emblem Medicare','Empire Medicare','Fidelis Medicare','Healthfirst Medicare','UHC_CommPlan_Medicare','VNS Medicare','WellCare Medicare','1199','Affinity Molina Essential','Affinity_Molina_Medicaid_CHP','Amida Care Medicaid','Emblem_Medicaid_CHP','Empire Healthplus Essential','Empire Healthplus Exchange','Empire_Healthplus_MedicaidCHP','Fidelis_Essential_Exchange','Fidelis_Medicaid_CHP','Healthfirst_Essential_Exchange','Healthfirst_Medicaid_CHP','MVP_Medicaid_CHP','MVP Essential','United Community Plan Essential','United Community Plan Medicaid','VNS Medicaid','Consumer Health Network','Devon','Equian','First Health', 'Magnacare','Multiplan_Beechstreet_PHCS','QHM','Worldwide']])\n",
        "print(\"Variance is:\\n\",variance2, '\\n')\n",
        "std_dev2 = np.std(df2_clean[['Gross Charges','Discounted Cash Price','Minimum Negotiated Charge', 'Maximum Negotiated Charge','Aetna','Cigna','Empire Blue Cross Blue Shield','Emblem Health','United Health Group','Aetna Medicare','AgeWell Medicare','Emblem Medicare','Empire Medicare','Fidelis Medicare','Healthfirst Medicare','UHC_CommPlan_Medicare','VNS Medicare','WellCare Medicare','1199','Affinity Molina Essential','Affinity_Molina_Medicaid_CHP','Amida Care Medicaid','Emblem_Medicaid_CHP','Empire Healthplus Essential','Empire Healthplus Exchange','Empire_Healthplus_MedicaidCHP','Fidelis_Essential_Exchange','Fidelis_Medicaid_CHP','Healthfirst_Essential_Exchange','Healthfirst_Medicaid_CHP','MVP_Medicaid_CHP','MVP Essential','United Community Plan Essential','United Community Plan Medicaid','VNS Medicaid','Consumer Health Network','Devon','Equian','First Health', 'Magnacare','Multiplan_Beechstreet_PHCS','QHM','Worldwide']])\n",
        "print(\"Standard Deviation is:\\n\", std_dev2)"
      ],
      "metadata": {
        "colab": {
          "base_uri": "https://localhost:8080/"
        },
        "outputId": "be15d6c0-d379-4b87-9d45-32e5714c8331",
        "id": "VW3ptdwAI7Q1"
      },
      "execution_count": 120,
      "outputs": [
        {
          "output_type": "stream",
          "name": "stdout",
          "text": [
            "Mean is:\n",
            " Gross Charges                      46997.780489\n",
            "Discounted Cash Price              46997.780489\n",
            "Minimum Negotiated Charge           3083.751046\n",
            "Maximum Negotiated Charge          33292.549226\n",
            "Aetna                              19269.438005\n",
            "Cigna                              19967.040150\n",
            "Empire Blue Cross Blue Shield      26562.318413\n",
            "Emblem Health                      25070.083919\n",
            "United Health Group                20914.191400\n",
            "Aetna Medicare                      6233.779425\n",
            "AgeWell Medicare                    7790.569565\n",
            "Emblem Medicare                     6246.638656\n",
            "Empire Medicare                     6248.502476\n",
            "Fidelis Medicare                    6361.668202\n",
            "Healthfirst Medicare                6420.594242\n",
            "UHC_CommPlan_Medicare               7642.978928\n",
            "VNS Medicare                        6466.359382\n",
            "WellCare Medicare                   6451.730045\n",
            "1199                                8580.817309\n",
            "Affinity Molina Essential          12429.147795\n",
            "Affinity_Molina_Medicaid_CHP        5418.781546\n",
            "Amida Care Medicaid                 5562.902198\n",
            "Emblem_Medicaid_CHP                 5567.230264\n",
            "Empire Healthplus Essential        10905.141058\n",
            "Empire Healthplus Exchange         12116.823398\n",
            "Empire_Healthplus_MedicaidCHP       4846.729359\n",
            "Fidelis_Essential_Exchange         12116.823398\n",
            "Fidelis_Medicaid_CHP                5421.225650\n",
            "Healthfirst_Essential_Exchange     10676.206364\n",
            "Healthfirst_Medicaid_CHP            5089.065827\n",
            "MVP_Medicaid_CHP                    5421.225650\n",
            "MVP Essential                       5816.075231\n",
            "United Community Plan Essential     6783.808515\n",
            "United Community Plan Medicaid      4848.552175\n",
            "VNS Medicaid                        5410.836146\n",
            "Consumer Health Network            21355.791454\n",
            "Devon                              21355.791454\n",
            "Equian                             21355.791454\n",
            "First Health                       21355.791454\n",
            "Magnacare                          21355.791454\n",
            "Multiplan_Beechstreet_PHCS         21355.791454\n",
            "QHM                                21355.791454\n",
            "Worldwide                          21355.791454\n",
            "dtype: float64 \n",
            "\n",
            "Median is:\n",
            " Gross Charges                      21260.000000\n",
            "Discounted Cash Price              21260.000000\n",
            "Minimum Negotiated Charge           1135.400400\n",
            "Maximum Negotiated Charge          13059.000000\n",
            "Aetna                               9144.000000\n",
            "Cigna                               7496.000000\n",
            "Empire Blue Cross Blue Shield      11924.000000\n",
            "Emblem Health                       9474.400000\n",
            "United Health Group                 5445.000000\n",
            "Aetna Medicare                      2133.447750\n",
            "AgeWell Medicare                    2666.809688\n",
            "Emblem Medicare                     2133.447750\n",
            "Empire Medicare                     2133.447750\n",
            "Fidelis Medicare                    2133.447750\n",
            "Healthfirst Medicare                2197.451182\n",
            "UHC_CommPlan_Medicare               2154.782227\n",
            "VNS Medicare                        2197.451182\n",
            "WellCare Medicare                   2208.118421\n",
            "1199                                2107.000000\n",
            "Affinity Molina Essential           2864.310570\n",
            "Affinity_Molina_Medicaid_CHP        1273.026920\n",
            "Amida Care Medicaid                 1463.980958\n",
            "Emblem_Medicaid_CHP                 1463.980958\n",
            "Empire Healthplus Essential         2864.310570\n",
            "Empire Healthplus Exchange          3182.567300\n",
            "Empire_Healthplus_MedicaidCHP       1273.026920\n",
            "Fidelis_Essential_Exchange          3182.567300\n",
            "Fidelis_Medicaid_CHP                1273.026920\n",
            "Healthfirst_Essential_Exchange      8530.800000\n",
            "Healthfirst_Medicaid_CHP            1336.678266\n",
            "MVP_Medicaid_CHP                    1273.026920\n",
            "MVP Essential                       1527.632304\n",
            "United Community Plan Essential     1782.237688\n",
            "United Community Plan Medicaid      1273.026920\n",
            "VNS Medicaid                        1273.026920\n",
            "Consumer Health Network             9660.544000\n",
            "Devon                               9660.544000\n",
            "Equian                              9660.544000\n",
            "First Health                        9660.544000\n",
            "Magnacare                           9660.544000\n",
            "Multiplan_Beechstreet_PHCS          9660.544000\n",
            "QHM                                 9660.544000\n",
            "Worldwide                           9660.544000\n",
            "dtype: float64 \n",
            "\n",
            "Mode is:\n",
            "  Gross Charges                        181.000000\n",
            "Discounted Cash Price                181.000000\n",
            "Minimum Negotiated Charge           2412.000000\n",
            "Maximum Negotiated Charge          11924.000000\n",
            "Aetna                               9144.000000\n",
            "Cigna                               7496.000000\n",
            "Empire Blue Cross Blue Shield      11924.000000\n",
            "Emblem Health                       9474.400000\n",
            "United Health Group                 6002.000000\n",
            "Aetna Medicare                      3646.408500\n",
            "AgeWell Medicare                    4558.010625\n",
            "Emblem Medicare                     3646.408500\n",
            "Empire Medicare                     3646.408500\n",
            "Fidelis Medicare                    3646.408500\n",
            "Healthfirst Medicare                3755.800755\n",
            "UHC_CommPlan_Medicare               3682.872585\n",
            "VNS Medicare                        3755.800755\n",
            "WellCare Medicare                   3774.032798\n",
            "1199                                2107.000000\n",
            "Affinity Molina Essential            190.448895\n",
            "Affinity_Molina_Medicaid_CHP          84.643953\n",
            "Amida Care Medicaid                   97.340546\n",
            "Emblem_Medicaid_CHP                   97.340546\n",
            "Empire Healthplus Essential          190.448895\n",
            "Empire Healthplus Exchange           211.609883\n",
            "Empire_Healthplus_MedicaidCHP         84.643953\n",
            "Fidelis_Essential_Exchange           211.609883\n",
            "Fidelis_Medicaid_CHP                  84.643953\n",
            "Healthfirst_Essential_Exchange       108.600000\n",
            "Healthfirst_Medicaid_CHP              88.876151\n",
            "MVP_Medicaid_CHP                      84.643953\n",
            "MVP Essential                        101.572744\n",
            "United Community Plan Essential      118.501535\n",
            "United Community Plan Medicaid        84.643953\n",
            "VNS Medicaid                          84.643953\n",
            "Consumer Health Network               82.246400\n",
            "Devon                                 82.246400\n",
            "Equian                                82.246400\n",
            "First Health                          82.246400\n",
            "Magnacare                             82.246400\n",
            "Multiplan_Beechstreet_PHCS            82.246400\n",
            "QHM                                   82.246400\n",
            "Worldwide                             82.246400\n",
            "Name: 0, dtype: float64 \n",
            "\n",
            "Range is:\n",
            " Gross Charges                      2.538959e+06\n",
            "Discounted Cash Price              2.538959e+06\n",
            "Minimum Negotiated Charge          2.048598e+05\n",
            "Maximum Negotiated Charge          1.713318e+06\n",
            "Aetna                              1.249755e+06\n",
            "Cigna                              1.425397e+06\n",
            "Empire Blue Cross Blue Shield      1.698872e+06\n",
            "Emblem Health                      1.713459e+06\n",
            "United Health Group                1.483287e+06\n",
            "Aetna Medicare                     3.349395e+05\n",
            "AgeWell Medicare                   4.186744e+05\n",
            "Emblem Medicare                    3.349395e+05\n",
            "Empire Medicare                    3.349395e+05\n",
            "Fidelis Medicare                   3.449877e+05\n",
            "Healthfirst Medicare               3.449877e+05\n",
            "UHC_CommPlan_Medicare              7.665107e+05\n",
            "VNS Medicare                       3.449877e+05\n",
            "WellCare Medicare                  3.466624e+05\n",
            "1199                               5.793609e+05\n",
            "Affinity Molina Essential          9.047921e+05\n",
            "Affinity_Molina_Medicaid_CHP       3.926455e+05\n",
            "Amida Care Medicaid                3.926447e+05\n",
            "Emblem_Medicaid_CHP                3.926447e+05\n",
            "Empire Healthplus Essential        7.682180e+05\n",
            "Empire Healthplus Exchange         8.535755e+05\n",
            "Empire_Healthplus_MedicaidCHP      3.414302e+05\n",
            "Fidelis_Essential_Exchange         8.535755e+05\n",
            "Fidelis_Medicaid_CHP               3.926455e+05\n",
            "Healthfirst_Essential_Exchange     2.048485e+05\n",
            "Healthfirst_Medicaid_CHP           3.585017e+05\n",
            "MVP_Medicaid_CHP                   3.926455e+05\n",
            "MVP Essential                      4.097163e+05\n",
            "United Community Plan Essential    4.780023e+05\n",
            "United Community Plan Medicaid     3.414302e+05\n",
            "VNS Medicaid                       3.926455e+05\n",
            "Consumer Health Network            1.153703e+06\n",
            "Devon                              1.153703e+06\n",
            "Equian                             1.153703e+06\n",
            "First Health                       1.153703e+06\n",
            "Magnacare                          1.153703e+06\n",
            "Multiplan_Beechstreet_PHCS         1.153703e+06\n",
            "QHM                                1.153703e+06\n",
            "Worldwide                          1.153703e+06\n",
            "dtype: float64 \n",
            "\n",
            "Variance is:\n",
            " Gross Charges                      1.344634e+10\n",
            "Discounted Cash Price              1.344634e+10\n",
            "Minimum Negotiated Charge          5.112003e+07\n",
            "Maximum Negotiated Charge          7.282898e+09\n",
            "Aetna                              2.277829e+09\n",
            "Cigna                              2.841275e+09\n",
            "Empire Blue Cross Blue Shield      5.783582e+09\n",
            "Emblem Health                      5.072499e+09\n",
            "United Health Group                3.452349e+09\n",
            "Aetna Medicare                     1.721672e+08\n",
            "AgeWell Medicare                   2.690127e+08\n",
            "Emblem Medicare                    1.726975e+08\n",
            "Empire Medicare                    1.727826e+08\n",
            "Fidelis Medicare                   1.824356e+08\n",
            "Healthfirst Medicare               1.826521e+08\n",
            "UHC_CommPlan_Medicare              1.046179e+09\n",
            "VNS Medicare                       1.842289e+08\n",
            "WellCare Medicare                  1.844297e+08\n",
            "1199                               5.048566e+08\n",
            "Affinity Molina Essential          1.146373e+09\n",
            "Affinity_Molina_Medicaid_CHP       2.158401e+08\n",
            "Amida Care Medicaid                2.153500e+08\n",
            "Emblem_Medicaid_CHP                2.154112e+08\n",
            "Empire Healthplus Essential        8.251765e+08\n",
            "Empire Healthplus Exchange         1.018736e+09\n",
            "Empire_Healthplus_MedicaidCHP      1.629978e+08\n",
            "Fidelis_Essential_Exchange         1.018736e+09\n",
            "Fidelis_Medicaid_CHP               2.159308e+08\n",
            "Healthfirst_Essential_Exchange     1.450098e+08\n",
            "Healthfirst_Medicaid_CHP           1.797051e+08\n",
            "MVP_Medicaid_CHP                   2.159308e+08\n",
            "MVP Essential                      2.347169e+08\n",
            "United Community Plan Essential    3.195207e+08\n",
            "United Community Plan Medicaid     1.630694e+08\n",
            "VNS Medicaid                       2.157148e+08\n",
            "Consumer Health Network            2.776392e+09\n",
            "Devon                              2.776392e+09\n",
            "Equian                             2.776392e+09\n",
            "First Health                       2.776392e+09\n",
            "Magnacare                          2.776392e+09\n",
            "Multiplan_Beechstreet_PHCS         2.776392e+09\n",
            "QHM                                2.776392e+09\n",
            "Worldwide                          2.776392e+09\n",
            "dtype: float64 \n",
            "\n",
            "Standard Deviation is:\n",
            " Gross Charges                      115958.368773\n",
            "Discounted Cash Price              115958.368773\n",
            "Minimum Negotiated Charge            7149.827032\n",
            "Maximum Negotiated Charge           85339.898374\n",
            "Aetna                               47726.610613\n",
            "Cigna                               53303.608366\n",
            "Empire Blue Cross Blue Shield       76049.868497\n",
            "Emblem Health                       71221.475796\n",
            "United Health Group                 58756.694678\n",
            "Aetna Medicare                      13121.251004\n",
            "AgeWell Medicare                    16401.607406\n",
            "Emblem Medicare                     13141.442635\n",
            "Empire Medicare                     13144.681245\n",
            "Fidelis Medicare                    13506.870764\n",
            "Healthfirst Medicare                13514.885324\n",
            "UHC_CommPlan_Medicare               32344.696875\n",
            "VNS Medicare                        13573.095139\n",
            "WellCare Medicare                   13580.491315\n",
            "1199                                22469.015138\n",
            "Affinity Molina Essential           33858.127381\n",
            "Affinity_Molina_Medicaid_CHP        14691.496430\n",
            "Amida Care Medicaid                 14674.807132\n",
            "Emblem_Medicaid_CHP                 14676.891727\n",
            "Empire Healthplus Essential         28725.885389\n",
            "Empire Healthplus Exchange          31917.650432\n",
            "Empire_Healthplus_MedicaidCHP       12767.060173\n",
            "Fidelis_Essential_Exchange          31917.650432\n",
            "Fidelis_Medicaid_CHP                14694.585062\n",
            "Healthfirst_Essential_Exchange      12041.999574\n",
            "Healthfirst_Medicaid_CHP            13405.413181\n",
            "MVP_Medicaid_CHP                    14694.585062\n",
            "MVP Essential                       15320.472207\n",
            "United Community Plan Essential     17875.142379\n",
            "United Community Plan Medicaid      12769.862171\n",
            "VNS Medicaid                        14687.233365\n",
            "Consumer Health Network             52691.482770\n",
            "Devon                               52691.482770\n",
            "Equian                              52691.482770\n",
            "First Health                        52691.482770\n",
            "Magnacare                           52691.482770\n",
            "Multiplan_Beechstreet_PHCS          52691.482770\n",
            "QHM                                 52691.482770\n",
            "Worldwide                           52691.482770\n",
            "dtype: float64\n"
          ]
        }
      ]
    },
    {
      "cell_type": "code",
      "source": [
        "# Remove outliers by only allowing data within 3 standard deviations to display in the graph\n",
        "df2_clean_outliers = df2_clean[df2_clean[['Gross Charges','Discounted Cash Price','Minimum Negotiated Charge', 'Maximum Negotiated Charge','Aetna','Cigna','Empire Blue Cross Blue Shield','Emblem Health','United Health Group','Aetna Medicare','AgeWell Medicare','Emblem Medicare','Empire Medicare','Fidelis Medicare','Healthfirst Medicare','UHC_CommPlan_Medicare','VNS Medicare','WellCare Medicare','1199','Affinity Molina Essential','Affinity_Molina_Medicaid_CHP','Amida Care Medicaid','Emblem_Medicaid_CHP','Empire Healthplus Essential','Empire Healthplus Exchange','Empire_Healthplus_MedicaidCHP','Fidelis_Essential_Exchange','Fidelis_Medicaid_CHP','Healthfirst_Essential_Exchange','Healthfirst_Medicaid_CHP','MVP_Medicaid_CHP','MVP Essential','United Community Plan Essential','United Community Plan Medicaid','VNS Medicaid','Consumer Health Network','Devon','Equian','First Health', 'Magnacare','Multiplan_Beechstreet_PHCS','QHM','Worldwide']]<= std_dev2*3]"
      ],
      "metadata": {
        "id": "ydmTLL95I7Q2"
      },
      "execution_count": 137,
      "outputs": []
    },
    {
      "cell_type": "code",
      "source": [
        "fig1 = go.Figure(data=[go.Histogram(x=df2_clean_outliers['Gross Charges'], histnorm='probability')])\n",
        "print('Gross Charges Histogram')\n",
        "\n",
        "display.Image(\"/content/newplot (4).png\")"
      ],
      "metadata": {
        "colab": {
          "base_uri": "https://localhost:8080/",
          "height": 559
        },
        "id": "nqdi3CidZPR2",
        "outputId": "3aa78bc8-2d34-42b4-8179-e7a7c32cfb07"
      },
      "execution_count": 135,
      "outputs": [
        {
          "output_type": "stream",
          "name": "stdout",
          "text": [
            "Gross Charges Histogram\n"
          ]
        },
        {
          "output_type": "execute_result",
          "data": {
            "image/png": "[encoded data removed]",
            "text/plain": [
              "<IPython.core.display.Image object>"
            ]
          },
          "metadata": {},
          "execution_count": 135
        }
      ]
    },
    {
      "cell_type": "code",
      "source": [
        "df2_clean['CPTDRGCode'].value_counts()"
      ],
      "metadata": {
        "colab": {
          "base_uri": "https://localhost:8080/"
        },
        "outputId": "52f00a0a-37e6-4a07-aa18-91e0a967d1c3",
        "id": "j-evDCjRI7Q1"
      },
      "execution_count": 71,
      "outputs": [
        {
          "output_type": "execute_result",
          "data": {
            "text/plain": [
              "96360    1\n",
              "D0705    1\n",
              "D0431    1\n",
              "D0425    1\n",
              "D0423    1\n",
              "        ..\n",
              "29874    1\n",
              "29873    1\n",
              "29871    1\n",
              "29870    1\n",
              "989      1\n",
              "Name: CPTDRGCode, Length: 6193, dtype: int64"
            ]
          },
          "metadata": {},
          "execution_count": 71
        }
      ]
    },
    {
      "cell_type": "code",
      "source": [
        "df2_clean['Description'].value_counts()"
      ],
      "metadata": {
        "colab": {
          "base_uri": "https://localhost:8080/"
        },
        "id": "F1BInf8aR7QZ",
        "outputId": "b032d563-a45e-4f25-af3a-a33d2ab1c8de"
      },
      "execution_count": 72,
      "outputs": [
        {
          "output_type": "execute_result",
          "data": {
            "text/plain": [
              "KNEE ARTHROSCOPY/SURGERY                                                         16\n",
              "REPAIR EYELID DEFECT                                                             12\n",
              "CYSTOSCOPY AND TREATMENT                                                         12\n",
              "TREAT HUMERUS FRACTURE                                                            9\n",
              "SHOULDER ARTHROSCOPY/SURGERY                                                      7\n",
              "                                                                                 ..\n",
              "AMPUTATION TOE METATARSAL                                                         1\n",
              "AMPUTATION THRU METATARSAL                                                        1\n",
              "AMPUTATION OF MIDFOOT                                                             1\n",
              "REVISION OF FOOT BONES                                                            1\n",
              "NON-EXTENSIVE O.R. PROCEDURES UNRELATED TO PRINCIPAL DIAGNOSIS WITHOUT CC/MCC     1\n",
              "Name: Description, Length: 5925, dtype: int64"
            ]
          },
          "metadata": {},
          "execution_count": 72
        }
      ]
    },
    {
      "cell_type": "code",
      "source": [
        "df2_clean['Rev Code'].value_counts()"
      ],
      "metadata": {
        "colab": {
          "base_uri": "https://localhost:8080/"
        },
        "id": "8KSKJelvSBzd",
        "outputId": "0e2263ab-a510-48b5-fe3b-f75462c94686"
      },
      "execution_count": 73,
      "outputs": [
        {
          "output_type": "execute_result",
          "data": {
            "text/plain": [
              "0360        1955\n",
              "0512         737\n",
              "Multiple     723\n",
              "0510         421\n",
              "0301         341\n",
              "            ... \n",
              "0770           1\n",
              "0204           1\n",
              "0616           1\n",
              "0110           1\n",
              "0801           1\n",
              "Name: Rev Code, Length: 150, dtype: int64"
            ]
          },
          "metadata": {},
          "execution_count": 73
        }
      ]
    },
    {
      "cell_type": "code",
      "source": [
        "df2_clean['Inpt_Oupt'].value_counts()"
      ],
      "metadata": {
        "colab": {
          "base_uri": "https://localhost:8080/"
        },
        "id": "opmg19BjSIB4",
        "outputId": "d9ab4f0d-b8df-47ae-9180-c3e17a2ee4ff"
      },
      "execution_count": 74,
      "outputs": [
        {
          "output_type": "execute_result",
          "data": {
            "text/plain": [
              "Inpatient/Outpatient    5470\n",
              "Inpatient                723\n",
              "Name: Inpt_Oupt, dtype: int64"
            ]
          },
          "metadata": {},
          "execution_count": 74
        }
      ]
    },
    {
      "cell_type": "markdown",
      "source": [
        "# SQLite Database Operations"
      ],
      "metadata": {
        "id": "YbivWjpdtDsV"
      }
    },
    {
      "cell_type": "code",
      "source": [
        "conn = sqlite3.connect('health.db')\n",
        "c = conn.cursor()"
      ],
      "metadata": {
        "id": "s8fwUxAfst-i"
      },
      "execution_count": 135,
      "outputs": []
    },
    {
      "cell_type": "markdown",
      "source": [
        "### Manual table creation"
      ],
      "metadata": {
        "id": "w2KlnVi1xENl"
      }
    },
    {
      "cell_type": "code",
      "source": [
        "c.execute('''\n",
        "              CREATE TABLE msqCharges7\n",
        "                    (\n",
        "                      Charge_description text,\n",
        "                      Department_name text,\n",
        "                      Rate_Charged real,\n",
        "                      PaidClaim real,\n",
        "                      LostRevenue real\n",
        "                    );\n",
        "          ''')\n",
        "conn.commit()"
      ],
      "metadata": {
        "id": "FpjBbVqXvqs6"
      },
      "execution_count": null,
      "outputs": []
    },
    {
      "cell_type": "code",
      "source": [
        "c.execute('''\n",
        "\n",
        "  SELECT name\n",
        "  FROM sqlite_master\n",
        "  WHERE type='table';\n",
        "   ''')\n",
        "print(c.fetchall())"
      ],
      "metadata": {
        "colab": {
          "base_uri": "https://localhost:8080/"
        },
        "id": "MICnE_cKwxZa",
        "outputId": "d5e0d3f1-dcdb-4e1b-81ba-00fa3841f3e7"
      },
      "execution_count": null,
      "outputs": [
        {
          "output_type": "stream",
          "name": "stdout",
          "text": [
            "[('msqCharges1',), ('msqCharges',), ('msqCharges2',), ('msqCharges3',), ('msqCharges4',), ('msqCharges5',), ('msqCharges5db',), ('msq_database',), ('msqCharges6',), ('msqCharges7',)]\n"
          ]
        }
      ]
    },
    {
      "cell_type": "code",
      "source": [
        "sql_query = '''\n",
        "INSERT INTO msqCharges7\n",
        "  (\n",
        "  'Charge_description',\n",
        "  'Department_name',\n",
        "  'Rate_Charged',\n",
        "  'PaidClaim',\n",
        "  'LostRevenue'\n",
        ")\n",
        "values\n",
        "  (\n",
        "  'Mount Sinai Queens',\n",
        "  'Outpatient Surgery',\n",
        "   10000,\n",
        "   5000,\n",
        "   5000\n",
        ");\n",
        "\n",
        "'''\n",
        "print(sql_query)"
      ],
      "metadata": {
        "colab": {
          "base_uri": "https://localhost:8080/"
        },
        "id": "UNf2cnKyzjul",
        "outputId": "0e0eca48-e78b-4ac5-aa47-c7b698325fb8"
      },
      "execution_count": null,
      "outputs": [
        {
          "output_type": "stream",
          "name": "stdout",
          "text": [
            "\n",
            "INSERT INTO msqCharges7\n",
            "  (\n",
            "  'Charge_description',\n",
            "  'Department_name',\n",
            "  'Rate_Charged',\n",
            "  'PaidClaim',\n",
            "  'LostRevenue'\n",
            ")\n",
            "values\n",
            "  (\n",
            "  'Mount Sinai Queens',\n",
            "  'Outpatient Surgery',\n",
            "   10000,\n",
            "   5000,\n",
            "   5000\n",
            ");\n",
            "\n",
            "\n"
          ]
        }
      ]
    },
    {
      "cell_type": "code",
      "source": [
        "c.execute(sql_query)\n",
        "conn.commit()"
      ],
      "metadata": {
        "id": "QZPLVYsR0yLy"
      },
      "execution_count": null,
      "outputs": []
    },
    {
      "cell_type": "code",
      "source": [
        "sql_query_2 = '''\n",
        "\n",
        "select *\n",
        "from msqCharges7;\n",
        "\n",
        "'''\n",
        "\n",
        "c.execute(sql_query_2)\n",
        "print(c.fetchall())"
      ],
      "metadata": {
        "colab": {
          "base_uri": "https://localhost:8080/"
        },
        "id": "197iISNd1hwm",
        "outputId": "fa890638-de42-4df3-c9ef-6942d0127591"
      },
      "execution_count": null,
      "outputs": [
        {
          "output_type": "stream",
          "name": "stdout",
          "text": [
            "[('Mount Sinai Queens', 'Outpatient Surgery', 10000.0, 5000.0, 5000.0)]\n"
          ]
        }
      ]
    },
    {
      "cell_type": "code",
      "source": [
        "msqCharges7db = pd.read_sql('select * from msqCharges7;', conn)"
      ],
      "metadata": {
        "id": "NwvajQFo128B"
      },
      "execution_count": null,
      "outputs": []
    },
    {
      "cell_type": "code",
      "source": [
        "msqCharges7db.to_sql('msqCharges57db', conn, if_exists=\"replace\")"
      ],
      "metadata": {
        "colab": {
          "base_uri": "https://localhost:8080/"
        },
        "id": "P36uXDJa19BC",
        "outputId": "be17a59a-3985-4fb7-f7a4-262e12ba42e6"
      },
      "execution_count": null,
      "outputs": [
        {
          "output_type": "execute_result",
          "data": {
            "text/plain": [
              "1"
            ]
          },
          "metadata": {},
          "execution_count": 194
        }
      ]
    },
    {
      "cell_type": "code",
      "source": [
        "query = '''\n",
        "select *\n",
        " from msqCharges7\n",
        ";\n",
        " '''\n",
        "\n",
        "response = pd.read_sql(query, conn)\n",
        "response"
      ],
      "metadata": {
        "colab": {
          "base_uri": "https://localhost:8080/",
          "height": 80
        },
        "id": "rdFaeTK_2b6c",
        "outputId": "9e4cbfa0-eb18-4d50-943d-c2ca746209c6"
      },
      "execution_count": null,
      "outputs": [
        {
          "output_type": "execute_result",
          "data": {
            "text/plain": [
              "   Charge_description     Department_name  Rate_Charged  PaidClaim  \\\n",
              "0  Mount Sinai Queens  Outpatient Surgery       10000.0     5000.0   \n",
              "\n",
              "   LostRevenue  \n",
              "0       5000.0  "
            ],
            "text/html": [
              "\n",
              "  <div id=\"df-27950d52-775f-44a2-9f5e-8130edea2a85\" class=\"colab-df-container\">\n",
              "    <div>\n",
              "<style scoped>\n",
              "    .dataframe tbody tr th:only-of-type {\n",
              "        vertical-align: middle;\n",
              "    }\n",
              "\n",
              "    .dataframe tbody tr th {\n",
              "        vertical-align: top;\n",
              "    }\n",
              "\n",
              "    .dataframe thead th {\n",
              "        text-align: right;\n",
              "    }\n",
              "</style>\n",
              "<table border=\"1\" class=\"dataframe\">\n",
              "  <thead>\n",
              "    <tr style=\"text-align: right;\">\n",
              "      <th></th>\n",
              "      <th>Charge_description</th>\n",
              "      <th>Department_name</th>\n",
              "      <th>Rate_Charged</th>\n",
              "      <th>PaidClaim</th>\n",
              "      <th>LostRevenue</th>\n",
              "    </tr>\n",
              "  </thead>\n",
              "  <tbody>\n",
              "    <tr>\n",
              "      <th>0</th>\n",
              "      <td>Mount Sinai Queens</td>\n",
              "      <td>Outpatient Surgery</td>\n",
              "      <td>10000.0</td>\n",
              "      <td>5000.0</td>\n",
              "      <td>5000.0</td>\n",
              "    </tr>\n",
              "  </tbody>\n",
              "</table>\n",
              "</div>\n",
              "    <div class=\"colab-df-buttons\">\n",
              "\n",
              "  <div class=\"colab-df-container\">\n",
              "    <button class=\"colab-df-convert\" onclick=\"convertToInteractive('df-27950d52-775f-44a2-9f5e-8130edea2a85')\"\n",
              "            title=\"Convert this dataframe to an interactive table.\"\n",
              "            style=\"display:none;\">\n",
              "\n",
              "  <svg xmlns=\"http://www.w3.org/2000/svg\" height=\"24px\" viewBox=\"0 -960 960 960\">\n",
              "    <path d=\"M120-120v-720h720v720H120Zm60-500h600v-160H180v160Zm220 220h160v-160H400v160Zm0 220h160v-160H400v160ZM180-400h160v-160H180v160Zm440 0h160v-160H620v160ZM180-180h160v-160H180v160Zm440 0h160v-160H620v160Z\"/>\n",
              "  </svg>\n",
              "    </button>\n",
              "\n",
              "  <style>\n",
              "    .colab-df-container {\n",
              "      display:flex;\n",
              "      gap: 12px;\n",
              "    }\n",
              "\n",
              "    .colab-df-convert {\n",
              "      background-color: #E8F0FE;\n",
              "      border: none;\n",
              "      border-radius: 50%;\n",
              "      cursor: pointer;\n",
              "      display: none;\n",
              "      fill: #1967D2;\n",
              "      height: 32px;\n",
              "      padding: 0 0 0 0;\n",
              "      width: 32px;\n",
              "    }\n",
              "\n",
              "    .colab-df-convert:hover {\n",
              "      background-color: #E2EBFA;\n",
              "      box-shadow: 0px 1px 2px rgba(60, 64, 67, 0.3), 0px 1px 3px 1px rgba(60, 64, 67, 0.15);\n",
              "      fill: #174EA6;\n",
              "    }\n",
              "\n",
              "    .colab-df-buttons div {\n",
              "      margin-bottom: 4px;\n",
              "    }\n",
              "\n",
              "    [theme=dark] .colab-df-convert {\n",
              "      background-color: #3B4455;\n",
              "      fill: #D2E3FC;\n",
              "    }\n",
              "\n",
              "    [theme=dark] .colab-df-convert:hover {\n",
              "      background-color: #434B5C;\n",
              "      box-shadow: 0px 1px 3px 1px rgba(0, 0, 0, 0.15);\n",
              "      filter: drop-shadow(0px 1px 2px rgba(0, 0, 0, 0.3));\n",
              "      fill: #FFFFFF;\n",
              "    }\n",
              "  </style>\n",
              "\n",
              "    <script>\n",
              "      const buttonEl =\n",
              "        document.querySelector('#df-27950d52-775f-44a2-9f5e-8130edea2a85 button.colab-df-convert');\n",
              "      buttonEl.style.display =\n",
              "        google.colab.kernel.accessAllowed ? 'block' : 'none';\n",
              "\n",
              "      async function convertToInteractive(key) {\n",
              "        const element = document.querySelector('#df-27950d52-775f-44a2-9f5e-8130edea2a85');\n",
              "        const dataTable =\n",
              "          await google.colab.kernel.invokeFunction('convertToInteractive',\n",
              "                                                    [key], {});\n",
              "        if (!dataTable) return;\n",
              "\n",
              "        const docLinkHtml = 'Like what you see? Visit the ' +\n",
              "          '<a target=\"_blank\" href=https://colab.research.google.com/notebooks/data_table.ipynb>data table notebook</a>'\n",
              "          + ' to learn more about interactive tables.';\n",
              "        element.innerHTML = '';\n",
              "        dataTable['output_type'] = 'display_data';\n",
              "        await google.colab.output.renderOutput(dataTable, element);\n",
              "        const docLink = document.createElement('div');\n",
              "        docLink.innerHTML = docLinkHtml;\n",
              "        element.appendChild(docLink);\n",
              "      }\n",
              "    </script>\n",
              "  </div>\n",
              "\n",
              "    </div>\n",
              "  </div>\n"
            ]
          },
          "metadata": {},
          "execution_count": 195
        }
      ]
    },
    {
      "cell_type": "markdown",
      "source": [
        "### Automatic table creation"
      ],
      "metadata": {
        "id": "FoV0i0xRxSIx"
      }
    },
    {
      "cell_type": "code",
      "source": [
        "nyp_db = pd.read_csv('/content/newdb_NewYorkPresbyterianHospital_standardcharges.csv')"
      ],
      "metadata": {
        "id": "WbVjk-v03eIQ"
      },
      "execution_count": 183,
      "outputs": []
    },
    {
      "cell_type": "code",
      "source": [
        "nyp_db.to_sql('nyp_db', conn, if_exists='append', index=False)"
      ],
      "metadata": {
        "colab": {
          "base_uri": "https://localhost:8080/"
        },
        "id": "Rkti2bat3pir",
        "outputId": "b5dff0c8-10e1-4965-f03a-8017b05d71a1"
      },
      "execution_count": 184,
      "outputs": [
        {
          "output_type": "execute_result",
          "data": {
            "text/plain": [
              "6193"
            ]
          },
          "metadata": {},
          "execution_count": 184
        }
      ]
    },
    {
      "cell_type": "code",
      "source": [
        "query = '''\n",
        "select *\n",
        " from nyp_db\n",
        ";\n",
        " '''\n",
        "\n",
        "response2 = pd.read_sql(query, conn)\n",
        "response2"
      ],
      "metadata": {
        "colab": {
          "base_uri": "https://localhost:8080/",
          "height": 1000
        },
        "id": "mt24bh-L4yy3",
        "outputId": "44cfa6f5-be71-4dd8-b601-546b4176f43b"
      },
      "execution_count": 185,
      "outputs": [
        {
          "output_type": "execute_result",
          "data": {
            "text/plain": [
              "      Unnamed: 0 CPTDRGCode  \\\n",
              "0              0      96360   \n",
              "1              1      96361   \n",
              "2              2      96365   \n",
              "3              3      96367   \n",
              "4              4      96368   \n",
              "...          ...        ...   \n",
              "6188        6188        982   \n",
              "6189        6189        983   \n",
              "6190        6190        987   \n",
              "6191        6191        988   \n",
              "6192        6192        989   \n",
              "\n",
              "                                            Description  Rev Code  \\\n",
              "0           HC IV INFUSION HYDRATION INITIAL 31 MIN-1HR      0260   \n",
              "1               HC IV INFUSION HYDRATION FLUIDS ADDL HR      0260   \n",
              "2     HC IV INFUSION FOR THER/PROPH/DIAG INITIAL UP ...      0260   \n",
              "3     HC IV INF THER/PROPH/DIAG ADDL SEQ NEW DRUG UP...      0260   \n",
              "4         HC IV INFUSION FOR THER/PROPH/DIAG CONCURRENT      0260   \n",
              "...                                                 ...       ...   \n",
              "6188  EXTENSIVE O.R. PROCEDURES UNRELATED TO PRINCIP...  Multiple   \n",
              "6189  EXTENSIVE O.R. PROCEDURES UNRELATED TO PRINCIP...  Multiple   \n",
              "6190  NON-EXTENSIVE O.R. PROCEDURES UNRELATED TO PRI...  Multiple   \n",
              "6191  NON-EXTENSIVE O.R. PROCEDURES UNRELATED TO PRI...  Multiple   \n",
              "6192  NON-EXTENSIVE O.R. PROCEDURES UNRELATED TO PRI...  Multiple   \n",
              "\n",
              "                 Inpt_Oupt  Gross Charges  Discounted Cash Price        Aetna  \\\n",
              "0     Inpatient/Outpatient     866.000000             866.000000      641.706   \n",
              "1     Inpatient/Outpatient     358.000000             358.000000      265.278   \n",
              "2     Inpatient/Outpatient    1397.000000            1397.000000     1035.177   \n",
              "3     Inpatient/Outpatient     480.000000             480.000000       355.68   \n",
              "4     Inpatient/Outpatient     480.000000             480.000000       355.68   \n",
              "...                    ...            ...                    ...          ...   \n",
              "6188             Inpatient  184095.129020          184095.129020   86723.5232   \n",
              "6189             Inpatient   85385.941857           85385.941857   57748.8352   \n",
              "6190             Inpatient  411665.999955          411665.999955  114736.9984   \n",
              "6191             Inpatient  126522.871140          126522.871140   58654.7264   \n",
              "6192             Inpatient   77081.639496           77081.639496   38116.5824   \n",
              "\n",
              "              Cigna Empire Blue Cross Blue Shield  ...  \\\n",
              "0           494.486                        640.84  ...   \n",
              "1           204.418                        264.92  ...   \n",
              "2           797.687                       1033.78  ...   \n",
              "3            274.08                         355.2  ...   \n",
              "4            274.08                         355.2  ...   \n",
              "...             ...                           ...  ...   \n",
              "6188   98911.694706                      82299.84  ...   \n",
              "6189   65864.888166              63931.4550933333  ...   \n",
              "6190  130862.199072                 214294.876425  ...   \n",
              "6191   66898.093812                    91907.6928  ...   \n",
              "6192   43473.507792                   44463.77208  ...   \n",
              "\n",
              "     Consumer Health Network              Devon             Equian  \\\n",
              "0                   393.5104           393.5104           393.5104   \n",
              "1                   162.6752           162.6752           162.6752   \n",
              "2                   634.7968           634.7968           634.7968   \n",
              "3                    218.112            218.112            218.112   \n",
              "4                    218.112            218.112            218.112   \n",
              "...                      ...                ...                ...   \n",
              "6188        83652.8266268735   83652.8266268735   83652.8266268735   \n",
              "6189        38799.3719796408   38799.3719796408   38799.3719796408   \n",
              "6190       187061.0303797436  187061.0303797436  187061.0303797436   \n",
              "6191        57491.9926458445   57491.9926458445   57491.9926458445   \n",
              "6192        35025.8969869067   35025.8969869067   35025.8969869067   \n",
              "\n",
              "           First Health          Magnacare Multiplan_Beechstreet_PHCS  \\\n",
              "0              393.5104           393.5104                   393.5104   \n",
              "1              162.6752           162.6752                   162.6752   \n",
              "2              634.7968           634.7968                   634.7968   \n",
              "3               218.112            218.112                    218.112   \n",
              "4               218.112            218.112                    218.112   \n",
              "...                 ...                ...                        ...   \n",
              "6188   83652.8266268735   83652.8266268735           83652.8266268735   \n",
              "6189   38799.3719796408   38799.3719796408           38799.3719796408   \n",
              "6190  187061.0303797436  187061.0303797436          187061.0303797436   \n",
              "6191   57491.9926458445   57491.9926458445           57491.9926458445   \n",
              "6192   35025.8969869067   35025.8969869067           35025.8969869067   \n",
              "\n",
              "                    QHM          Worldwide Minimum Negotiated Charge  \\\n",
              "0              393.5104           393.5104                253.048250   \n",
              "1              162.6752           162.6752                 51.903250   \n",
              "2              634.7968           634.7968                253.048250   \n",
              "3               218.112            218.112                 82.650750   \n",
              "4               218.112            218.112                156.982800   \n",
              "...                 ...                ...                       ...   \n",
              "6188   83652.8266268735   83652.8266268735              12561.144027   \n",
              "6189   38799.3719796408   38799.3719796408               7833.746854   \n",
              "6190  187061.0303797436  187061.0303797436              21016.798830   \n",
              "6191   57491.9926458445   57491.9926458445              10429.428059   \n",
              "6192   35025.8969869067   35025.8969869067               5995.071552   \n",
              "\n",
              "     Maximum Negotiated Charge  \n",
              "0                  1388.424000  \n",
              "1                  1990.891341  \n",
              "2                  1475.508000  \n",
              "3                  1325.120000  \n",
              "4                  1325.120000  \n",
              "...                        ...  \n",
              "6188             115129.891480  \n",
              "6189              76664.518280  \n",
              "6190             214294.876425  \n",
              "6191              91907.692800  \n",
              "6192              50601.703360  \n",
              "\n",
              "[6193 rows x 48 columns]"
            ],
            "text/html": [
              "\n",
              "  <div id=\"df-d0edcc14-52f4-47c7-a5b0-ad67a7646aa4\" class=\"colab-df-container\">\n",
              "    <div>\n",
              "<style scoped>\n",
              "    .dataframe tbody tr th:only-of-type {\n",
              "        vertical-align: middle;\n",
              "    }\n",
              "\n",
              "    .dataframe tbody tr th {\n",
              "        vertical-align: top;\n",
              "    }\n",
              "\n",
              "    .dataframe thead th {\n",
              "        text-align: right;\n",
              "    }\n",
              "</style>\n",
              "<table border=\"1\" class=\"dataframe\">\n",
              "  <thead>\n",
              "    <tr style=\"text-align: right;\">\n",
              "      <th></th>\n",
              "      <th>Unnamed: 0</th>\n",
              "      <th>CPTDRGCode</th>\n",
              "      <th>Description</th>\n",
              "      <th>Rev Code</th>\n",
              "      <th>Inpt_Oupt</th>\n",
              "      <th>Gross Charges</th>\n",
              "      <th>Discounted Cash Price</th>\n",
              "      <th>Aetna</th>\n",
              "      <th>Cigna</th>\n",
              "      <th>Empire Blue Cross Blue Shield</th>\n",
              "      <th>...</th>\n",
              "      <th>Consumer Health Network</th>\n",
              "      <th>Devon</th>\n",
              "      <th>Equian</th>\n",
              "      <th>First Health</th>\n",
              "      <th>Magnacare</th>\n",
              "      <th>Multiplan_Beechstreet_PHCS</th>\n",
              "      <th>QHM</th>\n",
              "      <th>Worldwide</th>\n",
              "      <th>Minimum Negotiated Charge</th>\n",
              "      <th>Maximum Negotiated Charge</th>\n",
              "    </tr>\n",
              "  </thead>\n",
              "  <tbody>\n",
              "    <tr>\n",
              "      <th>0</th>\n",
              "      <td>0</td>\n",
              "      <td>96360</td>\n",
              "      <td>HC IV INFUSION HYDRATION INITIAL 31 MIN-1HR</td>\n",
              "      <td>0260</td>\n",
              "      <td>Inpatient/Outpatient</td>\n",
              "      <td>866.000000</td>\n",
              "      <td>866.000000</td>\n",
              "      <td>641.706</td>\n",
              "      <td>494.486</td>\n",
              "      <td>640.84</td>\n",
              "      <td>...</td>\n",
              "      <td>393.5104</td>\n",
              "      <td>393.5104</td>\n",
              "      <td>393.5104</td>\n",
              "      <td>393.5104</td>\n",
              "      <td>393.5104</td>\n",
              "      <td>393.5104</td>\n",
              "      <td>393.5104</td>\n",
              "      <td>393.5104</td>\n",
              "      <td>253.048250</td>\n",
              "      <td>1388.424000</td>\n",
              "    </tr>\n",
              "    <tr>\n",
              "      <th>1</th>\n",
              "      <td>1</td>\n",
              "      <td>96361</td>\n",
              "      <td>HC IV INFUSION HYDRATION FLUIDS ADDL HR</td>\n",
              "      <td>0260</td>\n",
              "      <td>Inpatient/Outpatient</td>\n",
              "      <td>358.000000</td>\n",
              "      <td>358.000000</td>\n",
              "      <td>265.278</td>\n",
              "      <td>204.418</td>\n",
              "      <td>264.92</td>\n",
              "      <td>...</td>\n",
              "      <td>162.6752</td>\n",
              "      <td>162.6752</td>\n",
              "      <td>162.6752</td>\n",
              "      <td>162.6752</td>\n",
              "      <td>162.6752</td>\n",
              "      <td>162.6752</td>\n",
              "      <td>162.6752</td>\n",
              "      <td>162.6752</td>\n",
              "      <td>51.903250</td>\n",
              "      <td>1990.891341</td>\n",
              "    </tr>\n",
              "    <tr>\n",
              "      <th>2</th>\n",
              "      <td>2</td>\n",
              "      <td>96365</td>\n",
              "      <td>HC IV INFUSION FOR THER/PROPH/DIAG INITIAL UP ...</td>\n",
              "      <td>0260</td>\n",
              "      <td>Inpatient/Outpatient</td>\n",
              "      <td>1397.000000</td>\n",
              "      <td>1397.000000</td>\n",
              "      <td>1035.177</td>\n",
              "      <td>797.687</td>\n",
              "      <td>1033.78</td>\n",
              "      <td>...</td>\n",
              "      <td>634.7968</td>\n",
              "      <td>634.7968</td>\n",
              "      <td>634.7968</td>\n",
              "      <td>634.7968</td>\n",
              "      <td>634.7968</td>\n",
              "      <td>634.7968</td>\n",
              "      <td>634.7968</td>\n",
              "      <td>634.7968</td>\n",
              "      <td>253.048250</td>\n",
              "      <td>1475.508000</td>\n",
              "    </tr>\n",
              "    <tr>\n",
              "      <th>3</th>\n",
              "      <td>3</td>\n",
              "      <td>96367</td>\n",
              "      <td>HC IV INF THER/PROPH/DIAG ADDL SEQ NEW DRUG UP...</td>\n",
              "      <td>0260</td>\n",
              "      <td>Inpatient/Outpatient</td>\n",
              "      <td>480.000000</td>\n",
              "      <td>480.000000</td>\n",
              "      <td>355.68</td>\n",
              "      <td>274.08</td>\n",
              "      <td>355.2</td>\n",
              "      <td>...</td>\n",
              "      <td>218.112</td>\n",
              "      <td>218.112</td>\n",
              "      <td>218.112</td>\n",
              "      <td>218.112</td>\n",
              "      <td>218.112</td>\n",
              "      <td>218.112</td>\n",
              "      <td>218.112</td>\n",
              "      <td>218.112</td>\n",
              "      <td>82.650750</td>\n",
              "      <td>1325.120000</td>\n",
              "    </tr>\n",
              "    <tr>\n",
              "      <th>4</th>\n",
              "      <td>4</td>\n",
              "      <td>96368</td>\n",
              "      <td>HC IV INFUSION FOR THER/PROPH/DIAG CONCURRENT</td>\n",
              "      <td>0260</td>\n",
              "      <td>Inpatient/Outpatient</td>\n",
              "      <td>480.000000</td>\n",
              "      <td>480.000000</td>\n",
              "      <td>355.68</td>\n",
              "      <td>274.08</td>\n",
              "      <td>355.2</td>\n",
              "      <td>...</td>\n",
              "      <td>218.112</td>\n",
              "      <td>218.112</td>\n",
              "      <td>218.112</td>\n",
              "      <td>218.112</td>\n",
              "      <td>218.112</td>\n",
              "      <td>218.112</td>\n",
              "      <td>218.112</td>\n",
              "      <td>218.112</td>\n",
              "      <td>156.982800</td>\n",
              "      <td>1325.120000</td>\n",
              "    </tr>\n",
              "    <tr>\n",
              "      <th>...</th>\n",
              "      <td>...</td>\n",
              "      <td>...</td>\n",
              "      <td>...</td>\n",
              "      <td>...</td>\n",
              "      <td>...</td>\n",
              "      <td>...</td>\n",
              "      <td>...</td>\n",
              "      <td>...</td>\n",
              "      <td>...</td>\n",
              "      <td>...</td>\n",
              "      <td>...</td>\n",
              "      <td>...</td>\n",
              "      <td>...</td>\n",
              "      <td>...</td>\n",
              "      <td>...</td>\n",
              "      <td>...</td>\n",
              "      <td>...</td>\n",
              "      <td>...</td>\n",
              "      <td>...</td>\n",
              "      <td>...</td>\n",
              "      <td>...</td>\n",
              "    </tr>\n",
              "    <tr>\n",
              "      <th>6188</th>\n",
              "      <td>6188</td>\n",
              "      <td>982</td>\n",
              "      <td>EXTENSIVE O.R. PROCEDURES UNRELATED TO PRINCIP...</td>\n",
              "      <td>Multiple</td>\n",
              "      <td>Inpatient</td>\n",
              "      <td>184095.129020</td>\n",
              "      <td>184095.129020</td>\n",
              "      <td>86723.5232</td>\n",
              "      <td>98911.694706</td>\n",
              "      <td>82299.84</td>\n",
              "      <td>...</td>\n",
              "      <td>83652.8266268735</td>\n",
              "      <td>83652.8266268735</td>\n",
              "      <td>83652.8266268735</td>\n",
              "      <td>83652.8266268735</td>\n",
              "      <td>83652.8266268735</td>\n",
              "      <td>83652.8266268735</td>\n",
              "      <td>83652.8266268735</td>\n",
              "      <td>83652.8266268735</td>\n",
              "      <td>12561.144027</td>\n",
              "      <td>115129.891480</td>\n",
              "    </tr>\n",
              "    <tr>\n",
              "      <th>6189</th>\n",
              "      <td>6189</td>\n",
              "      <td>983</td>\n",
              "      <td>EXTENSIVE O.R. PROCEDURES UNRELATED TO PRINCIP...</td>\n",
              "      <td>Multiple</td>\n",
              "      <td>Inpatient</td>\n",
              "      <td>85385.941857</td>\n",
              "      <td>85385.941857</td>\n",
              "      <td>57748.8352</td>\n",
              "      <td>65864.888166</td>\n",
              "      <td>63931.4550933333</td>\n",
              "      <td>...</td>\n",
              "      <td>38799.3719796408</td>\n",
              "      <td>38799.3719796408</td>\n",
              "      <td>38799.3719796408</td>\n",
              "      <td>38799.3719796408</td>\n",
              "      <td>38799.3719796408</td>\n",
              "      <td>38799.3719796408</td>\n",
              "      <td>38799.3719796408</td>\n",
              "      <td>38799.3719796408</td>\n",
              "      <td>7833.746854</td>\n",
              "      <td>76664.518280</td>\n",
              "    </tr>\n",
              "    <tr>\n",
              "      <th>6190</th>\n",
              "      <td>6190</td>\n",
              "      <td>987</td>\n",
              "      <td>NON-EXTENSIVE O.R. PROCEDURES UNRELATED TO PRI...</td>\n",
              "      <td>Multiple</td>\n",
              "      <td>Inpatient</td>\n",
              "      <td>411665.999955</td>\n",
              "      <td>411665.999955</td>\n",
              "      <td>114736.9984</td>\n",
              "      <td>130862.199072</td>\n",
              "      <td>214294.876425</td>\n",
              "      <td>...</td>\n",
              "      <td>187061.0303797436</td>\n",
              "      <td>187061.0303797436</td>\n",
              "      <td>187061.0303797436</td>\n",
              "      <td>187061.0303797436</td>\n",
              "      <td>187061.0303797436</td>\n",
              "      <td>187061.0303797436</td>\n",
              "      <td>187061.0303797436</td>\n",
              "      <td>187061.0303797436</td>\n",
              "      <td>21016.798830</td>\n",
              "      <td>214294.876425</td>\n",
              "    </tr>\n",
              "    <tr>\n",
              "      <th>6191</th>\n",
              "      <td>6191</td>\n",
              "      <td>988</td>\n",
              "      <td>NON-EXTENSIVE O.R. PROCEDURES UNRELATED TO PRI...</td>\n",
              "      <td>Multiple</td>\n",
              "      <td>Inpatient</td>\n",
              "      <td>126522.871140</td>\n",
              "      <td>126522.871140</td>\n",
              "      <td>58654.7264</td>\n",
              "      <td>66898.093812</td>\n",
              "      <td>91907.6928</td>\n",
              "      <td>...</td>\n",
              "      <td>57491.9926458445</td>\n",
              "      <td>57491.9926458445</td>\n",
              "      <td>57491.9926458445</td>\n",
              "      <td>57491.9926458445</td>\n",
              "      <td>57491.9926458445</td>\n",
              "      <td>57491.9926458445</td>\n",
              "      <td>57491.9926458445</td>\n",
              "      <td>57491.9926458445</td>\n",
              "      <td>10429.428059</td>\n",
              "      <td>91907.692800</td>\n",
              "    </tr>\n",
              "    <tr>\n",
              "      <th>6192</th>\n",
              "      <td>6192</td>\n",
              "      <td>989</td>\n",
              "      <td>NON-EXTENSIVE O.R. PROCEDURES UNRELATED TO PRI...</td>\n",
              "      <td>Multiple</td>\n",
              "      <td>Inpatient</td>\n",
              "      <td>77081.639496</td>\n",
              "      <td>77081.639496</td>\n",
              "      <td>38116.5824</td>\n",
              "      <td>43473.507792</td>\n",
              "      <td>44463.77208</td>\n",
              "      <td>...</td>\n",
              "      <td>35025.8969869067</td>\n",
              "      <td>35025.8969869067</td>\n",
              "      <td>35025.8969869067</td>\n",
              "      <td>35025.8969869067</td>\n",
              "      <td>35025.8969869067</td>\n",
              "      <td>35025.8969869067</td>\n",
              "      <td>35025.8969869067</td>\n",
              "      <td>35025.8969869067</td>\n",
              "      <td>5995.071552</td>\n",
              "      <td>50601.703360</td>\n",
              "    </tr>\n",
              "  </tbody>\n",
              "</table>\n",
              "<p>6193 rows × 48 columns</p>\n",
              "</div>\n",
              "    <div class=\"colab-df-buttons\">\n",
              "\n",
              "  <div class=\"colab-df-container\">\n",
              "    <button class=\"colab-df-convert\" onclick=\"convertToInteractive('df-d0edcc14-52f4-47c7-a5b0-ad67a7646aa4')\"\n",
              "            title=\"Convert this dataframe to an interactive table.\"\n",
              "            style=\"display:none;\">\n",
              "\n",
              "  <svg xmlns=\"http://www.w3.org/2000/svg\" height=\"24px\" viewBox=\"0 -960 960 960\">\n",
              "    <path d=\"M120-120v-720h720v720H120Zm60-500h600v-160H180v160Zm220 220h160v-160H400v160Zm0 220h160v-160H400v160ZM180-400h160v-160H180v160Zm440 0h160v-160H620v160ZM180-180h160v-160H180v160Zm440 0h160v-160H620v160Z\"/>\n",
              "  </svg>\n",
              "    </button>\n",
              "\n",
              "  <style>\n",
              "    .colab-df-container {\n",
              "      display:flex;\n",
              "      gap: 12px;\n",
              "    }\n",
              "\n",
              "    .colab-df-convert {\n",
              "      background-color: #E8F0FE;\n",
              "      border: none;\n",
              "      border-radius: 50%;\n",
              "      cursor: pointer;\n",
              "      display: none;\n",
              "      fill: #1967D2;\n",
              "      height: 32px;\n",
              "      padding: 0 0 0 0;\n",
              "      width: 32px;\n",
              "    }\n",
              "\n",
              "    .colab-df-convert:hover {\n",
              "      background-color: #E2EBFA;\n",
              "      box-shadow: 0px 1px 2px rgba(60, 64, 67, 0.3), 0px 1px 3px 1px rgba(60, 64, 67, 0.15);\n",
              "      fill: #174EA6;\n",
              "    }\n",
              "\n",
              "    .colab-df-buttons div {\n",
              "      margin-bottom: 4px;\n",
              "    }\n",
              "\n",
              "    [theme=dark] .colab-df-convert {\n",
              "      background-color: #3B4455;\n",
              "      fill: #D2E3FC;\n",
              "    }\n",
              "\n",
              "    [theme=dark] .colab-df-convert:hover {\n",
              "      background-color: #434B5C;\n",
              "      box-shadow: 0px 1px 3px 1px rgba(0, 0, 0, 0.15);\n",
              "      filter: drop-shadow(0px 1px 2px rgba(0, 0, 0, 0.3));\n",
              "      fill: #FFFFFF;\n",
              "    }\n",
              "  </style>\n",
              "\n",
              "    <script>\n",
              "      const buttonEl =\n",
              "        document.querySelector('#df-d0edcc14-52f4-47c7-a5b0-ad67a7646aa4 button.colab-df-convert');\n",
              "      buttonEl.style.display =\n",
              "        google.colab.kernel.accessAllowed ? 'block' : 'none';\n",
              "\n",
              "      async function convertToInteractive(key) {\n",
              "        const element = document.querySelector('#df-d0edcc14-52f4-47c7-a5b0-ad67a7646aa4');\n",
              "        const dataTable =\n",
              "          await google.colab.kernel.invokeFunction('convertToInteractive',\n",
              "                                                    [key], {});\n",
              "        if (!dataTable) return;\n",
              "\n",
              "        const docLinkHtml = 'Like what you see? Visit the ' +\n",
              "          '<a target=\"_blank\" href=https://colab.research.google.com/notebooks/data_table.ipynb>data table notebook</a>'\n",
              "          + ' to learn more about interactive tables.';\n",
              "        element.innerHTML = '';\n",
              "        dataTable['output_type'] = 'display_data';\n",
              "        await google.colab.output.renderOutput(dataTable, element);\n",
              "        const docLink = document.createElement('div');\n",
              "        docLink.innerHTML = docLinkHtml;\n",
              "        element.appendChild(docLink);\n",
              "      }\n",
              "    </script>\n",
              "  </div>\n",
              "\n",
              "\n",
              "<div id=\"df-a90390a9-52c1-4b3e-8c7d-840bb3754010\">\n",
              "  <button class=\"colab-df-quickchart\" onclick=\"quickchart('df-a90390a9-52c1-4b3e-8c7d-840bb3754010')\"\n",
              "            title=\"Suggest charts.\"\n",
              "            style=\"display:none;\">\n",
              "\n",
              "<svg xmlns=\"http://www.w3.org/2000/svg\" height=\"24px\"viewBox=\"0 0 24 24\"\n",
              "     width=\"24px\">\n",
              "    <g>\n",
              "        <path d=\"M19 3H5c-1.1 0-2 .9-2 2v14c0 1.1.9 2 2 2h14c1.1 0 2-.9 2-2V5c0-1.1-.9-2-2-2zM9 17H7v-7h2v7zm4 0h-2V7h2v10zm4 0h-2v-4h2v4z\"/>\n",
              "    </g>\n",
              "</svg>\n",
              "  </button>\n",
              "\n",
              "<style>\n",
              "  .colab-df-quickchart {\n",
              "      --bg-color: #E8F0FE;\n",
              "      --fill-color: #1967D2;\n",
              "      --hover-bg-color: #E2EBFA;\n",
              "      --hover-fill-color: #174EA6;\n",
              "      --disabled-fill-color: #AAA;\n",
              "      --disabled-bg-color: #DDD;\n",
              "  }\n",
              "\n",
              "  [theme=dark] .colab-df-quickchart {\n",
              "      --bg-color: #3B4455;\n",
              "      --fill-color: #D2E3FC;\n",
              "      --hover-bg-color: #434B5C;\n",
              "      --hover-fill-color: #FFFFFF;\n",
              "      --disabled-bg-color: #3B4455;\n",
              "      --disabled-fill-color: #666;\n",
              "  }\n",
              "\n",
              "  .colab-df-quickchart {\n",
              "    background-color: var(--bg-color);\n",
              "    border: none;\n",
              "    border-radius: 50%;\n",
              "    cursor: pointer;\n",
              "    display: none;\n",
              "    fill: var(--fill-color);\n",
              "    height: 32px;\n",
              "    padding: 0;\n",
              "    width: 32px;\n",
              "  }\n",
              "\n",
              "  .colab-df-quickchart:hover {\n",
              "    background-color: var(--hover-bg-color);\n",
              "    box-shadow: 0 1px 2px rgba(60, 64, 67, 0.3), 0 1px 3px 1px rgba(60, 64, 67, 0.15);\n",
              "    fill: var(--button-hover-fill-color);\n",
              "  }\n",
              "\n",
              "  .colab-df-quickchart-complete:disabled,\n",
              "  .colab-df-quickchart-complete:disabled:hover {\n",
              "    background-color: var(--disabled-bg-color);\n",
              "    fill: var(--disabled-fill-color);\n",
              "    box-shadow: none;\n",
              "  }\n",
              "\n",
              "  .colab-df-spinner {\n",
              "    border: 2px solid var(--fill-color);\n",
              "    border-color: transparent;\n",
              "    border-bottom-color: var(--fill-color);\n",
              "    animation:\n",
              "      spin 1s steps(1) infinite;\n",
              "  }\n",
              "\n",
              "  @keyframes spin {\n",
              "    0% {\n",
              "      border-color: transparent;\n",
              "      border-bottom-color: var(--fill-color);\n",
              "      border-left-color: var(--fill-color);\n",
              "    }\n",
              "    20% {\n",
              "      border-color: transparent;\n",
              "      border-left-color: var(--fill-color);\n",
              "      border-top-color: var(--fill-color);\n",
              "    }\n",
              "    30% {\n",
              "      border-color: transparent;\n",
              "      border-left-color: var(--fill-color);\n",
              "      border-top-color: var(--fill-color);\n",
              "      border-right-color: var(--fill-color);\n",
              "    }\n",
              "    40% {\n",
              "      border-color: transparent;\n",
              "      border-right-color: var(--fill-color);\n",
              "      border-top-color: var(--fill-color);\n",
              "    }\n",
              "    60% {\n",
              "      border-color: transparent;\n",
              "      border-right-color: var(--fill-color);\n",
              "    }\n",
              "    80% {\n",
              "      border-color: transparent;\n",
              "      border-right-color: var(--fill-color);\n",
              "      border-bottom-color: var(--fill-color);\n",
              "    }\n",
              "    90% {\n",
              "      border-color: transparent;\n",
              "      border-bottom-color: var(--fill-color);\n",
              "    }\n",
              "  }\n",
              "</style>\n",
              "\n",
              "  <script>\n",
              "    async function quickchart(key) {\n",
              "      const quickchartButtonEl =\n",
              "        document.querySelector('#' + key + ' button');\n",
              "      quickchartButtonEl.disabled = true;  // To prevent multiple clicks.\n",
              "      quickchartButtonEl.classList.add('colab-df-spinner');\n",
              "      try {\n",
              "        const charts = await google.colab.kernel.invokeFunction(\n",
              "            'suggestCharts', [key], {});\n",
              "      } catch (error) {\n",
              "        console.error('Error during call to suggestCharts:', error);\n",
              "      }\n",
              "      quickchartButtonEl.classList.remove('colab-df-spinner');\n",
              "      quickchartButtonEl.classList.add('colab-df-quickchart-complete');\n",
              "    }\n",
              "    (() => {\n",
              "      let quickchartButtonEl =\n",
              "        document.querySelector('#df-a90390a9-52c1-4b3e-8c7d-840bb3754010 button');\n",
              "      quickchartButtonEl.style.display =\n",
              "        google.colab.kernel.accessAllowed ? 'block' : 'none';\n",
              "    })();\n",
              "  </script>\n",
              "</div>\n",
              "    </div>\n",
              "  </div>\n"
            ]
          },
          "metadata": {},
          "execution_count": 185
        }
      ]
    }
  ]
}
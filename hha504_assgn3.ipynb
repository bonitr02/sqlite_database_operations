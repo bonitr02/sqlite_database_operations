{
  "nbformat": 4,
  "nbformat_minor": 0,
  "metadata": {
    "colab": {
      "provenance": [],
      "collapsed_sections": [
        "-_wLOMSfLmE2",
        "zCAUuWR1K6Fn",
        "UyU2yq1vIdKn",
        "w2KlnVi1xENl"
      ],
      "authorship_tag": "ABX9TyMJIFiS3RNCm6euXLyx7a77",
      "include_colab_link": true
    },
    "kernelspec": {
      "name": "python3",
      "display_name": "Python 3"
    },
    "language_info": {
      "name": "python"
    }
  },
  "cells": [
    {
      "cell_type": "markdown",
      "metadata": {
        "id": "view-in-github",
        "colab_type": "text"
      },
      "source": [
        "<a href=\"https://colab.research.google.com/github/bonitr02/sqlite_database_operations/blob/main/hha504_assgn3.ipynb\" target=\"_parent\"><img src=\"https://colab.research.google.com/assets/colab-badge.svg\" alt=\"Open In Colab\"/></a>"
      ]
    },
    {
      "cell_type": "markdown",
      "source": [
        "## Load packages"
      ],
      "metadata": {
        "id": "gVfe3f_Huz_Q"
      }
    },
    {
      "cell_type": "code",
      "execution_count": 123,
      "metadata": {
        "colab": {
          "base_uri": "https://localhost:8080/"
        },
        "id": "pCjelQZlsVBx",
        "outputId": "1b5868bc-a4bd-4b55-d847-9df1dffc5572"
      },
      "outputs": [
        {
          "output_type": "stream",
          "name": "stdout",
          "text": [
            "Requirement already satisfied: sqlalchemy in /usr/local/lib/python3.10/dist-packages (2.0.20)\n",
            "Requirement already satisfied: typing-extensions>=4.2.0 in /usr/local/lib/python3.10/dist-packages (from sqlalchemy) (4.5.0)\n",
            "Requirement already satisfied: greenlet!=0.4.17 in /usr/local/lib/python3.10/dist-packages (from sqlalchemy) (2.0.2)\n"
          ]
        }
      ],
      "source": [
        "! pip install sqlalchemy\n",
        "from sqlalchemy import create_engine\n",
        "import sqlite3\n",
        "import pandas as pd\n",
        "from tabulate import tabulate\n",
        "import numpy as np\n",
        "import matplotlib.pyplot as plt\n",
        "import seaborn as sns\n",
        "import plotly.graph_objects as go"
      ]
    },
    {
      "cell_type": "markdown",
      "source": [
        "# Hospital Database 1: Mount Sinai Queens"
      ],
      "metadata": {
        "id": "Qpaf9Z5MIDdN"
      }
    },
    {
      "cell_type": "markdown",
      "source": [
        "## Import data Hospital 1"
      ],
      "metadata": {
        "id": "4LB-o5hOKQ5r"
      }
    },
    {
      "cell_type": "code",
      "execution_count": null,
      "metadata": {
        "colab": {
          "base_uri": "https://localhost:8080/"
        },
        "id": "Ve_InWCmJ7Db",
        "outputId": "fd0a6065-72df-471c-f130-4bae91d44e55"
      },
      "outputs": [
        {
          "output_type": "stream",
          "name": "stderr",
          "text": [
            "<ipython-input-30-00c9927208ca>:1: DtypeWarning: Columns (9,10,12,13,14,15,17,19,20,21,22,23,24,27,28,29,31,33,34,35,36,38,41,43,45,47,48,49,50,52) have mixed types. Specify dtype option on import or set low_memory=False.\n",
            "  df = pd.read_csv('/content/131624096_mount-sinai-queens_chargemaster.csv')\n"
          ]
        }
      ],
      "source": [
        "df = pd.read_csv('/content/131624096_mount-sinai-queens_chargemaster.csv')"
      ]
    },
    {
      "cell_type": "code",
      "source": [
        "df.shape\n",
        "#114893 rows and 55 columns"
      ],
      "metadata": {
        "colab": {
          "base_uri": "https://localhost:8080/"
        },
        "id": "wCtSL2CgNbDc",
        "outputId": "ef379515-ef27-41c6-ac17-74b27fbc88ae"
      },
      "execution_count": null,
      "outputs": [
        {
          "output_type": "execute_result",
          "data": {
            "text/plain": [
              "(114893, 55)"
            ]
          },
          "metadata": {},
          "execution_count": 31
        }
      ]
    },
    {
      "cell_type": "code",
      "source": [
        "df.head(10)"
      ],
      "metadata": {
        "colab": {
          "base_uri": "https://localhost:8080/",
          "height": 846
        },
        "id": "P_79z11NLvVm",
        "outputId": "ffbfe8ca-7190-4357-dcf3-744065366162"
      },
      "execution_count": null,
      "outputs": [
        {
          "output_type": "execute_result",
          "data": {
            "text/plain": [
              "   CHARGE CODE                     CHARGE DESC  \\\n",
              "0     10300300         NON ESRD HEMO INPT UNIT   \n",
              "1     10300500  NON ESRD HEMO ED IN DIALYS UNI   \n",
              "2     10300600             INPT CAPD TREATMENT   \n",
              "3     10300700     ESRD HEMO ED IN DIALYS UNIT   \n",
              "4     10300800             ESRD HEMO INPT UNIT   \n",
              "5     10301000    ESRD HEMO INPT DIALYSIS UNIT   \n",
              "6     10303200                CCPD CYCLER INPT   \n",
              "7     10303400  NONESRD ULTRAFLTR IP DIALY UNI   \n",
              "8     10304600        ESRD ULTRAFLTR INPT UNIT   \n",
              "9     10304700  ESRD ULTRAFLTR IP DIALYSIS UNI   \n",
              "\n",
              "            ALTERNATE DESCRIPTION  DEPARTMENT CODE DEPARTMENT NAME  \\\n",
              "0         NON ESRD HEMO INPT UNIT              103        DIALYSIS   \n",
              "1  NON ESRD HEMO ED IN DIALYS UNI              103        DIALYSIS   \n",
              "2             INPT CAPD TREATMENT              103        DIALYSIS   \n",
              "3     ESRD HEMO ED IN DIALYS UNIT              103        DIALYSIS   \n",
              "4             ESRD HEMO INPT UNIT              103        DIALYSIS   \n",
              "5    ESRD HEMO INPT DIALYSIS UNIT              103        DIALYSIS   \n",
              "6                CCPD CYCLER INPT              103        DIALYSIS   \n",
              "7  NONESRD ULTRAFLTR IP DIALY UNI              103        DIALYSIS   \n",
              "8        ESRD ULTRAFLTR INPT UNIT              103        DIALYSIS   \n",
              "9  ESRD ULTRAFLTR IP DIALYSIS UNI              103        DIALYSIS   \n",
              "\n",
              "  EFFECTIVE DATE  RATE CHARGED  TP RATE (340B) GENERAL CPT4 CODE  \\\n",
              "0        12/1/18        2150.0             0.0             90935   \n",
              "1        12/1/18        1500.0             0.0             90935   \n",
              "2         1/1/19        1150.0             0.0             90945   \n",
              "3        12/1/18        1500.0             0.0             G0257   \n",
              "4        12/1/18        1700.0             0.0             90935   \n",
              "5        12/1/18        1500.0             0.0             90935   \n",
              "6         1/1/19        1150.0             0.0             90945   \n",
              "7        12/1/18        1150.0             0.0             90945   \n",
              "8         1/1/19        1150.0             0.0             90945   \n",
              "9        12/1/18        1150.0             0.0             90945   \n",
              "\n",
              "  GENERAL MODIFER 1  ... BC IP MODIFIER2 EFF DATE  BC OP REV CODE  \\\n",
              "0               NaN  ...                      NaN             NaN   \n",
              "1               NaN  ...                      NaN             NaN   \n",
              "2               NaN  ...                      NaN             NaN   \n",
              "3               NaN  ...                      NaN             NaN   \n",
              "4               NaN  ...                      NaN             NaN   \n",
              "5               NaN  ...                      NaN             NaN   \n",
              "6               NaN  ...                      NaN             NaN   \n",
              "7               NaN  ...                      NaN             NaN   \n",
              "8               NaN  ...                      NaN             NaN   \n",
              "9               NaN  ...                      NaN             NaN   \n",
              "\n",
              "  BC OP HCPCS CODE BC OP HCPCS EFF DATE BC OP MODIFIER1  \\\n",
              "0              NaN                  NaN             NaN   \n",
              "1              NaN                  NaN             NaN   \n",
              "2              NaN                  NaN             NaN   \n",
              "3              NaN                  NaN             NaN   \n",
              "4              NaN                  NaN             NaN   \n",
              "5              NaN                  NaN             NaN   \n",
              "6              NaN                  NaN             NaN   \n",
              "7              NaN                  NaN             NaN   \n",
              "8              NaN                  NaN             NaN   \n",
              "9              NaN                  NaN             NaN   \n",
              "\n",
              "  BC OP MODIFIER1 EFF DATE  BC OP MODIFIER2 BC OP MODIFIER2 EFF DATE  \\\n",
              "0                      NaN              NaN                      NaN   \n",
              "1                      NaN              NaN                      NaN   \n",
              "2                      NaN              NaN                      NaN   \n",
              "3                      NaN              NaN                      NaN   \n",
              "4                      NaN              NaN                      NaN   \n",
              "5                      NaN              NaN                      NaN   \n",
              "6                      NaN              NaN                      NaN   \n",
              "7                      NaN              NaN                      NaN   \n",
              "8                      NaN              NaN                      NaN   \n",
              "9                      NaN              NaN                      NaN   \n",
              "\n",
              "   REVENUE CODE INPATIENT REVENUE CODE OUTPATIENT  \n",
              "0                   801.0                   801.0  \n",
              "1                   821.0                   821.0  \n",
              "2                   803.0                   803.0  \n",
              "3                   821.0                   821.0  \n",
              "4                   801.0                   801.0  \n",
              "5                   801.0                   801.0  \n",
              "6                   804.0                   804.0  \n",
              "7                   881.0                   881.0  \n",
              "8                   881.0                   881.0  \n",
              "9                   881.0                   881.0  \n",
              "\n",
              "[10 rows x 55 columns]"
            ],
            "text/html": [
              "\n",
              "  <div id=\"df-12d6370c-f10a-4ff7-9810-84193537623d\" class=\"colab-df-container\">\n",
              "    <div>\n",
              "<style scoped>\n",
              "    .dataframe tbody tr th:only-of-type {\n",
              "        vertical-align: middle;\n",
              "    }\n",
              "\n",
              "    .dataframe tbody tr th {\n",
              "        vertical-align: top;\n",
              "    }\n",
              "\n",
              "    .dataframe thead th {\n",
              "        text-align: right;\n",
              "    }\n",
              "</style>\n",
              "<table border=\"1\" class=\"dataframe\">\n",
              "  <thead>\n",
              "    <tr style=\"text-align: right;\">\n",
              "      <th></th>\n",
              "      <th>CHARGE CODE</th>\n",
              "      <th>CHARGE DESC</th>\n",
              "      <th>ALTERNATE DESCRIPTION</th>\n",
              "      <th>DEPARTMENT CODE</th>\n",
              "      <th>DEPARTMENT NAME</th>\n",
              "      <th>EFFECTIVE DATE</th>\n",
              "      <th>RATE CHARGED</th>\n",
              "      <th>TP RATE (340B)</th>\n",
              "      <th>GENERAL CPT4 CODE</th>\n",
              "      <th>GENERAL MODIFER 1</th>\n",
              "      <th>...</th>\n",
              "      <th>BC IP MODIFIER2 EFF DATE</th>\n",
              "      <th>BC OP REV CODE</th>\n",
              "      <th>BC OP HCPCS CODE</th>\n",
              "      <th>BC OP HCPCS EFF DATE</th>\n",
              "      <th>BC OP MODIFIER1</th>\n",
              "      <th>BC OP MODIFIER1 EFF DATE</th>\n",
              "      <th>BC OP MODIFIER2</th>\n",
              "      <th>BC OP MODIFIER2 EFF DATE</th>\n",
              "      <th>REVENUE CODE INPATIENT</th>\n",
              "      <th>REVENUE CODE OUTPATIENT</th>\n",
              "    </tr>\n",
              "  </thead>\n",
              "  <tbody>\n",
              "    <tr>\n",
              "      <th>0</th>\n",
              "      <td>10300300</td>\n",
              "      <td>NON ESRD HEMO INPT UNIT</td>\n",
              "      <td>NON ESRD HEMO INPT UNIT</td>\n",
              "      <td>103</td>\n",
              "      <td>DIALYSIS</td>\n",
              "      <td>12/1/18</td>\n",
              "      <td>2150.0</td>\n",
              "      <td>0.0</td>\n",
              "      <td>90935</td>\n",
              "      <td>NaN</td>\n",
              "      <td>...</td>\n",
              "      <td>NaN</td>\n",
              "      <td>NaN</td>\n",
              "      <td>NaN</td>\n",
              "      <td>NaN</td>\n",
              "      <td>NaN</td>\n",
              "      <td>NaN</td>\n",
              "      <td>NaN</td>\n",
              "      <td>NaN</td>\n",
              "      <td>801.0</td>\n",
              "      <td>801.0</td>\n",
              "    </tr>\n",
              "    <tr>\n",
              "      <th>1</th>\n",
              "      <td>10300500</td>\n",
              "      <td>NON ESRD HEMO ED IN DIALYS UNI</td>\n",
              "      <td>NON ESRD HEMO ED IN DIALYS UNI</td>\n",
              "      <td>103</td>\n",
              "      <td>DIALYSIS</td>\n",
              "      <td>12/1/18</td>\n",
              "      <td>1500.0</td>\n",
              "      <td>0.0</td>\n",
              "      <td>90935</td>\n",
              "      <td>NaN</td>\n",
              "      <td>...</td>\n",
              "      <td>NaN</td>\n",
              "      <td>NaN</td>\n",
              "      <td>NaN</td>\n",
              "      <td>NaN</td>\n",
              "      <td>NaN</td>\n",
              "      <td>NaN</td>\n",
              "      <td>NaN</td>\n",
              "      <td>NaN</td>\n",
              "      <td>821.0</td>\n",
              "      <td>821.0</td>\n",
              "    </tr>\n",
              "    <tr>\n",
              "      <th>2</th>\n",
              "      <td>10300600</td>\n",
              "      <td>INPT CAPD TREATMENT</td>\n",
              "      <td>INPT CAPD TREATMENT</td>\n",
              "      <td>103</td>\n",
              "      <td>DIALYSIS</td>\n",
              "      <td>1/1/19</td>\n",
              "      <td>1150.0</td>\n",
              "      <td>0.0</td>\n",
              "      <td>90945</td>\n",
              "      <td>NaN</td>\n",
              "      <td>...</td>\n",
              "      <td>NaN</td>\n",
              "      <td>NaN</td>\n",
              "      <td>NaN</td>\n",
              "      <td>NaN</td>\n",
              "      <td>NaN</td>\n",
              "      <td>NaN</td>\n",
              "      <td>NaN</td>\n",
              "      <td>NaN</td>\n",
              "      <td>803.0</td>\n",
              "      <td>803.0</td>\n",
              "    </tr>\n",
              "    <tr>\n",
              "      <th>3</th>\n",
              "      <td>10300700</td>\n",
              "      <td>ESRD HEMO ED IN DIALYS UNIT</td>\n",
              "      <td>ESRD HEMO ED IN DIALYS UNIT</td>\n",
              "      <td>103</td>\n",
              "      <td>DIALYSIS</td>\n",
              "      <td>12/1/18</td>\n",
              "      <td>1500.0</td>\n",
              "      <td>0.0</td>\n",
              "      <td>G0257</td>\n",
              "      <td>NaN</td>\n",
              "      <td>...</td>\n",
              "      <td>NaN</td>\n",
              "      <td>NaN</td>\n",
              "      <td>NaN</td>\n",
              "      <td>NaN</td>\n",
              "      <td>NaN</td>\n",
              "      <td>NaN</td>\n",
              "      <td>NaN</td>\n",
              "      <td>NaN</td>\n",
              "      <td>821.0</td>\n",
              "      <td>821.0</td>\n",
              "    </tr>\n",
              "    <tr>\n",
              "      <th>4</th>\n",
              "      <td>10300800</td>\n",
              "      <td>ESRD HEMO INPT UNIT</td>\n",
              "      <td>ESRD HEMO INPT UNIT</td>\n",
              "      <td>103</td>\n",
              "      <td>DIALYSIS</td>\n",
              "      <td>12/1/18</td>\n",
              "      <td>1700.0</td>\n",
              "      <td>0.0</td>\n",
              "      <td>90935</td>\n",
              "      <td>NaN</td>\n",
              "      <td>...</td>\n",
              "      <td>NaN</td>\n",
              "      <td>NaN</td>\n",
              "      <td>NaN</td>\n",
              "      <td>NaN</td>\n",
              "      <td>NaN</td>\n",
              "      <td>NaN</td>\n",
              "      <td>NaN</td>\n",
              "      <td>NaN</td>\n",
              "      <td>801.0</td>\n",
              "      <td>801.0</td>\n",
              "    </tr>\n",
              "    <tr>\n",
              "      <th>5</th>\n",
              "      <td>10301000</td>\n",
              "      <td>ESRD HEMO INPT DIALYSIS UNIT</td>\n",
              "      <td>ESRD HEMO INPT DIALYSIS UNIT</td>\n",
              "      <td>103</td>\n",
              "      <td>DIALYSIS</td>\n",
              "      <td>12/1/18</td>\n",
              "      <td>1500.0</td>\n",
              "      <td>0.0</td>\n",
              "      <td>90935</td>\n",
              "      <td>NaN</td>\n",
              "      <td>...</td>\n",
              "      <td>NaN</td>\n",
              "      <td>NaN</td>\n",
              "      <td>NaN</td>\n",
              "      <td>NaN</td>\n",
              "      <td>NaN</td>\n",
              "      <td>NaN</td>\n",
              "      <td>NaN</td>\n",
              "      <td>NaN</td>\n",
              "      <td>801.0</td>\n",
              "      <td>801.0</td>\n",
              "    </tr>\n",
              "    <tr>\n",
              "      <th>6</th>\n",
              "      <td>10303200</td>\n",
              "      <td>CCPD CYCLER INPT</td>\n",
              "      <td>CCPD CYCLER INPT</td>\n",
              "      <td>103</td>\n",
              "      <td>DIALYSIS</td>\n",
              "      <td>1/1/19</td>\n",
              "      <td>1150.0</td>\n",
              "      <td>0.0</td>\n",
              "      <td>90945</td>\n",
              "      <td>NaN</td>\n",
              "      <td>...</td>\n",
              "      <td>NaN</td>\n",
              "      <td>NaN</td>\n",
              "      <td>NaN</td>\n",
              "      <td>NaN</td>\n",
              "      <td>NaN</td>\n",
              "      <td>NaN</td>\n",
              "      <td>NaN</td>\n",
              "      <td>NaN</td>\n",
              "      <td>804.0</td>\n",
              "      <td>804.0</td>\n",
              "    </tr>\n",
              "    <tr>\n",
              "      <th>7</th>\n",
              "      <td>10303400</td>\n",
              "      <td>NONESRD ULTRAFLTR IP DIALY UNI</td>\n",
              "      <td>NONESRD ULTRAFLTR IP DIALY UNI</td>\n",
              "      <td>103</td>\n",
              "      <td>DIALYSIS</td>\n",
              "      <td>12/1/18</td>\n",
              "      <td>1150.0</td>\n",
              "      <td>0.0</td>\n",
              "      <td>90945</td>\n",
              "      <td>NaN</td>\n",
              "      <td>...</td>\n",
              "      <td>NaN</td>\n",
              "      <td>NaN</td>\n",
              "      <td>NaN</td>\n",
              "      <td>NaN</td>\n",
              "      <td>NaN</td>\n",
              "      <td>NaN</td>\n",
              "      <td>NaN</td>\n",
              "      <td>NaN</td>\n",
              "      <td>881.0</td>\n",
              "      <td>881.0</td>\n",
              "    </tr>\n",
              "    <tr>\n",
              "      <th>8</th>\n",
              "      <td>10304600</td>\n",
              "      <td>ESRD ULTRAFLTR INPT UNIT</td>\n",
              "      <td>ESRD ULTRAFLTR INPT UNIT</td>\n",
              "      <td>103</td>\n",
              "      <td>DIALYSIS</td>\n",
              "      <td>1/1/19</td>\n",
              "      <td>1150.0</td>\n",
              "      <td>0.0</td>\n",
              "      <td>90945</td>\n",
              "      <td>NaN</td>\n",
              "      <td>...</td>\n",
              "      <td>NaN</td>\n",
              "      <td>NaN</td>\n",
              "      <td>NaN</td>\n",
              "      <td>NaN</td>\n",
              "      <td>NaN</td>\n",
              "      <td>NaN</td>\n",
              "      <td>NaN</td>\n",
              "      <td>NaN</td>\n",
              "      <td>881.0</td>\n",
              "      <td>881.0</td>\n",
              "    </tr>\n",
              "    <tr>\n",
              "      <th>9</th>\n",
              "      <td>10304700</td>\n",
              "      <td>ESRD ULTRAFLTR IP DIALYSIS UNI</td>\n",
              "      <td>ESRD ULTRAFLTR IP DIALYSIS UNI</td>\n",
              "      <td>103</td>\n",
              "      <td>DIALYSIS</td>\n",
              "      <td>12/1/18</td>\n",
              "      <td>1150.0</td>\n",
              "      <td>0.0</td>\n",
              "      <td>90945</td>\n",
              "      <td>NaN</td>\n",
              "      <td>...</td>\n",
              "      <td>NaN</td>\n",
              "      <td>NaN</td>\n",
              "      <td>NaN</td>\n",
              "      <td>NaN</td>\n",
              "      <td>NaN</td>\n",
              "      <td>NaN</td>\n",
              "      <td>NaN</td>\n",
              "      <td>NaN</td>\n",
              "      <td>881.0</td>\n",
              "      <td>881.0</td>\n",
              "    </tr>\n",
              "  </tbody>\n",
              "</table>\n",
              "<p>10 rows × 55 columns</p>\n",
              "</div>\n",
              "    <div class=\"colab-df-buttons\">\n",
              "\n",
              "  <div class=\"colab-df-container\">\n",
              "    <button class=\"colab-df-convert\" onclick=\"convertToInteractive('df-12d6370c-f10a-4ff7-9810-84193537623d')\"\n",
              "            title=\"Convert this dataframe to an interactive table.\"\n",
              "            style=\"display:none;\">\n",
              "\n",
              "  <svg xmlns=\"http://www.w3.org/2000/svg\" height=\"24px\" viewBox=\"0 -960 960 960\">\n",
              "    <path d=\"M120-120v-720h720v720H120Zm60-500h600v-160H180v160Zm220 220h160v-160H400v160Zm0 220h160v-160H400v160ZM180-400h160v-160H180v160Zm440 0h160v-160H620v160ZM180-180h160v-160H180v160Zm440 0h160v-160H620v160Z\"/>\n",
              "  </svg>\n",
              "    </button>\n",
              "\n",
              "  <style>\n",
              "    .colab-df-container {\n",
              "      display:flex;\n",
              "      gap: 12px;\n",
              "    }\n",
              "\n",
              "    .colab-df-convert {\n",
              "      background-color: #E8F0FE;\n",
              "      border: none;\n",
              "      border-radius: 50%;\n",
              "      cursor: pointer;\n",
              "      display: none;\n",
              "      fill: #1967D2;\n",
              "      height: 32px;\n",
              "      padding: 0 0 0 0;\n",
              "      width: 32px;\n",
              "    }\n",
              "\n",
              "    .colab-df-convert:hover {\n",
              "      background-color: #E2EBFA;\n",
              "      box-shadow: 0px 1px 2px rgba(60, 64, 67, 0.3), 0px 1px 3px 1px rgba(60, 64, 67, 0.15);\n",
              "      fill: #174EA6;\n",
              "    }\n",
              "\n",
              "    .colab-df-buttons div {\n",
              "      margin-bottom: 4px;\n",
              "    }\n",
              "\n",
              "    [theme=dark] .colab-df-convert {\n",
              "      background-color: #3B4455;\n",
              "      fill: #D2E3FC;\n",
              "    }\n",
              "\n",
              "    [theme=dark] .colab-df-convert:hover {\n",
              "      background-color: #434B5C;\n",
              "      box-shadow: 0px 1px 3px 1px rgba(0, 0, 0, 0.15);\n",
              "      filter: drop-shadow(0px 1px 2px rgba(0, 0, 0, 0.3));\n",
              "      fill: #FFFFFF;\n",
              "    }\n",
              "  </style>\n",
              "\n",
              "    <script>\n",
              "      const buttonEl =\n",
              "        document.querySelector('#df-12d6370c-f10a-4ff7-9810-84193537623d button.colab-df-convert');\n",
              "      buttonEl.style.display =\n",
              "        google.colab.kernel.accessAllowed ? 'block' : 'none';\n",
              "\n",
              "      async function convertToInteractive(key) {\n",
              "        const element = document.querySelector('#df-12d6370c-f10a-4ff7-9810-84193537623d');\n",
              "        const dataTable =\n",
              "          await google.colab.kernel.invokeFunction('convertToInteractive',\n",
              "                                                    [key], {});\n",
              "        if (!dataTable) return;\n",
              "\n",
              "        const docLinkHtml = 'Like what you see? Visit the ' +\n",
              "          '<a target=\"_blank\" href=https://colab.research.google.com/notebooks/data_table.ipynb>data table notebook</a>'\n",
              "          + ' to learn more about interactive tables.';\n",
              "        element.innerHTML = '';\n",
              "        dataTable['output_type'] = 'display_data';\n",
              "        await google.colab.output.renderOutput(dataTable, element);\n",
              "        const docLink = document.createElement('div');\n",
              "        docLink.innerHTML = docLinkHtml;\n",
              "        element.appendChild(docLink);\n",
              "      }\n",
              "    </script>\n",
              "  </div>\n",
              "\n",
              "\n",
              "<div id=\"df-b5114fed-ad17-4dfb-b7c7-981ea4b01014\">\n",
              "  <button class=\"colab-df-quickchart\" onclick=\"quickchart('df-b5114fed-ad17-4dfb-b7c7-981ea4b01014')\"\n",
              "            title=\"Suggest charts.\"\n",
              "            style=\"display:none;\">\n",
              "\n",
              "<svg xmlns=\"http://www.w3.org/2000/svg\" height=\"24px\"viewBox=\"0 0 24 24\"\n",
              "     width=\"24px\">\n",
              "    <g>\n",
              "        <path d=\"M19 3H5c-1.1 0-2 .9-2 2v14c0 1.1.9 2 2 2h14c1.1 0 2-.9 2-2V5c0-1.1-.9-2-2-2zM9 17H7v-7h2v7zm4 0h-2V7h2v10zm4 0h-2v-4h2v4z\"/>\n",
              "    </g>\n",
              "</svg>\n",
              "  </button>\n",
              "\n",
              "<style>\n",
              "  .colab-df-quickchart {\n",
              "      --bg-color: #E8F0FE;\n",
              "      --fill-color: #1967D2;\n",
              "      --hover-bg-color: #E2EBFA;\n",
              "      --hover-fill-color: #174EA6;\n",
              "      --disabled-fill-color: #AAA;\n",
              "      --disabled-bg-color: #DDD;\n",
              "  }\n",
              "\n",
              "  [theme=dark] .colab-df-quickchart {\n",
              "      --bg-color: #3B4455;\n",
              "      --fill-color: #D2E3FC;\n",
              "      --hover-bg-color: #434B5C;\n",
              "      --hover-fill-color: #FFFFFF;\n",
              "      --disabled-bg-color: #3B4455;\n",
              "      --disabled-fill-color: #666;\n",
              "  }\n",
              "\n",
              "  .colab-df-quickchart {\n",
              "    background-color: var(--bg-color);\n",
              "    border: none;\n",
              "    border-radius: 50%;\n",
              "    cursor: pointer;\n",
              "    display: none;\n",
              "    fill: var(--fill-color);\n",
              "    height: 32px;\n",
              "    padding: 0;\n",
              "    width: 32px;\n",
              "  }\n",
              "\n",
              "  .colab-df-quickchart:hover {\n",
              "    background-color: var(--hover-bg-color);\n",
              "    box-shadow: 0 1px 2px rgba(60, 64, 67, 0.3), 0 1px 3px 1px rgba(60, 64, 67, 0.15);\n",
              "    fill: var(--button-hover-fill-color);\n",
              "  }\n",
              "\n",
              "  .colab-df-quickchart-complete:disabled,\n",
              "  .colab-df-quickchart-complete:disabled:hover {\n",
              "    background-color: var(--disabled-bg-color);\n",
              "    fill: var(--disabled-fill-color);\n",
              "    box-shadow: none;\n",
              "  }\n",
              "\n",
              "  .colab-df-spinner {\n",
              "    border: 2px solid var(--fill-color);\n",
              "    border-color: transparent;\n",
              "    border-bottom-color: var(--fill-color);\n",
              "    animation:\n",
              "      spin 1s steps(1) infinite;\n",
              "  }\n",
              "\n",
              "  @keyframes spin {\n",
              "    0% {\n",
              "      border-color: transparent;\n",
              "      border-bottom-color: var(--fill-color);\n",
              "      border-left-color: var(--fill-color);\n",
              "    }\n",
              "    20% {\n",
              "      border-color: transparent;\n",
              "      border-left-color: var(--fill-color);\n",
              "      border-top-color: var(--fill-color);\n",
              "    }\n",
              "    30% {\n",
              "      border-color: transparent;\n",
              "      border-left-color: var(--fill-color);\n",
              "      border-top-color: var(--fill-color);\n",
              "      border-right-color: var(--fill-color);\n",
              "    }\n",
              "    40% {\n",
              "      border-color: transparent;\n",
              "      border-right-color: var(--fill-color);\n",
              "      border-top-color: var(--fill-color);\n",
              "    }\n",
              "    60% {\n",
              "      border-color: transparent;\n",
              "      border-right-color: var(--fill-color);\n",
              "    }\n",
              "    80% {\n",
              "      border-color: transparent;\n",
              "      border-right-color: var(--fill-color);\n",
              "      border-bottom-color: var(--fill-color);\n",
              "    }\n",
              "    90% {\n",
              "      border-color: transparent;\n",
              "      border-bottom-color: var(--fill-color);\n",
              "    }\n",
              "  }\n",
              "</style>\n",
              "\n",
              "  <script>\n",
              "    async function quickchart(key) {\n",
              "      const quickchartButtonEl =\n",
              "        document.querySelector('#' + key + ' button');\n",
              "      quickchartButtonEl.disabled = true;  // To prevent multiple clicks.\n",
              "      quickchartButtonEl.classList.add('colab-df-spinner');\n",
              "      try {\n",
              "        const charts = await google.colab.kernel.invokeFunction(\n",
              "            'suggestCharts', [key], {});\n",
              "      } catch (error) {\n",
              "        console.error('Error during call to suggestCharts:', error);\n",
              "      }\n",
              "      quickchartButtonEl.classList.remove('colab-df-spinner');\n",
              "      quickchartButtonEl.classList.add('colab-df-quickchart-complete');\n",
              "    }\n",
              "    (() => {\n",
              "      let quickchartButtonEl =\n",
              "        document.querySelector('#df-b5114fed-ad17-4dfb-b7c7-981ea4b01014 button');\n",
              "      quickchartButtonEl.style.display =\n",
              "        google.colab.kernel.accessAllowed ? 'block' : 'none';\n",
              "    })();\n",
              "  </script>\n",
              "</div>\n",
              "    </div>\n",
              "  </div>\n"
            ]
          },
          "metadata": {},
          "execution_count": 34
        }
      ]
    },
    {
      "cell_type": "code",
      "source": [
        "df.columns"
      ],
      "metadata": {
        "id": "nuCMbx2bLgbE"
      },
      "execution_count": null,
      "outputs": []
    },
    {
      "cell_type": "markdown",
      "source": [
        "## Data cleaning Hospital 1\n",
        "\n"
      ],
      "metadata": {
        "id": "-_wLOMSfLmE2"
      }
    },
    {
      "cell_type": "code",
      "source": [
        "# Drop empty columns\n",
        "df.dropna(how='all', axis=1, inplace=True)\n",
        "print(df)\n",
        "\n",
        "#Results in 114893 rows and 48 columns"
      ],
      "metadata": {
        "id": "l7D0MF-QNlkK"
      },
      "execution_count": null,
      "outputs": []
    },
    {
      "cell_type": "code",
      "source": [
        "# Check for missing values in a column\n",
        "print(df.isnull().sum())\n",
        "# Results in only a few columns not missing values: CHARGE CODE, CHARGE DESC, ALTERNATE DESCRIPTION, DEPARTMENT CODE, DEPARTMENT NAME, EFFECTIVE DATE, RATE CHARGED, TP RATE (340B), REVENUE CODE INPATIENT, REVENUE CODE OUTPATIENT"
      ],
      "metadata": {
        "id": "xDMsAyuzQbun"
      },
      "execution_count": null,
      "outputs": []
    },
    {
      "cell_type": "code",
      "source": [
        "df.drop_duplicates(inplace=True)\n",
        "# No duplicate rows identified"
      ],
      "metadata": {
        "id": "BZdrEUqkQmIJ"
      },
      "execution_count": null,
      "outputs": []
    },
    {
      "cell_type": "code",
      "source": [
        "#Rename columns\n",
        "newDF=df.rename(columns={'CHARGE CODE': 'CHARGEcode', 'CHARGE DESC':'CHARGEdesc', 'ALTERNATE DESCRIPTION': 'ALTdesc', 'DEPARTMENT CODE':'DEPTcode', 'DEPARTMENT NAME':'DEPTname', 'EFFECTIVE DATE':'EFFECTIVEdate', 'RATE CHARGED':'RATEcharged', \"TP RATE (340B)\":'TP_RATE_340B', 'REVENUE CODE INPATIENT':'REVENUEcodeINPT', 'REVENUE CODE OUTPATIENT':'REVENUEcodeOPT'})"
      ],
      "metadata": {
        "id": "wOBhCLFOQl_h"
      },
      "execution_count": null,
      "outputs": []
    },
    {
      "cell_type": "code",
      "source": [
        "print(newDF)"
      ],
      "metadata": {
        "id": "iBoCjXloWLJB"
      },
      "execution_count": null,
      "outputs": []
    },
    {
      "cell_type": "code",
      "source": [
        "df_msq=newDF[['CHARGEcode','CHARGEdesc','ALTdesc','DEPTcode','DEPTname','EFFECTIVEdate','RATEcharged','REVENUEcodeINPT','REVENUEcodeOPT']]"
      ],
      "metadata": {
        "id": "_TBdJ10oQhlw"
      },
      "execution_count": null,
      "outputs": []
    },
    {
      "cell_type": "code",
      "source": [
        "df_msq.to_csv('/content/cleaned_mount-sinai-queens_chargemaster.csv')"
      ],
      "metadata": {
        "id": "e-LEXU3_UDuW"
      },
      "execution_count": null,
      "outputs": []
    },
    {
      "cell_type": "markdown",
      "source": [
        "## Exploratory Analysis Hospital 1\n",
        "\n"
      ],
      "metadata": {
        "id": "f_-UkbPlXTUv"
      }
    },
    {
      "cell_type": "markdown",
      "source": [
        "#### Observations: A lot of missing columns and values; created new dataframe with clean data to remove null values"
      ],
      "metadata": {
        "id": "8_YK9FxWjPEl"
      }
    },
    {
      "cell_type": "code",
      "source": [
        "df_msq.dtypes"
      ],
      "metadata": {
        "colab": {
          "base_uri": "https://localhost:8080/"
        },
        "id": "T6GxZYmoX6mI",
        "outputId": "e78dde1d-d902-4ef1-fac8-bd0330357356"
      },
      "execution_count": null,
      "outputs": [
        {
          "output_type": "execute_result",
          "data": {
            "text/plain": [
              "CHARGEcode          object\n",
              "CHARGEdesc          object\n",
              "ALTdesc             object\n",
              "DEPTcode            object\n",
              "DEPTname            object\n",
              "EFFECTIVEdate       object\n",
              "RATEcharged        float64\n",
              "REVENUEcodeINPT     object\n",
              "REVENUEcodeOPT      object\n",
              "dtype: object"
            ]
          },
          "metadata": {},
          "execution_count": 72
        }
      ]
    },
    {
      "cell_type": "code",
      "source": [
        "# Convert columns to strings\n",
        "df_msq['CHARGEcode'] = df_msq['CHARGEcode'].apply(str)\n",
        "df_msq['DEPTcode'] = df_msq['DEPTcode'].apply(str)\n",
        "df_msq['REVENUEcodeINPT'] = df_msq['REVENUEcodeINPT'].apply(str)\n",
        "df_msq['REVENUEcodeOPT'] = df_msq['REVENUEcodeOPT'].apply(str)"
      ],
      "metadata": {
        "id": "w-RE8Z-WYHj-"
      },
      "execution_count": null,
      "outputs": []
    },
    {
      "cell_type": "code",
      "source": [
        "df_msq.describe()"
      ],
      "metadata": {
        "colab": {
          "base_uri": "https://localhost:8080/",
          "height": 300
        },
        "id": "vUo7MxRIYDeP",
        "outputId": "0228f44f-9c3b-4cd6-99df-ddd0432e1723"
      },
      "execution_count": null,
      "outputs": [
        {
          "output_type": "execute_result",
          "data": {
            "text/plain": [
              "         RATEcharged\n",
              "count  114893.000000\n",
              "mean     2051.366813\n",
              "std      4404.024927\n",
              "min         0.000000\n",
              "25%       164.630000\n",
              "50%       636.180000\n",
              "75%      2226.000000\n",
              "max    318000.000000"
            ],
            "text/html": [
              "\n",
              "  <div id=\"df-c73771e1-e542-491b-bd9b-fc436397b10b\" class=\"colab-df-container\">\n",
              "    <div>\n",
              "<style scoped>\n",
              "    .dataframe tbody tr th:only-of-type {\n",
              "        vertical-align: middle;\n",
              "    }\n",
              "\n",
              "    .dataframe tbody tr th {\n",
              "        vertical-align: top;\n",
              "    }\n",
              "\n",
              "    .dataframe thead th {\n",
              "        text-align: right;\n",
              "    }\n",
              "</style>\n",
              "<table border=\"1\" class=\"dataframe\">\n",
              "  <thead>\n",
              "    <tr style=\"text-align: right;\">\n",
              "      <th></th>\n",
              "      <th>RATEcharged</th>\n",
              "    </tr>\n",
              "  </thead>\n",
              "  <tbody>\n",
              "    <tr>\n",
              "      <th>count</th>\n",
              "      <td>114893.000000</td>\n",
              "    </tr>\n",
              "    <tr>\n",
              "      <th>mean</th>\n",
              "      <td>2051.366813</td>\n",
              "    </tr>\n",
              "    <tr>\n",
              "      <th>std</th>\n",
              "      <td>4404.024927</td>\n",
              "    </tr>\n",
              "    <tr>\n",
              "      <th>min</th>\n",
              "      <td>0.000000</td>\n",
              "    </tr>\n",
              "    <tr>\n",
              "      <th>25%</th>\n",
              "      <td>164.630000</td>\n",
              "    </tr>\n",
              "    <tr>\n",
              "      <th>50%</th>\n",
              "      <td>636.180000</td>\n",
              "    </tr>\n",
              "    <tr>\n",
              "      <th>75%</th>\n",
              "      <td>2226.000000</td>\n",
              "    </tr>\n",
              "    <tr>\n",
              "      <th>max</th>\n",
              "      <td>318000.000000</td>\n",
              "    </tr>\n",
              "  </tbody>\n",
              "</table>\n",
              "</div>\n",
              "    <div class=\"colab-df-buttons\">\n",
              "\n",
              "  <div class=\"colab-df-container\">\n",
              "    <button class=\"colab-df-convert\" onclick=\"convertToInteractive('df-c73771e1-e542-491b-bd9b-fc436397b10b')\"\n",
              "            title=\"Convert this dataframe to an interactive table.\"\n",
              "            style=\"display:none;\">\n",
              "\n",
              "  <svg xmlns=\"http://www.w3.org/2000/svg\" height=\"24px\" viewBox=\"0 -960 960 960\">\n",
              "    <path d=\"M120-120v-720h720v720H120Zm60-500h600v-160H180v160Zm220 220h160v-160H400v160Zm0 220h160v-160H400v160ZM180-400h160v-160H180v160Zm440 0h160v-160H620v160ZM180-180h160v-160H180v160Zm440 0h160v-160H620v160Z\"/>\n",
              "  </svg>\n",
              "    </button>\n",
              "\n",
              "  <style>\n",
              "    .colab-df-container {\n",
              "      display:flex;\n",
              "      gap: 12px;\n",
              "    }\n",
              "\n",
              "    .colab-df-convert {\n",
              "      background-color: #E8F0FE;\n",
              "      border: none;\n",
              "      border-radius: 50%;\n",
              "      cursor: pointer;\n",
              "      display: none;\n",
              "      fill: #1967D2;\n",
              "      height: 32px;\n",
              "      padding: 0 0 0 0;\n",
              "      width: 32px;\n",
              "    }\n",
              "\n",
              "    .colab-df-convert:hover {\n",
              "      background-color: #E2EBFA;\n",
              "      box-shadow: 0px 1px 2px rgba(60, 64, 67, 0.3), 0px 1px 3px 1px rgba(60, 64, 67, 0.15);\n",
              "      fill: #174EA6;\n",
              "    }\n",
              "\n",
              "    .colab-df-buttons div {\n",
              "      margin-bottom: 4px;\n",
              "    }\n",
              "\n",
              "    [theme=dark] .colab-df-convert {\n",
              "      background-color: #3B4455;\n",
              "      fill: #D2E3FC;\n",
              "    }\n",
              "\n",
              "    [theme=dark] .colab-df-convert:hover {\n",
              "      background-color: #434B5C;\n",
              "      box-shadow: 0px 1px 3px 1px rgba(0, 0, 0, 0.15);\n",
              "      filter: drop-shadow(0px 1px 2px rgba(0, 0, 0, 0.3));\n",
              "      fill: #FFFFFF;\n",
              "    }\n",
              "  </style>\n",
              "\n",
              "    <script>\n",
              "      const buttonEl =\n",
              "        document.querySelector('#df-c73771e1-e542-491b-bd9b-fc436397b10b button.colab-df-convert');\n",
              "      buttonEl.style.display =\n",
              "        google.colab.kernel.accessAllowed ? 'block' : 'none';\n",
              "\n",
              "      async function convertToInteractive(key) {\n",
              "        const element = document.querySelector('#df-c73771e1-e542-491b-bd9b-fc436397b10b');\n",
              "        const dataTable =\n",
              "          await google.colab.kernel.invokeFunction('convertToInteractive',\n",
              "                                                    [key], {});\n",
              "        if (!dataTable) return;\n",
              "\n",
              "        const docLinkHtml = 'Like what you see? Visit the ' +\n",
              "          '<a target=\"_blank\" href=https://colab.research.google.com/notebooks/data_table.ipynb>data table notebook</a>'\n",
              "          + ' to learn more about interactive tables.';\n",
              "        element.innerHTML = '';\n",
              "        dataTable['output_type'] = 'display_data';\n",
              "        await google.colab.output.renderOutput(dataTable, element);\n",
              "        const docLink = document.createElement('div');\n",
              "        docLink.innerHTML = docLinkHtml;\n",
              "        element.appendChild(docLink);\n",
              "      }\n",
              "    </script>\n",
              "  </div>\n",
              "\n",
              "\n",
              "<div id=\"df-df9e2b0d-21d9-41fb-9ba0-176b65e62d09\">\n",
              "  <button class=\"colab-df-quickchart\" onclick=\"quickchart('df-df9e2b0d-21d9-41fb-9ba0-176b65e62d09')\"\n",
              "            title=\"Suggest charts.\"\n",
              "            style=\"display:none;\">\n",
              "\n",
              "<svg xmlns=\"http://www.w3.org/2000/svg\" height=\"24px\"viewBox=\"0 0 24 24\"\n",
              "     width=\"24px\">\n",
              "    <g>\n",
              "        <path d=\"M19 3H5c-1.1 0-2 .9-2 2v14c0 1.1.9 2 2 2h14c1.1 0 2-.9 2-2V5c0-1.1-.9-2-2-2zM9 17H7v-7h2v7zm4 0h-2V7h2v10zm4 0h-2v-4h2v4z\"/>\n",
              "    </g>\n",
              "</svg>\n",
              "  </button>\n",
              "\n",
              "<style>\n",
              "  .colab-df-quickchart {\n",
              "      --bg-color: #E8F0FE;\n",
              "      --fill-color: #1967D2;\n",
              "      --hover-bg-color: #E2EBFA;\n",
              "      --hover-fill-color: #174EA6;\n",
              "      --disabled-fill-color: #AAA;\n",
              "      --disabled-bg-color: #DDD;\n",
              "  }\n",
              "\n",
              "  [theme=dark] .colab-df-quickchart {\n",
              "      --bg-color: #3B4455;\n",
              "      --fill-color: #D2E3FC;\n",
              "      --hover-bg-color: #434B5C;\n",
              "      --hover-fill-color: #FFFFFF;\n",
              "      --disabled-bg-color: #3B4455;\n",
              "      --disabled-fill-color: #666;\n",
              "  }\n",
              "\n",
              "  .colab-df-quickchart {\n",
              "    background-color: var(--bg-color);\n",
              "    border: none;\n",
              "    border-radius: 50%;\n",
              "    cursor: pointer;\n",
              "    display: none;\n",
              "    fill: var(--fill-color);\n",
              "    height: 32px;\n",
              "    padding: 0;\n",
              "    width: 32px;\n",
              "  }\n",
              "\n",
              "  .colab-df-quickchart:hover {\n",
              "    background-color: var(--hover-bg-color);\n",
              "    box-shadow: 0 1px 2px rgba(60, 64, 67, 0.3), 0 1px 3px 1px rgba(60, 64, 67, 0.15);\n",
              "    fill: var(--button-hover-fill-color);\n",
              "  }\n",
              "\n",
              "  .colab-df-quickchart-complete:disabled,\n",
              "  .colab-df-quickchart-complete:disabled:hover {\n",
              "    background-color: var(--disabled-bg-color);\n",
              "    fill: var(--disabled-fill-color);\n",
              "    box-shadow: none;\n",
              "  }\n",
              "\n",
              "  .colab-df-spinner {\n",
              "    border: 2px solid var(--fill-color);\n",
              "    border-color: transparent;\n",
              "    border-bottom-color: var(--fill-color);\n",
              "    animation:\n",
              "      spin 1s steps(1) infinite;\n",
              "  }\n",
              "\n",
              "  @keyframes spin {\n",
              "    0% {\n",
              "      border-color: transparent;\n",
              "      border-bottom-color: var(--fill-color);\n",
              "      border-left-color: var(--fill-color);\n",
              "    }\n",
              "    20% {\n",
              "      border-color: transparent;\n",
              "      border-left-color: var(--fill-color);\n",
              "      border-top-color: var(--fill-color);\n",
              "    }\n",
              "    30% {\n",
              "      border-color: transparent;\n",
              "      border-left-color: var(--fill-color);\n",
              "      border-top-color: var(--fill-color);\n",
              "      border-right-color: var(--fill-color);\n",
              "    }\n",
              "    40% {\n",
              "      border-color: transparent;\n",
              "      border-right-color: var(--fill-color);\n",
              "      border-top-color: var(--fill-color);\n",
              "    }\n",
              "    60% {\n",
              "      border-color: transparent;\n",
              "      border-right-color: var(--fill-color);\n",
              "    }\n",
              "    80% {\n",
              "      border-color: transparent;\n",
              "      border-right-color: var(--fill-color);\n",
              "      border-bottom-color: var(--fill-color);\n",
              "    }\n",
              "    90% {\n",
              "      border-color: transparent;\n",
              "      border-bottom-color: var(--fill-color);\n",
              "    }\n",
              "  }\n",
              "</style>\n",
              "\n",
              "  <script>\n",
              "    async function quickchart(key) {\n",
              "      const quickchartButtonEl =\n",
              "        document.querySelector('#' + key + ' button');\n",
              "      quickchartButtonEl.disabled = true;  // To prevent multiple clicks.\n",
              "      quickchartButtonEl.classList.add('colab-df-spinner');\n",
              "      try {\n",
              "        const charts = await google.colab.kernel.invokeFunction(\n",
              "            'suggestCharts', [key], {});\n",
              "      } catch (error) {\n",
              "        console.error('Error during call to suggestCharts:', error);\n",
              "      }\n",
              "      quickchartButtonEl.classList.remove('colab-df-spinner');\n",
              "      quickchartButtonEl.classList.add('colab-df-quickchart-complete');\n",
              "    }\n",
              "    (() => {\n",
              "      let quickchartButtonEl =\n",
              "        document.querySelector('#df-df9e2b0d-21d9-41fb-9ba0-176b65e62d09 button');\n",
              "      quickchartButtonEl.style.display =\n",
              "        google.colab.kernel.accessAllowed ? 'block' : 'none';\n",
              "    })();\n",
              "  </script>\n",
              "</div>\n",
              "    </div>\n",
              "  </div>\n"
            ]
          },
          "metadata": {},
          "execution_count": 86
        }
      ]
    },
    {
      "cell_type": "code",
      "source": [
        "df_msq['CHARGEcode'].value_counts()"
      ],
      "metadata": {
        "colab": {
          "base_uri": "https://localhost:8080/"
        },
        "id": "szl35dw3iXOd",
        "outputId": "6c892549-0d8d-4e5d-ff31-115d9c0a4cc9"
      },
      "execution_count": null,
      "outputs": [
        {
          "output_type": "execute_result",
          "data": {
            "text/plain": [
              "10300300    1\n",
              "70019617    1\n",
              "70019454    1\n",
              "70019453    1\n",
              "70019452    1\n",
              "           ..\n",
              "50024335    1\n",
              "50024334    1\n",
              "50024333    1\n",
              "50024332    1\n",
              "99899993    1\n",
              "Name: CHARGEcode, Length: 114893, dtype: int64"
            ]
          },
          "metadata": {},
          "execution_count": 77
        }
      ]
    },
    {
      "cell_type": "code",
      "source": [
        "df_msq['CHARGEdesc'].value_counts()"
      ],
      "metadata": {
        "colab": {
          "base_uri": "https://localhost:8080/"
        },
        "id": "tNi3GFBgivab",
        "outputId": "648d747a-76b0-4567-9721-fd4742564260"
      },
      "execution_count": null,
      "outputs": [
        {
          "output_type": "execute_result",
          "data": {
            "text/plain": [
              "TIBIAL INSERT W SCREW             53\n",
              "CATH PTA 142CM MARVERCK VARSZ     49\n",
              "STEM 195MM STEM REST MOD CONI     49\n",
              "ERYTHROPOIETIN RECOMBINANT INJ    45\n",
              "SPHINCTER   4.9F   .035/450       42\n",
              "                                  ..\n",
              "CATH  ANGIO 14X2 5.8FR 75CM        1\n",
              "CATH ANGIO 16X2 5.8FR 120CM        1\n",
              "EXTRACTOR STONE RETR BLLN 8.5      1\n",
              "EXTRACTOR RETRIEV BLLN 12-15M      1\n",
              "LEFT WITHOUT BEEN SEEN/ERRONEO     1\n",
              "Name: CHARGEdesc, Length: 76586, dtype: int64"
            ]
          },
          "metadata": {},
          "execution_count": 78
        }
      ]
    },
    {
      "cell_type": "code",
      "source": [
        "df_msq['ALTdesc'].value_counts()"
      ],
      "metadata": {
        "colab": {
          "base_uri": "https://localhost:8080/"
        },
        "id": "s_YVm87_ixRc",
        "outputId": "fc995e6c-4e3e-4286-bd11-5de379e55348"
      },
      "execution_count": null,
      "outputs": [
        {
          "output_type": "execute_result",
          "data": {
            "text/plain": [
              "TIBIAL INSERT W SCREW             53\n",
              "STEM 195MM STEM REST MOD CONI     49\n",
              "CATH PTA 142CM MARVERCK VARSZ     49\n",
              "ERYTHROPOIETIN RECOMBINANT INJ    45\n",
              "SPHINCTER   4.9F   .035/450       42\n",
              "                                  ..\n",
              "GRAFT HEMA MICROVEL22 X30CM        1\n",
              "BALLOON  PULMONARY 8.5MM           1\n",
              "CATH  CONTRA ANGIOG 5 FR 65        1\n",
              "CATH ULTRA BLLN DIL 3X2  75CM      1\n",
              "LEFT WITHOUT BEEN SEEN/ERRONEO     1\n",
              "Name: ALTdesc, Length: 76591, dtype: int64"
            ]
          },
          "metadata": {},
          "execution_count": 79
        }
      ]
    },
    {
      "cell_type": "code",
      "source": [
        "df_msq['DEPTcode'].value_counts()"
      ],
      "metadata": {
        "colab": {
          "base_uri": "https://localhost:8080/"
        },
        "id": "EGkUmqBdiyVo",
        "outputId": "34e06b7d-2139-4272-908f-d4cb618147e9"
      },
      "execution_count": null,
      "outputs": [
        {
          "output_type": "execute_result",
          "data": {
            "text/plain": [
              "700    47056\n",
              "500    31710\n",
              "184     7320\n",
              "800     6480\n",
              "415     4452\n",
              "       ...  \n",
              "162        2\n",
              "626        1\n",
              "310        1\n",
              "994        1\n",
              "998        1\n",
              "Name: DEPTcode, Length: 75, dtype: int64"
            ]
          },
          "metadata": {},
          "execution_count": 80
        }
      ]
    },
    {
      "cell_type": "code",
      "source": [
        "df_msq['DEPTname'].value_counts()"
      ],
      "metadata": {
        "colab": {
          "base_uri": "https://localhost:8080/"
        },
        "id": "yyp4Hy6IiyF-",
        "outputId": "e2514982-d787-4983-a683-eb10fbbf579d"
      },
      "execution_count": null,
      "outputs": [
        {
          "output_type": "execute_result",
          "data": {
            "text/plain": [
              "OR OPTIME SUPPLIES 700      47056\n",
              "OR SUPPLIES A00             31710\n",
              "PHARMACY                    11772\n",
              "OR OPTIME SUPPLIES 800       6480\n",
              "OR SUPPLIES X21- IR          4028\n",
              "                            ...  \n",
              "AMBULATORY SERV. TESTING        2\n",
              "AMBULATORY SURGERY              2\n",
              "BALANCE FORWARD                 1\n",
              "ROOM & BOARD ICU                1\n",
              "MISCELLANEOUS                   1\n",
              "Name: DEPTname, Length: 71, dtype: int64"
            ]
          },
          "metadata": {},
          "execution_count": 81
        }
      ]
    },
    {
      "cell_type": "code",
      "source": [
        "df_msq['RATEcharged'].value_counts()"
      ],
      "metadata": {
        "colab": {
          "base_uri": "https://localhost:8080/"
        },
        "id": "Eqvov_z8ixqY",
        "outputId": "4548285e-8d01-4056-aea9-223b706a4dbd"
      },
      "execution_count": null,
      "outputs": [
        {
          "output_type": "execute_result",
          "data": {
            "text/plain": [
              "1.00       952\n",
              "300.00     717\n",
              "0.00       677\n",
              "250.00     612\n",
              "500.00     573\n",
              "          ... \n",
              "405.10       1\n",
              "455.54       1\n",
              "414.20       1\n",
              "2582.00      1\n",
              "220.64       1\n",
              "Name: RATEcharged, Length: 15914, dtype: int64"
            ]
          },
          "metadata": {},
          "execution_count": 82
        }
      ]
    },
    {
      "cell_type": "code",
      "source": [
        "df_msq['REVENUEcodeINPT'].value_counts()"
      ],
      "metadata": {
        "colab": {
          "base_uri": "https://localhost:8080/"
        },
        "id": "V1bQ7r-xi1_Q",
        "outputId": "f60ae62e-bf50-4d5c-8a30-f8b96ff4b6fe"
      },
      "execution_count": null,
      "outputs": [
        {
          "output_type": "execute_result",
          "data": {
            "text/plain": [
              "278.0    82182\n",
              "270.0     7830\n",
              "250.0     7549\n",
              "276.0     3221\n",
              "636.0     2899\n",
              "         ...  \n",
              "381.0        1\n",
              "389.0        1\n",
              "385.0        1\n",
              "303.0        1\n",
              "271.0        1\n",
              "Name: REVENUEcodeINPT, Length: 124, dtype: int64"
            ]
          },
          "metadata": {},
          "execution_count": 83
        }
      ]
    },
    {
      "cell_type": "code",
      "source": [
        "df_msq['REVENUEcodeOPT'].value_counts()"
      ],
      "metadata": {
        "colab": {
          "base_uri": "https://localhost:8080/"
        },
        "id": "kypvDTAAi2Q_",
        "outputId": "a71eff26-b5da-4293-9791-813265435b10"
      },
      "execution_count": null,
      "outputs": [
        {
          "output_type": "execute_result",
          "data": {
            "text/plain": [
              "278.0    82182\n",
              "270.0     7830\n",
              "250.0     7257\n",
              "276.0     3221\n",
              "636.0     3191\n",
              "         ...  \n",
              "381.0        1\n",
              "389.0        1\n",
              "385.0        1\n",
              "303.0        1\n",
              "271.0        1\n",
              "Name: REVENUEcodeOPT, Length: 124, dtype: int64"
            ]
          },
          "metadata": {},
          "execution_count": 84
        }
      ]
    },
    {
      "cell_type": "code",
      "source": [
        "# Data distribution\n",
        "\n",
        "# Calculate mean, median, and mode\n",
        "mean= df_msq['RATEcharged'].mean()\n",
        "median = df_msq['RATEcharged'].median()\n",
        "mode = df_msq['RATEcharged'].mode().iloc[0]\n",
        "print(\"Mean is:\", mean)\n",
        "print(\"Median is:\", median)\n",
        "print(\"Mode is: \", mode)\n",
        "# Calculate range\n",
        "range  = df_msq['RATEcharged'].max() - df_msq['RATEcharged'].min()\n",
        "print(\"Range is:\", range)\n",
        "# Calculate variance and standard deviation\n",
        "variance = np.var(df_msq['RATEcharged'])\n",
        "print(\"Variance is: \",variance)\n",
        "std_dev = np.std(df_msq['RATEcharged'])\n",
        "print(\"Standard Deviation is:\", std_dev)"
      ],
      "metadata": {
        "colab": {
          "base_uri": "https://localhost:8080/"
        },
        "id": "hgKRLtRvXern",
        "outputId": "8d8669ca-23b8-4b5e-c40e-3011e7ad7b8e"
      },
      "execution_count": null,
      "outputs": [
        {
          "output_type": "stream",
          "name": "stdout",
          "text": [
            "Mean is: 2051.366812512512\n",
            "Median is: 636.18\n",
            "Mode is:  1.0\n",
            "Range is: 318000.0\n",
            "Variance is:  19395266.741329383\n",
            "Standard Deviation is: 4404.005760819277\n"
          ]
        }
      ]
    },
    {
      "cell_type": "code",
      "source": [
        "# Remove outliers by only allowing data within 3 standard deviations\n",
        "df_cleaned = df_msq[df_msq['RATEcharged']<= std_dev*3]"
      ],
      "metadata": {
        "id": "32QzOR6bo4CJ"
      },
      "execution_count": null,
      "outputs": []
    },
    {
      "cell_type": "code",
      "source": [
        "# Create a histogram\n",
        "plt.hist(df_cleaned['RATEcharged'], bins=30, density=True, alpha=0.7, color='purple', label='Histogram')\n",
        "\n",
        "# Create a probability density function (PDF) curve\n",
        "x = np.linspace(min(df_cleaned['RATEcharged']), max(df_cleaned['RATEcharged']),100)\n",
        "pdf = (1/(std_dev * np.sqrt(2*np.pi))) * np.exp(-(x - mean)**2 / (2*std_dev**2))\n",
        "plt.plot(x, pdf, color='blue', label='PDF')\n",
        "\n",
        "plt.title('Distribution of Rates Charged ($)')\n",
        "plt.xlabel('Rate Charged ($)')\n",
        "plt.ylabel('Probability Density')\n",
        "plt.legend()\n",
        "plt.grid(True)\n",
        "plt.show()"
      ],
      "metadata": {
        "colab": {
          "base_uri": "https://localhost:8080/",
          "height": 472
        },
        "id": "elu-_0mhpJd1",
        "outputId": "05c0d5b7-1799-4178-9f95-4f36d53404ef"
      },
      "execution_count": null,
      "outputs": [
        {
          "output_type": "display_data",
          "data": {
            "text/plain": [
              "<Figure size 640x480 with 1 Axes>"
            ],
            "image/png": "[encoded data removed]"
          },
          "metadata": {}
        }
      ]
    },
    {
      "cell_type": "code",
      "source": [
        "df_cleaned.to_csv('/content/outliers_rem_cleaned_mount-sinai-queens_chargemaster.csv')"
      ],
      "metadata": {
        "id": "lTd_BXZQqEyn"
      },
      "execution_count": null,
      "outputs": []
    },
    {
      "cell_type": "markdown",
      "source": [
        "# Hospital Database 2: New York Presbyterian"
      ],
      "metadata": {
        "id": "N8qmGpHpKsOW"
      }
    },
    {
      "cell_type": "markdown",
      "source": [
        "## Import data Hospital 2"
      ],
      "metadata": {
        "id": "zCAUuWR1K6Fn"
      }
    },
    {
      "cell_type": "code",
      "execution_count": 3,
      "metadata": {
        "id": "DyudjLb2K6Fn"
      },
      "outputs": [],
      "source": [
        "df2 = pd.read_json('/content/133957095_NewYorkPresbyterianHospital_standardcharges.json')"
      ]
    },
    {
      "cell_type": "code",
      "source": [
        "df2.shape\n",
        "#6193 rows and 47 columns"
      ],
      "metadata": {
        "colab": {
          "base_uri": "https://localhost:8080/"
        },
        "outputId": "047cea85-1eee-4e0d-cd48-9abe7c875ddc",
        "id": "duBWxYSrK6Fo"
      },
      "execution_count": 4,
      "outputs": [
        {
          "output_type": "execute_result",
          "data": {
            "text/plain": [
              "(6193, 47)"
            ]
          },
          "metadata": {},
          "execution_count": 4
        }
      ]
    },
    {
      "cell_type": "code",
      "source": [
        "df2.head(10)"
      ],
      "metadata": {
        "colab": {
          "base_uri": "https://localhost:8080/",
          "height": 777
        },
        "outputId": "bcacd9bc-8a38-4cb4-cd37-f835edefef0c",
        "id": "at3DRsfgK6Fo"
      },
      "execution_count": 5,
      "outputs": [
        {
          "output_type": "execute_result",
          "data": {
            "text/plain": [
              "  Code (CPT/DRG)                                        Description Rev Code  \\\n",
              "0          96360        HC IV INFUSION HYDRATION INITIAL 31 MIN-1HR     0260   \n",
              "1          96361            HC IV INFUSION HYDRATION FLUIDS ADDL HR     0260   \n",
              "2          96365  HC IV INFUSION FOR THER/PROPH/DIAG INITIAL UP ...     0260   \n",
              "3          96367  HC IV INF THER/PROPH/DIAG ADDL SEQ NEW DRUG UP...     0260   \n",
              "4          96368      HC IV INFUSION FOR THER/PROPH/DIAG CONCURRENT     0260   \n",
              "5          96369                      HC NON-CHEMO SC INFUSION 1 HR     0260   \n",
              "6          96370              HC NON-CHEMO SC INFUSION EACH ADDL HR     0260   \n",
              "7          96375     HC THERAPEUTIC/PROPH/DIAG INJ IV PUSH ADDL SEQ     0260   \n",
              "8          96376         HC THERAPEUTIC/PROPH/DIAG INJ IV PUSH SAME     0260   \n",
              "9          96377                    HC APPLICATION OF BODY INJECTOR     0260   \n",
              "\n",
              "   Inpatient/Outpatient  Gross Charges  Discounted Cash Price     Aetna  \\\n",
              "0  Inpatient/Outpatient          866.0                  866.0   641.706   \n",
              "1  Inpatient/Outpatient          358.0                  358.0   265.278   \n",
              "2  Inpatient/Outpatient         1397.0                 1397.0  1035.177   \n",
              "3  Inpatient/Outpatient          480.0                  480.0    355.68   \n",
              "4  Inpatient/Outpatient          480.0                  480.0    355.68   \n",
              "5  Inpatient/Outpatient          780.0                  780.0    577.98   \n",
              "6  Inpatient/Outpatient          480.0                  480.0    355.68   \n",
              "7  Inpatient/Outpatient          602.0                  602.0   446.082   \n",
              "8  Inpatient/Outpatient          357.0                  357.0   264.537   \n",
              "9  Inpatient/Outpatient          510.0                  510.0    377.91   \n",
              "\n",
              "     Cigna Empire Blue Cross Blue Shield Emblem Health  ...  \\\n",
              "0  494.486                        640.84      1388.424  ...   \n",
              "1  204.418                        264.92      1305.112  ...   \n",
              "2  797.687                       1033.78      1475.508  ...   \n",
              "3   274.08                         355.2       1325.12  ...   \n",
              "4   274.08                         355.2       1325.12  ...   \n",
              "5   445.38                         577.2       1374.32  ...   \n",
              "6   274.08                         355.2       1325.12  ...   \n",
              "7  343.742                        445.48      1345.128  ...   \n",
              "8  203.847                        264.18      1304.948  ...   \n",
              "9   291.21                         377.4       1330.04  ...   \n",
              "\n",
              "  Consumer Health Network     Devon    Equian First Health Magnacare  \\\n",
              "0                393.5104  393.5104  393.5104     393.5104  393.5104   \n",
              "1                162.6752  162.6752  162.6752     162.6752  162.6752   \n",
              "2                634.7968  634.7968  634.7968     634.7968  634.7968   \n",
              "3                 218.112   218.112   218.112      218.112   218.112   \n",
              "4                 218.112   218.112   218.112      218.112   218.112   \n",
              "5                 354.432   354.432   354.432      354.432   354.432   \n",
              "6                 218.112   218.112   218.112      218.112   218.112   \n",
              "7                273.5488  273.5488  273.5488     273.5488  273.5488   \n",
              "8                162.2208  162.2208  162.2208     162.2208  162.2208   \n",
              "9                 231.744   231.744   231.744      231.744   231.744   \n",
              "\n",
              "  Multiplan/Beechstreet/PHCS       QHM Worldwide Minimum Negotiated Charge  \\\n",
              "0                   393.5104  393.5104  393.5104                 253.04825   \n",
              "1                   162.6752  162.6752  162.6752                  51.90325   \n",
              "2                   634.7968  634.7968  634.7968                 253.04825   \n",
              "3                    218.112   218.112   218.112                  82.65075   \n",
              "4                    218.112   218.112   218.112                 156.98280   \n",
              "5                    354.432   354.432   354.432                 253.04825   \n",
              "6                    218.112   218.112   218.112                  51.90325   \n",
              "7                   273.5488  273.5488  273.5488                  51.90325   \n",
              "8                   162.2208  162.2208  162.2208                 162.22080   \n",
              "9                    231.744   231.744   231.744                  51.90325   \n",
              "\n",
              "  Maximum Negotiated Charge  \n",
              "0               1388.424000  \n",
              "1               1990.891341  \n",
              "2               1475.508000  \n",
              "3               1325.120000  \n",
              "4               1325.120000  \n",
              "5               1374.320000  \n",
              "6               1990.891341  \n",
              "7               1345.128000  \n",
              "8               1304.948000  \n",
              "9               1330.040000  \n",
              "\n",
              "[10 rows x 47 columns]"
            ],
            "text/html": [
              "\n",
              "  <div id=\"df-54dc43b5-df9a-45cb-b29d-21d7df5ee9a2\" class=\"colab-df-container\">\n",
              "    <div>\n",
              "<style scoped>\n",
              "    .dataframe tbody tr th:only-of-type {\n",
              "        vertical-align: middle;\n",
              "    }\n",
              "\n",
              "    .dataframe tbody tr th {\n",
              "        vertical-align: top;\n",
              "    }\n",
              "\n",
              "    .dataframe thead th {\n",
              "        text-align: right;\n",
              "    }\n",
              "</style>\n",
              "<table border=\"1\" class=\"dataframe\">\n",
              "  <thead>\n",
              "    <tr style=\"text-align: right;\">\n",
              "      <th></th>\n",
              "      <th>Code (CPT/DRG)</th>\n",
              "      <th>Description</th>\n",
              "      <th>Rev Code</th>\n",
              "      <th>Inpatient/Outpatient</th>\n",
              "      <th>Gross Charges</th>\n",
              "      <th>Discounted Cash Price</th>\n",
              "      <th>Aetna</th>\n",
              "      <th>Cigna</th>\n",
              "      <th>Empire Blue Cross Blue Shield</th>\n",
              "      <th>Emblem Health</th>\n",
              "      <th>...</th>\n",
              "      <th>Consumer Health Network</th>\n",
              "      <th>Devon</th>\n",
              "      <th>Equian</th>\n",
              "      <th>First Health</th>\n",
              "      <th>Magnacare</th>\n",
              "      <th>Multiplan/Beechstreet/PHCS</th>\n",
              "      <th>QHM</th>\n",
              "      <th>Worldwide</th>\n",
              "      <th>Minimum Negotiated Charge</th>\n",
              "      <th>Maximum Negotiated Charge</th>\n",
              "    </tr>\n",
              "  </thead>\n",
              "  <tbody>\n",
              "    <tr>\n",
              "      <th>0</th>\n",
              "      <td>96360</td>\n",
              "      <td>HC IV INFUSION HYDRATION INITIAL 31 MIN-1HR</td>\n",
              "      <td>0260</td>\n",
              "      <td>Inpatient/Outpatient</td>\n",
              "      <td>866.0</td>\n",
              "      <td>866.0</td>\n",
              "      <td>641.706</td>\n",
              "      <td>494.486</td>\n",
              "      <td>640.84</td>\n",
              "      <td>1388.424</td>\n",
              "      <td>...</td>\n",
              "      <td>393.5104</td>\n",
              "      <td>393.5104</td>\n",
              "      <td>393.5104</td>\n",
              "      <td>393.5104</td>\n",
              "      <td>393.5104</td>\n",
              "      <td>393.5104</td>\n",
              "      <td>393.5104</td>\n",
              "      <td>393.5104</td>\n",
              "      <td>253.04825</td>\n",
              "      <td>1388.424000</td>\n",
              "    </tr>\n",
              "    <tr>\n",
              "      <th>1</th>\n",
              "      <td>96361</td>\n",
              "      <td>HC IV INFUSION HYDRATION FLUIDS ADDL HR</td>\n",
              "      <td>0260</td>\n",
              "      <td>Inpatient/Outpatient</td>\n",
              "      <td>358.0</td>\n",
              "      <td>358.0</td>\n",
              "      <td>265.278</td>\n",
              "      <td>204.418</td>\n",
              "      <td>264.92</td>\n",
              "      <td>1305.112</td>\n",
              "      <td>...</td>\n",
              "      <td>162.6752</td>\n",
              "      <td>162.6752</td>\n",
              "      <td>162.6752</td>\n",
              "      <td>162.6752</td>\n",
              "      <td>162.6752</td>\n",
              "      <td>162.6752</td>\n",
              "      <td>162.6752</td>\n",
              "      <td>162.6752</td>\n",
              "      <td>51.90325</td>\n",
              "      <td>1990.891341</td>\n",
              "    </tr>\n",
              "    <tr>\n",
              "      <th>2</th>\n",
              "      <td>96365</td>\n",
              "      <td>HC IV INFUSION FOR THER/PROPH/DIAG INITIAL UP ...</td>\n",
              "      <td>0260</td>\n",
              "      <td>Inpatient/Outpatient</td>\n",
              "      <td>1397.0</td>\n",
              "      <td>1397.0</td>\n",
              "      <td>1035.177</td>\n",
              "      <td>797.687</td>\n",
              "      <td>1033.78</td>\n",
              "      <td>1475.508</td>\n",
              "      <td>...</td>\n",
              "      <td>634.7968</td>\n",
              "      <td>634.7968</td>\n",
              "      <td>634.7968</td>\n",
              "      <td>634.7968</td>\n",
              "      <td>634.7968</td>\n",
              "      <td>634.7968</td>\n",
              "      <td>634.7968</td>\n",
              "      <td>634.7968</td>\n",
              "      <td>253.04825</td>\n",
              "      <td>1475.508000</td>\n",
              "    </tr>\n",
              "    <tr>\n",
              "      <th>3</th>\n",
              "      <td>96367</td>\n",
              "      <td>HC IV INF THER/PROPH/DIAG ADDL SEQ NEW DRUG UP...</td>\n",
              "      <td>0260</td>\n",
              "      <td>Inpatient/Outpatient</td>\n",
              "      <td>480.0</td>\n",
              "      <td>480.0</td>\n",
              "      <td>355.68</td>\n",
              "      <td>274.08</td>\n",
              "      <td>355.2</td>\n",
              "      <td>1325.12</td>\n",
              "      <td>...</td>\n",
              "      <td>218.112</td>\n",
              "      <td>218.112</td>\n",
              "      <td>218.112</td>\n",
              "      <td>218.112</td>\n",
              "      <td>218.112</td>\n",
              "      <td>218.112</td>\n",
              "      <td>218.112</td>\n",
              "      <td>218.112</td>\n",
              "      <td>82.65075</td>\n",
              "      <td>1325.120000</td>\n",
              "    </tr>\n",
              "    <tr>\n",
              "      <th>4</th>\n",
              "      <td>96368</td>\n",
              "      <td>HC IV INFUSION FOR THER/PROPH/DIAG CONCURRENT</td>\n",
              "      <td>0260</td>\n",
              "      <td>Inpatient/Outpatient</td>\n",
              "      <td>480.0</td>\n",
              "      <td>480.0</td>\n",
              "      <td>355.68</td>\n",
              "      <td>274.08</td>\n",
              "      <td>355.2</td>\n",
              "      <td>1325.12</td>\n",
              "      <td>...</td>\n",
              "      <td>218.112</td>\n",
              "      <td>218.112</td>\n",
              "      <td>218.112</td>\n",
              "      <td>218.112</td>\n",
              "      <td>218.112</td>\n",
              "      <td>218.112</td>\n",
              "      <td>218.112</td>\n",
              "      <td>218.112</td>\n",
              "      <td>156.98280</td>\n",
              "      <td>1325.120000</td>\n",
              "    </tr>\n",
              "    <tr>\n",
              "      <th>5</th>\n",
              "      <td>96369</td>\n",
              "      <td>HC NON-CHEMO SC INFUSION 1 HR</td>\n",
              "      <td>0260</td>\n",
              "      <td>Inpatient/Outpatient</td>\n",
              "      <td>780.0</td>\n",
              "      <td>780.0</td>\n",
              "      <td>577.98</td>\n",
              "      <td>445.38</td>\n",
              "      <td>577.2</td>\n",
              "      <td>1374.32</td>\n",
              "      <td>...</td>\n",
              "      <td>354.432</td>\n",
              "      <td>354.432</td>\n",
              "      <td>354.432</td>\n",
              "      <td>354.432</td>\n",
              "      <td>354.432</td>\n",
              "      <td>354.432</td>\n",
              "      <td>354.432</td>\n",
              "      <td>354.432</td>\n",
              "      <td>253.04825</td>\n",
              "      <td>1374.320000</td>\n",
              "    </tr>\n",
              "    <tr>\n",
              "      <th>6</th>\n",
              "      <td>96370</td>\n",
              "      <td>HC NON-CHEMO SC INFUSION EACH ADDL HR</td>\n",
              "      <td>0260</td>\n",
              "      <td>Inpatient/Outpatient</td>\n",
              "      <td>480.0</td>\n",
              "      <td>480.0</td>\n",
              "      <td>355.68</td>\n",
              "      <td>274.08</td>\n",
              "      <td>355.2</td>\n",
              "      <td>1325.12</td>\n",
              "      <td>...</td>\n",
              "      <td>218.112</td>\n",
              "      <td>218.112</td>\n",
              "      <td>218.112</td>\n",
              "      <td>218.112</td>\n",
              "      <td>218.112</td>\n",
              "      <td>218.112</td>\n",
              "      <td>218.112</td>\n",
              "      <td>218.112</td>\n",
              "      <td>51.90325</td>\n",
              "      <td>1990.891341</td>\n",
              "    </tr>\n",
              "    <tr>\n",
              "      <th>7</th>\n",
              "      <td>96375</td>\n",
              "      <td>HC THERAPEUTIC/PROPH/DIAG INJ IV PUSH ADDL SEQ</td>\n",
              "      <td>0260</td>\n",
              "      <td>Inpatient/Outpatient</td>\n",
              "      <td>602.0</td>\n",
              "      <td>602.0</td>\n",
              "      <td>446.082</td>\n",
              "      <td>343.742</td>\n",
              "      <td>445.48</td>\n",
              "      <td>1345.128</td>\n",
              "      <td>...</td>\n",
              "      <td>273.5488</td>\n",
              "      <td>273.5488</td>\n",
              "      <td>273.5488</td>\n",
              "      <td>273.5488</td>\n",
              "      <td>273.5488</td>\n",
              "      <td>273.5488</td>\n",
              "      <td>273.5488</td>\n",
              "      <td>273.5488</td>\n",
              "      <td>51.90325</td>\n",
              "      <td>1345.128000</td>\n",
              "    </tr>\n",
              "    <tr>\n",
              "      <th>8</th>\n",
              "      <td>96376</td>\n",
              "      <td>HC THERAPEUTIC/PROPH/DIAG INJ IV PUSH SAME</td>\n",
              "      <td>0260</td>\n",
              "      <td>Inpatient/Outpatient</td>\n",
              "      <td>357.0</td>\n",
              "      <td>357.0</td>\n",
              "      <td>264.537</td>\n",
              "      <td>203.847</td>\n",
              "      <td>264.18</td>\n",
              "      <td>1304.948</td>\n",
              "      <td>...</td>\n",
              "      <td>162.2208</td>\n",
              "      <td>162.2208</td>\n",
              "      <td>162.2208</td>\n",
              "      <td>162.2208</td>\n",
              "      <td>162.2208</td>\n",
              "      <td>162.2208</td>\n",
              "      <td>162.2208</td>\n",
              "      <td>162.2208</td>\n",
              "      <td>162.22080</td>\n",
              "      <td>1304.948000</td>\n",
              "    </tr>\n",
              "    <tr>\n",
              "      <th>9</th>\n",
              "      <td>96377</td>\n",
              "      <td>HC APPLICATION OF BODY INJECTOR</td>\n",
              "      <td>0260</td>\n",
              "      <td>Inpatient/Outpatient</td>\n",
              "      <td>510.0</td>\n",
              "      <td>510.0</td>\n",
              "      <td>377.91</td>\n",
              "      <td>291.21</td>\n",
              "      <td>377.4</td>\n",
              "      <td>1330.04</td>\n",
              "      <td>...</td>\n",
              "      <td>231.744</td>\n",
              "      <td>231.744</td>\n",
              "      <td>231.744</td>\n",
              "      <td>231.744</td>\n",
              "      <td>231.744</td>\n",
              "      <td>231.744</td>\n",
              "      <td>231.744</td>\n",
              "      <td>231.744</td>\n",
              "      <td>51.90325</td>\n",
              "      <td>1330.040000</td>\n",
              "    </tr>\n",
              "  </tbody>\n",
              "</table>\n",
              "<p>10 rows × 47 columns</p>\n",
              "</div>\n",
              "    <div class=\"colab-df-buttons\">\n",
              "\n",
              "  <div class=\"colab-df-container\">\n",
              "    <button class=\"colab-df-convert\" onclick=\"convertToInteractive('df-54dc43b5-df9a-45cb-b29d-21d7df5ee9a2')\"\n",
              "            title=\"Convert this dataframe to an interactive table.\"\n",
              "            style=\"display:none;\">\n",
              "\n",
              "  <svg xmlns=\"http://www.w3.org/2000/svg\" height=\"24px\" viewBox=\"0 -960 960 960\">\n",
              "    <path d=\"M120-120v-720h720v720H120Zm60-500h600v-160H180v160Zm220 220h160v-160H400v160Zm0 220h160v-160H400v160ZM180-400h160v-160H180v160Zm440 0h160v-160H620v160ZM180-180h160v-160H180v160Zm440 0h160v-160H620v160Z\"/>\n",
              "  </svg>\n",
              "    </button>\n",
              "\n",
              "  <style>\n",
              "    .colab-df-container {\n",
              "      display:flex;\n",
              "      gap: 12px;\n",
              "    }\n",
              "\n",
              "    .colab-df-convert {\n",
              "      background-color: #E8F0FE;\n",
              "      border: none;\n",
              "      border-radius: 50%;\n",
              "      cursor: pointer;\n",
              "      display: none;\n",
              "      fill: #1967D2;\n",
              "      height: 32px;\n",
              "      padding: 0 0 0 0;\n",
              "      width: 32px;\n",
              "    }\n",
              "\n",
              "    .colab-df-convert:hover {\n",
              "      background-color: #E2EBFA;\n",
              "      box-shadow: 0px 1px 2px rgba(60, 64, 67, 0.3), 0px 1px 3px 1px rgba(60, 64, 67, 0.15);\n",
              "      fill: #174EA6;\n",
              "    }\n",
              "\n",
              "    .colab-df-buttons div {\n",
              "      margin-bottom: 4px;\n",
              "    }\n",
              "\n",
              "    [theme=dark] .colab-df-convert {\n",
              "      background-color: #3B4455;\n",
              "      fill: #D2E3FC;\n",
              "    }\n",
              "\n",
              "    [theme=dark] .colab-df-convert:hover {\n",
              "      background-color: #434B5C;\n",
              "      box-shadow: 0px 1px 3px 1px rgba(0, 0, 0, 0.15);\n",
              "      filter: drop-shadow(0px 1px 2px rgba(0, 0, 0, 0.3));\n",
              "      fill: #FFFFFF;\n",
              "    }\n",
              "  </style>\n",
              "\n",
              "    <script>\n",
              "      const buttonEl =\n",
              "        document.querySelector('#df-54dc43b5-df9a-45cb-b29d-21d7df5ee9a2 button.colab-df-convert');\n",
              "      buttonEl.style.display =\n",
              "        google.colab.kernel.accessAllowed ? 'block' : 'none';\n",
              "\n",
              "      async function convertToInteractive(key) {\n",
              "        const element = document.querySelector('#df-54dc43b5-df9a-45cb-b29d-21d7df5ee9a2');\n",
              "        const dataTable =\n",
              "          await google.colab.kernel.invokeFunction('convertToInteractive',\n",
              "                                                    [key], {});\n",
              "        if (!dataTable) return;\n",
              "\n",
              "        const docLinkHtml = 'Like what you see? Visit the ' +\n",
              "          '<a target=\"_blank\" href=https://colab.research.google.com/notebooks/data_table.ipynb>data table notebook</a>'\n",
              "          + ' to learn more about interactive tables.';\n",
              "        element.innerHTML = '';\n",
              "        dataTable['output_type'] = 'display_data';\n",
              "        await google.colab.output.renderOutput(dataTable, element);\n",
              "        const docLink = document.createElement('div');\n",
              "        docLink.innerHTML = docLinkHtml;\n",
              "        element.appendChild(docLink);\n",
              "      }\n",
              "    </script>\n",
              "  </div>\n",
              "\n",
              "\n",
              "<div id=\"df-193a7afb-7f8d-4ab4-934f-8e93851a7bcb\">\n",
              "  <button class=\"colab-df-quickchart\" onclick=\"quickchart('df-193a7afb-7f8d-4ab4-934f-8e93851a7bcb')\"\n",
              "            title=\"Suggest charts.\"\n",
              "            style=\"display:none;\">\n",
              "\n",
              "<svg xmlns=\"http://www.w3.org/2000/svg\" height=\"24px\"viewBox=\"0 0 24 24\"\n",
              "     width=\"24px\">\n",
              "    <g>\n",
              "        <path d=\"M19 3H5c-1.1 0-2 .9-2 2v14c0 1.1.9 2 2 2h14c1.1 0 2-.9 2-2V5c0-1.1-.9-2-2-2zM9 17H7v-7h2v7zm4 0h-2V7h2v10zm4 0h-2v-4h2v4z\"/>\n",
              "    </g>\n",
              "</svg>\n",
              "  </button>\n",
              "\n",
              "<style>\n",
              "  .colab-df-quickchart {\n",
              "      --bg-color: #E8F0FE;\n",
              "      --fill-color: #1967D2;\n",
              "      --hover-bg-color: #E2EBFA;\n",
              "      --hover-fill-color: #174EA6;\n",
              "      --disabled-fill-color: #AAA;\n",
              "      --disabled-bg-color: #DDD;\n",
              "  }\n",
              "\n",
              "  [theme=dark] .colab-df-quickchart {\n",
              "      --bg-color: #3B4455;\n",
              "      --fill-color: #D2E3FC;\n",
              "      --hover-bg-color: #434B5C;\n",
              "      --hover-fill-color: #FFFFFF;\n",
              "      --disabled-bg-color: #3B4455;\n",
              "      --disabled-fill-color: #666;\n",
              "  }\n",
              "\n",
              "  .colab-df-quickchart {\n",
              "    background-color: var(--bg-color);\n",
              "    border: none;\n",
              "    border-radius: 50%;\n",
              "    cursor: pointer;\n",
              "    display: none;\n",
              "    fill: var(--fill-color);\n",
              "    height: 32px;\n",
              "    padding: 0;\n",
              "    width: 32px;\n",
              "  }\n",
              "\n",
              "  .colab-df-quickchart:hover {\n",
              "    background-color: var(--hover-bg-color);\n",
              "    box-shadow: 0 1px 2px rgba(60, 64, 67, 0.3), 0 1px 3px 1px rgba(60, 64, 67, 0.15);\n",
              "    fill: var(--button-hover-fill-color);\n",
              "  }\n",
              "\n",
              "  .colab-df-quickchart-complete:disabled,\n",
              "  .colab-df-quickchart-complete:disabled:hover {\n",
              "    background-color: var(--disabled-bg-color);\n",
              "    fill: var(--disabled-fill-color);\n",
              "    box-shadow: none;\n",
              "  }\n",
              "\n",
              "  .colab-df-spinner {\n",
              "    border: 2px solid var(--fill-color);\n",
              "    border-color: transparent;\n",
              "    border-bottom-color: var(--fill-color);\n",
              "    animation:\n",
              "      spin 1s steps(1) infinite;\n",
              "  }\n",
              "\n",
              "  @keyframes spin {\n",
              "    0% {\n",
              "      border-color: transparent;\n",
              "      border-bottom-color: var(--fill-color);\n",
              "      border-left-color: var(--fill-color);\n",
              "    }\n",
              "    20% {\n",
              "      border-color: transparent;\n",
              "      border-left-color: var(--fill-color);\n",
              "      border-top-color: var(--fill-color);\n",
              "    }\n",
              "    30% {\n",
              "      border-color: transparent;\n",
              "      border-left-color: var(--fill-color);\n",
              "      border-top-color: var(--fill-color);\n",
              "      border-right-color: var(--fill-color);\n",
              "    }\n",
              "    40% {\n",
              "      border-color: transparent;\n",
              "      border-right-color: var(--fill-color);\n",
              "      border-top-color: var(--fill-color);\n",
              "    }\n",
              "    60% {\n",
              "      border-color: transparent;\n",
              "      border-right-color: var(--fill-color);\n",
              "    }\n",
              "    80% {\n",
              "      border-color: transparent;\n",
              "      border-right-color: var(--fill-color);\n",
              "      border-bottom-color: var(--fill-color);\n",
              "    }\n",
              "    90% {\n",
              "      border-color: transparent;\n",
              "      border-bottom-color: var(--fill-color);\n",
              "    }\n",
              "  }\n",
              "</style>\n",
              "\n",
              "  <script>\n",
              "    async function quickchart(key) {\n",
              "      const quickchartButtonEl =\n",
              "        document.querySelector('#' + key + ' button');\n",
              "      quickchartButtonEl.disabled = true;  // To prevent multiple clicks.\n",
              "      quickchartButtonEl.classList.add('colab-df-spinner');\n",
              "      try {\n",
              "        const charts = await google.colab.kernel.invokeFunction(\n",
              "            'suggestCharts', [key], {});\n",
              "      } catch (error) {\n",
              "        console.error('Error during call to suggestCharts:', error);\n",
              "      }\n",
              "      quickchartButtonEl.classList.remove('colab-df-spinner');\n",
              "      quickchartButtonEl.classList.add('colab-df-quickchart-complete');\n",
              "    }\n",
              "    (() => {\n",
              "      let quickchartButtonEl =\n",
              "        document.querySelector('#df-193a7afb-7f8d-4ab4-934f-8e93851a7bcb button');\n",
              "      quickchartButtonEl.style.display =\n",
              "        google.colab.kernel.accessAllowed ? 'block' : 'none';\n",
              "    })();\n",
              "  </script>\n",
              "</div>\n",
              "    </div>\n",
              "  </div>\n"
            ]
          },
          "metadata": {},
          "execution_count": 5
        }
      ]
    },
    {
      "cell_type": "code",
      "source": [
        "df2.columns"
      ],
      "metadata": {
        "colab": {
          "base_uri": "https://localhost:8080/"
        },
        "id": "12gHhu5mK6Fo",
        "outputId": "822193ae-1f95-428c-8d10-f64a64abe656"
      },
      "execution_count": 6,
      "outputs": [
        {
          "output_type": "execute_result",
          "data": {
            "text/plain": [
              "Index(['Code (CPT/DRG)', 'Description', 'Rev Code', 'Inpatient/Outpatient',\n",
              "       'Gross Charges', 'Discounted Cash Price', 'Aetna', 'Cigna',\n",
              "       'Empire Blue Cross Blue Shield', 'Emblem Health', 'United Health Group',\n",
              "       'Aetna Medicare', 'AgeWell Medicare', 'Emblem Medicare',\n",
              "       'Empire Medicare', 'Fidelis Medicare', 'Healthfirst Medicare',\n",
              "       'UHC Community Plan/United Medicare', 'VNS Medicare',\n",
              "       'WellCare Medicare', '1199', 'Affinity Molina Essential',\n",
              "       'Affinity Molina Medicaid/CHP', 'Amida Care Medicaid',\n",
              "       'Emblem Medicaid/CHP', 'Empire Healthplus Essential',\n",
              "       'Empire Healthplus Exchange', 'Empire Healthplus Medicaid/CHP',\n",
              "       'Fidelis Essential/Exchange', 'Fidelis Medicaid/CHP',\n",
              "       'Healthfirst Essential/Exchange', 'Healthfirst Medicaid/CHP',\n",
              "       'MVP Medicaid/CHP', 'MVP Essential', 'United Community Plan Essential',\n",
              "       'United Community Plan Medicaid', 'VNS Medicaid',\n",
              "       'Consumer Health Network', 'Devon', 'Equian', 'First Health',\n",
              "       'Magnacare', 'Multiplan/Beechstreet/PHCS', 'QHM', 'Worldwide',\n",
              "       'Minimum Negotiated Charge', 'Maximum Negotiated Charge'],\n",
              "      dtype='object')"
            ]
          },
          "metadata": {},
          "execution_count": 6
        }
      ]
    },
    {
      "cell_type": "markdown",
      "source": [
        "## Data cleaning Hospital 2\n",
        "\n"
      ],
      "metadata": {
        "id": "UyU2yq1vIdKn"
      }
    },
    {
      "cell_type": "code",
      "source": [
        "# Drop empty columns\n",
        "df2.dropna(how='all', axis=1, inplace=True)\n",
        "print(df2)\n",
        "\n",
        "#No empty columns dropped"
      ],
      "metadata": {
        "id": "uLY8fF-bIdKx"
      },
      "execution_count": null,
      "outputs": []
    },
    {
      "cell_type": "code",
      "source": [
        "# Check for missing values in a column\n",
        "print(df2.isnull().sum())\n",
        "# Results in only Minimum Negotiated Charge and Maximum Negotiated Charge resulting in 281 missing values each"
      ],
      "metadata": {
        "id": "UGB167KHIdKx"
      },
      "execution_count": null,
      "outputs": []
    },
    {
      "cell_type": "code",
      "source": [
        "df2.drop_duplicates(inplace=True)\n",
        "# No duplicate rows identified"
      ],
      "metadata": {
        "id": "PZPNicmGIdKx"
      },
      "execution_count": 11,
      "outputs": []
    },
    {
      "cell_type": "code",
      "source": [
        "#Rename columns\n",
        "df2_clean=df2.rename(columns={'Code (CPT/DRG)':'CPTDRGCode', 'Inpatient/Outpatient':'Inpt_Oupt','Affinity Molina Medicaid/CHP':'Affinity_Molina_Medicaid_CHP','UHC Community Plan/United Medicare':\"UHC_CommPlan_Medicare\",'Emblem Medicaid/CHP':'Emblem_Medicaid_CHP','Empire Medicaid/CHP':'Empire_medicaid_CHP','Empire Healthplus Medicaid/CHP':'Empire_Healthplus_MedicaidCHP','Fidelis Essential/Exchange':'Fidelis_Essential_Exchange','Fidelis Medicaid/CHP':'Fidelis_Medicaid_CHP','Healthfirst Essential/Exchange':'Healthfirst_Essential_Exchange','Healthfirst Medicaid/CHP':'Healthfirst_Medicaid_CHP','MVP Medicaid/CHP':'MVP_Medicaid_CHP','Multiplan/Beechstreet/PHCS':'Multiplan_Beechstreet_PHCS'})"
      ],
      "metadata": {
        "id": "UuHSdfpRODxB"
      },
      "execution_count": 100,
      "outputs": []
    },
    {
      "cell_type": "code",
      "source": [],
      "metadata": {
        "id": "lMMP7mPqT5ty"
      },
      "execution_count": null,
      "outputs": []
    },
    {
      "cell_type": "markdown",
      "source": [
        "## Exploratory Analysis Hospital 2\n",
        "\n"
      ],
      "metadata": {
        "id": "cXm4fBbtI7Qo"
      }
    },
    {
      "cell_type": "markdown",
      "source": [
        "#### Observations: Very few missing values"
      ],
      "metadata": {
        "id": "5KDfzv4_I7Qy"
      }
    },
    {
      "cell_type": "code",
      "source": [
        "df2_clean.dtypes"
      ],
      "metadata": {
        "colab": {
          "base_uri": "https://localhost:8080/"
        },
        "outputId": "e7adccad-8575-4041-c487-42c620b39f9f",
        "id": "aGJMsMTmI7Qz"
      },
      "execution_count": 138,
      "outputs": [
        {
          "output_type": "execute_result",
          "data": {
            "text/plain": [
              "CPTDRGCode                          object\n",
              "Description                         object\n",
              "Rev Code                            object\n",
              "Inpt_Oupt                           object\n",
              "Gross Charges                      float64\n",
              "Discounted Cash Price              float64\n",
              "Aetna                               object\n",
              "Cigna                               object\n",
              "Empire Blue Cross Blue Shield       object\n",
              "Emblem Health                       object\n",
              "United Health Group                 object\n",
              "Aetna Medicare                      object\n",
              "AgeWell Medicare                    object\n",
              "Emblem Medicare                     object\n",
              "Empire Medicare                     object\n",
              "Fidelis Medicare                    object\n",
              "Healthfirst Medicare                object\n",
              "UHC_CommPlan_Medicare               object\n",
              "VNS Medicare                        object\n",
              "WellCare Medicare                   object\n",
              "1199                                object\n",
              "Affinity Molina Essential           object\n",
              "Affinity_Molina_Medicaid_CHP        object\n",
              "Amida Care Medicaid                 object\n",
              "Emblem_Medicaid_CHP                 object\n",
              "Empire Healthplus Essential         object\n",
              "Empire Healthplus Exchange          object\n",
              "Empire_Healthplus_MedicaidCHP       object\n",
              "Fidelis_Essential_Exchange          object\n",
              "Fidelis_Medicaid_CHP                object\n",
              "Healthfirst_Essential_Exchange      object\n",
              "Healthfirst_Medicaid_CHP            object\n",
              "MVP_Medicaid_CHP                    object\n",
              "MVP Essential                       object\n",
              "United Community Plan Essential     object\n",
              "United Community Plan Medicaid      object\n",
              "VNS Medicaid                        object\n",
              "Consumer Health Network             object\n",
              "Devon                               object\n",
              "Equian                              object\n",
              "First Health                        object\n",
              "Magnacare                           object\n",
              "Multiplan_Beechstreet_PHCS          object\n",
              "QHM                                 object\n",
              "Worldwide                           object\n",
              "Minimum Negotiated Charge          float64\n",
              "Maximum Negotiated Charge          float64\n",
              "dtype: object"
            ]
          },
          "metadata": {},
          "execution_count": 138
        }
      ]
    },
    {
      "cell_type": "code",
      "source": [
        "df2_clean.describe()"
      ],
      "metadata": {
        "colab": {
          "base_uri": "https://localhost:8080/",
          "height": 301
        },
        "outputId": "f4ee6b95-d72a-4bbd-9bbe-70c5513d5874",
        "id": "9BP86BvnI7Qz"
      },
      "execution_count": 33,
      "outputs": [
        {
          "output_type": "execute_result",
          "data": {
            "text/plain": [
              "       Gross Charges  Discounted Cash Price  Minimum Negotiated Charge  \\\n",
              "count   6.193000e+03           6.193000e+03                5912.000000   \n",
              "mean    3.385988e+04           3.385988e+04                2249.918880   \n",
              "std     1.062409e+05           1.062409e+05                6015.717204   \n",
              "min     1.000000e+00           1.000000e+00                   0.454400   \n",
              "25%     5.970000e+02           5.970000e+02                 122.228437   \n",
              "50%     3.925000e+03           3.925000e+03                 431.142905   \n",
              "75%     3.033600e+04           3.033600e+04                2107.000000   \n",
              "max     2.538980e+06           2.538980e+06              204861.126000   \n",
              "\n",
              "       Maximum Negotiated Charge  \n",
              "count               5.912000e+03  \n",
              "mean                2.390277e+04  \n",
              "std                 7.136503e+04  \n",
              "min                 1.608000e+00  \n",
              "25%                 6.380010e+02  \n",
              "50%                 4.086731e+03  \n",
              "75%                 1.925640e+04  \n",
              "max                 1.713460e+06  "
            ],
            "text/html": [
              "\n",
              "  <div id=\"df-a919ff75-4278-4dc9-8c74-0efaa7313e4c\" class=\"colab-df-container\">\n",
              "    <div>\n",
              "<style scoped>\n",
              "    .dataframe tbody tr th:only-of-type {\n",
              "        vertical-align: middle;\n",
              "    }\n",
              "\n",
              "    .dataframe tbody tr th {\n",
              "        vertical-align: top;\n",
              "    }\n",
              "\n",
              "    .dataframe thead th {\n",
              "        text-align: right;\n",
              "    }\n",
              "</style>\n",
              "<table border=\"1\" class=\"dataframe\">\n",
              "  <thead>\n",
              "    <tr style=\"text-align: right;\">\n",
              "      <th></th>\n",
              "      <th>Gross Charges</th>\n",
              "      <th>Discounted Cash Price</th>\n",
              "      <th>Minimum Negotiated Charge</th>\n",
              "      <th>Maximum Negotiated Charge</th>\n",
              "    </tr>\n",
              "  </thead>\n",
              "  <tbody>\n",
              "    <tr>\n",
              "      <th>count</th>\n",
              "      <td>6.193000e+03</td>\n",
              "      <td>6.193000e+03</td>\n",
              "      <td>5912.000000</td>\n",
              "      <td>5.912000e+03</td>\n",
              "    </tr>\n",
              "    <tr>\n",
              "      <th>mean</th>\n",
              "      <td>3.385988e+04</td>\n",
              "      <td>3.385988e+04</td>\n",
              "      <td>2249.918880</td>\n",
              "      <td>2.390277e+04</td>\n",
              "    </tr>\n",
              "    <tr>\n",
              "      <th>std</th>\n",
              "      <td>1.062409e+05</td>\n",
              "      <td>1.062409e+05</td>\n",
              "      <td>6015.717204</td>\n",
              "      <td>7.136503e+04</td>\n",
              "    </tr>\n",
              "    <tr>\n",
              "      <th>min</th>\n",
              "      <td>1.000000e+00</td>\n",
              "      <td>1.000000e+00</td>\n",
              "      <td>0.454400</td>\n",
              "      <td>1.608000e+00</td>\n",
              "    </tr>\n",
              "    <tr>\n",
              "      <th>25%</th>\n",
              "      <td>5.970000e+02</td>\n",
              "      <td>5.970000e+02</td>\n",
              "      <td>122.228437</td>\n",
              "      <td>6.380010e+02</td>\n",
              "    </tr>\n",
              "    <tr>\n",
              "      <th>50%</th>\n",
              "      <td>3.925000e+03</td>\n",
              "      <td>3.925000e+03</td>\n",
              "      <td>431.142905</td>\n",
              "      <td>4.086731e+03</td>\n",
              "    </tr>\n",
              "    <tr>\n",
              "      <th>75%</th>\n",
              "      <td>3.033600e+04</td>\n",
              "      <td>3.033600e+04</td>\n",
              "      <td>2107.000000</td>\n",
              "      <td>1.925640e+04</td>\n",
              "    </tr>\n",
              "    <tr>\n",
              "      <th>max</th>\n",
              "      <td>2.538980e+06</td>\n",
              "      <td>2.538980e+06</td>\n",
              "      <td>204861.126000</td>\n",
              "      <td>1.713460e+06</td>\n",
              "    </tr>\n",
              "  </tbody>\n",
              "</table>\n",
              "</div>\n",
              "    <div class=\"colab-df-buttons\">\n",
              "\n",
              "  <div class=\"colab-df-container\">\n",
              "    <button class=\"colab-df-convert\" onclick=\"convertToInteractive('df-a919ff75-4278-4dc9-8c74-0efaa7313e4c')\"\n",
              "            title=\"Convert this dataframe to an interactive table.\"\n",
              "            style=\"display:none;\">\n",
              "\n",
              "  <svg xmlns=\"http://www.w3.org/2000/svg\" height=\"24px\" viewBox=\"0 -960 960 960\">\n",
              "    <path d=\"M120-120v-720h720v720H120Zm60-500h600v-160H180v160Zm220 220h160v-160H400v160Zm0 220h160v-160H400v160ZM180-400h160v-160H180v160Zm440 0h160v-160H620v160ZM180-180h160v-160H180v160Zm440 0h160v-160H620v160Z\"/>\n",
              "  </svg>\n",
              "    </button>\n",
              "\n",
              "  <style>\n",
              "    .colab-df-container {\n",
              "      display:flex;\n",
              "      gap: 12px;\n",
              "    }\n",
              "\n",
              "    .colab-df-convert {\n",
              "      background-color: #E8F0FE;\n",
              "      border: none;\n",
              "      border-radius: 50%;\n",
              "      cursor: pointer;\n",
              "      display: none;\n",
              "      fill: #1967D2;\n",
              "      height: 32px;\n",
              "      padding: 0 0 0 0;\n",
              "      width: 32px;\n",
              "    }\n",
              "\n",
              "    .colab-df-convert:hover {\n",
              "      background-color: #E2EBFA;\n",
              "      box-shadow: 0px 1px 2px rgba(60, 64, 67, 0.3), 0px 1px 3px 1px rgba(60, 64, 67, 0.15);\n",
              "      fill: #174EA6;\n",
              "    }\n",
              "\n",
              "    .colab-df-buttons div {\n",
              "      margin-bottom: 4px;\n",
              "    }\n",
              "\n",
              "    [theme=dark] .colab-df-convert {\n",
              "      background-color: #3B4455;\n",
              "      fill: #D2E3FC;\n",
              "    }\n",
              "\n",
              "    [theme=dark] .colab-df-convert:hover {\n",
              "      background-color: #434B5C;\n",
              "      box-shadow: 0px 1px 3px 1px rgba(0, 0, 0, 0.15);\n",
              "      filter: drop-shadow(0px 1px 2px rgba(0, 0, 0, 0.3));\n",
              "      fill: #FFFFFF;\n",
              "    }\n",
              "  </style>\n",
              "\n",
              "    <script>\n",
              "      const buttonEl =\n",
              "        document.querySelector('#df-a919ff75-4278-4dc9-8c74-0efaa7313e4c button.colab-df-convert');\n",
              "      buttonEl.style.display =\n",
              "        google.colab.kernel.accessAllowed ? 'block' : 'none';\n",
              "\n",
              "      async function convertToInteractive(key) {\n",
              "        const element = document.querySelector('#df-a919ff75-4278-4dc9-8c74-0efaa7313e4c');\n",
              "        const dataTable =\n",
              "          await google.colab.kernel.invokeFunction('convertToInteractive',\n",
              "                                                    [key], {});\n",
              "        if (!dataTable) return;\n",
              "\n",
              "        const docLinkHtml = 'Like what you see? Visit the ' +\n",
              "          '<a target=\"_blank\" href=https://colab.research.google.com/notebooks/data_table.ipynb>data table notebook</a>'\n",
              "          + ' to learn more about interactive tables.';\n",
              "        element.innerHTML = '';\n",
              "        dataTable['output_type'] = 'display_data';\n",
              "        await google.colab.output.renderOutput(dataTable, element);\n",
              "        const docLink = document.createElement('div');\n",
              "        docLink.innerHTML = docLinkHtml;\n",
              "        element.appendChild(docLink);\n",
              "      }\n",
              "    </script>\n",
              "  </div>\n",
              "\n",
              "\n",
              "<div id=\"df-2d31da25-093c-4b3e-92cb-f73dd36e3f96\">\n",
              "  <button class=\"colab-df-quickchart\" onclick=\"quickchart('df-2d31da25-093c-4b3e-92cb-f73dd36e3f96')\"\n",
              "            title=\"Suggest charts.\"\n",
              "            style=\"display:none;\">\n",
              "\n",
              "<svg xmlns=\"http://www.w3.org/2000/svg\" height=\"24px\"viewBox=\"0 0 24 24\"\n",
              "     width=\"24px\">\n",
              "    <g>\n",
              "        <path d=\"M19 3H5c-1.1 0-2 .9-2 2v14c0 1.1.9 2 2 2h14c1.1 0 2-.9 2-2V5c0-1.1-.9-2-2-2zM9 17H7v-7h2v7zm4 0h-2V7h2v10zm4 0h-2v-4h2v4z\"/>\n",
              "    </g>\n",
              "</svg>\n",
              "  </button>\n",
              "\n",
              "<style>\n",
              "  .colab-df-quickchart {\n",
              "      --bg-color: #E8F0FE;\n",
              "      --fill-color: #1967D2;\n",
              "      --hover-bg-color: #E2EBFA;\n",
              "      --hover-fill-color: #174EA6;\n",
              "      --disabled-fill-color: #AAA;\n",
              "      --disabled-bg-color: #DDD;\n",
              "  }\n",
              "\n",
              "  [theme=dark] .colab-df-quickchart {\n",
              "      --bg-color: #3B4455;\n",
              "      --fill-color: #D2E3FC;\n",
              "      --hover-bg-color: #434B5C;\n",
              "      --hover-fill-color: #FFFFFF;\n",
              "      --disabled-bg-color: #3B4455;\n",
              "      --disabled-fill-color: #666;\n",
              "  }\n",
              "\n",
              "  .colab-df-quickchart {\n",
              "    background-color: var(--bg-color);\n",
              "    border: none;\n",
              "    border-radius: 50%;\n",
              "    cursor: pointer;\n",
              "    display: none;\n",
              "    fill: var(--fill-color);\n",
              "    height: 32px;\n",
              "    padding: 0;\n",
              "    width: 32px;\n",
              "  }\n",
              "\n",
              "  .colab-df-quickchart:hover {\n",
              "    background-color: var(--hover-bg-color);\n",
              "    box-shadow: 0 1px 2px rgba(60, 64, 67, 0.3), 0 1px 3px 1px rgba(60, 64, 67, 0.15);\n",
              "    fill: var(--button-hover-fill-color);\n",
              "  }\n",
              "\n",
              "  .colab-df-quickchart-complete:disabled,\n",
              "  .colab-df-quickchart-complete:disabled:hover {\n",
              "    background-color: var(--disabled-bg-color);\n",
              "    fill: var(--disabled-fill-color);\n",
              "    box-shadow: none;\n",
              "  }\n",
              "\n",
              "  .colab-df-spinner {\n",
              "    border: 2px solid var(--fill-color);\n",
              "    border-color: transparent;\n",
              "    border-bottom-color: var(--fill-color);\n",
              "    animation:\n",
              "      spin 1s steps(1) infinite;\n",
              "  }\n",
              "\n",
              "  @keyframes spin {\n",
              "    0% {\n",
              "      border-color: transparent;\n",
              "      border-bottom-color: var(--fill-color);\n",
              "      border-left-color: var(--fill-color);\n",
              "    }\n",
              "    20% {\n",
              "      border-color: transparent;\n",
              "      border-left-color: var(--fill-color);\n",
              "      border-top-color: var(--fill-color);\n",
              "    }\n",
              "    30% {\n",
              "      border-color: transparent;\n",
              "      border-left-color: var(--fill-color);\n",
              "      border-top-color: var(--fill-color);\n",
              "      border-right-color: var(--fill-color);\n",
              "    }\n",
              "    40% {\n",
              "      border-color: transparent;\n",
              "      border-right-color: var(--fill-color);\n",
              "      border-top-color: var(--fill-color);\n",
              "    }\n",
              "    60% {\n",
              "      border-color: transparent;\n",
              "      border-right-color: var(--fill-color);\n",
              "    }\n",
              "    80% {\n",
              "      border-color: transparent;\n",
              "      border-right-color: var(--fill-color);\n",
              "      border-bottom-color: var(--fill-color);\n",
              "    }\n",
              "    90% {\n",
              "      border-color: transparent;\n",
              "      border-bottom-color: var(--fill-color);\n",
              "    }\n",
              "  }\n",
              "</style>\n",
              "\n",
              "  <script>\n",
              "    async function quickchart(key) {\n",
              "      const quickchartButtonEl =\n",
              "        document.querySelector('#' + key + ' button');\n",
              "      quickchartButtonEl.disabled = true;  // To prevent multiple clicks.\n",
              "      quickchartButtonEl.classList.add('colab-df-spinner');\n",
              "      try {\n",
              "        const charts = await google.colab.kernel.invokeFunction(\n",
              "            'suggestCharts', [key], {});\n",
              "      } catch (error) {\n",
              "        console.error('Error during call to suggestCharts:', error);\n",
              "      }\n",
              "      quickchartButtonEl.classList.remove('colab-df-spinner');\n",
              "      quickchartButtonEl.classList.add('colab-df-quickchart-complete');\n",
              "    }\n",
              "    (() => {\n",
              "      let quickchartButtonEl =\n",
              "        document.querySelector('#df-2d31da25-093c-4b3e-92cb-f73dd36e3f96 button');\n",
              "      quickchartButtonEl.style.display =\n",
              "        google.colab.kernel.accessAllowed ? 'block' : 'none';\n",
              "    })();\n",
              "  </script>\n",
              "</div>\n",
              "    </div>\n",
              "  </div>\n"
            ]
          },
          "metadata": {},
          "execution_count": 33
        }
      ]
    },
    {
      "cell_type": "code",
      "source": [
        "df2_clean['CPTDRGCode'].value_counts()"
      ],
      "metadata": {
        "colab": {
          "base_uri": "https://localhost:8080/"
        },
        "outputId": "52f00a0a-37e6-4a07-aa18-91e0a967d1c3",
        "id": "j-evDCjRI7Q1"
      },
      "execution_count": 71,
      "outputs": [
        {
          "output_type": "execute_result",
          "data": {
            "text/plain": [
              "96360    1\n",
              "D0705    1\n",
              "D0431    1\n",
              "D0425    1\n",
              "D0423    1\n",
              "        ..\n",
              "29874    1\n",
              "29873    1\n",
              "29871    1\n",
              "29870    1\n",
              "989      1\n",
              "Name: CPTDRGCode, Length: 6193, dtype: int64"
            ]
          },
          "metadata": {},
          "execution_count": 71
        }
      ]
    },
    {
      "cell_type": "code",
      "source": [
        "df2_clean['Description'].value_counts()"
      ],
      "metadata": {
        "colab": {
          "base_uri": "https://localhost:8080/"
        },
        "id": "F1BInf8aR7QZ",
        "outputId": "b032d563-a45e-4f25-af3a-a33d2ab1c8de"
      },
      "execution_count": 72,
      "outputs": [
        {
          "output_type": "execute_result",
          "data": {
            "text/plain": [
              "KNEE ARTHROSCOPY/SURGERY                                                         16\n",
              "REPAIR EYELID DEFECT                                                             12\n",
              "CYSTOSCOPY AND TREATMENT                                                         12\n",
              "TREAT HUMERUS FRACTURE                                                            9\n",
              "SHOULDER ARTHROSCOPY/SURGERY                                                      7\n",
              "                                                                                 ..\n",
              "AMPUTATION TOE METATARSAL                                                         1\n",
              "AMPUTATION THRU METATARSAL                                                        1\n",
              "AMPUTATION OF MIDFOOT                                                             1\n",
              "REVISION OF FOOT BONES                                                            1\n",
              "NON-EXTENSIVE O.R. PROCEDURES UNRELATED TO PRINCIPAL DIAGNOSIS WITHOUT CC/MCC     1\n",
              "Name: Description, Length: 5925, dtype: int64"
            ]
          },
          "metadata": {},
          "execution_count": 72
        }
      ]
    },
    {
      "cell_type": "code",
      "source": [
        "df2_clean['Rev Code'].value_counts()"
      ],
      "metadata": {
        "colab": {
          "base_uri": "https://localhost:8080/"
        },
        "id": "8KSKJelvSBzd",
        "outputId": "0e2263ab-a510-48b5-fe3b-f75462c94686"
      },
      "execution_count": 73,
      "outputs": [
        {
          "output_type": "execute_result",
          "data": {
            "text/plain": [
              "0360        1955\n",
              "0512         737\n",
              "Multiple     723\n",
              "0510         421\n",
              "0301         341\n",
              "            ... \n",
              "0770           1\n",
              "0204           1\n",
              "0616           1\n",
              "0110           1\n",
              "0801           1\n",
              "Name: Rev Code, Length: 150, dtype: int64"
            ]
          },
          "metadata": {},
          "execution_count": 73
        }
      ]
    },
    {
      "cell_type": "code",
      "source": [
        "df2_clean['Inpt_Oupt'].value_counts()"
      ],
      "metadata": {
        "colab": {
          "base_uri": "https://localhost:8080/"
        },
        "id": "opmg19BjSIB4",
        "outputId": "d9ab4f0d-b8df-47ae-9180-c3e17a2ee4ff"
      },
      "execution_count": 74,
      "outputs": [
        {
          "output_type": "execute_result",
          "data": {
            "text/plain": [
              "Inpatient/Outpatient    5470\n",
              "Inpatient                723\n",
              "Name: Inpt_Oupt, dtype: int64"
            ]
          },
          "metadata": {},
          "execution_count": 74
        }
      ]
    },
    {
      "cell_type": "code",
      "source": [
        "df2_clean['Aetna'].value_counts()"
      ],
      "metadata": {
        "colab": {
          "base_uri": "https://localhost:8080/"
        },
        "id": "yxGYVH6sSH-d",
        "outputId": "d1924eab-4763-4cf2-f3c4-b2e218d33d41"
      },
      "execution_count": 75,
      "outputs": [
        {
          "output_type": "execute_result",
          "data": {
            "text/plain": [
              "9144                           1652\n",
              "Not separately payable         1249\n",
              "Included in Service Package     234\n",
              "2846                            108\n",
              "17784                            75\n",
              "                               ... \n",
              "7747.896                          1\n",
              "6860.178                          1\n",
              "1469.403                          1\n",
              "493.506                           1\n",
              "38116.5824                        1\n",
              "Name: Aetna, Length: 2111, dtype: int64"
            ]
          },
          "metadata": {},
          "execution_count": 75
        }
      ]
    },
    {
      "cell_type": "code",
      "source": [
        "df2_clean['Cigna'].value_counts()"
      ],
      "metadata": {
        "colab": {
          "base_uri": "https://localhost:8080/"
        },
        "id": "WC_KAm6lSH7d",
        "outputId": "18c50012-447f-4c9f-f3f6-3c4064bd9988"
      },
      "execution_count": 76,
      "outputs": [
        {
          "output_type": "execute_result",
          "data": {
            "text/plain": [
              "7496                           1827\n",
              "Not separately payable         1178\n",
              "Included in Service Package     234\n",
              "559                              69\n",
              "232                              48\n",
              "                               ... \n",
              "1257.16                           1\n",
              "997.248                           1\n",
              "797.968                           1\n",
              "2245.504                          1\n",
              "43473.507792                      1\n",
              "Name: Cigna, Length: 1865, dtype: int64"
            ]
          },
          "metadata": {},
          "execution_count": 76
        }
      ]
    },
    {
      "cell_type": "code",
      "source": [
        "df2_clean['Empire Blue Cross Blue Shield'].value_counts()"
      ],
      "metadata": {
        "colab": {
          "base_uri": "https://localhost:8080/"
        },
        "id": "etehk5NDSH4B",
        "outputId": "8638adcd-e8ad-43b3-9966-7cba234350d9"
      },
      "execution_count": 77,
      "outputs": [
        {
          "output_type": "execute_result",
          "data": {
            "text/plain": [
              "11924                          530\n",
              "12938                          411\n",
              "Not separately payable         291\n",
              "9829                           254\n",
              "Included in Service Package    250\n",
              "                              ... \n",
              "723.4425                         1\n",
              "1529.7876                        1\n",
              "1476.6917                        1\n",
              "2045.1046                        1\n",
              "44463.77208                      1\n",
              "Name: Empire Blue Cross Blue Shield, Length: 2540, dtype: int64"
            ]
          },
          "metadata": {},
          "execution_count": 77
        }
      ]
    },
    {
      "cell_type": "code",
      "source": [
        "df2_clean['Emblem Health'].value_counts()"
      ],
      "metadata": {
        "colab": {
          "base_uri": "https://localhost:8080/"
        },
        "id": "7wlTVCgmSH0p",
        "outputId": "062467af-5c61-4521-c5a3-3256e4de7d42"
      },
      "execution_count": 78,
      "outputs": [
        {
          "output_type": "execute_result",
          "data": {
            "text/plain": [
              "9474.4                         1893\n",
              "Not separately payable         1220\n",
              "Included in Service Package     234\n",
              "Patient responsibility           47\n",
              "98.088                           23\n",
              "                               ... \n",
              "1423.738436                       1\n",
              "3662.753644                       1\n",
              "40064.495764                      1\n",
              "782.28                            1\n",
              "50601.70336                       1\n",
              "Name: Emblem Health, Length: 2253, dtype: int64"
            ]
          },
          "metadata": {},
          "execution_count": 78
        }
      ]
    },
    {
      "cell_type": "code",
      "source": [
        "df2_clean['United Health Group'].value_counts()"
      ],
      "metadata": {
        "colab": {
          "base_uri": "https://localhost:8080/"
        },
        "id": "qJY85nEuSHxQ",
        "outputId": "cbe2f456-3798-4b53-a6fc-1c48062104bd"
      },
      "execution_count": 79,
      "outputs": [
        {
          "output_type": "execute_result",
          "data": {
            "text/plain": [
              "6002                           425\n",
              "5445                           308\n",
              "7522                           276\n",
              "Included in Service Package    235\n",
              "9670                           222\n",
              "                              ... \n",
              "555.3388                         1\n",
              "33119.2                          1\n",
              "37455.2                          1\n",
              "41539.2                          1\n",
              "45239.1888                       1\n",
              "Name: United Health Group, Length: 2564, dtype: int64"
            ]
          },
          "metadata": {},
          "execution_count": 79
        }
      ]
    },
    {
      "cell_type": "code",
      "source": [
        "df2_clean['Aetna Medicare'].value_counts()"
      ],
      "metadata": {
        "colab": {
          "base_uri": "https://localhost:8080/"
        },
        "id": "-9G40RcYSHuF",
        "outputId": "af058392-ae5b-4f3c-8ecb-d182fa205f58"
      },
      "execution_count": 80,
      "outputs": [
        {
          "output_type": "execute_result",
          "data": {
            "text/plain": [
              "Not separately payable         1209\n",
              "Included in Service Package     234\n",
              "3646.4085                       137\n",
              "8102.92175                      129\n",
              "130.928                         107\n",
              "                               ... \n",
              "18.97                             1\n",
              "16.18                             1\n",
              "17.12                             1\n",
              "4.38                              1\n",
              "10642.8820036438                  1\n",
              "Name: Aetna Medicare, Length: 1531, dtype: int64"
            ]
          },
          "metadata": {},
          "execution_count": 80
        }
      ]
    },
    {
      "cell_type": "code",
      "source": [
        "df2_clean['AgeWell Medicare'].value_counts()"
      ],
      "metadata": {
        "colab": {
          "base_uri": "https://localhost:8080/"
        },
        "id": "3PpEB6EKSHq-",
        "outputId": "80381df1-bb9a-41cf-a8a3-aef1c2f3bc4b"
      },
      "execution_count": 81,
      "outputs": [
        {
          "output_type": "execute_result",
          "data": {
            "text/plain": [
              "Not separately payable         1209\n",
              "Included in Service Package     234\n",
              "4558.010625                     137\n",
              "10128.6521875                   129\n",
              "163.66                          107\n",
              "                               ... \n",
              "23.7125                           1\n",
              "20.225                            1\n",
              "21.4                              1\n",
              "5.475                             1\n",
              "13303.6025045547                  1\n",
              "Name: AgeWell Medicare, Length: 1532, dtype: int64"
            ]
          },
          "metadata": {},
          "execution_count": 81
        }
      ]
    },
    {
      "cell_type": "code",
      "source": [
        "df2_clean['Emblem Medicare'].value_counts()"
      ],
      "metadata": {
        "colab": {
          "base_uri": "https://localhost:8080/"
        },
        "id": "3g2uJFkuSHnb",
        "outputId": "5ef9ccb1-b414-4e27-f7a5-01b83bfd64b0"
      },
      "execution_count": 82,
      "outputs": [
        {
          "output_type": "execute_result",
          "data": {
            "text/plain": [
              "Not separately payable         1209\n",
              "Included in Service Package     234\n",
              "3646.4085                       137\n",
              "8102.92175                      129\n",
              "130.928                         107\n",
              "                               ... \n",
              "18.97                             1\n",
              "16.18                             1\n",
              "17.12                             1\n",
              "4.38                              1\n",
              "10642.8820036438                  1\n",
              "Name: Emblem Medicare, Length: 1531, dtype: int64"
            ]
          },
          "metadata": {},
          "execution_count": 82
        }
      ]
    },
    {
      "cell_type": "code",
      "source": [
        "df2_clean['Empire Medicare'].value_counts()"
      ],
      "metadata": {
        "colab": {
          "base_uri": "https://localhost:8080/"
        },
        "id": "PMRH_mUDSHks",
        "outputId": "4dd6f9f5-9e9a-4df4-a105-d00a86d0e35d"
      },
      "execution_count": 83,
      "outputs": [
        {
          "output_type": "execute_result",
          "data": {
            "text/plain": [
              "Not separately payable         1209\n",
              "Included in Service Package     234\n",
              "3646.4085                       137\n",
              "8102.92175                      129\n",
              "130.928                         107\n",
              "                               ... \n",
              "18.97                             1\n",
              "16.18                             1\n",
              "17.12                             1\n",
              "4.38                              1\n",
              "10642.8820036438                  1\n",
              "Name: Empire Medicare, Length: 1530, dtype: int64"
            ]
          },
          "metadata": {},
          "execution_count": 83
        }
      ]
    },
    {
      "cell_type": "code",
      "source": [
        "df2_clean['Fidelis Medicare'].value_counts()"
      ],
      "metadata": {
        "colab": {
          "base_uri": "https://localhost:8080/"
        },
        "id": "WoxMWpL4SHhm",
        "outputId": "c4bbda1f-a704-47f2-c98c-5e1e85e9ef06"
      },
      "execution_count": 84,
      "outputs": [
        {
          "output_type": "execute_result",
          "data": {
            "text/plain": [
              "Not separately payable         1209\n",
              "Included in Service Package     234\n",
              "3646.4085                       137\n",
              "8102.92175                      129\n",
              "130.928                         107\n",
              "                               ... \n",
              "18.97                             1\n",
              "16.18                             1\n",
              "17.12                             1\n",
              "4.38                              1\n",
              "10962.1684637531                  1\n",
              "Name: Fidelis Medicare, Length: 1531, dtype: int64"
            ]
          },
          "metadata": {},
          "execution_count": 84
        }
      ]
    },
    {
      "cell_type": "code",
      "source": [
        "df2_clean['Healthfirst Medicare'].value_counts()"
      ],
      "metadata": {
        "colab": {
          "base_uri": "https://localhost:8080/"
        },
        "id": "3Q1LwO9HSHes",
        "outputId": "aeefb6b8-60e9-48e0-920b-a6f92ebc071c"
      },
      "execution_count": 85,
      "outputs": [
        {
          "output_type": "execute_result",
          "data": {
            "text/plain": [
              "Not separately payable         1209\n",
              "Included in Service Package     234\n",
              "3755.800755                     137\n",
              "8346.0094025                    129\n",
              "134.85584                       107\n",
              "                               ... \n",
              "19.5391                           1\n",
              "16.665399999999998                1\n",
              "17.6336                           1\n",
              "4.5114                            1\n",
              "10962.1684637531                  1\n",
              "Name: Healthfirst Medicare, Length: 1532, dtype: int64"
            ]
          },
          "metadata": {},
          "execution_count": 85
        }
      ]
    },
    {
      "cell_type": "code",
      "source": [
        "df2_clean['UHC_CommPlan_Medicare'].value_counts()"
      ],
      "metadata": {
        "colab": {
          "base_uri": "https://localhost:8080/"
        },
        "id": "7GAK6hiJSHb2",
        "outputId": "a02a9dd5-fd12-407e-d0f5-9b6528c7c19f"
      },
      "execution_count": 86,
      "outputs": [
        {
          "output_type": "execute_result",
          "data": {
            "text/plain": [
              "Not separately payable         1209\n",
              "Included in Service Package     234\n",
              "3682.872585                     137\n",
              "8183.9509675                    129\n",
              "132.23728                       107\n",
              "                               ... \n",
              "126.1187                          1\n",
              "92.5766                           1\n",
              "263.3979                          1\n",
              "209.5346                          1\n",
              "10749.3108236802                  1\n",
              "Name: UHC_CommPlan_Medicare, Length: 1529, dtype: int64"
            ]
          },
          "metadata": {},
          "execution_count": 86
        }
      ]
    },
    {
      "cell_type": "code",
      "source": [
        "df2_clean['VNS Medicare'].value_counts()"
      ],
      "metadata": {
        "colab": {
          "base_uri": "https://localhost:8080/"
        },
        "id": "pawA9v89SHYt",
        "outputId": "d6925bf7-edc7-4097-a6a9-6620f3c9b962"
      },
      "execution_count": 87,
      "outputs": [
        {
          "output_type": "execute_result",
          "data": {
            "text/plain": [
              "Not separately payable         1209\n",
              "Included in Service Package     234\n",
              "3755.800755                     137\n",
              "8346.0094025                    129\n",
              "134.85584                       107\n",
              "                               ... \n",
              "128.3792                          1\n",
              "128.6161                          1\n",
              "94.4098                           1\n",
              "268.6137                          1\n",
              "10962.1684637531                  1\n",
              "Name: VNS Medicare, Length: 1531, dtype: int64"
            ]
          },
          "metadata": {},
          "execution_count": 87
        }
      ]
    },
    {
      "cell_type": "code",
      "source": [
        "df2_clean['WellCare Medicare'].value_counts()"
      ],
      "metadata": {
        "colab": {
          "base_uri": "https://localhost:8080/"
        },
        "id": "DKHSfUWKSHVW",
        "outputId": "ce43e027-feac-4a5b-85c1-2db41ef410eb"
      },
      "execution_count": 88,
      "outputs": [
        {
          "output_type": "execute_result",
          "data": {
            "text/plain": [
              "Not separately payable         1209\n",
              "Included in Service Package     234\n",
              "3774.0327975                    137\n",
              "8386.52401125                   129\n",
              "135.51048                       107\n",
              "                               ... \n",
              "19.63395                          1\n",
              "16.7463                           1\n",
              "17.7192                           1\n",
              "4.5333                            1\n",
              "11015.3828737713                  1\n",
              "Name: WellCare Medicare, Length: 1532, dtype: int64"
            ]
          },
          "metadata": {},
          "execution_count": 88
        }
      ]
    },
    {
      "cell_type": "code",
      "source": [
        "df2_clean['1199'].value_counts()"
      ],
      "metadata": {
        "colab": {
          "base_uri": "https://localhost:8080/"
        },
        "id": "HbhgPLyDSHSm",
        "outputId": "e2c97a40-9486-4d82-c338-6af5a82a588e"
      },
      "execution_count": 89,
      "outputs": [
        {
          "output_type": "execute_result",
          "data": {
            "text/plain": [
              "2107                           375\n",
              "2412                           343\n",
              "1564                           236\n",
              "Included in Service Package    235\n",
              "2965                           189\n",
              "                              ... \n",
              "601                              1\n",
              "202.5                            1\n",
              "197                              1\n",
              "389                              1\n",
              "17670.3696                       1\n",
              "Name: 1199, Length: 2230, dtype: int64"
            ]
          },
          "metadata": {},
          "execution_count": 89
        }
      ]
    },
    {
      "cell_type": "code",
      "source": [
        "df2_clean['Affinity Molina Essential'].value_counts()"
      ],
      "metadata": {
        "colab": {
          "base_uri": "https://localhost:8080/"
        },
        "id": "XkWYCL8NSHPQ",
        "outputId": "a8fc8883-07e0-425d-b00d-5c2e3b1a6ebb"
      },
      "execution_count": 90,
      "outputs": [
        {
          "output_type": "execute_result",
          "data": {
            "text/plain": [
              "Not separately payable         446\n",
              "Included in Service Package    234\n",
              "190.4488947622                 118\n",
              "1307.4003956636                 99\n",
              "242.2919270951                  94\n",
              "                              ... \n",
              "72216.7658361309                 1\n",
              "38214.5105                       1\n",
              "73221.8380676645                 1\n",
              "42207.9497086591                 1\n",
              "26478.2326888993                 1\n",
              "Name: Affinity Molina Essential, Length: 1139, dtype: int64"
            ]
          },
          "metadata": {},
          "execution_count": 90
        }
      ]
    },
    {
      "cell_type": "code",
      "source": [
        "df2_clean['Affinity_Molina_Medicaid_CHP'].value_counts()"
      ],
      "metadata": {
        "colab": {
          "base_uri": "https://localhost:8080/"
        },
        "id": "y4QHS6N7SHL_",
        "outputId": "0adab0a6-d447-4002-b526-9ed3e55ee49c"
      },
      "execution_count": 91,
      "outputs": [
        {
          "output_type": "execute_result",
          "data": {
            "text/plain": [
              "Not separately payable         446\n",
              "Included in Service Package    234\n",
              "84.6439532276                  118\n",
              "581.0668425172                  99\n",
              "107.6853009311                  94\n",
              "                              ... \n",
              "31339.3512119059                 1\n",
              "16583.6555                       1\n",
              "31775.5146331374                 1\n",
              "18316.6574207388                 1\n",
              "11490.5538083903                 1\n",
              "Name: Affinity_Molina_Medicaid_CHP, Length: 1139, dtype: int64"
            ]
          },
          "metadata": {},
          "execution_count": 91
        }
      ]
    },
    {
      "cell_type": "code",
      "source": [
        "df2_clean['Amida Care Medicaid'].value_counts()"
      ],
      "metadata": {
        "colab": {
          "base_uri": "https://localhost:8080/"
        },
        "id": "DapgJwUkSHJC",
        "outputId": "fe93f2d9-064c-484c-b240-0014c80e3c79"
      },
      "execution_count": 92,
      "outputs": [
        {
          "output_type": "execute_result",
          "data": {
            "text/plain": [
              "Not separately payable         446\n",
              "Included in Service Package    234\n",
              "97.3405462118                  118\n",
              "668.2268688947                  99\n",
              "123.8380960708                  94\n",
              "                              ... \n",
              "31339.3512119059                 1\n",
              "16583.6555                       1\n",
              "31775.5146331374                 1\n",
              "18316.6574207388                 1\n",
              "11490.5538083903                 1\n",
              "Name: Amida Care Medicaid, Length: 1139, dtype: int64"
            ]
          },
          "metadata": {},
          "execution_count": 92
        }
      ]
    },
    {
      "cell_type": "code",
      "source": [
        "df2_clean['Emblem_Medicaid_CHP'].value_counts()"
      ],
      "metadata": {
        "colab": {
          "base_uri": "https://localhost:8080/"
        },
        "id": "5egj3_MwSHF7",
        "outputId": "5016aa50-c615-42fa-d6fb-7fe30b9ad555"
      },
      "execution_count": 93,
      "outputs": [
        {
          "output_type": "execute_result",
          "data": {
            "text/plain": [
              "Not separately payable         446\n",
              "Included in Service Package    234\n",
              "97.3405462118                  118\n",
              "668.2268688947                  99\n",
              "123.8380960708                  94\n",
              "                              ... \n",
              "31339.3512119059                 1\n",
              "16583.6555                       1\n",
              "31775.5146331374                 1\n",
              "18316.6574207388                 1\n",
              "11490.5538083903                 1\n",
              "Name: Emblem_Medicaid_CHP, Length: 1139, dtype: int64"
            ]
          },
          "metadata": {},
          "execution_count": 93
        }
      ]
    },
    {
      "cell_type": "code",
      "source": [
        "df2_clean['Empire Healthplus Essential'].value_counts()"
      ],
      "metadata": {
        "colab": {
          "base_uri": "https://localhost:8080/"
        },
        "id": "Xbhx-GUeSHC3",
        "outputId": "8edd067d-3b93-4472-a78c-87dc393c8425"
      },
      "execution_count": 94,
      "outputs": [
        {
          "output_type": "execute_result",
          "data": {
            "text/plain": [
              "Not separately payable         446\n",
              "Included in Service Package    234\n",
              "190.4488947622                 118\n",
              "1307.4003956636                 99\n",
              "242.2919270951                  94\n",
              "                              ... \n",
              "61316.1219363376                 1\n",
              "32446.2825                       1\n",
              "62169.4851517906                 1\n",
              "35836.9384318803                 1\n",
              "22481.5183207636                 1\n",
              "Name: Empire Healthplus Essential, Length: 1139, dtype: int64"
            ]
          },
          "metadata": {},
          "execution_count": 94
        }
      ]
    },
    {
      "cell_type": "code",
      "source": [
        "df2_clean['Empire Healthplus Exchange'].value_counts()"
      ],
      "metadata": {
        "colab": {
          "base_uri": "https://localhost:8080/"
        },
        "id": "zEsa1MWYSG_3",
        "outputId": "5fda6a20-33de-4b99-f9c9-b830f164abeb"
      },
      "execution_count": 95,
      "outputs": [
        {
          "output_type": "execute_result",
          "data": {
            "text/plain": [
              "Not separately payable         446\n",
              "Included in Service Package    234\n",
              "211.6098830691                 118\n",
              "1452.6671062929                 99\n",
              "269.2132523279                  94\n",
              "                              ... \n",
              "68129.0243737084                 1\n",
              "36051.425                        1\n",
              "69077.2057242118                 1\n",
              "39818.820479867                  1\n",
              "24979.4648008484                 1\n",
              "Name: Empire Healthplus Exchange, Length: 1139, dtype: int64"
            ]
          },
          "metadata": {},
          "execution_count": 95
        }
      ]
    },
    {
      "cell_type": "code",
      "source": [
        "df2_clean['Empire_Healthplus_MedicaidCHP'].value_counts()"
      ],
      "metadata": {
        "colab": {
          "base_uri": "https://localhost:8080/"
        },
        "id": "MLxKdfJmSG9H",
        "outputId": "34cadf5f-3bce-4b62-adae-0822385d35ce"
      },
      "execution_count": 96,
      "outputs": [
        {
          "output_type": "execute_result",
          "data": {
            "text/plain": [
              "Not separately payable         446\n",
              "Included in Service Package    234\n",
              "84.6439532276                  118\n",
              "581.0668425172                  99\n",
              "107.6853009311                  94\n",
              "                              ... \n",
              "27251.6097494834                 1\n",
              "14420.57                         1\n",
              "27630.8822896847                 1\n",
              "15927.5281919468                 1\n",
              "9991.7859203394                  1\n",
              "Name: Empire_Healthplus_MedicaidCHP, Length: 1139, dtype: int64"
            ]
          },
          "metadata": {},
          "execution_count": 96
        }
      ]
    },
    {
      "cell_type": "code",
      "source": [
        "df2_clean['Fidelis_Essential_Exchange'].value_counts()"
      ],
      "metadata": {
        "colab": {
          "base_uri": "https://localhost:8080/"
        },
        "id": "93HAdoVkSG58",
        "outputId": "434dd507-3ae2-4506-9e64-06287be685aa"
      },
      "execution_count": 97,
      "outputs": [
        {
          "output_type": "execute_result",
          "data": {
            "text/plain": [
              "Not separately payable         446\n",
              "Included in Service Package    234\n",
              "211.6098830691                 118\n",
              "1452.6671062929                 99\n",
              "269.2132523279                  94\n",
              "                              ... \n",
              "68129.0243737084                 1\n",
              "36051.425                        1\n",
              "69077.2057242118                 1\n",
              "39818.820479867                  1\n",
              "24979.4648008484                 1\n",
              "Name: Fidelis_Essential_Exchange, Length: 1139, dtype: int64"
            ]
          },
          "metadata": {},
          "execution_count": 97
        }
      ]
    },
    {
      "cell_type": "code",
      "source": [
        "df2_clean['Fidelis_Medicaid_CHP'].value_counts()"
      ],
      "metadata": {
        "colab": {
          "base_uri": "https://localhost:8080/"
        },
        "id": "7GKL7-cJSG3I",
        "outputId": "68e344a5-a945-46f1-e56f-3e9866d8032b"
      },
      "execution_count": 98,
      "outputs": [
        {
          "output_type": "execute_result",
          "data": {
            "text/plain": [
              "Not separately payable         446\n",
              "Included in Service Package    234\n",
              "84.6439532276                  118\n",
              "581.0668425172                  99\n",
              "107.6853009311                  94\n",
              "                              ... \n",
              "31339.3512119059                 1\n",
              "16583.6555                       1\n",
              "31775.5146331374                 1\n",
              "18316.6574207388                 1\n",
              "11490.5538083903                 1\n",
              "Name: Fidelis_Medicaid_CHP, Length: 1139, dtype: int64"
            ]
          },
          "metadata": {},
          "execution_count": 98
        }
      ]
    },
    {
      "cell_type": "code",
      "source": [
        "df2_clean['Healthfirst_Essential_Exchange'].value_counts()"
      ],
      "metadata": {
        "colab": {
          "base_uri": "https://localhost:8080/"
        },
        "id": "R5jRYB2RSGz-",
        "outputId": "48f2ac2f-a8db-4249-df98-40beb5d4f5a7"
      },
      "execution_count": 103,
      "outputs": [
        {
          "output_type": "execute_result",
          "data": {
            "text/plain": [
              "Not separately payable         446\n",
              "Included in Service Package    234\n",
              "See Tab A                       50\n",
              "Patient responsibility          47\n",
              "73.2                            28\n",
              "                              ... \n",
              "37180.2                          1\n",
              "27329.4                          1\n",
              "38318.4                          1\n",
              "32698.2                          1\n",
              "5995.0715522036                  1\n",
              "Name: Healthfirst_Essential_Exchange, Length: 3844, dtype: int64"
            ]
          },
          "metadata": {},
          "execution_count": 103
        }
      ]
    },
    {
      "cell_type": "code",
      "source": [
        "df2_clean['Healthfirst_Medicaid_CHP'].value_counts()"
      ],
      "metadata": {
        "colab": {
          "base_uri": "https://localhost:8080/"
        },
        "id": "FuwiBRoBSGuH",
        "outputId": "a3acae08-fac6-4201-8d6e-888ef1c440ec"
      },
      "execution_count": 69,
      "outputs": [
        {
          "output_type": "execute_result",
          "data": {
            "text/plain": [
              "Not separately payable         446\n",
              "Included in Service Package    234\n",
              "88.876150889                   118\n",
              "610.120184643                   99\n",
              "113.0695659777                  94\n",
              "                              ... \n",
              "28614.1902369575                 1\n",
              "15141.5985                       1\n",
              "29012.426404169                  1\n",
              "16723.9046015442                 1\n",
              "10491.3752163563                 1\n",
              "Name: Healthfirst_Medicaid_CHP, Length: 1139, dtype: int64"
            ]
          },
          "metadata": {},
          "execution_count": 69
        }
      ]
    },
    {
      "cell_type": "code",
      "source": [
        "df2_clean['MVP_Medicaid_CHP'].value_counts()"
      ],
      "metadata": {
        "colab": {
          "base_uri": "https://localhost:8080/"
        },
        "id": "7CzA1XO_SGxJ",
        "outputId": "3e9362bf-4768-4bac-9dbc-d68eb9a324fa"
      },
      "execution_count": 68,
      "outputs": [
        {
          "output_type": "execute_result",
          "data": {
            "text/plain": [
              "Not separately payable         446\n",
              "Included in Service Package    234\n",
              "84.6439532276                  118\n",
              "581.0668425172                  99\n",
              "107.6853009311                  94\n",
              "                              ... \n",
              "31339.3512119059                 1\n",
              "16583.6555                       1\n",
              "31775.5146331374                 1\n",
              "18316.6574207388                 1\n",
              "11490.5538083903                 1\n",
              "Name: MVP_Medicaid_CHP, Length: 1139, dtype: int64"
            ]
          },
          "metadata": {},
          "execution_count": 68
        }
      ]
    },
    {
      "cell_type": "code",
      "source": [
        "df2_clean['MVP Essential'].value_counts()"
      ],
      "metadata": {
        "colab": {
          "base_uri": "https://localhost:8080/"
        },
        "id": "FqoRRjDmSGrJ",
        "outputId": "9cb348c7-2a6b-4000-efeb-f39e32f6d1cf"
      },
      "execution_count": 67,
      "outputs": [
        {
          "output_type": "execute_result",
          "data": {
            "text/plain": [
              "Not separately payable         446\n",
              "Included in Service Package    234\n",
              "101.5727438732                 118\n",
              "697.2802110206                  99\n",
              "129.2223611174                  94\n",
              "                              ... \n",
              "32701.93169938                   1\n",
              "17304.684                        1\n",
              "33157.0587476217                 1\n",
              "19113.0338303362                 1\n",
              "11990.1431044072                 1\n",
              "Name: MVP Essential, Length: 1139, dtype: int64"
            ]
          },
          "metadata": {},
          "execution_count": 67
        }
      ]
    },
    {
      "cell_type": "code",
      "source": [
        "df2_clean['United Community Plan Essential'].value_counts()"
      ],
      "metadata": {
        "colab": {
          "base_uri": "https://localhost:8080/"
        },
        "id": "gZ4LRhcwSGoZ",
        "outputId": "81204195-d8bf-4e7d-9119-daf185de7c04"
      },
      "execution_count": 66,
      "outputs": [
        {
          "output_type": "execute_result",
          "data": {
            "text/plain": [
              "Not separately payable         446\n",
              "Included in Service Package    234\n",
              "118.5015345187                 118\n",
              "813.493579524                   99\n",
              "150.7594213036                  94\n",
              "                              ... \n",
              "38152.2536492767                 1\n",
              "20188.798                        1\n",
              "38683.2352055586                 1\n",
              "22298.5394687255                 1\n",
              "13988.5002884751                 1\n",
              "Name: United Community Plan Essential, Length: 1139, dtype: int64"
            ]
          },
          "metadata": {},
          "execution_count": 66
        }
      ]
    },
    {
      "cell_type": "code",
      "source": [
        "df2_clean['United Community Plan Medicaid'].value_counts()"
      ],
      "metadata": {
        "colab": {
          "base_uri": "https://localhost:8080/"
        },
        "id": "lOBRCCpnSGk8",
        "outputId": "39511a8a-8aa8-4093-d778-55550f5e4ab9"
      },
      "execution_count": 65,
      "outputs": [
        {
          "output_type": "execute_result",
          "data": {
            "text/plain": [
              "Not separately payable         446\n",
              "Included in Service Package    234\n",
              "84.6439532276                  118\n",
              "581.0668425172                  99\n",
              "107.6853009311                  94\n",
              "                              ... \n",
              "27251.6097494834                 1\n",
              "14420.57                         1\n",
              "27630.8822896847                 1\n",
              "15927.5281919468                 1\n",
              "9991.7859203394                  1\n",
              "Name: United Community Plan Medicaid, Length: 1139, dtype: int64"
            ]
          },
          "metadata": {},
          "execution_count": 65
        }
      ]
    },
    {
      "cell_type": "code",
      "source": [
        "df2_clean['VNS Medicaid'].value_counts()"
      ],
      "metadata": {
        "colab": {
          "base_uri": "https://localhost:8080/"
        },
        "id": "DuEw0Q9KSGiJ",
        "outputId": "54c54a12-6770-4e77-cfa3-492d30a2b819"
      },
      "execution_count": 63,
      "outputs": [
        {
          "output_type": "execute_result",
          "data": {
            "text/plain": [
              "Not separately payable         446\n",
              "Included in Service Package    234\n",
              "84.6439532276                  118\n",
              "581.0668425172                  99\n",
              "107.6853009311                  94\n",
              "                              ... \n",
              "31339.3512119059                 1\n",
              "16583.6555                       1\n",
              "31775.5146331374                 1\n",
              "18316.6574207388                 1\n",
              "11490.5538083903                 1\n",
              "Name: VNS Medicaid, Length: 1139, dtype: int64"
            ]
          },
          "metadata": {},
          "execution_count": 63
        }
      ]
    },
    {
      "cell_type": "code",
      "source": [
        "df2_clean['Consumer Health Network'].value_counts()"
      ],
      "metadata": {
        "colab": {
          "base_uri": "https://localhost:8080/"
        },
        "id": "7XdDdYUGSGft",
        "outputId": "6518b4fb-999b-4b47-c1fe-756769694164"
      },
      "execution_count": 62,
      "outputs": [
        {
          "output_type": "execute_result",
          "data": {
            "text/plain": [
              "Included in Service Package    234\n",
              "Patient responsibility          47\n",
              "55.4368                         32\n",
              "1516.3328                       29\n",
              "1160.0832                       27\n",
              "                              ... \n",
              "9940                             1\n",
              "9591.4752                        1\n",
              "6383.8656                        1\n",
              "12465.5552                       1\n",
              "35025.8969869067                 1\n",
              "Name: Consumer Health Network, Length: 3988, dtype: int64"
            ]
          },
          "metadata": {},
          "execution_count": 62
        }
      ]
    },
    {
      "cell_type": "code",
      "source": [
        "df2_clean['Devon'].value_counts()"
      ],
      "metadata": {
        "colab": {
          "base_uri": "https://localhost:8080/"
        },
        "id": "mAXoKRueSGcz",
        "outputId": "281c7937-4596-4b6f-b085-9ee7a6923663"
      },
      "execution_count": 61,
      "outputs": [
        {
          "output_type": "execute_result",
          "data": {
            "text/plain": [
              "Included in Service Package    234\n",
              "Patient responsibility          47\n",
              "55.4368                         32\n",
              "1516.3328                       29\n",
              "1160.0832                       27\n",
              "                              ... \n",
              "9940                             1\n",
              "9591.4752                        1\n",
              "6383.8656                        1\n",
              "12465.5552                       1\n",
              "35025.8969869067                 1\n",
              "Name: Devon, Length: 3988, dtype: int64"
            ]
          },
          "metadata": {},
          "execution_count": 61
        }
      ]
    },
    {
      "cell_type": "code",
      "source": [
        "df2_clean['Equian'].value_counts()"
      ],
      "metadata": {
        "colab": {
          "base_uri": "https://localhost:8080/"
        },
        "id": "XwAz0lRQSGZ_",
        "outputId": "58b609ab-c165-4116-e2f3-39fd07949e0c"
      },
      "execution_count": 60,
      "outputs": [
        {
          "output_type": "execute_result",
          "data": {
            "text/plain": [
              "Included in Service Package    234\n",
              "Patient responsibility          47\n",
              "55.4368                         32\n",
              "1516.3328                       29\n",
              "1160.0832                       27\n",
              "                              ... \n",
              "9940                             1\n",
              "9591.4752                        1\n",
              "6383.8656                        1\n",
              "12465.5552                       1\n",
              "35025.8969869067                 1\n",
              "Name: Equian, Length: 3988, dtype: int64"
            ]
          },
          "metadata": {},
          "execution_count": 60
        }
      ]
    },
    {
      "cell_type": "code",
      "source": [
        "df2_clean['First Health'].value_counts()"
      ],
      "metadata": {
        "colab": {
          "base_uri": "https://localhost:8080/"
        },
        "id": "0Umu4UX9SGXG",
        "outputId": "2ff9a9f2-86f5-4b79-85b1-3e24af2fcfde"
      },
      "execution_count": 59,
      "outputs": [
        {
          "output_type": "execute_result",
          "data": {
            "text/plain": [
              "Included in Service Package    234\n",
              "Patient responsibility          47\n",
              "55.4368                         32\n",
              "1516.3328                       29\n",
              "1160.0832                       27\n",
              "                              ... \n",
              "9940                             1\n",
              "9591.4752                        1\n",
              "6383.8656                        1\n",
              "12465.5552                       1\n",
              "35025.8969869067                 1\n",
              "Name: First Health, Length: 3988, dtype: int64"
            ]
          },
          "metadata": {},
          "execution_count": 59
        }
      ]
    },
    {
      "cell_type": "code",
      "source": [
        "df2_clean['Magnacare'].value_counts()"
      ],
      "metadata": {
        "colab": {
          "base_uri": "https://localhost:8080/"
        },
        "id": "hPYPwiCGSGUs",
        "outputId": "61dbfb6b-92d9-486b-a1e7-841b9e06308d"
      },
      "execution_count": 58,
      "outputs": [
        {
          "output_type": "execute_result",
          "data": {
            "text/plain": [
              "Included in Service Package    234\n",
              "Patient responsibility          47\n",
              "55.4368                         32\n",
              "1516.3328                       29\n",
              "1160.0832                       27\n",
              "                              ... \n",
              "9940                             1\n",
              "9591.4752                        1\n",
              "6383.8656                        1\n",
              "12465.5552                       1\n",
              "35025.8969869067                 1\n",
              "Name: Magnacare, Length: 3988, dtype: int64"
            ]
          },
          "metadata": {},
          "execution_count": 58
        }
      ]
    },
    {
      "cell_type": "code",
      "source": [
        "df2_clean['Multiplan_Beechstreet_PHCS'].value_counts()"
      ],
      "metadata": {
        "colab": {
          "base_uri": "https://localhost:8080/"
        },
        "id": "gLIHxKkMSGSA",
        "outputId": "c72d768c-18d5-47b9-e53a-7e4b199be932"
      },
      "execution_count": 57,
      "outputs": [
        {
          "output_type": "execute_result",
          "data": {
            "text/plain": [
              "Included in Service Package    234\n",
              "Patient responsibility          47\n",
              "55.4368                         32\n",
              "1516.3328                       29\n",
              "1160.0832                       27\n",
              "                              ... \n",
              "9940                             1\n",
              "9591.4752                        1\n",
              "6383.8656                        1\n",
              "12465.5552                       1\n",
              "35025.8969869067                 1\n",
              "Name: Multiplan_Beechstreet_PHCS, Length: 3988, dtype: int64"
            ]
          },
          "metadata": {},
          "execution_count": 57
        }
      ]
    },
    {
      "cell_type": "code",
      "source": [
        "df2_clean['QHM'].value_counts()"
      ],
      "metadata": {
        "colab": {
          "base_uri": "https://localhost:8080/"
        },
        "id": "OBrRbRaPSGPO",
        "outputId": "cf1bbec1-4cd7-4996-899b-fac0780f0a08"
      },
      "execution_count": 56,
      "outputs": [
        {
          "output_type": "execute_result",
          "data": {
            "text/plain": [
              "Included in Service Package    234\n",
              "Patient responsibility          47\n",
              "55.4368                         32\n",
              "1516.3328                       29\n",
              "1160.0832                       27\n",
              "                              ... \n",
              "9940                             1\n",
              "9591.4752                        1\n",
              "6383.8656                        1\n",
              "12465.5552                       1\n",
              "35025.8969869067                 1\n",
              "Name: QHM, Length: 3988, dtype: int64"
            ]
          },
          "metadata": {},
          "execution_count": 56
        }
      ]
    },
    {
      "cell_type": "code",
      "source": [
        "df2_clean['Worldwide'].value_counts()"
      ],
      "metadata": {
        "colab": {
          "base_uri": "https://localhost:8080/"
        },
        "id": "dQnCkcyXSGMh",
        "outputId": "86beb2d6-7cda-44a2-a11a-1018b3efda99"
      },
      "execution_count": 55,
      "outputs": [
        {
          "output_type": "execute_result",
          "data": {
            "text/plain": [
              "Included in Service Package    234\n",
              "Patient responsibility          47\n",
              "55.4368                         32\n",
              "1516.3328                       29\n",
              "1160.0832                       27\n",
              "                              ... \n",
              "9940                             1\n",
              "9591.4752                        1\n",
              "6383.8656                        1\n",
              "12465.5552                       1\n",
              "35025.8969869067                 1\n",
              "Name: Worldwide, Length: 3988, dtype: int64"
            ]
          },
          "metadata": {},
          "execution_count": 55
        }
      ]
    },
    {
      "cell_type": "code",
      "source": [
        "# Data distribution\n",
        "\n",
        "# Calculate mean, median, and mode\n",
        "mean2= df2_clean[['Gross Charges','Discounted Cash Price','Minimum Negotiated Charge', 'Maximum Negotiated Charge']].mean()\n",
        "median2 = df2_clean[['Gross Charges','Discounted Cash Price','Minimum Negotiated Charge', 'Maximum Negotiated Charge']].median()\n",
        "mode2 = df2_clean[['Gross Charges','Discounted Cash Price','Minimum Negotiated Charge', 'Maximum Negotiated Charge']].mode().iloc[0]\n",
        "print(\"Mean is:\\n\", mean2, '\\n')\n",
        "print(\"Median is:\\n\", median2, '\\n')\n",
        "print(\"Mode is:\\n \", mode2, '\\n')\n",
        "# Calculate range\n",
        "range2 = df2_clean[['Gross Charges','Discounted Cash Price','Minimum Negotiated Charge', 'Maximum Negotiated Charge']].max() - df2_clean[['Gross Charges','Discounted Cash Price','Minimum Negotiated Charge', 'Maximum Negotiated Charge']].min()\n",
        "print(\"Range is:\\n\", range2, '\\n')\n",
        "# Calculate variance and standard deviation\n",
        "variance2 = np.var(df2_clean[['Gross Charges','Discounted Cash Price','Minimum Negotiated Charge', 'Maximum Negotiated Charge']])\n",
        "print(\"Variance is:\\n\",variance2, '\\n')\n",
        "std_dev2 = np.std(df2_clean[['Gross Charges','Discounted Cash Price','Minimum Negotiated Charge', 'Maximum Negotiated Charge']])\n",
        "print(\"Standard Deviation is:\\n\", std_dev2)"
      ],
      "metadata": {
        "colab": {
          "base_uri": "https://localhost:8080/"
        },
        "outputId": "116f87ad-0a5d-4f4c-a733-f8cc6952e1ff",
        "id": "VW3ptdwAI7Q1"
      },
      "execution_count": 150,
      "outputs": [
        {
          "output_type": "stream",
          "name": "stdout",
          "text": [
            "Mean is:\n",
            " Gross Charges                33859.881200\n",
            "Discounted Cash Price        33859.881200\n",
            "Minimum Negotiated Charge     2249.918880\n",
            "Maximum Negotiated Charge    23902.774243\n",
            "dtype: float64 \n",
            "\n",
            "Median is:\n",
            " Gross Charges                3925.000000\n",
            "Discounted Cash Price        3925.000000\n",
            "Minimum Negotiated Charge     431.142905\n",
            "Maximum Negotiated Charge    4086.731300\n",
            "dtype: float64 \n",
            "\n",
            "Mode is:\n",
            "  Gross Charges                  122.0\n",
            "Discounted Cash Price          122.0\n",
            "Minimum Negotiated Charge     2412.0\n",
            "Maximum Negotiated Charge    11924.0\n",
            "Name: 0, dtype: float64 \n",
            "\n",
            "Range is:\n",
            " Gross Charges                2.538979e+06\n",
            "Discounted Cash Price        2.538979e+06\n",
            "Minimum Negotiated Charge    2.048607e+05\n",
            "Maximum Negotiated Charge    1.713459e+06\n",
            "dtype: float64 \n",
            "\n",
            "Variance is:\n",
            " Gross Charges                1.128531e+10\n",
            "Discounted Cash Price        1.128531e+10\n",
            "Minimum Negotiated Charge    3.618273e+07\n",
            "Maximum Negotiated Charge    5.092106e+09\n",
            "dtype: float64 \n",
            "\n",
            "Standard Deviation is:\n",
            " Gross Charges                106232.356020\n",
            "Discounted Cash Price        106232.356020\n",
            "Minimum Negotiated Charge      6015.208411\n",
            "Maximum Negotiated Charge     71358.992536\n",
            "dtype: float64\n"
          ]
        }
      ]
    },
    {
      "cell_type": "code",
      "source": [
        "# Remove outliers by only allowing data within 3 standard deviations\n",
        "df2_clean_outliers = df2_clean[df2_clean[['Gross Charges','Discounted Cash Price','Minimum Negotiated Charge','Maximum Negotiated Charge']]<= std_dev2*3]"
      ],
      "metadata": {
        "id": "ydmTLL95I7Q2"
      },
      "execution_count": 126,
      "outputs": []
    },
    {
      "cell_type": "code",
      "source": [
        "fig = go.Figure(data=[go.Histogram(x=df2_clean_outliers['Gross Charges'], histnorm='probability')])\n",
        "\n",
        "from IPython import display\n",
        "display.Image(\"/content/newplot.png\")"
      ],
      "metadata": {
        "colab": {
          "base_uri": "https://localhost:8080/",
          "height": 1000
        },
        "id": "nqdi3CidZPR2",
        "outputId": "9d222ee8-4b0d-4df8-95ac-546b98ffe210"
      },
      "execution_count": 151,
      "outputs": [
        {
          "output_type": "display_data",
          "data": {
            "text/html": [
              "<html>\n",
              "<head><meta charset=\"utf-8\" /></head>\n",
              "<body>\n",
              "    <div>            <script src=\"https://cdnjs.cloudflare.com/ajax/libs/mathjax/2.7.5/MathJax.js?config=TeX-AMS-MML_SVG\"></script><script type=\"text/javascript\">if (window.MathJax && window.MathJax.Hub && window.MathJax.Hub.Config) {window.MathJax.Hub.Config({SVG: {font: \"STIX-Web\"}});}</script>                <script type=\"text/javascript\">window.PlotlyConfig = {MathJaxConfig: 'local'};</script>\n",
              "        <script charset=\"utf-8\" src=\"https://cdn.plot.ly/plotly-2.24.1.min.js\"></script>                <div id=\"f2561dde-cd47-4dd2-ab12-e0f2693326c5\" class=\"plotly-graph-div\" style=\"height:525px; width:100%;\"></div>            <script type=\"text/javascript\">                                    window.PLOTLYENV=window.PLOTLYENV || {};                                    if (document.getElementById(\"f2561dde-cd47-4dd2-ab12-e0f2693326c5\")) {                    Plotly.newPlot(                        \"f2561dde-cd47-4dd2-ab12-e0f2693326c5\",                        [{\"histnorm\":\"probability\",\"x\":[866.0,358.0,1397.0,480.0,480.0,780.0,480.0,602.0,357.0,510.0,1366.0,1366.0,67.0,2.0,189.0,55.0,24.0,150.0,58.0,33.0,91.0,3.0,762.0,1245.0,412.0,221.0,108.0,40879.0,725.0,83.0,83.0,142.0,153.0,180.0,36.0,9322.0,28151.0,28151.0,3613.0,3938.0,2781.0,1470.0,2663.0,485.0,485.0,485.0,3888.0,970.0,585.0,970.0,132.0,2668.0,106.0,80.0,78.0,104.0,105.0,160.0,396.0,64.0,81.0,99.0,118.0,92.0,171.0,77.0,715.0,116.0,152.0,172.0,209.0,87.0,491.0,303.0,122.0,139.0,250.0,683.0,164.0,354.0,312.0,323.0,288.0,207.0,147.0,295.0,189.0,127.0,143.0,207.0,223.0,135.0,164.0,217.0,320.0,273.0,127.0,174.0,207.0,224.0,263.0,137.0,195.0,174.0,314.0,476.0,152.0,387.0,354.0,158.0,158.0,428.0,299.0,229.0,416.0,142.0,174.0,142.0,191.0,142.0,147.0,147.0,374.0,38.0,89.0,222.0,499.0,498.0,44.0,62.0,191.0,518.0,464.0,235.0,518.0,279.0,230.0,440.0,191.0,212.0,246.0,237.0,1532.0,122.0,38.0,87.0,175.0,455.0,245.0,170.0,266.0,145.0,335.0,149.0,122.0,88.0,249.0,53.0,54.0,174.0,54.0,266.0,487.0,324.0,85.0,312.0,147.0,227.0,647.0,55.0,163.0,250.0,383.0,124.0,570.0,150.0,542.0,62.0,71.0,70.0,79.0,168.0,67.0,270.0,524.0,338.0,469.0,393.0,393.0,305.0,364.0,82.0,87.0,56.0,200.0,200.0,65.0,104.0,125.0,181.0,292.0,210.0,400.0,239.0,221.0,436.0,162.0,631.0,180.0,812.0,307.0,417.0,393.0,351.0,357.0,206.0,411.0,331.0,212.0,373.0,181.0,319.0,195.0,827.0,240.0,331.0,233.0,269.0,71.0,91.0,500.0,203.0,34.0,401.0,250.0,323.0,59.0,47.0,39.0,78.0,114.0,38.0,360.0,103.0,46.0,519.0,147.0,138.0,257.0,237.0,223.0,127.0,434.0,197.0,230.0,147.0,186.0,233.0,74.0,119.0,893.0,89.0,57.0,498.0,416.0,334.0,195.0,258.0,221.0,518.0,461.0,358.0,164.0,219.0,88.0,97.0,239.0,308.0,116.0,161.0,185.0,266.0,117.0,123.0,128.0,207.0,180.0,234.0,216.0,129.0,111.0,162.0,374.0,1388.0,266.0,639.0,276.0,383.0,252.0,378.0,193.0,273.0,246.0,234.0,449.0,99.0,101.0,357.0,176.0,538.0,762.0,147.0,638.0,79.0,65.0,249.0,122.0,122.0,168.0,311.0,620.0,56.0,57.0,93.0,198.0,278.0,218.0,518.0,270.0,316.0,279.0,239.0,118.0,88.0,59.0,57.0,184.0,569.0,296.0,337.0,62.0,112.0,524.0,355.0,233.0,327.0,256.0,432.0,210.0,735.0,260.0,56.0,54.0,22.0,460.0,483.0,562.0,81.0,74.0,637.0,434.0,368.0,308.0,62.0,295.0,111.0,252.0,222.0,256.0,915.0,252.0,49.0,41.0,214.0,49.0,118.0,228.0,416.0,221.0,305.0,232.0,96.0,79.0,284.0,275.0,89.0,89.0,316.0,473.0,162.0,295.0,321.0,374.0,108.0,124.0,196.0,334.0,385.0,230.0,162.0,316.0,45.0,45.0,350.0,927.0,531.0,99.0,330.0,125.0,123.0,111.0,141.0,130.0,237.0,240.0,986.0,897.0,151.0,48.0,193.0,320.0,318.0,177.0,232.0,245.0,293.0,268.0,574.0,126.0,152.0,510.0,273.0,249.0,529.0,116.0,49.0,380.0,49.0,122.0,181.0,334.0,319.0,319.0,312.0,355.0,223.0,343.0,566.0,635.0,196.0,148.0,196.0,196.0,196.0,404.0,258.0,293.0,200.0,286.0,107.0,103.0,172.0,42.0,119.0,119.0,123.0,181.0,153.0,158.0,327.0,61.0,270.0,184.0,76.0,181.0,145.0,57.0,48.0,154.0,217.0,159.0,240.0,240.0,237.0,278.0,243.0,332.0,84.0,350.0,272.0,285.0,223.0,233.0,205.0,221.0,221.0,214.0,106.0,196.0,171.0,230.0,195.0,222.0,320.0,3883.0,226.0,137.0,243.0,123.0,265.0,187.0,227.0,227.0,168.0,161.0,147.0,184.0,254.0,281.0,252.0,89.0,445.0,204.0,122.0,122.0,350.0,243.0,290.0,286.0,265.0,1059.0,88.0,209.0,423.0,4188.0,233.0,487.0,487.0,93.0,760.0,760.0,760.0,29.0,438.0,69.0,92.0,82.0,214.0,37.0,37.0,38.0,59.0,127.0,192.0,65.0,191.0,26.0,64.0,64.0,38.0,127.0,446.0,61.0,25.0,34.0,21.0,81.0,62.0,46.0,79.0,80.0,102.0,46.0,337.0,371.0,371.0,371.0,353.0,495.0,411.0,457.0,371.0,371.0,371.0,371.0,276.0,286.0,312.0,379.0,268.0,355.0,460.0,334.0,424.0,446.0,348.0,38.0,239.0,228.0,150.0,74.0,135.0,147.0,530.0,289.0,200.0,348.0,59.0,44.0,108.0,990.0,134.0,181.0,272.0,404.0,84.0,361.0,78.0,335.0,56.0,255.0,197.0,222.0,62.0,78.0,127.0,228.0,90.0,337.0,173.0,1100.0,57.0,181.0,141.0,43.0,166.0,206.0,166.0,187.0,112.0,112.0,112.0,129.0,37.0,206.0,214.0,127.0,112.0,112.0,301.0,281.0,188.0,107.0,162.0,44.0,117.0,243.0,776.0,137.0,137.0,85.0,44.0,162.0,95.0,101.0,36.0,239.0,464.0,113.0,67.0,464.0,137.0,65.0,143.0,102.0,101.0,112.0,406.0,162.0,406.0,323.0,222.0,250.0,91.0,508.0,193.0,285.0,187.0,197.0,279.0,171.0,103.0,230.0,392.0,319.0,227.0,87.0,287.0,207.0,206.0,221.0,533.0,776.0,334.0,146.0,880.0,849.0,776.0,267.0,702.0,477.0,885.0,828.0,320.0,161.0,771.0,146.0,116.0,383.0,774.0,656.0,339.0,339.0,690.0,852.0,395.0,278.0,1002.0,776.0,287.0,227.0,222.0,734.0,1747.0,2816.0,318.0,315.0,828.0,89.0,112.0,146.0,853.0,333.0,1109.0,954.0,221.0,97.0,113.0,286.0,1286.0,1479.0,961.0,1100.0,2935.0,1335.0,7842.0,97.0,79.0,61.0,60.0,143.0,65.0,41.0,131.0,193.0,315.0,61.0,978.0,1129.0,823.0,1201.0,668.0,1245.0,889.0,601.0,601.0,334.0,3151.0,668.0,1244.0,702.0,432.0,1935.0,614.0,1719.0,777.0,4669.0,777.0,777.0,777.0,780.0,601.0,780.0,491.0,491.0,260.0,1134.0,696.0,777.0,1667.0,714.0,274.0,156.0,669.0,1503.0,587.0,2600.0,1695.0,1201.0,1618.0,2066.0,788.0,1674.0,1004.0,1453.0,1198.0,440.0,1267.0,239.0,401.0,823.0,807.0,491.0,668.0,1473.0,900.0,668.0,1502.0,949.0,668.0,1370.0,1058.0,587.0,533.0,668.0,1296.0,1205.0,1168.0,1504.0,1372.0,1295.0,1473.0,904.0,1296.0,668.0,395.0,1335.0,207.0,777.0,1379.0,2456.0,228.0,566.0,610.0,1004.0,387.0,823.0,777.0,1015.0,865.0,393.0,777.0,1667.0,900.0,788.0,654.0,974.0,3235.0,2427.0,2001.0,2401.0,668.0,6004.0,668.0,6934.0,3852.0,7704.0,3852.0,7396.0,2312.0,9532.0,10889.0,2001.0,4612.0,11129.0,2312.0,2312.0,6934.0,2668.0,253.0,201.0,302.0,261.0,68.0,390.0,208.0,175.0,114.0,87.0,389.0,368.0,2080.0,1191.0,309.0,609.0,580.0,454.0,660.0,369.0,439.0,475.0,399.0,674.0,288.0,22.0,13.0,181.0,201.0,249.0,105.0,158.0,102.0,265.0,392.0,186.0,78.0,280.0,176.0,758.0,758.0,395.0,342.0,615.0,729.0,699.0,3012.0,701.0,88.0,844.0,1027.0,660.0,839.0,704.0,308.0,439.0,563.0,486.0,284.0,439.0,237.0,131.0,70.0,119.0,205.0,726.0,362.0,512.0,647.0,119.0,3938.0,3613.0,1356.0,480.0,332.0,385.0,726.0,234.0,674.0,638.0,898.0,549.0,365.0,726.0,365.0,529.0,541.0,784.0,885.0,385.0,605.0,618.0,904.0,656.0,862.0,841.0,827.0,485.0,532.0,631.0,948.0,958.0,559.0,688.0,713.0,784.0,799.0,990.0,950.0,562.0,861.0,926.0,446.0,487.0,320.0,559.0,683.0,2565.0,1447.0,1602.0,2781.0,6139.0,3227.0,911.0,310.0,573.0,770.0,925.0,549.0,403.0,544.0,520.0,508.0,925.0,836.0,589.0,853.0,616.0,731.0,910.0,818.0,861.0,994.0,1129.0,180.0,466.0,604.0,1012.0,1216.0,301.0,442.0,723.0,937.0,965.0,962.0,1054.0,928.0,285.0,427.0,310.0,448.0,1266.0,701.0,950.0,864.0,1171.0,1214.0,1441.0,1878.0,649.0,1100.0,2439.0,1678.0,1366.0,1386.0,1506.0,784.0,1101.0,337.0,2435.0,2435.0,1307.0,823.0,604.0,932.0,1857.0,826.0,1235.0,1642.0,1737.0,954.0,1706.0,1154.0,1489.0,1259.0,2059.0,4666.0,1323.0,843.0,8311.0,7407.0,4816.0,4907.0,1372.0,2032.0,4167.0,4610.0,1132.0,4540.0,2831.0,8804.0,4998.0,6918.0,8971.0,11515.0,19703.0,4946.0,2692.0,2497.0,5105.0,3188.0,9197.0,4980.0,8173.0,10950.0,3234.0,1163.0,1163.0,6292.0,10410.0,1290.0,2861.0,3508.0,680.0,1142.0,181.0,847.0,1330.0,1363.0,1142.0,1468.0,1440.0,1440.0,1506.0,1243.0,980.0,466.0,486.0,916.0,969.0,1904.0,688.0,690.0,1257.0,666.0,261.0,1363.0,1356.0,1983.0,9258.0,10456.0,11556.0,11563.0,6923.0,9126.0,8428.0,5366.0,805.0,1011.0,549.0,529.0,481.0,541.0,1077.0,142.0,1161.0,1161.0,1161.0,614.0,889.0,1769.0,1008.0,26621.0,4793.0,1871.0,3565.0,4916.0,6893.0,3565.0,11738.0,1297.0,15017.0,7307.0,9898.0,7307.0,8304.0,9898.0,3026.0,1330.0,1778.0,2184.0,3074.0,1709.0,9218.0,2051.0,30412.0,33453.0,12561.0,4095.0,5119.0,1203.0,87.0,1456.0,1601.0,2059.0,954.0,26465.0,6119.0,1234.0,3345.0,3483.0,4970.0,6645.0,7781.0,9966.0,11670.0,12885.0,10049.0,956.0,735.0,4993.0,1161.0,720.0,1410.0,784.0,1303.0,1463.0,861.0,326.0,873.0,927.0,1208.0,1956.0,2459.0,2945.0,1065.0,2472.0,2472.0,2472.0,4829.0,1097.0,1932.0,2549.0,1806.0,5556.0,1940.0,1808.0,2196.0,2063.0,2108.0,1806.0,2536.0,2710.0,950.0,2644.0,3171.0,1204.0,1561.0,1839.0,2094.0,587.0,1956.0,1806.0,1169.0,2879.0,1218.0,1581.0,1511.0,1808.0,2208.0,1044.0,1208.0,1626.0,2518.0,2022.0,3325.0,3926.0,1234.0,1645.0,8581.0,1806.0,2410.0,3010.0,1645.0,5707.0,8581.0,3591.0,1616.0,2541.0,4061.0,3099.0,4056.0,1337.0,1504.0,8581.0,1445.0,2854.0,1146.0,2710.0,3149.0,1808.0,791.0,3217.0,2958.0,910.0,2261.0,1057.0,2124.0,1686.0,4738.0,4708.0,4904.0,5552.0,5552.0,5552.0,2776.0,532.0,3012.0,3615.0,3615.0,1174.0,1651.0,288.0,100.0,174.0,5174.0,785.0,187.0,49.0,339.0,4718.0,107.0,234.0,170.0,174.0,510.0,404.0,340.0,6155.0,3362.0,1124.0,198.0,891.0,149.0,4584.0,201.0,637.0,1041.0,510.0,5519.0,14204.0,295.0,8065.0,8405.0,276.0,1575.0,43.0,14.0,104999.0,6154.0,508.0,79.0,1307.0,1350.0,646.0,1504.0,1743.0,2260.0,4276.0,2260.0,216.0,108.0,216.0,108.0,322.0,322.0,322.0,322.0,322.0,322.0,322.0,322.0,322.0,2241.0,2739.0,3306.0,2448.0,2723.0,3428.0,2261.0,2825.0,3392.0,1846.0,2435.0,3079.0,2178.0,2178.0,3238.0,1659.0,3157.0,3636.0,655.0,4363.0,1493.0,1593.0,2184.0,1884.0,3429.0,4044.0,2506.0,2689.0,2973.0,2305.0,1884.0,2034.0,2865.0,2121.0,2653.0,3315.0,5972.0,2822.0,3530.0,4412.0,5296.0,1882.0,2352.0,2965.0,3520.0,2936.0,2545.0,3049.0,4374.0,2715.0,2715.0,950.0,1395.0,1395.0,1169.0,1891.0,1026.0,777.0,1510.0,1510.0,777.0,1510.0,1510.0,11171.0,15587.0,24742.0,16529.0,9741.0,34782.0,21949.0,26786.0,22470.0,24263.0,24277.0,29304.0,15385.0,19838.0,23745.0,26835.0,23154.0,20862.0,23404.0,17859.0,20275.0,14610.0,19639.0,20416.0,21690.0,22639.0,18049.0,21335.0,21507.0,21360.0,21382.0,27545.0,24643.0,20704.0,23346.0,23829.0,25461.0,23078.0,20297.0,23467.0,23330.0,20489.0,27653.0,26982.0,29501.0,30287.0,25077.0,24046.0,48998.0,36945.0,28961.0,30507.0,37155.0,32124.0,42084.0,18075.0,27520.0,23669.0,22432.0,21649.0,18877.0,31620.0,21859.0,37789.0,36790.0,31301.0,32316.0,15271.0,26512.0,17509.0,22908.0,26215.0,16751.0,20428.0,18752.0,33335.0,40317.0,34425.0,21260.0,28258.0,34499.0,1324.0,25760.0,73325.0,26426.0,24942.0,24102.0,37317.0,22123.0,27573.0,25672.0,31592.0,26475.0,26523.0,26494.0,26242.0,36059.0,22930.0,21853.0,61540.0,36898.0,34945.0,23348.0,28975.0,36674.0,31057.0,59271.0,41069.0,21803.0,32685.0,40808.0,26051.0,26276.0,18544.0,26026.0,19776.0,20314.0,38282.0,23563.0,28178.0,28148.0,16040.0,15283.0,40288.0,27741.0,20438.0,18304.0,11151.0,13299.0,19228.0,21555.0,25561.0,7556.0,8128.0,29418.0,29435.0,42195.0,62361.0,59179.0,48347.0,31934.0,38915.0,31947.0,30372.0,28729.0,52130.0,40280.0,27426.0,38210.0,43355.0,32556.0,30374.0,18421.0,19381.0,25800.0,24690.0,15313.0,16465.0,16414.0,29309.0,35088.0,10344.0,19854.0,19036.0,18272.0,10736.0,10515.0,14402.0,14405.0,21210.0,13431.0,30958.0,27469.0,28379.0,23726.0,53079.0,30567.0,37620.0,19623.0,26453.0,23734.0,22581.0,32674.0,31323.0,25446.0,26471.0,30467.0,44631.0,28256.0,31317.0,34283.0,32575.0,39929.0,31911.0,65072.0,49910.0,84629.0,42496.0,63783.0,64583.0,38009.0,64799.0,68904.0,82161.0,59131.0,50866.0,71157.0,52585.0,30082.0,41117.0,45866.0,35268.0,17933.0,19083.0,41390.0,38424.0,34168.0,20905.0,17469.0,25973.0,36291.0,35290.0,39268.0,33134.0,29801.0,84534.0,48128.0,51012.0,22429.0,42019.0,25190.0,27615.0,31025.0,20338.0,24155.0,25363.0,28011.0,17771.0,23633.0,21924.0,20642.0,21604.0,20414.0,27042.0,33630.0,141748.0,13244.0,49903.0,39373.0,31382.0,67703.0,126543.0,100831.0,41018.0,38104.0,53882.0,57858.0,74991.0,100479.0,73800.0,53759.0,29193.0,11980.0,21380.0,22840.0,27194.0,10798.0,22852.0,21309.0,25286.0,29961.0,47750.0,18324.0,52912.0,28024.0,29298.0,40387.0,53751.0,27808.0,56379.0,38047.0,64080.0,63664.0,59663.0,64913.0,41517.0,40758.0,50055.0,50570.0,37094.0,47815.0,43238.0,27688.0,24890.0,22416.0,22809.0,19100.0,20627.0,61619.0,19203.0,28676.0,14796.0,23452.0,35331.0,32032.0,28326.0,30501.0,29791.0,13510.0,17884.0,26284.0,81062.0,46969.0,58869.0,2366.0,54815.0,31575.0,30251.0,53503.0,69673.0,42213.0,23333.0,39533.0,30176.0,46449.0,34416.0,33212.0,63130.0,17760.0,42619.0,18622.0,18625.0,22427.0,20820.0,41274.0,23448.0,24476.0,20120.0,15339.0,12047.0,22540.0,19177.0,19836.0,38901.0,27924.0,24540.0,14194.0,27225.0,22904.0,30476.0,33975.0,23478.0,28007.0,42550.0,29622.0,32120.0,29045.0,29146.0,28529.0,38844.0,37487.0,58148.0,23005.0,36318.0,34570.0,39656.0,35439.0,37685.0,22585.0,3075.0,21035.0,21036.0,17405.0,17930.0,18907.0,20652.0,29042.0,22518.0,24828.0,23487.0,20490.0,18579.0,19313.0,18551.0,22284.0,23659.0,23095.0,30083.0,27095.0,42674.0,37149.0,23681.0,22368.0,22150.0,22448.0,30359.0,20245.0,20726.0,23785.0,19158.0,45846.0,21438.0,32559.0,30355.0,28332.0,16895.0,24383.0,34466.0,28386.0,25005.0,21890.0,37185.0,32995.0,39626.0,32887.0,28376.0,31183.0,23448.0,21759.0,22017.0,28418.0,25445.0,22285.0,30404.0,23415.0,24599.0,27424.0,39473.0,28332.0,31741.0,24538.0,14992.0,21404.0,20612.0,19765.0,21944.0,26378.0,39572.0,22562.0,10781.0,59640.0,60751.0,76578.0,46954.0,29516.0,45133.0,31942.0,34237.0,59645.0,52090.0,15094.0,28578.0,17984.0,28002.0,32035.0,24824.0,24967.0,35982.0,37664.0,40332.0,37002.0,31716.0,35127.0,55048.0,32323.0,53237.0,55898.0,42317.0,59450.0,51137.0,51214.0,46338.0,38423.0,47162.0,47598.0,56157.0,32604.0,40313.0,36446.0,62951.0,25937.0,48392.0,75725.0,39571.0,16851.0,62170.0,9224.0,34175.0,24866.0,28526.0,17697.0,43957.0,24113.0,24369.0,23065.0,28187.0,25810.0,20717.0,26047.0,41413.0,23004.0,28090.0,34853.0,38255.0,27644.0,28179.0,24862.0,30206.0,30038.0,36397.0,39857.0,77404.0,56638.0,25599.0,49708.0,44230.0,44461.0,45232.0,39343.0,38851.0,44599.0,50811.0,54456.0,37827.0,45425.0,45637.0,65917.0,41038.0,22432.0,25413.0,25320.0,17400.0,23538.0,22769.0,22310.0,22084.0,27416.0,40872.0,24223.0,33518.0,25258.0,26945.0,23315.0,28276.0,37256.0,19694.0,18287.0,39091.0,54541.0,25085.0,18451.0,28347.0,39362.0,25517.0,40614.0,22724.0,35975.0,32844.0,47850.0,35006.0,43499.0,63941.0,22577.0,19288.0,35256.0,34297.0,40818.0,29954.0,64887.0,49164.0,43205.0,31607.0,36596.0,25568.0,34660.0,968.0,21885.0,56321.0,71558.0,48229.0,48590.0,40661.0,39791.0,28869.0,20418.0,26717.0,22387.0,20065.0,26633.0,24181.0,23428.0,31047.0,33737.0,39238.0,33317.0,21067.0,26698.0,25632.0,27696.0,23756.0,37293.0,35704.0,24943.0,29931.0,33881.0,22351.0,27263.0,19609.0,41272.0,30126.0,28160.0,57159.0,52688.0,63820.0,27985.0,29889.0,33794.0,28829.0,30215.0,37626.0,31440.0,37276.0,24596.0,26461.0,41746.0,50831.0,30245.0,42421.0,31989.0,48704.0,61136.0,35373.0,31174.0,26005.0,19334.0,40168.0,33900.0,61768.0,64524.0,60634.0,35536.0,17058.0,26922.0,22261.0,26504.0,32551.0,71799.0,25417.0,17932.0,40136.0,41772.0,39499.0,34834.0,24295.0,43334.0,20142.0,40458.0,24060.0,43834.0,34870.0,22054.0,17146.0,24923.0,31663.0,30871.0,36685.0,41850.0,35278.0,37798.0,39128.0,43709.0,46041.0,41396.0,46831.0,55520.0,42212.0,37265.0,29240.0,23121.0,23793.0,30069.0,25888.0,28609.0,24426.0,24863.0,25321.0,29659.0,25107.0,22405.0,23609.0,27718.0,21069.0,23409.0,23113.0,32493.0,44058.0,29069.0,28003.0,27325.0,18975.0,20817.0,42973.0,18824.0,23091.0,45953.0,22018.0,30866.0,24702.0,32957.0,30944.0,31907.0,33531.0,36525.0,29950.0,12756.0,22507.0,23354.0,26007.0,22478.0,33968.0,17391.0,15393.0,16369.0,3442.0,9218.0,14374.0,12055.0,14199.0,16498.0,11606.0,30989.0,60427.0,72376.0,43840.0,21678.0,53309.0,28080.0,38911.0,31089.0,25908.0,23512.0,70541.0,72795.0,72134.0,57918.0,55045.0,62728.0,48984.0,41663.0,93374.0,55096.0,57904.0,80676.0,25705.0,27919.0,76343.0,128043.0,89947.0,97930.0,107335.0,138988.0,78018.0,35688.0,31834.0,81588.0,103346.0,125104.0,44371.0,188799.0,58335.0,145389.0,136552.0,34781.0,111589.0,95209.0,45981.0,29101.0,23786.0,33517.0,25712.0,17716.0,32197.0,50306.0,27621.0,37596.0,32331.0,19224.0,19180.0,42272.0,26059.0,48619.0,37995.0,55616.0,25911.0,34306.0,27912.0,10767.0,25198.0,18253.0,35060.0,28754.0,27827.0,32466.0,21435.0,3984.0,16466.0,29498.0,14380.0,2001.0,24084.0,31053.0,19983.0,11459.0,15079.0,1915.0,17684.0,12544.0,26479.0,35795.0,27353.0,30345.0,31970.0,35484.0,42226.0,31001.0,34993.0,36542.0,17561.0,17935.0,26902.0,57430.0,28699.0,38160.0,27345.0,57891.0,21875.0,21108.0,1080.0,14049.0,27433.0,64168.0,32414.0,60057.0,54568.0,65485.0,68103.0,71385.0,51934.0,61967.0,45549.0,63864.0,54497.0,49106.0,29177.0,65733.0,41799.0,34440.0,33294.0,37669.0,45769.0,28902.0,21536.0,29145.0,23592.0,23125.0,25460.0,7526.0,32142.0,25125.0,24508.0,62466.0,12727.0,50999.0,31984.0,13142.0,29398.0,24623.0,47682.0,26559.0,39648.0,49748.0,43570.0,71652.0,47015.0,35737.0,28186.0,28321.0,49035.0,33759.0,32931.0,39178.0,45974.0,59207.0,32171.0,17875.0,23418.0,26098.0,30258.0,35449.0,63063.0,15467.0,33326.0,32603.0,23895.0,86538.0,17448.0,60414.0,21936.0,23477.0,32552.0,18184.0,32046.0,47058.0,33717.0,47741.0,16949.0,24243.0,32091.0,32103.0,29476.0,39326.0,30508.0,22474.0,39680.0,48197.0,21028.0,31788.0,34395.0,48124.0,82246.0,16395.0,27925.0,21104.0,25401.0,30235.0,37235.0,44758.0,51668.0,46750.0,36121.0,21671.0,28116.0,23899.0,24827.0,25494.0,30100.0,41885.0,40985.0,27597.0,29723.0,23024.0,24615.0,22554.0,24349.0,20918.0,24148.0,23922.0,28146.0,26653.0,15288.0,27722.0,35509.0,26720.0,23136.0,25221.0,12966.0,20160.0,16048.0,24097.0,26775.0,14621.0,20308.0,22504.0,21273.0,17523.0,13548.0,17997.0,14616.0,17497.0,13678.0,30336.0,14868.0,21079.0,15038.0,13696.0,16934.0,15128.0,17371.0,14923.0,16785.0,14265.0,15746.0,17335.0,18547.0,17605.0,14196.0,19772.0,13445.0,20810.0,23834.0,20480.0,20321.0,33713.0,23693.0,19082.0,30031.0,25066.0,17963.0,25003.0,20420.0,21717.0,35239.0,45343.0,44305.0,44144.0,61455.0,25351.0,29843.0,11688.0,27129.0,19409.0,5984.0,39714.0,86208.0,65627.0,44390.0,9732.0,28461.0,35526.0,80490.0,24537.0,28162.0,22351.0,41023.0,42063.0,41235.0,36800.0,45708.0,53624.0,13634.0,14161.0,12102.0,13974.0,15351.0,31885.0,14120.0,14939.0,17462.0,13406.0,16952.0,11196.0,15398.0,14050.0,15478.0,14547.0,12839.0,24510.0,22553.0,1465.0,33339.0,35836.0,17956.0,47483.0,38910.0,22485.0,19671.0,21738.0,19851.0,24806.0,26186.0,25953.0,26723.0,28912.0,14484.0,13052.0,18397.0,20309.0,19943.0,14321.0,16250.0,13698.0,18045.0,18573.0,25038.0,17895.0,12635.0,12642.0,12595.0,13894.0,15913.0,15457.0,14605.0,13860.0,15832.0,15360.0,21118.0,17524.0,14509.0,14441.0,13742.0,19512.0,42723.0,26448.0,31214.0,23152.0,2004.0,18968.0,16709.0,25522.0,22578.0,18189.0,20496.0,21688.0,30466.0,26659.0,24833.0,24010.0,20120.0,22421.0,49758.0,22958.0,19462.0,21596.0,22612.0,23975.0,24597.0,28708.0,21012.0,21765.0,19688.0,23686.0,22862.0,19579.0,20063.0,25476.0,14354.0,17593.0,21449.0,25693.0,21208.0,67638.0,20342.0,22274.0,24840.0,26716.0,21068.0,6396.0,21198.0,21425.0,24005.0,24461.0,24793.0,23780.0,25862.0,20438.0,16844.0,29843.0,31627.0,35602.0,23200.0,12538.0,20673.0,30060.0,15812.0,16359.0,13444.0,20251.0,58693.0,23426.0,33981.0,39961.0,32564.0,41195.0,26345.0,29921.0,12443.0,16123.0,13726.0,19913.0,57769.0,25280.0,31049.0,34133.0,38835.0,27214.0,34176.0,40250.0,13366.0,15030.0,17182.0,25060.0,23135.0,12502.0,11101.0,43228.0,20119.0,11333.0,12512.0,12551.0,14365.0,13512.0,10699.0,38033.0,25090.0,23357.0,17686.0,27353.0,28774.0,28463.0,35027.0,28296.0,23333.0,21490.0,31538.0,33468.0,32534.0,37981.0,21306.0,20368.0,21984.0,25091.0,22027.0,31764.0,33079.0,35214.0,41205.0,39334.0,42922.0,38522.0,49234.0,39164.0,47683.0,23918.0,39321.0,31231.0,18844.0,28629.0,13579.0,12072.0,15970.0,93679.0,2035.0,13091.0,16368.0,26193.0,21072.0,16303.0,50378.0,57407.0,58768.0,35848.0,34302.0,14713.0,20503.0,29964.0,30497.0,25044.0,44061.0,19097.0,22231.0,19838.0,19104.0,31507.0,12568.0,3314.0,22545.0,9971.0,10875.0,26331.0,57383.0,15913.0,13989.0,29973.0,25961.0,19765.0,17294.0,19987.0,20123.0,22076.0,23703.0,21824.0,22297.0,17774.0,20017.0,18423.0,22592.0,21138.0,16592.0,29979.0,23460.0,23253.0,26984.0,36785.0,20848.0,26042.0,25279.0,20498.0,18807.0,18678.0,22785.0,21553.0,21848.0,23440.0,24014.0,24108.0,42869.0,65635.0,20382.0,25626.0,26248.0,18229.0,40781.0,23231.0,29122.0,30575.0,31090.0,28022.0,52147.0,19918.0,19888.0,38952.0,54930.0,59337.0,49666.0,50495.0,84500.0,79128.0,44366.0,80695.0,63703.0,17835.0,18980.0,18573.0,45527.0,23494.0,17961.0,15855.0,23369.0,23272.0,22095.0,23141.0,18008.0,28913.0,37451.0,45475.0,38532.0,54044.0,41980.0,32837.0,25307.0,44859.0,37948.0,44764.0,18056.0,37601.0,29043.0,69103.0,28276.0,52467.0,57457.0,36651.0,42272.0,21220.0,28984.0,37749.0,31113.0,22852.0,19780.0,25324.0,36442.0,36034.0,28777.0,37298.0,24415.0,31872.0,28413.0,25794.0,18035.0,41070.0,37005.0,21687.0,33865.0,18261.0,36030.0,54586.0,27464.0,20626.0,31092.0,26834.0,21985.0,34619.0,15119.0,28292.0,53782.0,50979.0,20015.0,30540.0,20930.0,24204.0,31744.0,35056.0,16678.0,23583.0,20771.0,20435.0,18140.0,32171.0,26010.0,20577.0,23768.0,22260.0,21518.0,20101.0,29241.0,18073.0,29434.0,22923.0,26496.0,25369.0,32752.0,36843.0,24048.0,21882.0,19886.0,20334.0,46497.0,36509.0,32765.0,38979.0,39978.0,47340.0,29784.0,30004.0,25509.0,23693.0,26404.0,41465.0,23682.0,27109.0,23547.0,18015.0,25292.0,66317.0,46592.0,19914.0,28013.0,21375.0,21044.0,23053.0,23390.0,24621.0,22903.0,20131.0,40407.0,26035.0,30621.0,18237.0,24457.0,29489.0,71019.0,44514.0,48851.0,45660.0,48048.0,25762.0,35148.0,47474.0,24485.0,26887.0,17992.0,30089.0,49227.0,65917.0,51661.0,49834.0,51642.0,55973.0,53163.0,52416.0,24437.0,25255.0,22158.0,27688.0,30097.0,21404.0,32763.0,46758.0,46812.0,46638.0,48206.0,53546.0,41119.0,22743.0,27248.0,33605.0,38964.0,26946.0,26568.0,47579.0,34032.0,29055.0,13926.0,29583.0,13982.0,14038.0,33818.0,38279.0,36190.0,25893.0,23065.0,26226.0,10095.0,28639.0,22199.0,18398.0,21384.0,19951.0,21410.0,32705.0,14218.0,17935.0,20289.0,23104.0,44245.0,39262.0,38637.0,41114.0,43998.0,40005.0,43585.0,41266.0,35418.0,32619.0,22632.0,39376.0,39825.0,42834.0,47771.0,30208.0,15400.0,18627.0,36138.0,26259.0,5949.0,6057.0,54149.0,43787.0,27365.0,50775.0,52940.0,9920.0,29085.0,181987.0,42458.0,31439.0,75338.0,94893.0,38915.0,99183.0,102425.0,104590.0,31478.0,40532.0,30826.0,2409.0,27238.0,13436.0,21685.0,13348.0,16158.0,14943.0,29493.0,15336.0,11821.0,12888.0,11598.0,16688.0,13533.0,15967.0,13269.0,11434.0,73051.0,60963.0,46212.0,46981.0,38699.0,53506.0,43956.0,37296.0,41016.0,46908.0,43695.0,45026.0,28388.0,58709.0,53761.0,42010.0,45221.0,48663.0,77556.0,33181.0,32864.0,119310.0,58906.0,16199.0,1924.0,36096.0,27894.0,11036.0,17730.0,15339.0,48294.0,13671.0,14077.0,13054.0,11320.0,9758.0,40030.0,10214.0,11808.0,13797.0,46754.0,15910.0,33703.0,35480.0,44231.0,129768.0,61387.0,53160.0,109810.0,28952.0,32448.0,61697.0,24554.0,21827.0,21188.0,15215.0,988.0,27137.0,26286.0,15583.0,22714.0,35625.0,19404.0,16927.0,16756.0,20830.0,20727.0,23588.0,25965.0,22636.0,20046.0,16818.0,40868.0,53119.0,25971.0,38873.0,27414.0,26264.0,19779.0,40150.0,21308.0,48155.0,22095.0,42712.0,41858.0,34355.0,35666.0,42286.0,51021.0,36589.0,50740.0,24087.0,38334.0,39202.0,14668.0,17365.0,28027.0,63035.0,55705.0,33196.0,25729.0,23151.0,15285.0,24031.0,37121.0,43991.0,45280.0,47075.0,40880.0,17868.0,20790.0,61288.0,20550.0,25259.0,23859.0,18902.0,22120.0,19530.0,23279.0,26451.0,19896.0,27614.0,26221.0,28711.0,20622.0,17577.0,17340.0,15993.0,19229.0,40597.0,18659.0,27578.0,26831.0,26631.0,105221.0,20743.0,22052.0,20399.0,31986.0,27887.0,23413.0,26538.0,28953.0,28594.0,28249.0,22305.0,30045.0,32722.0,94796.0,26754.0,30836.0,23545.0,26513.0,28908.0,30007.0,30488.0,34634.0,22723.0,18901.0,14878.0,58794.0,21462.0,56919.0,17287.0,21442.0,22436.0,67462.0,29328.0,26701.0,22743.0,26863.0,27436.0,26202.0,25572.0,38427.0,53406.0,47169.0,44017.0,40377.0,37287.0,24739.0,16294.0,19604.0,18110.0,18273.0,15916.0,18050.0,1381.0,21083.0,24579.0,22466.0,23787.0,27008.0,22377.0,20104.0,18370.0,18505.0,18488.0,24680.0,49050.0,19913.0,23540.0,21585.0,18101.0,21503.0,32001.0,26368.0,20485.0,22585.0,21485.0,22438.0,28850.0,23272.0,21324.0,25241.0,27412.0,31077.0,17000.0,25109.0,28155.0,23465.0,14366.0,19988.0,29762.0,25278.0,21691.0,24213.0,18246.0,19011.0,23732.0,31546.0,30482.0,34014.0,16073.0,21469.0,21639.0,14467.0,43838.0,35144.0,21638.0,20681.0,18186.0,19116.0,26620.0,69019.0,54124.0,22897.0,21140.0,37181.0,37187.0,37033.0,40053.0,35901.0,43415.0,41895.0,45053.0,53519.0,50177.0,35817.0,36564.0,28013.0,20448.0,26586.0,82083.0,44318.0,105737.0,34816.0,9520.0,6251.0,10451.0,4068.0,3826.0,1157.0,1142.0,17577.0,7330.0,6794.0,12995.0,9652.0,6915.0,16674.0,11496.0,20153.0,15217.0,6512.0,7409.0,6512.0,19888.0,64836.0,24129.0,20517.0,59052.0,51018.0,45951.0,50775.0,73811.0,44985.0,63225.0,60793.0,57144.0,65538.0,67882.0,48522.0,36199.0,36558.0,29592.0,50855.0,38059.0,45011.0,35519.0,43496.0,32518.0,35113.0,34117.0,34707.0,33367.0,59258.0,53220.0,37577.0,37885.0,31987.0,9425.0,34039.0,36627.0,18031.0,35268.0,23268.0,5594.0,24456.0,31828.0,42719.0,11555.0,12122.0,12242.0,10059.0,7986.0,16496.0,327.0,836.0,218.0,327.0,836.0,218.0,4984.0,3833.0,180.0,267.0,735.0,960.0,1473.0,889.0,671.0,49.0,671.0,1259.0,770.0,1147.0,894.0,1109.0,893.0,994.0,2640.0,2034.0,1620.0,1358.0,631.0,459.0,764.0,743.0,1280.0,524.0,557.0,348.0,980.0,990.0,404.0,709.0,518.0,557.0,557.0,2545.0,1750.0,1486.0,863.0,846.0,3282.0,968.0,614.0,1383.0,722.0,1458.0,940.0,584.0,1057.0,1057.0,813.0,1958.0,1296.0,1617.0,936.0,1428.0,1471.0,1055.0,3129.0,1132.0,524.0,1258.0,1258.0,1356.0,927.0,48103.0,4517.0,267.0,754.0,5552.0,5552.0,8660.0,10584.0,10584.0,2776.0,8743.0,8580.0,8581.0,7604.0,8173.0,10944.0,11195.0,333.0,232.0,1778.0,3382.0,2538.0,539.0,982.0,704.0,334.0,507.0,266.0,511.0,511.0,2538.0,341.0,507.0,372.0,256.0,239.0,249.0,2793.0,1595.0,324.0,778.0,288.0,368.0,394.0,84.0,214.0,200.0,164.0,160.0,205.0,201.0,246.0,186.0,177.0,158.0,366.0,366.0,517.0,366.0,276.0,249.0,249.0,366.0,172.0,254.0,197.0,351.0,274.0,743.0,309.0,185.0,274.0,274.0,258.0,200.0,657.0,723.0,796.0,368.0,137.0,270.0,274.0,455.0,657.0,723.0,796.0,368.0,582.0,461.0,720.0,720.0,720.0,720.0,638.0,470.0,529.0,907.0,956.0,483.0,185.0,616.0,573.0,405.0,972.0,627.0,401.0,1026.0,7977.0,1997.0,1361.0,1295.0,1617.0,2091.0,2752.0,4023.0,5924.0,378.0,797.0,1202.0,2118.0,303.0,333.0,1095.0,656.0,683.0,564.0,826.0,216.0,1220.0,411.0,1304.0,1563.0,1082.0,773.0,905.0,423.0,524.0,727.0,5587.0,185.0,295.0,106.0,320.0,711.0,180.0,327.0,419.0,631.0,419.0,411.0,447.0,447.0,354.0,389.0,295.0,226.0,582.0,276.0,212.0,631.0,517.0,726.0,487.0,636.0,711.0,711.0,1281.0,1281.0,3565.0,81642.0,63877.0,101500.0,2011.0,3693.0,3693.0,1577.0,1166.0,1891.0,4458.0,1938.0,42508.0,100610.0,59269.0,5042.0,4010.0,85435.0,32665.0,37111.0,25847.0,56307.0,49971.0,9748.0,9343.0,12047.0,16555.0,13881.0,11731.0,7955.0,3946.0,42637.0,53148.0,86755.0,100178.0,8608.0,115606.0,4950.0,51484.0,773.0,51722.0,74655.0,47656.0,95348.0,62775.0,51924.0,46819.0,41399.0,1954.0,2014.0,2840.0,1615.0,2011.0,1989.0,1561.0,1561.0,1561.0,620.0,380.0,2541.0,3075.0,500.0,2780.0,719.0,3534.0,211.0,609.0,481.0,347.0,503.0,595.0,720.0,861.0,655.0,962.0,720.0,700.0,889.0,254.0,460.0,460.0,597.0,307.0,254.0,1450.0,639.0,424.0,503.0,665.0,670.0,810.0,900.0,1117.0,810.0,910.0,920.0,937.0,972.0,1164.0,1388.0,630.0,923.0,1071.0,1235.0,6009.0,6009.0,947.0,1062.0,683.0,1047.0,1132.0,1413.0,569.0,639.0,4344.0,732.0,6353.0,609.0,512.0,217.0,665.0,270.0,318.0,1402.0,758.0,1262.0,254.0,1038.0,1779.0,1049.0,1768.0,1049.0,632.0,445.0,2780.0,728.0,4545.0,473.0,1397.0,1164.0,782.0,4911.0,5775.0,2346.0,5054.0,4848.0,11865.0,758.0,3741.0,2374.0,821.0,986.0,821.0,722.0,2141.0,3282.0,668.0,3282.0,1296.0,4659.0,2058.0,668.0,958.0,823.0,634.0,1705.0,740.0,491.0,1705.0,3213.0,771.0,875.0,492.0,670.0,737.0,771.0,702.0,1036.0,2526.0,668.0,2526.0,1117.0,1247.0,1355.0,750.0,986.0,753.0,722.0,2526.0,989.0,1516.0,2339.0,3217.0,886.0,4920.0,1071.0,1519.0,771.0,2526.0,2745.0,635.0,780.0,823.0,1573.0,1214.0,670.0,427.0,1400.0,1226.0,3787.0,5301.0,632.0,3585.0,4421.0,4040.0,4028.0,601.0,601.0,3018.0,3018.0,5039.0,2335.0,2388.0,2388.0,2539.0,1163.0,810.0,668.0,578.0,668.0,757.0,2054.0,2539.0,2054.0,1527.0,2286.0,2539.0,668.0,670.0,1168.0,821.0,3238.0,1240.0,6537.0,707.0,2539.0,2539.0,462.0,1385.0,821.0,986.0,520.0,988.0,657.0,718.0,494.0,316.0,434.0,668.0,722.0,307.0,460.0,226.0,305.0,532.0,563.0,1038.0,1036.0,715.0,1038.0,1036.0,1093.0,718.0,443.0,503.0,243.0,348.0,506.0,443.0,302.0,546.0,589.0,651.0,391.0,645.0,466.0,1101.0,586.0,797.0,609.0,4545.0,1262.0,2133.0,5025.0,4887.0,50.0,3984.0,4448.0,1589.0,671.0,1082.0,2346.0,2009.0,3788.0,796.0,763.0,1462.0,696.0,2346.0,2741.0,632.0,696.0,1665.0,1093.0,1398.0,3119.0,673.0,1016.0,4217.0,279.0,264.0,504.0,784.0,702.0,1011.0,993.0,993.0,1702.0,1702.0,517.0,517.0,1440.0,428.0,563.0,757.0,893.0,452.0,7103.0,473.0,7069.0,621.0,1215.0,6129.0,4545.0,238.0,332.0,5285.0,757.0,10889.0,2484.0,393.0,2779.0,953.0,4054.0,967.0,651.0,916.0,3561.0,2829.0,2829.0,1494.0,865.0,1818.0,673.0,417.0,6149.0,6468.0,368.0,417.0,821.0,2576.0,810.0,5537.0,758.0,373.0,344.0,500.0,500.0,191.0,362.0,117.0,301.0,301.0,191.0,417.0,821.0,726.0,478.0,478.0,266.0,285.0,285.0,226.0,250.0,285.0,285.0,708.0,711.0,631.0,74.0,266.0,150.0,1574.0,264.0,11.0,129.0,557.0,536.0,164.0,614.0,173.0,318.0,318.0,455.0,455.0,782.0,550.0,624.0,93.0,104.0,114.0,127.0,139.0,500.0,355.0,168.0,164.0,966.0,163.0,381.0,618.0,618.0,618.0,618.0,618.0,618.0,618.0,618.0,618.0,618.0,618.0,618.0,618.0,1262.0,263.0,139.0,618.0,618.0,618.0,618.0,618.0,618.0,618.0,500.0,500.0,500.0,500.0,618.0,500.0,500.0,229.0,483.0,470.0,106.0,500.0,631.0,116.0,26.0,289.0,266.0,133.0,500.0,500.0,302.0,151.0,183.0,500.0,500.0,500.0,92.0,135.0,135.0,401.0,401.0,270.0,401.0,401.0,270.0,270.0,322.0,270.0,270.0,324.0,78.0,45.0,78.0,142.0,156.0,78.0,110.0,130.0,164.0,237.0,972.0,401.0,142.0,156.0,379.0,486.0,274.0,274.0,355.0,355.0,355.0,355.0,355.0,355.0,578.0,289.0,289.0,58.0,97.0,58.0,116.0,116.0,58.0,58.0,58.0,116.0,116.0,149.0,58.0,324.0,324.0,589.0,589.0,589.0,578.0,116.0,116.0,116.0,116.0,231.0,116.0,116.0,116.0,231.0,919.0,231.0,231.0,231.0,347.0,462.0,156.0,156.0,156.0,156.0,156.0,156.0,156.0,156.0,156.0,568.0,324.0,239.0,217.0,152.0,197.0,217.0,217.0,164.0,164.0,122.0,58.0,135.0,87.0,541.0,221.0,221.0,607.0,221.0,221.0,103.0,103.0,103.0,295.0,295.0,295.0,561.0,64.0,324.0,432.0,486.0,491.0,432.0,541.0,648.0,757.0,1296.0,541.0,702.0,811.0,919.0,953.0,1143.0,1335.0,469.0,2553.0,2553.0,2553.0,2553.0,2553.0,1031.0,2553.0,2553.0,2553.0,2553.0,2808.0,1246.0,2553.0,2553.0,2553.0,2553.0,2553.0,2553.0,2553.0,2418.0,2418.0,2660.0,2808.0,2808.0,2846.0,2808.0,2808.0,2808.0,1993.0,1993.0,2553.0,2808.0,1470.0,2808.0,2553.0,864.0,295.0,324.0,280.0,173.0,358.0,595.0,648.0,785.0,864.0,785.0,589.0,324.0,156.0,237.0,1078.0,256.0,864.0,100.0,757.0,688.0,116.0,1275.0,2553.0,2553.0,2553.0,1275.0,648.0,219.0,219.0,219.0,87.0,568.0,217.0,197.0,648.0,648.0,589.0,981.0,1296.0,1943.0,2590.0,3238.0,884.0,884.0,589.0,2590.0,3238.0,3925.0,972.0,884.0,972.0,497.0,335.0,751.0,1618.0,1834.0,1961.0,688.0,746.0,508.0,491.0,630.0,792.0,344.0,681.0,1471.0,116.0,127.0,139.0,116.0,127.0,139.0,589.0,1080.0,295.0,620.0,1189.0,757.0,757.0,785.0,785.0,785.0,785.0,1178.0,1296.0,1471.0,1471.0,972.0,541.0,541.0,972.0,757.0,795.0,1471.0,1667.0,688.0,1080.0,1667.0,1834.0,919.0,774.0,670.0,884.0,1080.0,648.0,648.0,648.0,596.0,541.0,432.0,295.0,485.0,688.0,4534.0,4534.0,4710.0,4710.0,4534.0,4534.0,4534.0,4534.0,2460.0,2460.0,2957.0,3148.0,4121.0,4534.0,582.0,582.0,2576.0,2576.0,324.0,324.0,324.0,324.0,648.0,648.0,648.0,648.0,1296.0,1296.0,536.0,648.0,648.0,648.0,648.0,648.0,648.0,4710.0,4710.0,1189.0,1189.0,1080.0,1080.0,972.0,972.0,972.0,972.0,1080.0,1080.0,1080.0,1080.0,1618.0,1618.0,1618.0,1618.0,648.0,648.0,7555.0,1618.0,6868.0,6868.0,6868.0,6868.0,864.0,785.0,1.0,318.0,570.0,854.0,243.0,243.0,4696.0,4696.0,243.0,243.0,2135.0,243.0,243.0,243.0,243.0,243.0,243.0,4037.0,2135.0,2543.0,8635.0,7850.0,4319.0,3925.0,3925.0,3925.0,3925.0,7850.0,7850.0,3925.0,3925.0,3925.0,1471.0,1471.0,1471.0,1617.0,84.0,1471.0,1471.0,589.0,578.0,531.0,243.0,243.0,671.0,2590.0,1733.0,1571.0,1432.0,1361.0,1134.0,347.0,2158.0,2158.0,2158.0,3671.0,3671.0,3671.0,3671.0,3337.0,3337.0,3337.0,3671.0,3671.0,3337.0,3337.0,3671.0,3671.0,3337.0,3337.0,3337.0,3337.0,3337.0,3671.0,3337.0,864.0,864.0,2968.0,2968.0,2968.0,531.0,2864.0,2864.0,2864.0,481.0,688.0,393.0,393.0,3337.0,910.0,503.0,2864.0,2864.0,2864.0,1361.0,849.0,1536.0,1051.0,979.0,3350.0,3350.0,1458.0,1458.0,1693.0,1693.0,607.0,607.0,407.0,407.0,1431.0,1288.0,1317.0,1431.0,404.0,299.0,299.0,3337.0,1389.0,795.0,2553.0,2808.0,1423.0,1423.0,2553.0,2808.0,2135.0,1961.0,1535.0,2808.0,1608.0,1707.0,1707.0,1296.0,1402.0,3337.0,491.0,3337.0,3337.0,3337.0,3337.0,1371.0,1371.0,1371.0,1371.0,3337.0,3337.0,3337.0,3337.0,1371.0,1371.0,1371.0,1371.0,3337.0,3337.0,3337.0,2808.0,2418.0,2418.0,3337.0,2808.0,3130.0,2553.0,1535.0,2553.0,1134.0,1361.0,3337.0,1535.0,2553.0,2135.0,2135.0,3337.0,3337.0,3925.0,648.0,1471.0,1471.0,1275.0,1961.0,568.0,757.0,757.0,1402.0,1189.0,1402.0,1618.0,1719.0,1189.0,381.0,1471.0,1471.0,1080.0,854.0,972.0,491.0,295.0,757.0,596.0,681.0,295.0,712.0,1134.0,884.0,491.0,688.0,1485.0,287.0,287.0,757.0,702.0,1189.0,932.0,1961.0,2553.0,1402.0,801.0,1020.0,497.0,907.0,1134.0,927.0,1855.0,1080.0,2355.0,497.0,1133.0,816.0,1471.0,1471.0,1471.0,1080.0,2846.0,972.0,2944.0,854.0,4513.0,884.0,1471.0,2590.0,2355.0,5691.0,2135.0,6402.0,3925.0,3557.0,5439.0,3141.0,6764.0,3026.0,6764.0,2846.0,6764.0,2846.0,6764.0,6764.0,3026.0,2670.0,3026.0,7114.0,854.0,854.0,8537.0,4268.0,5123.0,3984.0,2314.0,14226.0,4268.0,9958.0,570.0,2314.0,3557.0,3557.0,5123.0,5123.0,5123.0,5123.0,1070.0,96.0,1031.0,1275.0,712.0,726.0,1514.0,508.0,38.0,3915.0,7114.0,10669.0,5691.0,5406.0,10669.0,14226.0,14226.0,17072.0,2355.0,2699.0,593.0,596.0,2314.0,1189.0,237.0,237.0,1080.0,1275.0,295.0,491.0,257.0,1864.0,2041.0,4053.0,1814.0,3557.0,2703.0,2784.0,2784.0,1134.0,681.0,4170.0,2721.0,3264.0,3740.0,4306.0,4306.0,4534.0,5668.0,4837.0,4837.0,4837.0,1361.0,1682.0,495.0,1140.0,949.0,96.0,681.0,347.0,462.0,462.0,116.0,116.0,116.0,116.0,231.0,231.0,1031.0,432.0,432.0,1.0,295.0,341.0,491.0,295.0,64.0,1399.0,539.0,589.0,308.0,1402.0,270.0,308.0,324.0,401.0,123.0,455.0,455.0,290.0,123.0,160.0,231.0,1.0,517.0,324.0,295.0,264.0,1766.0,238.0,238.0,238.0,238.0,627.0,1618.0,432.0,96.0,3774.0,3774.0,252.0,884.0,324.0,688.0,23.0,295.0,324.0,688.0,491.0,491.0,92.0,87.0,95.0,1961.0,390.0,618.0,618.0,618.0,9410.0,3012.0,3464.0,4203.0,5773.0,3464.0,4216.0,4517.0,4069.0,4596.0,6021.0,3464.0,4216.0,7284.0,4181.0,5227.0,6534.0,5798.0,4216.0,4517.0,3892.0,3952.0,4827.0,2646.0,3737.0,4517.0,4069.0,2035.0,3464.0,3773.0,5117.0,5488.0,3798.0,2286.0,927.0,2905.0,3508.0,3722.0,4137.0,5171.0,6204.0,4229.0,5262.0,1757.0,4647.0,5632.0,6998.0,1635.0,4647.0,6998.0,4445.0,5620.0,4191.0,5040.0,4624.0,4952.0,6768.0,7530.0,5662.0,4062.0,5683.0,5872.0,3542.0,4087.0,4761.0,5591.0,5872.0,5872.0,5872.0,5872.0,5948.0,2735.0,16799.0,2014.0,1450.0,931.0,1104.0,931.0,931.0,931.0,2035.0,568.0,288.0,312.0,312.0,312.0,312.0,931.0,1042.0,1567.0,391.0,1694.0,973.0,1227.0,1482.0,1736.0,1990.0,2244.0,2498.0,3176.0,3684.0,4193.0,4701.0,5209.0,5717.0,8833.0,8178.0,3657.0,3547.0,5392.0,9587.0,10375.0,1704.0,2054.0,1722.0,1547.0,1304.0,758.0,904.0,517.0,303.0,391.0,1561.0,1055.0,1296.0,1506.0,620.0,517.0,198.0,3547.0,19275.0,1464.0,210.0,297.0,297.0,7526.0,3676.0,1316.0,419.0,219.0,67.0,26.0,101.0,85.0,72.0,27.0,122.0,122.0,122.0,122.0,122.0,122.0,122.0,122.0,122.0,122.0,122.0,122.0,122.0,122.0,122.0,122.0,122.0,122.0,122.0,122.0,122.0,122.0,122.0,101.0,101.0,101.0,1578.0,1578.0,1578.0,1578.0,1578.0,1578.0,1578.0,185.0,3256.0,2960.0,670.0,1997.0,912.0,223.0,500.0,353.0,353.0,279.0,187.0,1181.0,131.0,2879.0,455.0,568.0,1105.0,309.0,414.0,414.0,517.0,414.0,517.0,919.0,459.0,483.0,148.0,289.0,1104.0,228.0,500.0,455.0,455.0,500.0,500.0,215.0,445.0,223.0,752.0,631.0,720.0,720.0,740.0,175.0,947.0,588.0,740.0,175.0,912.0,457.0,919.0,85.0,966.0,966.0,458.0,37147.0,1718.0,2554.0,1887.0,1894.0,1143.0,1122.0,1262.0,473.0,290.0,506.0,750.0,19008.0,620.0,762.0,762.0,680.0,1583.0,2487.0,3394.0,4298.0,5200.0,5421.0,1154.0,1223.0,510.0,445.0,140.0,210.0,6080.0,334.0,404.0,334.0,399.0,399.0,423.0,618.0,423.0,392.0,487.0,487.0,503.0,620.0,80.0,487.0,589.0,257.0,257.0,257.0,332.0,257.0,2063.0,1604.0,1719.0,762.0,956.0,1547.0,1509.0,1104.0,2296.0,2123.0,1752.0,1533.0,2352.0,1960.0,2183.0,1603.0,1601.0,861.0,1028.0,1874.0,1248.0,1170.0,1178.0,114.0,820.0,1884.0,968.0,1132.0,1247.0,452.0,543.0,579.0,455.0,534.0,368.0,544.0,368.0,2316.0,2316.0,828.0,1164.0,506.0,3455.0,1728.0,1262.0,541.0,330.0,313.0,156.0,83.0,117.0,1818.0,1232.0,630.0,4575.0,6024.0,2230.0,6608.0,10536.0,17828.0,12727.0,261.0,455.0,92.0,88.0,87.0,65.0,292.0,195.0,455.0,88.0,381.0,395.0,131.0,197.0,197.0,4450.0,11975.0,4450.0,725.0,850.0,950.0,1150.0,1400.0,1650.0,350.0,1875.0,2300.0,725.0,850.0,950.0,1150.0,1400.0,1650.0,350.0,2300.0,775.0,1200.0,1325.0,350.0,350.0,11975.0,725.0,725.0,350.0,350.0,11975.0,725.0,725.0,11975.0,800.0,850.0,7200.0,7700.0,800.0,850.0,9350.0,850.0,950.0,850.0,950.0,11975.0,725.0,850.0,800.0,1325.0,1750.0,2300.0,7200.0,725.0,850.0,350.0,350.0,4000.0,18925.0,11975.0,11975.0,20800.0,9350.0,4000.0,11975.0,11975.0,14400.0,14850.0,11975.0,14850.0,14850.0,11850.0,6600.0,11975.0,775.0,850.0,990.0,1050.0,1200.0,1325.0,1750.0,1875.0,2300.0,9375.0,2650.0,7200.0,9825.0,5975.0,11975.0,11975.0,7225.0,2650.0,2650.0,11975.0,14550.0,8025.0,8025.0,8025.0,9825.0,850.0,900.0,1100.0,1450.0,1925.0,2525.0,14850.0,15000.0,18925.0,25275.0,15000.0,8025.0,14850.0,11975.0,7100.0,25275.0,25275.0,25275.0,25275.0,12300.0,25275.0,20800.0,11975.0,18925.0,25275.0,11850.0,775.0,825.0,990.0,1325.0,1750.0,2300.0,9825.0,9825.0,14850.0,15600.0,20800.0,25275.0,9224.0,1537.0,2.0,2.0,586.0,18061.0,13545.0,592.0,785.0,91.0,18061.0,1645.0,922.0,441.0,2920.0,1542.0,8202.0,2960.0,6764.0,2114.0,7960.0,1639.0,5920.0,1184.0,4684.0,1646.0,13627.0,902.0,74407.0,2401.0,12793.0,5920.0,1184.0,4447.0,4447.0,1582.0,793.0,3796.0,3025.0,14822.0,2770.0,3094.0,9729.0,39194.0,18926.0,9327.0,1867.0,3954.0,2035.0,9405.0,9519.0,6080.0,13627.0,3552.0,747.0,747.0,747.0,518.0,1135.0,35530.0,35530.0,785.0,267.0,301.0,650.0,249.0,423.0,334.0,1318.0,423.0,185.0,185.0,176.0,185.0,582.0,720.0,123.0,335.0,503.0,202.0,507.0,423.0,341.0,341.0,24521.0,4228.0,5413.0,2069.0,16485.0,3535.0,1958.0,null,null,null,null,null,null,1231.0,592.0,2033.0,2538.0,3007.0,3314.0,5354.0,5244.0,8059.0,8916.0,12258.0,11887.0,10402.0,6068.0,3604.0,11011.0,4705.0,3312.0,4113.0,12429.0,3238.0,6298.0,5276.0,616.0,5920.0,592.0,4447.0,4447.0,24521.0,139754.0,101463.0,139754.0,125.0,487.0,212.0,106.0,9322.0,3259.0,3259.0,3259.0,8.0,676.0,256.0,635.0,356.0,261.0,237.0,null,null,null,null,null,null,null,null,null,null,null,null,null,null,null,null,null,294815.5066727272,96662.8645142857,null,194623.3204146342,289407.8753710844,167776.778881106,121969.20590745,null,176177.7075712329,133797.624876923,216331.502715,128145.4238166667,91807.73661,218232.371625,134147.486275,116545.3059333333,287701.8132357143,125511.2666083333,100912.2233046512,null,157243.7796215384,94955.7251166667,160443.20547,195859.6732084745,69928.4119763158,167043.1983605381,114634.6340660976,null,117667.9217057143,77095.2804151515,195223.4292694445,158475.2064244445,103770.6670454546,205361.7061481321,108625.4412514666,66527.426507874,86541.73375,69927.5939461539,64358.0340385475,175343.6870257576,95603.3606557692,62121.189555,176501.0726841464,72408.9203128572,128597.1280454546,84882.0407,185070.5491,121086.46975,203443.4228000001,46199.925,260040.2918337501,104559.8884576923,58025.0113913044,180832.732566,86733.8052382979,45131.9949847826,51473.87582,41027.5176555556,187980.5437214611,105349.4186838346,57601.6081733333,283156.08485,195264.2975307692,177383.7103714286,null,239347.2507515152,102272.9234285714,150839.4911852739,54382.0570496093,84727.371344,57143.335402649,124060.2219533333,89371.7143333333,162299.8398666667,190926.5093,108988.2454666667,157528.50514,61992.004175,63445.9300342857,60829.6703083333,67183.4826282609,217096.486375,106538.2629,59653.35065,45702.6603333333,68491.0057142857,241348.1659214286,139488.6595891305,111668.5258255475,null,92578.5323911111,57959.6553164948,103372.9697928571,109374.2917857143,61899.647125,55414.5798493671,80562.68075,72034.1285363637,77042.56158,44815.8350728916,139299.5665230769,62822.4486086207,48799.7233194444,118019.3374875,68740.3692142857,46433.2113933333,null,156559.0547138614,115224.3363566038,null,130909.5031,106192.69035,152881.079933813,71973.5573371429,145697.75364835,79786.3891863895,50891.8479425288,173203.1931482994,93688.7643571429,52729.3503333333,114749.7953705882,75556.744934375,47571.743645,159862.7540424242,94271.0207033334,68424.7452,121301.1692028661,106111.293987266,61944.7540192513,35351.2393658537,123924.0358151448,68437.0479455974,38110.8622300971,175084.2113546511,110837.8483583333,39525.314153125,136239.4817538461,76288.3121113636,47248.76682,75641.310634609,35839.1556038186,57788.6757,226773.9133607144,88774.4269923664,null,249361.8988394118,null,null,null,263814.0087166667,null,null,258797.3445428572,null,228770.2229333334,null,253747.611,null,192269.335225,null,185906.25227,null,null,null,null,293565.9537965518,null,204240.7198086956,255493.6328958904,164939.9243616162,119480.3418727273,null,203137.3958713113,102562.6488991543,217382.7756913043,105886.2514764706,232235.4009120536,143903.1876927632,92254.2591911765,189690.6044625001,120395.80681875,62422.941325,185408.61025,144439.9511714286,286855.5304230769,100000.8530346154,99156.8425370371,317769.714483146,283064.91015,null,203079.9016364312,null,173115.0401428572,null,189252.3507671428,115640.0315209302,248103.2725236559,137998.6732450865,176833.8361019369,92651.853295679,64306.3641606061,314793.5864325581,261155.7750427647,107939.6272301449,223875.1217142857,207676.461688889,121774.4935288841,81122.2501189189,46921.3888047619,229424.8739,272356.1138583333,130538.2192248276,77672.2693979381,56814.3080058824,113402.495656,51610.7431381444,123850.183343,53173.9645689119,201186.7400642857,79441.5646317073,108757.9205391753,60342.278645048,42879.2093577889,56864.7578038462,62127.7506237154,43254.7256024823,198886.8972977198,87607.9196299107,57481.4616487805,null,89647.1618052632,null,140241.5588287769,82899.2244240602,null,149864.9495534483,89675.95485,117660.6882,94682.55162,285879.2949346154,133258.5081107143,85822.3842142857,99676.24055,91560.2323484848,76023.6710018519,110641.2518272727,67763.0847822222,56234.964204375,130927.5825333333,162088.35615,85008.495975,259428.45072,84587.8656,51312.4089827586,316793.8621,91331.9669787879,56668.4805483871,207439.3467166667,107635.5215442105,77098.6904727273,312385.6410404256,161862.6260692308,72090.9973611111,108477.531181579,70122.9875939394,37834.21132,147355.4029231405,86110.303377707,50526.9249433735,171197.0049523561,90222.4731623932,72970.5011,153485.4182819081,77313.765747816,50811.2289849462,153969.3119392857,96200.2937103448,54777.76618,65874.0863333333,64303.6652896552,172869.4490181818,76750.8424074074,56965.2562957143,132476.2340966101,60044.9835976331,46315.6900196429,109690.2361816584,51475.4930265338,132997.2155577406,65553.7963788273,40456.8732306569,null,186036.1693411765,115397.9059891892,305475.94352,133645.7606,97966.4113125,180114.6871666666,124213.8909714286,126859.9151166667,149178.6437098901,97340.7259758242,72386.7379362934,168781.9863583334,95075.5378571429,248521.0439473685,86744.0261666667,207674.2048535353,92666.8227912622,48206.5143428571,165280.1498437126,94356.4085705883,47414.9742,131330.4062259259,68500.574663426,44357.0449876033,188148.9839380952,112386.5430827587,58317.3916344828,141711.3893916667,79635.504537063,52799.7429870968,null,302445.5819068571,231321.6189854168,null,312831.8771647727,274411.0006828572,null,183219.4717875517,127184.2562304348,null,194704.791754902,106377.542052,null,177257.2726155556,110420.6579036364,249987.5026,92585.1295002036,null,141579.2216167741,92341.3783751351,259160.60725,167668.933282353,null,237488.6075310346,126692.4440666667,312612.5006444445,131512.1593251462,104952.9639602941,131553.4403691489,null,134922.5822375,108857.3416666667,134469.275065625,83926.2400166667,185031.965723077,138786.7144961905,84081.1416293478,120656.1853,110335.6248090909,51753.4497,184401.5351666667,297679.3951777777,136856.7910923077,89924.0115966667,184851.458575,139740.8955222222,96990.65356875,164696.18155,108112.8945166667,88281.1450923077,80925.5231,65864.30475,null,147839.235002174,87771.2829325301,245082.3283500001,117069.9448505882,85814.6978260869,224033.1524163266,134868.428115748,19608.38665,78337.6771176471,120812.4738309524,59592.3430029851,38537.1342666667,188090.264152,127693.7001333333,49735.7186,196303.4881253013,121501.0760550562,47652.91866,188926.670858889,108369.750763,66425.881624,150609.4978,101141.4884444444,58917.3386666667,118913.007485567,76001.59980175,100445.9287568182,64776.491009396,106431.6699458333,55136.9318397727,130857.2730793104,69751.4368625,135819.5042846154,134361.1959405797,114117.7138809524,122746.9238375,63035.2881052631,167648.3022257143,111212.6031839286,54483.1863142857,null,101660.7917947368,97474.1553285714,null,null,218047.020875,139908.130875,236992.2757545455,94321.1786685394,104022.2556481202,130291.0390875,198529.247496,114911.1932714286,92327.38759375,171837.9554,87132.4614305556,52347.5167571429,242794.01458,99143.187139394,68613.7549384615,73274.490775,58964.3908466667,36228.8963833333,139403.364824031,60251.56719219,102060.2501459459,48241.35232,227817.3302181819,59939.2330173913,168258.0861082354,93539.8452846154,286809.4780588236,170068.5491357142,131343.39345,234890.7192333333,100389.424458772,73202.9578840868,263937.56875,128395.3081509434,85176.0945333334,null,96122.8564175,69094.5021348485,243537.7025368421,139478.3758161291,100471.1091571429,114846.2897042704,68381.7187899543,47044.1315078212,120286.4033692631,63555.8492021937,null,162844.6625067416,84572.4463267857,48719.6790242424,null,null,305115.9578230769,178656.1044709678,133598.0913866667,253404.9778291667,100971.0011196429,87390.157294,213892.50534023,89671.3888186046,63550.5523813043,176236.1155,131560.05989,72811.82224,null,67801.034175,39742.1254666667,279448.7720333334,92501.3777947369,59347.4731545455,74741.2013,307735.5977985715,155771.7412463415,115273.88628,120176.6999437636,73059.000265,47006.5266666667,146015.15855,103365.4931384615,102909.7660360098,67521.8672206522,108169.1880272727,43583.7318245614,49895.48565,39724.1466925926,59406.488275,160801.0950818182,85906.7416052117,45381.3245571429,109344.6644344828,67888.783610989,84353.0469666667,94782.0521428572,130093.3699625,44920.3855625,59889.8691732558,44137.1305952381,277075.4977666667,105819.6310285714,171612.9800157895,44833.80571,139671.5492545455,44746.9735285714,85534.195,54761.3753152174,53728.522575,51233.0962166667,106980.54205,77678.6226909091,null,107584.2105969697,80427.852725,204275.5511,105537.85035,78844.2871037037,154761.4188,66484.9899852273,152605.6001875,65348.48022,94367.14879,62599.2465625,76816.8871666667,139976.54614,56025.5103,205292.2060878788,97226.2089941177,75506.32834,113093.61255,67549.0313416667,42033.3752551724,53292.2229129032,33385.6196146342,53734.6367683007,84838.2532026316,49771.8105230769,41714.9665930435,47173.6829365854,115471.2800870968,71528.1738369048,54815.0854279279,82435.4738301749,67772.4526436129,57751.5390934966,null,null,272977.3369120435,67735.1451998148,129412.311132683,22610.5737106769,16861.7887663506,103937.0887846154,63235.147295,60497.841516,236824.718375,172563.7043,79082.62144,null,106510.7413111111,70431.9546333333,48124.7044725877,42317.6474516129,35193.0344200983,161353.1629148148,103143.536685124,72771.0442882353,150221.9095128931,64234.0067428382,109679.3681434427,240767.5206555556,92230.4739162162,48861.8273769231,74292.8056921053,66515.3616515151,72779.2200918919,null,222774.1186727273,78349.50345,null,215192.4209291667,93961.3854111111,null,176335.395731579,88212.7659466667,305604.7457380953,91972.5704666667,63224.8959146497,47219.7830166667,33682.8543163743,null,258937.2160892857,71608.5908333333,null,95484.9135753425,61984.7538104167,283408.2078217688,110449.3333697675,167287.9604391305,109590.173075,84245.4014,142994.2562962686,68956.8381458204,25733.8437375,247176.5091666667,null,144492.3589795181,104179.3016666667,null,153079.6051461539,77446.490325,144493.5190670887,72668.9224152381,55836.3727767677,108635.8633531915,55921.687561194,178028.964165,86786.2261740741,46484.4928375,null,192197.4954447977,82789.9130018761,null,60277.1563331035,75294.6300024691,102234.2408904762,119568.1797572327,112585.6109212264,129727.0343126917,75481.1225028571,81487.0274755556,49998.8689527273,127302.979825,146779.889425974,70814.5882545455,275272.24246,108535.04875,83820.614075,126493.4347666667,135681.97595,null,null,143583.4062464789,83064.9228645161,92857.4553714286,50267.218095,157949.128025,37754.7923746269,141292.3854398269,60897.9862451362,181900.6257173914,74029.6334122137,50688.2996807692,185622.4716363637,101867.5873807692,null,null,null,214491.1906333333,137220.4198401409,225078.6195,140128.1564611111,102219.40585,153548.6089973684,126884.3243133333,135929.0441784091,70468.0109765307,170474.0531965217,107854.66785,43396.2181891305,null,null,null,171201.74089,318251.4594095238,108756.77348125,132498.2533666667,null,314171.6287872882,101927.9990135135,55624.4069529412,93410.713026,null,184095.1290204082,85385.9418566038,null,126522.8711396227,77081.6394958333],\"type\":\"histogram\"}],                        {\"template\":{\"data\":{\"histogram2dcontour\":[{\"type\":\"histogram2dcontour\",\"colorbar\":{\"outlinewidth\":0,\"ticks\":\"\"},\"colorscale\":[[0.0,\"#0d0887\"],[0.1111111111111111,\"#46039f\"],[0.2222222222222222,\"#7201a8\"],[0.3333333333333333,\"#9c179e\"],[0.4444444444444444,\"#bd3786\"],[0.5555555555555556,\"#d8576b\"],[0.6666666666666666,\"#ed7953\"],[0.7777777777777778,\"#fb9f3a\"],[0.8888888888888888,\"#fdca26\"],[1.0,\"#f0f921\"]]}],\"choropleth\":[{\"type\":\"choropleth\",\"colorbar\":{\"outlinewidth\":0,\"ticks\":\"\"}}],\"histogram2d\":[{\"type\":\"histogram2d\",\"colorbar\":{\"outlinewidth\":0,\"ticks\":\"\"},\"colorscale\":[[0.0,\"#0d0887\"],[0.1111111111111111,\"#46039f\"],[0.2222222222222222,\"#7201a8\"],[0.3333333333333333,\"#9c179e\"],[0.4444444444444444,\"#bd3786\"],[0.5555555555555556,\"#d8576b\"],[0.6666666666666666,\"#ed7953\"],[0.7777777777777778,\"#fb9f3a\"],[0.8888888888888888,\"#fdca26\"],[1.0,\"#f0f921\"]]}],\"heatmap\":[{\"type\":\"heatmap\",\"colorbar\":{\"outlinewidth\":0,\"ticks\":\"\"},\"colorscale\":[[0.0,\"#0d0887\"],[0.1111111111111111,\"#46039f\"],[0.2222222222222222,\"#7201a8\"],[0.3333333333333333,\"#9c179e\"],[0.4444444444444444,\"#bd3786\"],[0.5555555555555556,\"#d8576b\"],[0.6666666666666666,\"#ed7953\"],[0.7777777777777778,\"#fb9f3a\"],[0.8888888888888888,\"#fdca26\"],[1.0,\"#f0f921\"]]}],\"heatmapgl\":[{\"type\":\"heatmapgl\",\"colorbar\":{\"outlinewidth\":0,\"ticks\":\"\"},\"colorscale\":[[0.0,\"#0d0887\"],[0.1111111111111111,\"#46039f\"],[0.2222222222222222,\"#7201a8\"],[0.3333333333333333,\"#9c179e\"],[0.4444444444444444,\"#bd3786\"],[0.5555555555555556,\"#d8576b\"],[0.6666666666666666,\"#ed7953\"],[0.7777777777777778,\"#fb9f3a\"],[0.8888888888888888,\"#fdca26\"],[1.0,\"#f0f921\"]]}],\"contourcarpet\":[{\"type\":\"contourcarpet\",\"colorbar\":{\"outlinewidth\":0,\"ticks\":\"\"}}],\"contour\":[{\"type\":\"contour\",\"colorbar\":{\"outlinewidth\":0,\"ticks\":\"\"},\"colorscale\":[[0.0,\"#0d0887\"],[0.1111111111111111,\"#46039f\"],[0.2222222222222222,\"#7201a8\"],[0.3333333333333333,\"#9c179e\"],[0.4444444444444444,\"#bd3786\"],[0.5555555555555556,\"#d8576b\"],[0.6666666666666666,\"#ed7953\"],[0.7777777777777778,\"#fb9f3a\"],[0.8888888888888888,\"#fdca26\"],[1.0,\"#f0f921\"]]}],\"surface\":[{\"type\":\"surface\",\"colorbar\":{\"outlinewidth\":0,\"ticks\":\"\"},\"colorscale\":[[0.0,\"#0d0887\"],[0.1111111111111111,\"#46039f\"],[0.2222222222222222,\"#7201a8\"],[0.3333333333333333,\"#9c179e\"],[0.4444444444444444,\"#bd3786\"],[0.5555555555555556,\"#d8576b\"],[0.6666666666666666,\"#ed7953\"],[0.7777777777777778,\"#fb9f3a\"],[0.8888888888888888,\"#fdca26\"],[1.0,\"#f0f921\"]]}],\"mesh3d\":[{\"type\":\"mesh3d\",\"colorbar\":{\"outlinewidth\":0,\"ticks\":\"\"}}],\"scatter\":[{\"fillpattern\":{\"fillmode\":\"overlay\",\"size\":10,\"solidity\":0.2},\"type\":\"scatter\"}],\"parcoords\":[{\"type\":\"parcoords\",\"line\":{\"colorbar\":{\"outlinewidth\":0,\"ticks\":\"\"}}}],\"scatterpolargl\":[{\"type\":\"scatterpolargl\",\"marker\":{\"colorbar\":{\"outlinewidth\":0,\"ticks\":\"\"}}}],\"bar\":[{\"error_x\":{\"color\":\"#2a3f5f\"},\"error_y\":{\"color\":\"#2a3f5f\"},\"marker\":{\"line\":{\"color\":\"#E5ECF6\",\"width\":0.5},\"pattern\":{\"fillmode\":\"overlay\",\"size\":10,\"solidity\":0.2}},\"type\":\"bar\"}],\"scattergeo\":[{\"type\":\"scattergeo\",\"marker\":{\"colorbar\":{\"outlinewidth\":0,\"ticks\":\"\"}}}],\"scatterpolar\":[{\"type\":\"scatterpolar\",\"marker\":{\"colorbar\":{\"outlinewidth\":0,\"ticks\":\"\"}}}],\"histogram\":[{\"marker\":{\"pattern\":{\"fillmode\":\"overlay\",\"size\":10,\"solidity\":0.2}},\"type\":\"histogram\"}],\"scattergl\":[{\"type\":\"scattergl\",\"marker\":{\"colorbar\":{\"outlinewidth\":0,\"ticks\":\"\"}}}],\"scatter3d\":[{\"type\":\"scatter3d\",\"line\":{\"colorbar\":{\"outlinewidth\":0,\"ticks\":\"\"}},\"marker\":{\"colorbar\":{\"outlinewidth\":0,\"ticks\":\"\"}}}],\"scattermapbox\":[{\"type\":\"scattermapbox\",\"marker\":{\"colorbar\":{\"outlinewidth\":0,\"ticks\":\"\"}}}],\"scatterternary\":[{\"type\":\"scatterternary\",\"marker\":{\"colorbar\":{\"outlinewidth\":0,\"ticks\":\"\"}}}],\"scattercarpet\":[{\"type\":\"scattercarpet\",\"marker\":{\"colorbar\":{\"outlinewidth\":0,\"ticks\":\"\"}}}],\"carpet\":[{\"aaxis\":{\"endlinecolor\":\"#2a3f5f\",\"gridcolor\":\"white\",\"linecolor\":\"white\",\"minorgridcolor\":\"white\",\"startlinecolor\":\"#2a3f5f\"},\"baxis\":{\"endlinecolor\":\"#2a3f5f\",\"gridcolor\":\"white\",\"linecolor\":\"white\",\"minorgridcolor\":\"white\",\"startlinecolor\":\"#2a3f5f\"},\"type\":\"carpet\"}],\"table\":[{\"cells\":{\"fill\":{\"color\":\"#EBF0F8\"},\"line\":{\"color\":\"white\"}},\"header\":{\"fill\":{\"color\":\"#C8D4E3\"},\"line\":{\"color\":\"white\"}},\"type\":\"table\"}],\"barpolar\":[{\"marker\":{\"line\":{\"color\":\"#E5ECF6\",\"width\":0.5},\"pattern\":{\"fillmode\":\"overlay\",\"size\":10,\"solidity\":0.2}},\"type\":\"barpolar\"}],\"pie\":[{\"automargin\":true,\"type\":\"pie\"}]},\"layout\":{\"autotypenumbers\":\"strict\",\"colorway\":[\"#636efa\",\"#EF553B\",\"#00cc96\",\"#ab63fa\",\"#FFA15A\",\"#19d3f3\",\"#FF6692\",\"#B6E880\",\"#FF97FF\",\"#FECB52\"],\"font\":{\"color\":\"#2a3f5f\"},\"hovermode\":\"closest\",\"hoverlabel\":{\"align\":\"left\"},\"paper_bgcolor\":\"white\",\"plot_bgcolor\":\"#E5ECF6\",\"polar\":{\"bgcolor\":\"#E5ECF6\",\"angularaxis\":{\"gridcolor\":\"white\",\"linecolor\":\"white\",\"ticks\":\"\"},\"radialaxis\":{\"gridcolor\":\"white\",\"linecolor\":\"white\",\"ticks\":\"\"}},\"ternary\":{\"bgcolor\":\"#E5ECF6\",\"aaxis\":{\"gridcolor\":\"white\",\"linecolor\":\"white\",\"ticks\":\"\"},\"baxis\":{\"gridcolor\":\"white\",\"linecolor\":\"white\",\"ticks\":\"\"},\"caxis\":{\"gridcolor\":\"white\",\"linecolor\":\"white\",\"ticks\":\"\"}},\"coloraxis\":{\"colorbar\":{\"outlinewidth\":0,\"ticks\":\"\"}},\"colorscale\":{\"sequential\":[[0.0,\"#0d0887\"],[0.1111111111111111,\"#46039f\"],[0.2222222222222222,\"#7201a8\"],[0.3333333333333333,\"#9c179e\"],[0.4444444444444444,\"#bd3786\"],[0.5555555555555556,\"#d8576b\"],[0.6666666666666666,\"#ed7953\"],[0.7777777777777778,\"#fb9f3a\"],[0.8888888888888888,\"#fdca26\"],[1.0,\"#f0f921\"]],\"sequentialminus\":[[0.0,\"#0d0887\"],[0.1111111111111111,\"#46039f\"],[0.2222222222222222,\"#7201a8\"],[0.3333333333333333,\"#9c179e\"],[0.4444444444444444,\"#bd3786\"],[0.5555555555555556,\"#d8576b\"],[0.6666666666666666,\"#ed7953\"],[0.7777777777777778,\"#fb9f3a\"],[0.8888888888888888,\"#fdca26\"],[1.0,\"#f0f921\"]],\"diverging\":[[0,\"#8e0152\"],[0.1,\"#c51b7d\"],[0.2,\"#de77ae\"],[0.3,\"#f1b6da\"],[0.4,\"#fde0ef\"],[0.5,\"#f7f7f7\"],[0.6,\"#e6f5d0\"],[0.7,\"#b8e186\"],[0.8,\"#7fbc41\"],[0.9,\"#4d9221\"],[1,\"#276419\"]]},\"xaxis\":{\"gridcolor\":\"white\",\"linecolor\":\"white\",\"ticks\":\"\",\"title\":{\"standoff\":15},\"zerolinecolor\":\"white\",\"automargin\":true,\"zerolinewidth\":2},\"yaxis\":{\"gridcolor\":\"white\",\"linecolor\":\"white\",\"ticks\":\"\",\"title\":{\"standoff\":15},\"zerolinecolor\":\"white\",\"automargin\":true,\"zerolinewidth\":2},\"scene\":{\"xaxis\":{\"backgroundcolor\":\"#E5ECF6\",\"gridcolor\":\"white\",\"linecolor\":\"white\",\"showbackground\":true,\"ticks\":\"\",\"zerolinecolor\":\"white\",\"gridwidth\":2},\"yaxis\":{\"backgroundcolor\":\"#E5ECF6\",\"gridcolor\":\"white\",\"linecolor\":\"white\",\"showbackground\":true,\"ticks\":\"\",\"zerolinecolor\":\"white\",\"gridwidth\":2},\"zaxis\":{\"backgroundcolor\":\"#E5ECF6\",\"gridcolor\":\"white\",\"linecolor\":\"white\",\"showbackground\":true,\"ticks\":\"\",\"zerolinecolor\":\"white\",\"gridwidth\":2}},\"shapedefaults\":{\"line\":{\"color\":\"#2a3f5f\"}},\"annotationdefaults\":{\"arrowcolor\":\"#2a3f5f\",\"arrowhead\":0,\"arrowwidth\":1},\"geo\":{\"bgcolor\":\"white\",\"landcolor\":\"#E5ECF6\",\"subunitcolor\":\"white\",\"showland\":true,\"showlakes\":true,\"lakecolor\":\"white\"},\"title\":{\"x\":0.05},\"mapbox\":{\"style\":\"light\"}}}},                        {\"responsive\": true}                    ).then(function(){\n",
              "                            \n",
              "var gd = document.getElementById('f2561dde-cd47-4dd2-ab12-e0f2693326c5');\n",
              "var x = new MutationObserver(function (mutations, observer) {{\n",
              "        var display = window.getComputedStyle(gd).display;\n",
              "        if (!display || display === 'none') {{\n",
              "            console.log([gd, 'removed!']);\n",
              "            Plotly.purge(gd);\n",
              "            observer.disconnect();\n",
              "        }}\n",
              "}});\n",
              "\n",
              "// Listen for the removal of the full notebook cells\n",
              "var notebookContainer = gd.closest('#notebook-container');\n",
              "if (notebookContainer) {{\n",
              "    x.observe(notebookContainer, {childList: true});\n",
              "}}\n",
              "\n",
              "// Listen for the clearing of the current output cell\n",
              "var outputEl = gd.closest('.output');\n",
              "if (outputEl) {{\n",
              "    x.observe(outputEl, {childList: true});\n",
              "}}\n",
              "\n",
              "                        })                };                            </script>        </div>\n",
              "</body>\n",
              "</html>"
            ]
          },
          "metadata": {}
        },
        {
          "output_type": "execute_result",
          "data": {
            "image/png": "[encoded data removed]",
            "text/plain": [
              "<IPython.core.display.Image object>"
            ]
          },
          "metadata": {},
          "execution_count": 151
        }
      ]
    },
    {
      "cell_type": "code",
      "source": [
        "fig = go.Figure(data=[go.Histogram(x=df2_clean_outliers['Discounted Cash Price'], histnorm='probability')])\n",
        "\n",
        "fig.show()"
      ],
      "metadata": {
        "colab": {
          "base_uri": "https://localhost:8080/",
          "height": 542
        },
        "outputId": "a70e9c4b-34f7-4409-a358-2992697e026e",
        "id": "pQIpah85aFxT"
      },
      "execution_count": 128,
      "outputs": [
        {
          "output_type": "display_data",
          "data": {
            "text/html": [
              "<html>\n",
              "<head><meta charset=\"utf-8\" /></head>\n",
              "<body>\n",
              "    <div>            <script src=\"https://cdnjs.cloudflare.com/ajax/libs/mathjax/2.7.5/MathJax.js?config=TeX-AMS-MML_SVG\"></script><script type=\"text/javascript\">if (window.MathJax && window.MathJax.Hub && window.MathJax.Hub.Config) {window.MathJax.Hub.Config({SVG: {font: \"STIX-Web\"}});}</script>                <script type=\"text/javascript\">window.PlotlyConfig = {MathJaxConfig: 'local'};</script>\n",
              "        <script charset=\"utf-8\" src=\"https://cdn.plot.ly/plotly-2.24.1.min.js\"></script>                <div id=\"b375accc-b807-4e43-a9bd-4dc4af56cf14\" class=\"plotly-graph-div\" style=\"height:525px; width:100%;\"></div>            <script type=\"text/javascript\">                                    window.PLOTLYENV=window.PLOTLYENV || {};                                    if (document.getElementById(\"b375accc-b807-4e43-a9bd-4dc4af56cf14\")) {                    Plotly.newPlot(                        \"b375accc-b807-4e43-a9bd-4dc4af56cf14\",                        [{\"histnorm\":\"probability\",\"x\":[866.0,358.0,1397.0,480.0,480.0,780.0,480.0,602.0,357.0,510.0,1366.0,1366.0,67.0,2.0,189.0,55.0,24.0,150.0,58.0,33.0,91.0,3.0,762.0,1245.0,412.0,221.0,108.0,40879.0,725.0,83.0,83.0,142.0,153.0,180.0,36.0,9322.0,28151.0,28151.0,3613.0,3938.0,2781.0,1470.0,2663.0,485.0,485.0,485.0,3888.0,970.0,585.0,970.0,132.0,2668.0,106.0,80.0,78.0,104.0,105.0,160.0,396.0,64.0,81.0,99.0,118.0,92.0,171.0,77.0,715.0,116.0,152.0,172.0,209.0,87.0,491.0,303.0,122.0,139.0,250.0,683.0,164.0,354.0,312.0,323.0,288.0,207.0,147.0,295.0,189.0,127.0,143.0,207.0,223.0,135.0,164.0,217.0,320.0,273.0,127.0,174.0,207.0,224.0,263.0,137.0,195.0,174.0,314.0,476.0,152.0,387.0,354.0,158.0,158.0,428.0,299.0,229.0,416.0,142.0,174.0,142.0,191.0,142.0,147.0,147.0,374.0,38.0,89.0,222.0,499.0,498.0,44.0,62.0,191.0,518.0,464.0,235.0,518.0,279.0,230.0,440.0,191.0,212.0,246.0,237.0,1532.0,122.0,38.0,87.0,175.0,455.0,245.0,170.0,266.0,145.0,335.0,149.0,122.0,88.0,249.0,53.0,54.0,174.0,54.0,266.0,487.0,324.0,85.0,312.0,147.0,227.0,647.0,55.0,163.0,250.0,383.0,124.0,570.0,150.0,542.0,62.0,71.0,70.0,79.0,168.0,67.0,270.0,524.0,338.0,469.0,393.0,393.0,305.0,364.0,82.0,87.0,56.0,200.0,200.0,65.0,104.0,125.0,181.0,292.0,210.0,400.0,239.0,221.0,436.0,162.0,631.0,180.0,812.0,307.0,417.0,393.0,351.0,357.0,206.0,411.0,331.0,212.0,373.0,181.0,319.0,195.0,827.0,240.0,331.0,233.0,269.0,71.0,91.0,500.0,203.0,34.0,401.0,250.0,323.0,59.0,47.0,39.0,78.0,114.0,38.0,360.0,103.0,46.0,519.0,147.0,138.0,257.0,237.0,223.0,127.0,434.0,197.0,230.0,147.0,186.0,233.0,74.0,119.0,893.0,89.0,57.0,498.0,416.0,334.0,195.0,258.0,221.0,518.0,461.0,358.0,164.0,219.0,88.0,97.0,239.0,308.0,116.0,161.0,185.0,266.0,117.0,123.0,128.0,207.0,180.0,234.0,216.0,129.0,111.0,162.0,374.0,1388.0,266.0,639.0,276.0,383.0,252.0,378.0,193.0,273.0,246.0,234.0,449.0,99.0,101.0,357.0,176.0,538.0,762.0,147.0,638.0,79.0,65.0,249.0,122.0,122.0,168.0,311.0,620.0,56.0,57.0,93.0,198.0,278.0,218.0,518.0,270.0,316.0,279.0,239.0,118.0,88.0,59.0,57.0,184.0,569.0,296.0,337.0,62.0,112.0,524.0,355.0,233.0,327.0,256.0,432.0,210.0,735.0,260.0,56.0,54.0,22.0,460.0,483.0,562.0,81.0,74.0,637.0,434.0,368.0,308.0,62.0,295.0,111.0,252.0,222.0,256.0,915.0,252.0,49.0,41.0,214.0,49.0,118.0,228.0,416.0,221.0,305.0,232.0,96.0,79.0,284.0,275.0,89.0,89.0,316.0,473.0,162.0,295.0,321.0,374.0,108.0,124.0,196.0,334.0,385.0,230.0,162.0,316.0,45.0,45.0,350.0,927.0,531.0,99.0,330.0,125.0,123.0,111.0,141.0,130.0,237.0,240.0,986.0,897.0,151.0,48.0,193.0,320.0,318.0,177.0,232.0,245.0,293.0,268.0,574.0,126.0,152.0,510.0,273.0,249.0,529.0,116.0,49.0,380.0,49.0,122.0,181.0,334.0,319.0,319.0,312.0,355.0,223.0,343.0,566.0,635.0,196.0,148.0,196.0,196.0,196.0,404.0,258.0,293.0,200.0,286.0,107.0,103.0,172.0,42.0,119.0,119.0,123.0,181.0,153.0,158.0,327.0,61.0,270.0,184.0,76.0,181.0,145.0,57.0,48.0,154.0,217.0,159.0,240.0,240.0,237.0,278.0,243.0,332.0,84.0,350.0,272.0,285.0,223.0,233.0,205.0,221.0,221.0,214.0,106.0,196.0,171.0,230.0,195.0,222.0,320.0,3883.0,226.0,137.0,243.0,123.0,265.0,187.0,227.0,227.0,168.0,161.0,147.0,184.0,254.0,281.0,252.0,89.0,445.0,204.0,122.0,122.0,350.0,243.0,290.0,286.0,265.0,1059.0,88.0,209.0,423.0,4188.0,233.0,487.0,487.0,93.0,760.0,760.0,760.0,29.0,438.0,69.0,92.0,82.0,214.0,37.0,37.0,38.0,59.0,127.0,192.0,65.0,191.0,26.0,64.0,64.0,38.0,127.0,446.0,61.0,25.0,34.0,21.0,81.0,62.0,46.0,79.0,80.0,102.0,46.0,337.0,371.0,371.0,371.0,353.0,495.0,411.0,457.0,371.0,371.0,371.0,371.0,276.0,286.0,312.0,379.0,268.0,355.0,460.0,334.0,424.0,446.0,348.0,38.0,239.0,228.0,150.0,74.0,135.0,147.0,530.0,289.0,200.0,348.0,59.0,44.0,108.0,990.0,134.0,181.0,272.0,404.0,84.0,361.0,78.0,335.0,56.0,255.0,197.0,222.0,62.0,78.0,127.0,228.0,90.0,337.0,173.0,1100.0,57.0,181.0,141.0,43.0,166.0,206.0,166.0,187.0,112.0,112.0,112.0,129.0,37.0,206.0,214.0,127.0,112.0,112.0,301.0,281.0,188.0,107.0,162.0,44.0,117.0,243.0,776.0,137.0,137.0,85.0,44.0,162.0,95.0,101.0,36.0,239.0,464.0,113.0,67.0,464.0,137.0,65.0,143.0,102.0,101.0,112.0,406.0,162.0,406.0,323.0,222.0,250.0,91.0,508.0,193.0,285.0,187.0,197.0,279.0,171.0,103.0,230.0,392.0,319.0,227.0,87.0,287.0,207.0,206.0,221.0,533.0,776.0,334.0,146.0,880.0,849.0,776.0,267.0,702.0,477.0,885.0,828.0,320.0,161.0,771.0,146.0,116.0,383.0,774.0,656.0,339.0,339.0,690.0,852.0,395.0,278.0,1002.0,776.0,287.0,227.0,222.0,734.0,1747.0,2816.0,318.0,315.0,828.0,89.0,112.0,146.0,853.0,333.0,1109.0,954.0,221.0,97.0,113.0,286.0,1286.0,1479.0,961.0,1100.0,2935.0,1335.0,7842.0,97.0,79.0,61.0,60.0,143.0,65.0,41.0,131.0,193.0,315.0,61.0,978.0,1129.0,823.0,1201.0,668.0,1245.0,889.0,601.0,601.0,334.0,3151.0,668.0,1244.0,702.0,432.0,1935.0,614.0,1719.0,777.0,4669.0,777.0,777.0,777.0,780.0,601.0,780.0,491.0,491.0,260.0,1134.0,696.0,777.0,1667.0,714.0,274.0,156.0,669.0,1503.0,587.0,2600.0,1695.0,1201.0,1618.0,2066.0,788.0,1674.0,1004.0,1453.0,1198.0,440.0,1267.0,239.0,401.0,823.0,807.0,491.0,668.0,1473.0,900.0,668.0,1502.0,949.0,668.0,1370.0,1058.0,587.0,533.0,668.0,1296.0,1205.0,1168.0,1504.0,1372.0,1295.0,1473.0,904.0,1296.0,668.0,395.0,1335.0,207.0,777.0,1379.0,2456.0,228.0,566.0,610.0,1004.0,387.0,823.0,777.0,1015.0,865.0,393.0,777.0,1667.0,900.0,788.0,654.0,974.0,3235.0,2427.0,2001.0,2401.0,668.0,6004.0,668.0,6934.0,3852.0,7704.0,3852.0,7396.0,2312.0,9532.0,10889.0,2001.0,4612.0,11129.0,2312.0,2312.0,6934.0,2668.0,253.0,201.0,302.0,261.0,68.0,390.0,208.0,175.0,114.0,87.0,389.0,368.0,2080.0,1191.0,309.0,609.0,580.0,454.0,660.0,369.0,439.0,475.0,399.0,674.0,288.0,22.0,13.0,181.0,201.0,249.0,105.0,158.0,102.0,265.0,392.0,186.0,78.0,280.0,176.0,758.0,758.0,395.0,342.0,615.0,729.0,699.0,3012.0,701.0,88.0,844.0,1027.0,660.0,839.0,704.0,308.0,439.0,563.0,486.0,284.0,439.0,237.0,131.0,70.0,119.0,205.0,726.0,362.0,512.0,647.0,119.0,3938.0,3613.0,1356.0,480.0,332.0,385.0,726.0,234.0,674.0,638.0,898.0,549.0,365.0,726.0,365.0,529.0,541.0,784.0,885.0,385.0,605.0,618.0,904.0,656.0,862.0,841.0,827.0,485.0,532.0,631.0,948.0,958.0,559.0,688.0,713.0,784.0,799.0,990.0,950.0,562.0,861.0,926.0,446.0,487.0,320.0,559.0,683.0,2565.0,1447.0,1602.0,2781.0,6139.0,3227.0,911.0,310.0,573.0,770.0,925.0,549.0,403.0,544.0,520.0,508.0,925.0,836.0,589.0,853.0,616.0,731.0,910.0,818.0,861.0,994.0,1129.0,180.0,466.0,604.0,1012.0,1216.0,301.0,442.0,723.0,937.0,965.0,962.0,1054.0,928.0,285.0,427.0,310.0,448.0,1266.0,701.0,950.0,864.0,1171.0,1214.0,1441.0,1878.0,649.0,1100.0,2439.0,1678.0,1366.0,1386.0,1506.0,784.0,1101.0,337.0,2435.0,2435.0,1307.0,823.0,604.0,932.0,1857.0,826.0,1235.0,1642.0,1737.0,954.0,1706.0,1154.0,1489.0,1259.0,2059.0,4666.0,1323.0,843.0,8311.0,7407.0,4816.0,4907.0,1372.0,2032.0,4167.0,4610.0,1132.0,4540.0,2831.0,8804.0,4998.0,6918.0,8971.0,11515.0,19703.0,4946.0,2692.0,2497.0,5105.0,3188.0,9197.0,4980.0,8173.0,10950.0,3234.0,1163.0,1163.0,6292.0,10410.0,1290.0,2861.0,3508.0,680.0,1142.0,181.0,847.0,1330.0,1363.0,1142.0,1468.0,1440.0,1440.0,1506.0,1243.0,980.0,466.0,486.0,916.0,969.0,1904.0,688.0,690.0,1257.0,666.0,261.0,1363.0,1356.0,1983.0,9258.0,10456.0,11556.0,11563.0,6923.0,9126.0,8428.0,5366.0,805.0,1011.0,549.0,529.0,481.0,541.0,1077.0,142.0,1161.0,1161.0,1161.0,614.0,889.0,1769.0,1008.0,26621.0,4793.0,1871.0,3565.0,4916.0,6893.0,3565.0,11738.0,1297.0,15017.0,7307.0,9898.0,7307.0,8304.0,9898.0,3026.0,1330.0,1778.0,2184.0,3074.0,1709.0,9218.0,2051.0,30412.0,33453.0,12561.0,4095.0,5119.0,1203.0,87.0,1456.0,1601.0,2059.0,954.0,26465.0,6119.0,1234.0,3345.0,3483.0,4970.0,6645.0,7781.0,9966.0,11670.0,12885.0,10049.0,956.0,735.0,4993.0,1161.0,720.0,1410.0,784.0,1303.0,1463.0,861.0,326.0,873.0,927.0,1208.0,1956.0,2459.0,2945.0,1065.0,2472.0,2472.0,2472.0,4829.0,1097.0,1932.0,2549.0,1806.0,5556.0,1940.0,1808.0,2196.0,2063.0,2108.0,1806.0,2536.0,2710.0,950.0,2644.0,3171.0,1204.0,1561.0,1839.0,2094.0,587.0,1956.0,1806.0,1169.0,2879.0,1218.0,1581.0,1511.0,1808.0,2208.0,1044.0,1208.0,1626.0,2518.0,2022.0,3325.0,3926.0,1234.0,1645.0,8581.0,1806.0,2410.0,3010.0,1645.0,5707.0,8581.0,3591.0,1616.0,2541.0,4061.0,3099.0,4056.0,1337.0,1504.0,8581.0,1445.0,2854.0,1146.0,2710.0,3149.0,1808.0,791.0,3217.0,2958.0,910.0,2261.0,1057.0,2124.0,1686.0,4738.0,4708.0,4904.0,5552.0,5552.0,5552.0,2776.0,532.0,3012.0,3615.0,3615.0,1174.0,1651.0,288.0,100.0,174.0,5174.0,785.0,187.0,49.0,339.0,4718.0,107.0,234.0,170.0,174.0,510.0,404.0,340.0,6155.0,3362.0,1124.0,198.0,891.0,149.0,4584.0,201.0,637.0,1041.0,510.0,5519.0,14204.0,295.0,8065.0,8405.0,276.0,1575.0,43.0,14.0,104999.0,6154.0,508.0,79.0,1307.0,1350.0,646.0,1504.0,1743.0,2260.0,4276.0,2260.0,216.0,108.0,216.0,108.0,322.0,322.0,322.0,322.0,322.0,322.0,322.0,322.0,322.0,2241.0,2739.0,3306.0,2448.0,2723.0,3428.0,2261.0,2825.0,3392.0,1846.0,2435.0,3079.0,2178.0,2178.0,3238.0,1659.0,3157.0,3636.0,655.0,4363.0,1493.0,1593.0,2184.0,1884.0,3429.0,4044.0,2506.0,2689.0,2973.0,2305.0,1884.0,2034.0,2865.0,2121.0,2653.0,3315.0,5972.0,2822.0,3530.0,4412.0,5296.0,1882.0,2352.0,2965.0,3520.0,2936.0,2545.0,3049.0,4374.0,2715.0,2715.0,950.0,1395.0,1395.0,1169.0,1891.0,1026.0,777.0,1510.0,1510.0,777.0,1510.0,1510.0,11171.0,15587.0,24742.0,16529.0,9741.0,34782.0,21949.0,26786.0,22470.0,24263.0,24277.0,29304.0,15385.0,19838.0,23745.0,26835.0,23154.0,20862.0,23404.0,17859.0,20275.0,14610.0,19639.0,20416.0,21690.0,22639.0,18049.0,21335.0,21507.0,21360.0,21382.0,27545.0,24643.0,20704.0,23346.0,23829.0,25461.0,23078.0,20297.0,23467.0,23330.0,20489.0,27653.0,26982.0,29501.0,30287.0,25077.0,24046.0,48998.0,36945.0,28961.0,30507.0,37155.0,32124.0,42084.0,18075.0,27520.0,23669.0,22432.0,21649.0,18877.0,31620.0,21859.0,37789.0,36790.0,31301.0,32316.0,15271.0,26512.0,17509.0,22908.0,26215.0,16751.0,20428.0,18752.0,33335.0,40317.0,34425.0,21260.0,28258.0,34499.0,1324.0,25760.0,73325.0,26426.0,24942.0,24102.0,37317.0,22123.0,27573.0,25672.0,31592.0,26475.0,26523.0,26494.0,26242.0,36059.0,22930.0,21853.0,61540.0,36898.0,34945.0,23348.0,28975.0,36674.0,31057.0,59271.0,41069.0,21803.0,32685.0,40808.0,26051.0,26276.0,18544.0,26026.0,19776.0,20314.0,38282.0,23563.0,28178.0,28148.0,16040.0,15283.0,40288.0,27741.0,20438.0,18304.0,11151.0,13299.0,19228.0,21555.0,25561.0,7556.0,8128.0,29418.0,29435.0,42195.0,62361.0,59179.0,48347.0,31934.0,38915.0,31947.0,30372.0,28729.0,52130.0,40280.0,27426.0,38210.0,43355.0,32556.0,30374.0,18421.0,19381.0,25800.0,24690.0,15313.0,16465.0,16414.0,29309.0,35088.0,10344.0,19854.0,19036.0,18272.0,10736.0,10515.0,14402.0,14405.0,21210.0,13431.0,30958.0,27469.0,28379.0,23726.0,53079.0,30567.0,37620.0,19623.0,26453.0,23734.0,22581.0,32674.0,31323.0,25446.0,26471.0,30467.0,44631.0,28256.0,31317.0,34283.0,32575.0,39929.0,31911.0,65072.0,49910.0,84629.0,42496.0,63783.0,64583.0,38009.0,64799.0,68904.0,82161.0,59131.0,50866.0,71157.0,52585.0,30082.0,41117.0,45866.0,35268.0,17933.0,19083.0,41390.0,38424.0,34168.0,20905.0,17469.0,25973.0,36291.0,35290.0,39268.0,33134.0,29801.0,84534.0,48128.0,51012.0,22429.0,42019.0,25190.0,27615.0,31025.0,20338.0,24155.0,25363.0,28011.0,17771.0,23633.0,21924.0,20642.0,21604.0,20414.0,27042.0,33630.0,141748.0,13244.0,49903.0,39373.0,31382.0,67703.0,126543.0,100831.0,41018.0,38104.0,53882.0,57858.0,74991.0,100479.0,73800.0,53759.0,29193.0,11980.0,21380.0,22840.0,27194.0,10798.0,22852.0,21309.0,25286.0,29961.0,47750.0,18324.0,52912.0,28024.0,29298.0,40387.0,53751.0,27808.0,56379.0,38047.0,64080.0,63664.0,59663.0,64913.0,41517.0,40758.0,50055.0,50570.0,37094.0,47815.0,43238.0,27688.0,24890.0,22416.0,22809.0,19100.0,20627.0,61619.0,19203.0,28676.0,14796.0,23452.0,35331.0,32032.0,28326.0,30501.0,29791.0,13510.0,17884.0,26284.0,81062.0,46969.0,58869.0,2366.0,54815.0,31575.0,30251.0,53503.0,69673.0,42213.0,23333.0,39533.0,30176.0,46449.0,34416.0,33212.0,63130.0,17760.0,42619.0,18622.0,18625.0,22427.0,20820.0,41274.0,23448.0,24476.0,20120.0,15339.0,12047.0,22540.0,19177.0,19836.0,38901.0,27924.0,24540.0,14194.0,27225.0,22904.0,30476.0,33975.0,23478.0,28007.0,42550.0,29622.0,32120.0,29045.0,29146.0,28529.0,38844.0,37487.0,58148.0,23005.0,36318.0,34570.0,39656.0,35439.0,37685.0,22585.0,3075.0,21035.0,21036.0,17405.0,17930.0,18907.0,20652.0,29042.0,22518.0,24828.0,23487.0,20490.0,18579.0,19313.0,18551.0,22284.0,23659.0,23095.0,30083.0,27095.0,42674.0,37149.0,23681.0,22368.0,22150.0,22448.0,30359.0,20245.0,20726.0,23785.0,19158.0,45846.0,21438.0,32559.0,30355.0,28332.0,16895.0,24383.0,34466.0,28386.0,25005.0,21890.0,37185.0,32995.0,39626.0,32887.0,28376.0,31183.0,23448.0,21759.0,22017.0,28418.0,25445.0,22285.0,30404.0,23415.0,24599.0,27424.0,39473.0,28332.0,31741.0,24538.0,14992.0,21404.0,20612.0,19765.0,21944.0,26378.0,39572.0,22562.0,10781.0,59640.0,60751.0,76578.0,46954.0,29516.0,45133.0,31942.0,34237.0,59645.0,52090.0,15094.0,28578.0,17984.0,28002.0,32035.0,24824.0,24967.0,35982.0,37664.0,40332.0,37002.0,31716.0,35127.0,55048.0,32323.0,53237.0,55898.0,42317.0,59450.0,51137.0,51214.0,46338.0,38423.0,47162.0,47598.0,56157.0,32604.0,40313.0,36446.0,62951.0,25937.0,48392.0,75725.0,39571.0,16851.0,62170.0,9224.0,34175.0,24866.0,28526.0,17697.0,43957.0,24113.0,24369.0,23065.0,28187.0,25810.0,20717.0,26047.0,41413.0,23004.0,28090.0,34853.0,38255.0,27644.0,28179.0,24862.0,30206.0,30038.0,36397.0,39857.0,77404.0,56638.0,25599.0,49708.0,44230.0,44461.0,45232.0,39343.0,38851.0,44599.0,50811.0,54456.0,37827.0,45425.0,45637.0,65917.0,41038.0,22432.0,25413.0,25320.0,17400.0,23538.0,22769.0,22310.0,22084.0,27416.0,40872.0,24223.0,33518.0,25258.0,26945.0,23315.0,28276.0,37256.0,19694.0,18287.0,39091.0,54541.0,25085.0,18451.0,28347.0,39362.0,25517.0,40614.0,22724.0,35975.0,32844.0,47850.0,35006.0,43499.0,63941.0,22577.0,19288.0,35256.0,34297.0,40818.0,29954.0,64887.0,49164.0,43205.0,31607.0,36596.0,25568.0,34660.0,968.0,21885.0,56321.0,71558.0,48229.0,48590.0,40661.0,39791.0,28869.0,20418.0,26717.0,22387.0,20065.0,26633.0,24181.0,23428.0,31047.0,33737.0,39238.0,33317.0,21067.0,26698.0,25632.0,27696.0,23756.0,37293.0,35704.0,24943.0,29931.0,33881.0,22351.0,27263.0,19609.0,41272.0,30126.0,28160.0,57159.0,52688.0,63820.0,27985.0,29889.0,33794.0,28829.0,30215.0,37626.0,31440.0,37276.0,24596.0,26461.0,41746.0,50831.0,30245.0,42421.0,31989.0,48704.0,61136.0,35373.0,31174.0,26005.0,19334.0,40168.0,33900.0,61768.0,64524.0,60634.0,35536.0,17058.0,26922.0,22261.0,26504.0,32551.0,71799.0,25417.0,17932.0,40136.0,41772.0,39499.0,34834.0,24295.0,43334.0,20142.0,40458.0,24060.0,43834.0,34870.0,22054.0,17146.0,24923.0,31663.0,30871.0,36685.0,41850.0,35278.0,37798.0,39128.0,43709.0,46041.0,41396.0,46831.0,55520.0,42212.0,37265.0,29240.0,23121.0,23793.0,30069.0,25888.0,28609.0,24426.0,24863.0,25321.0,29659.0,25107.0,22405.0,23609.0,27718.0,21069.0,23409.0,23113.0,32493.0,44058.0,29069.0,28003.0,27325.0,18975.0,20817.0,42973.0,18824.0,23091.0,45953.0,22018.0,30866.0,24702.0,32957.0,30944.0,31907.0,33531.0,36525.0,29950.0,12756.0,22507.0,23354.0,26007.0,22478.0,33968.0,17391.0,15393.0,16369.0,3442.0,9218.0,14374.0,12055.0,14199.0,16498.0,11606.0,30989.0,60427.0,72376.0,43840.0,21678.0,53309.0,28080.0,38911.0,31089.0,25908.0,23512.0,70541.0,72795.0,72134.0,57918.0,55045.0,62728.0,48984.0,41663.0,93374.0,55096.0,57904.0,80676.0,25705.0,27919.0,76343.0,128043.0,89947.0,97930.0,107335.0,138988.0,78018.0,35688.0,31834.0,81588.0,103346.0,125104.0,44371.0,188799.0,58335.0,145389.0,136552.0,34781.0,111589.0,95209.0,45981.0,29101.0,23786.0,33517.0,25712.0,17716.0,32197.0,50306.0,27621.0,37596.0,32331.0,19224.0,19180.0,42272.0,26059.0,48619.0,37995.0,55616.0,25911.0,34306.0,27912.0,10767.0,25198.0,18253.0,35060.0,28754.0,27827.0,32466.0,21435.0,3984.0,16466.0,29498.0,14380.0,2001.0,24084.0,31053.0,19983.0,11459.0,15079.0,1915.0,17684.0,12544.0,26479.0,35795.0,27353.0,30345.0,31970.0,35484.0,42226.0,31001.0,34993.0,36542.0,17561.0,17935.0,26902.0,57430.0,28699.0,38160.0,27345.0,57891.0,21875.0,21108.0,1080.0,14049.0,27433.0,64168.0,32414.0,60057.0,54568.0,65485.0,68103.0,71385.0,51934.0,61967.0,45549.0,63864.0,54497.0,49106.0,29177.0,65733.0,41799.0,34440.0,33294.0,37669.0,45769.0,28902.0,21536.0,29145.0,23592.0,23125.0,25460.0,7526.0,32142.0,25125.0,24508.0,62466.0,12727.0,50999.0,31984.0,13142.0,29398.0,24623.0,47682.0,26559.0,39648.0,49748.0,43570.0,71652.0,47015.0,35737.0,28186.0,28321.0,49035.0,33759.0,32931.0,39178.0,45974.0,59207.0,32171.0,17875.0,23418.0,26098.0,30258.0,35449.0,63063.0,15467.0,33326.0,32603.0,23895.0,86538.0,17448.0,60414.0,21936.0,23477.0,32552.0,18184.0,32046.0,47058.0,33717.0,47741.0,16949.0,24243.0,32091.0,32103.0,29476.0,39326.0,30508.0,22474.0,39680.0,48197.0,21028.0,31788.0,34395.0,48124.0,82246.0,16395.0,27925.0,21104.0,25401.0,30235.0,37235.0,44758.0,51668.0,46750.0,36121.0,21671.0,28116.0,23899.0,24827.0,25494.0,30100.0,41885.0,40985.0,27597.0,29723.0,23024.0,24615.0,22554.0,24349.0,20918.0,24148.0,23922.0,28146.0,26653.0,15288.0,27722.0,35509.0,26720.0,23136.0,25221.0,12966.0,20160.0,16048.0,24097.0,26775.0,14621.0,20308.0,22504.0,21273.0,17523.0,13548.0,17997.0,14616.0,17497.0,13678.0,30336.0,14868.0,21079.0,15038.0,13696.0,16934.0,15128.0,17371.0,14923.0,16785.0,14265.0,15746.0,17335.0,18547.0,17605.0,14196.0,19772.0,13445.0,20810.0,23834.0,20480.0,20321.0,33713.0,23693.0,19082.0,30031.0,25066.0,17963.0,25003.0,20420.0,21717.0,35239.0,45343.0,44305.0,44144.0,61455.0,25351.0,29843.0,11688.0,27129.0,19409.0,5984.0,39714.0,86208.0,65627.0,44390.0,9732.0,28461.0,35526.0,80490.0,24537.0,28162.0,22351.0,41023.0,42063.0,41235.0,36800.0,45708.0,53624.0,13634.0,14161.0,12102.0,13974.0,15351.0,31885.0,14120.0,14939.0,17462.0,13406.0,16952.0,11196.0,15398.0,14050.0,15478.0,14547.0,12839.0,24510.0,22553.0,1465.0,33339.0,35836.0,17956.0,47483.0,38910.0,22485.0,19671.0,21738.0,19851.0,24806.0,26186.0,25953.0,26723.0,28912.0,14484.0,13052.0,18397.0,20309.0,19943.0,14321.0,16250.0,13698.0,18045.0,18573.0,25038.0,17895.0,12635.0,12642.0,12595.0,13894.0,15913.0,15457.0,14605.0,13860.0,15832.0,15360.0,21118.0,17524.0,14509.0,14441.0,13742.0,19512.0,42723.0,26448.0,31214.0,23152.0,2004.0,18968.0,16709.0,25522.0,22578.0,18189.0,20496.0,21688.0,30466.0,26659.0,24833.0,24010.0,20120.0,22421.0,49758.0,22958.0,19462.0,21596.0,22612.0,23975.0,24597.0,28708.0,21012.0,21765.0,19688.0,23686.0,22862.0,19579.0,20063.0,25476.0,14354.0,17593.0,21449.0,25693.0,21208.0,67638.0,20342.0,22274.0,24840.0,26716.0,21068.0,6396.0,21198.0,21425.0,24005.0,24461.0,24793.0,23780.0,25862.0,20438.0,16844.0,29843.0,31627.0,35602.0,23200.0,12538.0,20673.0,30060.0,15812.0,16359.0,13444.0,20251.0,58693.0,23426.0,33981.0,39961.0,32564.0,41195.0,26345.0,29921.0,12443.0,16123.0,13726.0,19913.0,57769.0,25280.0,31049.0,34133.0,38835.0,27214.0,34176.0,40250.0,13366.0,15030.0,17182.0,25060.0,23135.0,12502.0,11101.0,43228.0,20119.0,11333.0,12512.0,12551.0,14365.0,13512.0,10699.0,38033.0,25090.0,23357.0,17686.0,27353.0,28774.0,28463.0,35027.0,28296.0,23333.0,21490.0,31538.0,33468.0,32534.0,37981.0,21306.0,20368.0,21984.0,25091.0,22027.0,31764.0,33079.0,35214.0,41205.0,39334.0,42922.0,38522.0,49234.0,39164.0,47683.0,23918.0,39321.0,31231.0,18844.0,28629.0,13579.0,12072.0,15970.0,93679.0,2035.0,13091.0,16368.0,26193.0,21072.0,16303.0,50378.0,57407.0,58768.0,35848.0,34302.0,14713.0,20503.0,29964.0,30497.0,25044.0,44061.0,19097.0,22231.0,19838.0,19104.0,31507.0,12568.0,3314.0,22545.0,9971.0,10875.0,26331.0,57383.0,15913.0,13989.0,29973.0,25961.0,19765.0,17294.0,19987.0,20123.0,22076.0,23703.0,21824.0,22297.0,17774.0,20017.0,18423.0,22592.0,21138.0,16592.0,29979.0,23460.0,23253.0,26984.0,36785.0,20848.0,26042.0,25279.0,20498.0,18807.0,18678.0,22785.0,21553.0,21848.0,23440.0,24014.0,24108.0,42869.0,65635.0,20382.0,25626.0,26248.0,18229.0,40781.0,23231.0,29122.0,30575.0,31090.0,28022.0,52147.0,19918.0,19888.0,38952.0,54930.0,59337.0,49666.0,50495.0,84500.0,79128.0,44366.0,80695.0,63703.0,17835.0,18980.0,18573.0,45527.0,23494.0,17961.0,15855.0,23369.0,23272.0,22095.0,23141.0,18008.0,28913.0,37451.0,45475.0,38532.0,54044.0,41980.0,32837.0,25307.0,44859.0,37948.0,44764.0,18056.0,37601.0,29043.0,69103.0,28276.0,52467.0,57457.0,36651.0,42272.0,21220.0,28984.0,37749.0,31113.0,22852.0,19780.0,25324.0,36442.0,36034.0,28777.0,37298.0,24415.0,31872.0,28413.0,25794.0,18035.0,41070.0,37005.0,21687.0,33865.0,18261.0,36030.0,54586.0,27464.0,20626.0,31092.0,26834.0,21985.0,34619.0,15119.0,28292.0,53782.0,50979.0,20015.0,30540.0,20930.0,24204.0,31744.0,35056.0,16678.0,23583.0,20771.0,20435.0,18140.0,32171.0,26010.0,20577.0,23768.0,22260.0,21518.0,20101.0,29241.0,18073.0,29434.0,22923.0,26496.0,25369.0,32752.0,36843.0,24048.0,21882.0,19886.0,20334.0,46497.0,36509.0,32765.0,38979.0,39978.0,47340.0,29784.0,30004.0,25509.0,23693.0,26404.0,41465.0,23682.0,27109.0,23547.0,18015.0,25292.0,66317.0,46592.0,19914.0,28013.0,21375.0,21044.0,23053.0,23390.0,24621.0,22903.0,20131.0,40407.0,26035.0,30621.0,18237.0,24457.0,29489.0,71019.0,44514.0,48851.0,45660.0,48048.0,25762.0,35148.0,47474.0,24485.0,26887.0,17992.0,30089.0,49227.0,65917.0,51661.0,49834.0,51642.0,55973.0,53163.0,52416.0,24437.0,25255.0,22158.0,27688.0,30097.0,21404.0,32763.0,46758.0,46812.0,46638.0,48206.0,53546.0,41119.0,22743.0,27248.0,33605.0,38964.0,26946.0,26568.0,47579.0,34032.0,29055.0,13926.0,29583.0,13982.0,14038.0,33818.0,38279.0,36190.0,25893.0,23065.0,26226.0,10095.0,28639.0,22199.0,18398.0,21384.0,19951.0,21410.0,32705.0,14218.0,17935.0,20289.0,23104.0,44245.0,39262.0,38637.0,41114.0,43998.0,40005.0,43585.0,41266.0,35418.0,32619.0,22632.0,39376.0,39825.0,42834.0,47771.0,30208.0,15400.0,18627.0,36138.0,26259.0,5949.0,6057.0,54149.0,43787.0,27365.0,50775.0,52940.0,9920.0,29085.0,181987.0,42458.0,31439.0,75338.0,94893.0,38915.0,99183.0,102425.0,104590.0,31478.0,40532.0,30826.0,2409.0,27238.0,13436.0,21685.0,13348.0,16158.0,14943.0,29493.0,15336.0,11821.0,12888.0,11598.0,16688.0,13533.0,15967.0,13269.0,11434.0,73051.0,60963.0,46212.0,46981.0,38699.0,53506.0,43956.0,37296.0,41016.0,46908.0,43695.0,45026.0,28388.0,58709.0,53761.0,42010.0,45221.0,48663.0,77556.0,33181.0,32864.0,119310.0,58906.0,16199.0,1924.0,36096.0,27894.0,11036.0,17730.0,15339.0,48294.0,13671.0,14077.0,13054.0,11320.0,9758.0,40030.0,10214.0,11808.0,13797.0,46754.0,15910.0,33703.0,35480.0,44231.0,129768.0,61387.0,53160.0,109810.0,28952.0,32448.0,61697.0,24554.0,21827.0,21188.0,15215.0,988.0,27137.0,26286.0,15583.0,22714.0,35625.0,19404.0,16927.0,16756.0,20830.0,20727.0,23588.0,25965.0,22636.0,20046.0,16818.0,40868.0,53119.0,25971.0,38873.0,27414.0,26264.0,19779.0,40150.0,21308.0,48155.0,22095.0,42712.0,41858.0,34355.0,35666.0,42286.0,51021.0,36589.0,50740.0,24087.0,38334.0,39202.0,14668.0,17365.0,28027.0,63035.0,55705.0,33196.0,25729.0,23151.0,15285.0,24031.0,37121.0,43991.0,45280.0,47075.0,40880.0,17868.0,20790.0,61288.0,20550.0,25259.0,23859.0,18902.0,22120.0,19530.0,23279.0,26451.0,19896.0,27614.0,26221.0,28711.0,20622.0,17577.0,17340.0,15993.0,19229.0,40597.0,18659.0,27578.0,26831.0,26631.0,105221.0,20743.0,22052.0,20399.0,31986.0,27887.0,23413.0,26538.0,28953.0,28594.0,28249.0,22305.0,30045.0,32722.0,94796.0,26754.0,30836.0,23545.0,26513.0,28908.0,30007.0,30488.0,34634.0,22723.0,18901.0,14878.0,58794.0,21462.0,56919.0,17287.0,21442.0,22436.0,67462.0,29328.0,26701.0,22743.0,26863.0,27436.0,26202.0,25572.0,38427.0,53406.0,47169.0,44017.0,40377.0,37287.0,24739.0,16294.0,19604.0,18110.0,18273.0,15916.0,18050.0,1381.0,21083.0,24579.0,22466.0,23787.0,27008.0,22377.0,20104.0,18370.0,18505.0,18488.0,24680.0,49050.0,19913.0,23540.0,21585.0,18101.0,21503.0,32001.0,26368.0,20485.0,22585.0,21485.0,22438.0,28850.0,23272.0,21324.0,25241.0,27412.0,31077.0,17000.0,25109.0,28155.0,23465.0,14366.0,19988.0,29762.0,25278.0,21691.0,24213.0,18246.0,19011.0,23732.0,31546.0,30482.0,34014.0,16073.0,21469.0,21639.0,14467.0,43838.0,35144.0,21638.0,20681.0,18186.0,19116.0,26620.0,69019.0,54124.0,22897.0,21140.0,37181.0,37187.0,37033.0,40053.0,35901.0,43415.0,41895.0,45053.0,53519.0,50177.0,35817.0,36564.0,28013.0,20448.0,26586.0,82083.0,44318.0,105737.0,34816.0,9520.0,6251.0,10451.0,4068.0,3826.0,1157.0,1142.0,17577.0,7330.0,6794.0,12995.0,9652.0,6915.0,16674.0,11496.0,20153.0,15217.0,6512.0,7409.0,6512.0,19888.0,64836.0,24129.0,20517.0,59052.0,51018.0,45951.0,50775.0,73811.0,44985.0,63225.0,60793.0,57144.0,65538.0,67882.0,48522.0,36199.0,36558.0,29592.0,50855.0,38059.0,45011.0,35519.0,43496.0,32518.0,35113.0,34117.0,34707.0,33367.0,59258.0,53220.0,37577.0,37885.0,31987.0,9425.0,34039.0,36627.0,18031.0,35268.0,23268.0,5594.0,24456.0,31828.0,42719.0,11555.0,12122.0,12242.0,10059.0,7986.0,16496.0,327.0,836.0,218.0,327.0,836.0,218.0,4984.0,3833.0,180.0,267.0,735.0,960.0,1473.0,889.0,671.0,49.0,671.0,1259.0,770.0,1147.0,894.0,1109.0,893.0,994.0,2640.0,2034.0,1620.0,1358.0,631.0,459.0,764.0,743.0,1280.0,524.0,557.0,348.0,980.0,990.0,404.0,709.0,518.0,557.0,557.0,2545.0,1750.0,1486.0,863.0,846.0,3282.0,968.0,614.0,1383.0,722.0,1458.0,940.0,584.0,1057.0,1057.0,813.0,1958.0,1296.0,1617.0,936.0,1428.0,1471.0,1055.0,3129.0,1132.0,524.0,1258.0,1258.0,1356.0,927.0,48103.0,4517.0,267.0,754.0,5552.0,5552.0,8660.0,10584.0,10584.0,2776.0,8743.0,8580.0,8581.0,7604.0,8173.0,10944.0,11195.0,333.0,232.0,1778.0,3382.0,2538.0,539.0,982.0,704.0,334.0,507.0,266.0,511.0,511.0,2538.0,341.0,507.0,372.0,256.0,239.0,249.0,2793.0,1595.0,324.0,778.0,288.0,368.0,394.0,84.0,214.0,200.0,164.0,160.0,205.0,201.0,246.0,186.0,177.0,158.0,366.0,366.0,517.0,366.0,276.0,249.0,249.0,366.0,172.0,254.0,197.0,351.0,274.0,743.0,309.0,185.0,274.0,274.0,258.0,200.0,657.0,723.0,796.0,368.0,137.0,270.0,274.0,455.0,657.0,723.0,796.0,368.0,582.0,461.0,720.0,720.0,720.0,720.0,638.0,470.0,529.0,907.0,956.0,483.0,185.0,616.0,573.0,405.0,972.0,627.0,401.0,1026.0,7977.0,1997.0,1361.0,1295.0,1617.0,2091.0,2752.0,4023.0,5924.0,378.0,797.0,1202.0,2118.0,303.0,333.0,1095.0,656.0,683.0,564.0,826.0,216.0,1220.0,411.0,1304.0,1563.0,1082.0,773.0,905.0,423.0,524.0,727.0,5587.0,185.0,295.0,106.0,320.0,711.0,180.0,327.0,419.0,631.0,419.0,411.0,447.0,447.0,354.0,389.0,295.0,226.0,582.0,276.0,212.0,631.0,517.0,726.0,487.0,636.0,711.0,711.0,1281.0,1281.0,3565.0,81642.0,63877.0,101500.0,2011.0,3693.0,3693.0,1577.0,1166.0,1891.0,4458.0,1938.0,42508.0,100610.0,59269.0,5042.0,4010.0,85435.0,32665.0,37111.0,25847.0,56307.0,49971.0,9748.0,9343.0,12047.0,16555.0,13881.0,11731.0,7955.0,3946.0,42637.0,53148.0,86755.0,100178.0,8608.0,115606.0,4950.0,51484.0,773.0,51722.0,74655.0,47656.0,95348.0,62775.0,51924.0,46819.0,41399.0,1954.0,2014.0,2840.0,1615.0,2011.0,1989.0,1561.0,1561.0,1561.0,620.0,380.0,2541.0,3075.0,500.0,2780.0,719.0,3534.0,211.0,609.0,481.0,347.0,503.0,595.0,720.0,861.0,655.0,962.0,720.0,700.0,889.0,254.0,460.0,460.0,597.0,307.0,254.0,1450.0,639.0,424.0,503.0,665.0,670.0,810.0,900.0,1117.0,810.0,910.0,920.0,937.0,972.0,1164.0,1388.0,630.0,923.0,1071.0,1235.0,6009.0,6009.0,947.0,1062.0,683.0,1047.0,1132.0,1413.0,569.0,639.0,4344.0,732.0,6353.0,609.0,512.0,217.0,665.0,270.0,318.0,1402.0,758.0,1262.0,254.0,1038.0,1779.0,1049.0,1768.0,1049.0,632.0,445.0,2780.0,728.0,4545.0,473.0,1397.0,1164.0,782.0,4911.0,5775.0,2346.0,5054.0,4848.0,11865.0,758.0,3741.0,2374.0,821.0,986.0,821.0,722.0,2141.0,3282.0,668.0,3282.0,1296.0,4659.0,2058.0,668.0,958.0,823.0,634.0,1705.0,740.0,491.0,1705.0,3213.0,771.0,875.0,492.0,670.0,737.0,771.0,702.0,1036.0,2526.0,668.0,2526.0,1117.0,1247.0,1355.0,750.0,986.0,753.0,722.0,2526.0,989.0,1516.0,2339.0,3217.0,886.0,4920.0,1071.0,1519.0,771.0,2526.0,2745.0,635.0,780.0,823.0,1573.0,1214.0,670.0,427.0,1400.0,1226.0,3787.0,5301.0,632.0,3585.0,4421.0,4040.0,4028.0,601.0,601.0,3018.0,3018.0,5039.0,2335.0,2388.0,2388.0,2539.0,1163.0,810.0,668.0,578.0,668.0,757.0,2054.0,2539.0,2054.0,1527.0,2286.0,2539.0,668.0,670.0,1168.0,821.0,3238.0,1240.0,6537.0,707.0,2539.0,2539.0,462.0,1385.0,821.0,986.0,520.0,988.0,657.0,718.0,494.0,316.0,434.0,668.0,722.0,307.0,460.0,226.0,305.0,532.0,563.0,1038.0,1036.0,715.0,1038.0,1036.0,1093.0,718.0,443.0,503.0,243.0,348.0,506.0,443.0,302.0,546.0,589.0,651.0,391.0,645.0,466.0,1101.0,586.0,797.0,609.0,4545.0,1262.0,2133.0,5025.0,4887.0,50.0,3984.0,4448.0,1589.0,671.0,1082.0,2346.0,2009.0,3788.0,796.0,763.0,1462.0,696.0,2346.0,2741.0,632.0,696.0,1665.0,1093.0,1398.0,3119.0,673.0,1016.0,4217.0,279.0,264.0,504.0,784.0,702.0,1011.0,993.0,993.0,1702.0,1702.0,517.0,517.0,1440.0,428.0,563.0,757.0,893.0,452.0,7103.0,473.0,7069.0,621.0,1215.0,6129.0,4545.0,238.0,332.0,5285.0,757.0,10889.0,2484.0,393.0,2779.0,953.0,4054.0,967.0,651.0,916.0,3561.0,2829.0,2829.0,1494.0,865.0,1818.0,673.0,417.0,6149.0,6468.0,368.0,417.0,821.0,2576.0,810.0,5537.0,758.0,373.0,344.0,500.0,500.0,191.0,362.0,117.0,301.0,301.0,191.0,417.0,821.0,726.0,478.0,478.0,266.0,285.0,285.0,226.0,250.0,285.0,285.0,708.0,711.0,631.0,74.0,266.0,150.0,1574.0,264.0,11.0,129.0,557.0,536.0,164.0,614.0,173.0,318.0,318.0,455.0,455.0,782.0,550.0,624.0,93.0,104.0,114.0,127.0,139.0,500.0,355.0,168.0,164.0,966.0,163.0,381.0,618.0,618.0,618.0,618.0,618.0,618.0,618.0,618.0,618.0,618.0,618.0,618.0,618.0,1262.0,263.0,139.0,618.0,618.0,618.0,618.0,618.0,618.0,618.0,500.0,500.0,500.0,500.0,618.0,500.0,500.0,229.0,483.0,470.0,106.0,500.0,631.0,116.0,26.0,289.0,266.0,133.0,500.0,500.0,302.0,151.0,183.0,500.0,500.0,500.0,92.0,135.0,135.0,401.0,401.0,270.0,401.0,401.0,270.0,270.0,322.0,270.0,270.0,324.0,78.0,45.0,78.0,142.0,156.0,78.0,110.0,130.0,164.0,237.0,972.0,401.0,142.0,156.0,379.0,486.0,274.0,274.0,355.0,355.0,355.0,355.0,355.0,355.0,578.0,289.0,289.0,58.0,97.0,58.0,116.0,116.0,58.0,58.0,58.0,116.0,116.0,149.0,58.0,324.0,324.0,589.0,589.0,589.0,578.0,116.0,116.0,116.0,116.0,231.0,116.0,116.0,116.0,231.0,919.0,231.0,231.0,231.0,347.0,462.0,156.0,156.0,156.0,156.0,156.0,156.0,156.0,156.0,156.0,568.0,324.0,239.0,217.0,152.0,197.0,217.0,217.0,164.0,164.0,122.0,58.0,135.0,87.0,541.0,221.0,221.0,607.0,221.0,221.0,103.0,103.0,103.0,295.0,295.0,295.0,561.0,64.0,324.0,432.0,486.0,491.0,432.0,541.0,648.0,757.0,1296.0,541.0,702.0,811.0,919.0,953.0,1143.0,1335.0,469.0,2553.0,2553.0,2553.0,2553.0,2553.0,1031.0,2553.0,2553.0,2553.0,2553.0,2808.0,1246.0,2553.0,2553.0,2553.0,2553.0,2553.0,2553.0,2553.0,2418.0,2418.0,2660.0,2808.0,2808.0,2846.0,2808.0,2808.0,2808.0,1993.0,1993.0,2553.0,2808.0,1470.0,2808.0,2553.0,864.0,295.0,324.0,280.0,173.0,358.0,595.0,648.0,785.0,864.0,785.0,589.0,324.0,156.0,237.0,1078.0,256.0,864.0,100.0,757.0,688.0,116.0,1275.0,2553.0,2553.0,2553.0,1275.0,648.0,219.0,219.0,219.0,87.0,568.0,217.0,197.0,648.0,648.0,589.0,981.0,1296.0,1943.0,2590.0,3238.0,884.0,884.0,589.0,2590.0,3238.0,3925.0,972.0,884.0,972.0,497.0,335.0,751.0,1618.0,1834.0,1961.0,688.0,746.0,508.0,491.0,630.0,792.0,344.0,681.0,1471.0,116.0,127.0,139.0,116.0,127.0,139.0,589.0,1080.0,295.0,620.0,1189.0,757.0,757.0,785.0,785.0,785.0,785.0,1178.0,1296.0,1471.0,1471.0,972.0,541.0,541.0,972.0,757.0,795.0,1471.0,1667.0,688.0,1080.0,1667.0,1834.0,919.0,774.0,670.0,884.0,1080.0,648.0,648.0,648.0,596.0,541.0,432.0,295.0,485.0,688.0,4534.0,4534.0,4710.0,4710.0,4534.0,4534.0,4534.0,4534.0,2460.0,2460.0,2957.0,3148.0,4121.0,4534.0,582.0,582.0,2576.0,2576.0,324.0,324.0,324.0,324.0,648.0,648.0,648.0,648.0,1296.0,1296.0,536.0,648.0,648.0,648.0,648.0,648.0,648.0,4710.0,4710.0,1189.0,1189.0,1080.0,1080.0,972.0,972.0,972.0,972.0,1080.0,1080.0,1080.0,1080.0,1618.0,1618.0,1618.0,1618.0,648.0,648.0,7555.0,1618.0,6868.0,6868.0,6868.0,6868.0,864.0,785.0,1.0,318.0,570.0,854.0,243.0,243.0,4696.0,4696.0,243.0,243.0,2135.0,243.0,243.0,243.0,243.0,243.0,243.0,4037.0,2135.0,2543.0,8635.0,7850.0,4319.0,3925.0,3925.0,3925.0,3925.0,7850.0,7850.0,3925.0,3925.0,3925.0,1471.0,1471.0,1471.0,1617.0,84.0,1471.0,1471.0,589.0,578.0,531.0,243.0,243.0,671.0,2590.0,1733.0,1571.0,1432.0,1361.0,1134.0,347.0,2158.0,2158.0,2158.0,3671.0,3671.0,3671.0,3671.0,3337.0,3337.0,3337.0,3671.0,3671.0,3337.0,3337.0,3671.0,3671.0,3337.0,3337.0,3337.0,3337.0,3337.0,3671.0,3337.0,864.0,864.0,2968.0,2968.0,2968.0,531.0,2864.0,2864.0,2864.0,481.0,688.0,393.0,393.0,3337.0,910.0,503.0,2864.0,2864.0,2864.0,1361.0,849.0,1536.0,1051.0,979.0,3350.0,3350.0,1458.0,1458.0,1693.0,1693.0,607.0,607.0,407.0,407.0,1431.0,1288.0,1317.0,1431.0,404.0,299.0,299.0,3337.0,1389.0,795.0,2553.0,2808.0,1423.0,1423.0,2553.0,2808.0,2135.0,1961.0,1535.0,2808.0,1608.0,1707.0,1707.0,1296.0,1402.0,3337.0,491.0,3337.0,3337.0,3337.0,3337.0,1371.0,1371.0,1371.0,1371.0,3337.0,3337.0,3337.0,3337.0,1371.0,1371.0,1371.0,1371.0,3337.0,3337.0,3337.0,2808.0,2418.0,2418.0,3337.0,2808.0,3130.0,2553.0,1535.0,2553.0,1134.0,1361.0,3337.0,1535.0,2553.0,2135.0,2135.0,3337.0,3337.0,3925.0,648.0,1471.0,1471.0,1275.0,1961.0,568.0,757.0,757.0,1402.0,1189.0,1402.0,1618.0,1719.0,1189.0,381.0,1471.0,1471.0,1080.0,854.0,972.0,491.0,295.0,757.0,596.0,681.0,295.0,712.0,1134.0,884.0,491.0,688.0,1485.0,287.0,287.0,757.0,702.0,1189.0,932.0,1961.0,2553.0,1402.0,801.0,1020.0,497.0,907.0,1134.0,927.0,1855.0,1080.0,2355.0,497.0,1133.0,816.0,1471.0,1471.0,1471.0,1080.0,2846.0,972.0,2944.0,854.0,4513.0,884.0,1471.0,2590.0,2355.0,5691.0,2135.0,6402.0,3925.0,3557.0,5439.0,3141.0,6764.0,3026.0,6764.0,2846.0,6764.0,2846.0,6764.0,6764.0,3026.0,2670.0,3026.0,7114.0,854.0,854.0,8537.0,4268.0,5123.0,3984.0,2314.0,14226.0,4268.0,9958.0,570.0,2314.0,3557.0,3557.0,5123.0,5123.0,5123.0,5123.0,1070.0,96.0,1031.0,1275.0,712.0,726.0,1514.0,508.0,38.0,3915.0,7114.0,10669.0,5691.0,5406.0,10669.0,14226.0,14226.0,17072.0,2355.0,2699.0,593.0,596.0,2314.0,1189.0,237.0,237.0,1080.0,1275.0,295.0,491.0,257.0,1864.0,2041.0,4053.0,1814.0,3557.0,2703.0,2784.0,2784.0,1134.0,681.0,4170.0,2721.0,3264.0,3740.0,4306.0,4306.0,4534.0,5668.0,4837.0,4837.0,4837.0,1361.0,1682.0,495.0,1140.0,949.0,96.0,681.0,347.0,462.0,462.0,116.0,116.0,116.0,116.0,231.0,231.0,1031.0,432.0,432.0,1.0,295.0,341.0,491.0,295.0,64.0,1399.0,539.0,589.0,308.0,1402.0,270.0,308.0,324.0,401.0,123.0,455.0,455.0,290.0,123.0,160.0,231.0,1.0,517.0,324.0,295.0,264.0,1766.0,238.0,238.0,238.0,238.0,627.0,1618.0,432.0,96.0,3774.0,3774.0,252.0,884.0,324.0,688.0,23.0,295.0,324.0,688.0,491.0,491.0,92.0,87.0,95.0,1961.0,390.0,618.0,618.0,618.0,9410.0,3012.0,3464.0,4203.0,5773.0,3464.0,4216.0,4517.0,4069.0,4596.0,6021.0,3464.0,4216.0,7284.0,4181.0,5227.0,6534.0,5798.0,4216.0,4517.0,3892.0,3952.0,4827.0,2646.0,3737.0,4517.0,4069.0,2035.0,3464.0,3773.0,5117.0,5488.0,3798.0,2286.0,927.0,2905.0,3508.0,3722.0,4137.0,5171.0,6204.0,4229.0,5262.0,1757.0,4647.0,5632.0,6998.0,1635.0,4647.0,6998.0,4445.0,5620.0,4191.0,5040.0,4624.0,4952.0,6768.0,7530.0,5662.0,4062.0,5683.0,5872.0,3542.0,4087.0,4761.0,5591.0,5872.0,5872.0,5872.0,5872.0,5948.0,2735.0,16799.0,2014.0,1450.0,931.0,1104.0,931.0,931.0,931.0,2035.0,568.0,288.0,312.0,312.0,312.0,312.0,931.0,1042.0,1567.0,391.0,1694.0,973.0,1227.0,1482.0,1736.0,1990.0,2244.0,2498.0,3176.0,3684.0,4193.0,4701.0,5209.0,5717.0,8833.0,8178.0,3657.0,3547.0,5392.0,9587.0,10375.0,1704.0,2054.0,1722.0,1547.0,1304.0,758.0,904.0,517.0,303.0,391.0,1561.0,1055.0,1296.0,1506.0,620.0,517.0,198.0,3547.0,19275.0,1464.0,210.0,297.0,297.0,7526.0,3676.0,1316.0,419.0,219.0,67.0,26.0,101.0,85.0,72.0,27.0,122.0,122.0,122.0,122.0,122.0,122.0,122.0,122.0,122.0,122.0,122.0,122.0,122.0,122.0,122.0,122.0,122.0,122.0,122.0,122.0,122.0,122.0,122.0,101.0,101.0,101.0,1578.0,1578.0,1578.0,1578.0,1578.0,1578.0,1578.0,185.0,3256.0,2960.0,670.0,1997.0,912.0,223.0,500.0,353.0,353.0,279.0,187.0,1181.0,131.0,2879.0,455.0,568.0,1105.0,309.0,414.0,414.0,517.0,414.0,517.0,919.0,459.0,483.0,148.0,289.0,1104.0,228.0,500.0,455.0,455.0,500.0,500.0,215.0,445.0,223.0,752.0,631.0,720.0,720.0,740.0,175.0,947.0,588.0,740.0,175.0,912.0,457.0,919.0,85.0,966.0,966.0,458.0,37147.0,1718.0,2554.0,1887.0,1894.0,1143.0,1122.0,1262.0,473.0,290.0,506.0,750.0,19008.0,620.0,762.0,762.0,680.0,1583.0,2487.0,3394.0,4298.0,5200.0,5421.0,1154.0,1223.0,510.0,445.0,140.0,210.0,6080.0,334.0,404.0,334.0,399.0,399.0,423.0,618.0,423.0,392.0,487.0,487.0,503.0,620.0,80.0,487.0,589.0,257.0,257.0,257.0,332.0,257.0,2063.0,1604.0,1719.0,762.0,956.0,1547.0,1509.0,1104.0,2296.0,2123.0,1752.0,1533.0,2352.0,1960.0,2183.0,1603.0,1601.0,861.0,1028.0,1874.0,1248.0,1170.0,1178.0,114.0,820.0,1884.0,968.0,1132.0,1247.0,452.0,543.0,579.0,455.0,534.0,368.0,544.0,368.0,2316.0,2316.0,828.0,1164.0,506.0,3455.0,1728.0,1262.0,541.0,330.0,313.0,156.0,83.0,117.0,1818.0,1232.0,630.0,4575.0,6024.0,2230.0,6608.0,10536.0,17828.0,12727.0,261.0,455.0,92.0,88.0,87.0,65.0,292.0,195.0,455.0,88.0,381.0,395.0,131.0,197.0,197.0,4450.0,11975.0,4450.0,725.0,850.0,950.0,1150.0,1400.0,1650.0,350.0,1875.0,2300.0,725.0,850.0,950.0,1150.0,1400.0,1650.0,350.0,2300.0,775.0,1200.0,1325.0,350.0,350.0,11975.0,725.0,725.0,350.0,350.0,11975.0,725.0,725.0,11975.0,800.0,850.0,7200.0,7700.0,800.0,850.0,9350.0,850.0,950.0,850.0,950.0,11975.0,725.0,850.0,800.0,1325.0,1750.0,2300.0,7200.0,725.0,850.0,350.0,350.0,4000.0,18925.0,11975.0,11975.0,20800.0,9350.0,4000.0,11975.0,11975.0,14400.0,14850.0,11975.0,14850.0,14850.0,11850.0,6600.0,11975.0,775.0,850.0,990.0,1050.0,1200.0,1325.0,1750.0,1875.0,2300.0,9375.0,2650.0,7200.0,9825.0,5975.0,11975.0,11975.0,7225.0,2650.0,2650.0,11975.0,14550.0,8025.0,8025.0,8025.0,9825.0,850.0,900.0,1100.0,1450.0,1925.0,2525.0,14850.0,15000.0,18925.0,25275.0,15000.0,8025.0,14850.0,11975.0,7100.0,25275.0,25275.0,25275.0,25275.0,12300.0,25275.0,20800.0,11975.0,18925.0,25275.0,11850.0,775.0,825.0,990.0,1325.0,1750.0,2300.0,9825.0,9825.0,14850.0,15600.0,20800.0,25275.0,9224.0,1537.0,2.0,2.0,586.0,18061.0,13545.0,592.0,785.0,91.0,18061.0,1645.0,922.0,441.0,2920.0,1542.0,8202.0,2960.0,6764.0,2114.0,7960.0,1639.0,5920.0,1184.0,4684.0,1646.0,13627.0,902.0,74407.0,2401.0,12793.0,5920.0,1184.0,4447.0,4447.0,1582.0,793.0,3796.0,3025.0,14822.0,2770.0,3094.0,9729.0,39194.0,18926.0,9327.0,1867.0,3954.0,2035.0,9405.0,9519.0,6080.0,13627.0,3552.0,747.0,747.0,747.0,518.0,1135.0,35530.0,35530.0,785.0,267.0,301.0,650.0,249.0,423.0,334.0,1318.0,423.0,185.0,185.0,176.0,185.0,582.0,720.0,123.0,335.0,503.0,202.0,507.0,423.0,341.0,341.0,24521.0,4228.0,5413.0,2069.0,16485.0,3535.0,1958.0,null,null,null,null,null,null,1231.0,592.0,2033.0,2538.0,3007.0,3314.0,5354.0,5244.0,8059.0,8916.0,12258.0,11887.0,10402.0,6068.0,3604.0,11011.0,4705.0,3312.0,4113.0,12429.0,3238.0,6298.0,5276.0,616.0,5920.0,592.0,4447.0,4447.0,24521.0,139754.0,101463.0,139754.0,125.0,487.0,212.0,106.0,9322.0,3259.0,3259.0,3259.0,8.0,676.0,256.0,635.0,356.0,261.0,237.0,null,null,null,null,null,null,null,null,null,null,null,null,null,null,null,null,null,294815.5066727272,96662.8645142857,null,194623.3204146342,289407.8753710844,167776.778881106,121969.20590745,null,176177.7075712329,133797.624876923,216331.502715,128145.4238166667,91807.73661,218232.371625,134147.486275,116545.3059333333,287701.8132357143,125511.2666083333,100912.2233046512,null,157243.7796215384,94955.7251166667,160443.20547,195859.6732084745,69928.4119763158,167043.1983605381,114634.6340660976,null,117667.9217057143,77095.2804151515,195223.4292694445,158475.2064244445,103770.6670454546,205361.7061481321,108625.4412514666,66527.426507874,86541.73375,69927.5939461539,64358.0340385475,175343.6870257576,95603.3606557692,62121.189555,176501.0726841464,72408.9203128572,128597.1280454546,84882.0407,185070.5491,121086.46975,203443.4228000001,46199.925,260040.2918337501,104559.8884576923,58025.0113913044,180832.732566,86733.8052382979,45131.9949847826,51473.87582,41027.5176555556,187980.5437214611,105349.4186838346,57601.6081733333,283156.08485,195264.2975307692,177383.7103714286,null,239347.2507515152,102272.9234285714,150839.4911852739,54382.0570496093,84727.371344,57143.335402649,124060.2219533333,89371.7143333333,162299.8398666667,190926.5093,108988.2454666667,157528.50514,61992.004175,63445.9300342857,60829.6703083333,67183.4826282609,217096.486375,106538.2629,59653.35065,45702.6603333333,68491.0057142857,241348.1659214286,139488.6595891305,111668.5258255475,null,92578.5323911111,57959.6553164948,103372.9697928571,109374.2917857143,61899.647125,55414.5798493671,80562.68075,72034.1285363637,77042.56158,44815.8350728916,139299.5665230769,62822.4486086207,48799.7233194444,118019.3374875,68740.3692142857,46433.2113933333,null,156559.0547138614,115224.3363566038,null,130909.5031,106192.69035,152881.079933813,71973.5573371429,145697.75364835,79786.3891863895,50891.8479425288,173203.1931482994,93688.7643571429,52729.3503333333,114749.7953705882,75556.744934375,47571.743645,159862.7540424242,94271.0207033334,68424.7452,121301.1692028661,106111.293987266,61944.7540192513,35351.2393658537,123924.0358151448,68437.0479455974,38110.8622300971,175084.2113546511,110837.8483583333,39525.314153125,136239.4817538461,76288.3121113636,47248.76682,75641.310634609,35839.1556038186,57788.6757,226773.9133607144,88774.4269923664,null,249361.8988394118,null,null,null,263814.0087166667,null,null,258797.3445428572,null,228770.2229333334,null,253747.611,null,192269.335225,null,185906.25227,null,null,null,null,293565.9537965518,null,204240.7198086956,255493.6328958904,164939.9243616162,119480.3418727273,null,203137.3958713113,102562.6488991543,217382.7756913043,105886.2514764706,232235.4009120536,143903.1876927632,92254.2591911765,189690.6044625001,120395.80681875,62422.941325,185408.61025,144439.9511714286,286855.5304230769,100000.8530346154,99156.8425370371,317769.714483146,283064.91015,null,203079.9016364312,null,173115.0401428572,null,189252.3507671428,115640.0315209302,248103.2725236559,137998.6732450865,176833.8361019369,92651.853295679,64306.3641606061,314793.5864325581,261155.7750427647,107939.6272301449,223875.1217142857,207676.461688889,121774.4935288841,81122.2501189189,46921.3888047619,229424.8739,272356.1138583333,130538.2192248276,77672.2693979381,56814.3080058824,113402.495656,51610.7431381444,123850.183343,53173.9645689119,201186.7400642857,79441.5646317073,108757.9205391753,60342.278645048,42879.2093577889,56864.7578038462,62127.7506237154,43254.7256024823,198886.8972977198,87607.9196299107,57481.4616487805,null,89647.1618052632,null,140241.5588287769,82899.2244240602,null,149864.9495534483,89675.95485,117660.6882,94682.55162,285879.2949346154,133258.5081107143,85822.3842142857,99676.24055,91560.2323484848,76023.6710018519,110641.2518272727,67763.0847822222,56234.964204375,130927.5825333333,162088.35615,85008.495975,259428.45072,84587.8656,51312.4089827586,316793.8621,91331.9669787879,56668.4805483871,207439.3467166667,107635.5215442105,77098.6904727273,312385.6410404256,161862.6260692308,72090.9973611111,108477.531181579,70122.9875939394,37834.21132,147355.4029231405,86110.303377707,50526.9249433735,171197.0049523561,90222.4731623932,72970.5011,153485.4182819081,77313.765747816,50811.2289849462,153969.3119392857,96200.2937103448,54777.76618,65874.0863333333,64303.6652896552,172869.4490181818,76750.8424074074,56965.2562957143,132476.2340966101,60044.9835976331,46315.6900196429,109690.2361816584,51475.4930265338,132997.2155577406,65553.7963788273,40456.8732306569,null,186036.1693411765,115397.9059891892,305475.94352,133645.7606,97966.4113125,180114.6871666666,124213.8909714286,126859.9151166667,149178.6437098901,97340.7259758242,72386.7379362934,168781.9863583334,95075.5378571429,248521.0439473685,86744.0261666667,207674.2048535353,92666.8227912622,48206.5143428571,165280.1498437126,94356.4085705883,47414.9742,131330.4062259259,68500.574663426,44357.0449876033,188148.9839380952,112386.5430827587,58317.3916344828,141711.3893916667,79635.504537063,52799.7429870968,null,302445.5819068571,231321.6189854168,null,312831.8771647727,274411.0006828572,null,183219.4717875517,127184.2562304348,null,194704.791754902,106377.542052,null,177257.2726155556,110420.6579036364,249987.5026,92585.1295002036,null,141579.2216167741,92341.3783751351,259160.60725,167668.933282353,null,237488.6075310346,126692.4440666667,312612.5006444445,131512.1593251462,104952.9639602941,131553.4403691489,null,134922.5822375,108857.3416666667,134469.275065625,83926.2400166667,185031.965723077,138786.7144961905,84081.1416293478,120656.1853,110335.6248090909,51753.4497,184401.5351666667,297679.3951777777,136856.7910923077,89924.0115966667,184851.458575,139740.8955222222,96990.65356875,164696.18155,108112.8945166667,88281.1450923077,80925.5231,65864.30475,null,147839.235002174,87771.2829325301,245082.3283500001,117069.9448505882,85814.6978260869,224033.1524163266,134868.428115748,19608.38665,78337.6771176471,120812.4738309524,59592.3430029851,38537.1342666667,188090.264152,127693.7001333333,49735.7186,196303.4881253013,121501.0760550562,47652.91866,188926.670858889,108369.750763,66425.881624,150609.4978,101141.4884444444,58917.3386666667,118913.007485567,76001.59980175,100445.9287568182,64776.491009396,106431.6699458333,55136.9318397727,130857.2730793104,69751.4368625,135819.5042846154,134361.1959405797,114117.7138809524,122746.9238375,63035.2881052631,167648.3022257143,111212.6031839286,54483.1863142857,null,101660.7917947368,97474.1553285714,null,null,218047.020875,139908.130875,236992.2757545455,94321.1786685394,104022.2556481202,130291.0390875,198529.247496,114911.1932714286,92327.38759375,171837.9554,87132.4614305556,52347.5167571429,242794.01458,99143.187139394,68613.7549384615,73274.490775,58964.3908466667,36228.8963833333,139403.364824031,60251.56719219,102060.2501459459,48241.35232,227817.3302181819,59939.2330173913,168258.0861082354,93539.8452846154,286809.4780588236,170068.5491357142,131343.39345,234890.7192333333,100389.424458772,73202.9578840868,263937.56875,128395.3081509434,85176.0945333334,null,96122.8564175,69094.5021348485,243537.7025368421,139478.3758161291,100471.1091571429,114846.2897042704,68381.7187899543,47044.1315078212,120286.4033692631,63555.8492021937,null,162844.6625067416,84572.4463267857,48719.6790242424,null,null,305115.9578230769,178656.1044709678,133598.0913866667,253404.9778291667,100971.0011196429,87390.157294,213892.50534023,89671.3888186046,63550.5523813043,176236.1155,131560.05989,72811.82224,null,67801.034175,39742.1254666667,279448.7720333334,92501.3777947369,59347.4731545455,74741.2013,307735.5977985715,155771.7412463415,115273.88628,120176.6999437636,73059.000265,47006.5266666667,146015.15855,103365.4931384615,102909.7660360098,67521.8672206522,108169.1880272727,43583.7318245614,49895.48565,39724.1466925926,59406.488275,160801.0950818182,85906.7416052117,45381.3245571429,109344.6644344828,67888.783610989,84353.0469666667,94782.0521428572,130093.3699625,44920.3855625,59889.8691732558,44137.1305952381,277075.4977666667,105819.6310285714,171612.9800157895,44833.80571,139671.5492545455,44746.9735285714,85534.195,54761.3753152174,53728.522575,51233.0962166667,106980.54205,77678.6226909091,null,107584.2105969697,80427.852725,204275.5511,105537.85035,78844.2871037037,154761.4188,66484.9899852273,152605.6001875,65348.48022,94367.14879,62599.2465625,76816.8871666667,139976.54614,56025.5103,205292.2060878788,97226.2089941177,75506.32834,113093.61255,67549.0313416667,42033.3752551724,53292.2229129032,33385.6196146342,53734.6367683007,84838.2532026316,49771.8105230769,41714.9665930435,47173.6829365854,115471.2800870968,71528.1738369048,54815.0854279279,82435.4738301749,67772.4526436129,57751.5390934966,null,null,272977.3369120435,67735.1451998148,129412.311132683,22610.5737106769,16861.7887663506,103937.0887846154,63235.147295,60497.841516,236824.718375,172563.7043,79082.62144,null,106510.7413111111,70431.9546333333,48124.7044725877,42317.6474516129,35193.0344200983,161353.1629148148,103143.536685124,72771.0442882353,150221.9095128931,64234.0067428382,109679.3681434427,240767.5206555556,92230.4739162162,48861.8273769231,74292.8056921053,66515.3616515151,72779.2200918919,null,222774.1186727273,78349.50345,null,215192.4209291667,93961.3854111111,null,176335.395731579,88212.7659466667,305604.7457380953,91972.5704666667,63224.8959146497,47219.7830166667,33682.8543163743,null,258937.2160892857,71608.5908333333,null,95484.9135753425,61984.7538104167,283408.2078217688,110449.3333697675,167287.9604391305,109590.173075,84245.4014,142994.2562962686,68956.8381458204,25733.8437375,247176.5091666667,null,144492.3589795181,104179.3016666667,null,153079.6051461539,77446.490325,144493.5190670887,72668.9224152381,55836.3727767677,108635.8633531915,55921.687561194,178028.964165,86786.2261740741,46484.4928375,null,192197.4954447977,82789.9130018761,null,60277.1563331035,75294.6300024691,102234.2408904762,119568.1797572327,112585.6109212264,129727.0343126917,75481.1225028571,81487.0274755556,49998.8689527273,127302.979825,146779.889425974,70814.5882545455,275272.24246,108535.04875,83820.614075,126493.4347666667,135681.97595,null,null,143583.4062464789,83064.9228645161,92857.4553714286,50267.218095,157949.128025,37754.7923746269,141292.3854398269,60897.9862451362,181900.6257173914,74029.6334122137,50688.2996807692,185622.4716363637,101867.5873807692,null,null,null,214491.1906333333,137220.4198401409,225078.6195,140128.1564611111,102219.40585,153548.6089973684,126884.3243133333,135929.0441784091,70468.0109765307,170474.0531965217,107854.66785,43396.2181891305,null,null,null,171201.74089,318251.4594095238,108756.77348125,132498.2533666667,null,314171.6287872882,101927.9990135135,55624.4069529412,93410.713026,null,184095.1290204082,85385.9418566038,null,126522.8711396227,77081.6394958333],\"type\":\"histogram\"}],                        {\"template\":{\"data\":{\"histogram2dcontour\":[{\"type\":\"histogram2dcontour\",\"colorbar\":{\"outlinewidth\":0,\"ticks\":\"\"},\"colorscale\":[[0.0,\"#0d0887\"],[0.1111111111111111,\"#46039f\"],[0.2222222222222222,\"#7201a8\"],[0.3333333333333333,\"#9c179e\"],[0.4444444444444444,\"#bd3786\"],[0.5555555555555556,\"#d8576b\"],[0.6666666666666666,\"#ed7953\"],[0.7777777777777778,\"#fb9f3a\"],[0.8888888888888888,\"#fdca26\"],[1.0,\"#f0f921\"]]}],\"choropleth\":[{\"type\":\"choropleth\",\"colorbar\":{\"outlinewidth\":0,\"ticks\":\"\"}}],\"histogram2d\":[{\"type\":\"histogram2d\",\"colorbar\":{\"outlinewidth\":0,\"ticks\":\"\"},\"colorscale\":[[0.0,\"#0d0887\"],[0.1111111111111111,\"#46039f\"],[0.2222222222222222,\"#7201a8\"],[0.3333333333333333,\"#9c179e\"],[0.4444444444444444,\"#bd3786\"],[0.5555555555555556,\"#d8576b\"],[0.6666666666666666,\"#ed7953\"],[0.7777777777777778,\"#fb9f3a\"],[0.8888888888888888,\"#fdca26\"],[1.0,\"#f0f921\"]]}],\"heatmap\":[{\"type\":\"heatmap\",\"colorbar\":{\"outlinewidth\":0,\"ticks\":\"\"},\"colorscale\":[[0.0,\"#0d0887\"],[0.1111111111111111,\"#46039f\"],[0.2222222222222222,\"#7201a8\"],[0.3333333333333333,\"#9c179e\"],[0.4444444444444444,\"#bd3786\"],[0.5555555555555556,\"#d8576b\"],[0.6666666666666666,\"#ed7953\"],[0.7777777777777778,\"#fb9f3a\"],[0.8888888888888888,\"#fdca26\"],[1.0,\"#f0f921\"]]}],\"heatmapgl\":[{\"type\":\"heatmapgl\",\"colorbar\":{\"outlinewidth\":0,\"ticks\":\"\"},\"colorscale\":[[0.0,\"#0d0887\"],[0.1111111111111111,\"#46039f\"],[0.2222222222222222,\"#7201a8\"],[0.3333333333333333,\"#9c179e\"],[0.4444444444444444,\"#bd3786\"],[0.5555555555555556,\"#d8576b\"],[0.6666666666666666,\"#ed7953\"],[0.7777777777777778,\"#fb9f3a\"],[0.8888888888888888,\"#fdca26\"],[1.0,\"#f0f921\"]]}],\"contourcarpet\":[{\"type\":\"contourcarpet\",\"colorbar\":{\"outlinewidth\":0,\"ticks\":\"\"}}],\"contour\":[{\"type\":\"contour\",\"colorbar\":{\"outlinewidth\":0,\"ticks\":\"\"},\"colorscale\":[[0.0,\"#0d0887\"],[0.1111111111111111,\"#46039f\"],[0.2222222222222222,\"#7201a8\"],[0.3333333333333333,\"#9c179e\"],[0.4444444444444444,\"#bd3786\"],[0.5555555555555556,\"#d8576b\"],[0.6666666666666666,\"#ed7953\"],[0.7777777777777778,\"#fb9f3a\"],[0.8888888888888888,\"#fdca26\"],[1.0,\"#f0f921\"]]}],\"surface\":[{\"type\":\"surface\",\"colorbar\":{\"outlinewidth\":0,\"ticks\":\"\"},\"colorscale\":[[0.0,\"#0d0887\"],[0.1111111111111111,\"#46039f\"],[0.2222222222222222,\"#7201a8\"],[0.3333333333333333,\"#9c179e\"],[0.4444444444444444,\"#bd3786\"],[0.5555555555555556,\"#d8576b\"],[0.6666666666666666,\"#ed7953\"],[0.7777777777777778,\"#fb9f3a\"],[0.8888888888888888,\"#fdca26\"],[1.0,\"#f0f921\"]]}],\"mesh3d\":[{\"type\":\"mesh3d\",\"colorbar\":{\"outlinewidth\":0,\"ticks\":\"\"}}],\"scatter\":[{\"fillpattern\":{\"fillmode\":\"overlay\",\"size\":10,\"solidity\":0.2},\"type\":\"scatter\"}],\"parcoords\":[{\"type\":\"parcoords\",\"line\":{\"colorbar\":{\"outlinewidth\":0,\"ticks\":\"\"}}}],\"scatterpolargl\":[{\"type\":\"scatterpolargl\",\"marker\":{\"colorbar\":{\"outlinewidth\":0,\"ticks\":\"\"}}}],\"bar\":[{\"error_x\":{\"color\":\"#2a3f5f\"},\"error_y\":{\"color\":\"#2a3f5f\"},\"marker\":{\"line\":{\"color\":\"#E5ECF6\",\"width\":0.5},\"pattern\":{\"fillmode\":\"overlay\",\"size\":10,\"solidity\":0.2}},\"type\":\"bar\"}],\"scattergeo\":[{\"type\":\"scattergeo\",\"marker\":{\"colorbar\":{\"outlinewidth\":0,\"ticks\":\"\"}}}],\"scatterpolar\":[{\"type\":\"scatterpolar\",\"marker\":{\"colorbar\":{\"outlinewidth\":0,\"ticks\":\"\"}}}],\"histogram\":[{\"marker\":{\"pattern\":{\"fillmode\":\"overlay\",\"size\":10,\"solidity\":0.2}},\"type\":\"histogram\"}],\"scattergl\":[{\"type\":\"scattergl\",\"marker\":{\"colorbar\":{\"outlinewidth\":0,\"ticks\":\"\"}}}],\"scatter3d\":[{\"type\":\"scatter3d\",\"line\":{\"colorbar\":{\"outlinewidth\":0,\"ticks\":\"\"}},\"marker\":{\"colorbar\":{\"outlinewidth\":0,\"ticks\":\"\"}}}],\"scattermapbox\":[{\"type\":\"scattermapbox\",\"marker\":{\"colorbar\":{\"outlinewidth\":0,\"ticks\":\"\"}}}],\"scatterternary\":[{\"type\":\"scatterternary\",\"marker\":{\"colorbar\":{\"outlinewidth\":0,\"ticks\":\"\"}}}],\"scattercarpet\":[{\"type\":\"scattercarpet\",\"marker\":{\"colorbar\":{\"outlinewidth\":0,\"ticks\":\"\"}}}],\"carpet\":[{\"aaxis\":{\"endlinecolor\":\"#2a3f5f\",\"gridcolor\":\"white\",\"linecolor\":\"white\",\"minorgridcolor\":\"white\",\"startlinecolor\":\"#2a3f5f\"},\"baxis\":{\"endlinecolor\":\"#2a3f5f\",\"gridcolor\":\"white\",\"linecolor\":\"white\",\"minorgridcolor\":\"white\",\"startlinecolor\":\"#2a3f5f\"},\"type\":\"carpet\"}],\"table\":[{\"cells\":{\"fill\":{\"color\":\"#EBF0F8\"},\"line\":{\"color\":\"white\"}},\"header\":{\"fill\":{\"color\":\"#C8D4E3\"},\"line\":{\"color\":\"white\"}},\"type\":\"table\"}],\"barpolar\":[{\"marker\":{\"line\":{\"color\":\"#E5ECF6\",\"width\":0.5},\"pattern\":{\"fillmode\":\"overlay\",\"size\":10,\"solidity\":0.2}},\"type\":\"barpolar\"}],\"pie\":[{\"automargin\":true,\"type\":\"pie\"}]},\"layout\":{\"autotypenumbers\":\"strict\",\"colorway\":[\"#636efa\",\"#EF553B\",\"#00cc96\",\"#ab63fa\",\"#FFA15A\",\"#19d3f3\",\"#FF6692\",\"#B6E880\",\"#FF97FF\",\"#FECB52\"],\"font\":{\"color\":\"#2a3f5f\"},\"hovermode\":\"closest\",\"hoverlabel\":{\"align\":\"left\"},\"paper_bgcolor\":\"white\",\"plot_bgcolor\":\"#E5ECF6\",\"polar\":{\"bgcolor\":\"#E5ECF6\",\"angularaxis\":{\"gridcolor\":\"white\",\"linecolor\":\"white\",\"ticks\":\"\"},\"radialaxis\":{\"gridcolor\":\"white\",\"linecolor\":\"white\",\"ticks\":\"\"}},\"ternary\":{\"bgcolor\":\"#E5ECF6\",\"aaxis\":{\"gridcolor\":\"white\",\"linecolor\":\"white\",\"ticks\":\"\"},\"baxis\":{\"gridcolor\":\"white\",\"linecolor\":\"white\",\"ticks\":\"\"},\"caxis\":{\"gridcolor\":\"white\",\"linecolor\":\"white\",\"ticks\":\"\"}},\"coloraxis\":{\"colorbar\":{\"outlinewidth\":0,\"ticks\":\"\"}},\"colorscale\":{\"sequential\":[[0.0,\"#0d0887\"],[0.1111111111111111,\"#46039f\"],[0.2222222222222222,\"#7201a8\"],[0.3333333333333333,\"#9c179e\"],[0.4444444444444444,\"#bd3786\"],[0.5555555555555556,\"#d8576b\"],[0.6666666666666666,\"#ed7953\"],[0.7777777777777778,\"#fb9f3a\"],[0.8888888888888888,\"#fdca26\"],[1.0,\"#f0f921\"]],\"sequentialminus\":[[0.0,\"#0d0887\"],[0.1111111111111111,\"#46039f\"],[0.2222222222222222,\"#7201a8\"],[0.3333333333333333,\"#9c179e\"],[0.4444444444444444,\"#bd3786\"],[0.5555555555555556,\"#d8576b\"],[0.6666666666666666,\"#ed7953\"],[0.7777777777777778,\"#fb9f3a\"],[0.8888888888888888,\"#fdca26\"],[1.0,\"#f0f921\"]],\"diverging\":[[0,\"#8e0152\"],[0.1,\"#c51b7d\"],[0.2,\"#de77ae\"],[0.3,\"#f1b6da\"],[0.4,\"#fde0ef\"],[0.5,\"#f7f7f7\"],[0.6,\"#e6f5d0\"],[0.7,\"#b8e186\"],[0.8,\"#7fbc41\"],[0.9,\"#4d9221\"],[1,\"#276419\"]]},\"xaxis\":{\"gridcolor\":\"white\",\"linecolor\":\"white\",\"ticks\":\"\",\"title\":{\"standoff\":15},\"zerolinecolor\":\"white\",\"automargin\":true,\"zerolinewidth\":2},\"yaxis\":{\"gridcolor\":\"white\",\"linecolor\":\"white\",\"ticks\":\"\",\"title\":{\"standoff\":15},\"zerolinecolor\":\"white\",\"automargin\":true,\"zerolinewidth\":2},\"scene\":{\"xaxis\":{\"backgroundcolor\":\"#E5ECF6\",\"gridcolor\":\"white\",\"linecolor\":\"white\",\"showbackground\":true,\"ticks\":\"\",\"zerolinecolor\":\"white\",\"gridwidth\":2},\"yaxis\":{\"backgroundcolor\":\"#E5ECF6\",\"gridcolor\":\"white\",\"linecolor\":\"white\",\"showbackground\":true,\"ticks\":\"\",\"zerolinecolor\":\"white\",\"gridwidth\":2},\"zaxis\":{\"backgroundcolor\":\"#E5ECF6\",\"gridcolor\":\"white\",\"linecolor\":\"white\",\"showbackground\":true,\"ticks\":\"\",\"zerolinecolor\":\"white\",\"gridwidth\":2}},\"shapedefaults\":{\"line\":{\"color\":\"#2a3f5f\"}},\"annotationdefaults\":{\"arrowcolor\":\"#2a3f5f\",\"arrowhead\":0,\"arrowwidth\":1},\"geo\":{\"bgcolor\":\"white\",\"landcolor\":\"#E5ECF6\",\"subunitcolor\":\"white\",\"showland\":true,\"showlakes\":true,\"lakecolor\":\"white\"},\"title\":{\"x\":0.05},\"mapbox\":{\"style\":\"light\"}}}},                        {\"responsive\": true}                    ).then(function(){\n",
              "                            \n",
              "var gd = document.getElementById('b375accc-b807-4e43-a9bd-4dc4af56cf14');\n",
              "var x = new MutationObserver(function (mutations, observer) {{\n",
              "        var display = window.getComputedStyle(gd).display;\n",
              "        if (!display || display === 'none') {{\n",
              "            console.log([gd, 'removed!']);\n",
              "            Plotly.purge(gd);\n",
              "            observer.disconnect();\n",
              "        }}\n",
              "}});\n",
              "\n",
              "// Listen for the removal of the full notebook cells\n",
              "var notebookContainer = gd.closest('#notebook-container');\n",
              "if (notebookContainer) {{\n",
              "    x.observe(notebookContainer, {childList: true});\n",
              "}}\n",
              "\n",
              "// Listen for the clearing of the current output cell\n",
              "var outputEl = gd.closest('.output');\n",
              "if (outputEl) {{\n",
              "    x.observe(outputEl, {childList: true});\n",
              "}}\n",
              "\n",
              "                        })                };                            </script>        </div>\n",
              "</body>\n",
              "</html>"
            ]
          },
          "metadata": {}
        }
      ]
    },
    {
      "cell_type": "code",
      "source": [
        "fig = go.Figure(data=[go.Histogram(x=df2_clean_outliers['Minimum Negotiated Charge'], histnorm='probability')])\n",
        "\n",
        "fig.show()"
      ],
      "metadata": {
        "colab": {
          "base_uri": "https://localhost:8080/",
          "height": 542
        },
        "outputId": "32988783-c1a4-46c9-eb60-a0322913e7b7",
        "id": "NnlhAG0qaF70"
      },
      "execution_count": 130,
      "outputs": [
        {
          "output_type": "display_data",
          "data": {
            "text/html": [
              "<html>\n",
              "<head><meta charset=\"utf-8\" /></head>\n",
              "<body>\n",
              "    <div>            <script src=\"https://cdnjs.cloudflare.com/ajax/libs/mathjax/2.7.5/MathJax.js?config=TeX-AMS-MML_SVG\"></script><script type=\"text/javascript\">if (window.MathJax && window.MathJax.Hub && window.MathJax.Hub.Config) {window.MathJax.Hub.Config({SVG: {font: \"STIX-Web\"}});}</script>                <script type=\"text/javascript\">window.PlotlyConfig = {MathJaxConfig: 'local'};</script>\n",
              "        <script charset=\"utf-8\" src=\"https://cdn.plot.ly/plotly-2.24.1.min.js\"></script>                <div id=\"8c054e7c-6ba4-4e63-9c99-fac950770f61\" class=\"plotly-graph-div\" style=\"height:525px; width:100%;\"></div>            <script type=\"text/javascript\">                                    window.PLOTLYENV=window.PLOTLYENV || {};                                    if (document.getElementById(\"8c054e7c-6ba4-4e63-9c99-fac950770f61\")) {                    Plotly.newPlot(                        \"8c054e7c-6ba4-4e63-9c99-fac950770f61\",                        [{\"histnorm\":\"probability\",\"x\":[253.04825,51.90325,253.04825,82.65075,156.9828,253.04825,51.90325,51.90325,162.2208,51.90325,343.6212356252,551.8625,30.4448,0.9088,85.8816,24.992,10.9056,68.16,26.3552,14.9952,41.3504,1.3632,274.32,358.56,148.32,79.56,38.88,11773.152,182.0,29.88,29.88,51.12,55.08,64.8,1.365,349.645625,349.645625,349.645625,349.645625,349.645625,210.0,420.0,281.484,220.384,154.518,85.554,241.899,124.075,118.93,86.576,59.9808,532.0,3.5140000000000002,3.304,3.92,2.989,5.131,2.24,7.469,9.37,9.611,5.922,4.907,7.392,9.373,6.076,33.341,5.719,10.556000000000001,23.16,10.199,9.275,12.635,14.105,9.296,9.478,11.438,9.611,11.466,15.169,11.046,9.275,10.283,9.275,4.627,12.635,9.275,10.71,9.275,9.632,11.613,28.28,11.725,10.22,9.611,9.611,9.898,11.291,8.344,9.478,9.275,43.498,28.22,49.02,25.38,42.16,33.05,29.32,29.23,29.23,15.12,24.19,25.43,18.7,32.33,32.33,19.44,29.32,24.74,26.66,41.98,31.91,26.59,3.164,5.719,8.603,11.809,27.034,3.465,5.446,4.046,6.797,28.525,9.408,10.122,11.739,11.9,45.087,17.836,9.926,16.086,11.515,11.809,10.199,6.545,4.536,20.181,20.496,10.22,14.763,13.279,6.923,11.326,11.984,3.5140000000000002,3.5140000000000002,11.809,3.066,3.724,2.961,11.144,16.548000000000002,20.72,18.753,3.612,9.576,4.221,9.03,12.642,3.416,8.624,13.272,11.809,6.454,17.675,7.518,9.884,3.22,4.025,3.5,3.045,5.509,6.867,14.196,19.46,13.076,8.687,15.764,11.697,11.41,16.863,4.557,8.085,3.584,3.626,6.622,9.898,4.529,13.58,10.556000000000001,10.024,12.964,17.689,15.561,21.686,20.496,8.575,26.95,15.519,30.49,43.05,13.153,19.558,22.61,15.19,16.926,17.465,10.43,3.5700000000000003,11.76,13.139,13.825,9.541,45.087,10.29,12.355,14.749,6.51,11.522,5.614,18.249,47.93,6.839,9.338,12.341,10.003,2.751,2.751,3.528,3.325,9.009,2.7439999999999998,6.79,4.235,2.296,15.036,5.04,11.732,13.006,12.964,11.669,8.806000000000001,47.152,15.372,9.009,12.642,5.6,6.797,5.74,5.117,6.629,2.765,3.325,20.671,12.544,15.687,12.53,9.03,19.019,8.071,12.88,12.089,8.001,9.065,4.529,6.118,8.96,8.099,4.228,8.953,13.79,8.477,15.393,13.524000000000001,4.823,10.024,7.882,23.702,23.933,5.733,7.35,4.69,18.655,16.877,11.382,11.858,19.95,12.04,9.044,27.482,9.52,7.805,19.173,16.52,14.847,4.627,4.774,20.895,10.115,45.087,28.896,2.5060000000000002,13.741,6.7620000000000005,3.626,10.346,3.318,4.046,5.908,10.297,27.377,3.332,3.311,10.213,14.469,15.967,14.602,19.054,13.566,12.873,12.873,12.873,2.569,2.569,2.8,3.927,10.535,7.518,12.481,20.447,10.045,18.683,19.67,10.136,6.608,25.599,15.393,14.168,17.871,21.686,15.211,3.367,3.542,3.402,14.882,12.796,5.67,2.296,3.85,8.071,17.829,18.067,14.861,8.141,11.242,4.809,6.314,10.346,11.76,35.602,9.926,3.626,3.71,8.932,4.018,4.529,9.926,11.858,11.032,8.729,5.04,7.063,2.765,3.892,5.04,3.164,3.556,10.85,24.731,23.758,8.127,11.942,9.604,11.977,9.037,7.973,14.567,10.535,5.264,10.703,16.093,3.654,5.579,10.535,12.859,8.722,8.463,7.812,5.11,4.039,3.626,9.065,17.815,17.815,11.249,15.25,15.25,5.649,5.642,8.4,8.4,14.224,9.065,9.275,9.618,8.477,12.551,8.435,8.435,11.018,14.567,14.567,14.567,14.567,3.626,4.529,14.567,10.493,12.663,8.386,17.059,15.638,20.545,10.913,14.987,10.556000000000001,16.499,95.102,34.321,26.411,18.746,26.411,26.411,32.886,54.446,10.185,11.837,8.078,7.448,4.298,3.969,43.386,6.68,2.989,3.08,9.009,10.535,7.126,9.03,9.233,10.843,11.921,6.251,8.407,8.274000000000001,8.876,8.029,8.484,10.073,11.795,9.121,9.184,10.703,12.698,7.126,8.575,9.107,11.088,13.545,12.012,10.073,9.233,13.545,9.653,6.223,9.464,9.597,8.435,8.239,7.518,8.099,8.673,7.882,9.485,11.823,10.71,11.34,9.233,9.009,9.135,9.268,10.521,8.673,11.123,13.545,10.073,9.016,29.491,10.073,10.087,9.268,8.792,9.016,11.795,10.073,9.016,9.233,11.795,11.137,9.989,88.3,39.9872,20.776,18.067,74.298,25.592,76.643,25.571,42.2592,120.114479,120.114479,120.114479,6.839,30.1,3.773,4.004,3.626,58.34,2.093,2.093,4.445,11.438,2.681,17.92,17.92,30.1,11.8144,17.92,27.685,17.2672,17.92,202.6624,2.66,4.0,1.659,1.659,5.439,4.529,3.017,3.017,2.793,3.899,3.136,8.323,9.086,12.355,12.53,12.53,16.058,16.058,16.058,13.328,12.53,12.53,13.545,11.438,6.377,13.251,8.295,7.567,8.407,9.688,8.127,10.724,10.724,9.009,2.996,4.823,7.126,7.126,6.804,10.122,8.974,21.602,5.397,12.033,7.126,2.94,5.411,6.552,9.163,8.288,6.02,13.125,5.229,9.352,17.437,12.586,12.586,3.003,2.758,6.7059999999999995,6.895,1.8900000000000001,3.857,4.039,6.741,4.207,4.529,8.169,50.533,4.676,7.224,6.608,6.608,6.034,6.923,6.7620000000000005,6.629,5.656,5.656,4.641,5.649,5.663,5.397,5.8870000000000005,14.322,7.224,7.224,10.773,13.72,7.5600000000000005,10.227,3.899,3.626,14.035,24.563,80.752,2.989,3.017,2.989,4.116,6.23,3.325,5.236,3.325,6.055,17.51,4.648,5.117,10.514,2.989,3.773,4.193,12.586,4.074,2.989,18.249,14.14,13.692,23.702,8.386,9.394,8.386,8.386,9.394,9.674,8.386,8.386,10.066,7.231,7.231,8.071,12.852,9.275,16.856,9.891,9.737,8.386,8.386,11.767,8.386,24.563,24.563,14.035,24.563,291.746,24.563,24.563,26.089,24.563,29.988,24.563,67.06,20.454,134.295284,14.035,24.563,29.988,24.563,29.988,24.563,29.988,29.232,24.563,59.57,24.563,29.176,24.563,24.563,24.563,28.385,99.841,134.295284,134.295284,49.14,24.563,24.563,24.563,24.563,14.035,24.563,35.917,24.563,29.988,11.585,22.939,11.571,11.249,91.245,180.215,180.215,90.111,134.295284,134.295284,16.093,2.814,2.219,2.436,1.5750000000000002,2.135,6.027,2.548,10.234,21.889,41.251,19.684,135.275,207.053,129.64,362.796,303.5392,196.0,140.0,114.772,101.388,122.78,1431.8144,129.584,85.141,318.9888,68.054,304.549,203.952,315.637,122.367,812.0,122.367,122.367,122.367,122.78,227.206,122.78,45.983,51.359,39.928,115.857,58.1,122.367,262.675,33.075,43.064,24.5,45.752,71.582,138.593,206.164,163.149,213.367,145.222,182.553,141.68,64.162,95.9,230.657,87.409,135.275,135.275,51.359,87.248,129.64,27.517,45.738,303.5392,87.18,141.68,151.71,87.18,149.31,287.83,87.18,161.68,243.992,84.0,105.0,203.952,192.381,172.564,207.053,230.657,145.117,221.53,142.45,203.952,303.5392,32.62,105.12,32.62,122.367,95.9,32.9,35.749,30.555,95.9,122.367,146.244,129.64,122.367,163.8,230.657,61.74,122.367,262.675,141.68,227.206,44.772,95.9,105.231,129.64,192.381,210.945,198.016,592.389,303.5392,352.8,1750.3488,3500.6976,224.0,1137.5,1050.5728,722.52,1713.992,107.8,107.8,2043.72,900.9,655.2,639.8,76.461,20.48,20.48,20.48,43.78,20.48,35.168,20.48,20.48,16.317,39.5328,43.78,92.36,43.78,153.35132,52.45,42.99505,43.78,43.78,67.7,84.2,67.7,67.7,58.43,134.841875,126.82,6.902,5.9072,20.48,20.48,33.712,10.234,14.182,20.48,16.814,42.99505,18.627,6.118,20.48,18.648,13.25,28.658,81.543,98.511,105.21,100.625,103.264,8.463,100.0,39.9872,185.038,87.843,101.227,90.0,75.0,14.994,24.367,29.666,35.833,10.0,48.02,5.0,15.274000000000001,11.95,9.527,20.48,26.138,29.344,67.7,67.7,7.483,349.645625,349.645625,451.32675,72.06,72.06,72.06,72.06,99.216,72.06,72.06,286.062,72.06,72.06,72.06,72.06,72.06,107.6853009311,72.06,286.062,72.06,133.6,72.06,286.062,72.06,72.06,72.06,107.6853009311,72.06,72.06,72.06,107.6853009311,107.6853009311,72.06,72.06,72.06,72.06,97.28,107.6853009311,107.6853009311,72.06,107.6853009311,107.6853009311,72.06,72.06,72.06,72.06,72.06,675.444942539,613.528,652.4452,675.444942539,663.6553,675.444942539,72.06,72.06,72.06,72.06,72.06,72.06,72.06,72.06,72.06,72.06,72.06,72.06,72.06,72.06,72.06,97.28,97.28,107.6853009311,107.6853009311,107.6853009311,107.6853009311,76.32,97.28,72.06,72.06,72.06,72.06,72.06,72.06,72.06,72.06,72.06,72.06,72.06,72.06,99.38,107.6853009311,107.6853009311,330.75041,107.6853009311,107.6853009311,220.9165,138.75,431.1429045953,138.75,138.75,275.176,138.75,220.9165,330.75041,138.75,220.9165,138.75,138.75,423.0624,142.888,431.1429045953,431.1429045953,431.1429045953,348.952,256.096,395.168,431.1429045953,220.9165,220.9165,220.9165,281.79,281.79,256.1812,130.928,281.79,281.79,330.75041,431.1429045953,286.062,281.79,431.146802,431.146802,431.146802,431.146802,395.2851218,395.2851218,395.2851218,431.146802,121.38,395.2851218,395.2851218,431.146802,395.2851218,431.146802,431.146802,431.146802,1009.1191854775,431.146802,395.2851218,395.2851218,431.146802,395.2851218,431.146802,431.146802,929.0479,431.1429045953,121.38,431.1429045953,431.1429045953,431.1429045953,431.1429045953,431.1429045953,431.1429045953,431.1429045953,288.32,330.75041,72.06,330.75041,286.0748,107.6853009311,106.428,72.06,431.1429045953,431.1429045953,431.1429045953,286.062,286.062,72.06,72.06,72.06,107.6853009311,121.38,107.6853009311,72.06,112.83,51.38,106.428,330.75041,330.75041,330.75041,790.79,431.146802,1009.1191854775,906.6277,431.146802,1009.1191854775,431.146802,419.87,99.38,99.38,99.38,107.6853009311,82.65075,110.790368,110.790368,51.90325,82.65075,82.65075,110.790368,82.65075,110.790368,407.4595,110.790368,2293.291,242.7085212747,269.7879741975,163.3905,439.432,439.432,545.2462087861,242.7085212747,163.3905,242.7085212747,439.432,439.432,439.432,439.432,439.432,439.432,163.3905,163.3905,163.3905,439.432,163.3905,439.432,163.3905,2456.0,2456.0,852.9609850686,234.8758509297,234.8758509297,545.2462087861,39.5328,149.92775,322.08925,322.08925,107.6853009311,852.9609850686,234.8758509297,322.08925,234.8758509297,701.27575,852.9609850686,234.8758509297,234.8758509297,234.8758509297,852.9609850686,852.9609850686,852.9609850686,149.92775,162.7637,1661.5431369763,343.6212356252,82.65075,407.4595,82.65075,253.04825,343.6212356252,110.790368,70.413,254.5592,182.45,240.06,372.7,418.203362212,418.203362212,418.203362212,351.18,418.203362212,418.203362212,826.9228969241,212.46,411.23,411.23,411.23,669.42,418.203362212,418.203362212,618.0125,418.203362212,418.203362212,411.23,278.24,411.23,402.8,424.21,424.21,424.21,424.21,418.203362212,418.203362212,248.888,382.88,382.88,382.88,382.88,418.203362212,418.203362212,382.88,382.88,382.88,382.88,391.52,391.52,391.52,391.52,826.9228969241,826.9228969241,320.56,320.56,1610.5688336627,418.203362212,418.203362212,418.203362212,418.203362212,1610.5688336627,1610.5688336627,418.203362212,323.92,314.93,506.27,323.92,506.27,384.37,418.203362212,1610.5688336627,384.37,618.0125,418.203362212,384.37,826.9228969241,418.203362212,335.384,418.203362212,418.203362212,278.24,418.203362212,418.203362212,464.18,476.133,759.97,759.97,826.9228969241,826.9228969241,826.9228969241,826.9228969241,418.203362212,161.23,305.91925,305.91925,305.91925,305.91925,305.91925,122.112,13.1,73.776,2193.776,332.84,70.56,1.6099999999999999,84.41,1541.0,45.368,99.216,72.08,64.56,31.58,30.24,144.16,1802.43,604.21,301.3,83.952,35.28,63.176,375.07,85.224,94.15,441.384,18.01,2340.056,5721.41,125.08,3419.56,2487.74,56.0,483.84,18.232,5.936,null,36.94,148.38,33.496,554.168,121.0336,273.904,106.428,106.428,269.7879741975,269.7879741975,269.7879741975,70.413,38.17,70.413,45.792,136.528,136.528,136.528,136.528,136.528,136.528,136.528,136.528,136.528,130.928,220.9165,220.9165,130.928,220.9165,220.9165,130.928,220.9165,220.9165,130.928,220.9165,220.9165,220.9165,220.9165,433.0604099408,130.928,220.9165,220.9165,129.44,220.9165,130.928,433.0604099408,220.9165,130.928,220.9165,220.9165,130.928,433.0604099408,220.9165,220.9165,130.928,220.9165,220.9165,130.928,433.0604099408,220.9165,220.9165,130.928,220.9165,220.9165,220.9165,130.928,220.9165,220.9165,451.32675,220.9165,286.062,433.0604099408,433.0604099408,130.928,220.9165,73.97,220.9165,220.9165,220.9165,220.9165,106.428,130.928,220.9165,220.9165,286.062,433.0604099408,433.0604099408,661.6522242794,661.6522242794,340.0,559.0,772.4563058053,221.2105,340.0,340.0,559.0,340.0,1448.6835542209,559.0,340.0,1612.714145,457.01075,711.66375,1612.714145,340.0,340.0,221.2105,794.4987153176,457.01075,794.4987153176,794.4987153176,1448.6835542209,1836.94875,776.0,794.4987153176,1448.6835542209,1448.6835542209,1448.6835542209,2107.0,794.4987153176,776.0,794.4987153176,776.0,1448.6835542209,2107.0,2107.0,2107.0,2107.0,457.01075,776.0,794.98825,1836.94875,776.0,776.0,776.0,1448.6835542209,2107.0,776.0,776.0,776.0,1448.6835542209,2107.0,457.01075,214.6461406739,1448.6835542209,2350.4852289536,2350.4852289536,221.2105,221.2105,340.0,2107.0,2412.0,1564.0,142.23475,340.0,340.0,340.0,457.01075,340.0,340.0,340.0,711.66375,711.66375,711.66375,711.66375,457.01075,711.66375,711.66375,601.6256,1612.714145,1678.51805,1678.51805,1678.51805,1678.51805,1678.51805,1678.51805,1678.51805,1678.51805,776.0,711.66375,1678.51805,1678.51805,1678.51805,1678.51805,1678.51805,1678.51805,1678.51805,1678.51805,1678.51805,1678.51805,1678.51805,1678.51805,1678.51805,1678.51805,1678.51805,1678.51805,1678.51805,1678.51805,1678.51805,1678.51805,2114.1785,2114.1785,2114.1785,2114.1785,2350.4852289536,2350.4852289536,2350.4852289536,2350.4852289536,340.0,340.0,2350.4852289536,2114.1785,340.0,221.2105,1809.1215094657,1809.1215094657,1809.1215094657,1809.1215094657,1809.1215094657,340.0,340.0,1809.1215094657,2107.0,2506.9620951596,2506.9620951596,3540.5013076048,3540.5013076048,2506.9620951596,2965.0,2506.9620951596,1564.0,1564.0,2107.0,2412.0,2506.9620951596,3404.0,2506.9620951596,2506.9620951596,2506.9620951596,1612.714145,867.49628,1273.02692,1273.02692,661.6522242794,661.6522242794,1273.02692,1273.02692,1273.02692,340.0,776.0,1273.02692,333.06525,333.06525,333.06525,333.06525,340.0,333.06525,333.06525,559.0,1564.0,1962.535685,1564.0,1678.51805,1273.02692,253.58725,559.0,776.0,776.0,776.0,2107.0,2107.0,2107.0,2412.0,2107.0,2107.0,2107.0,2107.0,3566.66144,3566.66144,559.0,166.3071060177,3566.66144,3566.66144,3566.66144,3566.66144,3566.66144,3566.66144,2857.911305,3566.66144,3566.66144,3566.66144,3566.66144,3566.66144,3566.66144,2857.911305,3566.66144,3566.66144,3566.66144,254.59175,657.6509804136,657.6509804136,2857.911305,2857.911305,2857.911305,2965.0,657.6509804136,2412.0,2412.0,3566.66144,3566.66144,2857.911305,657.6509804136,2965.0,3404.0,3566.66144,254.59175,2051.670245,1564.0,2051.670245,2051.670245,1836.94875,2051.670245,2107.0,2051.670245,2051.670245,2051.670245,1273.02692,1273.02692,1273.02692,1273.02692,3594.59501,3594.59501,4334.953145,3594.59501,3594.59501,3594.59501,3070.0,4334.953145,4334.953145,4334.953145,4334.953145,3594.59501,2412.0,3594.59501,4334.953145,4334.953145,7496.0,7496.0,253.58725,1273.02692,1273.02692,1273.02692,253.58725,776.0,1273.02692,1273.02692,1273.02692,2571.898415,2571.898415,1273.02692,2571.898415,2571.898415,2571.898415,2571.898415,2571.898415,2571.898415,2571.898415,2571.898415,3881.9928377063,3881.9928377063,3881.9928377063,3881.9928377063,2571.898415,2412.0,2412.0,2412.0,2965.0,2965.0,3311.6361914562,1114.4315406182,1273.02692,1273.02692,2107.0,1273.02692,1273.02692,2107.0,2257.57661,2412.0,1114.4315406182,2412.0,2412.0,2412.0,2556.6278,2107.0,2556.6278,2257.57661,2257.57661,2257.57661,3881.9928377063,3404.0,2571.898415,657.6509804136,2965.0,657.6509804136,2107.0,2965.0,3311.6361914562,2412.0,657.6509804136,2412.0,2107.0,2965.0,3311.6361914562,2412.0,2965.0,657.6509804136,2412.0,1757.287,1836.94875,1836.94875,1836.94875,2107.0,2257.57661,2257.57661,1479.9218984499,1479.9218984499,1757.287,2257.57661,1757.287,2257.57661,2107.0,1479.9218984499,2257.57661,1114.4315406182,2257.57661,2257.57661,2412.0,3394.0245953419,2556.6278,2412.0,2412.0,2965.0,2556.6278,3394.0245953419,3394.0245953419,2412.0,2412.0,2412.0,2412.0,2965.0,3311.6361914562,3311.6361914562,3311.6361914562,2412.0,2556.6278,253.58725,772.4563058053,1479.9218984499,1479.9218984499,1479.9218984499,1479.9218984499,1479.9218984499,1479.9218984499,2372.1356789205,2107.0,2372.1356789205,2372.1356789205,1479.9218984499,1757.287,1479.9218984499,1479.9218984499,2372.1356789205,1757.287,1479.9218984499,1479.9218984499,2372.1356789205,2372.1356789205,2372.1356789205,2372.1356789205,1479.9218984499,1479.9218984499,2372.1356789205,1479.9218984499,1479.9218984499,1479.9218984499,2372.1356789205,1479.9218984499,1479.9218984499,1479.9218984499,2372.1356789205,2372.1356789205,2372.1356789205,1479.9218984499,1479.9218984499,3394.0245953419,1479.9218984499,2372.1356789205,2372.1356789205,2372.1356789205,2372.1356789205,2372.1356789205,2372.1356789205,2107.0,2965.0,2107.0,2107.0,3311.6361914562,2965.0,3311.6361914562,2107.0,2965.0,2107.0,2372.1356789205,1479.9218984499,2372.1356789205,1479.9218984499,1479.9218984499,1479.9218984499,1564.0,1757.287,1273.02692,1273.02692,1273.02692,2478.615305,2107.0,340.0,340.0,3881.9928377063,3881.9928377063,3881.9928377063,2478.615305,2478.615305,2478.615305,1114.4315406182,1114.4315406182,2478.615305,253.58725,1273.02692,2007.71537,1273.02692,1273.02692,2007.71537,1273.02692,1273.02692,2412.0,2478.615305,2007.71537,2007.71537,2478.615305,1564.0,2272.23482,2412.0,2412.0,2412.0,2107.0,3851.4906186733,2272.23482,2272.23482,2272.23482,2478.615305,2965.0,3881.9928377063,3881.9928377063,2412.0,2007.71537,3881.9928377063,3881.9928377063,253.58725,3311.6361914562,3311.6361914562,3311.6361914562,1114.4315406182,2412.0,253.58725,2007.71537,1564.0,1564.0,1273.02692,1273.02692,1273.02692,1273.02692,2007.71537,2007.71537,2007.71537,2007.71537,2007.71537,2272.23482,340.0,2007.71537,2272.23482,1564.0,2007.71537,2007.71537,2007.71537,2272.23482,2107.0,2107.0,2107.0,3881.9928377063,2107.0,3311.6361914562,3311.6361914562,2965.0,2412.0,3311.6361914562,2412.0,2412.0,2412.0,2412.0,2412.0,2412.0,2965.0,2107.0,2272.23482,253.58725,1873.0151988,1873.0151988,1873.0151988,1273.02692,1873.0151988,1757.287,1757.287,1873.0151988,2364.2654548578,1873.0151988,1873.0151988,1873.0151988,1873.0151988,1873.0151988,2364.2654548578,1873.0151988,1873.0151988,2364.2654548578,1273.02692,2364.2654548578,2364.2654548578,1873.0151988,1873.0151988,1873.0151988,1873.0151988,2364.2654548578,2364.2654548578,2107.0,2364.2654548578,2364.2654548578,2364.2654548578,2364.2654548578,2364.2654548578,2107.0,1873.0151988,1873.0151988,1873.0151988,2364.2654548578,2364.2654548578,1873.0151988,2412.0,2412.0,2412.0,2965.0,2412.0,2412.0,2412.0,253.58725,1114.4315406182,2364.2654548578,2364.2654548578,2364.2654548578,2364.2654548578,2364.2654548578,2364.2654548578,1873.0151988,2364.2654548578,2107.0,2107.0,1873.0151988,1873.0151988,253.58725,293.88975,2081.496248106,2081.496248106,2412.0,2412.0,2081.496248106,2081.496248106,2081.496248106,2081.496248106,2081.496248106,3404.0,3851.4906186733,2081.496248106,2081.496248106,2081.496248106,2081.496248106,2081.496248106,1757.287,1757.287,2965.0,2965.0,3851.4906186733,3851.4906186733,3851.4906186733,2081.496248106,2081.496248106,2081.496248106,2081.496248106,2081.496248106,2081.496248106,2081.496248106,2081.496248106,2081.496248106,2081.496248106,2081.496248106,2081.496248106,2081.496248106,2412.0,2081.496248106,2412.0,2412.0,2081.496248106,2412.0,1873.0151988,2081.496248106,2081.496248106,2081.496248106,3851.4906186733,3851.4906186733,3851.4906186733,253.58725,776.0,1921.8173917539,1458.3009741566,2412.0,2107.0,2412.0,1458.3009741566,1458.3009741566,3404.0,3566.66144,1921.8173917539,2857.911305,559.6045,2675.6154919189,1564.0,142.23475,2412.0,2675.6154919189,2412.0,218.96875,1564.0,1932.5884190888,1564.0,1932.5884190888,527.0508959411,3404.0,1921.8173917539,3404.0,1921.8173917539,3404.0,3404.0,527.0508959411,527.0508959411,1932.5884190888,1921.8173917539,3645.0,254.59175,527.0508959411,527.0508959411,1932.5884190888,527.0508959411,1932.5884190888,1932.5884190888,1932.5884190888,1932.5884190888,1932.5884190888,1932.5884190888,1932.5884190888,1932.5884190888,1932.5884190888,218.96875,1932.5884190888,2675.6154919189,2107.0,3404.0,2675.6154919189,254.59175,2266.802195,559.6045,1378.9526817313,1378.9526817313,1378.9526817313,1378.9526817313,988.3137,1378.9526817313,1378.9526817313,1505.278553,1505.278553,1378.9526817313,1505.278553,1505.278553,1505.278553,1505.278553,1378.9526817313,1378.9526817313,1505.278553,1505.278553,1505.278553,218.96875,765.619745,765.619745,765.619745,765.619745,340.0,708.6625,708.6625,765.619745,765.619745,708.6625,2628.200165,2628.200165,2628.200165,2051.670245,2628.200165,2628.200165,2628.200165,2628.200165,4697.0,2628.200165,765.619745,6965.6163377975,6965.6163377975,6965.6163377975,2948.547245,2948.547245,6965.6163377975,2107.0,6965.6163377975,340.0,6270.0,6965.6163377975,6965.6163377975,2107.0,2948.547245,2562.9208827214,7496.0,7496.0,7496.0,7496.0,7496.0,6965.6163377975,6965.6163377975,794.98825,7496.0,3073.118324,3073.118324,3073.118324,3073.118324,2993.3976778782,3645.0,708.6625,2871.0692838273,1785.965495,1785.965495,1785.965495,320.8209238076,320.8209238076,320.8209238076,320.8209238076,320.8209238076,320.8209238076,320.8209238076,320.8209238076,1113.8291125376,1113.8291125376,1113.8291125376,1113.8291125376,1113.8291125376,1113.8291125376,320.8209238076,320.8209238076,320.8209238076,1113.8291125376,1113.8291125376,1113.8291125376,71.2738,340.0,320.8209238076,320.8209238076,367.003355,1610.9508241018,1610.9508241018,1610.9508241018,367.003355,367.003355,340.0,340.0,708.6625,1610.9508241018,1610.9508241018,367.003355,708.6625,1000.941305,340.0,1000.941305,253.04825,2412.0,2412.0,2412.0,2412.0,2852.221865,2852.221865,2852.221865,2852.221865,2852.221865,2852.221865,340.0,2501.886695,340.0,340.0,2993.391095,340.0,2993.391095,2501.886695,2501.886695,2412.0,340.0,2107.0,2107.0,2960.61755,2993.391095,2993.3976778782,2993.391095,2993.3976778782,2993.3976778782,2993.3976778782,2993.391095,2993.3976778782,2993.3976778782,2993.3976778782,2993.3976778782,2993.3976778782,2965.0,2965.0,2993.3976778782,2965.0,2501.886695,2501.886695,1945.783445,2412.0,1836.94875,2412.0,2412.0,2412.0,2412.0,1564.0,661.64918,661.64918,340.0,2319.1780382081,2319.1727,1665.804,1664.7975910596,1448.6835542209,1664.7975910596,1664.7975910596,1664.7975910596,1564.0,2357.57642,2357.57642,2357.57642,1664.7975910596,1664.7975910596,2350.4852289536,340.0,340.0,499.49375,2051.670245,2051.670245,1921.8173917539,3425.630495,3425.630495,3425.630495,559.0,263.6898116055,525.6276605342,525.6276605342,525.6276605342,525.6276605342,1458.3009741566,525.6276605342,525.6276605342,525.6276605342,525.6276605342,1458.3009741566,2965.0,260.06954,1458.3009741566,1921.8173917539,776.0,525.6276605342,2675.6154919189,2675.6154919189,3801.2722801984,2107.0,254.59175,142.23475,525.6276605342,525.6276605342,525.6276605342,254.59175,1921.8173917539,1921.8173917539,1921.8173917539,525.6276605342,3404.0,1921.8173917539,3404.0,3425.630495,254.59175,525.6276605342,263.6898116055,525.6276605342,525.6276605342,2412.0,3801.2722801984,3801.2722801984,3801.2722801984,2412.0,2107.0,525.6276605342,525.6276605342,525.6276605342,525.6276605342,254.59175,254.59175,1921.8173917539,1458.3009741566,2675.6154919189,1670.7153429911,1670.7153429911,1670.7153429911,1670.7153429911,1670.7153429911,1670.7153429911,1670.7153429911,2675.6154919189,2107.0,218.96875,254.59175,1168.95758,1108.8717438803,1168.95758,984.0402547557,984.0402547557,984.0402547557,984.0402547557,1168.95758,1168.95758,984.0402547557,1108.8717438803,984.0402547557,984.0402547557,984.0402547557,984.0402547557,984.0402547557,984.0402547557,984.0402547557,984.0402547557,1168.95758,984.0402547557,984.0402547557,984.0402547557,984.0402547557,984.0402547557,984.0402547557,984.0402547557,984.0402547557,984.0402547557,984.0402547557,984.0402547557,1168.95758,984.0402547557,1108.8717438803,984.0402547557,2846.0,984.0402547557,1518.8282706382,1518.8282706382,1518.8282706382,1518.8282706382,1659.138395,1168.95758,1108.8717438803,1659.138395,1659.138395,1518.8282706382,1659.138395,1659.138395,1659.138395,2837.5439,2837.5439,2619.92282,2619.92282,7496.0,6270.0,2703.861815,656.9583634397,2046.968555,1011.24975,2703.861815,2837.5439,2357.57642,2703.861815,2046.968555,263.21575,1564.0,1564.0,2046.968555,2046.968555,1564.0,1011.24975,2834.797955,2834.797955,2834.797955,2594.47838,1564.0,2834.797955,984.0402547557,984.0402547557,1108.8717438803,1108.8717438803,1108.8717438803,1108.8717438803,984.0402547557,984.0402547557,984.0402547557,949.8447622238,949.8447622238,949.8447622238,949.8447622238,949.8447622238,949.8447622238,949.8447622238,949.8447622238,949.8447622238,949.8447622238,656.9583634397,2594.47838,2594.47838,1011.24975,2357.57642,2834.797955,1326.56475,1290.7342928783,1769.5009963316,1290.7342928783,1769.5009963316,1769.5009963316,1769.5009963316,1769.5009963316,1060.7497868594,949.8447622238,949.8447622238,949.8447622238,949.8447622238,949.8447622238,949.8447622238,949.8447622238,949.8447622238,949.8447622238,949.8447622238,1060.7497868594,1060.7497868594,949.8447622238,949.8447622238,949.8447622238,949.8447622238,949.8447622238,949.8447622238,949.8447622238,949.8447622238,949.8447622238,949.8447622238,1060.7497868594,1060.7497868594,949.8447622238,1060.7497868594,949.8447622238,949.8447622238,1769.5009963316,1769.5009963316,1769.5009963316,1769.5009963316,910.6176,1290.7342928783,1290.7342928783,1290.7342928783,1290.7342928783,776.0,1290.7342928783,1290.7342928783,1290.7342928783,1769.5009963316,1018.024,1769.5009963316,1290.7342928783,1290.7342928783,1290.7342928783,776.0,1290.7342928783,1769.5009963316,1769.5009963316,1769.5009963316,1769.5009963316,1769.5009963316,1769.5009963316,1769.5009963316,1769.5009963316,1290.7342928783,1769.5009963316,1018.024,1290.7342928783,142.23475,142.23475,949.8447622238,776.0,776.0,949.8447622238,776.0,1060.7497868594,1769.5009963316,1290.7342928783,1769.5009963316,1290.7342928783,1290.7342928783,1290.7342928783,1290.7342928783,776.0,1290.7342928783,1290.7342928783,1769.5009963316,1769.5009963316,776.0,765.619745,2590.72493,1675.495535,2590.72493,1675.495535,340.0,340.0,340.0,340.0,340.0,340.0,340.0,2412.0,1659.138395,3021.680255,3021.680255,3021.680255,1011.24975,776.0,2357.57642,765.619745,765.619745,765.619745,2357.57642,2357.57642,2361.96203,2357.57642,2357.57642,2357.57642,2357.57642,2357.57642,2357.57642,765.619745,765.619745,2357.57642,1564.0,765.619745,765.619745,340.0,2107.0,656.9583634397,656.9583634397,656.9583634397,656.9583634397,656.9583634397,656.9583634397,286.062,2361.96203,2361.96203,2361.96203,2361.96203,2361.96203,2361.96203,2361.96203,2361.96203,2361.96203,2361.96203,2361.96203,2461.546985,2461.546985,2461.546985,2461.546985,2461.546985,2461.546985,2361.96203,2361.96203,2361.96203,2361.96203,2361.96203,2461.546985,2461.546985,2461.546985,2461.546985,2461.546985,2461.546985,2461.546985,2357.57642,765.619745,2228.89235,2228.89235,1297.937975,1297.937975,1297.937975,574.0022294259,574.0022294259,263.21575,924.704,340.0,1297.937975,1673.757095,776.0,1297.937975,2228.89235,2228.89235,2228.89235,1673.757095,1673.757095,1297.937975,1673.757095,1863.58289,2213.48345,2228.89235,1297.937975,1863.58289,1863.58289,2213.48345,340.0,263.21575,263.21575,574.0022294259,1197.5030809429,559.0,70.413,1197.5030809429,1863.58289,766.0415,1863.58289,1863.58289,1297.937975,1863.58289,1863.58289,1863.58289,1863.58289,1863.58289,1863.58289,1863.58289,1197.5030809429,1197.5030809429,1863.58289,1197.5030809429,1863.58289,2107.0,1863.58289,1863.58289,1564.0,1863.58289,1863.58289,2107.0,1863.58289,1863.58289,1297.937975,1863.58289,2213.48345,1863.58289,1863.58289,1673.757095,1673.757095,1673.757095,2213.48345,1197.5030809429,340.0,2262.39683,1863.58289,2965.0,2107.0,1863.58289,3019.5119269599,3019.5119269599,3019.5119269599,2844.6579888597,1197.5030809429,2107.0,2412.0,1197.5030809429,1197.5030809429,2412.0,2107.0,2844.6579888597,2412.0,2107.0,2107.0,1564.0,1564.0,1564.0,1564.0,1197.5030809429,1197.5030809429,263.21575,263.21575,1135.4004002352,1135.4004002352,1183.9496495,1135.4004002352,1135.4004002352,1135.4004002352,1135.4004002352,1135.4004002352,1135.4004002352,1135.4004002352,1183.9496495,1183.9496495,1183.9496495,1183.9496495,1183.9496495,1183.9496495,1183.9496495,1183.9496495,1183.9496495,1183.9496495,1183.9496495,1135.4004002352,2412.0,1135.4004002352,1135.4004002352,2412.0,574.0022294259,1135.4004002352,1517.4894846392,1517.4894846392,1135.4004002352,1135.4004002352,1135.4004002352,1517.4894846392,1517.4894846392,1135.4004002352,1135.4004002352,1135.4004002352,1135.4004002352,1517.4894846392,1517.4894846392,1135.4004002352,1135.4004002352,1517.4894846392,1135.4004002352,1517.4894846392,1517.4894846392,1135.4004002352,1517.4894846392,537.647045,1564.0,1517.4894846392,1517.4894846392,1135.4004002352,1517.4894846392,1135.4004002352,1135.4004002352,2107.0,1564.0,3019.5119269599,3019.5119269599,574.0022294259,3019.5119269599,2412.0,297.0603435174,3019.5119269599,263.21575,2213.48345,274.5429795804,1512.121685,1512.121685,723.502085,1512.121685,1512.121685,723.502085,1512.121685,1690.1735,1690.1735,1512.121685,1512.121685,1512.121685,340.0,1512.121685,723.502085,1512.121685,1690.1735,1690.1735,1512.121685,1512.121685,1621.34708,1512.121685,1512.121685,1197.5030809429,1290.7342928783,1197.5030809429,1290.7342928783,1512.121685,1197.5030809429,1197.5030809429,1512.121685,1690.1735,1690.1735,1690.1735,1512.121685,274.5429795804,1512.121685,357.651,723.502085,1690.1735,218.20925,357.651,357.651,357.651,1564.0,1621.34708,723.502085,723.502085,1621.34708,1621.34708,1621.34708,1621.34708,1564.0,218.20925,1621.34708,1409.830295,2330.097215,1409.830295,1409.830295,1409.830295,1409.830295,1409.830295,1409.830295,2330.097215,274.5429795804,274.5429795804,615.5015,1621.34708,2330.097215,2330.097215,2330.097215,2330.097215,2330.097215,2330.097215,2330.097215,2330.097215,1564.0,1621.34708,1621.34708,1621.34708,1409.830295,1621.34708,1621.34708,2330.097215,2330.097215,2330.097215,2330.097215,2330.097215,1621.34708,218.20925,1976.127125,1976.127125,1976.127125,1976.127125,1976.127125,2330.097215,1621.34708,1976.127125,1621.34708,1976.127125,861.75075,861.75075,218.20925,1852.895435,1852.895435,1226.80022,1226.80022,1226.80022,933.47798,776.0,935.0640476414,935.0640476414,935.0640476414,935.0640476414,935.0640476414,935.0640476414,1852.895435,1226.80022,661.6522242794,2107.0,3265.00259,3265.00259,3265.00259,3265.00259,3265.00259,3265.00259,3265.00259,3265.00259,2965.0,2965.0,559.0,3265.00259,3265.00259,2357.57642,2357.57642,1664.7975910596,333.06525,614.9666847685,2412.0,7496.0,2703.2256,2752.3008,3566.66144,3645.0,2960.61755,2960.61755,2960.61755,2960.61755,2960.61755,3028.45622,776.0,2201.962,5270.5079526242,5270.5079526242,2107.0,2107.0,2412.0,1564.0,3028.45622,3028.45622,3028.45622,1094.6496,1564.0,713.150465,713.150465,713.150465,713.150465,340.0,2201.962,615.5015,758.230327985,758.230327985,758.230327985,758.230327985,713.150465,713.150465,713.150465,713.150465,2107.0,2107.0,4697.0,3594.59501,3594.59501,3594.59501,3594.59501,3594.59501,3594.59501,3594.59501,3594.59501,3070.0,3594.59501,4334.953145,4334.953145,3594.59501,4334.953145,2107.0,7496.0,1564.0,1564.0,2107.0,1564.0,333.06525,333.06525,715.4310660946,614.9666847685,614.9666847685,614.9666847685,715.4310660946,715.4310660946,614.9666847685,614.9666847685,333.06525,713.150465,713.150465,340.0,713.150465,713.150465,333.06525,713.150465,715.4310660946,1564.0,6270.0,2412.0,1564.0,1564.0,2412.0,2412.0,2198.15357,1564.0,2107.0,1564.0,715.4310660946,333.06525,333.06525,333.06525,333.06525,559.0,715.4310660946,1546.2879465852,715.4310660946,715.4310660946,715.4310660946,715.4310660946,559.0,614.9666847685,559.0,614.9666847685,559.0,1546.2879465852,1546.2879465852,1546.2879465852,2107.0,2107.0,2201.962,1546.2879465852,1546.2879465852,1546.2879465852,1546.2879465852,1546.2879465852,1546.2879465852,1546.2879465852,1546.2879465852,2201.962,1546.2879465852,1546.2879465852,2107.0,2107.0,2107.0,3404.0,333.06525,2172.3928624945,2172.3928624945,213.5297346354,213.5297346354,2054.712515,2965.0,2965.0,1068.984,1852.342295,2589.9195,327.1885363178,559.0,3289.77536,3289.77536,3289.77536,3289.77536,3289.77536,1068.984,1852.342295,776.0,3289.77536,1564.0,1564.0,1880.0105691438,1564.0,1564.0,2479.9634105785,2479.9634105785,2479.9634105785,2479.9634105785,2479.9634105785,1880.0105691438,1880.0105691438,2412.0,1880.0105691438,1880.0105691438,650.19325,2312.7863038857,2312.7863038857,2312.7863038857,2312.7863038857,2312.7863038857,2312.7863038857,2312.7863038857,2312.7863038857,2312.7863038857,2312.7863038857,2312.7863038857,2312.7863038857,2312.7863038857,340.0,340.0,776.0,742.0738692108,742.0738692108,1564.0,2965.0,2965.0,3109.6297733832,3109.6297733832,3109.6297733832,3109.6297733832,3109.6297733832,3109.6297733832,3109.6297733832,742.0738692108,742.0738692108,650.19325,324.26975,650.19325,3109.6297733832,650.19325,1564.0,650.19325,742.0738692108,1989.6934319222,1989.6934319222,1989.6934319222,1989.6934319222,1989.6934319222,2172.3928624945,2172.3928624945,2172.3928624945,742.0738692108,3404.0,3404.0,3404.0,324.26975,2172.3928624945,324.26975,776.0,1400.150345,324.26975,324.26975,776.0,627.5264,1400.150345,2054.712515,2054.712515,2054.712515,2054.712515,2054.712515,2054.712515,2054.712515,2054.712515,1400.150345,1400.150345,1400.150345,1400.150345,2054.712515,1400.150345,2054.712515,2054.712515,1400.150345,2054.712515,2054.712515,2054.712515,776.0,1880.0105691438,2054.712515,2054.712515,776.0,1400.150345,2054.712515,2054.712515,1400.150345,324.26975,324.26975,1564.0,324.26975,1400.150345,2054.712515,2054.712515,1400.150345,1400.150345,324.26975,1458.3009741566,1564.0,2107.0,1921.8173917539,2412.0,1458.3009741566,70.413,70.413,221.2105,2412.0,2412.0,254.59175,1458.3009741566,1458.3009741566,1458.3009741566,1921.8173917539,3801.2722801984,3801.2722801984,1458.3009741566,1921.8173917539,2675.6154919189,3404.0,3404.0,3801.2722801984,3801.2722801984,3801.2722801984,3801.2722801984,3801.2722801984,3801.2722801984,3801.2722801984,2675.6154919189,2675.6154919189,2675.6154919189,1932.5884190888,1932.5884190888,1564.0,3801.27182,4697.0,254.59175,490.5192,497.88023,497.88023,459.662207,459.662207,482.33,229.714,130.928,592.20175,592.20175,592.20175,343.0735,592.20175,592.20175,656.9583634397,656.9583634397,656.9583634397,343.0735,263.4076535004,178.15175,327.1885363178,70.413,260.06954,178.15175,2993.3976778782,340.0,2993.3976778782,2993.3976778782,2993.3976778782,2993.3976778782,2993.3976778782,1914.5808,340.0,2993.3976778782,2993.3976778782,2993.3976778782,465.1114709771,2055.7233952291,2055.7233952291,2055.7233952291,2055.7233952291,2055.7233952291,2055.7233952291,2055.7233952291,2055.7233952291,2055.7233952291,2055.7233952291,2055.7233952291,2055.7233952291,3073.118324,3073.118324,175.582,1769.5009963316,2412.0,340.0,3594.59501,340.0,340.0,2357.57642,1458.3009741566,297.0603435174,2412.0,3019.5119269599,1108.8717438803,776.0,776.0,776.0,689.14814,561.099,2852.221865,148.5888,379.8784,99.0592,148.5888,379.8784,99.0592,320.8362,499.49375,76.32,113.208,102.77,130.96,99.6,142.23475,130.928,20.776,130.928,130.928,99.6,130.928,106.428,130.928,130.928,130.928,130.928,130.928,130.928,130.928,130.928,99.6,130.928,154.05,201.4822231755,99.6,99.6,99.6,99.6,99.6,99.6,130.928,130.928,99.6,99.6,201.4822231755,201.4822231755,99.6,99.6,130.928,244.78,130.928,99.6,130.928,130.928,130.928,130.928,99.6,99.6,99.6,286.7180181681,170.37,206.465,286.7180181681,286.7180181681,229.714,286.7180181681,121.0336,221.5248,220.9165,222.176,130.928,130.928,286.7180181681,99.6,14423.6889944134,1915.208,28.18,108.65,151.5536,151.5536,1610.5688336627,1610.5688336627,1610.5688336627,882.9068,1610.5688336627,1610.5688336627,1610.5688336627,1610.5688336627,1610.5688336627,1610.5688336627,1610.5688336627,147.3297274722,104.858528,343.0735,262.8433632686,262.8433632686,147.3297274722,343.0735,146.5728,147.3297274722,74.8826,120.8704,142.23475,129.2228,234.5875,154.9504,140.0492,142.23475,116.3264,30.576,30.576,110.790368,153.21075,147.2256,137.79,54.35,39.71,179.0336,38.1696,16.03,90.88,13.19,6.63,19.49,16.03,22.26,16.2,16.2,71.7952,32.83,37.72,41.32,32.83,34.02,24.02,23.32,30.18,19.78,41.88,72.64,36.75,35.45,193.279,37.92,42.93,54.94,60.5,72.53,13.58,112.04,112.04,112.04,78.39,62.2528,35.45,47.11,144.601856,112.04,112.04,112.04,78.0,84.83,142.23475,147.21,123.28,195.2492607406,121.72,94.46,79.52,115.33,77.0,103.16,109.23,84.064,279.9104,113.78,26.67,73.26,72.69,178.15175,108.58,708.6625,178.4825,385.3831732724,88.0727074714,88.0727074714,88.0727074714,88.0727074714,88.0727074714,88.0727074714,171.7632,147.3297274722,232.4206,275.865,137.6832,70.413,197.096,142.23475,142.23475,142.23475,96.6048,70.413,343.0735,186.7584,70.413,343.0735,147.3297274722,224.3008,147.3297274722,20.5424,31.3688,147.3297274722,147.3297274722,41.601,134.048,41.601,142.23475,156.7684823612,81.792,30.576,80.2958,55.867,178.15175,31.3688,31.3688,150.5855843191,154.259633,150.5855843191,41.601,70.413,150.5855843191,41.601,41.601,150.5855843191,150.5855843191,150.5855843191,34.1448,44.9712,154.259633,150.5855843191,150.5855843191,150.5855843191,610.492128704,1289.1744,2772.802430009,273.3666,286.062,400.3984098963,400.3984098963,270.4518,165.7272,400.3984098963,400.3984098963,88.6238,541.5161,541.5161,541.5161,431.146802,431.146802,2847.6078776,1892.9407151284,1892.9407151284,1892.9407151284,1892.9407151284,1892.9407151284,449.9202,553.6038,614.8518408997,614.8518408997,614.8518408997,614.8518408997,614.8518408997,614.8518408997,614.8518408997,1004.8657678487,1004.8657678487,1004.8657678487,1004.8657678487,1004.8657678487,240.9476647032,400.3984098963,142.23475,2772.802430009,2772.802430009,2772.802430009,2772.802430009,2311.595693,2772.796253,2772.796253,2772.796253,240.9476647032,240.9476647032,400.3984098963,400.3984098963,400.3984098963,286.062,85.362,192.8626,400.3984098963,184.8122,146.7116,400.3984098963,400.3984098963,221.2105,1263.232,206.465,777.974072,95.8784,276.7296,218.5664,130.9578,228.5632,221.2105,221.2105,391.2384,221.2105,221.2105,221.2105,221.2105,398.1307224941,56.4916,70.413,70.413,165.3755889482,133.8726,115.4176,466.0904,290.3616,165.3755889482,228.5632,221.2105,221.2105,221.2105,408.96,457.01075,221.2105,221.2105,221.2105,221.2105,221.2105,457.01075,457.01075,286.272,419.4112,457.01075,457.01075,711.66375,777.974072,430.3168,482.5728,310.3552,457.01075,457.01075,457.01075,258.5536,290.3616,709.477192399,332.6208,1538.99207,221.2105,221.2105,98.6048,302.176,122.688,15.1986,398.1307224941,344.4352,573.4528,115.4176,221.2105,711.66375,476.6656,711.66375,395.3718,221.2105,202.208,1263.232,330.8032,1158.501608,214.9312,309.1076,309.1076,326.8046,1757.287,120.0169108707,211.3954587564,2296.5376,2202.9312,3310.721456,207.998396,211.3954587564,1078.7456,253.58725,448.0384,253.58725,253.58725,581.0668425172,253.58725,303.5392,253.58725,253.58725,1009.6844706879,581.0668425172,303.5392,435.3152,253.58725,253.58725,253.58725,336.256,223.1104,253.58725,1009.6844706879,350.3424,253.58725,223.5648,304.448,253.58725,253.58725,253.58725,470.7584,253.58725,253.58725,253.58725,507.5648,253.58725,581.0668425172,253.58725,448.0384,253.58725,328.0768,253.58725,253.58725,253.58725,253.58725,581.0668425172,221.2105,1352.6404192136,253.58725,253.58725,350.3424,253.58725,581.0668425172,253.58725,253.58725,253.58725,253.58725,253.58725,304.448,194.0288,253.58725,253.58725,293.88975,253.58725,253.58725,253.58725,1009.6844706879,1158.501608,581.0668425172,253.58725,273.0944,253.58725,253.58725,581.0668425172,253.58725,253.58725,253.58725,253.58725,528.4672,253.58725,303.5392,253.58725,303.5392,253.58725,581.0668425172,253.58725,253.58725,253.58725,581.0668425172,253.58725,303.5392,253.58725,530.7392,253.58725,1009.6844706879,563.456,1721.4974431869,253.58725,253.58725,253.58725,209.9328,253.58725,253.58725,253.58725,236.288,253.58725,253.58725,293.88975,224.4736,143.5904,178.556,178.556,142.23475,139.5008,142.23475,70.413,138.592,70.413,70.413,293.88975,293.88975,293.88975,293.88975,178.556,178.556,178.556,138.7306,136.3016,70.413,158.1312,178.556,201.2992,137.2288,178.556,207.998396,142.23475,142.23475,142.23475,207.998396,254.59175,254.59175,207.998396,207.998396,458.518942448,458.518942448,458.518942448,254.59175,2220.6528,22.72,308.339177,903.191507,308.339177,304.9024,207.998396,207.998396,207.998396,1332.3525389998,254.59175,211.3954587564,211.3954587564,207.998396,211.3954587564,1245.5104,207.998396,207.998396,207.998396,207.998396,211.3954587564,211.3954587564,207.998396,461.6704,887.3324956925,126.7776,119.9616,229.0176,263.21575,263.21575,459.3984,451.2192,221.2105,580.531,682.378763,142.23475,142.23475,178.15175,70.413,255.8272,221.2105,263.21575,205.3888,1029.3604894538,214.9312,1387.8917654648,218.20925,238.6666,1382.854919,1189.7242,70.413,150.8608,382.1858,319.6564,1485.345992,839.887652,178.5792,1262.7776,156.7684823612,633.144491,439.4048,142.23475,142.23475,684.0064,650.19325,650.19325,270.9791519982,393.056,270.9791519982,270.9791519982,142.23475,1277.787203,1277.787203,167.2192,164.3280152334,270.9791519982,270.9791519982,207.998396,1291.0482,207.998396,142.23475,156.3136,88.0727074714,88.0727074714,86.7904,142.23475,53.1648,70.413,70.413,86.7904,70.413,178.37627,207.998396,36.8514,36.8514,86.9582,129.504,129.504,102.6944,113.6,129.504,129.504,156.7684823612,156.7684823612,156.7684823612,33.6256,51.90325,26.9966,156.7684823612,88.0727074714,4.9984,21.7222,51.90325,82.65075,74.5216,253.04825,41.601,70.413,70.413,206.752,206.752,221.2105,221.2105,184.3264,30.6005,30.6005,30.6005,30.6005,30.6005,33.4,161.312,76.3392,74.5216,88.0727074714,74.0672,133.0109773118,88.0727074714,88.0727074714,88.0727074714,88.0727074714,67.0404,88.0727074714,88.0727074714,88.0727074714,88.0727074714,88.0727074714,88.0727074714,88.0727074714,88.0727074714,88.0727074714,119.5072,63.1616,88.0727074714,88.0727074714,88.0727074714,88.0727074714,88.0727074714,88.0727074714,88.0727074714,88.0727074714,88.0727074714,88.0727074714,88.0727074714,88.0727074714,88.0727074714,88.0727074714,104.0576,219.4752,213.568,36.358,124.4899476766,124.4899476766,52.7104,11.8144,92.91625,92.91625,60.4352,148.0535,148.0535,92.91625,68.6144,83.1552,88.0727074714,88.0727074714,88.0727074714,36.358,61.344,61.344,115.7654716745,115.7654716745,115.7654716745,115.7654716745,115.7654716745,115.7654716745,115.7654716745,115.7654716745,115.7654716745,115.7654716745,147.2256,35.4432,20.448,35.4432,64.5248,70.8864,35.4432,49.984,59.072,74.5216,107.6928,158.3773448178,158.3773448178,64.5248,70.8864,97.3295172747,158.3773448178,97.3295172747,97.3295172747,161.312,161.312,161.312,158.3773448178,161.312,161.312,115.7654716745,115.7654716745,115.7654716745,26.3552,44.0768,26.3552,52.7104,52.7104,26.3552,26.3552,26.3552,52.7104,52.7104,67.7056,26.3552,133.0109773118,115.7654716745,129.883478,129.883478,129.883478,115.6166947399,52.7104,52.7104,52.7104,52.7104,104.9664,52.7104,52.7104,52.7104,104.9664,417.5936,104.9664,104.9664,104.9664,157.67680000000001,209.9328,70.8864,70.8864,70.8864,70.8864,70.8864,70.8864,70.8864,70.8864,70.8864,115.7654716745,133.0109773118,108.6016,98.6048,69.0688,89.5168,98.6048,98.6048,74.5216,74.5216,55.4368,26.3552,61.344,39.5328,133.0109773118,100.4224,100.4224,133.0109773118,100.4224,100.4224,46.8032,46.8032,46.8032,133.0109773118,133.0109773118,133.0109773118,133.0109773118,29.0816,147.2256,194.1454741426,220.8384,223.1104,194.1454741426,194.1454741426,194.1454741426,255.0011116046,194.1454741426,194.1454741426,194.1454741426,194.1454741426,194.1454741426,255.0011116046,255.0011116046,255.0011116046,213.1136,255.0011116046,507.6708046495,507.6708046495,507.6708046495,507.6708046495,255.0011116046,255.0011116046,255.0011116046,255.0011116046,507.6708046495,507.6708046495,255.0011116046,255.0011116046,255.0011116046,255.0011116046,255.0011116046,255.0011116046,194.1454741426,194.1454741426,507.6708046495,507.6708046495,507.6708046495,507.6708046495,507.6708046495,507.6708046495,507.6708046495,255.0011116046,507.6708046495,507.6708046495,507.6708046495,507.6708046495,507.6708046495,507.6708046495,255.0011116046,507.6708046495,194.1454741426,134.048,147.2256,127.232,78.6112,162.6752,194.1454741426,194.1454741426,194.1454741426,194.1454741426,194.1454741426,194.1454741426,147.2256,70.8864,107.6928,194.1454741426,116.3264,194.1454741426,45.44,194.1454741426,194.1454741426,52.7104,255.0011116046,255.0011116046,507.6708046495,194.1454741426,255.0011116046,194.1454741426,99.5136,99.5136,99.5136,39.5328,194.1454741426,98.6048,89.5168,188.4071031104,188.4071031104,188.4071031104,188.4071031104,188.4071031104,280.9062564757,280.9062564757,282.4367284518,188.4071031104,188.4071031104,188.4071031104,282.4367284518,282.4367284518,282.4367284518,188.4071031104,188.4071031104,280.9062564757,188.4071031104,152.224,188.4071031104,280.9062564757,282.4367284518,282.4367284518,282.4367284518,280.9062564757,188.4071031104,188.4071031104,188.4071031104,280.9062564757,156.3136,282.4367284518,282.4367284518,52.7104,57.7088,63.1616,52.7104,57.7088,63.1616,188.4071031104,188.4071031104,134.048,188.4071031104,540.2816,223.2984631138,223.2984631138,356.704,223.2984631138,356.704,223.2984631138,223.2984631138,588.9024,668.4224,668.4224,223.2984631138,223.2984631138,158.5244421691,223.2984631138,223.2984631138,223.2984631138,668.4224,757.4848,223.2984631138,490.752,757.4848,833.3696,417.5936,223.2984631138,304.448,223.2984631138,223.2984631138,223.2984631138,223.2984631138,223.2984631138,223.2984631138,158.5244421691,196.3008,134.048,158.5244421691,223.2984631138,324.2657837049,324.2657837049,324.2657837049,324.2657837049,399.5919789121,399.5919789121,324.2657837049,324.2657837049,399.5919789121,399.5919789121,399.5919789121,399.5919789121,324.2657837049,324.2657837049,264.4608,264.4608,399.5919789121,399.5919789121,147.2256,147.2256,147.2256,147.2256,243.4681232009,243.4681232009,243.4681232009,243.4681232009,243.4681232009,243.4681232009,243.4681232009,243.4681232009,243.4681232009,243.4681232009,243.4681232009,243.4681232009,243.4681232009,399.5919789121,399.5919789121,399.5919789121,399.5919789121,399.5919789121,399.5919789121,243.4681232009,243.4681232009,243.4681232009,243.4681232009,243.4681232009,243.4681232009,243.4681232009,243.4681232009,399.5919789121,399.5919789121,399.5919789121,399.5919789121,243.4681232009,243.4681232009,3432.992,243.4681232009,324.2657837049,324.2657837049,324.2657837049,324.2657837049,392.6016,356.704,0.4544,144.4992,120.0169108707,120.0169108707,110.4192,110.4192,320.540750313,320.540750313,110.4192,110.4192,320.540750313,110.4192,110.4192,110.4192,110.4192,110.4192,110.4192,320.540750313,320.540750313,320.540750313,320.540750313,320.540750313,320.540750313,120.0169108707,320.540750313,320.540750313,320.540750313,320.540750313,320.540750313,320.540750313,320.540750313,320.540750313,320.540750313,320.540750313,320.540750313,320.540750313,38.1696,320.540750313,320.540750313,120.0169108707,120.0169108707,120.0169108707,110.4192,110.4192,304.9024,1176.896,787.4752,713.8624,650.7008,618.4384,515.2896,157.67680000000001,980.5952,980.5952,980.5952,1668.1024,1668.1024,1668.1024,1668.1024,1516.3328,1516.3328,1516.3328,1668.1024,1668.1024,1516.3328,1516.3328,1668.1024,1668.1024,1516.3328,1516.3328,1516.3328,1516.3328,1516.3328,1668.1024,1516.3328,392.6016,158.5244421691,1348.6592,1348.6592,1348.6592,241.2864,1301.4016,1301.4016,1301.4016,218.5664,312.6272,158.5244421691,158.5244421691,1516.3328,413.504,158.5244421691,1301.4016,1301.4016,1301.4016,618.4384,158.5244421691,158.5244421691,477.5744,444.8576,1522.24,1522.24,662.5152,662.5152,769.2992,769.2992,275.8208,275.8208,184.9408,184.9408,650.2464,585.2672,598.4448,650.2464,158.3773448178,135.8656,135.8656,1516.3328,631.1616,361.248,388.0431683603,462.8336952957,388.0431683603,388.0431683603,462.8336952957,462.8336952957,388.0431683603,462.8336952957,388.0431683603,462.8336952957,388.0431683603,388.0431683603,388.0431683603,156.8714213762,156.8714213762,388.0431683603,156.8714213762,388.0431683603,388.0431683603,388.0431683603,388.0431683603,388.0431683603,388.0431683603,388.0431683603,388.0431683603,388.0431683603,388.0431683603,388.0431683603,462.8336952957,388.0431683603,388.0431683603,388.0431683603,388.0431683603,388.0431683603,462.8336952957,388.0431683603,462.8336952957,462.8336952957,462.8336952957,462.8336952957,462.8336952957,388.0431683603,462.8336952957,388.0431683603,462.8336952957,462.8336952957,462.8336952957,462.8336952957,388.0431683603,462.8336952957,462.8336952957,462.8336952957,156.8714213762,462.8336952957,156.8714213762,156.8714213762,156.8714213762,156.8714213762,243.4681232009,156.8714213762,243.4681232009,211.3954587564,211.3954587564,211.3954587564,211.3954587564,211.3954587564,211.3954587564,457.1834570145,211.3954587564,173.1264,457.1834570145,211.3954587564,211.3954587564,211.3954587564,441.6768,211.3954587564,134.048,211.3954587564,211.3954587564,211.3954587564,134.048,211.3954587564,211.3954587564,401.6896,223.1104,312.6272,211.3954587564,130.4128,130.4128,211.3954587564,211.3954587564,211.3954587564,211.3954587564,457.1834570145,457.1834570145,457.1834570145,211.3954587564,211.3954587564,211.3954587564,211.3954587564,211.3954587564,211.3954587564,211.3954587564,211.3954587564,211.3954587564,211.3954587564,211.3954587564,211.3954587564,211.3954587564,211.3954587564,211.3954587564,211.3954587564,1293.2224,211.3954587564,211.3954587564,158.5244421691,211.3954587564,211.3954587564,211.3954587564,211.3954587564,457.1834570145,2585.9904,970.144,2909.0688,1783.52,1616.3008,581.0668425172,581.0668425172,581.0668425172,1375.0144,3073.5616,581.0668425172,3073.5616,1293.2224,3073.5616,581.0668425172,581.0668425172,581.0668425172,1375.0144,3232.6016,211.3954587564,388.0576,3310.721456,1939.3792,2327.8912,1810.3296,1051.4816,3310.721456,1939.3792,3310.721456,259.008,211.3954587564,211.3954587564,1616.3008,2327.8912,2327.8912,2327.8912,2327.8912,211.3954587564,43.6224,211.3954587564,211.3954587564,211.3954587564,211.3954587564,457.1834570145,158.5244421691,17.2672,1778.976,3232.6016,3310.721456,2585.9904,2456.4864,3310.721456,3310.721456,3310.721456,3310.721456,1070.112,1226.4256,269.4592,270.8224,1051.4816,211.3954587564,107.6928,107.6928,211.3954587564,211.3954587564,134.048,211.3954587564,116.7808,457.1834570145,211.3954587564,457.1834570145,211.3954587564,1616.3008,1228.2432,1265.0496,1265.0496,515.2896,211.3954587564,211.3954587564,211.3954587564,1483.1616,1699.456,1956.6464,1956.6464,2060.2496,2575.5392,2197.9328,2197.9328,2197.9328,618.4384,764.3008,224.928,518.016,431.2256,43.6224,309.4464,157.67680000000001,209.9328,209.9328,52.7104,52.7104,52.7104,52.7104,104.9664,104.9664,468.4864,158.5244421691,158.5244421691,0.4544,134.048,154.9504,223.1104,134.048,29.0816,635.7056,244.9216,267.6416,139.9552,637.0688,122.688,139.9552,147.2256,182.2144,55.8912,206.752,206.752,131.776,55.8912,72.704,104.9664,0.4544,158.5244421691,147.2256,134.048,119.9616,211.3954587564,108.1472,108.1472,108.1472,108.1472,284.9088,158.5244421691,158.5244421691,43.6224,158.5244421691,243.4681232009,114.5088,158.5244421691,147.2256,243.4681232009,10.4512,134.048,147.2256,158.5244421691,158.5244421691,158.5244421691,41.8048,39.5328,43.168,158.5244421691,177.216,88.0727074714,88.0727074714,88.0727074714,1375.7856,286.062,286.062,451.32675,451.32675,286.062,699.17,451.32675,286.062,451.32675,451.32675,286.062,451.32675,451.32675,286.062,699.17,451.32675,286.062,451.32675,451.32675,286.062,699.17,451.32675,286.062,451.32675,451.32675,286.062,514.0239676113,286.062,514.0239676113,451.32675,738.4020939232,106.428,286.062,106.428,337.6391226185,337.6391226185,286.062,286.062,471.1,468.8,738.4020939232,738.4020939232,286.062,286.062,451.32675,451.32675,286.062,514.0239676113,220.9165,286.062,451.32675,286.062,451.32675,286.062,451.32675,451.32675,451.32675,451.32675,286.062,451.32675,451.32675,286.062,451.32675,451.32675,592.54,590.91,637.892391347,590.91,637.892391347,590.37,357.651,357.651,218.20925,357.651,357.651,357.651,357.651,357.651,218.20925,720.4715,53.1604,50.3844,41.601,141.7728,70.413,141.7728,42.875,142.23475,142.23475,177.6704,122.26725,178.15175,178.15175,252.6010726417,252.6010726417,398.5724044369,398.5724044369,398.5724044369,252.6010726417,252.6010726417,252.6010726417,398.5724044369,398.5724044369,398.5724044369,939.8634960715,939.8634960715,592.20175,178.15175,592.20175,939.8634960715,939.8634960715,343.0735,343.0735,252.6010726417,252.6010726417,252.6010726417,252.6010726417,252.6010726417,142.23475,70.413,177.6704,709.3184,252.6010726417,156.7684823612,252.6010726417,252.6010726417,234.9248,89.9712,178.15175,357.651,665.2416,95.424,104.858528,104.858528,641.0478,501.9702,342.489,88.0727074714,88.0727074714,30.4448,11.8144,45.8944,38.624,32.7168,12.2688,50.862,50.862,50.862,50.862,50.862,50.862,50.862,50.862,50.862,50.862,50.862,50.862,50.862,50.862,50.862,50.862,50.862,50.862,50.862,50.862,50.862,50.862,50.862,45.8944,45.8944,45.8944,110.790368,110.790368,551.8625,551.8625,343.6212356252,551.8625,551.8625,84.064,325.5857824829,325.5857824829,178.4825,162.0,178.4825,87.7386489966,227.2,160.4032,88.0727074714,126.7776,84.9728,536.6464,59.5264,461.5758206437,206.752,185.4700696504,502.112,140.4096,178.4825,188.1216,178.4825,188.1216,223.0,88.0727074714,144.9766,219.4752,67.2512,131.3216,501.6576,103.6032,92.91625,131.9721419212,131.9721419212,178.4825,178.4825,20.47,46.53,27.02,225.9290759258,225.9290759258,225.9290759258,225.9290759258,225.9290759258,79.52,225.9290759258,235.0,118.0,71.1,118.0,118.0,92.91625,21.7222,36.358,438.9504,194.559071,178.15175,263.21575,263.21575,502.5754784544,502.5754784544,44.9712,47.6778,468.461783,164.478,70.413,70.413,142.23475,134.636,122.26725,130.928,130.928,178.15175,211.1306971874,211.1306971874,211.1306971874,211.1306971874,211.1306971874,211.1306971874,211.1306971874,211.1306971874,225.9290759258,148.0535,42.875,95.424,281.0346,42.875,42.875,42.875,42.875,42.875,42.875,42.875,42.875,42.875,156.7684823612,156.7684823612,42.875,42.875,30.576,42.875,42.875,116.7808,116.7808,116.7808,150.8608,44.9712,286.062,130.928,286.062,130.928,221.7519605461,142.23475,178.15175,221.7519605461,286.062,130.928,221.7519605461,130.928,286.062,130.928,286.062,130.928,286.062,130.928,130.928,221.7519605461,130.928,130.928,535.2832,42.875,211.1306971874,142.23475,142.23475,178.15175,178.15175,205.3888,211.1306971874,178.15175,142.23475,242.6496,167.2192,211.1306971874,167.2192,211.1306971874,211.1306971874,211.1306971874,211.1306971874,178.15175,211.1306971874,211.1306971874,142.23475,122.26725,33.7978,41.601,30.576,37.7152,53.1604,282.805,556.241,286.272,836.4088,811.98,499.49375,714.4036,683.1736,737.5832,966.742,70.413,104.858528,35.64,30.09,17.21,29.536,60.62,17.21,206.752,30.09,67.0404,103.753,59.5264,70.413,70.413,null,null,null,null,null,null,null,null,null,null,null,null,null,null,null,null,null,null,null,null,null,null,null,null,null,null,null,null,null,null,null,null,null,null,null,null,null,null,null,null,null,null,null,null,null,null,null,null,null,null,null,null,null,null,null,null,null,null,null,null,null,null,null,null,null,null,null,null,null,null,null,null,null,null,null,null,null,null,null,null,null,null,null,null,null,null,null,null,null,null,null,null,null,null,null,null,null,null,null,null,null,null,null,null,null,null,null,null,null,null,null,null,null,null,null,null,null,null,null,null,null,null,null,null,null,null,null,null,null,null,null,null,null,null,null,null,null,null,null,null,null,null,null,null,null,null,null,null,null,null,null,null,null,null,null,null,null,null,null,null,null,null,null,null,null,null,null,null,null,null,null,null,null,null,null,null,null,null,null,null,null,null,null,null,null,null,null,null,null,null,null,null,null,null,null,null,null,null,null,null,null,null,null,null,null,null,null,null,null,null,null,null,null,null,null,null,null,null,null,null,null,null,null,null,null,null,null,null,null,null,null,null,null,null,null,null,null,null,null,null,null,null,null,null,null,null,null,null,null,null,null,null,null,null,null,null,null,null,null,null,null,null,null,null,null,null,null,null,null,null,null,null,null,null,null,null,null,null,null,null,null,null,null,null,null,null,null,null,null,null,null,16700.1492484262,15656.7470568,null,null,null,null,null,17129.6940063051,11593.40468298,null,15040.0952308159,null,14473.8951407099,11526.5190013374,null,14621.3863257562,10841.4262591062,17980.7463202678,11178.8879108938,8514.1201947824,null,13194.6871594287,10707.2596842499,null,11541.12,10420.539593016,null,10176.9834455637,8065.9186229746,10072.0587470341,12252.3049106432,6572.7120864375,11010.9175247244,6489.7557664761,16407.4259777636,7874.1140970326,6340.8398113938,15334.4209402587,7605.561,6557.4129526531,15392.9678266228,8566.7986995228,6533.872153971,6970.1177548959,5768.1157130698,4963.8838196923,7826.5125,6601.0127051142,5242.0879879015,10726.7337448299,5874.3003216921,11434.8187469507,4919.4839595299,8478.6055858518,5188.2059682039,7289.166,5547.0448061781,13430.0196098809,7150.8771846873,3964.278,12397.3729501365,7688.603326367,4407.3641404141,5030.0599926314,4051.160486981,11095.1368549615,6291.7396647249,4797.1064215749,null,16735.9868184862,11925.9584900614,null,11504.9517799573,6916.9398804412,9644.0834723207,4781.0393482156,5186.694,4805.1425713736,9446.9085083674,6662.8569825589,6892.7038281055,11190.7207620611,5078.3868338977,6138.7997525412,4619.2015647227,5166.4806791449,6977.7,4964.0512376098,10775.6959503289,7006.0016386933,6246.8206788003,4927.7869099515,7123.7796785142,15246.6455276866,10115.43,8581.368,null,7902.1621669376,5341.7008349653,13262.544,10822.812900339,5281.6084263657,4275.4192641774,13205.4156790873,5437.7657181199,7361.6385653999,4054.2835580784,6226.224,5800.4963618834,4256.2685923555,8548.035,6014.637877556,4207.5885316514,null,11902.9432483389,9812.6087702411,null,10305.5292399417,7570.5722737067,11431.2936929856,6748.4840258231,12084.4365836508,8294.4668116074,6605.2359856304,12309.5816678104,8838.6801184502,6581.6566504312,7726.6779021152,5222.1757438262,3758.094,11122.5552488983,6344.1486893506,5259.8131815089,8508.0846829118,7816.7863709498,5852.4439644021,4925.045739148,8783.0311804021,5893.6709154765,4302.0896955534,10993.9928438563,6972.6264156759,5647.5818955982,8743.569565542,5811.21,3862.674,6573.8512007758,4094.2062799808,5200.0644780474,9839.7286618035,5637.0949275345,null,null,null,null,null,null,null,null,15910.4801756935,null,null,null,null,null,null,null,16113.9345718818,null,null,null,null,null,null,null,null,13369.8336449272,10170.276,null,14994.9304295753,10446.2489851363,16249.7054622753,10627.9600315838,null,16350.96584969,8652.342,16578.5293738108,9556.5169151681,7511.5870976556,17611.6962294546,15387.4631081112,10691.886,6575.1789023494,4095.294,15362.3292746711,12733.4548230572,null,null,null,12595.2437923802,null,16541.9746024448,12346.6309989676,16669.0030109742,8783.124,13107.126467162,7665.8649041321,6201.6027524206,null,13662.3865740505,7019.4128083367,null,12196.9894223334,9203.9591270154,7079.3402347463,5073.1344149846,8746.2495871507,15602.296220582,10700.6337747955,6466.2917723273,5461.8565888199,5381.334,4335.6014463636,8969.5131716295,4968.8888081714,14098.4619040072,5752.8832377739,8727.9422601025,5536.9863107434,4132.1677908984,4504.1582408291,5082.1281296141,4538.1609328727,13993.7871717265,7469.6050178821,4986.4871247301,null,10421.5660006736,null,11019.7006425705,7517.0411148125,null,11716.7184844449,9047.670759882,13020.2690065727,8764.3922219118,null,10535.4837962794,7545.5328618104,13008.3237674025,8029.8125579881,6923.4767336738,11942.4038366148,6956.7863970228,5673.7060854971,15017.1790428983,8782.7756881078,7591.9445197612,11537.3253631432,6525.028207939,5309.547,15245.9849614652,7130.2706590924,5234.1685180719,15055.3708946133,8372.1,6495.678,null,10975.9658139283,6955.4537964164,8798.2607268594,6424.6783424218,4938.977543959,11562.9132055138,7094.5100032691,5347.4874301401,14633.895604134,8350.6273496779,5958.5578015765,11247.2106270638,6543.7658380098,4963.7303542113,13175.0479293223,6779.3930993564,4932.7640929391,9104.4462079652,6505.7421530726,8804.9942124562,6119.6170827687,4955.5054612901,10175.2358320041,5629.1488499525,4219.0371993391,8597.8929858333,4861.1015967537,10960.8736590006,6219.4597698004,4249.2613333333,null,13763.3898152886,10167.1637315648,null,12570.7145247269,10883.4078095799,null,9914.8783908339,8165.8458290851,9860.3075755892,7994.5441055697,6236.5845679419,null,10550.514,null,null,16148.1064326189,8910.3828348357,5431.4227811076,13381.7278598217,8401.2561955897,5840.2704576711,12744.3234565166,6645.476980675,4924.1538715565,15666.9479882917,7569.1375060602,4922.8152633188,13581.5573168387,7977.7053929863,5165.2156297213,null,null,17092.4686731706,null,null,null,null,null,11430.5009153751,null,13769.793,8343.2069420754,null,11599.8130927806,10806.0034917204,16764.5205718013,10967.3779075803,null,12098.9442692881,9739.5824895345,null,13993.422,15487.152,11516.8629957105,6967.1876391048,null,11958.2254760268,8811.9776801335,10307.4965825894,16126.026,11991.894696483,8460.7840596706,11303.1619486145,8929.7631405308,null,10284.4330808439,8049.5495507893,15351.1319659347,10071.887975653,7268.3473484248,9623.6787815708,14866.89,9175.149,6979.6225688592,11394.2714908233,9783.8584448157,8090.1545160303,9584.423257685,8376.798,7374.1835013079,9878.478439676,5055.1064618592,null,10271.8032920321,7794.31739904,15892.4350203227,9469.6996620403,6664.257,null,10827.012,8910.05089376,7806.419123458,9364.7735209091,5288.9933246189,4684.2260521409,14716.550768278,8460.2488787042,6309.5974061595,12423.036,8067.3286344009,4893.7815113462,null,8844.3771580648,5751.2827073013,14166.2413063152,8159.4236574882,5754.5612259015,8181.1878673663,5370.0995287987,9160.9540200952,5403.1159668554,5800.212,4964.4389000678,10228.564300672,5451.843410177,12551.1639523465,8309.554,5772.975,8484.8270645863,5033.688308328,6447.018,6127.417026794,4274.3309499717,16042.6794311984,6423.7641816323,5006.2520850688,15020.436001351,null,10937.0931502723,9320.7128364892,15198.964,9583.6628797839,9006.6976176058,11309.8600728972,9160.7236976684,8506.2209237183,8156.1122252586,10372.1527772547,7505.767004646,5215.7066244348,null,7528.8247900554,11428.9141664564,8757.2876945828,5529.1269474229,4125.1358760623,9418.4903990513,5386.8762891219,8551.3670543221,4608.434547034,10653.167484391,5119.9424725022,12970.1704014952,7815.9054038715,null,15115.8740585457,11246.4009898058,15796.7905361838,8059.5800147216,7250.9639351251,7925.334,7662.564,6854.7594975874,12693.6373591567,6673.0842908269,5158.7953414593,null,11702.9552402943,8540.0749425646,9184.1314161132,5640.9602682868,4442.1971872195,9305.1373803217,5638.206475331,13427.5204396891,10087.7041311937,6446.7982144995,4729.429382676,null,null,null,14435.4131629537,11088.704566245,16369.7285197681,10252.4638546797,7831.422,14543.1009792444,7132.6584374274,6011.3182502194,12329.1791210353,7942.1937032246,5991.6517458283,null,7318.32,6154.4216849505,15373.1600145119,6528.5131804673,5012.1071038493,5155.5331702049,16784.6810820698,7916.874,6964.0327473079,10810.3769944105,7019.6865982764,5305.5354754053,13267.3379756181,8927.4,8238.7081784813,5348.3666009455,7815.438,4960.4174568216,5847.7629912008,4231.6591875837,5950.1564895981,11994.2963014517,7380.6438301947,5030.4177993347,9652.9439531751,7344.8047127516,8773.0621535676,6492.388465235,14033.8442249888,5037.5859749715,6814.0720534648,4685.120568899,10263.4876269073,6352.9470644383,11278.0639858234,6507.4163467716,8338.2519447715,5523.4203892326,8092.5795547843,4682.94,4682.94,3609.912,10357.1481187493,7697.2024526492,null,10328.0012597666,7683.7213657375,17257.2470917253,9455.8594100305,7728.7992125536,6549.744,5952.5027716077,8543.0681332552,5162.0356189468,8244.4853202885,6015.4218084512,6392.6842511938,14144.229313167,5664.3778812526,13967.8253956615,7304.4720636571,5519.7184660335,7473.2547609369,5561.4144151261,4418.2651027088,5032.4061569325,3821.6030960181,5207.2174850046,5801.766,4888.5005102408,3951.7578357801,5051.076940778,7290.2552402431,6065.5921570107,5651.1837900652,7027.7939579982,6113.4541427907,5622.9808831631,17337.4896627838,null,12807.2752245119,4193.2323022276,8379.4167119217,3025.7994392112,2313.9534810754,6260.9679818083,5407.9485971048,4731.306,16619.8319648931,11858.9557444282,8522.2121309945,null,7835.9602813934,7982.6533842848,4999.2520538354,4498.4609720323,4253.0412141476,null,9335.9110913385,5594.0588800151,10367.1920662285,5966.8706383461,9840.7823980325,13062.430563106,6936.859150704,4702.6589196568,6288.336,6166.959515409,5228.0234321044,null,15014.6685576377,7705.9380656054,null,15029.6420696534,7520.9527645677,null,13178.9084753311,10039.5143924671,null,9874.4645824279,5045.7738602679,4001.7529918402,3634.881239231,null,null,11370.6700102049,null,11091.946,7813.2184352022,null,12555.1462157271,14438.9043743295,9091.3208947641,6331.5130667338,13929.3027138806,7946.1156021332,5666.6376828833,15558.2469999332,null,10543.626,7056.5762400185,null,11205.2836536734,8209.5165959437,11905.8096525094,6500.5537976938,4894.2699856101,7719.804,5039.4488240928,10777.8875163863,7205.022,5439.232600496,null,16613.9404542318,7587.081652633,13821.1821005082,3640.0,5073.4929012827,5183.6416391047,6690.0,5720.5714283262,6775.875,4324.0,4864.5,4071.8968033166,6256.8881625706,10225.4227069118,5138.3476058214,15483.203924824,9503.7748309289,5571.6898896811,8459.4996253512,6381.2447580369,12233.7,null,11310.2518479779,6927.7806244778,7522.6653436602,4927.9113395262,11995.8924983021,4163.4765999454,10859.7591531068,4626.5670708635,12816.136792056,6579.8025,4386.7251280816,11558.956404749,4863.6639966229,15465.78,15465.78,14534.8550672346,9759.0461172607,7500.8989307357,null,9530.4,7249.3904740505,9427.9032,10801.6334958657,8360.8353652334,5331.3597773778,6749.748,4760.3287855636,5708.4545722733,null,null,null,16642.308,null,8318.1616770048,5873.933340458,null,17739.1307545614,8466.3340309357,6746.1964644906,8199.6136073413,null,12561.1440271718,7833.7468536983,null,10429.4280588566,5995.0715522036],\"type\":\"histogram\"}],                        {\"template\":{\"data\":{\"histogram2dcontour\":[{\"type\":\"histogram2dcontour\",\"colorbar\":{\"outlinewidth\":0,\"ticks\":\"\"},\"colorscale\":[[0.0,\"#0d0887\"],[0.1111111111111111,\"#46039f\"],[0.2222222222222222,\"#7201a8\"],[0.3333333333333333,\"#9c179e\"],[0.4444444444444444,\"#bd3786\"],[0.5555555555555556,\"#d8576b\"],[0.6666666666666666,\"#ed7953\"],[0.7777777777777778,\"#fb9f3a\"],[0.8888888888888888,\"#fdca26\"],[1.0,\"#f0f921\"]]}],\"choropleth\":[{\"type\":\"choropleth\",\"colorbar\":{\"outlinewidth\":0,\"ticks\":\"\"}}],\"histogram2d\":[{\"type\":\"histogram2d\",\"colorbar\":{\"outlinewidth\":0,\"ticks\":\"\"},\"colorscale\":[[0.0,\"#0d0887\"],[0.1111111111111111,\"#46039f\"],[0.2222222222222222,\"#7201a8\"],[0.3333333333333333,\"#9c179e\"],[0.4444444444444444,\"#bd3786\"],[0.5555555555555556,\"#d8576b\"],[0.6666666666666666,\"#ed7953\"],[0.7777777777777778,\"#fb9f3a\"],[0.8888888888888888,\"#fdca26\"],[1.0,\"#f0f921\"]]}],\"heatmap\":[{\"type\":\"heatmap\",\"colorbar\":{\"outlinewidth\":0,\"ticks\":\"\"},\"colorscale\":[[0.0,\"#0d0887\"],[0.1111111111111111,\"#46039f\"],[0.2222222222222222,\"#7201a8\"],[0.3333333333333333,\"#9c179e\"],[0.4444444444444444,\"#bd3786\"],[0.5555555555555556,\"#d8576b\"],[0.6666666666666666,\"#ed7953\"],[0.7777777777777778,\"#fb9f3a\"],[0.8888888888888888,\"#fdca26\"],[1.0,\"#f0f921\"]]}],\"heatmapgl\":[{\"type\":\"heatmapgl\",\"colorbar\":{\"outlinewidth\":0,\"ticks\":\"\"},\"colorscale\":[[0.0,\"#0d0887\"],[0.1111111111111111,\"#46039f\"],[0.2222222222222222,\"#7201a8\"],[0.3333333333333333,\"#9c179e\"],[0.4444444444444444,\"#bd3786\"],[0.5555555555555556,\"#d8576b\"],[0.6666666666666666,\"#ed7953\"],[0.7777777777777778,\"#fb9f3a\"],[0.8888888888888888,\"#fdca26\"],[1.0,\"#f0f921\"]]}],\"contourcarpet\":[{\"type\":\"contourcarpet\",\"colorbar\":{\"outlinewidth\":0,\"ticks\":\"\"}}],\"contour\":[{\"type\":\"contour\",\"colorbar\":{\"outlinewidth\":0,\"ticks\":\"\"},\"colorscale\":[[0.0,\"#0d0887\"],[0.1111111111111111,\"#46039f\"],[0.2222222222222222,\"#7201a8\"],[0.3333333333333333,\"#9c179e\"],[0.4444444444444444,\"#bd3786\"],[0.5555555555555556,\"#d8576b\"],[0.6666666666666666,\"#ed7953\"],[0.7777777777777778,\"#fb9f3a\"],[0.8888888888888888,\"#fdca26\"],[1.0,\"#f0f921\"]]}],\"surface\":[{\"type\":\"surface\",\"colorbar\":{\"outlinewidth\":0,\"ticks\":\"\"},\"colorscale\":[[0.0,\"#0d0887\"],[0.1111111111111111,\"#46039f\"],[0.2222222222222222,\"#7201a8\"],[0.3333333333333333,\"#9c179e\"],[0.4444444444444444,\"#bd3786\"],[0.5555555555555556,\"#d8576b\"],[0.6666666666666666,\"#ed7953\"],[0.7777777777777778,\"#fb9f3a\"],[0.8888888888888888,\"#fdca26\"],[1.0,\"#f0f921\"]]}],\"mesh3d\":[{\"type\":\"mesh3d\",\"colorbar\":{\"outlinewidth\":0,\"ticks\":\"\"}}],\"scatter\":[{\"fillpattern\":{\"fillmode\":\"overlay\",\"size\":10,\"solidity\":0.2},\"type\":\"scatter\"}],\"parcoords\":[{\"type\":\"parcoords\",\"line\":{\"colorbar\":{\"outlinewidth\":0,\"ticks\":\"\"}}}],\"scatterpolargl\":[{\"type\":\"scatterpolargl\",\"marker\":{\"colorbar\":{\"outlinewidth\":0,\"ticks\":\"\"}}}],\"bar\":[{\"error_x\":{\"color\":\"#2a3f5f\"},\"error_y\":{\"color\":\"#2a3f5f\"},\"marker\":{\"line\":{\"color\":\"#E5ECF6\",\"width\":0.5},\"pattern\":{\"fillmode\":\"overlay\",\"size\":10,\"solidity\":0.2}},\"type\":\"bar\"}],\"scattergeo\":[{\"type\":\"scattergeo\",\"marker\":{\"colorbar\":{\"outlinewidth\":0,\"ticks\":\"\"}}}],\"scatterpolar\":[{\"type\":\"scatterpolar\",\"marker\":{\"colorbar\":{\"outlinewidth\":0,\"ticks\":\"\"}}}],\"histogram\":[{\"marker\":{\"pattern\":{\"fillmode\":\"overlay\",\"size\":10,\"solidity\":0.2}},\"type\":\"histogram\"}],\"scattergl\":[{\"type\":\"scattergl\",\"marker\":{\"colorbar\":{\"outlinewidth\":0,\"ticks\":\"\"}}}],\"scatter3d\":[{\"type\":\"scatter3d\",\"line\":{\"colorbar\":{\"outlinewidth\":0,\"ticks\":\"\"}},\"marker\":{\"colorbar\":{\"outlinewidth\":0,\"ticks\":\"\"}}}],\"scattermapbox\":[{\"type\":\"scattermapbox\",\"marker\":{\"colorbar\":{\"outlinewidth\":0,\"ticks\":\"\"}}}],\"scatterternary\":[{\"type\":\"scatterternary\",\"marker\":{\"colorbar\":{\"outlinewidth\":0,\"ticks\":\"\"}}}],\"scattercarpet\":[{\"type\":\"scattercarpet\",\"marker\":{\"colorbar\":{\"outlinewidth\":0,\"ticks\":\"\"}}}],\"carpet\":[{\"aaxis\":{\"endlinecolor\":\"#2a3f5f\",\"gridcolor\":\"white\",\"linecolor\":\"white\",\"minorgridcolor\":\"white\",\"startlinecolor\":\"#2a3f5f\"},\"baxis\":{\"endlinecolor\":\"#2a3f5f\",\"gridcolor\":\"white\",\"linecolor\":\"white\",\"minorgridcolor\":\"white\",\"startlinecolor\":\"#2a3f5f\"},\"type\":\"carpet\"}],\"table\":[{\"cells\":{\"fill\":{\"color\":\"#EBF0F8\"},\"line\":{\"color\":\"white\"}},\"header\":{\"fill\":{\"color\":\"#C8D4E3\"},\"line\":{\"color\":\"white\"}},\"type\":\"table\"}],\"barpolar\":[{\"marker\":{\"line\":{\"color\":\"#E5ECF6\",\"width\":0.5},\"pattern\":{\"fillmode\":\"overlay\",\"size\":10,\"solidity\":0.2}},\"type\":\"barpolar\"}],\"pie\":[{\"automargin\":true,\"type\":\"pie\"}]},\"layout\":{\"autotypenumbers\":\"strict\",\"colorway\":[\"#636efa\",\"#EF553B\",\"#00cc96\",\"#ab63fa\",\"#FFA15A\",\"#19d3f3\",\"#FF6692\",\"#B6E880\",\"#FF97FF\",\"#FECB52\"],\"font\":{\"color\":\"#2a3f5f\"},\"hovermode\":\"closest\",\"hoverlabel\":{\"align\":\"left\"},\"paper_bgcolor\":\"white\",\"plot_bgcolor\":\"#E5ECF6\",\"polar\":{\"bgcolor\":\"#E5ECF6\",\"angularaxis\":{\"gridcolor\":\"white\",\"linecolor\":\"white\",\"ticks\":\"\"},\"radialaxis\":{\"gridcolor\":\"white\",\"linecolor\":\"white\",\"ticks\":\"\"}},\"ternary\":{\"bgcolor\":\"#E5ECF6\",\"aaxis\":{\"gridcolor\":\"white\",\"linecolor\":\"white\",\"ticks\":\"\"},\"baxis\":{\"gridcolor\":\"white\",\"linecolor\":\"white\",\"ticks\":\"\"},\"caxis\":{\"gridcolor\":\"white\",\"linecolor\":\"white\",\"ticks\":\"\"}},\"coloraxis\":{\"colorbar\":{\"outlinewidth\":0,\"ticks\":\"\"}},\"colorscale\":{\"sequential\":[[0.0,\"#0d0887\"],[0.1111111111111111,\"#46039f\"],[0.2222222222222222,\"#7201a8\"],[0.3333333333333333,\"#9c179e\"],[0.4444444444444444,\"#bd3786\"],[0.5555555555555556,\"#d8576b\"],[0.6666666666666666,\"#ed7953\"],[0.7777777777777778,\"#fb9f3a\"],[0.8888888888888888,\"#fdca26\"],[1.0,\"#f0f921\"]],\"sequentialminus\":[[0.0,\"#0d0887\"],[0.1111111111111111,\"#46039f\"],[0.2222222222222222,\"#7201a8\"],[0.3333333333333333,\"#9c179e\"],[0.4444444444444444,\"#bd3786\"],[0.5555555555555556,\"#d8576b\"],[0.6666666666666666,\"#ed7953\"],[0.7777777777777778,\"#fb9f3a\"],[0.8888888888888888,\"#fdca26\"],[1.0,\"#f0f921\"]],\"diverging\":[[0,\"#8e0152\"],[0.1,\"#c51b7d\"],[0.2,\"#de77ae\"],[0.3,\"#f1b6da\"],[0.4,\"#fde0ef\"],[0.5,\"#f7f7f7\"],[0.6,\"#e6f5d0\"],[0.7,\"#b8e186\"],[0.8,\"#7fbc41\"],[0.9,\"#4d9221\"],[1,\"#276419\"]]},\"xaxis\":{\"gridcolor\":\"white\",\"linecolor\":\"white\",\"ticks\":\"\",\"title\":{\"standoff\":15},\"zerolinecolor\":\"white\",\"automargin\":true,\"zerolinewidth\":2},\"yaxis\":{\"gridcolor\":\"white\",\"linecolor\":\"white\",\"ticks\":\"\",\"title\":{\"standoff\":15},\"zerolinecolor\":\"white\",\"automargin\":true,\"zerolinewidth\":2},\"scene\":{\"xaxis\":{\"backgroundcolor\":\"#E5ECF6\",\"gridcolor\":\"white\",\"linecolor\":\"white\",\"showbackground\":true,\"ticks\":\"\",\"zerolinecolor\":\"white\",\"gridwidth\":2},\"yaxis\":{\"backgroundcolor\":\"#E5ECF6\",\"gridcolor\":\"white\",\"linecolor\":\"white\",\"showbackground\":true,\"ticks\":\"\",\"zerolinecolor\":\"white\",\"gridwidth\":2},\"zaxis\":{\"backgroundcolor\":\"#E5ECF6\",\"gridcolor\":\"white\",\"linecolor\":\"white\",\"showbackground\":true,\"ticks\":\"\",\"zerolinecolor\":\"white\",\"gridwidth\":2}},\"shapedefaults\":{\"line\":{\"color\":\"#2a3f5f\"}},\"annotationdefaults\":{\"arrowcolor\":\"#2a3f5f\",\"arrowhead\":0,\"arrowwidth\":1},\"geo\":{\"bgcolor\":\"white\",\"landcolor\":\"#E5ECF6\",\"subunitcolor\":\"white\",\"showland\":true,\"showlakes\":true,\"lakecolor\":\"white\"},\"title\":{\"x\":0.05},\"mapbox\":{\"style\":\"light\"}}}},                        {\"responsive\": true}                    ).then(function(){\n",
              "                            \n",
              "var gd = document.getElementById('8c054e7c-6ba4-4e63-9c99-fac950770f61');\n",
              "var x = new MutationObserver(function (mutations, observer) {{\n",
              "        var display = window.getComputedStyle(gd).display;\n",
              "        if (!display || display === 'none') {{\n",
              "            console.log([gd, 'removed!']);\n",
              "            Plotly.purge(gd);\n",
              "            observer.disconnect();\n",
              "        }}\n",
              "}});\n",
              "\n",
              "// Listen for the removal of the full notebook cells\n",
              "var notebookContainer = gd.closest('#notebook-container');\n",
              "if (notebookContainer) {{\n",
              "    x.observe(notebookContainer, {childList: true});\n",
              "}}\n",
              "\n",
              "// Listen for the clearing of the current output cell\n",
              "var outputEl = gd.closest('.output');\n",
              "if (outputEl) {{\n",
              "    x.observe(outputEl, {childList: true});\n",
              "}}\n",
              "\n",
              "                        })                };                            </script>        </div>\n",
              "</body>\n",
              "</html>"
            ]
          },
          "metadata": {}
        }
      ]
    },
    {
      "cell_type": "code",
      "source": [
        "fig = go.Figure(data=[go.Histogram(x=df2_clean_outliers['Maximum Negotiated Charge'], histnorm='probability')])\n",
        "\n",
        "fig.show()"
      ],
      "metadata": {
        "colab": {
          "base_uri": "https://localhost:8080/",
          "height": 542
        },
        "outputId": "0fd0bd7a-6b6a-4339-c35f-44e344ca0a02",
        "id": "eUgrRvg7aGIZ"
      },
      "execution_count": 131,
      "outputs": [
        {
          "output_type": "display_data",
          "data": {
            "text/html": [
              "<html>\n",
              "<head><meta charset=\"utf-8\" /></head>\n",
              "<body>\n",
              "    <div>            <script src=\"https://cdnjs.cloudflare.com/ajax/libs/mathjax/2.7.5/MathJax.js?config=TeX-AMS-MML_SVG\"></script><script type=\"text/javascript\">if (window.MathJax && window.MathJax.Hub && window.MathJax.Hub.Config) {window.MathJax.Hub.Config({SVG: {font: \"STIX-Web\"}});}</script>                <script type=\"text/javascript\">window.PlotlyConfig = {MathJaxConfig: 'local'};</script>\n",
              "        <script charset=\"utf-8\" src=\"https://cdn.plot.ly/plotly-2.24.1.min.js\"></script>                <div id=\"4e16bcb7-9281-46fb-9415-a592d31ecfc7\" class=\"plotly-graph-div\" style=\"height:525px; width:100%;\"></div>            <script type=\"text/javascript\">                                    window.PLOTLYENV=window.PLOTLYENV || {};                                    if (document.getElementById(\"4e16bcb7-9281-46fb-9415-a592d31ecfc7\")) {                    Plotly.newPlot(                        \"4e16bcb7-9281-46fb-9415-a592d31ecfc7\",                        [{\"histnorm\":\"probability\",\"x\":[1388.424,1990.8913405513,1475.508,1325.12,1325.12,1374.32,1990.8913405513,1345.128,1304.948,1330.04,1470.424,1470.424,53.868,1.608,151.956,44.22,19.296,120.6,46.632,26.532,73.164,2.412,346.2528,565.728,187.2128,2674.18076,2674.18076,36558.88991,3671.3323325,2674.18076,2674.18076,3671.3323325,3671.3323325,3671.3323325,281.98091,7457.6,22520.8,22520.8,2890.4,5350.3799726985,1390.5,750.0,1331.5,504.4875,361.38,242.5,1944.0,485.0,292.5,485.0,178.2875,1334.0,213.3560917239,289.0417368498,289.0417368498,289.0417368498,289.0417368498,381.7472823187,289.0417368498,281.98091,256.1189024867,256.1189024867,256.1189024867,256.1189024867,256.1189024867,256.1189024867,429.0,256.1189024867,230.4358217146,230.4358217146,230.4358217146,230.4358217146,294.6,230.4358217146,230.4358217146,230.4358217146,230.4358217146,409.8,230.4358217146,230.4358217146,230.4358217146,230.4358217146,230.4358217146,230.4358217146,230.4358217146,230.4358217146,230.4358217146,230.4358217146,230.4358217146,230.4358217146,230.4358217146,230.4358217146,230.4358217146,230.4358217146,230.4358217146,230.4358217146,230.4358217146,230.4358217146,230.4358217146,230.4358217146,230.4358217146,95.77,111.345,99.354,179.294,271.796,86.792,220.977,202.134,90.218,90.218,244.388,170.729,130.759,237.536,81.082,99.354,81.082,109.061,81.082,83.937,83.937,213.554,200.6709629657,200.6709629657,212.4589385426,299.4,298.8,200.6709629657,200.6709629657,211.8450650207,310.8,284.2384450161,212.4589385426,310.8,212.4589385426,212.4589385426,278.5213281527,236.0934090909,212.4589385426,212.4589385426,212.4589385426,919.2,212.4589385426,200.6709629657,200.6709629657,254.4096438175,273.0,212.4589385426,212.4589385426,236.0934090909,200.6709629657,254.4096438175,212.4589385426,200.6709629657,200.6709629657,212.4589385426,200.6709629657,200.6709629657,200.6709629657,212.4589385426,236.0934090909,292.2,254.4096438175,200.6709629657,212.4589385426,200.6709629657,212.4589385426,388.2,200.6709629657,212.4589385426,212.4589385426,229.8,200.6709629657,342.0,200.6709629657,325.2,200.6709629657,200.6709629657,200.6709629657,200.6709629657,200.6709629657,200.6709629657,236.0934090909,314.4,212.4589385426,281.4,254.4096438175,235.8,254.4096438175,218.4,200.6709629657,212.4589385426,200.6709629657,200.6709629657,200.6709629657,212.4589385426,200.6709629657,236.0934090909,254.4096438175,212.4589385426,212.4589385426,240.0,254.4096438175,284.2384450161,261.6,212.4589385426,378.6,212.4589385426,487.2,278.5213281527,250.2,254.4096438175,284.2384450161,254.4096438175,254.4096438175,254.4096438175,236.0934090909,200.6709629657,223.8,212.4589385426,212.4589385426,212.4589385426,496.2,212.4589385426,212.4589385426,212.4589385426,200.6709629657,212.4589385426,200.6709629657,300.0,317.38658,200.6709629657,240.6,254.4096438175,254.4096438175,200.6709629657,200.6709629657,200.6709629657,200.6709629657,212.4589385426,200.6709629657,216.0,200.6709629657,200.6709629657,311.4,200.6709629657,212.4589385426,254.4096438175,254.4096438175,254.4096438175,212.4589385426,317.38658,236.0934090909,212.4589385426,213.3560917239,200.6709629657,200.6709629657,200.6709629657,200.6709629657,535.8,200.6709629657,200.6709629657,298.8,254.4096438175,254.4096438175,254.4096438175,254.4096438175,254.4096438175,310.8,276.6,214.8,254.4096438175,254.4096438175,200.6709629657,200.6709629657,254.4096438175,212.4589385426,200.6709629657,212.4589385426,212.4589385426,236.0934090909,212.4589385426,212.4589385426,200.6709629657,212.4589385426,212.4589385426,278.5213281527,278.5213281527,200.6709629657,200.6709629657,200.6709629657,236.0934090909,832.8,236.0934090909,383.4,278.5213281527,229.8,212.4589385426,278.5213281527,211.6098830691,212.4589385426,278.5213281527,236.0934090909,269.4,200.6709629657,200.6709629657,284.2384450161,212.4589385426,322.8,457.2,200.6709629657,382.8,200.6709629657,200.6709629657,212.4589385426,200.6709629657,200.6709629657,200.6709629657,212.4589385426,372.0,200.6709629657,200.6709629657,212.4589385426,254.4096438175,254.4096438175,254.4096438175,310.8,254.4096438175,212.4589385426,212.4589385426,212.4589385426,200.6709629657,200.6709629657,200.6709629657,200.6709629657,212.4589385426,341.4,212.4589385426,289.6744881439,212.4589385426,254.4096438175,314.4,213.0,200.6709629657,278.5213281527,254.4096438175,259.2,236.0934090909,441.0,212.4589385426,200.6709629657,200.6709629657,200.6709629657,276.0,289.8,337.2,200.6709629657,200.6709629657,382.2,260.4,254.4096438175,212.4589385426,236.0934090909,254.4096438175,254.4096438175,254.4096438175,254.4096438175,254.4096438175,549.0,212.4589385426,200.6709629657,200.6709629657,212.4589385426,200.6709629657,254.4096438175,254.4096438175,254.4096438175,254.4096438175,212.4589385426,200.6709629657,200.6709629657,200.6709629657,200.6709629657,200.6709629657,200.6709629657,200.6709629657,254.4096438175,284.2384450161,284.2384450161,212.4589385426,212.4589385426,224.4,212.4589385426,212.4589385426,236.0934090909,212.4589385426,254.4096438175,200.6709629657,212.4589385426,252.8,211.6098830691,211.6098830691,211.6098830691,556.2,318.6,211.6098830691,211.6098830691,211.6098830691,211.6098830691,211.6098830691,211.6098830691,211.6098830691,211.6098830691,211.6098830691,493.0,538.2,211.6098830691,211.6098830691,211.6098830691,211.6098830691,211.6098830691,211.6098830691,211.6098830691,211.6098830691,211.6098830691,211.6098830691,344.4,211.6098830691,211.6098830691,306.0,211.6098830691,211.6098830691,317.4,211.6098830691,211.6098830691,228.0,211.6098830691,211.6098830691,211.6098830691,211.6098830691,211.6098830691,289.6744881439,211.6098830691,213.0,211.6098830691,211.6098830691,339.6,381.0,289.6744881439,289.6744881439,289.6744881439,289.6744881439,289.6744881439,289.6744881439,211.6098830691,211.6098830691,211.6098830691,211.6098830691,211.6098830691,211.6098830691,289.6744881439,211.6098830691,211.6098830691,211.6098830691,211.6098830691,211.6098830691,211.6098830691,211.6098830691,211.6098830691,211.6098830691,211.6098830691,211.6098830691,211.6098830691,211.6098830691,211.6098830691,211.6098830691,211.6098830691,211.6098830691,211.6098830691,211.6098830691,211.6098830691,211.6098830691,211.6098830691,211.6098830691,211.6098830691,211.6098830691,211.6098830691,211.6098830691,211.6098830691,211.6098830691,211.6098830691,211.6098830691,211.6098830691,211.6098830691,211.6098830691,211.6098830691,211.6098830691,211.6098830691,211.6098830691,211.6098830691,211.6098830691,211.6098830691,211.6098830691,2329.8,211.6098830691,211.6098830691,211.6098830691,211.6098830691,211.6098830691,211.6098830691,211.6098830691,211.6098830691,211.6098830691,211.6098830691,211.6098830691,211.6098830691,211.6098830691,211.6098830691,211.6098830691,211.6098830691,267.0,211.6098830691,211.6098830691,211.6098830691,211.6098830691,211.6098830691,211.6098830691,211.6098830691,211.6098830691,635.4,300.2985964624,300.2985964624,300.2985964624,2512.8,300.2985964624,300.2985964624,300.2985964624,300.2985964624,456.0,456.0,589.79,300.2985964624,496.2934375,300.2985964624,300.2985964624,300.2985964624,298.7105525,300.2985964624,300.2985964624,496.2934375,300.2985964624,496.2934375,300.2861975,300.2861975,300.2861975,300.2861975,298.7105525,298.7105525,298.7105525,298.7105525,900.0,213.3560917239,213.3560917239,213.3560917239,213.3560917239,213.3560917239,213.3560917239,213.3560917239,213.3560917239,213.3560917239,213.3560917239,213.3560917239,213.3560917239,222.6,222.6,222.6,219.8421743216,297.0,296.7876572961,296.7876572961,296.7876572961,222.6,222.6,296.7876572961,219.8421743216,219.8421743216,219.8421743216,227.4,219.8421743216,219.8421743216,276.0,219.8421743216,254.4,267.6,219.8421743216,219.8421743216,219.8421743216,219.8421743216,213.3560917239,219.8421743216,219.8421743216,296.7876572961,318.0,219.8421743216,219.8421743216,219.8421743216,213.3560917239,213.3560917239,213.3560917239,594.0,219.8421743216,213.3560917239,213.3560917239,242.4,213.3560917239,296.7876572961,219.8421743216,219.8421743216,219.8421743216,219.8421743216,219.8421743216,213.3560917239,213.3560917239,213.3560917239,219.8421743216,219.8421743216,219.8421743216,219.8421743216,213.3560917239,550.0,209.3376475808,209.3376475808,209.3376475808,209.3376475808,209.3376475808,209.3376475808,209.3376475808,209.3376475808,209.3376475808,209.3376475808,209.3376475808,209.3376475808,209.3376475808,209.3376475808,209.3376475808,209.3376475808,209.3376475808,209.3376475808,209.3376475808,209.3376475808,209.3376475808,209.3376475808,209.3376475808,209.3376475808,209.3376475808,292.2173033896,465.6,209.3376475808,209.3376475808,209.3376475808,209.3376475808,209.3376475808,209.3376475808,209.3376475808,209.3376475808,209.3376475808,292.2173033896,209.3376475808,209.3376475808,278.4,209.3376475808,209.3376475808,209.3376475808,209.3376475808,209.3376475808,209.3376475808,243.6,209.3376475808,243.6,292.2173033896,209.3376475808,209.3376475808,209.3376475808,304.8,209.3376475808,209.3376475808,209.3376475808,209.3376475808,209.3376475808,209.3376475808,209.3376475808,209.3376475808,235.2,209.3376475808,209.3376475808,209.3376475808,209.3376475808,209.3376475808,209.3376475808,209.3376475808,319.8,465.6,292.2173033896,209.3376475808,528.0,686.06,465.6,292.2173033896,421.2,292.2173033896,531.0,496.8,335.73821,292.2173033896,680.62,209.3376475808,292.2173033896,292.2173033896,464.4,393.6,292.2173033896,292.2173033896,414.0,511.2,292.2173033896,292.2173033896,601.2,465.6,292.2173033896,292.2173033896,292.2173033896,440.4,1048.2,1689.6,292.2173033896,292.2173033896,496.8,292.2173033896,292.2173033896,209.3376475808,511.8,292.2173033896,665.4,572.4,209.3376475808,292.2173033896,209.3376475808,209.3376475808,771.6,887.4,643.625,660.0,1761.0,801.0,6273.6,211.8450650207,211.8450650207,211.8450650207,211.8450650207,211.8450650207,211.8450650207,211.8450650207,351.8190575,351.8190575,351.8190575,351.8190575,489.0,564.5,411.5,647.85,975.0,622.5,444.5,409.9,362.1,438.5,2520.8,334.0,622.0,812.5,216.0,967.5,364.2,859.5,388.5,2334.5,388.5,388.5,388.5,390.0,405.725,390.0,294.6,294.6,130.0,680.4,348.0,388.5,833.5,357.0,137.0,78.0,334.5,751.5,324.13,1300.0,847.5,600.5,809.0,1033.0,394.0,837.0,502.0,726.5,599.0,483.125,633.5,119.5,228.971,411.5,403.5,245.5,1615.6,883.8,540.0,477.125,901.2,569.4,802.3125,822.0,634.8,871.4,266.5,334.0,648.0,602.5,700.8,752.0,686.0,777.0,736.5,452.0,648.0,750.0,197.5,667.5,103.5,388.5,689.5,1228.0,114.0,339.6,305.0,502.0,342.02,411.5,388.5,507.5,432.5,196.5,388.5,833.5,450.0,405.725,327.0,487.0,1617.5,1213.5,1000.5,1200.5,353.6,3002.0,2500.0,3467.0,5975.0,15000.0,1926.0,3698.0,4155.0,4766.0,5444.5,1000.5,2306.0,5564.5,1608.75,1170.0,3467.0,2134.4,824.4203,671.1287,783.3166,1189.0309375,859.441,364.6324,241.2344,1189.0309375,186.9219,669.13,730.9159,1403.8695,1248.0,3267.9614,663.6553,1112.6676,869.2607,865.524,1189.0527,1082.3395,1435.7618,942.2567,858.0506,3570.2865,1632.0689,324.708695,351.8190575,420.6829,413.2095,413.2095,265.0920848426,265.0920848426,472.9967,397.002995,867.5227,265.0920848426,381.7472823187,710.4944,381.7472823187,454.8,644.0159,397.002995,397.002995,397.002995,437.4,419.4,1807.2,420.6,292.44,422.0,616.2,330.0,503.4,422.4,184.8,263.4,337.8,291.6,170.4,219.5,142.2,351.8190575,191.7883,324.708695,324.708695,435.6,334.6519,2024.5962,2854.5781,324.708695,5350.3799726985,5350.3799726985,1688.6123563475,355.68,289.8115,323.948576,537.966,1266.113826,499.434,472.758,826.876025,406.809,342.1253,537.966,271.864576,391.989,400.881,580.944,826.876025,285.285,826.876025,457.938,981.4486,486.096,638.742,623.181,612.807,359.385,394.212,467.571,702.468,709.878,414.219,509.808,528.333,580.944,592.059,733.59,703.95,416.442,638.001,686.166,333.952576,360.867,313.288576,414.219,506.103,2228.23815,2044.88615,2070.30615,2263.66215,5393.104304,4915.536304,675.051,311.648576,424.593,570.57,685.425,406.809,298.623,403.104,385.32,376.428,685.425,619.476,436.449,632.073,456.456,541.671,674.31,606.138,638.001,736.554,836.589,269.2132523279,345.306,447.564,749.892,901.056,315.9684,327.522,535.743,694.317,715.065,712.842,781.014,687.648,269.2132523279,316.407,311.648576,334.280576,1435.361826,682.3388,703.95,826.876025,1082.3395,1077.8572614882,1067.781,1391.598,826.876025,843.1038,1889.8143,1375.96,1074.8661,1669.2621,1519.7072,826.876025,1077.8572614882,1077.8572614882,1996.7,1996.7,1531.6125,1273.954,1273.954,1531.6125,2467.6124,1089.8129,1115.9698,1344.0823,1287.117,1104.7597,1264.146,855.114,1103.349,932.919,1565.413826,5291.502176,980.343,826.876025,8632.286594,8484.030594,8059.106594,8074.030594,2630.6368,3963.89957,7952.670594,8025.322594,838.812,8013.842594,4094.93557,8713.138594,4450.32357,8403.834594,8740.526594,9157.742594,15773.334352,8080.426594,1994.772,1850.277,8106.502594,7792.114594,8777.590594,8086.002594,13882.414352,11712.2951,7799.658594,2052.578,1077.8572614882,5159.44,8536.2,3824.5559,3346.7797,5595.9255,1077.8572614882,936.44,269.2132523279,1366.645826,1445.857826,1009.983,846.222,1087.788,1180.8,1180.8,1234.92,921.063,826.876025,558.8539,360.126,678.756,718.029,1410.864,715.9691,511.29,931.437,597.7590055491,597.7590055491,1122.574886,1121.426886,1469.403,14060.354352,8984.066594,14437.226352,14438.374352,8404.654594,14038.706352,8651.474594,4400.12,596.505,749.151,406.809,391.989,2456.0,2456.0,2456.0,2456.0,2321.0,2321.0,2321.0,2321.0,2321.0,1990.8913405513,2321.0,45270.267448,7013.732284,2456.0,2641.665,4303.0273,5107.713,3647.1061,9183.857634,2456.0,15763.9207,5414.487,7334.418,5414.487,6153.264,7334.418,2457.303744,2456.0,2456.0,2456.0,2457.303744,2456.0,6830.538,2456.0,52681.942614,52891.0,98354.8,3921.533994,3921.533994,2456.0,2456.0,2456.0,2456.0,2456.0,2456.0,40064.495764,4534.179,2456.0,3207.817644,3230.449644,4167.613744,4923.945,5765.721,7384.806,8647.47,9547.785,7446.309,2456.0,2456.0,4153.8578424407,2321.0,2321.0,2321.0,2321.0,2321.0,2321.0,2321.0,2321.0,1091.628936,1100.484936,1867.6548,2316.4064,2062.2239,2922.0994,1045.5084055299,2768.8078,3172.5452,3965.0732,4411.913,1128.364936,1546.1248,1957.5963,2267.8293,4149.988254,1437.54,1527.5929,2067.3072423101,1528.683,1562.028,1654.7498,1879.176,3187.492,1104.256936,2067.3072423101,2349.711,2067.3072423101,2067.3072423101,3131.4415,4273.5682,1632.0689,1449.396,1953.8596,2219.2522,3157.5984,3709.0658,4090.383,3217.3856,3187.492,2282.7761,1119.672936,2129.3107,2540.5215,2780.0179,3180.0186,3784.104254,4199.008,2067.3072423101,1721.8366,13179.6016,1770.4137,1927.442,2346.3869,1500.8609,9865.5832,14947.8428,2660.931,2067.3072423101,2151.7309,3019.2536,2296.359,3005.496,1864.0919,3209.9122,7036.42,1706.8898,3265.9627,3295.8563,3187.492,3755.240254,1602.1753,2092.1175,2383.797,2191.878,1097.696936,2043.5404,1897.7222,2432.1572,2664.0933,4015.836254,4010.916254,6548.6971,4507.0685,6694.5153,8832.7767,2276.32,1045.5084055299,2231.892,2678.715,2678.715,1165.1441640105,1223.391,1076.1696,190.311,512.9707,13764.96,1822.97,145.86,184.228,1171.1513,3680.04,84.88,184.3,500.8916,230.1112,397.8,315.12,269.51,4800.9,2622.36,2695.3773,568.51,694.98,136.1,3575.52,224.26,893.8534,811.98,397.8,4304.82,11079.12,230.1,6290.7,6555.9,215.28,1228.5,1191.498815,1191.498815,84419.196,4947.816,3116.3345525,224.88695,1071.74,1107.0,529.72,1114.464,1291.563,1853.2,3506.32,4549.4757,175.686696,88.56,175.686696,152.9576,858.9559498019,858.9559498019,858.9559498019,858.9559498019,858.9559498019,858.9559498019,858.9559498019,858.9559498019,858.9559498019,1660.581,2029.599,2449.746,1813.968,2017.743,2540.148,1675.401,2093.325,2513.472,1367.886,1804.335,2281.539,1891.813,1891.813,2655.16,1229.319,2339.337,2694.276,935.4985821514,3232.983,1108.4964,1411.3429,1751.5564,1396.044,2540.889,2996.604,1856.946,1992.549,2202.993,1891.813,1396.044,1889.8143,2122.965,1571.661,1965.873,2456.415,4425.252,2091.102,2615.73,3269.292,3924.336,1394.562,1889.8143,2197.065,3108.7606,2175.576,1885.845,2478.7356,3241.134,2011.815,2011.815,798.2634,1704.8911,1893.8117,1891.813,1891.813,828.157,935.4985821514,1118.91,1118.91,1082.6510248521,1146.682886,1146.682886,9829.0,9829.0,14845.2,9917.4,9829.0,20869.2,13169.4,16071.6,13482.0,14557.8,14566.2,17582.4,9829.0,11902.8,14247.0,16101.0,13892.4,12517.2,14042.4,10715.4,12165.0,9829.0,11783.4,12249.6,13014.0,13583.4,11924.0,12801.0,12904.2,12816.0,12829.2,16527.0,14785.8,12422.4,14007.6,14297.4,15276.6,13846.8,12938.0,14080.2,13998.0,12293.4,16591.8,16189.2,17700.6,18172.2,15046.2,14427.6,29398.8,22167.0,17376.6,18304.2,22293.0,19274.4,25250.4,10845.0,16512.0,14201.4,13459.2,12989.4,11326.2,18972.0,13115.4,22673.4,22074.0,18780.6,19389.6,9829.0,15907.2,10505.4,13744.8,15729.0,10050.6,12256.8,11251.2,20001.0,24190.2,20655.0,12756.0,16954.8,20699.4,11924.0,15456.0,43995.0,15855.6,14965.2,14461.2,22390.2,13273.8,16543.8,15403.2,18955.2,15885.0,15913.8,15896.4,15745.2,21635.4,13758.0,13111.8,36924.0,22138.8,20967.0,14008.8,17385.0,22004.4,18634.2,35562.6,24641.4,13081.8,19611.0,24484.8,15630.6,15765.6,11924.0,15615.6,11924.0,12188.4,22969.2,14137.8,16906.8,16888.8,9829.0,11924.0,24172.8,16644.6,12262.8,10982.4,11924.0,11924.0,12938.0,12938.0,15336.6,9829.0,9829.0,17650.8,17661.0,25317.0,37416.6,35507.4,29008.2,19160.4,23349.0,19168.2,18223.2,17237.4,31278.0,24168.0,16455.6,25547.0228125,26013.0,19533.6,18224.4,11924.0,11628.6,15480.0,14814.0,11924.0,11924.0,11924.0,17585.4,21052.8,9829.0,11924.0,12938.0,10963.2,9829.0,9829.0,9829.0,9829.0,12726.0,9829.0,18574.8,16481.4,17027.4,14235.6,31847.4,18340.2,22572.0,11924.0,15871.8,14240.4,13548.6,19604.4,18793.8,15267.6,15882.6,18280.2,26778.6,16953.6,18790.2,20569.8,19545.0,23957.4,19146.6,39043.2,29946.0,50777.4,25497.6,38269.8,38749.8,22805.4,38879.4,41342.4,49296.6,35478.6,30519.6,42694.2,31551.0,18049.2,24670.2,27519.6,21160.8,11924.0,11924.0,24834.0,23054.4,20500.8,12938.0,11924.0,15583.8,21774.6,21174.0,23560.8,19880.4,17880.6,50720.4,28876.8,30607.2,13457.4,25211.4,15114.0,16569.0,18615.0,12202.8,14493.0,15217.8,16806.6,14259.0,14179.8,13154.4,12385.2,12962.4,12938.0,16225.2,20178.0,85048.8,12938.0,29941.8,23623.8,18829.2,40621.8,75925.8,60498.6,24610.8,22862.4,32329.2,34714.8,44994.6,60287.4,44349.0,44349.0,17515.8,12938.0,12828.0,13704.0,16316.4,11924.0,13711.2,12938.0,15171.6,17976.6,28650.0,11924.0,31747.2,16814.4,17578.8,24232.2,32250.6,16684.8,33827.4,22828.2,101046.4,101046.4,101046.4,101046.4,24910.2,24454.8,30033.0,30342.0,22256.4,28689.0,25942.8,16612.8,14934.0,13449.6,13685.4,11924.0,12938.0,36971.4,12938.0,17205.6,11924.0,15480.0,21198.6,19219.2,16995.6,18300.6,19979.8725,12938.0,12938.0,15770.4,48637.2,28181.4,35321.4,11924.0,32889.0,18945.0,18150.6,32101.8,41803.8,25327.8,13999.8,23719.8,18105.6,27869.4,20649.6,19927.2,37878.0,11924.0,25571.4,11924.0,11924.0,13456.2,12492.0,24764.4,14068.8,14685.6,12072.0,11924.0,11924.0,13524.0,11924.0,12938.0,23340.6,16754.4,14724.0,11924.0,16335.0,13742.4,18285.6,20385.0,15480.0,16804.2,25530.0,17773.2,19272.0,17427.0,17487.6,17117.4,23306.4,22492.2,34888.8,13803.0,21790.8,20742.0,23793.6,21263.4,22611.0,13551.0,11924.0,12621.0,12938.0,11924.0,11924.0,11924.0,12391.2,17425.2,13510.8,14896.8,14092.2,12294.0,11924.0,11924.0,11924.0,13370.4,14195.4,13857.0,18049.8,16257.0,25604.4,22289.4,15480.0,13420.8,13290.0,13468.8,18215.4,12938.0,12435.6,14271.0,12938.0,27507.6,12938.0,19535.4,18213.0,16999.2,12938.0,14629.8,20679.6,17031.6,15003.0,13134.0,22311.0,19797.0,23775.6,19732.2,17025.6,18709.8,14068.8,13055.4,13210.2,17050.8,15267.0,13371.0,18242.4,14049.0,15480.0,16454.4,23683.8,16999.2,19044.6,14722.8,12938.0,12842.4,12938.0,12938.0,13166.4,15826.8,23743.2,13537.2,9829.0,83148.8,83148.8,45946.8,28172.4,17709.6,27079.8,19165.2,20542.2,35787.0,31254.0,12938.0,17146.8,11924.0,16801.2,19221.0,14894.4,14980.2,21589.2,22598.4,24199.2,22201.2,19029.6,21076.2,33028.8,19393.8,31942.2,33538.8,25390.2,35670.0,30682.2,30728.4,27802.8,23053.8,83148.8,83148.8,83148.8,19562.4,24187.8,21867.6,37770.6,15562.2,29035.2,45435.0,23742.6,11924.0,37302.0,9474.4,20505.0,14919.6,17115.6,12938.0,26374.2,14467.8,14621.4,13839.0,16912.2,15486.0,12938.0,15628.2,24847.8,13802.4,16854.0,20911.8,22953.0,16586.4,16907.4,14917.2,18123.6,18022.8,21838.2,23914.2,46442.4,33982.8,16693.0,29824.8,26538.0,26676.6,27139.2,23605.8,23310.6,26759.4,30486.6,32673.6,22696.2,27255.0,27382.2,39550.2,24622.8,13459.2,15247.8,15192.0,11924.0,14122.8,13661.4,13386.0,13250.4,16449.6,24523.2,14533.8,20110.8,15154.8,16167.0,13989.0,16965.6,22353.6,12938.0,11924.0,23454.6,32724.6,15051.0,12938.0,17008.2,23617.2,15310.2,24368.4,13634.4,21585.0,19706.4,28710.0,21003.6,26099.4,38364.6,13546.2,12938.0,21153.6,20578.2,24490.8,17972.4,38932.2,29498.4,25923.0,18964.2,21957.6,15340.8,20796.0,9829.0,13131.0,33792.6,42934.8,28937.4,29154.0,24396.6,23874.6,17321.4,15480.0,16030.2,13432.2,12938.0,15979.8,14508.6,14056.8,18628.2,20242.2,23542.8,19990.2,12938.0,16018.8,15379.2,16617.6,14253.6,22375.8,21422.4,14965.8,17958.6,20328.6,13410.6,16357.8,11924.0,24763.2,18075.6,16896.0,34295.4,31612.8,38292.0,16791.0,17933.4,20276.4,17297.4,18129.0,22575.6,18864.0,22365.6,14757.6,15876.6,25047.6,30498.6,18147.0,25452.6,19193.4,29222.4,36681.6,21223.8,18704.4,15603.0,12938.0,24100.8,20340.0,37060.8,38714.4,36380.4,21321.6,11924.0,16153.2,13737.0,15902.4,19530.6,43079.4,15250.2,11924.0,24081.6,25063.2,23699.4,20900.4,14577.0,26000.4,12085.2,24274.8,14436.0,26300.4,20922.0,13232.4,11924.0,14953.8,18997.8,18522.6,22011.0,25110.0,21166.8,22678.8,23476.8,26225.4,27624.6,24837.6,28098.6,33312.0,25327.2,22359.0,17544.0,13872.6,14275.8,18041.4,15532.8,17165.4,14655.6,14917.8,15192.6,17795.4,15064.2,13443.0,14165.4,16630.8,12641.4,14045.4,13867.8,19495.8,26434.8,17441.4,16801.8,16395.0,11385.0,12490.2,25783.8,11924.0,13854.6,27571.8,13210.8,18519.6,14821.2,19774.2,18566.4,19144.2,20118.6,21915.0,17970.0,11924.0,13504.2,14012.4,15604.2,13486.8,20380.8,11924.0,11924.0,12938.0,11924.0,9829.0,9829.0,9829.0,11924.0,11924.0,9829.0,18593.4,36256.2,43425.6,26304.0,14259.0,31985.4,16848.0,23346.6,14259.0,15544.8,14107.2,42324.6,43677.0,43280.4,34750.8,33027.0,37636.8,29390.4,44349.0,56024.4,33057.6,34742.4,48405.6,15594.0,16751.4,45805.8,76825.8,53968.2,58758.0,64401.0,83392.8,46810.8,21412.8,19100.4,48952.8,62007.6,75062.4,26622.6,113279.4,35001.0,72694.5,81931.2,20868.6,66953.4,57125.4,27588.6,17460.6,14271.6,20110.2,15427.2,10629.6,19318.2,30183.6,16572.6,22557.6,19398.6,13737.0,13737.0,25363.2,15635.4,29171.4,22797.0,33369.6,15546.6,20583.6,16747.2,9474.4,15118.8,10951.8,21036.0,17252.4,16696.2,19479.6,12938.0,11924.0,12938.0,17698.8,11924.0,9829.0,14450.4,18631.8,11989.8,9829.0,9829.0,9829.0,11924.0,9829.0,15887.4,21477.0,16411.8,18207.0,19182.0,21290.4,25335.6,18600.6,20995.8,21925.2,11924.0,25745.6,16254.6934375,34458.0,25745.6,26303.2,16407.0,34734.6,13737.0,12938.0,9829.0,12938.0,16459.8,38500.8,19448.4,36034.2,32740.8,39291.0,40861.8,42831.0,31160.4,37180.2,27329.4,38318.4,32698.2,29463.6,17506.2,39439.8,25079.4,20664.0,25745.6,25745.6,27461.4,17341.2,12921.6,17487.0,14155.2,13875.0,15276.0,13737.0,19285.2,15075.0,14704.8,37479.6,64669.89375,30599.4,19190.4,11924.0,17638.8,14773.8,28609.2,15935.4,23788.8,29848.8,26142.0,42991.2,28209.0,21442.2,16911.6,16992.6,29421.0,20255.4,19758.6,23506.8,27584.4,35524.2,19302.6,10725.0,14050.8,15658.8,18154.8,21269.4,37837.8,11924.0,19995.6,19561.8,14337.0,51922.8,11924.0,36248.4,13161.6,14086.2,19531.2,11924.0,19227.6,28234.8,20230.2,28644.6,11924.0,14545.8,19254.6,19261.8,17685.6,23595.6,18304.8,13484.4,23808.0,28918.2,13737.0,19072.8,20637.0,28874.4,49347.6,9837.0,16755.0,12662.4,15240.6,18141.0,22341.0,26854.8,31000.8,28050.0,21672.6,13737.0,16869.6,14339.4,14896.2,15296.4,18060.0,25131.0,24591.0,16558.2,17833.8,13814.4,14769.0,13737.0,14609.4,12550.8,14488.8,14353.2,16887.6,15991.8,11924.0,16633.2,21305.4,16032.0,13881.6,15132.6,9829.0,12096.0,11924.0,15594.0,16065.0,11924.0,12184.8,13502.4,12763.8,11924.0,9829.0,10798.2,11924.0,11924.0,9829.0,18201.6,11924.0,12647.4,11924.0,11924.0,11924.0,11924.0,10422.6,9829.0,11924.0,11924.0,11924.0,12938.0,11924.0,11924.0,11924.0,12938.0,11924.0,12938.0,14300.4,12938.0,12938.0,20227.8,14215.8,11924.0,18018.6,15039.6,12938.0,15001.8,12938.0,13030.2,21143.4,27205.8,26583.0,44349.0,29697.0,17784.0,17905.8,9829.0,16277.4,11645.4,12938.0,23828.4,51724.8,39376.2,26634.0,9829.0,17784.0,21315.6,48294.0,14722.2,16897.2,13410.6,24613.8,25237.8,24741.0,22080.0,27424.8,32174.4,11924.0,11924.0,11924.0,11924.0,11924.0,19131.0,11924.0,11924.0,11924.0,9829.0,11924.0,9829.0,9829.0,9829.0,9829.0,11924.0,11924.0,14706.0,13531.8,9829.0,20003.4,21501.6,10773.6,28489.8,23346.0,13491.0,11924.0,13042.8,11924.0,14883.6,15711.6,15571.8,16033.8,17347.2,9829.0,9829.0,11924.0,12185.4,11965.8,11924.0,11924.0,11924.0,11924.0,11924.0,15022.8,11924.0,11924.0,9829.0,11924.0,11924.0,11924.0,11924.0,11924.0,11924.0,11924.0,11924.0,13737.0,11924.0,11924.0,11924.0,11924.0,11707.2,25633.8,15868.8,18728.4,13891.2,9829.0,11924.0,11924.0,15313.2,13546.8,10913.4,12297.6,13012.8,18279.6,15995.4,14899.8,14406.0,12072.0,13452.6,29854.8,13774.8,11924.0,12957.6,13567.2,14385.0,14758.2,17224.8,12607.2,13059.0,11924.0,14211.6,13717.2,11747.4,12037.8,15285.6,9829.0,11924.0,12869.4,15415.8,12724.8,40582.8,12205.2,13364.4,14904.0,16029.6,12640.8,11924.0,12718.8,12855.0,14403.0,14676.6,14875.8,14268.0,15517.2,12262.8,11924.0,17905.8,18976.2,21361.2,13920.0,12938.0,12938.0,18036.0,12938.0,12938.0,9829.0,12150.6,35215.8,14259.0,20388.6,23976.6,19538.4,24717.0,15807.0,17952.6,9829.0,11924.0,9829.0,12938.0,34661.4,15168.0,18629.4,20479.8,23301.0,17784.0,20505.6,24150.0,11924.0,11924.0,12938.0,15036.0,13881.0,11924.0,9829.0,25936.8,12071.4,11924.0,11924.0,9829.0,9829.0,9829.0,9829.0,22819.8,15054.0,14014.2,12938.0,16411.8,17264.4,17077.8,21016.2,16977.6,13999.8,12938.0,18922.8,20080.8,19520.4,22788.6,12938.0,12938.0,13190.4,15054.6,13216.2,19058.4,19847.4,21128.4,24723.0,23600.4,25753.2,23113.2,29540.4,23498.4,28609.8,14350.8,23592.6,18738.6,11924.0,17177.4,11924.0,9829.0,9829.0,56207.4,9474.4,9829.0,11924.0,15715.8,12643.2,11924.0,30226.8,34444.2,35260.8,22540.0,20581.2,11924.0,12301.8,17978.4,18298.2,15026.4,26436.6,11924.0,13338.6,12938.0,11462.4,18904.2,9829.0,9829.0,13527.0,9474.4,9474.4,17784.0,34429.8,22540.0,12938.0,22540.0,15576.6,11924.0,11924.0,11992.2,12938.0,13245.6,14221.8,13094.4,13378.2,11924.0,12010.2,11924.0,13555.2,12938.0,11924.0,17987.4,14076.0,13951.8,16190.4,22071.0,22540.0,15625.2,15167.4,12938.0,12938.0,11924.0,13671.0,22540.0,13737.0,14064.0,22540.0,14464.8,25721.4,39381.0,12938.0,15375.6,15748.8,12938.0,24468.6,13938.6,17473.2,18345.0,18654.0,16813.2,31288.2,11950.8,11932.8,23371.2,32958.0,35602.2,29799.6,30297.0,50700.0,47476.8,26619.6,48417.0,38221.8,11924.0,11924.0,11143.8,27316.2,14096.4,11924.0,12938.0,14021.4,13963.2,13257.0,13884.6,11924.0,17347.8,22470.6,27285.0,23119.2,32426.4,25188.0,19702.2,15184.2,26915.4,22768.8,26858.4,13737.0,22560.6,17425.8,41461.8,16965.6,31480.2,34474.2,21990.6,25363.2,12938.0,17390.4,22649.4,18667.8,13711.2,11924.0,15194.4,21865.2,21620.4,17784.0,22378.8,14649.0,19123.2,17047.8,15476.4,11924.0,24642.0,22203.0,13012.2,20319.0,11924.0,21618.0,24803.8784,16478.4,12375.6,18655.2,16100.4,13191.0,20771.4,11924.0,12855.8848,32269.2,44349.0,12009.0,18324.0,13737.0,14522.4,19046.4,21033.6,13737.0,14149.8,12462.6,12261.0,11924.0,19302.6,15606.0,12346.2,14260.8,13356.0,13737.0,12060.6,17544.6,11924.0,17660.4,13753.8,15897.6,15221.4,19651.2,22105.8,14428.8,13129.2,11931.6,12200.4,27898.2,21905.4,19659.0,23387.4,23986.8,28404.0,17870.4,18002.4,15305.4,14215.8,15842.4,24879.0,14209.2,16265.4,14128.2,10809.0,15175.2,39790.2,27955.2,11948.4,16807.8,12825.0,12626.4,13831.8,14034.0,14772.6,13741.8,12078.6,24244.2,15621.0,18372.6,10942.2,14674.2,17693.4,42611.4,26708.4,29310.6,27396.0,28828.8,15457.2,21088.8,28484.4,14691.0,16132.2,10795.2,18053.4,29536.2,39550.2,30996.6,29900.4,30985.2,33583.8,31897.8,31449.6,14662.2,15153.0,13737.0,16612.8,18058.2,12842.4,19657.8,28054.8,28087.2,27982.8,28923.6,32127.6,24671.4,13645.8,17784.0,20163.0,23378.4,17784.0,17784.0,29697.0,20419.2,17433.0,11924.0,17749.8,9829.0,9829.0,20290.8,22967.4,21714.0,15535.8,13839.0,15735.6,11924.0,13013.5616,13319.4,11924.0,12830.4,11970.6,12846.0,19623.0,11924.0,11924.0,12173.4,14259.0,26547.0,23557.2,23182.2,24668.4,26398.8,24003.0,26151.0,24759.6,21250.8,19571.4,13579.2,23625.6,23895.0,25700.4,28662.6,18124.8,9829.0,11176.2,21682.8,15480.0,15480.0,15480.0,32489.4,21893.5,16419.0,30465.0,31764.0,15480.0,17451.0,109192.2,25474.8,14285.8816,161142.0,161142.0,23349.0,59509.8,61455.0,62754.0,18886.8,24319.2,18495.6,12938.0,16342.8,11924.0,13011.0,9829.0,9829.0,9829.0,17695.8,9829.0,9829.0,9829.0,9829.0,10012.8,9829.0,9829.0,9829.0,9829.0,43830.6,38524.558625,20998.7328,28188.6,23219.4,32103.6,26373.6,22377.6,24609.6,28144.8,26217.0,27015.6,17032.8,35225.4,32256.6,25206.0,27132.6,38524.5558659218,51220.109375,19908.6,19718.4,71586.0,35343.6,9829.0,9829.0,21657.6,16736.4,9829.0,10638.0,9829.0,28976.4,9829.0,9829.0,9829.0,9829.0,9829.0,24018.0,9829.0,9829.0,9829.0,28052.4,9829.0,51220.109375,38524.5558659218,38524.5558659218,77860.8,51220.109375,38524.5558659218,65886.0,17371.2,19468.8,51220.109375,14732.4,13096.2,12712.8,9829.0,9829.0,16282.2,15771.6,9829.0,13628.4,21375.0,11924.0,11924.0,10053.6,12498.0,12436.2,14152.8,15579.0,13581.6,12027.6,11924.0,24520.8,31871.4,15582.6,23323.8,16448.4,15758.4,11924.0,24090.0,12784.8,28893.0,13257.0,25627.2,25114.8,20613.0,21399.6,25371.6,30612.6,21953.4,23056.256,14452.2,23000.4,23521.2,9829.0,10419.0,16816.2,37821.0,33423.0,19917.6,15437.4,13890.6,9829.0,14418.6,22272.6,26394.6,27168.0,28245.0,24528.0,11924.0,12474.0,36772.8,12938.0,15155.4,14315.4,11924.0,13272.0,11924.0,13967.4,15870.6,13737.0,16568.4,15732.6,17226.6,12373.2,13737.0,11924.0,11924.0,11537.4,24358.2,11924.0,16546.8,16098.6,15978.6,63132.6,12445.8,13231.2,12239.4,19191.6,16732.2,15594.0,15922.8,17371.8,17156.4,16949.4,13383.0,18027.0,19633.2,56877.6,16052.4,18501.6,14127.0,15907.8,17344.8,18004.2,18292.8,20780.4,13633.8,11924.0,9829.0,35276.4,12877.2,34151.4,10372.2,12938.0,13461.6,40477.2,17596.8,16020.6,13645.8,16117.8,16461.6,15721.2,15343.2,23056.2,32043.6,28301.4,26410.2,24226.2,22372.2,14843.4,9829.0,11924.0,11924.0,10963.8,9829.0,11924.0,11924.0,12649.8,14747.4,13479.6,14272.2,16204.8,13426.2,12062.4,12938.0,11924.0,11924.0,14808.0,29430.0,11947.8,14124.0,12951.0,11924.0,12901.8,19200.6,15820.8,12291.0,13551.0,12891.0,13462.8,17310.0,13963.2,12794.4,15144.6,16447.2,18646.2,11924.0,15065.4,16893.0,14079.0,9829.0,11992.8,17857.2,15166.8,13014.6,14527.8,10947.6,11924.0,14239.2,18927.6,18289.2,20408.4,11924.0,9829.0,9832.7616,9829.0,26302.8,21086.4,12982.8,12408.6,11924.0,11924.0,15972.0,41411.4,32474.4,13738.2,12684.0,22308.6,22312.2,22219.8,24031.8,21540.6,26049.0,25137.0,27031.8,32111.4,30106.2,21490.2,21938.4,16807.8,13737.0,15951.6,49249.8,26590.8,83475.7590909091,20889.6,9474.4,9474.4,9474.4,9474.4,9474.4,9474.4,9474.4,13024.557,9474.4,9474.4,9474.4,9474.4,9474.4,10004.4,9474.4,12091.8,14170.2616,9474.4,9474.4,9474.4,11932.8,38901.6,14477.4,12310.2,78903.0,78903.0,78903.0,78903.0,78903.0,78903.0,78903.0,37570.0,37570.0,78903.0,45075.0,78903.0,21719.4,31619.0,31619.0,31619.0,31619.0,31619.0,31619.0,31619.0,31619.0,31619.0,31619.0,31619.0,31619.0,35554.8,31932.0,22546.2,22731.0,19192.2,9829.0,20423.4,21976.2,10818.6,29697.0,13960.8,9829.0,14673.6,19096.8,25631.4,9829.0,9829.0,9829.0,9829.0,9829.0,44349.0,262.908,672.144,175.272,262.908,672.144,175.272,9829.0,9829.0,491.2538534229,491.2538534229,981.4486,1250.5779,1091.493,658.749,554.3799013653,445.940675,554.3799013653,932.919,570.57,849.927,662.454,1799.5317646138,661.713,910.3644,1956.24,1507.194,1245.1032,1006.278,764.6331,503.7055579386,951.555,609.26,948.48,1162.8089,656.1819,503.7055579386,726.18,745.9496,615.0782,695.5476,510.3637,503.7055579386,588.9213,2015.211,1296.75,1101.126,639.483,932.7846,2431.962,1799.5317646138,554.3799013653,1024.803,1164.6338,1799.5317646138,696.54,554.3799013653,828.157,783.3166,716.7950454201,1817.079,1062.72,1325.94,767.52,1170.96,1206.22,865.1,2565.78,2588.9248,1886.0776,932.178,932.178,1273.954,686.907,38482.4,32580.712816,491.2538534229,1037.4991,10022.5398,10022.5398,23314.2272,28491.8161,28491.8161,4026.4220841566,14947.8428,13179.6016,14947.8428,14947.8428,14947.8428,14947.8428,14947.8428,570.3247,3314.0,1907.8026,2719.128,2040.552,865.6978,1411.3429,872.4039119591,561.9823,407.628,773.5838,566.5011,410.844,2040.552,852.4775,407.628,368.3243186806,368.3243186806,192.156,200.196,18647.0,1944.93518,488.1231518516,1304.0214,525.1367,381.1434,564.8226898145,245.2313075,245.2313075,245.2313075,245.2313075,245.2313075,245.2313075,245.2313075,245.2313075,245.2313075,245.2313075,245.2313075,361.50464,361.50464,394.4391,305.9749,297.1111,361.50464,361.50464,361.50464,361.50464,403.6505,532.697,347.0786,361.50464,3693.1133075,361.50464,497.710594097,505.6711,543.9071,232.0,245.2313075,866.393,866.393,866.393,597.7851,245.2313075,361.50464,427.2004,373.1,922.4435,918.7068,918.7068,638.8888,794.7874,786.77775,1140.128,930.3514,1948.0373,907.9312,878.9935,734.9133,1098.3291,729.4386,939.3021,1005.8675,988.0894901227,505.12,1101.1099,361.50464,720.252,676.8641,956.52275,1037.4122,7177.6703375,2159.0,2159.0,2159.0,2159.0,2159.0,2159.0,2159.0,2691.8656,2159.0,640.788,966.408,1702.872,368.3243186806,368.3243186806,880.38,527.424,559.0277,613.3402,664.104,443.119,980.88,872.4039119591,1048.416,1256.652,869.928,872.4039119591,727.62,340.092,421.296,584.508,4491.948,211.3408,741.6915,181.325,385.6490825,681.0353,488.1231518516,519.99599,523.3243897121,523.3243897121,523.3243897121,385.6490825,428.841875,376.4639607978,385.6490825,405.7361,385.6490825,401.9994,467.928,385.6490825,385.6490825,507.324,415.668,777.755,428.841875,511.344,571.644,665.1296,1029.924,1029.924,2866.26,65640.168,78903.0,81606.0,1616.844,2969.172,2969.172,1267.908,937.464,1520.364,3584.232,1558.152,31619.0,66636.0,40177.76,18647.0,18647.0,68689.74,26262.66,29837.244,20780.988,45270.828,40176.684,10309.5234375,10309.5234375,10409.308,12267.255,11160.324,16258.4074,9738.22,3172.584,31594.017,39382.668,69751.02,80543.112,6920.832,92947.224,3667.95,38149.644,650.7195307008,78903.0,78903.0,78903.0,78903.0,50471.1,41746.896,37642.476,33284.796,1571.016,1619.256,2283.36,1304.8904,1616.844,1599.156,1255.044,1255.044,1255.044,1000.9960247408,1000.9960247408,2042.964,2472.3,995.3268062352,3955.6015625,1944.93518,2473.8,995.3268062352,1773.6929809975,1773.6929809975,995.3268062352,995.3268062352,995.3268062352,995.3268062352,995.3268062352,995.3268062352,995.3268062352,995.3268062352,995.3268062352,995.3268062352,413.4389723705,413.4389723705,413.4389723705,417.9,413.4389723705,413.4389723705,1773.6929809975,3308.3202093892,725.0218,1773.6929809975,1339.6557875,1339.6557875,1339.6557875,1339.6557875,1339.6557875,1339.6557875,1339.6557875,1339.6557875,1339.6557875,1339.6557875,1339.6557875,1339.6557875,1944.93518,1944.93518,1944.93518,1948.4744,4206.3,4206.3,1944.93518,1944.93518,2220.3836,1944.93518,1944.93518,2425.5994,1773.6929809975,1773.6929809975,3040.8,1773.6929809975,5914.1986,1339.6557875,1339.6557875,1339.6557875,1944.93518,995.3268062352,995.3268062352,995.3268062352,2189.7088,2839.6398,995.3268062352,995.3268062352,3308.33153,3308.33153,3308.33153,3308.33153,995.3268062352,1462.0534714587,4153.8578424407,4153.8578424407,3636.0,922.6000633532,977.9,922.6000633532,922.6000633532,14424.5818,4042.5,5767.487,6614.1737675,6614.1737675,8305.5,530.6,4749.389,2896.25402,1919.3264,2787.104,1988.7958,2026.48,3168.5264,2646.2914,3560.4976,2297.4,2511.239,3381.515,3325.7174,4143.3882,2896.25402,2796.1954,2941.3802,2475.7062,4121.2496,2624.361,2866.3588,3965.516,4864.593,1452.6671062929,2060.486,3373.0482,2248.1436,1452.6671062929,2157.7154,3848.0218,2036.543,3803.467,2173.0528,3889.87,2717.0794,4258.6616,2383.8206,3715.9536,2387.36,3525.4506,2575.5034,3737.8146,3441.199,4404.6792,4083.0796,1150.5132,3634.8944,2402.1422,2493.2644,4558.010625,3188.583,3295.3896,2607.7744,2624.0834,1585.5124,2548.5068,1847.4974,2810.0754,1594.0486,2306.5784,2194.081,2964.074,3710.7,1976.6508,3454.3156,4814.972,4179.4068,6205.8868,4123.6092,5607.7976,2521.7184,2420.1168,4782.8398,3928.4564,2861.9866,4063.0924,2697.9944,4074.8904,2548.8538,3632.5348,2425.4606,3721.5056,2384.237,3363.0546,2395.1328,3206.4882,2552.7402,3560.7058,2451.4162,3658.6292,2545.4532,4074.474,3220.0212,4044.1462,1773.6929809975,4575.9,1893.579,1777.3,1777.3,1675.9406,1837.018,1452.6671062929,1452.6671062929,1452.6671062929,1452.6671062929,1452.6671062929,914.2332604024,914.2332604024,914.2332604024,914.2332604024,717.5872533031,717.5872533031,717.5872533031,717.5872533031,717.5872533031,717.5872533031,717.5872533031,717.5872533031,914.2332604024,914.2332604024,914.2332604024,914.2332604024,914.2332604024,765.1,717.5872533031,717.5872533031,717.5872533031,717.5872533031,914.2332604024,914.2332604024,914.2332604024,914.2332604024,717.5872533031,983.051,1013.6564,519.99599,623.3508,1066.8168,3330.8813474995,1631.1696233264,557.9,1068.3436,3181.5,1146.29735612,1493.1,5227.5134825,6496.881,281.98091,2788.8,4561.5478125,2278.2703125,922.6000633532,757.4,2570.8536,2935.8976,3441.1296,3330.8813474995,993.7353125,1565.1782,1166.3364,1642.2,4356.4521875,1252.9476,1505.4248,1694.8868,880.8942,1511.879,2183.3,1020.9434,3330.8813474995,2951.9,1451.042322587,428.841875,1451.042322587,1451.042322587,2937.7930697399,2937.7930697399,2937.7930697399,2937.7930697399,1705.9469075,1705.9469075,1171.1544575,1171.1544575,1008.0,1171.1544575,1256.4386961361,1256.4386961361,1171.1544575,1171.1544575,4972.1,1256.4386961361,4948.3,907.1968,1607.1446975,4329.5175,4329.5175,553.9486791296,553.9486791296,4329.5175,1607.1446975,7622.3,2099.71913,2099.71913,6682.526,667.1,2837.8,1352.5356473746,455.7,641.2,4320.1537800833,4320.1537800833,4255.2478325,1045.8,1650.7115367706,1272.6,908.9318,410.8200380836,4304.3,4527.6,924.2692,578.1540625,912.263,1803.2,1009.6312,3875.9,1171.819,377.9524,3330.8813474995,988.0894901227,988.0894901227,152.8,410.8200380836,445.940675,445.940675,445.940675,445.940675,445.940675,656.8,519.99599,385.6490825,385.6490825,523.3243897121,385.6490825,385.6490825,385.6490825,385.6490825,385.6490825,385.6490825,930.307,528.9668,904.5596,264.4232966405,264.4232966405,264.4232966405,1259.2,988.0894901227,52.00125,311.2248691915,1990.8913405513,375.2,316.3103125,429.8,245.2313075,961.9534,819.1976,1773.6929809975,1773.6929809975,1339.6557875,1944.93518,1339.6557875,245.2313075,265.802,345.6814,443.6742,530.4936,988.0894901227,284.0,216.4789548997,216.4789548997,988.0894901227,130.4,332.5274432796,988.0894901227,988.0894901227,1031.7698,1401.4636,988.0894901227,988.0894901227,988.0894901227,1100.337,988.0894901227,988.0894901227,988.0894901227,988.0894901227,988.0894901227,988.0894901227,210.4,111.2,988.0894901227,988.0894901227,988.0894901227,988.0894901227,988.0894901227,988.0894901227,988.0894901227,988.0894901227,988.0894901227,988.0894901227,988.0894901227,988.0894901227,988.0894901227,988.0894901227,183.2,386.4,376.0,311.2248691915,400.0,504.8,92.8,20.8,709.4068,772.5608,311.953,1070.7032,1460.2454,578.5878,548.8152,269.5496,1007.8962,1287.717,1007.1328,311.2248691915,108.0,108.0,320.8,320.8,289.4136791861,2637.4709375,320.8,289.4136791861,289.4136791861,289.4136791861,289.4136791861,289.4136791861,395.9433620446,243.3237931867,243.3237931867,2637.4709375,2637.4709375,243.3237931867,2637.4709375,2637.4709375,243.3237931867,2637.4709375,2637.4709375,777.6,395.9433620446,243.3237931867,858.9559498019,303.2,395.9433620446,243.3237931867,243.3237931867,858.9559498019,1285.0599190283,554.3799013653,395.9433620446,1285.0599190283,554.3799013653,462.4,289.4136791861,289.4136791861,200.6709629657,200.6709629657,46.4,209.3376475808,209.3376475808,281.98091,289.0417368498,289.4136791861,92.8,92.8,209.3376475808,289.4136791861,2637.4709375,289.4136791861,471.2,471.2,471.2,462.4,289.0417368498,289.0417368498,289.0417368498,289.0417368498,324.708695,289.0417368498,289.0417368498,289.0417368498,184.8,735.2,324.708695,2637.4709375,184.8,277.6,369.6,243.3237931867,243.3237931867,243.3237931867,243.3237931867,243.3237931867,243.3237931867,243.3237931867,243.3237931867,243.3237931867,454.4,332.5274432796,332.5274432796,332.5274432796,332.5274432796,332.5274432796,311.2248691915,311.2248691915,332.5274432796,276.3734675,332.5274432796,276.3734675,332.5274432796,332.5274432796,2637.4709375,2637.4709375,2637.4709375,2637.4709375,2637.4709375,2637.4709375,2637.4709375,2637.4709375,2637.4709375,332.5274432796,332.5274432796,332.5274432796,2637.4709375,51.2,485.3636853566,485.3636853566,637.5027790116,637.5027790116,485.3636853566,485.3636853566,518.4,637.5027790116,1036.8,485.3636853566,561.6,648.8,735.2,762.4,914.4,1068.0,637.5027790116,2042.4,2042.4,2042.4,2042.4,2042.4,824.8,2042.4,2042.4,2042.4,2042.4,2246.4,996.8,2042.4,2042.4,2042.4,2042.4,2042.4,2042.4,2042.4,1934.4,1934.4,2128.0,2246.4,2246.4,2276.8,2246.4,2246.4,2246.4,1594.4,1594.4,2042.4,2246.4,1269.1770116237,2246.4,2042.4,691.2,396.3111054229,396.3111054229,396.3111054229,396.3111054229,485.3636853566,485.3636853566,518.4,628.0,691.2,628.0,485.3636853566,396.3111054229,396.3111054229,396.3111054229,862.4,396.3111054229,691.2,485.3636853566,605.6,550.4,485.3636853566,1020.0,2042.4,2042.4,2042.4,1020.0,518.4,485.3636853566,485.3636853566,485.3636853566,396.3111054229,2637.4709375,471.017757776,471.017757776,518.4,518.4,471.2,784.8,1036.8,1554.4,2072.0,2590.4,707.2,707.2,471.2,2072.0,2590.4,3140.0,777.6,707.2,777.6,471.017757776,471.017757776,600.8,1294.4,1467.2,1568.8,706.0918211295,702.2656411893,471.017757776,471.017757776,504.0,702.2656411893,702.2656411893,2637.4709375,1176.8,702.2656411893,702.2656411893,702.2656411893,702.2656411893,702.2656411893,702.2656411893,471.2,864.0,471.017757776,2637.4709375,951.2,605.6,605.6,628.0,628.0,628.0,628.0,942.4,1036.8,2637.4709375,1176.8,2637.4709375,2637.4709375,432.8,777.6,605.6,2637.4709375,2637.4709375,2637.4709375,558.2461577844,864.0,1333.6,1467.2,735.2,619.2,536.0,707.2,864.0,558.2461577844,558.2461577844,558.2461577844,2637.4709375,2637.4709375,558.2461577844,396.3111054229,396.3111054229,558.2461577844,3627.2,3627.2,3768.0,3768.0,3627.2,3627.2,3627.2,3627.2,1968.0,1968.0,2365.6,2518.4,3296.8,3627.2,998.9799472801,998.9799472801,2060.8,2060.8,396.3111054229,396.3111054229,396.3111054229,396.3111054229,608.6703080022,608.6703080022,608.6703080022,608.6703080022,1036.8,1036.8,608.6703080022,608.6703080022,608.6703080022,608.6703080022,608.6703080022,608.6703080022,608.6703080022,3768.0,3768.0,998.9799472801,998.9799472801,998.9799472801,998.9799472801,777.6,777.6,777.6,777.6,864.0,864.0,864.0,864.0,1294.4,1294.4,1294.4,1294.4,608.6703080022,608.6703080022,6044.0,1294.4,5494.4,5494.4,5494.4,5494.4,998.9799472801,998.9799472801,608.6703080022,608.6703080022,2637.4709375,2637.4709375,801.3518757825,801.3518757825,3756.8,3756.8,801.3518757825,801.3518757825,1708.0,801.3518757825,801.3518757825,801.3518757825,801.3518757825,801.3518757825,801.3518757825,3229.6,1708.0,2034.4,6908.0,6280.0,3455.2,3140.0,3140.0,3140.0,3140.0,6280.0,6280.0,3140.0,3140.0,3140.0,1176.8,2637.4709375,2637.4709375,2637.4709375,396.3111054229,2637.4709375,1176.8,471.2,462.4,424.8,300.0422771767,300.0422771767,801.3518757825,2072.0,1386.4,1256.8,1145.6,1088.8,907.2,277.6,1726.4,1726.4,1726.4,2936.8,2936.8,2936.8,2936.8,2669.6,2669.6,2669.6,2936.8,2936.8,2669.6,2669.6,2936.8,2936.8,2669.6,2669.6,2669.6,2669.6,2669.6,2936.8,2669.6,691.2,691.2,2374.4,2374.4,2374.4,424.8,2291.2,2291.2,2291.2,384.8,550.4,396.3111054229,396.3111054229,2669.6,728.0,402.4,2291.2,2291.2,2291.2,1088.8,679.2,1228.8,840.8,783.2,2680.0,2680.0,1166.4,1166.4,1354.4,1354.4,485.6,485.6,325.6,325.6,1144.8,1030.4,1053.6,1144.8,395.9433620446,239.2,239.2,2669.6,1111.2,636.0,2042.4,2246.4,1138.4,1138.4,2042.4,2246.4,1708.0,1568.8,1228.0,2246.4,1286.4,1365.6,1365.6,1036.8,1121.6,2669.6,392.8,2669.6,2669.6,2669.6,2669.6,1096.8,1096.8,1096.8,1096.8,2669.6,2669.6,2669.6,2669.6,1096.8,1096.8,1096.8,1096.8,2669.6,2669.6,2669.6,2246.4,1934.4,1934.4,2669.6,2246.4,2504.0,2042.4,1228.0,2042.4,1157.0842382393,1157.0842382393,2669.6,1228.0,2042.4,1708.0,1708.0,2669.6,2669.6,3140.0,518.4,1176.8,1176.8,1020.0,1568.8,608.6703080022,2637.4709375,2637.4709375,2637.4709375,2637.4709375,2637.4709375,2637.4709375,2637.4709375,2637.4709375,528.4886468909,2637.4709375,2637.4709375,864.0,683.2,1142.9586425364,528.4886468909,528.4886468909,605.6,528.4886468909,544.8,528.4886468909,569.6,2637.4709375,1142.9586425364,1142.9586425364,1142.9586425364,1188.0,528.4886468909,528.4886468909,605.6,561.6,951.2,745.6,1568.8,2042.4,1142.9586425364,640.8,816.0,528.4886468909,725.6,907.2,741.6,1484.0,864.0,1884.0,528.4886468909,906.4,652.8,1176.8,1176.8,1176.8,864.0,8276.80364,777.6,2355.2,683.2,3610.4,707.2,1176.8,2072.0,1884.0,8276.80364,6614.1737675,8276.80364,6614.1737675,6614.1737675,4351.2,2512.8,5411.2,8276.80364,8276.80364,2276.8,8276.80364,8276.80364,8276.80364,5411.2,2420.8,2136.0,8276.80364,8276.80364,683.2,2524.2111767198,8276.80364,8276.80364,8276.80364,8276.80364,8276.80364,11380.8,8276.80364,8276.80364,922.6000633532,1851.2,2845.6,8276.80364,8276.80364,8276.80364,8276.80364,8276.80364,856.0,396.3111054229,824.8,1020.0,569.6,580.8,1211.2,406.4,396.3111054229,8276.80364,8276.80364,8535.2,8276.80364,8276.80364,8535.2,11380.8,11380.8,13657.6,6614.1737675,6614.1737675,6614.1737675,6614.1737675,6614.1737675,951.2,528.4886468909,528.4886468909,864.0,1020.0,558.2461577844,528.4886468909,528.4886468909,1491.2,1632.8,3242.4,1451.2,5227.5134825,8276.80364,6614.1737675,6614.1737675,6614.1737675,544.8,3336.0,2176.8,2611.2,2992.0,3444.8,3444.8,3627.2,4534.4,3869.6,3869.6,3869.6,1088.8,1345.6,396.0,912.0,759.2,396.3111054229,544.8,396.3111054229,369.6,369.6,92.8,92.8,92.8,92.8,396.3111054229,396.3111054229,824.8,396.3111054229,396.3111054229,245.2313075,236.0,272.8,392.8,236.0,289.4136791861,2799.9541581806,2799.9541581806,2799.9541581806,2799.9541581806,1121.6,216.0,2799.9541581806,2799.9541581806,320.8,98.4,364.0,364.0,396.3111054229,396.3111054229,276.97592,276.97592,276.97592,413.6,396.3111054229,396.3111054229,211.2,2637.4709375,396.3111054229,396.3111054229,396.3111054229,396.3111054229,810.6644592622,1294.4,396.3111054229,396.3111054229,3019.2,3019.2,2637.4709375,2637.4709375,2637.4709375,2637.4709375,18.4,396.3111054229,396.3111054229,550.4,396.3111054229,396.3111054229,396.3111054229,69.6,76.0,1568.8,312.0,988.0894901227,988.0894901227,988.0894901227,5646.0,2418.9484,2566.824,3114.423,4277.793,2566.824,3689.9478,3961.0758,3015.129,3405.636,4461.561,2566.824,3241.37,5397.444,3098.121,3873.207,4841.694,4296.318,3124.056,3347.097,2883.972,2990.9242,3615.2138,1960.686,2785.3188,3347.097,3015.129,1668.7,2566.824,3174.0225,3791.697,4066.608,2814.318,1856.184,1285.0599190283,4127.3155,5953.519,2758.002,3065.517,4240.22,5087.28,3467.78,4314.84,2418.9484,3443.427,4173.312,5185.518,5973.2453,4988.929,5185.518,3293.745,4164.42,3105.531,3734.64,3426.384,3669.432,5015.088,5579.73,4195.542,3009.942,4211.103,4351.152,2624.622,3028.467,3527.901,4584.62,4815.04,4815.04,4815.04,4815.04,4877.36,2333.69495,13506.396,1619.256,3418.9067,5783.9771,3418.9067,5783.9771,2641.4124,929.7475448852,1834.3587303131,456.672,287.4080961552,789.486767222,1859.6424,789.486767222,1957.427,748.524,837.768,1259.868,7428.9072,1747.8197,1450.5988,986.508,2328.8558,3201.422,1599.96,4137.5586,5356.7778,2553.504,3403.6536,5073.6258,3779.604,5587.9492,7344.5326,8224.5636,8716.5045,3767.3757,2851.788,4335.168,7707.948,8341.5,2865.7882,3396.8341,3243.3687,3965.0732,3538.9156,913.1452,16199.1159,872.9974,536.5206,335.3471,1255.044,1646.8419,1613.3854,3754.1669,1562.8096,942.2567,527.8267429686,2851.788,15497.1,2099.71913,581.2741,263.6546,297.2849,6050.904,2955.504,1256.4386961361,988.0894901227,988.0894901227,219.6444546875,219.6444546875,219.6444546875,219.6444546875,219.6444546875,219.6444546875,219.6444546875,219.6444546875,219.6444546875,98.088,219.6444546875,219.6444546875,219.6444546875,219.6444546875,219.6444546875,219.6444546875,219.6444546875,219.6444546875,98.088,98.088,219.6444546875,219.6444546875,219.6444546875,219.6444546875,219.6444546875,219.6444546875,98.088,219.6444546875,219.6444546875,219.6444546875,219.6444546875,219.6444546875,1268.712,1268.712,1268.712,1268.712,1268.712,1268.712,1268.712,148.74,2617.824,2368.0,1289.8684,1198.2,929.1966,608.6476,402.0,660.6971122681,988.0894901227,224.316,150.348,949.524,311.2248691915,7997.0,365.82,1390.0,2074.0,468.9482673609,652.1518,588.7202,956.4014,782.7626,413.6,988.0894901227,369.036,388.332,564.8226898145,564.8226898145,887.616,335.0,335.0,365.82,365.82,706.2144,735.987,534.0,534.0,534.0,604.608,564.8226898145,603.433,578.88,814.8948,564.7078,793.1726,564.7078,564.8226898145,564.8226898145,578.1540625,564.8226898145,865.2633,311.2248691915,776.664,776.664,486.3976775,29866.188,7496.0,7496.0,2613.3437,7496.0,1171.1544575,7496.0,1289.6829,7496.0,410.8200380836,410.8200380836,603.0,15282.432,498.48,1799.5317646138,1160.8971,546.72,1272.732,1999.548,2728.776,3455.592,4180.8,4358.484,1534.654,1605.7382,564.8226898145,357.78,648.7085,168.84,7222.1804,391.9212059029,391.9212059029,391.9212059029,391.9212059029,391.9212059029,391.9212059029,496.872,391.9212059029,391.9212059029,391.9212059029,391.9212059029,404.412,498.48,391.9212059029,391.9212059029,473.556,650.7195307008,423.6203125,222.6896875,650.7195307008,650.7195307008,1799.5317646138,1289.616,2377.7578,1166.5456,2377.7578,1243.788,1213.236,1469.3921,2271.3922,1706.892,1757.2049,1232.532,1891.008,1575.84,2323.706,1799.5317646138,1799.5317646138,1020.8143,1799.5317646138,2409.6501,1166.5456,1166.5456,1799.5317646138,301.0572,2987.1875,1514.736,940.258,1187.054,1508.4971,686.0755,824.4203,802.0001,745.9496,1352.5356473746,527.8267429686,538.3455,527.8267429686,1862.064,1862.064,1138.854,935.856,626.2883,3209.9122,4282.7796,1014.648,434.964,1430.769375,820.7858992293,820.7858992293,1430.769375,820.7858992293,1461.672,1451.042322587,1451.042322587,5350.3799726985,5350.3799726985,5350.3799726985,5350.3799726985,8470.944,14333.712,10232.508,602.369161758,1077.2993,339.8659,287.2914,181.325,311.2248691915,561.6347,181.325,365.82,287.2914,306.324,317.58,468.9482673609,158.388,207.5754,null,null,null,null,null,null,null,null,null,null,null,null,null,null,null,null,null,null,null,null,null,null,null,null,null,null,null,null,null,null,null,null,null,null,null,null,null,null,null,null,null,null,null,null,null,null,null,null,null,null,null,null,null,null,null,null,null,null,null,null,null,null,null,null,null,null,null,null,null,null,null,null,null,null,null,null,null,null,null,null,null,null,null,null,null,null,null,null,null,null,null,null,null,null,null,null,null,null,null,null,null,null,null,null,null,null,null,null,null,null,null,null,null,null,null,null,null,null,null,null,null,null,null,null,null,null,null,null,null,null,null,null,null,null,null,null,null,null,null,null,null,null,null,null,null,null,null,null,null,null,null,null,null,null,null,null,null,null,null,null,null,null,null,null,null,null,null,null,null,null,null,null,null,null,null,null,null,null,null,null,null,null,null,null,null,null,null,null,null,null,null,null,null,null,null,null,null,null,null,null,null,null,null,null,null,null,null,null,null,null,null,null,null,null,null,null,null,null,null,null,null,null,null,null,null,null,null,null,null,null,null,null,null,null,null,null,null,null,null,null,null,null,null,null,null,null,null,null,null,null,null,null,null,null,null,null,null,null,null,null,null,null,null,null,null,null,null,null,null,null,null,null,null,null,null,null,null,null,null,null,null,null,null,null,null,null,null,null,null,null,null,186974.8517,157816.0485512,null,null,null,null,null,null,200061.2519,null,181255.44832,null,147907.9176076923,114542.35356,null,156872.62464,111301.2939684211,189159.6694,94304.4263,77963.5279,183578.05916,129313.7195,86326.76298,163565.7272666667,106437.8441,77972.3427,208186.02805,107322.06334,84903.81958,81718.26242,88998.6355059308,65693.2143095789,102396.84312,59740.6721,null,59168.7674666667,54437.0645,134610.44564,88002.16408,72570.1134,93316.3592737112,50160.5285222222,45000.60334,70947.4559033333,41481.09518,36624.72706,79676.1713845043,49068.5966,39272.2407,80202.0874276761,46984.67304,83770.055,45318.45222,90891.7096826667,55021.6918544,93629.67572,42596.239,118162.308609256,65430.4056,42068.6331,128190.2622,59658.04958,40044.38136,53599.06478,37781.44234,87521.4846434783,50005.6413230769,35238.3892,173865.0536,200065.4819046154,104852.56802,179742.53304,108759.3907414885,70244.372324,88176.5894,41380.1121,52782.01986,38212.9155,103062.41342,59800.34392,73749.0472354134,86757.00582592,49524.2587400533,71580.952735616,39865.15736,36436.53132,74107.162332,39571.59694,121262.357853,53259.39442,68833.73944,42016.0202,72979.074812,190779.98882,128710.71276,79701.7027625,185215.3352,83049.40302,55439.71092,197072.4042,55591.18554,38961.419,34655.557,167027.685867,50687.6849767273,76123.8916984,31694.9167,68985.21406,42197.15702,31290.98438,76737.96052,58314.716836,34421.45986,null,118549.54578,88447.40766,null,87263.15154,70839.3882,112805.50876,52558.4713705882,81699.90186,61930.1266926829,51875.0268521739,78703.5309665872,52038.41718,65811.4735693333,68953.08308,47976.14328,34655.557,120597.5162,50784.37665,48334.91124,55402.9898,49825.9697,39667.98988,29932.30294,60439.1067368421,39246.564112,29459.51852,79762.86278,61322.4514,50350.0676,94394.8926350769,49206.3008,37805.0386,53998.3891045455,30620.82394,37152.59316,103046.0662311086,53323.0873025649,null,163834.43412,null,null,null,null,null,null,null,null,null,null,null,null,null,null,151515.93126,null,null,null,null,null,null,124585.57988,159438.5129,120014.9111,87263.15154,null,137493.05356,87648.7233,111067.61758,80591.97188,175464.4311583333,142172.95414,85607.9516727273,197983.681063,105143.15849275,78106.41454,211643.547283,182236.17062,168781.5225546154,87708.39512,76967.46752,151919.86358,155243.12494,null,null,null,196288.15682,null,159911.29732,119178.39496,184202.3182,154205.7533,97626.59274375,78499.3197333333,44548.3654,199017.5800666667,118669.1841794323,50500.72028,null,140053.7840208889,58744.61172,47481.9212,38188.1059,104250.66270016,null,105228.2208444445,47328.93354,42638.04825,55347.90812,31895.16036,56351.7444,34224.08384,103466.7046,41834.53596,53823.98164,33856.87264,25300.85168,30666.72534,39140.12378,33205.07276,118755.1216444444,47978.722716129,31304.7548,213576.0272295074,113440.71996,null,117567.25582,76090.75078,212215.94262,112772.7250313726,80482.9172622222,150938.6560248,80758.566,null,97632.2778,72317.6557,150780.723772,74745.83976,55667.5171111111,136687.817504,66703.91448,50156.45978,177340.5133826667,73652.94903456,63934.318,117884.288007168,63389.8334,45772.87608,180365.6377572,67484.23828,50587.93294,135876.5982,84948.2326,62990.49122,193818.6615,103103.72468,63674.42208,91667.7692,46915.82094,38244.4804,87838.8682705882,54231.3515692308,44507.2586,109463.8076,65457.3304,57573.2622187692,81612.6892,45212.879,30435.4694,152985.043176,48448.9277,44010.878996,62425.904,64807.7810172414,78551.8776338618,45433.20572,38613.001,67355.71436,42352.1736105263,26677.0246105263,62586.8329041667,36151.94264,80250.0048,54718.7424848485,29601.81286,null,150450.6370181818,102162.74598,180998.8362,117333.0578,117333.0578,162247.67858,109881.182936,86756.6017733333,109159.6827913846,76242.2254,59901.327,null,129206.049952,180479.71466,null,186706.3186333333,77759.7513,50603.822752,89681.2986461539,50509.90056,56009.3432017778,91065.0202,47804.4283111111,34196.7929333333,129549.581,51068.4451768055,36427.0732,110070.0246333333,64210.3102117647,37258.16638,null,null,null,null,null,null,null,191952.5563741935,137043.21984,null,155713.6079333333,91467.71978,null,166433.88626,128032.77502,157170.03036,87758.88666,null,140963.1994,116364.63914,188053.44566,null,197273.9411608,107914.8232621021,81172.03576,142051.1202928356,132916.98,75558.29454,108217.14064,null,95750.3204,90656.0849506667,104159.45688,65126.7346333333,160007.69026,109052.54612,86698.56432,181755.823676,96379.16958,74890.45536,117649.87834,189055.3427,80685.48092,63091.4743,129440.764936,108148.9216608889,85755.86002025,105512.118166,90838.8706,73740.5991,109399.926244,47402.37578,206975.7354,93354.26732,69306.52386,171106.64878,91770.66902,67924.89172,138585.50688,99739.15206,108482.90026,78276.7356,102608.0509253333,35669.97794,38776.7184,173365.80011072,61810.82524,62214.481602,89200.3050041369,66937.1773777778,43495.4764290667,115148.25204,68712.8045333333,45266.4591555556,166089.963116,55618.72638,48118.43762,76811.40276,44088.2947,60860.66626,37648.32828,62728.3202,37088.3312,86097.9637,39888.3166,81933.999,61053.7274353994,51855.0891875048,67144.56792,39530.28568,76179.3885313646,50535.0068867772,34090.96978,196041.95306776,75673.04804,55246.92504,null,null,120201.99618,102025.508956,null,79694.01068,73332.2300529411,128324.731577,90211.6900621824,98036.21012,86627.9103375,81888.0976,52873.82266,47751.762772,null,78334.3201980606,112092.8655,94576.264895,47787.94754,33332.939283,66153.09768,40475.85452,69274.39288,41788.63456,103520.1948511418,38933.56748,126580.9496,69392.3349,null,107991.38175,127485.716484,132733.07838,77371.39984,71376.677,null,101954.6172722264,69422.2633813333,148336.37459744,74323.54688,58565.59626,null,102993.56132,91704.417896,64064.58398,40209.6264,27577.56112,58079.04142,39505.6456666667,186824.113,75448.13118,46778.11674,37406.65684,null,null,null,130474.7295,99087.35218,152961.046,112877.6936,72478.3106,135553.2962,64776.05568,49538.73883,141801.511012,69999.635,51717.10738,null,79037.62066,45162.38746,182047.0643357334,72257.98388,45327.6325,84068.4141,160379.4916,108809.2687,77408.12096,68237.02124,41077.16286,35825.7816,77931.39692,122592.4619144615,52653.49594,36519.15384,65675.72312,36588.00594,56108.4046506667,31809.6702,57462.185487,82340.9388666667,71535.9012162162,34003.75712,101820.3732,68149.80858,110714.1768,66162.27796,164339.4942455,56991.17824,68021.28466,43982.72148,125903.1061851734,81259.24842,127904.3442084211,64829.9161272,89036.0443076364,38437.1582,85787.9223195556,45760.1428666667,54110.901292,38791.0482213333,115728.588206,68001.6806,null,92881.4829,80382.2628805,179121.03322,82732.68336,66350.627,82718.91294,53732.17884,91743.991934,52823.33112,87796.3224376,44919.11004,65051.46408,115956.11668,65501.2978,93284.7784463321,75368.07306,45754.51552,77599.6090916667,43858.7877,30106.188,44368.29324,25966.42198,52639.72552,76255.99582,39741.43212,31997.86594,46755.16604,88575.93158,47970.9202,41924.0956235294,74130.761,50191.4665104478,40818.4269747212,null,null,188751.14694,113890.55368,193887.5136,68627.18314,12511.1587982833,60268.5382,42591.90906,45791.4377816,null,122028.8719,89192.4215,199045.4479517156,94249.34462,84334.549348,46158.44784,32130.6050658226,28982.14396,154824.46014,80227.5129090909,47498.3492666667,68260.8356826586,41219.4572,71840.28114,151496.0889493334,47328.93354,33462.1206,143662.20172,72987.81614,40783.3939,null,177307.3213647273,80675.997766,null,177505.2914891667,78230.2413511111,null,147921.0856666667,79827.12474,null,93278.5135333333,54842.99272,32153.9307,23134.3056,null,193917.72295,72010.11632,null,102089.30374,63100.65458,142615.6498,125726.4428,158955.5753333333,88054.323,62504.23634,137623.3493090909,80167.6703722222,42646.99074,184494.165156,null,94978.1798,72090.5542653333,null,118630.2315333334,87333.988504,136203.9927891646,46277.18564,38933.56748,101468.0850644255,41297.48958,97008.01876,50040.09752,34003.75712,null,121746.970831111,49666.5826867925,200515.5257002057,36231.8772666667,45871.5045907654,47327.820204,99469.0426940881,61913.4681,86738.1662011497,65000.2752,74940.1276008,26246.42052,71546.51218,80584.49784,39075.86182,201901.89804,90967.39452,55797.74184,163037.18266,71601.59386,null,null,94396.2291,62641.64058,69499.30974,40810.93474,97642.1628,30487.70988,122373.7873357576,37533.57478,148239.7514613623,68864.0137669924,33411.62906,131618.1227174545,46288.6317058215,null,null,170963.5366665882,97464.7970237867,88562.35182,null,101134.55462,86634.30236,81046.83555,60166.61,61766.1576746691,35692.92864,77463.4097724994,49009.16107104,40026.2251274728,null,null,null,null,144613.4631556876,67222.6003,60207.2063298133,null,142759.5881209438,63146.55598,54666.7275,87203.05757184,null,115129.89148,76664.51828,null,91907.6928,50601.70336],\"type\":\"histogram\"}],                        {\"template\":{\"data\":{\"histogram2dcontour\":[{\"type\":\"histogram2dcontour\",\"colorbar\":{\"outlinewidth\":0,\"ticks\":\"\"},\"colorscale\":[[0.0,\"#0d0887\"],[0.1111111111111111,\"#46039f\"],[0.2222222222222222,\"#7201a8\"],[0.3333333333333333,\"#9c179e\"],[0.4444444444444444,\"#bd3786\"],[0.5555555555555556,\"#d8576b\"],[0.6666666666666666,\"#ed7953\"],[0.7777777777777778,\"#fb9f3a\"],[0.8888888888888888,\"#fdca26\"],[1.0,\"#f0f921\"]]}],\"choropleth\":[{\"type\":\"choropleth\",\"colorbar\":{\"outlinewidth\":0,\"ticks\":\"\"}}],\"histogram2d\":[{\"type\":\"histogram2d\",\"colorbar\":{\"outlinewidth\":0,\"ticks\":\"\"},\"colorscale\":[[0.0,\"#0d0887\"],[0.1111111111111111,\"#46039f\"],[0.2222222222222222,\"#7201a8\"],[0.3333333333333333,\"#9c179e\"],[0.4444444444444444,\"#bd3786\"],[0.5555555555555556,\"#d8576b\"],[0.6666666666666666,\"#ed7953\"],[0.7777777777777778,\"#fb9f3a\"],[0.8888888888888888,\"#fdca26\"],[1.0,\"#f0f921\"]]}],\"heatmap\":[{\"type\":\"heatmap\",\"colorbar\":{\"outlinewidth\":0,\"ticks\":\"\"},\"colorscale\":[[0.0,\"#0d0887\"],[0.1111111111111111,\"#46039f\"],[0.2222222222222222,\"#7201a8\"],[0.3333333333333333,\"#9c179e\"],[0.4444444444444444,\"#bd3786\"],[0.5555555555555556,\"#d8576b\"],[0.6666666666666666,\"#ed7953\"],[0.7777777777777778,\"#fb9f3a\"],[0.8888888888888888,\"#fdca26\"],[1.0,\"#f0f921\"]]}],\"heatmapgl\":[{\"type\":\"heatmapgl\",\"colorbar\":{\"outlinewidth\":0,\"ticks\":\"\"},\"colorscale\":[[0.0,\"#0d0887\"],[0.1111111111111111,\"#46039f\"],[0.2222222222222222,\"#7201a8\"],[0.3333333333333333,\"#9c179e\"],[0.4444444444444444,\"#bd3786\"],[0.5555555555555556,\"#d8576b\"],[0.6666666666666666,\"#ed7953\"],[0.7777777777777778,\"#fb9f3a\"],[0.8888888888888888,\"#fdca26\"],[1.0,\"#f0f921\"]]}],\"contourcarpet\":[{\"type\":\"contourcarpet\",\"colorbar\":{\"outlinewidth\":0,\"ticks\":\"\"}}],\"contour\":[{\"type\":\"contour\",\"colorbar\":{\"outlinewidth\":0,\"ticks\":\"\"},\"colorscale\":[[0.0,\"#0d0887\"],[0.1111111111111111,\"#46039f\"],[0.2222222222222222,\"#7201a8\"],[0.3333333333333333,\"#9c179e\"],[0.4444444444444444,\"#bd3786\"],[0.5555555555555556,\"#d8576b\"],[0.6666666666666666,\"#ed7953\"],[0.7777777777777778,\"#fb9f3a\"],[0.8888888888888888,\"#fdca26\"],[1.0,\"#f0f921\"]]}],\"surface\":[{\"type\":\"surface\",\"colorbar\":{\"outlinewidth\":0,\"ticks\":\"\"},\"colorscale\":[[0.0,\"#0d0887\"],[0.1111111111111111,\"#46039f\"],[0.2222222222222222,\"#7201a8\"],[0.3333333333333333,\"#9c179e\"],[0.4444444444444444,\"#bd3786\"],[0.5555555555555556,\"#d8576b\"],[0.6666666666666666,\"#ed7953\"],[0.7777777777777778,\"#fb9f3a\"],[0.8888888888888888,\"#fdca26\"],[1.0,\"#f0f921\"]]}],\"mesh3d\":[{\"type\":\"mesh3d\",\"colorbar\":{\"outlinewidth\":0,\"ticks\":\"\"}}],\"scatter\":[{\"fillpattern\":{\"fillmode\":\"overlay\",\"size\":10,\"solidity\":0.2},\"type\":\"scatter\"}],\"parcoords\":[{\"type\":\"parcoords\",\"line\":{\"colorbar\":{\"outlinewidth\":0,\"ticks\":\"\"}}}],\"scatterpolargl\":[{\"type\":\"scatterpolargl\",\"marker\":{\"colorbar\":{\"outlinewidth\":0,\"ticks\":\"\"}}}],\"bar\":[{\"error_x\":{\"color\":\"#2a3f5f\"},\"error_y\":{\"color\":\"#2a3f5f\"},\"marker\":{\"line\":{\"color\":\"#E5ECF6\",\"width\":0.5},\"pattern\":{\"fillmode\":\"overlay\",\"size\":10,\"solidity\":0.2}},\"type\":\"bar\"}],\"scattergeo\":[{\"type\":\"scattergeo\",\"marker\":{\"colorbar\":{\"outlinewidth\":0,\"ticks\":\"\"}}}],\"scatterpolar\":[{\"type\":\"scatterpolar\",\"marker\":{\"colorbar\":{\"outlinewidth\":0,\"ticks\":\"\"}}}],\"histogram\":[{\"marker\":{\"pattern\":{\"fillmode\":\"overlay\",\"size\":10,\"solidity\":0.2}},\"type\":\"histogram\"}],\"scattergl\":[{\"type\":\"scattergl\",\"marker\":{\"colorbar\":{\"outlinewidth\":0,\"ticks\":\"\"}}}],\"scatter3d\":[{\"type\":\"scatter3d\",\"line\":{\"colorbar\":{\"outlinewidth\":0,\"ticks\":\"\"}},\"marker\":{\"colorbar\":{\"outlinewidth\":0,\"ticks\":\"\"}}}],\"scattermapbox\":[{\"type\":\"scattermapbox\",\"marker\":{\"colorbar\":{\"outlinewidth\":0,\"ticks\":\"\"}}}],\"scatterternary\":[{\"type\":\"scatterternary\",\"marker\":{\"colorbar\":{\"outlinewidth\":0,\"ticks\":\"\"}}}],\"scattercarpet\":[{\"type\":\"scattercarpet\",\"marker\":{\"colorbar\":{\"outlinewidth\":0,\"ticks\":\"\"}}}],\"carpet\":[{\"aaxis\":{\"endlinecolor\":\"#2a3f5f\",\"gridcolor\":\"white\",\"linecolor\":\"white\",\"minorgridcolor\":\"white\",\"startlinecolor\":\"#2a3f5f\"},\"baxis\":{\"endlinecolor\":\"#2a3f5f\",\"gridcolor\":\"white\",\"linecolor\":\"white\",\"minorgridcolor\":\"white\",\"startlinecolor\":\"#2a3f5f\"},\"type\":\"carpet\"}],\"table\":[{\"cells\":{\"fill\":{\"color\":\"#EBF0F8\"},\"line\":{\"color\":\"white\"}},\"header\":{\"fill\":{\"color\":\"#C8D4E3\"},\"line\":{\"color\":\"white\"}},\"type\":\"table\"}],\"barpolar\":[{\"marker\":{\"line\":{\"color\":\"#E5ECF6\",\"width\":0.5},\"pattern\":{\"fillmode\":\"overlay\",\"size\":10,\"solidity\":0.2}},\"type\":\"barpolar\"}],\"pie\":[{\"automargin\":true,\"type\":\"pie\"}]},\"layout\":{\"autotypenumbers\":\"strict\",\"colorway\":[\"#636efa\",\"#EF553B\",\"#00cc96\",\"#ab63fa\",\"#FFA15A\",\"#19d3f3\",\"#FF6692\",\"#B6E880\",\"#FF97FF\",\"#FECB52\"],\"font\":{\"color\":\"#2a3f5f\"},\"hovermode\":\"closest\",\"hoverlabel\":{\"align\":\"left\"},\"paper_bgcolor\":\"white\",\"plot_bgcolor\":\"#E5ECF6\",\"polar\":{\"bgcolor\":\"#E5ECF6\",\"angularaxis\":{\"gridcolor\":\"white\",\"linecolor\":\"white\",\"ticks\":\"\"},\"radialaxis\":{\"gridcolor\":\"white\",\"linecolor\":\"white\",\"ticks\":\"\"}},\"ternary\":{\"bgcolor\":\"#E5ECF6\",\"aaxis\":{\"gridcolor\":\"white\",\"linecolor\":\"white\",\"ticks\":\"\"},\"baxis\":{\"gridcolor\":\"white\",\"linecolor\":\"white\",\"ticks\":\"\"},\"caxis\":{\"gridcolor\":\"white\",\"linecolor\":\"white\",\"ticks\":\"\"}},\"coloraxis\":{\"colorbar\":{\"outlinewidth\":0,\"ticks\":\"\"}},\"colorscale\":{\"sequential\":[[0.0,\"#0d0887\"],[0.1111111111111111,\"#46039f\"],[0.2222222222222222,\"#7201a8\"],[0.3333333333333333,\"#9c179e\"],[0.4444444444444444,\"#bd3786\"],[0.5555555555555556,\"#d8576b\"],[0.6666666666666666,\"#ed7953\"],[0.7777777777777778,\"#fb9f3a\"],[0.8888888888888888,\"#fdca26\"],[1.0,\"#f0f921\"]],\"sequentialminus\":[[0.0,\"#0d0887\"],[0.1111111111111111,\"#46039f\"],[0.2222222222222222,\"#7201a8\"],[0.3333333333333333,\"#9c179e\"],[0.4444444444444444,\"#bd3786\"],[0.5555555555555556,\"#d8576b\"],[0.6666666666666666,\"#ed7953\"],[0.7777777777777778,\"#fb9f3a\"],[0.8888888888888888,\"#fdca26\"],[1.0,\"#f0f921\"]],\"diverging\":[[0,\"#8e0152\"],[0.1,\"#c51b7d\"],[0.2,\"#de77ae\"],[0.3,\"#f1b6da\"],[0.4,\"#fde0ef\"],[0.5,\"#f7f7f7\"],[0.6,\"#e6f5d0\"],[0.7,\"#b8e186\"],[0.8,\"#7fbc41\"],[0.9,\"#4d9221\"],[1,\"#276419\"]]},\"xaxis\":{\"gridcolor\":\"white\",\"linecolor\":\"white\",\"ticks\":\"\",\"title\":{\"standoff\":15},\"zerolinecolor\":\"white\",\"automargin\":true,\"zerolinewidth\":2},\"yaxis\":{\"gridcolor\":\"white\",\"linecolor\":\"white\",\"ticks\":\"\",\"title\":{\"standoff\":15},\"zerolinecolor\":\"white\",\"automargin\":true,\"zerolinewidth\":2},\"scene\":{\"xaxis\":{\"backgroundcolor\":\"#E5ECF6\",\"gridcolor\":\"white\",\"linecolor\":\"white\",\"showbackground\":true,\"ticks\":\"\",\"zerolinecolor\":\"white\",\"gridwidth\":2},\"yaxis\":{\"backgroundcolor\":\"#E5ECF6\",\"gridcolor\":\"white\",\"linecolor\":\"white\",\"showbackground\":true,\"ticks\":\"\",\"zerolinecolor\":\"white\",\"gridwidth\":2},\"zaxis\":{\"backgroundcolor\":\"#E5ECF6\",\"gridcolor\":\"white\",\"linecolor\":\"white\",\"showbackground\":true,\"ticks\":\"\",\"zerolinecolor\":\"white\",\"gridwidth\":2}},\"shapedefaults\":{\"line\":{\"color\":\"#2a3f5f\"}},\"annotationdefaults\":{\"arrowcolor\":\"#2a3f5f\",\"arrowhead\":0,\"arrowwidth\":1},\"geo\":{\"bgcolor\":\"white\",\"landcolor\":\"#E5ECF6\",\"subunitcolor\":\"white\",\"showland\":true,\"showlakes\":true,\"lakecolor\":\"white\"},\"title\":{\"x\":0.05},\"mapbox\":{\"style\":\"light\"}}}},                        {\"responsive\": true}                    ).then(function(){\n",
              "                            \n",
              "var gd = document.getElementById('4e16bcb7-9281-46fb-9415-a592d31ecfc7');\n",
              "var x = new MutationObserver(function (mutations, observer) {{\n",
              "        var display = window.getComputedStyle(gd).display;\n",
              "        if (!display || display === 'none') {{\n",
              "            console.log([gd, 'removed!']);\n",
              "            Plotly.purge(gd);\n",
              "            observer.disconnect();\n",
              "        }}\n",
              "}});\n",
              "\n",
              "// Listen for the removal of the full notebook cells\n",
              "var notebookContainer = gd.closest('#notebook-container');\n",
              "if (notebookContainer) {{\n",
              "    x.observe(notebookContainer, {childList: true});\n",
              "}}\n",
              "\n",
              "// Listen for the clearing of the current output cell\n",
              "var outputEl = gd.closest('.output');\n",
              "if (outputEl) {{\n",
              "    x.observe(outputEl, {childList: true});\n",
              "}}\n",
              "\n",
              "                        })                };                            </script>        </div>\n",
              "</body>\n",
              "</html>"
            ]
          },
          "metadata": {}
        }
      ]
    },
    {
      "cell_type": "code",
      "source": [
        "df2_clean_outliers.to_csv('/content/newdb_NewYorkPresbyterianHospital_standardcharges.csv')"
      ],
      "metadata": {
        "id": "8Ap8ALUJI7Q2"
      },
      "execution_count": 132,
      "outputs": []
    },
    {
      "cell_type": "markdown",
      "source": [
        "# SQLite Database Operations"
      ],
      "metadata": {
        "id": "YbivWjpdtDsV"
      }
    },
    {
      "cell_type": "code",
      "source": [
        "conn = sqlite3.connect('health.db')\n",
        "c = conn.cursor()"
      ],
      "metadata": {
        "id": "s8fwUxAfst-i"
      },
      "execution_count": 135,
      "outputs": []
    },
    {
      "cell_type": "markdown",
      "source": [
        "### Manual table creation"
      ],
      "metadata": {
        "id": "w2KlnVi1xENl"
      }
    },
    {
      "cell_type": "code",
      "source": [
        "c.execute('''\n",
        "              CREATE TABLE msqCharges7\n",
        "                    (\n",
        "                      Charge_description text,\n",
        "                      Department_name text,\n",
        "                      Rate_Charged real,\n",
        "                      PaidClaim real,\n",
        "                      LostRevenue real\n",
        "                    );\n",
        "          ''')\n",
        "conn.commit()"
      ],
      "metadata": {
        "id": "FpjBbVqXvqs6"
      },
      "execution_count": null,
      "outputs": []
    },
    {
      "cell_type": "code",
      "source": [
        "c.execute('''\n",
        "\n",
        "  SELECT name\n",
        "  FROM sqlite_master\n",
        "  WHERE type='table';\n",
        "   ''')\n",
        "print(c.fetchall())"
      ],
      "metadata": {
        "colab": {
          "base_uri": "https://localhost:8080/"
        },
        "id": "MICnE_cKwxZa",
        "outputId": "d5e0d3f1-dcdb-4e1b-81ba-00fa3841f3e7"
      },
      "execution_count": null,
      "outputs": [
        {
          "output_type": "stream",
          "name": "stdout",
          "text": [
            "[('msqCharges1',), ('msqCharges',), ('msqCharges2',), ('msqCharges3',), ('msqCharges4',), ('msqCharges5',), ('msqCharges5db',), ('msq_database',), ('msqCharges6',), ('msqCharges7',)]\n"
          ]
        }
      ]
    },
    {
      "cell_type": "code",
      "source": [
        "sql_query = '''\n",
        "INSERT INTO msqCharges7\n",
        "  (\n",
        "  'Charge_description',\n",
        "  'Department_name',\n",
        "  'Rate_Charged',\n",
        "  'PaidClaim',\n",
        "  'LostRevenue'\n",
        ")\n",
        "values\n",
        "  (\n",
        "  'Mount Sinai Queens',\n",
        "  'Outpatient Surgery',\n",
        "   10000,\n",
        "   5000,\n",
        "   5000\n",
        ");\n",
        "\n",
        "'''\n",
        "print(sql_query)"
      ],
      "metadata": {
        "colab": {
          "base_uri": "https://localhost:8080/"
        },
        "id": "UNf2cnKyzjul",
        "outputId": "0e0eca48-e78b-4ac5-aa47-c7b698325fb8"
      },
      "execution_count": null,
      "outputs": [
        {
          "output_type": "stream",
          "name": "stdout",
          "text": [
            "\n",
            "INSERT INTO msqCharges7\n",
            "  (\n",
            "  'Charge_description',\n",
            "  'Department_name',\n",
            "  'Rate_Charged',\n",
            "  'PaidClaim',\n",
            "  'LostRevenue'\n",
            ")\n",
            "values\n",
            "  (\n",
            "  'Mount Sinai Queens',\n",
            "  'Outpatient Surgery',\n",
            "   10000,\n",
            "   5000,\n",
            "   5000\n",
            ");\n",
            "\n",
            "\n"
          ]
        }
      ]
    },
    {
      "cell_type": "code",
      "source": [
        "c.execute(sql_query)\n",
        "conn.commit()"
      ],
      "metadata": {
        "id": "QZPLVYsR0yLy"
      },
      "execution_count": null,
      "outputs": []
    },
    {
      "cell_type": "code",
      "source": [
        "sql_query_2 = '''\n",
        "\n",
        "select *\n",
        "from msqCharges7;\n",
        "\n",
        "'''\n",
        "\n",
        "c.execute(sql_query_2)\n",
        "print(c.fetchall())"
      ],
      "metadata": {
        "colab": {
          "base_uri": "https://localhost:8080/"
        },
        "id": "197iISNd1hwm",
        "outputId": "fa890638-de42-4df3-c9ef-6942d0127591"
      },
      "execution_count": null,
      "outputs": [
        {
          "output_type": "stream",
          "name": "stdout",
          "text": [
            "[('Mount Sinai Queens', 'Outpatient Surgery', 10000.0, 5000.0, 5000.0)]\n"
          ]
        }
      ]
    },
    {
      "cell_type": "code",
      "source": [
        "msqCharges7db = pd.read_sql('select * from msqCharges7;', conn)"
      ],
      "metadata": {
        "id": "NwvajQFo128B"
      },
      "execution_count": null,
      "outputs": []
    },
    {
      "cell_type": "code",
      "source": [
        "msqCharges7db.to_sql('msqCharges57db', conn, if_exists=\"replace\")"
      ],
      "metadata": {
        "colab": {
          "base_uri": "https://localhost:8080/"
        },
        "id": "P36uXDJa19BC",
        "outputId": "be17a59a-3985-4fb7-f7a4-262e12ba42e6"
      },
      "execution_count": null,
      "outputs": [
        {
          "output_type": "execute_result",
          "data": {
            "text/plain": [
              "1"
            ]
          },
          "metadata": {},
          "execution_count": 194
        }
      ]
    },
    {
      "cell_type": "code",
      "source": [
        "query = '''\n",
        "select *\n",
        " from msqCharges7\n",
        ";\n",
        " '''\n",
        "\n",
        "response = pd.read_sql(query, conn)\n",
        "response"
      ],
      "metadata": {
        "colab": {
          "base_uri": "https://localhost:8080/",
          "height": 80
        },
        "id": "rdFaeTK_2b6c",
        "outputId": "9e4cbfa0-eb18-4d50-943d-c2ca746209c6"
      },
      "execution_count": null,
      "outputs": [
        {
          "output_type": "execute_result",
          "data": {
            "text/plain": [
              "   Charge_description     Department_name  Rate_Charged  PaidClaim  \\\n",
              "0  Mount Sinai Queens  Outpatient Surgery       10000.0     5000.0   \n",
              "\n",
              "   LostRevenue  \n",
              "0       5000.0  "
            ],
            "text/html": [
              "\n",
              "  <div id=\"df-27950d52-775f-44a2-9f5e-8130edea2a85\" class=\"colab-df-container\">\n",
              "    <div>\n",
              "<style scoped>\n",
              "    .dataframe tbody tr th:only-of-type {\n",
              "        vertical-align: middle;\n",
              "    }\n",
              "\n",
              "    .dataframe tbody tr th {\n",
              "        vertical-align: top;\n",
              "    }\n",
              "\n",
              "    .dataframe thead th {\n",
              "        text-align: right;\n",
              "    }\n",
              "</style>\n",
              "<table border=\"1\" class=\"dataframe\">\n",
              "  <thead>\n",
              "    <tr style=\"text-align: right;\">\n",
              "      <th></th>\n",
              "      <th>Charge_description</th>\n",
              "      <th>Department_name</th>\n",
              "      <th>Rate_Charged</th>\n",
              "      <th>PaidClaim</th>\n",
              "      <th>LostRevenue</th>\n",
              "    </tr>\n",
              "  </thead>\n",
              "  <tbody>\n",
              "    <tr>\n",
              "      <th>0</th>\n",
              "      <td>Mount Sinai Queens</td>\n",
              "      <td>Outpatient Surgery</td>\n",
              "      <td>10000.0</td>\n",
              "      <td>5000.0</td>\n",
              "      <td>5000.0</td>\n",
              "    </tr>\n",
              "  </tbody>\n",
              "</table>\n",
              "</div>\n",
              "    <div class=\"colab-df-buttons\">\n",
              "\n",
              "  <div class=\"colab-df-container\">\n",
              "    <button class=\"colab-df-convert\" onclick=\"convertToInteractive('df-27950d52-775f-44a2-9f5e-8130edea2a85')\"\n",
              "            title=\"Convert this dataframe to an interactive table.\"\n",
              "            style=\"display:none;\">\n",
              "\n",
              "  <svg xmlns=\"http://www.w3.org/2000/svg\" height=\"24px\" viewBox=\"0 -960 960 960\">\n",
              "    <path d=\"M120-120v-720h720v720H120Zm60-500h600v-160H180v160Zm220 220h160v-160H400v160Zm0 220h160v-160H400v160ZM180-400h160v-160H180v160Zm440 0h160v-160H620v160ZM180-180h160v-160H180v160Zm440 0h160v-160H620v160Z\"/>\n",
              "  </svg>\n",
              "    </button>\n",
              "\n",
              "  <style>\n",
              "    .colab-df-container {\n",
              "      display:flex;\n",
              "      gap: 12px;\n",
              "    }\n",
              "\n",
              "    .colab-df-convert {\n",
              "      background-color: #E8F0FE;\n",
              "      border: none;\n",
              "      border-radius: 50%;\n",
              "      cursor: pointer;\n",
              "      display: none;\n",
              "      fill: #1967D2;\n",
              "      height: 32px;\n",
              "      padding: 0 0 0 0;\n",
              "      width: 32px;\n",
              "    }\n",
              "\n",
              "    .colab-df-convert:hover {\n",
              "      background-color: #E2EBFA;\n",
              "      box-shadow: 0px 1px 2px rgba(60, 64, 67, 0.3), 0px 1px 3px 1px rgba(60, 64, 67, 0.15);\n",
              "      fill: #174EA6;\n",
              "    }\n",
              "\n",
              "    .colab-df-buttons div {\n",
              "      margin-bottom: 4px;\n",
              "    }\n",
              "\n",
              "    [theme=dark] .colab-df-convert {\n",
              "      background-color: #3B4455;\n",
              "      fill: #D2E3FC;\n",
              "    }\n",
              "\n",
              "    [theme=dark] .colab-df-convert:hover {\n",
              "      background-color: #434B5C;\n",
              "      box-shadow: 0px 1px 3px 1px rgba(0, 0, 0, 0.15);\n",
              "      filter: drop-shadow(0px 1px 2px rgba(0, 0, 0, 0.3));\n",
              "      fill: #FFFFFF;\n",
              "    }\n",
              "  </style>\n",
              "\n",
              "    <script>\n",
              "      const buttonEl =\n",
              "        document.querySelector('#df-27950d52-775f-44a2-9f5e-8130edea2a85 button.colab-df-convert');\n",
              "      buttonEl.style.display =\n",
              "        google.colab.kernel.accessAllowed ? 'block' : 'none';\n",
              "\n",
              "      async function convertToInteractive(key) {\n",
              "        const element = document.querySelector('#df-27950d52-775f-44a2-9f5e-8130edea2a85');\n",
              "        const dataTable =\n",
              "          await google.colab.kernel.invokeFunction('convertToInteractive',\n",
              "                                                    [key], {});\n",
              "        if (!dataTable) return;\n",
              "\n",
              "        const docLinkHtml = 'Like what you see? Visit the ' +\n",
              "          '<a target=\"_blank\" href=https://colab.research.google.com/notebooks/data_table.ipynb>data table notebook</a>'\n",
              "          + ' to learn more about interactive tables.';\n",
              "        element.innerHTML = '';\n",
              "        dataTable['output_type'] = 'display_data';\n",
              "        await google.colab.output.renderOutput(dataTable, element);\n",
              "        const docLink = document.createElement('div');\n",
              "        docLink.innerHTML = docLinkHtml;\n",
              "        element.appendChild(docLink);\n",
              "      }\n",
              "    </script>\n",
              "  </div>\n",
              "\n",
              "    </div>\n",
              "  </div>\n"
            ]
          },
          "metadata": {},
          "execution_count": 195
        }
      ]
    },
    {
      "cell_type": "markdown",
      "source": [
        "### Automatic table creation"
      ],
      "metadata": {
        "id": "FoV0i0xRxSIx"
      }
    },
    {
      "cell_type": "code",
      "source": [
        "msq_database = pd.read_csv('/content/newdb_NewYorkPresbyterianHospital_standardcharges.csv')"
      ],
      "metadata": {
        "id": "WbVjk-v03eIQ"
      },
      "execution_count": 133,
      "outputs": []
    },
    {
      "cell_type": "code",
      "source": [
        "msq_database.to_sql('msq_database', conn, if_exists='append', index=False)"
      ],
      "metadata": {
        "colab": {
          "base_uri": "https://localhost:8080/"
        },
        "id": "Rkti2bat3pir",
        "outputId": "4bd07c71-bbf4-4d15-914f-9e8b414e1d62"
      },
      "execution_count": 136,
      "outputs": [
        {
          "output_type": "execute_result",
          "data": {
            "text/plain": [
              "6193"
            ]
          },
          "metadata": {},
          "execution_count": 136
        }
      ]
    },
    {
      "cell_type": "code",
      "source": [
        "query = '''\n",
        "select *\n",
        " from msq_database\n",
        ";\n",
        " '''\n",
        "\n",
        "response1 = pd.read_sql(query, conn)\n",
        "response1"
      ],
      "metadata": {
        "colab": {
          "base_uri": "https://localhost:8080/",
          "height": 493
        },
        "id": "mt24bh-L4yy3",
        "outputId": "4ca2c0ed-5c37-4047-8653-689b057b9ed3"
      },
      "execution_count": 137,
      "outputs": [
        {
          "output_type": "execute_result",
          "data": {
            "text/plain": [
              "      Unnamed: 0 CPTDRGCode Description Rev Code Inpt_Oupt  Gross Charges  \\\n",
              "0              0       None        None     None      None     866.000000   \n",
              "1              1       None        None     None      None     358.000000   \n",
              "2              2       None        None     None      None    1397.000000   \n",
              "3              3       None        None     None      None     480.000000   \n",
              "4              4       None        None     None      None     480.000000   \n",
              "...          ...        ...         ...      ...       ...            ...   \n",
              "6188        6188       None        None     None      None  184095.129020   \n",
              "6189        6189       None        None     None      None   85385.941857   \n",
              "6190        6190       None        None     None      None            NaN   \n",
              "6191        6191       None        None     None      None  126522.871140   \n",
              "6192        6192       None        None     None      None   77081.639496   \n",
              "\n",
              "      Discounted Cash Price Aetna Cigna Empire Blue Cross Blue Shield  ...  \\\n",
              "0                866.000000  None  None                          None  ...   \n",
              "1                358.000000  None  None                          None  ...   \n",
              "2               1397.000000  None  None                          None  ...   \n",
              "3                480.000000  None  None                          None  ...   \n",
              "4                480.000000  None  None                          None  ...   \n",
              "...                     ...   ...   ...                           ...  ...   \n",
              "6188          184095.129020  None  None                          None  ...   \n",
              "6189           85385.941857  None  None                          None  ...   \n",
              "6190                    NaN  None  None                          None  ...   \n",
              "6191          126522.871140  None  None                          None  ...   \n",
              "6192           77081.639496  None  None                          None  ...   \n",
              "\n",
              "     Consumer Health Network Devon Equian First Health Magnacare  \\\n",
              "0                       None  None   None         None      None   \n",
              "1                       None  None   None         None      None   \n",
              "2                       None  None   None         None      None   \n",
              "3                       None  None   None         None      None   \n",
              "4                       None  None   None         None      None   \n",
              "...                      ...   ...    ...          ...       ...   \n",
              "6188                    None  None   None         None      None   \n",
              "6189                    None  None   None         None      None   \n",
              "6190                    None  None   None         None      None   \n",
              "6191                    None  None   None         None      None   \n",
              "6192                    None  None   None         None      None   \n",
              "\n",
              "     Multiplan_Beechstreet_PHCS   QHM Worldwide Minimum Negotiated Charge  \\\n",
              "0                          None  None      None                253.048250   \n",
              "1                          None  None      None                 51.903250   \n",
              "2                          None  None      None                253.048250   \n",
              "3                          None  None      None                 82.650750   \n",
              "4                          None  None      None                156.982800   \n",
              "...                         ...   ...       ...                       ...   \n",
              "6188                       None  None      None              12561.144027   \n",
              "6189                       None  None      None               7833.746854   \n",
              "6190                       None  None      None                       NaN   \n",
              "6191                       None  None      None              10429.428059   \n",
              "6192                       None  None      None               5995.071552   \n",
              "\n",
              "     Maximum Negotiated Charge  \n",
              "0                  1388.424000  \n",
              "1                  1990.891341  \n",
              "2                  1475.508000  \n",
              "3                  1325.120000  \n",
              "4                  1325.120000  \n",
              "...                        ...  \n",
              "6188             115129.891480  \n",
              "6189              76664.518280  \n",
              "6190                       NaN  \n",
              "6191              91907.692800  \n",
              "6192              50601.703360  \n",
              "\n",
              "[6193 rows x 48 columns]"
            ],
            "text/html": [
              "\n",
              "  <div id=\"df-d195cf35-6f26-4a7a-b9a3-bed185b6a43c\" class=\"colab-df-container\">\n",
              "    <div>\n",
              "<style scoped>\n",
              "    .dataframe tbody tr th:only-of-type {\n",
              "        vertical-align: middle;\n",
              "    }\n",
              "\n",
              "    .dataframe tbody tr th {\n",
              "        vertical-align: top;\n",
              "    }\n",
              "\n",
              "    .dataframe thead th {\n",
              "        text-align: right;\n",
              "    }\n",
              "</style>\n",
              "<table border=\"1\" class=\"dataframe\">\n",
              "  <thead>\n",
              "    <tr style=\"text-align: right;\">\n",
              "      <th></th>\n",
              "      <th>Unnamed: 0</th>\n",
              "      <th>CPTDRGCode</th>\n",
              "      <th>Description</th>\n",
              "      <th>Rev Code</th>\n",
              "      <th>Inpt_Oupt</th>\n",
              "      <th>Gross Charges</th>\n",
              "      <th>Discounted Cash Price</th>\n",
              "      <th>Aetna</th>\n",
              "      <th>Cigna</th>\n",
              "      <th>Empire Blue Cross Blue Shield</th>\n",
              "      <th>...</th>\n",
              "      <th>Consumer Health Network</th>\n",
              "      <th>Devon</th>\n",
              "      <th>Equian</th>\n",
              "      <th>First Health</th>\n",
              "      <th>Magnacare</th>\n",
              "      <th>Multiplan_Beechstreet_PHCS</th>\n",
              "      <th>QHM</th>\n",
              "      <th>Worldwide</th>\n",
              "      <th>Minimum Negotiated Charge</th>\n",
              "      <th>Maximum Negotiated Charge</th>\n",
              "    </tr>\n",
              "  </thead>\n",
              "  <tbody>\n",
              "    <tr>\n",
              "      <th>0</th>\n",
              "      <td>0</td>\n",
              "      <td>None</td>\n",
              "      <td>None</td>\n",
              "      <td>None</td>\n",
              "      <td>None</td>\n",
              "      <td>866.000000</td>\n",
              "      <td>866.000000</td>\n",
              "      <td>None</td>\n",
              "      <td>None</td>\n",
              "      <td>None</td>\n",
              "      <td>...</td>\n",
              "      <td>None</td>\n",
              "      <td>None</td>\n",
              "      <td>None</td>\n",
              "      <td>None</td>\n",
              "      <td>None</td>\n",
              "      <td>None</td>\n",
              "      <td>None</td>\n",
              "      <td>None</td>\n",
              "      <td>253.048250</td>\n",
              "      <td>1388.424000</td>\n",
              "    </tr>\n",
              "    <tr>\n",
              "      <th>1</th>\n",
              "      <td>1</td>\n",
              "      <td>None</td>\n",
              "      <td>None</td>\n",
              "      <td>None</td>\n",
              "      <td>None</td>\n",
              "      <td>358.000000</td>\n",
              "      <td>358.000000</td>\n",
              "      <td>None</td>\n",
              "      <td>None</td>\n",
              "      <td>None</td>\n",
              "      <td>...</td>\n",
              "      <td>None</td>\n",
              "      <td>None</td>\n",
              "      <td>None</td>\n",
              "      <td>None</td>\n",
              "      <td>None</td>\n",
              "      <td>None</td>\n",
              "      <td>None</td>\n",
              "      <td>None</td>\n",
              "      <td>51.903250</td>\n",
              "      <td>1990.891341</td>\n",
              "    </tr>\n",
              "    <tr>\n",
              "      <th>2</th>\n",
              "      <td>2</td>\n",
              "      <td>None</td>\n",
              "      <td>None</td>\n",
              "      <td>None</td>\n",
              "      <td>None</td>\n",
              "      <td>1397.000000</td>\n",
              "      <td>1397.000000</td>\n",
              "      <td>None</td>\n",
              "      <td>None</td>\n",
              "      <td>None</td>\n",
              "      <td>...</td>\n",
              "      <td>None</td>\n",
              "      <td>None</td>\n",
              "      <td>None</td>\n",
              "      <td>None</td>\n",
              "      <td>None</td>\n",
              "      <td>None</td>\n",
              "      <td>None</td>\n",
              "      <td>None</td>\n",
              "      <td>253.048250</td>\n",
              "      <td>1475.508000</td>\n",
              "    </tr>\n",
              "    <tr>\n",
              "      <th>3</th>\n",
              "      <td>3</td>\n",
              "      <td>None</td>\n",
              "      <td>None</td>\n",
              "      <td>None</td>\n",
              "      <td>None</td>\n",
              "      <td>480.000000</td>\n",
              "      <td>480.000000</td>\n",
              "      <td>None</td>\n",
              "      <td>None</td>\n",
              "      <td>None</td>\n",
              "      <td>...</td>\n",
              "      <td>None</td>\n",
              "      <td>None</td>\n",
              "      <td>None</td>\n",
              "      <td>None</td>\n",
              "      <td>None</td>\n",
              "      <td>None</td>\n",
              "      <td>None</td>\n",
              "      <td>None</td>\n",
              "      <td>82.650750</td>\n",
              "      <td>1325.120000</td>\n",
              "    </tr>\n",
              "    <tr>\n",
              "      <th>4</th>\n",
              "      <td>4</td>\n",
              "      <td>None</td>\n",
              "      <td>None</td>\n",
              "      <td>None</td>\n",
              "      <td>None</td>\n",
              "      <td>480.000000</td>\n",
              "      <td>480.000000</td>\n",
              "      <td>None</td>\n",
              "      <td>None</td>\n",
              "      <td>None</td>\n",
              "      <td>...</td>\n",
              "      <td>None</td>\n",
              "      <td>None</td>\n",
              "      <td>None</td>\n",
              "      <td>None</td>\n",
              "      <td>None</td>\n",
              "      <td>None</td>\n",
              "      <td>None</td>\n",
              "      <td>None</td>\n",
              "      <td>156.982800</td>\n",
              "      <td>1325.120000</td>\n",
              "    </tr>\n",
              "    <tr>\n",
              "      <th>...</th>\n",
              "      <td>...</td>\n",
              "      <td>...</td>\n",
              "      <td>...</td>\n",
              "      <td>...</td>\n",
              "      <td>...</td>\n",
              "      <td>...</td>\n",
              "      <td>...</td>\n",
              "      <td>...</td>\n",
              "      <td>...</td>\n",
              "      <td>...</td>\n",
              "      <td>...</td>\n",
              "      <td>...</td>\n",
              "      <td>...</td>\n",
              "      <td>...</td>\n",
              "      <td>...</td>\n",
              "      <td>...</td>\n",
              "      <td>...</td>\n",
              "      <td>...</td>\n",
              "      <td>...</td>\n",
              "      <td>...</td>\n",
              "      <td>...</td>\n",
              "    </tr>\n",
              "    <tr>\n",
              "      <th>6188</th>\n",
              "      <td>6188</td>\n",
              "      <td>None</td>\n",
              "      <td>None</td>\n",
              "      <td>None</td>\n",
              "      <td>None</td>\n",
              "      <td>184095.129020</td>\n",
              "      <td>184095.129020</td>\n",
              "      <td>None</td>\n",
              "      <td>None</td>\n",
              "      <td>None</td>\n",
              "      <td>...</td>\n",
              "      <td>None</td>\n",
              "      <td>None</td>\n",
              "      <td>None</td>\n",
              "      <td>None</td>\n",
              "      <td>None</td>\n",
              "      <td>None</td>\n",
              "      <td>None</td>\n",
              "      <td>None</td>\n",
              "      <td>12561.144027</td>\n",
              "      <td>115129.891480</td>\n",
              "    </tr>\n",
              "    <tr>\n",
              "      <th>6189</th>\n",
              "      <td>6189</td>\n",
              "      <td>None</td>\n",
              "      <td>None</td>\n",
              "      <td>None</td>\n",
              "      <td>None</td>\n",
              "      <td>85385.941857</td>\n",
              "      <td>85385.941857</td>\n",
              "      <td>None</td>\n",
              "      <td>None</td>\n",
              "      <td>None</td>\n",
              "      <td>...</td>\n",
              "      <td>None</td>\n",
              "      <td>None</td>\n",
              "      <td>None</td>\n",
              "      <td>None</td>\n",
              "      <td>None</td>\n",
              "      <td>None</td>\n",
              "      <td>None</td>\n",
              "      <td>None</td>\n",
              "      <td>7833.746854</td>\n",
              "      <td>76664.518280</td>\n",
              "    </tr>\n",
              "    <tr>\n",
              "      <th>6190</th>\n",
              "      <td>6190</td>\n",
              "      <td>None</td>\n",
              "      <td>None</td>\n",
              "      <td>None</td>\n",
              "      <td>None</td>\n",
              "      <td>NaN</td>\n",
              "      <td>NaN</td>\n",
              "      <td>None</td>\n",
              "      <td>None</td>\n",
              "      <td>None</td>\n",
              "      <td>...</td>\n",
              "      <td>None</td>\n",
              "      <td>None</td>\n",
              "      <td>None</td>\n",
              "      <td>None</td>\n",
              "      <td>None</td>\n",
              "      <td>None</td>\n",
              "      <td>None</td>\n",
              "      <td>None</td>\n",
              "      <td>NaN</td>\n",
              "      <td>NaN</td>\n",
              "    </tr>\n",
              "    <tr>\n",
              "      <th>6191</th>\n",
              "      <td>6191</td>\n",
              "      <td>None</td>\n",
              "      <td>None</td>\n",
              "      <td>None</td>\n",
              "      <td>None</td>\n",
              "      <td>126522.871140</td>\n",
              "      <td>126522.871140</td>\n",
              "      <td>None</td>\n",
              "      <td>None</td>\n",
              "      <td>None</td>\n",
              "      <td>...</td>\n",
              "      <td>None</td>\n",
              "      <td>None</td>\n",
              "      <td>None</td>\n",
              "      <td>None</td>\n",
              "      <td>None</td>\n",
              "      <td>None</td>\n",
              "      <td>None</td>\n",
              "      <td>None</td>\n",
              "      <td>10429.428059</td>\n",
              "      <td>91907.692800</td>\n",
              "    </tr>\n",
              "    <tr>\n",
              "      <th>6192</th>\n",
              "      <td>6192</td>\n",
              "      <td>None</td>\n",
              "      <td>None</td>\n",
              "      <td>None</td>\n",
              "      <td>None</td>\n",
              "      <td>77081.639496</td>\n",
              "      <td>77081.639496</td>\n",
              "      <td>None</td>\n",
              "      <td>None</td>\n",
              "      <td>None</td>\n",
              "      <td>...</td>\n",
              "      <td>None</td>\n",
              "      <td>None</td>\n",
              "      <td>None</td>\n",
              "      <td>None</td>\n",
              "      <td>None</td>\n",
              "      <td>None</td>\n",
              "      <td>None</td>\n",
              "      <td>None</td>\n",
              "      <td>5995.071552</td>\n",
              "      <td>50601.703360</td>\n",
              "    </tr>\n",
              "  </tbody>\n",
              "</table>\n",
              "<p>6193 rows × 48 columns</p>\n",
              "</div>\n",
              "    <div class=\"colab-df-buttons\">\n",
              "\n",
              "  <div class=\"colab-df-container\">\n",
              "    <button class=\"colab-df-convert\" onclick=\"convertToInteractive('df-d195cf35-6f26-4a7a-b9a3-bed185b6a43c')\"\n",
              "            title=\"Convert this dataframe to an interactive table.\"\n",
              "            style=\"display:none;\">\n",
              "\n",
              "  <svg xmlns=\"http://www.w3.org/2000/svg\" height=\"24px\" viewBox=\"0 -960 960 960\">\n",
              "    <path d=\"M120-120v-720h720v720H120Zm60-500h600v-160H180v160Zm220 220h160v-160H400v160Zm0 220h160v-160H400v160ZM180-400h160v-160H180v160Zm440 0h160v-160H620v160ZM180-180h160v-160H180v160Zm440 0h160v-160H620v160Z\"/>\n",
              "  </svg>\n",
              "    </button>\n",
              "\n",
              "  <style>\n",
              "    .colab-df-container {\n",
              "      display:flex;\n",
              "      gap: 12px;\n",
              "    }\n",
              "\n",
              "    .colab-df-convert {\n",
              "      background-color: #E8F0FE;\n",
              "      border: none;\n",
              "      border-radius: 50%;\n",
              "      cursor: pointer;\n",
              "      display: none;\n",
              "      fill: #1967D2;\n",
              "      height: 32px;\n",
              "      padding: 0 0 0 0;\n",
              "      width: 32px;\n",
              "    }\n",
              "\n",
              "    .colab-df-convert:hover {\n",
              "      background-color: #E2EBFA;\n",
              "      box-shadow: 0px 1px 2px rgba(60, 64, 67, 0.3), 0px 1px 3px 1px rgba(60, 64, 67, 0.15);\n",
              "      fill: #174EA6;\n",
              "    }\n",
              "\n",
              "    .colab-df-buttons div {\n",
              "      margin-bottom: 4px;\n",
              "    }\n",
              "\n",
              "    [theme=dark] .colab-df-convert {\n",
              "      background-color: #3B4455;\n",
              "      fill: #D2E3FC;\n",
              "    }\n",
              "\n",
              "    [theme=dark] .colab-df-convert:hover {\n",
              "      background-color: #434B5C;\n",
              "      box-shadow: 0px 1px 3px 1px rgba(0, 0, 0, 0.15);\n",
              "      filter: drop-shadow(0px 1px 2px rgba(0, 0, 0, 0.3));\n",
              "      fill: #FFFFFF;\n",
              "    }\n",
              "  </style>\n",
              "\n",
              "    <script>\n",
              "      const buttonEl =\n",
              "        document.querySelector('#df-d195cf35-6f26-4a7a-b9a3-bed185b6a43c button.colab-df-convert');\n",
              "      buttonEl.style.display =\n",
              "        google.colab.kernel.accessAllowed ? 'block' : 'none';\n",
              "\n",
              "      async function convertToInteractive(key) {\n",
              "        const element = document.querySelector('#df-d195cf35-6f26-4a7a-b9a3-bed185b6a43c');\n",
              "        const dataTable =\n",
              "          await google.colab.kernel.invokeFunction('convertToInteractive',\n",
              "                                                    [key], {});\n",
              "        if (!dataTable) return;\n",
              "\n",
              "        const docLinkHtml = 'Like what you see? Visit the ' +\n",
              "          '<a target=\"_blank\" href=https://colab.research.google.com/notebooks/data_table.ipynb>data table notebook</a>'\n",
              "          + ' to learn more about interactive tables.';\n",
              "        element.innerHTML = '';\n",
              "        dataTable['output_type'] = 'display_data';\n",
              "        await google.colab.output.renderOutput(dataTable, element);\n",
              "        const docLink = document.createElement('div');\n",
              "        docLink.innerHTML = docLinkHtml;\n",
              "        element.appendChild(docLink);\n",
              "      }\n",
              "    </script>\n",
              "  </div>\n",
              "\n",
              "\n",
              "<div id=\"df-69b1f55f-27b7-465f-a5de-159de01dbe39\">\n",
              "  <button class=\"colab-df-quickchart\" onclick=\"quickchart('df-69b1f55f-27b7-465f-a5de-159de01dbe39')\"\n",
              "            title=\"Suggest charts.\"\n",
              "            style=\"display:none;\">\n",
              "\n",
              "<svg xmlns=\"http://www.w3.org/2000/svg\" height=\"24px\"viewBox=\"0 0 24 24\"\n",
              "     width=\"24px\">\n",
              "    <g>\n",
              "        <path d=\"M19 3H5c-1.1 0-2 .9-2 2v14c0 1.1.9 2 2 2h14c1.1 0 2-.9 2-2V5c0-1.1-.9-2-2-2zM9 17H7v-7h2v7zm4 0h-2V7h2v10zm4 0h-2v-4h2v4z\"/>\n",
              "    </g>\n",
              "</svg>\n",
              "  </button>\n",
              "\n",
              "<style>\n",
              "  .colab-df-quickchart {\n",
              "      --bg-color: #E8F0FE;\n",
              "      --fill-color: #1967D2;\n",
              "      --hover-bg-color: #E2EBFA;\n",
              "      --hover-fill-color: #174EA6;\n",
              "      --disabled-fill-color: #AAA;\n",
              "      --disabled-bg-color: #DDD;\n",
              "  }\n",
              "\n",
              "  [theme=dark] .colab-df-quickchart {\n",
              "      --bg-color: #3B4455;\n",
              "      --fill-color: #D2E3FC;\n",
              "      --hover-bg-color: #434B5C;\n",
              "      --hover-fill-color: #FFFFFF;\n",
              "      --disabled-bg-color: #3B4455;\n",
              "      --disabled-fill-color: #666;\n",
              "  }\n",
              "\n",
              "  .colab-df-quickchart {\n",
              "    background-color: var(--bg-color);\n",
              "    border: none;\n",
              "    border-radius: 50%;\n",
              "    cursor: pointer;\n",
              "    display: none;\n",
              "    fill: var(--fill-color);\n",
              "    height: 32px;\n",
              "    padding: 0;\n",
              "    width: 32px;\n",
              "  }\n",
              "\n",
              "  .colab-df-quickchart:hover {\n",
              "    background-color: var(--hover-bg-color);\n",
              "    box-shadow: 0 1px 2px rgba(60, 64, 67, 0.3), 0 1px 3px 1px rgba(60, 64, 67, 0.15);\n",
              "    fill: var(--button-hover-fill-color);\n",
              "  }\n",
              "\n",
              "  .colab-df-quickchart-complete:disabled,\n",
              "  .colab-df-quickchart-complete:disabled:hover {\n",
              "    background-color: var(--disabled-bg-color);\n",
              "    fill: var(--disabled-fill-color);\n",
              "    box-shadow: none;\n",
              "  }\n",
              "\n",
              "  .colab-df-spinner {\n",
              "    border: 2px solid var(--fill-color);\n",
              "    border-color: transparent;\n",
              "    border-bottom-color: var(--fill-color);\n",
              "    animation:\n",
              "      spin 1s steps(1) infinite;\n",
              "  }\n",
              "\n",
              "  @keyframes spin {\n",
              "    0% {\n",
              "      border-color: transparent;\n",
              "      border-bottom-color: var(--fill-color);\n",
              "      border-left-color: var(--fill-color);\n",
              "    }\n",
              "    20% {\n",
              "      border-color: transparent;\n",
              "      border-left-color: var(--fill-color);\n",
              "      border-top-color: var(--fill-color);\n",
              "    }\n",
              "    30% {\n",
              "      border-color: transparent;\n",
              "      border-left-color: var(--fill-color);\n",
              "      border-top-color: var(--fill-color);\n",
              "      border-right-color: var(--fill-color);\n",
              "    }\n",
              "    40% {\n",
              "      border-color: transparent;\n",
              "      border-right-color: var(--fill-color);\n",
              "      border-top-color: var(--fill-color);\n",
              "    }\n",
              "    60% {\n",
              "      border-color: transparent;\n",
              "      border-right-color: var(--fill-color);\n",
              "    }\n",
              "    80% {\n",
              "      border-color: transparent;\n",
              "      border-right-color: var(--fill-color);\n",
              "      border-bottom-color: var(--fill-color);\n",
              "    }\n",
              "    90% {\n",
              "      border-color: transparent;\n",
              "      border-bottom-color: var(--fill-color);\n",
              "    }\n",
              "  }\n",
              "</style>\n",
              "\n",
              "  <script>\n",
              "    async function quickchart(key) {\n",
              "      const quickchartButtonEl =\n",
              "        document.querySelector('#' + key + ' button');\n",
              "      quickchartButtonEl.disabled = true;  // To prevent multiple clicks.\n",
              "      quickchartButtonEl.classList.add('colab-df-spinner');\n",
              "      try {\n",
              "        const charts = await google.colab.kernel.invokeFunction(\n",
              "            'suggestCharts', [key], {});\n",
              "      } catch (error) {\n",
              "        console.error('Error during call to suggestCharts:', error);\n",
              "      }\n",
              "      quickchartButtonEl.classList.remove('colab-df-spinner');\n",
              "      quickchartButtonEl.classList.add('colab-df-quickchart-complete');\n",
              "    }\n",
              "    (() => {\n",
              "      let quickchartButtonEl =\n",
              "        document.querySelector('#df-69b1f55f-27b7-465f-a5de-159de01dbe39 button');\n",
              "      quickchartButtonEl.style.display =\n",
              "        google.colab.kernel.accessAllowed ? 'block' : 'none';\n",
              "    })();\n",
              "  </script>\n",
              "</div>\n",
              "    </div>\n",
              "  </div>\n"
            ]
          },
          "metadata": {},
          "execution_count": 137
        }
      ]
    }
  ]
}
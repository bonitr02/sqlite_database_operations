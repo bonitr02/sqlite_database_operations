{
  "nbformat": 4,
  "nbformat_minor": 0,
  "metadata": {
    "colab": {
      "provenance": [],
      "collapsed_sections": [
        "-_wLOMSfLmE2",
        "zCAUuWR1K6Fn",
        "UyU2yq1vIdKn",
        "w2KlnVi1xENl"
      ],
      "authorship_tag": "ABX9TyPzkHc36sAG7P6/3kek1p3x",
      "include_colab_link": true
    },
    "kernelspec": {
      "name": "python3",
      "display_name": "Python 3"
    },
    "language_info": {
      "name": "python"
    }
  },
  "cells": [
    {
      "cell_type": "markdown",
      "metadata": {
        "id": "view-in-github",
        "colab_type": "text"
      },
      "source": [
        "<a href=\"https://colab.research.google.com/github/bonitr02/sqlite_database_operations/blob/main/hha504_assgn3.ipynb\" target=\"_parent\"><img src=\"https://colab.research.google.com/assets/colab-badge.svg\" alt=\"Open In Colab\"/></a>"
      ]
    },
    {
      "cell_type": "markdown",
      "source": [
        "## Load packages"
      ],
      "metadata": {
        "id": "gVfe3f_Huz_Q"
      }
    },
    {
      "cell_type": "code",
      "execution_count": 123,
      "metadata": {
        "colab": {
          "base_uri": "https://localhost:8080/"
        },
        "id": "pCjelQZlsVBx",
        "outputId": "1b5868bc-a4bd-4b55-d847-9df1dffc5572"
      },
      "outputs": [
        {
          "output_type": "stream",
          "name": "stdout",
          "text": [
            "Requirement already satisfied: sqlalchemy in /usr/local/lib/python3.10/dist-packages (2.0.20)\n",
            "Requirement already satisfied: typing-extensions>=4.2.0 in /usr/local/lib/python3.10/dist-packages (from sqlalchemy) (4.5.0)\n",
            "Requirement already satisfied: greenlet!=0.4.17 in /usr/local/lib/python3.10/dist-packages (from sqlalchemy) (2.0.2)\n"
          ]
        }
      ],
      "source": [
        "! pip install sqlalchemy\n",
        "from sqlalchemy import create_engine\n",
        "import sqlite3\n",
        "import pandas as pd\n",
        "from tabulate import tabulate\n",
        "import numpy as np\n",
        "import matplotlib.pyplot as plt\n",
        "import seaborn as sns\n",
        "import plotly.graph_objects as go\n",
        "from IPython import display"
      ]
    },
    {
      "cell_type": "markdown",
      "source": [
        "# Hospital Database 1: Mount Sinai Queens"
      ],
      "metadata": {
        "id": "Qpaf9Z5MIDdN"
      }
    },
    {
      "cell_type": "markdown",
      "source": [
        "## Import data Hospital 1"
      ],
      "metadata": {
        "id": "4LB-o5hOKQ5r"
      }
    },
    {
      "cell_type": "code",
      "execution_count": null,
      "metadata": {
        "colab": {
          "base_uri": "https://localhost:8080/"
        },
        "id": "Ve_InWCmJ7Db",
        "outputId": "fd0a6065-72df-471c-f130-4bae91d44e55"
      },
      "outputs": [
        {
          "output_type": "stream",
          "name": "stderr",
          "text": [
            "<ipython-input-30-00c9927208ca>:1: DtypeWarning: Columns (9,10,12,13,14,15,17,19,20,21,22,23,24,27,28,29,31,33,34,35,36,38,41,43,45,47,48,49,50,52) have mixed types. Specify dtype option on import or set low_memory=False.\n",
            "  df = pd.read_csv('/content/131624096_mount-sinai-queens_chargemaster.csv')\n"
          ]
        }
      ],
      "source": [
        "df = pd.read_csv('/content/131624096_mount-sinai-queens_chargemaster.csv')"
      ]
    },
    {
      "cell_type": "code",
      "source": [
        "df.shape\n",
        "#114893 rows and 55 columns"
      ],
      "metadata": {
        "colab": {
          "base_uri": "https://localhost:8080/"
        },
        "id": "wCtSL2CgNbDc",
        "outputId": "ef379515-ef27-41c6-ac17-74b27fbc88ae"
      },
      "execution_count": null,
      "outputs": [
        {
          "output_type": "execute_result",
          "data": {
            "text/plain": [
              "(114893, 55)"
            ]
          },
          "metadata": {},
          "execution_count": 31
        }
      ]
    },
    {
      "cell_type": "code",
      "source": [
        "df.head(10)"
      ],
      "metadata": {
        "colab": {
          "base_uri": "https://localhost:8080/",
          "height": 846
        },
        "id": "P_79z11NLvVm",
        "outputId": "ffbfe8ca-7190-4357-dcf3-744065366162"
      },
      "execution_count": null,
      "outputs": [
        {
          "output_type": "execute_result",
          "data": {
            "text/plain": [
              "   CHARGE CODE                     CHARGE DESC  \\\n",
              "0     10300300         NON ESRD HEMO INPT UNIT   \n",
              "1     10300500  NON ESRD HEMO ED IN DIALYS UNI   \n",
              "2     10300600             INPT CAPD TREATMENT   \n",
              "3     10300700     ESRD HEMO ED IN DIALYS UNIT   \n",
              "4     10300800             ESRD HEMO INPT UNIT   \n",
              "5     10301000    ESRD HEMO INPT DIALYSIS UNIT   \n",
              "6     10303200                CCPD CYCLER INPT   \n",
              "7     10303400  NONESRD ULTRAFLTR IP DIALY UNI   \n",
              "8     10304600        ESRD ULTRAFLTR INPT UNIT   \n",
              "9     10304700  ESRD ULTRAFLTR IP DIALYSIS UNI   \n",
              "\n",
              "            ALTERNATE DESCRIPTION  DEPARTMENT CODE DEPARTMENT NAME  \\\n",
              "0         NON ESRD HEMO INPT UNIT              103        DIALYSIS   \n",
              "1  NON ESRD HEMO ED IN DIALYS UNI              103        DIALYSIS   \n",
              "2             INPT CAPD TREATMENT              103        DIALYSIS   \n",
              "3     ESRD HEMO ED IN DIALYS UNIT              103        DIALYSIS   \n",
              "4             ESRD HEMO INPT UNIT              103        DIALYSIS   \n",
              "5    ESRD HEMO INPT DIALYSIS UNIT              103        DIALYSIS   \n",
              "6                CCPD CYCLER INPT              103        DIALYSIS   \n",
              "7  NONESRD ULTRAFLTR IP DIALY UNI              103        DIALYSIS   \n",
              "8        ESRD ULTRAFLTR INPT UNIT              103        DIALYSIS   \n",
              "9  ESRD ULTRAFLTR IP DIALYSIS UNI              103        DIALYSIS   \n",
              "\n",
              "  EFFECTIVE DATE  RATE CHARGED  TP RATE (340B) GENERAL CPT4 CODE  \\\n",
              "0        12/1/18        2150.0             0.0             90935   \n",
              "1        12/1/18        1500.0             0.0             90935   \n",
              "2         1/1/19        1150.0             0.0             90945   \n",
              "3        12/1/18        1500.0             0.0             G0257   \n",
              "4        12/1/18        1700.0             0.0             90935   \n",
              "5        12/1/18        1500.0             0.0             90935   \n",
              "6         1/1/19        1150.0             0.0             90945   \n",
              "7        12/1/18        1150.0             0.0             90945   \n",
              "8         1/1/19        1150.0             0.0             90945   \n",
              "9        12/1/18        1150.0             0.0             90945   \n",
              "\n",
              "  GENERAL MODIFER 1  ... BC IP MODIFIER2 EFF DATE  BC OP REV CODE  \\\n",
              "0               NaN  ...                      NaN             NaN   \n",
              "1               NaN  ...                      NaN             NaN   \n",
              "2               NaN  ...                      NaN             NaN   \n",
              "3               NaN  ...                      NaN             NaN   \n",
              "4               NaN  ...                      NaN             NaN   \n",
              "5               NaN  ...                      NaN             NaN   \n",
              "6               NaN  ...                      NaN             NaN   \n",
              "7               NaN  ...                      NaN             NaN   \n",
              "8               NaN  ...                      NaN             NaN   \n",
              "9               NaN  ...                      NaN             NaN   \n",
              "\n",
              "  BC OP HCPCS CODE BC OP HCPCS EFF DATE BC OP MODIFIER1  \\\n",
              "0              NaN                  NaN             NaN   \n",
              "1              NaN                  NaN             NaN   \n",
              "2              NaN                  NaN             NaN   \n",
              "3              NaN                  NaN             NaN   \n",
              "4              NaN                  NaN             NaN   \n",
              "5              NaN                  NaN             NaN   \n",
              "6              NaN                  NaN             NaN   \n",
              "7              NaN                  NaN             NaN   \n",
              "8              NaN                  NaN             NaN   \n",
              "9              NaN                  NaN             NaN   \n",
              "\n",
              "  BC OP MODIFIER1 EFF DATE  BC OP MODIFIER2 BC OP MODIFIER2 EFF DATE  \\\n",
              "0                      NaN              NaN                      NaN   \n",
              "1                      NaN              NaN                      NaN   \n",
              "2                      NaN              NaN                      NaN   \n",
              "3                      NaN              NaN                      NaN   \n",
              "4                      NaN              NaN                      NaN   \n",
              "5                      NaN              NaN                      NaN   \n",
              "6                      NaN              NaN                      NaN   \n",
              "7                      NaN              NaN                      NaN   \n",
              "8                      NaN              NaN                      NaN   \n",
              "9                      NaN              NaN                      NaN   \n",
              "\n",
              "   REVENUE CODE INPATIENT REVENUE CODE OUTPATIENT  \n",
              "0                   801.0                   801.0  \n",
              "1                   821.0                   821.0  \n",
              "2                   803.0                   803.0  \n",
              "3                   821.0                   821.0  \n",
              "4                   801.0                   801.0  \n",
              "5                   801.0                   801.0  \n",
              "6                   804.0                   804.0  \n",
              "7                   881.0                   881.0  \n",
              "8                   881.0                   881.0  \n",
              "9                   881.0                   881.0  \n",
              "\n",
              "[10 rows x 55 columns]"
            ],
            "text/html": [
              "\n",
              "  <div id=\"df-12d6370c-f10a-4ff7-9810-84193537623d\" class=\"colab-df-container\">\n",
              "    <div>\n",
              "<style scoped>\n",
              "    .dataframe tbody tr th:only-of-type {\n",
              "        vertical-align: middle;\n",
              "    }\n",
              "\n",
              "    .dataframe tbody tr th {\n",
              "        vertical-align: top;\n",
              "    }\n",
              "\n",
              "    .dataframe thead th {\n",
              "        text-align: right;\n",
              "    }\n",
              "</style>\n",
              "<table border=\"1\" class=\"dataframe\">\n",
              "  <thead>\n",
              "    <tr style=\"text-align: right;\">\n",
              "      <th></th>\n",
              "      <th>CHARGE CODE</th>\n",
              "      <th>CHARGE DESC</th>\n",
              "      <th>ALTERNATE DESCRIPTION</th>\n",
              "      <th>DEPARTMENT CODE</th>\n",
              "      <th>DEPARTMENT NAME</th>\n",
              "      <th>EFFECTIVE DATE</th>\n",
              "      <th>RATE CHARGED</th>\n",
              "      <th>TP RATE (340B)</th>\n",
              "      <th>GENERAL CPT4 CODE</th>\n",
              "      <th>GENERAL MODIFER 1</th>\n",
              "      <th>...</th>\n",
              "      <th>BC IP MODIFIER2 EFF DATE</th>\n",
              "      <th>BC OP REV CODE</th>\n",
              "      <th>BC OP HCPCS CODE</th>\n",
              "      <th>BC OP HCPCS EFF DATE</th>\n",
              "      <th>BC OP MODIFIER1</th>\n",
              "      <th>BC OP MODIFIER1 EFF DATE</th>\n",
              "      <th>BC OP MODIFIER2</th>\n",
              "      <th>BC OP MODIFIER2 EFF DATE</th>\n",
              "      <th>REVENUE CODE INPATIENT</th>\n",
              "      <th>REVENUE CODE OUTPATIENT</th>\n",
              "    </tr>\n",
              "  </thead>\n",
              "  <tbody>\n",
              "    <tr>\n",
              "      <th>0</th>\n",
              "      <td>10300300</td>\n",
              "      <td>NON ESRD HEMO INPT UNIT</td>\n",
              "      <td>NON ESRD HEMO INPT UNIT</td>\n",
              "      <td>103</td>\n",
              "      <td>DIALYSIS</td>\n",
              "      <td>12/1/18</td>\n",
              "      <td>2150.0</td>\n",
              "      <td>0.0</td>\n",
              "      <td>90935</td>\n",
              "      <td>NaN</td>\n",
              "      <td>...</td>\n",
              "      <td>NaN</td>\n",
              "      <td>NaN</td>\n",
              "      <td>NaN</td>\n",
              "      <td>NaN</td>\n",
              "      <td>NaN</td>\n",
              "      <td>NaN</td>\n",
              "      <td>NaN</td>\n",
              "      <td>NaN</td>\n",
              "      <td>801.0</td>\n",
              "      <td>801.0</td>\n",
              "    </tr>\n",
              "    <tr>\n",
              "      <th>1</th>\n",
              "      <td>10300500</td>\n",
              "      <td>NON ESRD HEMO ED IN DIALYS UNI</td>\n",
              "      <td>NON ESRD HEMO ED IN DIALYS UNI</td>\n",
              "      <td>103</td>\n",
              "      <td>DIALYSIS</td>\n",
              "      <td>12/1/18</td>\n",
              "      <td>1500.0</td>\n",
              "      <td>0.0</td>\n",
              "      <td>90935</td>\n",
              "      <td>NaN</td>\n",
              "      <td>...</td>\n",
              "      <td>NaN</td>\n",
              "      <td>NaN</td>\n",
              "      <td>NaN</td>\n",
              "      <td>NaN</td>\n",
              "      <td>NaN</td>\n",
              "      <td>NaN</td>\n",
              "      <td>NaN</td>\n",
              "      <td>NaN</td>\n",
              "      <td>821.0</td>\n",
              "      <td>821.0</td>\n",
              "    </tr>\n",
              "    <tr>\n",
              "      <th>2</th>\n",
              "      <td>10300600</td>\n",
              "      <td>INPT CAPD TREATMENT</td>\n",
              "      <td>INPT CAPD TREATMENT</td>\n",
              "      <td>103</td>\n",
              "      <td>DIALYSIS</td>\n",
              "      <td>1/1/19</td>\n",
              "      <td>1150.0</td>\n",
              "      <td>0.0</td>\n",
              "      <td>90945</td>\n",
              "      <td>NaN</td>\n",
              "      <td>...</td>\n",
              "      <td>NaN</td>\n",
              "      <td>NaN</td>\n",
              "      <td>NaN</td>\n",
              "      <td>NaN</td>\n",
              "      <td>NaN</td>\n",
              "      <td>NaN</td>\n",
              "      <td>NaN</td>\n",
              "      <td>NaN</td>\n",
              "      <td>803.0</td>\n",
              "      <td>803.0</td>\n",
              "    </tr>\n",
              "    <tr>\n",
              "      <th>3</th>\n",
              "      <td>10300700</td>\n",
              "      <td>ESRD HEMO ED IN DIALYS UNIT</td>\n",
              "      <td>ESRD HEMO ED IN DIALYS UNIT</td>\n",
              "      <td>103</td>\n",
              "      <td>DIALYSIS</td>\n",
              "      <td>12/1/18</td>\n",
              "      <td>1500.0</td>\n",
              "      <td>0.0</td>\n",
              "      <td>G0257</td>\n",
              "      <td>NaN</td>\n",
              "      <td>...</td>\n",
              "      <td>NaN</td>\n",
              "      <td>NaN</td>\n",
              "      <td>NaN</td>\n",
              "      <td>NaN</td>\n",
              "      <td>NaN</td>\n",
              "      <td>NaN</td>\n",
              "      <td>NaN</td>\n",
              "      <td>NaN</td>\n",
              "      <td>821.0</td>\n",
              "      <td>821.0</td>\n",
              "    </tr>\n",
              "    <tr>\n",
              "      <th>4</th>\n",
              "      <td>10300800</td>\n",
              "      <td>ESRD HEMO INPT UNIT</td>\n",
              "      <td>ESRD HEMO INPT UNIT</td>\n",
              "      <td>103</td>\n",
              "      <td>DIALYSIS</td>\n",
              "      <td>12/1/18</td>\n",
              "      <td>1700.0</td>\n",
              "      <td>0.0</td>\n",
              "      <td>90935</td>\n",
              "      <td>NaN</td>\n",
              "      <td>...</td>\n",
              "      <td>NaN</td>\n",
              "      <td>NaN</td>\n",
              "      <td>NaN</td>\n",
              "      <td>NaN</td>\n",
              "      <td>NaN</td>\n",
              "      <td>NaN</td>\n",
              "      <td>NaN</td>\n",
              "      <td>NaN</td>\n",
              "      <td>801.0</td>\n",
              "      <td>801.0</td>\n",
              "    </tr>\n",
              "    <tr>\n",
              "      <th>5</th>\n",
              "      <td>10301000</td>\n",
              "      <td>ESRD HEMO INPT DIALYSIS UNIT</td>\n",
              "      <td>ESRD HEMO INPT DIALYSIS UNIT</td>\n",
              "      <td>103</td>\n",
              "      <td>DIALYSIS</td>\n",
              "      <td>12/1/18</td>\n",
              "      <td>1500.0</td>\n",
              "      <td>0.0</td>\n",
              "      <td>90935</td>\n",
              "      <td>NaN</td>\n",
              "      <td>...</td>\n",
              "      <td>NaN</td>\n",
              "      <td>NaN</td>\n",
              "      <td>NaN</td>\n",
              "      <td>NaN</td>\n",
              "      <td>NaN</td>\n",
              "      <td>NaN</td>\n",
              "      <td>NaN</td>\n",
              "      <td>NaN</td>\n",
              "      <td>801.0</td>\n",
              "      <td>801.0</td>\n",
              "    </tr>\n",
              "    <tr>\n",
              "      <th>6</th>\n",
              "      <td>10303200</td>\n",
              "      <td>CCPD CYCLER INPT</td>\n",
              "      <td>CCPD CYCLER INPT</td>\n",
              "      <td>103</td>\n",
              "      <td>DIALYSIS</td>\n",
              "      <td>1/1/19</td>\n",
              "      <td>1150.0</td>\n",
              "      <td>0.0</td>\n",
              "      <td>90945</td>\n",
              "      <td>NaN</td>\n",
              "      <td>...</td>\n",
              "      <td>NaN</td>\n",
              "      <td>NaN</td>\n",
              "      <td>NaN</td>\n",
              "      <td>NaN</td>\n",
              "      <td>NaN</td>\n",
              "      <td>NaN</td>\n",
              "      <td>NaN</td>\n",
              "      <td>NaN</td>\n",
              "      <td>804.0</td>\n",
              "      <td>804.0</td>\n",
              "    </tr>\n",
              "    <tr>\n",
              "      <th>7</th>\n",
              "      <td>10303400</td>\n",
              "      <td>NONESRD ULTRAFLTR IP DIALY UNI</td>\n",
              "      <td>NONESRD ULTRAFLTR IP DIALY UNI</td>\n",
              "      <td>103</td>\n",
              "      <td>DIALYSIS</td>\n",
              "      <td>12/1/18</td>\n",
              "      <td>1150.0</td>\n",
              "      <td>0.0</td>\n",
              "      <td>90945</td>\n",
              "      <td>NaN</td>\n",
              "      <td>...</td>\n",
              "      <td>NaN</td>\n",
              "      <td>NaN</td>\n",
              "      <td>NaN</td>\n",
              "      <td>NaN</td>\n",
              "      <td>NaN</td>\n",
              "      <td>NaN</td>\n",
              "      <td>NaN</td>\n",
              "      <td>NaN</td>\n",
              "      <td>881.0</td>\n",
              "      <td>881.0</td>\n",
              "    </tr>\n",
              "    <tr>\n",
              "      <th>8</th>\n",
              "      <td>10304600</td>\n",
              "      <td>ESRD ULTRAFLTR INPT UNIT</td>\n",
              "      <td>ESRD ULTRAFLTR INPT UNIT</td>\n",
              "      <td>103</td>\n",
              "      <td>DIALYSIS</td>\n",
              "      <td>1/1/19</td>\n",
              "      <td>1150.0</td>\n",
              "      <td>0.0</td>\n",
              "      <td>90945</td>\n",
              "      <td>NaN</td>\n",
              "      <td>...</td>\n",
              "      <td>NaN</td>\n",
              "      <td>NaN</td>\n",
              "      <td>NaN</td>\n",
              "      <td>NaN</td>\n",
              "      <td>NaN</td>\n",
              "      <td>NaN</td>\n",
              "      <td>NaN</td>\n",
              "      <td>NaN</td>\n",
              "      <td>881.0</td>\n",
              "      <td>881.0</td>\n",
              "    </tr>\n",
              "    <tr>\n",
              "      <th>9</th>\n",
              "      <td>10304700</td>\n",
              "      <td>ESRD ULTRAFLTR IP DIALYSIS UNI</td>\n",
              "      <td>ESRD ULTRAFLTR IP DIALYSIS UNI</td>\n",
              "      <td>103</td>\n",
              "      <td>DIALYSIS</td>\n",
              "      <td>12/1/18</td>\n",
              "      <td>1150.0</td>\n",
              "      <td>0.0</td>\n",
              "      <td>90945</td>\n",
              "      <td>NaN</td>\n",
              "      <td>...</td>\n",
              "      <td>NaN</td>\n",
              "      <td>NaN</td>\n",
              "      <td>NaN</td>\n",
              "      <td>NaN</td>\n",
              "      <td>NaN</td>\n",
              "      <td>NaN</td>\n",
              "      <td>NaN</td>\n",
              "      <td>NaN</td>\n",
              "      <td>881.0</td>\n",
              "      <td>881.0</td>\n",
              "    </tr>\n",
              "  </tbody>\n",
              "</table>\n",
              "<p>10 rows × 55 columns</p>\n",
              "</div>\n",
              "    <div class=\"colab-df-buttons\">\n",
              "\n",
              "  <div class=\"colab-df-container\">\n",
              "    <button class=\"colab-df-convert\" onclick=\"convertToInteractive('df-12d6370c-f10a-4ff7-9810-84193537623d')\"\n",
              "            title=\"Convert this dataframe to an interactive table.\"\n",
              "            style=\"display:none;\">\n",
              "\n",
              "  <svg xmlns=\"http://www.w3.org/2000/svg\" height=\"24px\" viewBox=\"0 -960 960 960\">\n",
              "    <path d=\"M120-120v-720h720v720H120Zm60-500h600v-160H180v160Zm220 220h160v-160H400v160Zm0 220h160v-160H400v160ZM180-400h160v-160H180v160Zm440 0h160v-160H620v160ZM180-180h160v-160H180v160Zm440 0h160v-160H620v160Z\"/>\n",
              "  </svg>\n",
              "    </button>\n",
              "\n",
              "  <style>\n",
              "    .colab-df-container {\n",
              "      display:flex;\n",
              "      gap: 12px;\n",
              "    }\n",
              "\n",
              "    .colab-df-convert {\n",
              "      background-color: #E8F0FE;\n",
              "      border: none;\n",
              "      border-radius: 50%;\n",
              "      cursor: pointer;\n",
              "      display: none;\n",
              "      fill: #1967D2;\n",
              "      height: 32px;\n",
              "      padding: 0 0 0 0;\n",
              "      width: 32px;\n",
              "    }\n",
              "\n",
              "    .colab-df-convert:hover {\n",
              "      background-color: #E2EBFA;\n",
              "      box-shadow: 0px 1px 2px rgba(60, 64, 67, 0.3), 0px 1px 3px 1px rgba(60, 64, 67, 0.15);\n",
              "      fill: #174EA6;\n",
              "    }\n",
              "\n",
              "    .colab-df-buttons div {\n",
              "      margin-bottom: 4px;\n",
              "    }\n",
              "\n",
              "    [theme=dark] .colab-df-convert {\n",
              "      background-color: #3B4455;\n",
              "      fill: #D2E3FC;\n",
              "    }\n",
              "\n",
              "    [theme=dark] .colab-df-convert:hover {\n",
              "      background-color: #434B5C;\n",
              "      box-shadow: 0px 1px 3px 1px rgba(0, 0, 0, 0.15);\n",
              "      filter: drop-shadow(0px 1px 2px rgba(0, 0, 0, 0.3));\n",
              "      fill: #FFFFFF;\n",
              "    }\n",
              "  </style>\n",
              "\n",
              "    <script>\n",
              "      const buttonEl =\n",
              "        document.querySelector('#df-12d6370c-f10a-4ff7-9810-84193537623d button.colab-df-convert');\n",
              "      buttonEl.style.display =\n",
              "        google.colab.kernel.accessAllowed ? 'block' : 'none';\n",
              "\n",
              "      async function convertToInteractive(key) {\n",
              "        const element = document.querySelector('#df-12d6370c-f10a-4ff7-9810-84193537623d');\n",
              "        const dataTable =\n",
              "          await google.colab.kernel.invokeFunction('convertToInteractive',\n",
              "                                                    [key], {});\n",
              "        if (!dataTable) return;\n",
              "\n",
              "        const docLinkHtml = 'Like what you see? Visit the ' +\n",
              "          '<a target=\"_blank\" href=https://colab.research.google.com/notebooks/data_table.ipynb>data table notebook</a>'\n",
              "          + ' to learn more about interactive tables.';\n",
              "        element.innerHTML = '';\n",
              "        dataTable['output_type'] = 'display_data';\n",
              "        await google.colab.output.renderOutput(dataTable, element);\n",
              "        const docLink = document.createElement('div');\n",
              "        docLink.innerHTML = docLinkHtml;\n",
              "        element.appendChild(docLink);\n",
              "      }\n",
              "    </script>\n",
              "  </div>\n",
              "\n",
              "\n",
              "<div id=\"df-b5114fed-ad17-4dfb-b7c7-981ea4b01014\">\n",
              "  <button class=\"colab-df-quickchart\" onclick=\"quickchart('df-b5114fed-ad17-4dfb-b7c7-981ea4b01014')\"\n",
              "            title=\"Suggest charts.\"\n",
              "            style=\"display:none;\">\n",
              "\n",
              "<svg xmlns=\"http://www.w3.org/2000/svg\" height=\"24px\"viewBox=\"0 0 24 24\"\n",
              "     width=\"24px\">\n",
              "    <g>\n",
              "        <path d=\"M19 3H5c-1.1 0-2 .9-2 2v14c0 1.1.9 2 2 2h14c1.1 0 2-.9 2-2V5c0-1.1-.9-2-2-2zM9 17H7v-7h2v7zm4 0h-2V7h2v10zm4 0h-2v-4h2v4z\"/>\n",
              "    </g>\n",
              "</svg>\n",
              "  </button>\n",
              "\n",
              "<style>\n",
              "  .colab-df-quickchart {\n",
              "      --bg-color: #E8F0FE;\n",
              "      --fill-color: #1967D2;\n",
              "      --hover-bg-color: #E2EBFA;\n",
              "      --hover-fill-color: #174EA6;\n",
              "      --disabled-fill-color: #AAA;\n",
              "      --disabled-bg-color: #DDD;\n",
              "  }\n",
              "\n",
              "  [theme=dark] .colab-df-quickchart {\n",
              "      --bg-color: #3B4455;\n",
              "      --fill-color: #D2E3FC;\n",
              "      --hover-bg-color: #434B5C;\n",
              "      --hover-fill-color: #FFFFFF;\n",
              "      --disabled-bg-color: #3B4455;\n",
              "      --disabled-fill-color: #666;\n",
              "  }\n",
              "\n",
              "  .colab-df-quickchart {\n",
              "    background-color: var(--bg-color);\n",
              "    border: none;\n",
              "    border-radius: 50%;\n",
              "    cursor: pointer;\n",
              "    display: none;\n",
              "    fill: var(--fill-color);\n",
              "    height: 32px;\n",
              "    padding: 0;\n",
              "    width: 32px;\n",
              "  }\n",
              "\n",
              "  .colab-df-quickchart:hover {\n",
              "    background-color: var(--hover-bg-color);\n",
              "    box-shadow: 0 1px 2px rgba(60, 64, 67, 0.3), 0 1px 3px 1px rgba(60, 64, 67, 0.15);\n",
              "    fill: var(--button-hover-fill-color);\n",
              "  }\n",
              "\n",
              "  .colab-df-quickchart-complete:disabled,\n",
              "  .colab-df-quickchart-complete:disabled:hover {\n",
              "    background-color: var(--disabled-bg-color);\n",
              "    fill: var(--disabled-fill-color);\n",
              "    box-shadow: none;\n",
              "  }\n",
              "\n",
              "  .colab-df-spinner {\n",
              "    border: 2px solid var(--fill-color);\n",
              "    border-color: transparent;\n",
              "    border-bottom-color: var(--fill-color);\n",
              "    animation:\n",
              "      spin 1s steps(1) infinite;\n",
              "  }\n",
              "\n",
              "  @keyframes spin {\n",
              "    0% {\n",
              "      border-color: transparent;\n",
              "      border-bottom-color: var(--fill-color);\n",
              "      border-left-color: var(--fill-color);\n",
              "    }\n",
              "    20% {\n",
              "      border-color: transparent;\n",
              "      border-left-color: var(--fill-color);\n",
              "      border-top-color: var(--fill-color);\n",
              "    }\n",
              "    30% {\n",
              "      border-color: transparent;\n",
              "      border-left-color: var(--fill-color);\n",
              "      border-top-color: var(--fill-color);\n",
              "      border-right-color: var(--fill-color);\n",
              "    }\n",
              "    40% {\n",
              "      border-color: transparent;\n",
              "      border-right-color: var(--fill-color);\n",
              "      border-top-color: var(--fill-color);\n",
              "    }\n",
              "    60% {\n",
              "      border-color: transparent;\n",
              "      border-right-color: var(--fill-color);\n",
              "    }\n",
              "    80% {\n",
              "      border-color: transparent;\n",
              "      border-right-color: var(--fill-color);\n",
              "      border-bottom-color: var(--fill-color);\n",
              "    }\n",
              "    90% {\n",
              "      border-color: transparent;\n",
              "      border-bottom-color: var(--fill-color);\n",
              "    }\n",
              "  }\n",
              "</style>\n",
              "\n",
              "  <script>\n",
              "    async function quickchart(key) {\n",
              "      const quickchartButtonEl =\n",
              "        document.querySelector('#' + key + ' button');\n",
              "      quickchartButtonEl.disabled = true;  // To prevent multiple clicks.\n",
              "      quickchartButtonEl.classList.add('colab-df-spinner');\n",
              "      try {\n",
              "        const charts = await google.colab.kernel.invokeFunction(\n",
              "            'suggestCharts', [key], {});\n",
              "      } catch (error) {\n",
              "        console.error('Error during call to suggestCharts:', error);\n",
              "      }\n",
              "      quickchartButtonEl.classList.remove('colab-df-spinner');\n",
              "      quickchartButtonEl.classList.add('colab-df-quickchart-complete');\n",
              "    }\n",
              "    (() => {\n",
              "      let quickchartButtonEl =\n",
              "        document.querySelector('#df-b5114fed-ad17-4dfb-b7c7-981ea4b01014 button');\n",
              "      quickchartButtonEl.style.display =\n",
              "        google.colab.kernel.accessAllowed ? 'block' : 'none';\n",
              "    })();\n",
              "  </script>\n",
              "</div>\n",
              "    </div>\n",
              "  </div>\n"
            ]
          },
          "metadata": {},
          "execution_count": 34
        }
      ]
    },
    {
      "cell_type": "code",
      "source": [
        "df.columns"
      ],
      "metadata": {
        "id": "nuCMbx2bLgbE"
      },
      "execution_count": null,
      "outputs": []
    },
    {
      "cell_type": "markdown",
      "source": [
        "## Data cleaning Hospital 1\n",
        "\n"
      ],
      "metadata": {
        "id": "-_wLOMSfLmE2"
      }
    },
    {
      "cell_type": "code",
      "source": [
        "# Drop empty columns\n",
        "df.dropna(how='all', axis=1, inplace=True)\n",
        "print(df)\n",
        "\n",
        "#Results in 114893 rows and 48 columns"
      ],
      "metadata": {
        "id": "l7D0MF-QNlkK"
      },
      "execution_count": null,
      "outputs": []
    },
    {
      "cell_type": "code",
      "source": [
        "# Check for missing values in a column\n",
        "print(df.isnull().sum())\n",
        "# Results in only a few columns not missing values: CHARGE CODE, CHARGE DESC, ALTERNATE DESCRIPTION, DEPARTMENT CODE, DEPARTMENT NAME, EFFECTIVE DATE, RATE CHARGED, TP RATE (340B), REVENUE CODE INPATIENT, REVENUE CODE OUTPATIENT"
      ],
      "metadata": {
        "id": "xDMsAyuzQbun"
      },
      "execution_count": null,
      "outputs": []
    },
    {
      "cell_type": "code",
      "source": [
        "df.drop_duplicates(inplace=True)\n",
        "# No duplicate rows identified"
      ],
      "metadata": {
        "id": "BZdrEUqkQmIJ"
      },
      "execution_count": null,
      "outputs": []
    },
    {
      "cell_type": "code",
      "source": [
        "#Rename columns\n",
        "newDF=df.rename(columns={'CHARGE CODE': 'CHARGEcode', 'CHARGE DESC':'CHARGEdesc', 'ALTERNATE DESCRIPTION': 'ALTdesc', 'DEPARTMENT CODE':'DEPTcode', 'DEPARTMENT NAME':'DEPTname', 'EFFECTIVE DATE':'EFFECTIVEdate', 'RATE CHARGED':'RATEcharged', \"TP RATE (340B)\":'TP_RATE_340B', 'REVENUE CODE INPATIENT':'REVENUEcodeINPT', 'REVENUE CODE OUTPATIENT':'REVENUEcodeOPT'})"
      ],
      "metadata": {
        "id": "wOBhCLFOQl_h"
      },
      "execution_count": null,
      "outputs": []
    },
    {
      "cell_type": "code",
      "source": [
        "print(newDF)"
      ],
      "metadata": {
        "id": "iBoCjXloWLJB"
      },
      "execution_count": null,
      "outputs": []
    },
    {
      "cell_type": "code",
      "source": [
        "df_msq=newDF[['CHARGEcode','CHARGEdesc','ALTdesc','DEPTcode','DEPTname','EFFECTIVEdate','RATEcharged','REVENUEcodeINPT','REVENUEcodeOPT']]"
      ],
      "metadata": {
        "id": "_TBdJ10oQhlw"
      },
      "execution_count": null,
      "outputs": []
    },
    {
      "cell_type": "code",
      "source": [
        "df_msq.to_csv('/content/cleaned_mount-sinai-queens_chargemaster.csv')"
      ],
      "metadata": {
        "id": "e-LEXU3_UDuW"
      },
      "execution_count": null,
      "outputs": []
    },
    {
      "cell_type": "markdown",
      "source": [
        "## Exploratory Analysis Hospital 1\n",
        "\n"
      ],
      "metadata": {
        "id": "f_-UkbPlXTUv"
      }
    },
    {
      "cell_type": "markdown",
      "source": [
        "#### Observations:\n",
        "\n",
        "A lot of missing columns and values; created new dataframe with clean data to remove null values\n",
        "\n",
        "The prescence of outliers created an almost unreadable graph - removed outliers greater than 3 standard deviations"
      ],
      "metadata": {
        "id": "8_YK9FxWjPEl"
      }
    },
    {
      "cell_type": "code",
      "source": [
        "df_msq.dtypes"
      ],
      "metadata": {
        "colab": {
          "base_uri": "https://localhost:8080/"
        },
        "id": "T6GxZYmoX6mI",
        "outputId": "e78dde1d-d902-4ef1-fac8-bd0330357356"
      },
      "execution_count": null,
      "outputs": [
        {
          "output_type": "execute_result",
          "data": {
            "text/plain": [
              "CHARGEcode          object\n",
              "CHARGEdesc          object\n",
              "ALTdesc             object\n",
              "DEPTcode            object\n",
              "DEPTname            object\n",
              "EFFECTIVEdate       object\n",
              "RATEcharged        float64\n",
              "REVENUEcodeINPT     object\n",
              "REVENUEcodeOPT      object\n",
              "dtype: object"
            ]
          },
          "metadata": {},
          "execution_count": 72
        }
      ]
    },
    {
      "cell_type": "code",
      "source": [
        "# Convert columns to strings\n",
        "df_msq['CHARGEcode'] = df_msq['CHARGEcode'].apply(str)\n",
        "df_msq['DEPTcode'] = df_msq['DEPTcode'].apply(str)\n",
        "df_msq['REVENUEcodeINPT'] = df_msq['REVENUEcodeINPT'].apply(str)\n",
        "df_msq['REVENUEcodeOPT'] = df_msq['REVENUEcodeOPT'].apply(str)"
      ],
      "metadata": {
        "id": "w-RE8Z-WYHj-"
      },
      "execution_count": null,
      "outputs": []
    },
    {
      "cell_type": "code",
      "source": [
        "df_msq.describe()"
      ],
      "metadata": {
        "colab": {
          "base_uri": "https://localhost:8080/",
          "height": 300
        },
        "id": "vUo7MxRIYDeP",
        "outputId": "0228f44f-9c3b-4cd6-99df-ddd0432e1723"
      },
      "execution_count": null,
      "outputs": [
        {
          "output_type": "execute_result",
          "data": {
            "text/plain": [
              "         RATEcharged\n",
              "count  114893.000000\n",
              "mean     2051.366813\n",
              "std      4404.024927\n",
              "min         0.000000\n",
              "25%       164.630000\n",
              "50%       636.180000\n",
              "75%      2226.000000\n",
              "max    318000.000000"
            ],
            "text/html": [
              "\n",
              "  <div id=\"df-c73771e1-e542-491b-bd9b-fc436397b10b\" class=\"colab-df-container\">\n",
              "    <div>\n",
              "<style scoped>\n",
              "    .dataframe tbody tr th:only-of-type {\n",
              "        vertical-align: middle;\n",
              "    }\n",
              "\n",
              "    .dataframe tbody tr th {\n",
              "        vertical-align: top;\n",
              "    }\n",
              "\n",
              "    .dataframe thead th {\n",
              "        text-align: right;\n",
              "    }\n",
              "</style>\n",
              "<table border=\"1\" class=\"dataframe\">\n",
              "  <thead>\n",
              "    <tr style=\"text-align: right;\">\n",
              "      <th></th>\n",
              "      <th>RATEcharged</th>\n",
              "    </tr>\n",
              "  </thead>\n",
              "  <tbody>\n",
              "    <tr>\n",
              "      <th>count</th>\n",
              "      <td>114893.000000</td>\n",
              "    </tr>\n",
              "    <tr>\n",
              "      <th>mean</th>\n",
              "      <td>2051.366813</td>\n",
              "    </tr>\n",
              "    <tr>\n",
              "      <th>std</th>\n",
              "      <td>4404.024927</td>\n",
              "    </tr>\n",
              "    <tr>\n",
              "      <th>min</th>\n",
              "      <td>0.000000</td>\n",
              "    </tr>\n",
              "    <tr>\n",
              "      <th>25%</th>\n",
              "      <td>164.630000</td>\n",
              "    </tr>\n",
              "    <tr>\n",
              "      <th>50%</th>\n",
              "      <td>636.180000</td>\n",
              "    </tr>\n",
              "    <tr>\n",
              "      <th>75%</th>\n",
              "      <td>2226.000000</td>\n",
              "    </tr>\n",
              "    <tr>\n",
              "      <th>max</th>\n",
              "      <td>318000.000000</td>\n",
              "    </tr>\n",
              "  </tbody>\n",
              "</table>\n",
              "</div>\n",
              "    <div class=\"colab-df-buttons\">\n",
              "\n",
              "  <div class=\"colab-df-container\">\n",
              "    <button class=\"colab-df-convert\" onclick=\"convertToInteractive('df-c73771e1-e542-491b-bd9b-fc436397b10b')\"\n",
              "            title=\"Convert this dataframe to an interactive table.\"\n",
              "            style=\"display:none;\">\n",
              "\n",
              "  <svg xmlns=\"http://www.w3.org/2000/svg\" height=\"24px\" viewBox=\"0 -960 960 960\">\n",
              "    <path d=\"M120-120v-720h720v720H120Zm60-500h600v-160H180v160Zm220 220h160v-160H400v160Zm0 220h160v-160H400v160ZM180-400h160v-160H180v160Zm440 0h160v-160H620v160ZM180-180h160v-160H180v160Zm440 0h160v-160H620v160Z\"/>\n",
              "  </svg>\n",
              "    </button>\n",
              "\n",
              "  <style>\n",
              "    .colab-df-container {\n",
              "      display:flex;\n",
              "      gap: 12px;\n",
              "    }\n",
              "\n",
              "    .colab-df-convert {\n",
              "      background-color: #E8F0FE;\n",
              "      border: none;\n",
              "      border-radius: 50%;\n",
              "      cursor: pointer;\n",
              "      display: none;\n",
              "      fill: #1967D2;\n",
              "      height: 32px;\n",
              "      padding: 0 0 0 0;\n",
              "      width: 32px;\n",
              "    }\n",
              "\n",
              "    .colab-df-convert:hover {\n",
              "      background-color: #E2EBFA;\n",
              "      box-shadow: 0px 1px 2px rgba(60, 64, 67, 0.3), 0px 1px 3px 1px rgba(60, 64, 67, 0.15);\n",
              "      fill: #174EA6;\n",
              "    }\n",
              "\n",
              "    .colab-df-buttons div {\n",
              "      margin-bottom: 4px;\n",
              "    }\n",
              "\n",
              "    [theme=dark] .colab-df-convert {\n",
              "      background-color: #3B4455;\n",
              "      fill: #D2E3FC;\n",
              "    }\n",
              "\n",
              "    [theme=dark] .colab-df-convert:hover {\n",
              "      background-color: #434B5C;\n",
              "      box-shadow: 0px 1px 3px 1px rgba(0, 0, 0, 0.15);\n",
              "      filter: drop-shadow(0px 1px 2px rgba(0, 0, 0, 0.3));\n",
              "      fill: #FFFFFF;\n",
              "    }\n",
              "  </style>\n",
              "\n",
              "    <script>\n",
              "      const buttonEl =\n",
              "        document.querySelector('#df-c73771e1-e542-491b-bd9b-fc436397b10b button.colab-df-convert');\n",
              "      buttonEl.style.display =\n",
              "        google.colab.kernel.accessAllowed ? 'block' : 'none';\n",
              "\n",
              "      async function convertToInteractive(key) {\n",
              "        const element = document.querySelector('#df-c73771e1-e542-491b-bd9b-fc436397b10b');\n",
              "        const dataTable =\n",
              "          await google.colab.kernel.invokeFunction('convertToInteractive',\n",
              "                                                    [key], {});\n",
              "        if (!dataTable) return;\n",
              "\n",
              "        const docLinkHtml = 'Like what you see? Visit the ' +\n",
              "          '<a target=\"_blank\" href=https://colab.research.google.com/notebooks/data_table.ipynb>data table notebook</a>'\n",
              "          + ' to learn more about interactive tables.';\n",
              "        element.innerHTML = '';\n",
              "        dataTable['output_type'] = 'display_data';\n",
              "        await google.colab.output.renderOutput(dataTable, element);\n",
              "        const docLink = document.createElement('div');\n",
              "        docLink.innerHTML = docLinkHtml;\n",
              "        element.appendChild(docLink);\n",
              "      }\n",
              "    </script>\n",
              "  </div>\n",
              "\n",
              "\n",
              "<div id=\"df-df9e2b0d-21d9-41fb-9ba0-176b65e62d09\">\n",
              "  <button class=\"colab-df-quickchart\" onclick=\"quickchart('df-df9e2b0d-21d9-41fb-9ba0-176b65e62d09')\"\n",
              "            title=\"Suggest charts.\"\n",
              "            style=\"display:none;\">\n",
              "\n",
              "<svg xmlns=\"http://www.w3.org/2000/svg\" height=\"24px\"viewBox=\"0 0 24 24\"\n",
              "     width=\"24px\">\n",
              "    <g>\n",
              "        <path d=\"M19 3H5c-1.1 0-2 .9-2 2v14c0 1.1.9 2 2 2h14c1.1 0 2-.9 2-2V5c0-1.1-.9-2-2-2zM9 17H7v-7h2v7zm4 0h-2V7h2v10zm4 0h-2v-4h2v4z\"/>\n",
              "    </g>\n",
              "</svg>\n",
              "  </button>\n",
              "\n",
              "<style>\n",
              "  .colab-df-quickchart {\n",
              "      --bg-color: #E8F0FE;\n",
              "      --fill-color: #1967D2;\n",
              "      --hover-bg-color: #E2EBFA;\n",
              "      --hover-fill-color: #174EA6;\n",
              "      --disabled-fill-color: #AAA;\n",
              "      --disabled-bg-color: #DDD;\n",
              "  }\n",
              "\n",
              "  [theme=dark] .colab-df-quickchart {\n",
              "      --bg-color: #3B4455;\n",
              "      --fill-color: #D2E3FC;\n",
              "      --hover-bg-color: #434B5C;\n",
              "      --hover-fill-color: #FFFFFF;\n",
              "      --disabled-bg-color: #3B4455;\n",
              "      --disabled-fill-color: #666;\n",
              "  }\n",
              "\n",
              "  .colab-df-quickchart {\n",
              "    background-color: var(--bg-color);\n",
              "    border: none;\n",
              "    border-radius: 50%;\n",
              "    cursor: pointer;\n",
              "    display: none;\n",
              "    fill: var(--fill-color);\n",
              "    height: 32px;\n",
              "    padding: 0;\n",
              "    width: 32px;\n",
              "  }\n",
              "\n",
              "  .colab-df-quickchart:hover {\n",
              "    background-color: var(--hover-bg-color);\n",
              "    box-shadow: 0 1px 2px rgba(60, 64, 67, 0.3), 0 1px 3px 1px rgba(60, 64, 67, 0.15);\n",
              "    fill: var(--button-hover-fill-color);\n",
              "  }\n",
              "\n",
              "  .colab-df-quickchart-complete:disabled,\n",
              "  .colab-df-quickchart-complete:disabled:hover {\n",
              "    background-color: var(--disabled-bg-color);\n",
              "    fill: var(--disabled-fill-color);\n",
              "    box-shadow: none;\n",
              "  }\n",
              "\n",
              "  .colab-df-spinner {\n",
              "    border: 2px solid var(--fill-color);\n",
              "    border-color: transparent;\n",
              "    border-bottom-color: var(--fill-color);\n",
              "    animation:\n",
              "      spin 1s steps(1) infinite;\n",
              "  }\n",
              "\n",
              "  @keyframes spin {\n",
              "    0% {\n",
              "      border-color: transparent;\n",
              "      border-bottom-color: var(--fill-color);\n",
              "      border-left-color: var(--fill-color);\n",
              "    }\n",
              "    20% {\n",
              "      border-color: transparent;\n",
              "      border-left-color: var(--fill-color);\n",
              "      border-top-color: var(--fill-color);\n",
              "    }\n",
              "    30% {\n",
              "      border-color: transparent;\n",
              "      border-left-color: var(--fill-color);\n",
              "      border-top-color: var(--fill-color);\n",
              "      border-right-color: var(--fill-color);\n",
              "    }\n",
              "    40% {\n",
              "      border-color: transparent;\n",
              "      border-right-color: var(--fill-color);\n",
              "      border-top-color: var(--fill-color);\n",
              "    }\n",
              "    60% {\n",
              "      border-color: transparent;\n",
              "      border-right-color: var(--fill-color);\n",
              "    }\n",
              "    80% {\n",
              "      border-color: transparent;\n",
              "      border-right-color: var(--fill-color);\n",
              "      border-bottom-color: var(--fill-color);\n",
              "    }\n",
              "    90% {\n",
              "      border-color: transparent;\n",
              "      border-bottom-color: var(--fill-color);\n",
              "    }\n",
              "  }\n",
              "</style>\n",
              "\n",
              "  <script>\n",
              "    async function quickchart(key) {\n",
              "      const quickchartButtonEl =\n",
              "        document.querySelector('#' + key + ' button');\n",
              "      quickchartButtonEl.disabled = true;  // To prevent multiple clicks.\n",
              "      quickchartButtonEl.classList.add('colab-df-spinner');\n",
              "      try {\n",
              "        const charts = await google.colab.kernel.invokeFunction(\n",
              "            'suggestCharts', [key], {});\n",
              "      } catch (error) {\n",
              "        console.error('Error during call to suggestCharts:', error);\n",
              "      }\n",
              "      quickchartButtonEl.classList.remove('colab-df-spinner');\n",
              "      quickchartButtonEl.classList.add('colab-df-quickchart-complete');\n",
              "    }\n",
              "    (() => {\n",
              "      let quickchartButtonEl =\n",
              "        document.querySelector('#df-df9e2b0d-21d9-41fb-9ba0-176b65e62d09 button');\n",
              "      quickchartButtonEl.style.display =\n",
              "        google.colab.kernel.accessAllowed ? 'block' : 'none';\n",
              "    })();\n",
              "  </script>\n",
              "</div>\n",
              "    </div>\n",
              "  </div>\n"
            ]
          },
          "metadata": {},
          "execution_count": 86
        }
      ]
    },
    {
      "cell_type": "code",
      "source": [
        "df_msq['CHARGEcode'].value_counts()"
      ],
      "metadata": {
        "colab": {
          "base_uri": "https://localhost:8080/"
        },
        "id": "szl35dw3iXOd",
        "outputId": "6c892549-0d8d-4e5d-ff31-115d9c0a4cc9"
      },
      "execution_count": null,
      "outputs": [
        {
          "output_type": "execute_result",
          "data": {
            "text/plain": [
              "10300300    1\n",
              "70019617    1\n",
              "70019454    1\n",
              "70019453    1\n",
              "70019452    1\n",
              "           ..\n",
              "50024335    1\n",
              "50024334    1\n",
              "50024333    1\n",
              "50024332    1\n",
              "99899993    1\n",
              "Name: CHARGEcode, Length: 114893, dtype: int64"
            ]
          },
          "metadata": {},
          "execution_count": 77
        }
      ]
    },
    {
      "cell_type": "code",
      "source": [
        "df_msq['CHARGEdesc'].value_counts()"
      ],
      "metadata": {
        "colab": {
          "base_uri": "https://localhost:8080/"
        },
        "id": "tNi3GFBgivab",
        "outputId": "648d747a-76b0-4567-9721-fd4742564260"
      },
      "execution_count": null,
      "outputs": [
        {
          "output_type": "execute_result",
          "data": {
            "text/plain": [
              "TIBIAL INSERT W SCREW             53\n",
              "CATH PTA 142CM MARVERCK VARSZ     49\n",
              "STEM 195MM STEM REST MOD CONI     49\n",
              "ERYTHROPOIETIN RECOMBINANT INJ    45\n",
              "SPHINCTER   4.9F   .035/450       42\n",
              "                                  ..\n",
              "CATH  ANGIO 14X2 5.8FR 75CM        1\n",
              "CATH ANGIO 16X2 5.8FR 120CM        1\n",
              "EXTRACTOR STONE RETR BLLN 8.5      1\n",
              "EXTRACTOR RETRIEV BLLN 12-15M      1\n",
              "LEFT WITHOUT BEEN SEEN/ERRONEO     1\n",
              "Name: CHARGEdesc, Length: 76586, dtype: int64"
            ]
          },
          "metadata": {},
          "execution_count": 78
        }
      ]
    },
    {
      "cell_type": "code",
      "source": [
        "df_msq['ALTdesc'].value_counts()"
      ],
      "metadata": {
        "colab": {
          "base_uri": "https://localhost:8080/"
        },
        "id": "s_YVm87_ixRc",
        "outputId": "fc995e6c-4e3e-4286-bd11-5de379e55348"
      },
      "execution_count": null,
      "outputs": [
        {
          "output_type": "execute_result",
          "data": {
            "text/plain": [
              "TIBIAL INSERT W SCREW             53\n",
              "STEM 195MM STEM REST MOD CONI     49\n",
              "CATH PTA 142CM MARVERCK VARSZ     49\n",
              "ERYTHROPOIETIN RECOMBINANT INJ    45\n",
              "SPHINCTER   4.9F   .035/450       42\n",
              "                                  ..\n",
              "GRAFT HEMA MICROVEL22 X30CM        1\n",
              "BALLOON  PULMONARY 8.5MM           1\n",
              "CATH  CONTRA ANGIOG 5 FR 65        1\n",
              "CATH ULTRA BLLN DIL 3X2  75CM      1\n",
              "LEFT WITHOUT BEEN SEEN/ERRONEO     1\n",
              "Name: ALTdesc, Length: 76591, dtype: int64"
            ]
          },
          "metadata": {},
          "execution_count": 79
        }
      ]
    },
    {
      "cell_type": "code",
      "source": [
        "df_msq['DEPTcode'].value_counts()"
      ],
      "metadata": {
        "colab": {
          "base_uri": "https://localhost:8080/"
        },
        "id": "EGkUmqBdiyVo",
        "outputId": "34e06b7d-2139-4272-908f-d4cb618147e9"
      },
      "execution_count": null,
      "outputs": [
        {
          "output_type": "execute_result",
          "data": {
            "text/plain": [
              "700    47056\n",
              "500    31710\n",
              "184     7320\n",
              "800     6480\n",
              "415     4452\n",
              "       ...  \n",
              "162        2\n",
              "626        1\n",
              "310        1\n",
              "994        1\n",
              "998        1\n",
              "Name: DEPTcode, Length: 75, dtype: int64"
            ]
          },
          "metadata": {},
          "execution_count": 80
        }
      ]
    },
    {
      "cell_type": "code",
      "source": [
        "df_msq['DEPTname'].value_counts()"
      ],
      "metadata": {
        "colab": {
          "base_uri": "https://localhost:8080/"
        },
        "id": "yyp4Hy6IiyF-",
        "outputId": "e2514982-d787-4983-a683-eb10fbbf579d"
      },
      "execution_count": null,
      "outputs": [
        {
          "output_type": "execute_result",
          "data": {
            "text/plain": [
              "OR OPTIME SUPPLIES 700      47056\n",
              "OR SUPPLIES A00             31710\n",
              "PHARMACY                    11772\n",
              "OR OPTIME SUPPLIES 800       6480\n",
              "OR SUPPLIES X21- IR          4028\n",
              "                            ...  \n",
              "AMBULATORY SERV. TESTING        2\n",
              "AMBULATORY SURGERY              2\n",
              "BALANCE FORWARD                 1\n",
              "ROOM & BOARD ICU                1\n",
              "MISCELLANEOUS                   1\n",
              "Name: DEPTname, Length: 71, dtype: int64"
            ]
          },
          "metadata": {},
          "execution_count": 81
        }
      ]
    },
    {
      "cell_type": "code",
      "source": [
        "df_msq['RATEcharged'].value_counts()"
      ],
      "metadata": {
        "colab": {
          "base_uri": "https://localhost:8080/"
        },
        "id": "Eqvov_z8ixqY",
        "outputId": "4548285e-8d01-4056-aea9-223b706a4dbd"
      },
      "execution_count": null,
      "outputs": [
        {
          "output_type": "execute_result",
          "data": {
            "text/plain": [
              "1.00       952\n",
              "300.00     717\n",
              "0.00       677\n",
              "250.00     612\n",
              "500.00     573\n",
              "          ... \n",
              "405.10       1\n",
              "455.54       1\n",
              "414.20       1\n",
              "2582.00      1\n",
              "220.64       1\n",
              "Name: RATEcharged, Length: 15914, dtype: int64"
            ]
          },
          "metadata": {},
          "execution_count": 82
        }
      ]
    },
    {
      "cell_type": "code",
      "source": [
        "df_msq['REVENUEcodeINPT'].value_counts()"
      ],
      "metadata": {
        "colab": {
          "base_uri": "https://localhost:8080/"
        },
        "id": "V1bQ7r-xi1_Q",
        "outputId": "f60ae62e-bf50-4d5c-8a30-f8b96ff4b6fe"
      },
      "execution_count": null,
      "outputs": [
        {
          "output_type": "execute_result",
          "data": {
            "text/plain": [
              "278.0    82182\n",
              "270.0     7830\n",
              "250.0     7549\n",
              "276.0     3221\n",
              "636.0     2899\n",
              "         ...  \n",
              "381.0        1\n",
              "389.0        1\n",
              "385.0        1\n",
              "303.0        1\n",
              "271.0        1\n",
              "Name: REVENUEcodeINPT, Length: 124, dtype: int64"
            ]
          },
          "metadata": {},
          "execution_count": 83
        }
      ]
    },
    {
      "cell_type": "code",
      "source": [
        "df_msq['REVENUEcodeOPT'].value_counts()"
      ],
      "metadata": {
        "colab": {
          "base_uri": "https://localhost:8080/"
        },
        "id": "kypvDTAAi2Q_",
        "outputId": "a71eff26-b5da-4293-9791-813265435b10"
      },
      "execution_count": null,
      "outputs": [
        {
          "output_type": "execute_result",
          "data": {
            "text/plain": [
              "278.0    82182\n",
              "270.0     7830\n",
              "250.0     7257\n",
              "276.0     3221\n",
              "636.0     3191\n",
              "         ...  \n",
              "381.0        1\n",
              "389.0        1\n",
              "385.0        1\n",
              "303.0        1\n",
              "271.0        1\n",
              "Name: REVENUEcodeOPT, Length: 124, dtype: int64"
            ]
          },
          "metadata": {},
          "execution_count": 84
        }
      ]
    },
    {
      "cell_type": "code",
      "source": [
        "# Data distribution\n",
        "\n",
        "# Calculate mean, median, and mode\n",
        "mean= df_msq['RATEcharged'].mean()\n",
        "median = df_msq['RATEcharged'].median()\n",
        "mode = df_msq['RATEcharged'].mode().iloc[0]\n",
        "print(\"Mean is:\", mean)\n",
        "print(\"Median is:\", median)\n",
        "print(\"Mode is: \", mode)\n",
        "# Calculate range\n",
        "range  = df_msq['RATEcharged'].max() - df_msq['RATEcharged'].min()\n",
        "print(\"Range is:\", range)\n",
        "# Calculate variance and standard deviation\n",
        "variance = np.var(df_msq['RATEcharged'])\n",
        "print(\"Variance is: \",variance)\n",
        "std_dev = np.std(df_msq['RATEcharged'])\n",
        "print(\"Standard Deviation is:\", std_dev)"
      ],
      "metadata": {
        "colab": {
          "base_uri": "https://localhost:8080/"
        },
        "id": "hgKRLtRvXern",
        "outputId": "8d8669ca-23b8-4b5e-c40e-3011e7ad7b8e"
      },
      "execution_count": null,
      "outputs": [
        {
          "output_type": "stream",
          "name": "stdout",
          "text": [
            "Mean is: 2051.366812512512\n",
            "Median is: 636.18\n",
            "Mode is:  1.0\n",
            "Range is: 318000.0\n",
            "Variance is:  19395266.741329383\n",
            "Standard Deviation is: 4404.005760819277\n"
          ]
        }
      ]
    },
    {
      "cell_type": "code",
      "source": [
        "# Remove outliers by only allowing data within 3 standard deviations\n",
        "df_cleaned = df_msq[df_msq['RATEcharged']<= std_dev*3]"
      ],
      "metadata": {
        "id": "32QzOR6bo4CJ"
      },
      "execution_count": null,
      "outputs": []
    },
    {
      "cell_type": "code",
      "source": [
        "# Create a histogram\n",
        "plt.hist(df_cleaned['RATEcharged'], bins=30, density=True, alpha=0.7, color='purple', label='Histogram')\n",
        "\n",
        "# Create a probability density function (PDF) curve\n",
        "x = np.linspace(min(df_cleaned['RATEcharged']), max(df_cleaned['RATEcharged']),100)\n",
        "pdf = (1/(std_dev * np.sqrt(2*np.pi))) * np.exp(-(x - mean)**2 / (2*std_dev**2))\n",
        "plt.plot(x, pdf, color='blue', label='PDF')\n",
        "\n",
        "plt.title('Distribution of Rates Charged ($)')\n",
        "plt.xlabel('Rate Charged ($)')\n",
        "plt.ylabel('Probability Density')\n",
        "plt.legend()\n",
        "plt.grid(True)\n",
        "plt.show()"
      ],
      "metadata": {
        "colab": {
          "base_uri": "https://localhost:8080/",
          "height": 472
        },
        "id": "elu-_0mhpJd1",
        "outputId": "05c0d5b7-1799-4178-9f95-4f36d53404ef"
      },
      "execution_count": null,
      "outputs": [
        {
          "output_type": "display_data",
          "data": {
            "text/plain": [
              "<Figure size 640x480 with 1 Axes>"
            ],
            "image/png": "[encoded data removed]"
          },
          "metadata": {}
        }
      ]
    },
    {
      "cell_type": "code",
      "source": [
        "df_cleaned.to_csv('/content/outliers_rem_cleaned_mount-sinai-queens_chargemaster.csv')"
      ],
      "metadata": {
        "id": "lTd_BXZQqEyn"
      },
      "execution_count": null,
      "outputs": []
    },
    {
      "cell_type": "markdown",
      "source": [
        "# Hospital Database 2: New York Presbyterian"
      ],
      "metadata": {
        "id": "N8qmGpHpKsOW"
      }
    },
    {
      "cell_type": "markdown",
      "source": [
        "## Import data Hospital 2"
      ],
      "metadata": {
        "id": "zCAUuWR1K6Fn"
      }
    },
    {
      "cell_type": "code",
      "execution_count": 3,
      "metadata": {
        "id": "DyudjLb2K6Fn"
      },
      "outputs": [],
      "source": [
        "df2 = pd.read_json('/content/133957095_NewYorkPresbyterianHospital_standardcharges.json')"
      ]
    },
    {
      "cell_type": "code",
      "source": [
        "df2.shape\n",
        "#6193 rows and 47 columns"
      ],
      "metadata": {
        "colab": {
          "base_uri": "https://localhost:8080/"
        },
        "outputId": "047cea85-1eee-4e0d-cd48-9abe7c875ddc",
        "id": "duBWxYSrK6Fo"
      },
      "execution_count": 4,
      "outputs": [
        {
          "output_type": "execute_result",
          "data": {
            "text/plain": [
              "(6193, 47)"
            ]
          },
          "metadata": {},
          "execution_count": 4
        }
      ]
    },
    {
      "cell_type": "code",
      "source": [
        "df2.head(10)"
      ],
      "metadata": {
        "colab": {
          "base_uri": "https://localhost:8080/",
          "height": 777
        },
        "outputId": "bcacd9bc-8a38-4cb4-cd37-f835edefef0c",
        "id": "at3DRsfgK6Fo"
      },
      "execution_count": 5,
      "outputs": [
        {
          "output_type": "execute_result",
          "data": {
            "text/plain": [
              "  Code (CPT/DRG)                                        Description Rev Code  \\\n",
              "0          96360        HC IV INFUSION HYDRATION INITIAL 31 MIN-1HR     0260   \n",
              "1          96361            HC IV INFUSION HYDRATION FLUIDS ADDL HR     0260   \n",
              "2          96365  HC IV INFUSION FOR THER/PROPH/DIAG INITIAL UP ...     0260   \n",
              "3          96367  HC IV INF THER/PROPH/DIAG ADDL SEQ NEW DRUG UP...     0260   \n",
              "4          96368      HC IV INFUSION FOR THER/PROPH/DIAG CONCURRENT     0260   \n",
              "5          96369                      HC NON-CHEMO SC INFUSION 1 HR     0260   \n",
              "6          96370              HC NON-CHEMO SC INFUSION EACH ADDL HR     0260   \n",
              "7          96375     HC THERAPEUTIC/PROPH/DIAG INJ IV PUSH ADDL SEQ     0260   \n",
              "8          96376         HC THERAPEUTIC/PROPH/DIAG INJ IV PUSH SAME     0260   \n",
              "9          96377                    HC APPLICATION OF BODY INJECTOR     0260   \n",
              "\n",
              "   Inpatient/Outpatient  Gross Charges  Discounted Cash Price     Aetna  \\\n",
              "0  Inpatient/Outpatient          866.0                  866.0   641.706   \n",
              "1  Inpatient/Outpatient          358.0                  358.0   265.278   \n",
              "2  Inpatient/Outpatient         1397.0                 1397.0  1035.177   \n",
              "3  Inpatient/Outpatient          480.0                  480.0    355.68   \n",
              "4  Inpatient/Outpatient          480.0                  480.0    355.68   \n",
              "5  Inpatient/Outpatient          780.0                  780.0    577.98   \n",
              "6  Inpatient/Outpatient          480.0                  480.0    355.68   \n",
              "7  Inpatient/Outpatient          602.0                  602.0   446.082   \n",
              "8  Inpatient/Outpatient          357.0                  357.0   264.537   \n",
              "9  Inpatient/Outpatient          510.0                  510.0    377.91   \n",
              "\n",
              "     Cigna Empire Blue Cross Blue Shield Emblem Health  ...  \\\n",
              "0  494.486                        640.84      1388.424  ...   \n",
              "1  204.418                        264.92      1305.112  ...   \n",
              "2  797.687                       1033.78      1475.508  ...   \n",
              "3   274.08                         355.2       1325.12  ...   \n",
              "4   274.08                         355.2       1325.12  ...   \n",
              "5   445.38                         577.2       1374.32  ...   \n",
              "6   274.08                         355.2       1325.12  ...   \n",
              "7  343.742                        445.48      1345.128  ...   \n",
              "8  203.847                        264.18      1304.948  ...   \n",
              "9   291.21                         377.4       1330.04  ...   \n",
              "\n",
              "  Consumer Health Network     Devon    Equian First Health Magnacare  \\\n",
              "0                393.5104  393.5104  393.5104     393.5104  393.5104   \n",
              "1                162.6752  162.6752  162.6752     162.6752  162.6752   \n",
              "2                634.7968  634.7968  634.7968     634.7968  634.7968   \n",
              "3                 218.112   218.112   218.112      218.112   218.112   \n",
              "4                 218.112   218.112   218.112      218.112   218.112   \n",
              "5                 354.432   354.432   354.432      354.432   354.432   \n",
              "6                 218.112   218.112   218.112      218.112   218.112   \n",
              "7                273.5488  273.5488  273.5488     273.5488  273.5488   \n",
              "8                162.2208  162.2208  162.2208     162.2208  162.2208   \n",
              "9                 231.744   231.744   231.744      231.744   231.744   \n",
              "\n",
              "  Multiplan/Beechstreet/PHCS       QHM Worldwide Minimum Negotiated Charge  \\\n",
              "0                   393.5104  393.5104  393.5104                 253.04825   \n",
              "1                   162.6752  162.6752  162.6752                  51.90325   \n",
              "2                   634.7968  634.7968  634.7968                 253.04825   \n",
              "3                    218.112   218.112   218.112                  82.65075   \n",
              "4                    218.112   218.112   218.112                 156.98280   \n",
              "5                    354.432   354.432   354.432                 253.04825   \n",
              "6                    218.112   218.112   218.112                  51.90325   \n",
              "7                   273.5488  273.5488  273.5488                  51.90325   \n",
              "8                   162.2208  162.2208  162.2208                 162.22080   \n",
              "9                    231.744   231.744   231.744                  51.90325   \n",
              "\n",
              "  Maximum Negotiated Charge  \n",
              "0               1388.424000  \n",
              "1               1990.891341  \n",
              "2               1475.508000  \n",
              "3               1325.120000  \n",
              "4               1325.120000  \n",
              "5               1374.320000  \n",
              "6               1990.891341  \n",
              "7               1345.128000  \n",
              "8               1304.948000  \n",
              "9               1330.040000  \n",
              "\n",
              "[10 rows x 47 columns]"
            ],
            "text/html": [
              "\n",
              "  <div id=\"df-54dc43b5-df9a-45cb-b29d-21d7df5ee9a2\" class=\"colab-df-container\">\n",
              "    <div>\n",
              "<style scoped>\n",
              "    .dataframe tbody tr th:only-of-type {\n",
              "        vertical-align: middle;\n",
              "    }\n",
              "\n",
              "    .dataframe tbody tr th {\n",
              "        vertical-align: top;\n",
              "    }\n",
              "\n",
              "    .dataframe thead th {\n",
              "        text-align: right;\n",
              "    }\n",
              "</style>\n",
              "<table border=\"1\" class=\"dataframe\">\n",
              "  <thead>\n",
              "    <tr style=\"text-align: right;\">\n",
              "      <th></th>\n",
              "      <th>Code (CPT/DRG)</th>\n",
              "      <th>Description</th>\n",
              "      <th>Rev Code</th>\n",
              "      <th>Inpatient/Outpatient</th>\n",
              "      <th>Gross Charges</th>\n",
              "      <th>Discounted Cash Price</th>\n",
              "      <th>Aetna</th>\n",
              "      <th>Cigna</th>\n",
              "      <th>Empire Blue Cross Blue Shield</th>\n",
              "      <th>Emblem Health</th>\n",
              "      <th>...</th>\n",
              "      <th>Consumer Health Network</th>\n",
              "      <th>Devon</th>\n",
              "      <th>Equian</th>\n",
              "      <th>First Health</th>\n",
              "      <th>Magnacare</th>\n",
              "      <th>Multiplan/Beechstreet/PHCS</th>\n",
              "      <th>QHM</th>\n",
              "      <th>Worldwide</th>\n",
              "      <th>Minimum Negotiated Charge</th>\n",
              "      <th>Maximum Negotiated Charge</th>\n",
              "    </tr>\n",
              "  </thead>\n",
              "  <tbody>\n",
              "    <tr>\n",
              "      <th>0</th>\n",
              "      <td>96360</td>\n",
              "      <td>HC IV INFUSION HYDRATION INITIAL 31 MIN-1HR</td>\n",
              "      <td>0260</td>\n",
              "      <td>Inpatient/Outpatient</td>\n",
              "      <td>866.0</td>\n",
              "      <td>866.0</td>\n",
              "      <td>641.706</td>\n",
              "      <td>494.486</td>\n",
              "      <td>640.84</td>\n",
              "      <td>1388.424</td>\n",
              "      <td>...</td>\n",
              "      <td>393.5104</td>\n",
              "      <td>393.5104</td>\n",
              "      <td>393.5104</td>\n",
              "      <td>393.5104</td>\n",
              "      <td>393.5104</td>\n",
              "      <td>393.5104</td>\n",
              "      <td>393.5104</td>\n",
              "      <td>393.5104</td>\n",
              "      <td>253.04825</td>\n",
              "      <td>1388.424000</td>\n",
              "    </tr>\n",
              "    <tr>\n",
              "      <th>1</th>\n",
              "      <td>96361</td>\n",
              "      <td>HC IV INFUSION HYDRATION FLUIDS ADDL HR</td>\n",
              "      <td>0260</td>\n",
              "      <td>Inpatient/Outpatient</td>\n",
              "      <td>358.0</td>\n",
              "      <td>358.0</td>\n",
              "      <td>265.278</td>\n",
              "      <td>204.418</td>\n",
              "      <td>264.92</td>\n",
              "      <td>1305.112</td>\n",
              "      <td>...</td>\n",
              "      <td>162.6752</td>\n",
              "      <td>162.6752</td>\n",
              "      <td>162.6752</td>\n",
              "      <td>162.6752</td>\n",
              "      <td>162.6752</td>\n",
              "      <td>162.6752</td>\n",
              "      <td>162.6752</td>\n",
              "      <td>162.6752</td>\n",
              "      <td>51.90325</td>\n",
              "      <td>1990.891341</td>\n",
              "    </tr>\n",
              "    <tr>\n",
              "      <th>2</th>\n",
              "      <td>96365</td>\n",
              "      <td>HC IV INFUSION FOR THER/PROPH/DIAG INITIAL UP ...</td>\n",
              "      <td>0260</td>\n",
              "      <td>Inpatient/Outpatient</td>\n",
              "      <td>1397.0</td>\n",
              "      <td>1397.0</td>\n",
              "      <td>1035.177</td>\n",
              "      <td>797.687</td>\n",
              "      <td>1033.78</td>\n",
              "      <td>1475.508</td>\n",
              "      <td>...</td>\n",
              "      <td>634.7968</td>\n",
              "      <td>634.7968</td>\n",
              "      <td>634.7968</td>\n",
              "      <td>634.7968</td>\n",
              "      <td>634.7968</td>\n",
              "      <td>634.7968</td>\n",
              "      <td>634.7968</td>\n",
              "      <td>634.7968</td>\n",
              "      <td>253.04825</td>\n",
              "      <td>1475.508000</td>\n",
              "    </tr>\n",
              "    <tr>\n",
              "      <th>3</th>\n",
              "      <td>96367</td>\n",
              "      <td>HC IV INF THER/PROPH/DIAG ADDL SEQ NEW DRUG UP...</td>\n",
              "      <td>0260</td>\n",
              "      <td>Inpatient/Outpatient</td>\n",
              "      <td>480.0</td>\n",
              "      <td>480.0</td>\n",
              "      <td>355.68</td>\n",
              "      <td>274.08</td>\n",
              "      <td>355.2</td>\n",
              "      <td>1325.12</td>\n",
              "      <td>...</td>\n",
              "      <td>218.112</td>\n",
              "      <td>218.112</td>\n",
              "      <td>218.112</td>\n",
              "      <td>218.112</td>\n",
              "      <td>218.112</td>\n",
              "      <td>218.112</td>\n",
              "      <td>218.112</td>\n",
              "      <td>218.112</td>\n",
              "      <td>82.65075</td>\n",
              "      <td>1325.120000</td>\n",
              "    </tr>\n",
              "    <tr>\n",
              "      <th>4</th>\n",
              "      <td>96368</td>\n",
              "      <td>HC IV INFUSION FOR THER/PROPH/DIAG CONCURRENT</td>\n",
              "      <td>0260</td>\n",
              "      <td>Inpatient/Outpatient</td>\n",
              "      <td>480.0</td>\n",
              "      <td>480.0</td>\n",
              "      <td>355.68</td>\n",
              "      <td>274.08</td>\n",
              "      <td>355.2</td>\n",
              "      <td>1325.12</td>\n",
              "      <td>...</td>\n",
              "      <td>218.112</td>\n",
              "      <td>218.112</td>\n",
              "      <td>218.112</td>\n",
              "      <td>218.112</td>\n",
              "      <td>218.112</td>\n",
              "      <td>218.112</td>\n",
              "      <td>218.112</td>\n",
              "      <td>218.112</td>\n",
              "      <td>156.98280</td>\n",
              "      <td>1325.120000</td>\n",
              "    </tr>\n",
              "    <tr>\n",
              "      <th>5</th>\n",
              "      <td>96369</td>\n",
              "      <td>HC NON-CHEMO SC INFUSION 1 HR</td>\n",
              "      <td>0260</td>\n",
              "      <td>Inpatient/Outpatient</td>\n",
              "      <td>780.0</td>\n",
              "      <td>780.0</td>\n",
              "      <td>577.98</td>\n",
              "      <td>445.38</td>\n",
              "      <td>577.2</td>\n",
              "      <td>1374.32</td>\n",
              "      <td>...</td>\n",
              "      <td>354.432</td>\n",
              "      <td>354.432</td>\n",
              "      <td>354.432</td>\n",
              "      <td>354.432</td>\n",
              "      <td>354.432</td>\n",
              "      <td>354.432</td>\n",
              "      <td>354.432</td>\n",
              "      <td>354.432</td>\n",
              "      <td>253.04825</td>\n",
              "      <td>1374.320000</td>\n",
              "    </tr>\n",
              "    <tr>\n",
              "      <th>6</th>\n",
              "      <td>96370</td>\n",
              "      <td>HC NON-CHEMO SC INFUSION EACH ADDL HR</td>\n",
              "      <td>0260</td>\n",
              "      <td>Inpatient/Outpatient</td>\n",
              "      <td>480.0</td>\n",
              "      <td>480.0</td>\n",
              "      <td>355.68</td>\n",
              "      <td>274.08</td>\n",
              "      <td>355.2</td>\n",
              "      <td>1325.12</td>\n",
              "      <td>...</td>\n",
              "      <td>218.112</td>\n",
              "      <td>218.112</td>\n",
              "      <td>218.112</td>\n",
              "      <td>218.112</td>\n",
              "      <td>218.112</td>\n",
              "      <td>218.112</td>\n",
              "      <td>218.112</td>\n",
              "      <td>218.112</td>\n",
              "      <td>51.90325</td>\n",
              "      <td>1990.891341</td>\n",
              "    </tr>\n",
              "    <tr>\n",
              "      <th>7</th>\n",
              "      <td>96375</td>\n",
              "      <td>HC THERAPEUTIC/PROPH/DIAG INJ IV PUSH ADDL SEQ</td>\n",
              "      <td>0260</td>\n",
              "      <td>Inpatient/Outpatient</td>\n",
              "      <td>602.0</td>\n",
              "      <td>602.0</td>\n",
              "      <td>446.082</td>\n",
              "      <td>343.742</td>\n",
              "      <td>445.48</td>\n",
              "      <td>1345.128</td>\n",
              "      <td>...</td>\n",
              "      <td>273.5488</td>\n",
              "      <td>273.5488</td>\n",
              "      <td>273.5488</td>\n",
              "      <td>273.5488</td>\n",
              "      <td>273.5488</td>\n",
              "      <td>273.5488</td>\n",
              "      <td>273.5488</td>\n",
              "      <td>273.5488</td>\n",
              "      <td>51.90325</td>\n",
              "      <td>1345.128000</td>\n",
              "    </tr>\n",
              "    <tr>\n",
              "      <th>8</th>\n",
              "      <td>96376</td>\n",
              "      <td>HC THERAPEUTIC/PROPH/DIAG INJ IV PUSH SAME</td>\n",
              "      <td>0260</td>\n",
              "      <td>Inpatient/Outpatient</td>\n",
              "      <td>357.0</td>\n",
              "      <td>357.0</td>\n",
              "      <td>264.537</td>\n",
              "      <td>203.847</td>\n",
              "      <td>264.18</td>\n",
              "      <td>1304.948</td>\n",
              "      <td>...</td>\n",
              "      <td>162.2208</td>\n",
              "      <td>162.2208</td>\n",
              "      <td>162.2208</td>\n",
              "      <td>162.2208</td>\n",
              "      <td>162.2208</td>\n",
              "      <td>162.2208</td>\n",
              "      <td>162.2208</td>\n",
              "      <td>162.2208</td>\n",
              "      <td>162.22080</td>\n",
              "      <td>1304.948000</td>\n",
              "    </tr>\n",
              "    <tr>\n",
              "      <th>9</th>\n",
              "      <td>96377</td>\n",
              "      <td>HC APPLICATION OF BODY INJECTOR</td>\n",
              "      <td>0260</td>\n",
              "      <td>Inpatient/Outpatient</td>\n",
              "      <td>510.0</td>\n",
              "      <td>510.0</td>\n",
              "      <td>377.91</td>\n",
              "      <td>291.21</td>\n",
              "      <td>377.4</td>\n",
              "      <td>1330.04</td>\n",
              "      <td>...</td>\n",
              "      <td>231.744</td>\n",
              "      <td>231.744</td>\n",
              "      <td>231.744</td>\n",
              "      <td>231.744</td>\n",
              "      <td>231.744</td>\n",
              "      <td>231.744</td>\n",
              "      <td>231.744</td>\n",
              "      <td>231.744</td>\n",
              "      <td>51.90325</td>\n",
              "      <td>1330.040000</td>\n",
              "    </tr>\n",
              "  </tbody>\n",
              "</table>\n",
              "<p>10 rows × 47 columns</p>\n",
              "</div>\n",
              "    <div class=\"colab-df-buttons\">\n",
              "\n",
              "  <div class=\"colab-df-container\">\n",
              "    <button class=\"colab-df-convert\" onclick=\"convertToInteractive('df-54dc43b5-df9a-45cb-b29d-21d7df5ee9a2')\"\n",
              "            title=\"Convert this dataframe to an interactive table.\"\n",
              "            style=\"display:none;\">\n",
              "\n",
              "  <svg xmlns=\"http://www.w3.org/2000/svg\" height=\"24px\" viewBox=\"0 -960 960 960\">\n",
              "    <path d=\"M120-120v-720h720v720H120Zm60-500h600v-160H180v160Zm220 220h160v-160H400v160Zm0 220h160v-160H400v160ZM180-400h160v-160H180v160Zm440 0h160v-160H620v160ZM180-180h160v-160H180v160Zm440 0h160v-160H620v160Z\"/>\n",
              "  </svg>\n",
              "    </button>\n",
              "\n",
              "  <style>\n",
              "    .colab-df-container {\n",
              "      display:flex;\n",
              "      gap: 12px;\n",
              "    }\n",
              "\n",
              "    .colab-df-convert {\n",
              "      background-color: #E8F0FE;\n",
              "      border: none;\n",
              "      border-radius: 50%;\n",
              "      cursor: pointer;\n",
              "      display: none;\n",
              "      fill: #1967D2;\n",
              "      height: 32px;\n",
              "      padding: 0 0 0 0;\n",
              "      width: 32px;\n",
              "    }\n",
              "\n",
              "    .colab-df-convert:hover {\n",
              "      background-color: #E2EBFA;\n",
              "      box-shadow: 0px 1px 2px rgba(60, 64, 67, 0.3), 0px 1px 3px 1px rgba(60, 64, 67, 0.15);\n",
              "      fill: #174EA6;\n",
              "    }\n",
              "\n",
              "    .colab-df-buttons div {\n",
              "      margin-bottom: 4px;\n",
              "    }\n",
              "\n",
              "    [theme=dark] .colab-df-convert {\n",
              "      background-color: #3B4455;\n",
              "      fill: #D2E3FC;\n",
              "    }\n",
              "\n",
              "    [theme=dark] .colab-df-convert:hover {\n",
              "      background-color: #434B5C;\n",
              "      box-shadow: 0px 1px 3px 1px rgba(0, 0, 0, 0.15);\n",
              "      filter: drop-shadow(0px 1px 2px rgba(0, 0, 0, 0.3));\n",
              "      fill: #FFFFFF;\n",
              "    }\n",
              "  </style>\n",
              "\n",
              "    <script>\n",
              "      const buttonEl =\n",
              "        document.querySelector('#df-54dc43b5-df9a-45cb-b29d-21d7df5ee9a2 button.colab-df-convert');\n",
              "      buttonEl.style.display =\n",
              "        google.colab.kernel.accessAllowed ? 'block' : 'none';\n",
              "\n",
              "      async function convertToInteractive(key) {\n",
              "        const element = document.querySelector('#df-54dc43b5-df9a-45cb-b29d-21d7df5ee9a2');\n",
              "        const dataTable =\n",
              "          await google.colab.kernel.invokeFunction('convertToInteractive',\n",
              "                                                    [key], {});\n",
              "        if (!dataTable) return;\n",
              "\n",
              "        const docLinkHtml = 'Like what you see? Visit the ' +\n",
              "          '<a target=\"_blank\" href=https://colab.research.google.com/notebooks/data_table.ipynb>data table notebook</a>'\n",
              "          + ' to learn more about interactive tables.';\n",
              "        element.innerHTML = '';\n",
              "        dataTable['output_type'] = 'display_data';\n",
              "        await google.colab.output.renderOutput(dataTable, element);\n",
              "        const docLink = document.createElement('div');\n",
              "        docLink.innerHTML = docLinkHtml;\n",
              "        element.appendChild(docLink);\n",
              "      }\n",
              "    </script>\n",
              "  </div>\n",
              "\n",
              "\n",
              "<div id=\"df-193a7afb-7f8d-4ab4-934f-8e93851a7bcb\">\n",
              "  <button class=\"colab-df-quickchart\" onclick=\"quickchart('df-193a7afb-7f8d-4ab4-934f-8e93851a7bcb')\"\n",
              "            title=\"Suggest charts.\"\n",
              "            style=\"display:none;\">\n",
              "\n",
              "<svg xmlns=\"http://www.w3.org/2000/svg\" height=\"24px\"viewBox=\"0 0 24 24\"\n",
              "     width=\"24px\">\n",
              "    <g>\n",
              "        <path d=\"M19 3H5c-1.1 0-2 .9-2 2v14c0 1.1.9 2 2 2h14c1.1 0 2-.9 2-2V5c0-1.1-.9-2-2-2zM9 17H7v-7h2v7zm4 0h-2V7h2v10zm4 0h-2v-4h2v4z\"/>\n",
              "    </g>\n",
              "</svg>\n",
              "  </button>\n",
              "\n",
              "<style>\n",
              "  .colab-df-quickchart {\n",
              "      --bg-color: #E8F0FE;\n",
              "      --fill-color: #1967D2;\n",
              "      --hover-bg-color: #E2EBFA;\n",
              "      --hover-fill-color: #174EA6;\n",
              "      --disabled-fill-color: #AAA;\n",
              "      --disabled-bg-color: #DDD;\n",
              "  }\n",
              "\n",
              "  [theme=dark] .colab-df-quickchart {\n",
              "      --bg-color: #3B4455;\n",
              "      --fill-color: #D2E3FC;\n",
              "      --hover-bg-color: #434B5C;\n",
              "      --hover-fill-color: #FFFFFF;\n",
              "      --disabled-bg-color: #3B4455;\n",
              "      --disabled-fill-color: #666;\n",
              "  }\n",
              "\n",
              "  .colab-df-quickchart {\n",
              "    background-color: var(--bg-color);\n",
              "    border: none;\n",
              "    border-radius: 50%;\n",
              "    cursor: pointer;\n",
              "    display: none;\n",
              "    fill: var(--fill-color);\n",
              "    height: 32px;\n",
              "    padding: 0;\n",
              "    width: 32px;\n",
              "  }\n",
              "\n",
              "  .colab-df-quickchart:hover {\n",
              "    background-color: var(--hover-bg-color);\n",
              "    box-shadow: 0 1px 2px rgba(60, 64, 67, 0.3), 0 1px 3px 1px rgba(60, 64, 67, 0.15);\n",
              "    fill: var(--button-hover-fill-color);\n",
              "  }\n",
              "\n",
              "  .colab-df-quickchart-complete:disabled,\n",
              "  .colab-df-quickchart-complete:disabled:hover {\n",
              "    background-color: var(--disabled-bg-color);\n",
              "    fill: var(--disabled-fill-color);\n",
              "    box-shadow: none;\n",
              "  }\n",
              "\n",
              "  .colab-df-spinner {\n",
              "    border: 2px solid var(--fill-color);\n",
              "    border-color: transparent;\n",
              "    border-bottom-color: var(--fill-color);\n",
              "    animation:\n",
              "      spin 1s steps(1) infinite;\n",
              "  }\n",
              "\n",
              "  @keyframes spin {\n",
              "    0% {\n",
              "      border-color: transparent;\n",
              "      border-bottom-color: var(--fill-color);\n",
              "      border-left-color: var(--fill-color);\n",
              "    }\n",
              "    20% {\n",
              "      border-color: transparent;\n",
              "      border-left-color: var(--fill-color);\n",
              "      border-top-color: var(--fill-color);\n",
              "    }\n",
              "    30% {\n",
              "      border-color: transparent;\n",
              "      border-left-color: var(--fill-color);\n",
              "      border-top-color: var(--fill-color);\n",
              "      border-right-color: var(--fill-color);\n",
              "    }\n",
              "    40% {\n",
              "      border-color: transparent;\n",
              "      border-right-color: var(--fill-color);\n",
              "      border-top-color: var(--fill-color);\n",
              "    }\n",
              "    60% {\n",
              "      border-color: transparent;\n",
              "      border-right-color: var(--fill-color);\n",
              "    }\n",
              "    80% {\n",
              "      border-color: transparent;\n",
              "      border-right-color: var(--fill-color);\n",
              "      border-bottom-color: var(--fill-color);\n",
              "    }\n",
              "    90% {\n",
              "      border-color: transparent;\n",
              "      border-bottom-color: var(--fill-color);\n",
              "    }\n",
              "  }\n",
              "</style>\n",
              "\n",
              "  <script>\n",
              "    async function quickchart(key) {\n",
              "      const quickchartButtonEl =\n",
              "        document.querySelector('#' + key + ' button');\n",
              "      quickchartButtonEl.disabled = true;  // To prevent multiple clicks.\n",
              "      quickchartButtonEl.classList.add('colab-df-spinner');\n",
              "      try {\n",
              "        const charts = await google.colab.kernel.invokeFunction(\n",
              "            'suggestCharts', [key], {});\n",
              "      } catch (error) {\n",
              "        console.error('Error during call to suggestCharts:', error);\n",
              "      }\n",
              "      quickchartButtonEl.classList.remove('colab-df-spinner');\n",
              "      quickchartButtonEl.classList.add('colab-df-quickchart-complete');\n",
              "    }\n",
              "    (() => {\n",
              "      let quickchartButtonEl =\n",
              "        document.querySelector('#df-193a7afb-7f8d-4ab4-934f-8e93851a7bcb button');\n",
              "      quickchartButtonEl.style.display =\n",
              "        google.colab.kernel.accessAllowed ? 'block' : 'none';\n",
              "    })();\n",
              "  </script>\n",
              "</div>\n",
              "    </div>\n",
              "  </div>\n"
            ]
          },
          "metadata": {},
          "execution_count": 5
        }
      ]
    },
    {
      "cell_type": "code",
      "source": [
        "df2.columns"
      ],
      "metadata": {
        "colab": {
          "base_uri": "https://localhost:8080/"
        },
        "id": "12gHhu5mK6Fo",
        "outputId": "822193ae-1f95-428c-8d10-f64a64abe656"
      },
      "execution_count": 6,
      "outputs": [
        {
          "output_type": "execute_result",
          "data": {
            "text/plain": [
              "Index(['Code (CPT/DRG)', 'Description', 'Rev Code', 'Inpatient/Outpatient',\n",
              "       'Gross Charges', 'Discounted Cash Price', 'Aetna', 'Cigna',\n",
              "       'Empire Blue Cross Blue Shield', 'Emblem Health', 'United Health Group',\n",
              "       'Aetna Medicare', 'AgeWell Medicare', 'Emblem Medicare',\n",
              "       'Empire Medicare', 'Fidelis Medicare', 'Healthfirst Medicare',\n",
              "       'UHC Community Plan/United Medicare', 'VNS Medicare',\n",
              "       'WellCare Medicare', '1199', 'Affinity Molina Essential',\n",
              "       'Affinity Molina Medicaid/CHP', 'Amida Care Medicaid',\n",
              "       'Emblem Medicaid/CHP', 'Empire Healthplus Essential',\n",
              "       'Empire Healthplus Exchange', 'Empire Healthplus Medicaid/CHP',\n",
              "       'Fidelis Essential/Exchange', 'Fidelis Medicaid/CHP',\n",
              "       'Healthfirst Essential/Exchange', 'Healthfirst Medicaid/CHP',\n",
              "       'MVP Medicaid/CHP', 'MVP Essential', 'United Community Plan Essential',\n",
              "       'United Community Plan Medicaid', 'VNS Medicaid',\n",
              "       'Consumer Health Network', 'Devon', 'Equian', 'First Health',\n",
              "       'Magnacare', 'Multiplan/Beechstreet/PHCS', 'QHM', 'Worldwide',\n",
              "       'Minimum Negotiated Charge', 'Maximum Negotiated Charge'],\n",
              "      dtype='object')"
            ]
          },
          "metadata": {},
          "execution_count": 6
        }
      ]
    },
    {
      "cell_type": "markdown",
      "source": [
        "## Data cleaning Hospital 2\n",
        "\n"
      ],
      "metadata": {
        "id": "UyU2yq1vIdKn"
      }
    },
    {
      "cell_type": "code",
      "source": [
        "# Drop empty columns\n",
        "df2.dropna(how='all', axis=1, inplace=True)\n",
        "print(df2)\n",
        "\n",
        "#No empty columns dropped"
      ],
      "metadata": {
        "id": "uLY8fF-bIdKx"
      },
      "execution_count": null,
      "outputs": []
    },
    {
      "cell_type": "code",
      "source": [
        "# Check for missing values in a column\n",
        "print(df2.isnull().sum())\n",
        "# Results in only Minimum Negotiated Charge and Maximum Negotiated Charge resulting in 281 missing values each"
      ],
      "metadata": {
        "id": "UGB167KHIdKx"
      },
      "execution_count": null,
      "outputs": []
    },
    {
      "cell_type": "code",
      "source": [
        "df2.drop_duplicates(inplace=True)\n",
        "# No duplicate rows identified"
      ],
      "metadata": {
        "id": "PZPNicmGIdKx"
      },
      "execution_count": 11,
      "outputs": []
    },
    {
      "cell_type": "code",
      "source": [
        "#Rename columns\n",
        "df2_clean=df2.rename(columns={'Code (CPT/DRG)':'CPTDRGCode', 'Inpatient/Outpatient':'Inpt_Oupt','Affinity Molina Medicaid/CHP':'Affinity_Molina_Medicaid_CHP','UHC Community Plan/United Medicare':\"UHC_CommPlan_Medicare\",'Emblem Medicaid/CHP':'Emblem_Medicaid_CHP','Empire Medicaid/CHP':'Empire_medicaid_CHP','Empire Healthplus Medicaid/CHP':'Empire_Healthplus_MedicaidCHP','Fidelis Essential/Exchange':'Fidelis_Essential_Exchange','Fidelis Medicaid/CHP':'Fidelis_Medicaid_CHP','Healthfirst Essential/Exchange':'Healthfirst_Essential_Exchange','Healthfirst Medicaid/CHP':'Healthfirst_Medicaid_CHP','MVP Medicaid/CHP':'MVP_Medicaid_CHP','Multiplan/Beechstreet/PHCS':'Multiplan_Beechstreet_PHCS'})"
      ],
      "metadata": {
        "id": "UuHSdfpRODxB"
      },
      "execution_count": 100,
      "outputs": []
    },
    {
      "cell_type": "code",
      "source": [],
      "metadata": {
        "id": "lMMP7mPqT5ty"
      },
      "execution_count": null,
      "outputs": []
    },
    {
      "cell_type": "markdown",
      "source": [
        "## Exploratory Analysis Hospital 2\n",
        "\n"
      ],
      "metadata": {
        "id": "cXm4fBbtI7Qo"
      }
    },
    {
      "cell_type": "markdown",
      "source": [
        "#### Observations:\n",
        "\n",
        "Very few missing values\n",
        "\n",
        "The majority of data is loaded as strings\n",
        "\n",
        "The presence of outliers skewed the data; removed all outliers greater than 3 standard deviations for the graphs"
      ],
      "metadata": {
        "id": "5KDfzv4_I7Qy"
      }
    },
    {
      "cell_type": "code",
      "source": [
        "df2_clean.dtypes"
      ],
      "metadata": {
        "colab": {
          "base_uri": "https://localhost:8080/"
        },
        "outputId": "e7adccad-8575-4041-c487-42c620b39f9f",
        "id": "aGJMsMTmI7Qz"
      },
      "execution_count": 138,
      "outputs": [
        {
          "output_type": "execute_result",
          "data": {
            "text/plain": [
              "CPTDRGCode                          object\n",
              "Description                         object\n",
              "Rev Code                            object\n",
              "Inpt_Oupt                           object\n",
              "Gross Charges                      float64\n",
              "Discounted Cash Price              float64\n",
              "Aetna                               object\n",
              "Cigna                               object\n",
              "Empire Blue Cross Blue Shield       object\n",
              "Emblem Health                       object\n",
              "United Health Group                 object\n",
              "Aetna Medicare                      object\n",
              "AgeWell Medicare                    object\n",
              "Emblem Medicare                     object\n",
              "Empire Medicare                     object\n",
              "Fidelis Medicare                    object\n",
              "Healthfirst Medicare                object\n",
              "UHC_CommPlan_Medicare               object\n",
              "VNS Medicare                        object\n",
              "WellCare Medicare                   object\n",
              "1199                                object\n",
              "Affinity Molina Essential           object\n",
              "Affinity_Molina_Medicaid_CHP        object\n",
              "Amida Care Medicaid                 object\n",
              "Emblem_Medicaid_CHP                 object\n",
              "Empire Healthplus Essential         object\n",
              "Empire Healthplus Exchange          object\n",
              "Empire_Healthplus_MedicaidCHP       object\n",
              "Fidelis_Essential_Exchange          object\n",
              "Fidelis_Medicaid_CHP                object\n",
              "Healthfirst_Essential_Exchange      object\n",
              "Healthfirst_Medicaid_CHP            object\n",
              "MVP_Medicaid_CHP                    object\n",
              "MVP Essential                       object\n",
              "United Community Plan Essential     object\n",
              "United Community Plan Medicaid      object\n",
              "VNS Medicaid                        object\n",
              "Consumer Health Network             object\n",
              "Devon                               object\n",
              "Equian                              object\n",
              "First Health                        object\n",
              "Magnacare                           object\n",
              "Multiplan_Beechstreet_PHCS          object\n",
              "QHM                                 object\n",
              "Worldwide                           object\n",
              "Minimum Negotiated Charge          float64\n",
              "Maximum Negotiated Charge          float64\n",
              "dtype: object"
            ]
          },
          "metadata": {},
          "execution_count": 138
        }
      ]
    },
    {
      "cell_type": "code",
      "source": [
        "df2_clean.describe()"
      ],
      "metadata": {
        "colab": {
          "base_uri": "https://localhost:8080/",
          "height": 301
        },
        "outputId": "f4ee6b95-d72a-4bbd-9bbe-70c5513d5874",
        "id": "9BP86BvnI7Qz"
      },
      "execution_count": 33,
      "outputs": [
        {
          "output_type": "execute_result",
          "data": {
            "text/plain": [
              "       Gross Charges  Discounted Cash Price  Minimum Negotiated Charge  \\\n",
              "count   6.193000e+03           6.193000e+03                5912.000000   \n",
              "mean    3.385988e+04           3.385988e+04                2249.918880   \n",
              "std     1.062409e+05           1.062409e+05                6015.717204   \n",
              "min     1.000000e+00           1.000000e+00                   0.454400   \n",
              "25%     5.970000e+02           5.970000e+02                 122.228437   \n",
              "50%     3.925000e+03           3.925000e+03                 431.142905   \n",
              "75%     3.033600e+04           3.033600e+04                2107.000000   \n",
              "max     2.538980e+06           2.538980e+06              204861.126000   \n",
              "\n",
              "       Maximum Negotiated Charge  \n",
              "count               5.912000e+03  \n",
              "mean                2.390277e+04  \n",
              "std                 7.136503e+04  \n",
              "min                 1.608000e+00  \n",
              "25%                 6.380010e+02  \n",
              "50%                 4.086731e+03  \n",
              "75%                 1.925640e+04  \n",
              "max                 1.713460e+06  "
            ],
            "text/html": [
              "\n",
              "  <div id=\"df-a919ff75-4278-4dc9-8c74-0efaa7313e4c\" class=\"colab-df-container\">\n",
              "    <div>\n",
              "<style scoped>\n",
              "    .dataframe tbody tr th:only-of-type {\n",
              "        vertical-align: middle;\n",
              "    }\n",
              "\n",
              "    .dataframe tbody tr th {\n",
              "        vertical-align: top;\n",
              "    }\n",
              "\n",
              "    .dataframe thead th {\n",
              "        text-align: right;\n",
              "    }\n",
              "</style>\n",
              "<table border=\"1\" class=\"dataframe\">\n",
              "  <thead>\n",
              "    <tr style=\"text-align: right;\">\n",
              "      <th></th>\n",
              "      <th>Gross Charges</th>\n",
              "      <th>Discounted Cash Price</th>\n",
              "      <th>Minimum Negotiated Charge</th>\n",
              "      <th>Maximum Negotiated Charge</th>\n",
              "    </tr>\n",
              "  </thead>\n",
              "  <tbody>\n",
              "    <tr>\n",
              "      <th>count</th>\n",
              "      <td>6.193000e+03</td>\n",
              "      <td>6.193000e+03</td>\n",
              "      <td>5912.000000</td>\n",
              "      <td>5.912000e+03</td>\n",
              "    </tr>\n",
              "    <tr>\n",
              "      <th>mean</th>\n",
              "      <td>3.385988e+04</td>\n",
              "      <td>3.385988e+04</td>\n",
              "      <td>2249.918880</td>\n",
              "      <td>2.390277e+04</td>\n",
              "    </tr>\n",
              "    <tr>\n",
              "      <th>std</th>\n",
              "      <td>1.062409e+05</td>\n",
              "      <td>1.062409e+05</td>\n",
              "      <td>6015.717204</td>\n",
              "      <td>7.136503e+04</td>\n",
              "    </tr>\n",
              "    <tr>\n",
              "      <th>min</th>\n",
              "      <td>1.000000e+00</td>\n",
              "      <td>1.000000e+00</td>\n",
              "      <td>0.454400</td>\n",
              "      <td>1.608000e+00</td>\n",
              "    </tr>\n",
              "    <tr>\n",
              "      <th>25%</th>\n",
              "      <td>5.970000e+02</td>\n",
              "      <td>5.970000e+02</td>\n",
              "      <td>122.228437</td>\n",
              "      <td>6.380010e+02</td>\n",
              "    </tr>\n",
              "    <tr>\n",
              "      <th>50%</th>\n",
              "      <td>3.925000e+03</td>\n",
              "      <td>3.925000e+03</td>\n",
              "      <td>431.142905</td>\n",
              "      <td>4.086731e+03</td>\n",
              "    </tr>\n",
              "    <tr>\n",
              "      <th>75%</th>\n",
              "      <td>3.033600e+04</td>\n",
              "      <td>3.033600e+04</td>\n",
              "      <td>2107.000000</td>\n",
              "      <td>1.925640e+04</td>\n",
              "    </tr>\n",
              "    <tr>\n",
              "      <th>max</th>\n",
              "      <td>2.538980e+06</td>\n",
              "      <td>2.538980e+06</td>\n",
              "      <td>204861.126000</td>\n",
              "      <td>1.713460e+06</td>\n",
              "    </tr>\n",
              "  </tbody>\n",
              "</table>\n",
              "</div>\n",
              "    <div class=\"colab-df-buttons\">\n",
              "\n",
              "  <div class=\"colab-df-container\">\n",
              "    <button class=\"colab-df-convert\" onclick=\"convertToInteractive('df-a919ff75-4278-4dc9-8c74-0efaa7313e4c')\"\n",
              "            title=\"Convert this dataframe to an interactive table.\"\n",
              "            style=\"display:none;\">\n",
              "\n",
              "  <svg xmlns=\"http://www.w3.org/2000/svg\" height=\"24px\" viewBox=\"0 -960 960 960\">\n",
              "    <path d=\"M120-120v-720h720v720H120Zm60-500h600v-160H180v160Zm220 220h160v-160H400v160Zm0 220h160v-160H400v160ZM180-400h160v-160H180v160Zm440 0h160v-160H620v160ZM180-180h160v-160H180v160Zm440 0h160v-160H620v160Z\"/>\n",
              "  </svg>\n",
              "    </button>\n",
              "\n",
              "  <style>\n",
              "    .colab-df-container {\n",
              "      display:flex;\n",
              "      gap: 12px;\n",
              "    }\n",
              "\n",
              "    .colab-df-convert {\n",
              "      background-color: #E8F0FE;\n",
              "      border: none;\n",
              "      border-radius: 50%;\n",
              "      cursor: pointer;\n",
              "      display: none;\n",
              "      fill: #1967D2;\n",
              "      height: 32px;\n",
              "      padding: 0 0 0 0;\n",
              "      width: 32px;\n",
              "    }\n",
              "\n",
              "    .colab-df-convert:hover {\n",
              "      background-color: #E2EBFA;\n",
              "      box-shadow: 0px 1px 2px rgba(60, 64, 67, 0.3), 0px 1px 3px 1px rgba(60, 64, 67, 0.15);\n",
              "      fill: #174EA6;\n",
              "    }\n",
              "\n",
              "    .colab-df-buttons div {\n",
              "      margin-bottom: 4px;\n",
              "    }\n",
              "\n",
              "    [theme=dark] .colab-df-convert {\n",
              "      background-color: #3B4455;\n",
              "      fill: #D2E3FC;\n",
              "    }\n",
              "\n",
              "    [theme=dark] .colab-df-convert:hover {\n",
              "      background-color: #434B5C;\n",
              "      box-shadow: 0px 1px 3px 1px rgba(0, 0, 0, 0.15);\n",
              "      filter: drop-shadow(0px 1px 2px rgba(0, 0, 0, 0.3));\n",
              "      fill: #FFFFFF;\n",
              "    }\n",
              "  </style>\n",
              "\n",
              "    <script>\n",
              "      const buttonEl =\n",
              "        document.querySelector('#df-a919ff75-4278-4dc9-8c74-0efaa7313e4c button.colab-df-convert');\n",
              "      buttonEl.style.display =\n",
              "        google.colab.kernel.accessAllowed ? 'block' : 'none';\n",
              "\n",
              "      async function convertToInteractive(key) {\n",
              "        const element = document.querySelector('#df-a919ff75-4278-4dc9-8c74-0efaa7313e4c');\n",
              "        const dataTable =\n",
              "          await google.colab.kernel.invokeFunction('convertToInteractive',\n",
              "                                                    [key], {});\n",
              "        if (!dataTable) return;\n",
              "\n",
              "        const docLinkHtml = 'Like what you see? Visit the ' +\n",
              "          '<a target=\"_blank\" href=https://colab.research.google.com/notebooks/data_table.ipynb>data table notebook</a>'\n",
              "          + ' to learn more about interactive tables.';\n",
              "        element.innerHTML = '';\n",
              "        dataTable['output_type'] = 'display_data';\n",
              "        await google.colab.output.renderOutput(dataTable, element);\n",
              "        const docLink = document.createElement('div');\n",
              "        docLink.innerHTML = docLinkHtml;\n",
              "        element.appendChild(docLink);\n",
              "      }\n",
              "    </script>\n",
              "  </div>\n",
              "\n",
              "\n",
              "<div id=\"df-2d31da25-093c-4b3e-92cb-f73dd36e3f96\">\n",
              "  <button class=\"colab-df-quickchart\" onclick=\"quickchart('df-2d31da25-093c-4b3e-92cb-f73dd36e3f96')\"\n",
              "            title=\"Suggest charts.\"\n",
              "            style=\"display:none;\">\n",
              "\n",
              "<svg xmlns=\"http://www.w3.org/2000/svg\" height=\"24px\"viewBox=\"0 0 24 24\"\n",
              "     width=\"24px\">\n",
              "    <g>\n",
              "        <path d=\"M19 3H5c-1.1 0-2 .9-2 2v14c0 1.1.9 2 2 2h14c1.1 0 2-.9 2-2V5c0-1.1-.9-2-2-2zM9 17H7v-7h2v7zm4 0h-2V7h2v10zm4 0h-2v-4h2v4z\"/>\n",
              "    </g>\n",
              "</svg>\n",
              "  </button>\n",
              "\n",
              "<style>\n",
              "  .colab-df-quickchart {\n",
              "      --bg-color: #E8F0FE;\n",
              "      --fill-color: #1967D2;\n",
              "      --hover-bg-color: #E2EBFA;\n",
              "      --hover-fill-color: #174EA6;\n",
              "      --disabled-fill-color: #AAA;\n",
              "      --disabled-bg-color: #DDD;\n",
              "  }\n",
              "\n",
              "  [theme=dark] .colab-df-quickchart {\n",
              "      --bg-color: #3B4455;\n",
              "      --fill-color: #D2E3FC;\n",
              "      --hover-bg-color: #434B5C;\n",
              "      --hover-fill-color: #FFFFFF;\n",
              "      --disabled-bg-color: #3B4455;\n",
              "      --disabled-fill-color: #666;\n",
              "  }\n",
              "\n",
              "  .colab-df-quickchart {\n",
              "    background-color: var(--bg-color);\n",
              "    border: none;\n",
              "    border-radius: 50%;\n",
              "    cursor: pointer;\n",
              "    display: none;\n",
              "    fill: var(--fill-color);\n",
              "    height: 32px;\n",
              "    padding: 0;\n",
              "    width: 32px;\n",
              "  }\n",
              "\n",
              "  .colab-df-quickchart:hover {\n",
              "    background-color: var(--hover-bg-color);\n",
              "    box-shadow: 0 1px 2px rgba(60, 64, 67, 0.3), 0 1px 3px 1px rgba(60, 64, 67, 0.15);\n",
              "    fill: var(--button-hover-fill-color);\n",
              "  }\n",
              "\n",
              "  .colab-df-quickchart-complete:disabled,\n",
              "  .colab-df-quickchart-complete:disabled:hover {\n",
              "    background-color: var(--disabled-bg-color);\n",
              "    fill: var(--disabled-fill-color);\n",
              "    box-shadow: none;\n",
              "  }\n",
              "\n",
              "  .colab-df-spinner {\n",
              "    border: 2px solid var(--fill-color);\n",
              "    border-color: transparent;\n",
              "    border-bottom-color: var(--fill-color);\n",
              "    animation:\n",
              "      spin 1s steps(1) infinite;\n",
              "  }\n",
              "\n",
              "  @keyframes spin {\n",
              "    0% {\n",
              "      border-color: transparent;\n",
              "      border-bottom-color: var(--fill-color);\n",
              "      border-left-color: var(--fill-color);\n",
              "    }\n",
              "    20% {\n",
              "      border-color: transparent;\n",
              "      border-left-color: var(--fill-color);\n",
              "      border-top-color: var(--fill-color);\n",
              "    }\n",
              "    30% {\n",
              "      border-color: transparent;\n",
              "      border-left-color: var(--fill-color);\n",
              "      border-top-color: var(--fill-color);\n",
              "      border-right-color: var(--fill-color);\n",
              "    }\n",
              "    40% {\n",
              "      border-color: transparent;\n",
              "      border-right-color: var(--fill-color);\n",
              "      border-top-color: var(--fill-color);\n",
              "    }\n",
              "    60% {\n",
              "      border-color: transparent;\n",
              "      border-right-color: var(--fill-color);\n",
              "    }\n",
              "    80% {\n",
              "      border-color: transparent;\n",
              "      border-right-color: var(--fill-color);\n",
              "      border-bottom-color: var(--fill-color);\n",
              "    }\n",
              "    90% {\n",
              "      border-color: transparent;\n",
              "      border-bottom-color: var(--fill-color);\n",
              "    }\n",
              "  }\n",
              "</style>\n",
              "\n",
              "  <script>\n",
              "    async function quickchart(key) {\n",
              "      const quickchartButtonEl =\n",
              "        document.querySelector('#' + key + ' button');\n",
              "      quickchartButtonEl.disabled = true;  // To prevent multiple clicks.\n",
              "      quickchartButtonEl.classList.add('colab-df-spinner');\n",
              "      try {\n",
              "        const charts = await google.colab.kernel.invokeFunction(\n",
              "            'suggestCharts', [key], {});\n",
              "      } catch (error) {\n",
              "        console.error('Error during call to suggestCharts:', error);\n",
              "      }\n",
              "      quickchartButtonEl.classList.remove('colab-df-spinner');\n",
              "      quickchartButtonEl.classList.add('colab-df-quickchart-complete');\n",
              "    }\n",
              "    (() => {\n",
              "      let quickchartButtonEl =\n",
              "        document.querySelector('#df-2d31da25-093c-4b3e-92cb-f73dd36e3f96 button');\n",
              "      quickchartButtonEl.style.display =\n",
              "        google.colab.kernel.accessAllowed ? 'block' : 'none';\n",
              "    })();\n",
              "  </script>\n",
              "</div>\n",
              "    </div>\n",
              "  </div>\n"
            ]
          },
          "metadata": {},
          "execution_count": 33
        }
      ]
    },
    {
      "cell_type": "code",
      "source": [
        "df2_clean['CPTDRGCode'].value_counts()"
      ],
      "metadata": {
        "colab": {
          "base_uri": "https://localhost:8080/"
        },
        "outputId": "52f00a0a-37e6-4a07-aa18-91e0a967d1c3",
        "id": "j-evDCjRI7Q1"
      },
      "execution_count": 71,
      "outputs": [
        {
          "output_type": "execute_result",
          "data": {
            "text/plain": [
              "96360    1\n",
              "D0705    1\n",
              "D0431    1\n",
              "D0425    1\n",
              "D0423    1\n",
              "        ..\n",
              "29874    1\n",
              "29873    1\n",
              "29871    1\n",
              "29870    1\n",
              "989      1\n",
              "Name: CPTDRGCode, Length: 6193, dtype: int64"
            ]
          },
          "metadata": {},
          "execution_count": 71
        }
      ]
    },
    {
      "cell_type": "code",
      "source": [
        "df2_clean['Description'].value_counts()"
      ],
      "metadata": {
        "colab": {
          "base_uri": "https://localhost:8080/"
        },
        "id": "F1BInf8aR7QZ",
        "outputId": "b032d563-a45e-4f25-af3a-a33d2ab1c8de"
      },
      "execution_count": 72,
      "outputs": [
        {
          "output_type": "execute_result",
          "data": {
            "text/plain": [
              "KNEE ARTHROSCOPY/SURGERY                                                         16\n",
              "REPAIR EYELID DEFECT                                                             12\n",
              "CYSTOSCOPY AND TREATMENT                                                         12\n",
              "TREAT HUMERUS FRACTURE                                                            9\n",
              "SHOULDER ARTHROSCOPY/SURGERY                                                      7\n",
              "                                                                                 ..\n",
              "AMPUTATION TOE METATARSAL                                                         1\n",
              "AMPUTATION THRU METATARSAL                                                        1\n",
              "AMPUTATION OF MIDFOOT                                                             1\n",
              "REVISION OF FOOT BONES                                                            1\n",
              "NON-EXTENSIVE O.R. PROCEDURES UNRELATED TO PRINCIPAL DIAGNOSIS WITHOUT CC/MCC     1\n",
              "Name: Description, Length: 5925, dtype: int64"
            ]
          },
          "metadata": {},
          "execution_count": 72
        }
      ]
    },
    {
      "cell_type": "code",
      "source": [
        "df2_clean['Rev Code'].value_counts()"
      ],
      "metadata": {
        "colab": {
          "base_uri": "https://localhost:8080/"
        },
        "id": "8KSKJelvSBzd",
        "outputId": "0e2263ab-a510-48b5-fe3b-f75462c94686"
      },
      "execution_count": 73,
      "outputs": [
        {
          "output_type": "execute_result",
          "data": {
            "text/plain": [
              "0360        1955\n",
              "0512         737\n",
              "Multiple     723\n",
              "0510         421\n",
              "0301         341\n",
              "            ... \n",
              "0770           1\n",
              "0204           1\n",
              "0616           1\n",
              "0110           1\n",
              "0801           1\n",
              "Name: Rev Code, Length: 150, dtype: int64"
            ]
          },
          "metadata": {},
          "execution_count": 73
        }
      ]
    },
    {
      "cell_type": "code",
      "source": [
        "df2_clean['Inpt_Oupt'].value_counts()"
      ],
      "metadata": {
        "colab": {
          "base_uri": "https://localhost:8080/"
        },
        "id": "opmg19BjSIB4",
        "outputId": "d9ab4f0d-b8df-47ae-9180-c3e17a2ee4ff"
      },
      "execution_count": 74,
      "outputs": [
        {
          "output_type": "execute_result",
          "data": {
            "text/plain": [
              "Inpatient/Outpatient    5470\n",
              "Inpatient                723\n",
              "Name: Inpt_Oupt, dtype: int64"
            ]
          },
          "metadata": {},
          "execution_count": 74
        }
      ]
    },
    {
      "cell_type": "code",
      "source": [
        "df2_clean['Aetna'].value_counts()"
      ],
      "metadata": {
        "colab": {
          "base_uri": "https://localhost:8080/"
        },
        "id": "yxGYVH6sSH-d",
        "outputId": "d1924eab-4763-4cf2-f3c4-b2e218d33d41"
      },
      "execution_count": 75,
      "outputs": [
        {
          "output_type": "execute_result",
          "data": {
            "text/plain": [
              "9144                           1652\n",
              "Not separately payable         1249\n",
              "Included in Service Package     234\n",
              "2846                            108\n",
              "17784                            75\n",
              "                               ... \n",
              "7747.896                          1\n",
              "6860.178                          1\n",
              "1469.403                          1\n",
              "493.506                           1\n",
              "38116.5824                        1\n",
              "Name: Aetna, Length: 2111, dtype: int64"
            ]
          },
          "metadata": {},
          "execution_count": 75
        }
      ]
    },
    {
      "cell_type": "code",
      "source": [
        "df2_clean['Cigna'].value_counts()"
      ],
      "metadata": {
        "colab": {
          "base_uri": "https://localhost:8080/"
        },
        "id": "WC_KAm6lSH7d",
        "outputId": "18c50012-447f-4c9f-f3f6-3c4064bd9988"
      },
      "execution_count": 76,
      "outputs": [
        {
          "output_type": "execute_result",
          "data": {
            "text/plain": [
              "7496                           1827\n",
              "Not separately payable         1178\n",
              "Included in Service Package     234\n",
              "559                              69\n",
              "232                              48\n",
              "                               ... \n",
              "1257.16                           1\n",
              "997.248                           1\n",
              "797.968                           1\n",
              "2245.504                          1\n",
              "43473.507792                      1\n",
              "Name: Cigna, Length: 1865, dtype: int64"
            ]
          },
          "metadata": {},
          "execution_count": 76
        }
      ]
    },
    {
      "cell_type": "code",
      "source": [
        "df2_clean['Empire Blue Cross Blue Shield'].value_counts()"
      ],
      "metadata": {
        "colab": {
          "base_uri": "https://localhost:8080/"
        },
        "id": "etehk5NDSH4B",
        "outputId": "8638adcd-e8ad-43b3-9966-7cba234350d9"
      },
      "execution_count": 77,
      "outputs": [
        {
          "output_type": "execute_result",
          "data": {
            "text/plain": [
              "11924                          530\n",
              "12938                          411\n",
              "Not separately payable         291\n",
              "9829                           254\n",
              "Included in Service Package    250\n",
              "                              ... \n",
              "723.4425                         1\n",
              "1529.7876                        1\n",
              "1476.6917                        1\n",
              "2045.1046                        1\n",
              "44463.77208                      1\n",
              "Name: Empire Blue Cross Blue Shield, Length: 2540, dtype: int64"
            ]
          },
          "metadata": {},
          "execution_count": 77
        }
      ]
    },
    {
      "cell_type": "code",
      "source": [
        "df2_clean['Emblem Health'].value_counts()"
      ],
      "metadata": {
        "colab": {
          "base_uri": "https://localhost:8080/"
        },
        "id": "7wlTVCgmSH0p",
        "outputId": "062467af-5c61-4521-c5a3-3256e4de7d42"
      },
      "execution_count": 78,
      "outputs": [
        {
          "output_type": "execute_result",
          "data": {
            "text/plain": [
              "9474.4                         1893\n",
              "Not separately payable         1220\n",
              "Included in Service Package     234\n",
              "Patient responsibility           47\n",
              "98.088                           23\n",
              "                               ... \n",
              "1423.738436                       1\n",
              "3662.753644                       1\n",
              "40064.495764                      1\n",
              "782.28                            1\n",
              "50601.70336                       1\n",
              "Name: Emblem Health, Length: 2253, dtype: int64"
            ]
          },
          "metadata": {},
          "execution_count": 78
        }
      ]
    },
    {
      "cell_type": "code",
      "source": [
        "df2_clean['United Health Group'].value_counts()"
      ],
      "metadata": {
        "colab": {
          "base_uri": "https://localhost:8080/"
        },
        "id": "qJY85nEuSHxQ",
        "outputId": "cbe2f456-3798-4b53-a6fc-1c48062104bd"
      },
      "execution_count": 79,
      "outputs": [
        {
          "output_type": "execute_result",
          "data": {
            "text/plain": [
              "6002                           425\n",
              "5445                           308\n",
              "7522                           276\n",
              "Included in Service Package    235\n",
              "9670                           222\n",
              "                              ... \n",
              "555.3388                         1\n",
              "33119.2                          1\n",
              "37455.2                          1\n",
              "41539.2                          1\n",
              "45239.1888                       1\n",
              "Name: United Health Group, Length: 2564, dtype: int64"
            ]
          },
          "metadata": {},
          "execution_count": 79
        }
      ]
    },
    {
      "cell_type": "code",
      "source": [
        "df2_clean['Aetna Medicare'].value_counts()"
      ],
      "metadata": {
        "colab": {
          "base_uri": "https://localhost:8080/"
        },
        "id": "-9G40RcYSHuF",
        "outputId": "af058392-ae5b-4f3c-8ecb-d182fa205f58"
      },
      "execution_count": 80,
      "outputs": [
        {
          "output_type": "execute_result",
          "data": {
            "text/plain": [
              "Not separately payable         1209\n",
              "Included in Service Package     234\n",
              "3646.4085                       137\n",
              "8102.92175                      129\n",
              "130.928                         107\n",
              "                               ... \n",
              "18.97                             1\n",
              "16.18                             1\n",
              "17.12                             1\n",
              "4.38                              1\n",
              "10642.8820036438                  1\n",
              "Name: Aetna Medicare, Length: 1531, dtype: int64"
            ]
          },
          "metadata": {},
          "execution_count": 80
        }
      ]
    },
    {
      "cell_type": "code",
      "source": [
        "df2_clean['AgeWell Medicare'].value_counts()"
      ],
      "metadata": {
        "colab": {
          "base_uri": "https://localhost:8080/"
        },
        "id": "3PpEB6EKSHq-",
        "outputId": "80381df1-bb9a-41cf-a8a3-aef1c2f3bc4b"
      },
      "execution_count": 81,
      "outputs": [
        {
          "output_type": "execute_result",
          "data": {
            "text/plain": [
              "Not separately payable         1209\n",
              "Included in Service Package     234\n",
              "4558.010625                     137\n",
              "10128.6521875                   129\n",
              "163.66                          107\n",
              "                               ... \n",
              "23.7125                           1\n",
              "20.225                            1\n",
              "21.4                              1\n",
              "5.475                             1\n",
              "13303.6025045547                  1\n",
              "Name: AgeWell Medicare, Length: 1532, dtype: int64"
            ]
          },
          "metadata": {},
          "execution_count": 81
        }
      ]
    },
    {
      "cell_type": "code",
      "source": [
        "df2_clean['Emblem Medicare'].value_counts()"
      ],
      "metadata": {
        "colab": {
          "base_uri": "https://localhost:8080/"
        },
        "id": "3g2uJFkuSHnb",
        "outputId": "5ef9ccb1-b414-4e27-f7a5-01b83bfd64b0"
      },
      "execution_count": 82,
      "outputs": [
        {
          "output_type": "execute_result",
          "data": {
            "text/plain": [
              "Not separately payable         1209\n",
              "Included in Service Package     234\n",
              "3646.4085                       137\n",
              "8102.92175                      129\n",
              "130.928                         107\n",
              "                               ... \n",
              "18.97                             1\n",
              "16.18                             1\n",
              "17.12                             1\n",
              "4.38                              1\n",
              "10642.8820036438                  1\n",
              "Name: Emblem Medicare, Length: 1531, dtype: int64"
            ]
          },
          "metadata": {},
          "execution_count": 82
        }
      ]
    },
    {
      "cell_type": "code",
      "source": [
        "df2_clean['Empire Medicare'].value_counts()"
      ],
      "metadata": {
        "colab": {
          "base_uri": "https://localhost:8080/"
        },
        "id": "PMRH_mUDSHks",
        "outputId": "4dd6f9f5-9e9a-4df4-a105-d00a86d0e35d"
      },
      "execution_count": 83,
      "outputs": [
        {
          "output_type": "execute_result",
          "data": {
            "text/plain": [
              "Not separately payable         1209\n",
              "Included in Service Package     234\n",
              "3646.4085                       137\n",
              "8102.92175                      129\n",
              "130.928                         107\n",
              "                               ... \n",
              "18.97                             1\n",
              "16.18                             1\n",
              "17.12                             1\n",
              "4.38                              1\n",
              "10642.8820036438                  1\n",
              "Name: Empire Medicare, Length: 1530, dtype: int64"
            ]
          },
          "metadata": {},
          "execution_count": 83
        }
      ]
    },
    {
      "cell_type": "code",
      "source": [
        "df2_clean['Fidelis Medicare'].value_counts()"
      ],
      "metadata": {
        "colab": {
          "base_uri": "https://localhost:8080/"
        },
        "id": "WoxMWpL4SHhm",
        "outputId": "c4bbda1f-a704-47f2-c98c-5e1e85e9ef06"
      },
      "execution_count": 84,
      "outputs": [
        {
          "output_type": "execute_result",
          "data": {
            "text/plain": [
              "Not separately payable         1209\n",
              "Included in Service Package     234\n",
              "3646.4085                       137\n",
              "8102.92175                      129\n",
              "130.928                         107\n",
              "                               ... \n",
              "18.97                             1\n",
              "16.18                             1\n",
              "17.12                             1\n",
              "4.38                              1\n",
              "10962.1684637531                  1\n",
              "Name: Fidelis Medicare, Length: 1531, dtype: int64"
            ]
          },
          "metadata": {},
          "execution_count": 84
        }
      ]
    },
    {
      "cell_type": "code",
      "source": [
        "df2_clean['Healthfirst Medicare'].value_counts()"
      ],
      "metadata": {
        "colab": {
          "base_uri": "https://localhost:8080/"
        },
        "id": "3Q1LwO9HSHes",
        "outputId": "aeefb6b8-60e9-48e0-920b-a6f92ebc071c"
      },
      "execution_count": 85,
      "outputs": [
        {
          "output_type": "execute_result",
          "data": {
            "text/plain": [
              "Not separately payable         1209\n",
              "Included in Service Package     234\n",
              "3755.800755                     137\n",
              "8346.0094025                    129\n",
              "134.85584                       107\n",
              "                               ... \n",
              "19.5391                           1\n",
              "16.665399999999998                1\n",
              "17.6336                           1\n",
              "4.5114                            1\n",
              "10962.1684637531                  1\n",
              "Name: Healthfirst Medicare, Length: 1532, dtype: int64"
            ]
          },
          "metadata": {},
          "execution_count": 85
        }
      ]
    },
    {
      "cell_type": "code",
      "source": [
        "df2_clean['UHC_CommPlan_Medicare'].value_counts()"
      ],
      "metadata": {
        "colab": {
          "base_uri": "https://localhost:8080/"
        },
        "id": "7GAK6hiJSHb2",
        "outputId": "a02a9dd5-fd12-407e-d0f5-9b6528c7c19f"
      },
      "execution_count": 86,
      "outputs": [
        {
          "output_type": "execute_result",
          "data": {
            "text/plain": [
              "Not separately payable         1209\n",
              "Included in Service Package     234\n",
              "3682.872585                     137\n",
              "8183.9509675                    129\n",
              "132.23728                       107\n",
              "                               ... \n",
              "126.1187                          1\n",
              "92.5766                           1\n",
              "263.3979                          1\n",
              "209.5346                          1\n",
              "10749.3108236802                  1\n",
              "Name: UHC_CommPlan_Medicare, Length: 1529, dtype: int64"
            ]
          },
          "metadata": {},
          "execution_count": 86
        }
      ]
    },
    {
      "cell_type": "code",
      "source": [
        "df2_clean['VNS Medicare'].value_counts()"
      ],
      "metadata": {
        "colab": {
          "base_uri": "https://localhost:8080/"
        },
        "id": "pawA9v89SHYt",
        "outputId": "d6925bf7-edc7-4097-a6a9-6620f3c9b962"
      },
      "execution_count": 87,
      "outputs": [
        {
          "output_type": "execute_result",
          "data": {
            "text/plain": [
              "Not separately payable         1209\n",
              "Included in Service Package     234\n",
              "3755.800755                     137\n",
              "8346.0094025                    129\n",
              "134.85584                       107\n",
              "                               ... \n",
              "128.3792                          1\n",
              "128.6161                          1\n",
              "94.4098                           1\n",
              "268.6137                          1\n",
              "10962.1684637531                  1\n",
              "Name: VNS Medicare, Length: 1531, dtype: int64"
            ]
          },
          "metadata": {},
          "execution_count": 87
        }
      ]
    },
    {
      "cell_type": "code",
      "source": [
        "df2_clean['WellCare Medicare'].value_counts()"
      ],
      "metadata": {
        "colab": {
          "base_uri": "https://localhost:8080/"
        },
        "id": "DKHSfUWKSHVW",
        "outputId": "ce43e027-feac-4a5b-85c1-2db41ef410eb"
      },
      "execution_count": 88,
      "outputs": [
        {
          "output_type": "execute_result",
          "data": {
            "text/plain": [
              "Not separately payable         1209\n",
              "Included in Service Package     234\n",
              "3774.0327975                    137\n",
              "8386.52401125                   129\n",
              "135.51048                       107\n",
              "                               ... \n",
              "19.63395                          1\n",
              "16.7463                           1\n",
              "17.7192                           1\n",
              "4.5333                            1\n",
              "11015.3828737713                  1\n",
              "Name: WellCare Medicare, Length: 1532, dtype: int64"
            ]
          },
          "metadata": {},
          "execution_count": 88
        }
      ]
    },
    {
      "cell_type": "code",
      "source": [
        "df2_clean['1199'].value_counts()"
      ],
      "metadata": {
        "colab": {
          "base_uri": "https://localhost:8080/"
        },
        "id": "HbhgPLyDSHSm",
        "outputId": "e2c97a40-9486-4d82-c338-6af5a82a588e"
      },
      "execution_count": 89,
      "outputs": [
        {
          "output_type": "execute_result",
          "data": {
            "text/plain": [
              "2107                           375\n",
              "2412                           343\n",
              "1564                           236\n",
              "Included in Service Package    235\n",
              "2965                           189\n",
              "                              ... \n",
              "601                              1\n",
              "202.5                            1\n",
              "197                              1\n",
              "389                              1\n",
              "17670.3696                       1\n",
              "Name: 1199, Length: 2230, dtype: int64"
            ]
          },
          "metadata": {},
          "execution_count": 89
        }
      ]
    },
    {
      "cell_type": "code",
      "source": [
        "df2_clean['Affinity Molina Essential'].value_counts()"
      ],
      "metadata": {
        "colab": {
          "base_uri": "https://localhost:8080/"
        },
        "id": "XkWYCL8NSHPQ",
        "outputId": "a8fc8883-07e0-425d-b00d-5c2e3b1a6ebb"
      },
      "execution_count": 90,
      "outputs": [
        {
          "output_type": "execute_result",
          "data": {
            "text/plain": [
              "Not separately payable         446\n",
              "Included in Service Package    234\n",
              "190.4488947622                 118\n",
              "1307.4003956636                 99\n",
              "242.2919270951                  94\n",
              "                              ... \n",
              "72216.7658361309                 1\n",
              "38214.5105                       1\n",
              "73221.8380676645                 1\n",
              "42207.9497086591                 1\n",
              "26478.2326888993                 1\n",
              "Name: Affinity Molina Essential, Length: 1139, dtype: int64"
            ]
          },
          "metadata": {},
          "execution_count": 90
        }
      ]
    },
    {
      "cell_type": "code",
      "source": [
        "df2_clean['Affinity_Molina_Medicaid_CHP'].value_counts()"
      ],
      "metadata": {
        "colab": {
          "base_uri": "https://localhost:8080/"
        },
        "id": "y4QHS6N7SHL_",
        "outputId": "0adab0a6-d447-4002-b526-9ed3e55ee49c"
      },
      "execution_count": 91,
      "outputs": [
        {
          "output_type": "execute_result",
          "data": {
            "text/plain": [
              "Not separately payable         446\n",
              "Included in Service Package    234\n",
              "84.6439532276                  118\n",
              "581.0668425172                  99\n",
              "107.6853009311                  94\n",
              "                              ... \n",
              "31339.3512119059                 1\n",
              "16583.6555                       1\n",
              "31775.5146331374                 1\n",
              "18316.6574207388                 1\n",
              "11490.5538083903                 1\n",
              "Name: Affinity_Molina_Medicaid_CHP, Length: 1139, dtype: int64"
            ]
          },
          "metadata": {},
          "execution_count": 91
        }
      ]
    },
    {
      "cell_type": "code",
      "source": [
        "df2_clean['Amida Care Medicaid'].value_counts()"
      ],
      "metadata": {
        "colab": {
          "base_uri": "https://localhost:8080/"
        },
        "id": "DapgJwUkSHJC",
        "outputId": "fe93f2d9-064c-484c-b240-0014c80e3c79"
      },
      "execution_count": 92,
      "outputs": [
        {
          "output_type": "execute_result",
          "data": {
            "text/plain": [
              "Not separately payable         446\n",
              "Included in Service Package    234\n",
              "97.3405462118                  118\n",
              "668.2268688947                  99\n",
              "123.8380960708                  94\n",
              "                              ... \n",
              "31339.3512119059                 1\n",
              "16583.6555                       1\n",
              "31775.5146331374                 1\n",
              "18316.6574207388                 1\n",
              "11490.5538083903                 1\n",
              "Name: Amida Care Medicaid, Length: 1139, dtype: int64"
            ]
          },
          "metadata": {},
          "execution_count": 92
        }
      ]
    },
    {
      "cell_type": "code",
      "source": [
        "df2_clean['Emblem_Medicaid_CHP'].value_counts()"
      ],
      "metadata": {
        "colab": {
          "base_uri": "https://localhost:8080/"
        },
        "id": "5egj3_MwSHF7",
        "outputId": "5016aa50-c615-42fa-d6fb-7fe30b9ad555"
      },
      "execution_count": 93,
      "outputs": [
        {
          "output_type": "execute_result",
          "data": {
            "text/plain": [
              "Not separately payable         446\n",
              "Included in Service Package    234\n",
              "97.3405462118                  118\n",
              "668.2268688947                  99\n",
              "123.8380960708                  94\n",
              "                              ... \n",
              "31339.3512119059                 1\n",
              "16583.6555                       1\n",
              "31775.5146331374                 1\n",
              "18316.6574207388                 1\n",
              "11490.5538083903                 1\n",
              "Name: Emblem_Medicaid_CHP, Length: 1139, dtype: int64"
            ]
          },
          "metadata": {},
          "execution_count": 93
        }
      ]
    },
    {
      "cell_type": "code",
      "source": [
        "df2_clean['Empire Healthplus Essential'].value_counts()"
      ],
      "metadata": {
        "colab": {
          "base_uri": "https://localhost:8080/"
        },
        "id": "Xbhx-GUeSHC3",
        "outputId": "8edd067d-3b93-4472-a78c-87dc393c8425"
      },
      "execution_count": 94,
      "outputs": [
        {
          "output_type": "execute_result",
          "data": {
            "text/plain": [
              "Not separately payable         446\n",
              "Included in Service Package    234\n",
              "190.4488947622                 118\n",
              "1307.4003956636                 99\n",
              "242.2919270951                  94\n",
              "                              ... \n",
              "61316.1219363376                 1\n",
              "32446.2825                       1\n",
              "62169.4851517906                 1\n",
              "35836.9384318803                 1\n",
              "22481.5183207636                 1\n",
              "Name: Empire Healthplus Essential, Length: 1139, dtype: int64"
            ]
          },
          "metadata": {},
          "execution_count": 94
        }
      ]
    },
    {
      "cell_type": "code",
      "source": [
        "df2_clean['Empire Healthplus Exchange'].value_counts()"
      ],
      "metadata": {
        "colab": {
          "base_uri": "https://localhost:8080/"
        },
        "id": "zEsa1MWYSG_3",
        "outputId": "5fda6a20-33de-4b99-f9c9-b830f164abeb"
      },
      "execution_count": 95,
      "outputs": [
        {
          "output_type": "execute_result",
          "data": {
            "text/plain": [
              "Not separately payable         446\n",
              "Included in Service Package    234\n",
              "211.6098830691                 118\n",
              "1452.6671062929                 99\n",
              "269.2132523279                  94\n",
              "                              ... \n",
              "68129.0243737084                 1\n",
              "36051.425                        1\n",
              "69077.2057242118                 1\n",
              "39818.820479867                  1\n",
              "24979.4648008484                 1\n",
              "Name: Empire Healthplus Exchange, Length: 1139, dtype: int64"
            ]
          },
          "metadata": {},
          "execution_count": 95
        }
      ]
    },
    {
      "cell_type": "code",
      "source": [
        "df2_clean['Empire_Healthplus_MedicaidCHP'].value_counts()"
      ],
      "metadata": {
        "colab": {
          "base_uri": "https://localhost:8080/"
        },
        "id": "MLxKdfJmSG9H",
        "outputId": "34cadf5f-3bce-4b62-adae-0822385d35ce"
      },
      "execution_count": 96,
      "outputs": [
        {
          "output_type": "execute_result",
          "data": {
            "text/plain": [
              "Not separately payable         446\n",
              "Included in Service Package    234\n",
              "84.6439532276                  118\n",
              "581.0668425172                  99\n",
              "107.6853009311                  94\n",
              "                              ... \n",
              "27251.6097494834                 1\n",
              "14420.57                         1\n",
              "27630.8822896847                 1\n",
              "15927.5281919468                 1\n",
              "9991.7859203394                  1\n",
              "Name: Empire_Healthplus_MedicaidCHP, Length: 1139, dtype: int64"
            ]
          },
          "metadata": {},
          "execution_count": 96
        }
      ]
    },
    {
      "cell_type": "code",
      "source": [
        "df2_clean['Fidelis_Essential_Exchange'].value_counts()"
      ],
      "metadata": {
        "colab": {
          "base_uri": "https://localhost:8080/"
        },
        "id": "93HAdoVkSG58",
        "outputId": "434dd507-3ae2-4506-9e64-06287be685aa"
      },
      "execution_count": 97,
      "outputs": [
        {
          "output_type": "execute_result",
          "data": {
            "text/plain": [
              "Not separately payable         446\n",
              "Included in Service Package    234\n",
              "211.6098830691                 118\n",
              "1452.6671062929                 99\n",
              "269.2132523279                  94\n",
              "                              ... \n",
              "68129.0243737084                 1\n",
              "36051.425                        1\n",
              "69077.2057242118                 1\n",
              "39818.820479867                  1\n",
              "24979.4648008484                 1\n",
              "Name: Fidelis_Essential_Exchange, Length: 1139, dtype: int64"
            ]
          },
          "metadata": {},
          "execution_count": 97
        }
      ]
    },
    {
      "cell_type": "code",
      "source": [
        "df2_clean['Fidelis_Medicaid_CHP'].value_counts()"
      ],
      "metadata": {
        "colab": {
          "base_uri": "https://localhost:8080/"
        },
        "id": "7GKL7-cJSG3I",
        "outputId": "68e344a5-a945-46f1-e56f-3e9866d8032b"
      },
      "execution_count": 98,
      "outputs": [
        {
          "output_type": "execute_result",
          "data": {
            "text/plain": [
              "Not separately payable         446\n",
              "Included in Service Package    234\n",
              "84.6439532276                  118\n",
              "581.0668425172                  99\n",
              "107.6853009311                  94\n",
              "                              ... \n",
              "31339.3512119059                 1\n",
              "16583.6555                       1\n",
              "31775.5146331374                 1\n",
              "18316.6574207388                 1\n",
              "11490.5538083903                 1\n",
              "Name: Fidelis_Medicaid_CHP, Length: 1139, dtype: int64"
            ]
          },
          "metadata": {},
          "execution_count": 98
        }
      ]
    },
    {
      "cell_type": "code",
      "source": [
        "df2_clean['Healthfirst_Essential_Exchange'].value_counts()"
      ],
      "metadata": {
        "colab": {
          "base_uri": "https://localhost:8080/"
        },
        "id": "R5jRYB2RSGz-",
        "outputId": "48f2ac2f-a8db-4249-df98-40beb5d4f5a7"
      },
      "execution_count": 103,
      "outputs": [
        {
          "output_type": "execute_result",
          "data": {
            "text/plain": [
              "Not separately payable         446\n",
              "Included in Service Package    234\n",
              "See Tab A                       50\n",
              "Patient responsibility          47\n",
              "73.2                            28\n",
              "                              ... \n",
              "37180.2                          1\n",
              "27329.4                          1\n",
              "38318.4                          1\n",
              "32698.2                          1\n",
              "5995.0715522036                  1\n",
              "Name: Healthfirst_Essential_Exchange, Length: 3844, dtype: int64"
            ]
          },
          "metadata": {},
          "execution_count": 103
        }
      ]
    },
    {
      "cell_type": "code",
      "source": [
        "df2_clean['Healthfirst_Medicaid_CHP'].value_counts()"
      ],
      "metadata": {
        "colab": {
          "base_uri": "https://localhost:8080/"
        },
        "id": "FuwiBRoBSGuH",
        "outputId": "a3acae08-fac6-4201-8d6e-888ef1c440ec"
      },
      "execution_count": 69,
      "outputs": [
        {
          "output_type": "execute_result",
          "data": {
            "text/plain": [
              "Not separately payable         446\n",
              "Included in Service Package    234\n",
              "88.876150889                   118\n",
              "610.120184643                   99\n",
              "113.0695659777                  94\n",
              "                              ... \n",
              "28614.1902369575                 1\n",
              "15141.5985                       1\n",
              "29012.426404169                  1\n",
              "16723.9046015442                 1\n",
              "10491.3752163563                 1\n",
              "Name: Healthfirst_Medicaid_CHP, Length: 1139, dtype: int64"
            ]
          },
          "metadata": {},
          "execution_count": 69
        }
      ]
    },
    {
      "cell_type": "code",
      "source": [
        "df2_clean['MVP_Medicaid_CHP'].value_counts()"
      ],
      "metadata": {
        "colab": {
          "base_uri": "https://localhost:8080/"
        },
        "id": "7CzA1XO_SGxJ",
        "outputId": "3e9362bf-4768-4bac-9dbc-d68eb9a324fa"
      },
      "execution_count": 68,
      "outputs": [
        {
          "output_type": "execute_result",
          "data": {
            "text/plain": [
              "Not separately payable         446\n",
              "Included in Service Package    234\n",
              "84.6439532276                  118\n",
              "581.0668425172                  99\n",
              "107.6853009311                  94\n",
              "                              ... \n",
              "31339.3512119059                 1\n",
              "16583.6555                       1\n",
              "31775.5146331374                 1\n",
              "18316.6574207388                 1\n",
              "11490.5538083903                 1\n",
              "Name: MVP_Medicaid_CHP, Length: 1139, dtype: int64"
            ]
          },
          "metadata": {},
          "execution_count": 68
        }
      ]
    },
    {
      "cell_type": "code",
      "source": [
        "df2_clean['MVP Essential'].value_counts()"
      ],
      "metadata": {
        "colab": {
          "base_uri": "https://localhost:8080/"
        },
        "id": "FqoRRjDmSGrJ",
        "outputId": "9cb348c7-2a6b-4000-efeb-f39e32f6d1cf"
      },
      "execution_count": 67,
      "outputs": [
        {
          "output_type": "execute_result",
          "data": {
            "text/plain": [
              "Not separately payable         446\n",
              "Included in Service Package    234\n",
              "101.5727438732                 118\n",
              "697.2802110206                  99\n",
              "129.2223611174                  94\n",
              "                              ... \n",
              "32701.93169938                   1\n",
              "17304.684                        1\n",
              "33157.0587476217                 1\n",
              "19113.0338303362                 1\n",
              "11990.1431044072                 1\n",
              "Name: MVP Essential, Length: 1139, dtype: int64"
            ]
          },
          "metadata": {},
          "execution_count": 67
        }
      ]
    },
    {
      "cell_type": "code",
      "source": [
        "df2_clean['United Community Plan Essential'].value_counts()"
      ],
      "metadata": {
        "colab": {
          "base_uri": "https://localhost:8080/"
        },
        "id": "gZ4LRhcwSGoZ",
        "outputId": "81204195-d8bf-4e7d-9119-daf185de7c04"
      },
      "execution_count": 66,
      "outputs": [
        {
          "output_type": "execute_result",
          "data": {
            "text/plain": [
              "Not separately payable         446\n",
              "Included in Service Package    234\n",
              "118.5015345187                 118\n",
              "813.493579524                   99\n",
              "150.7594213036                  94\n",
              "                              ... \n",
              "38152.2536492767                 1\n",
              "20188.798                        1\n",
              "38683.2352055586                 1\n",
              "22298.5394687255                 1\n",
              "13988.5002884751                 1\n",
              "Name: United Community Plan Essential, Length: 1139, dtype: int64"
            ]
          },
          "metadata": {},
          "execution_count": 66
        }
      ]
    },
    {
      "cell_type": "code",
      "source": [
        "df2_clean['United Community Plan Medicaid'].value_counts()"
      ],
      "metadata": {
        "colab": {
          "base_uri": "https://localhost:8080/"
        },
        "id": "lOBRCCpnSGk8",
        "outputId": "39511a8a-8aa8-4093-d778-55550f5e4ab9"
      },
      "execution_count": 65,
      "outputs": [
        {
          "output_type": "execute_result",
          "data": {
            "text/plain": [
              "Not separately payable         446\n",
              "Included in Service Package    234\n",
              "84.6439532276                  118\n",
              "581.0668425172                  99\n",
              "107.6853009311                  94\n",
              "                              ... \n",
              "27251.6097494834                 1\n",
              "14420.57                         1\n",
              "27630.8822896847                 1\n",
              "15927.5281919468                 1\n",
              "9991.7859203394                  1\n",
              "Name: United Community Plan Medicaid, Length: 1139, dtype: int64"
            ]
          },
          "metadata": {},
          "execution_count": 65
        }
      ]
    },
    {
      "cell_type": "code",
      "source": [
        "df2_clean['VNS Medicaid'].value_counts()"
      ],
      "metadata": {
        "colab": {
          "base_uri": "https://localhost:8080/"
        },
        "id": "DuEw0Q9KSGiJ",
        "outputId": "54c54a12-6770-4e77-cfa3-492d30a2b819"
      },
      "execution_count": 63,
      "outputs": [
        {
          "output_type": "execute_result",
          "data": {
            "text/plain": [
              "Not separately payable         446\n",
              "Included in Service Package    234\n",
              "84.6439532276                  118\n",
              "581.0668425172                  99\n",
              "107.6853009311                  94\n",
              "                              ... \n",
              "31339.3512119059                 1\n",
              "16583.6555                       1\n",
              "31775.5146331374                 1\n",
              "18316.6574207388                 1\n",
              "11490.5538083903                 1\n",
              "Name: VNS Medicaid, Length: 1139, dtype: int64"
            ]
          },
          "metadata": {},
          "execution_count": 63
        }
      ]
    },
    {
      "cell_type": "code",
      "source": [
        "df2_clean['Consumer Health Network'].value_counts()"
      ],
      "metadata": {
        "colab": {
          "base_uri": "https://localhost:8080/"
        },
        "id": "7XdDdYUGSGft",
        "outputId": "6518b4fb-999b-4b47-c1fe-756769694164"
      },
      "execution_count": 62,
      "outputs": [
        {
          "output_type": "execute_result",
          "data": {
            "text/plain": [
              "Included in Service Package    234\n",
              "Patient responsibility          47\n",
              "55.4368                         32\n",
              "1516.3328                       29\n",
              "1160.0832                       27\n",
              "                              ... \n",
              "9940                             1\n",
              "9591.4752                        1\n",
              "6383.8656                        1\n",
              "12465.5552                       1\n",
              "35025.8969869067                 1\n",
              "Name: Consumer Health Network, Length: 3988, dtype: int64"
            ]
          },
          "metadata": {},
          "execution_count": 62
        }
      ]
    },
    {
      "cell_type": "code",
      "source": [
        "df2_clean['Devon'].value_counts()"
      ],
      "metadata": {
        "colab": {
          "base_uri": "https://localhost:8080/"
        },
        "id": "mAXoKRueSGcz",
        "outputId": "281c7937-4596-4b6f-b085-9ee7a6923663"
      },
      "execution_count": 61,
      "outputs": [
        {
          "output_type": "execute_result",
          "data": {
            "text/plain": [
              "Included in Service Package    234\n",
              "Patient responsibility          47\n",
              "55.4368                         32\n",
              "1516.3328                       29\n",
              "1160.0832                       27\n",
              "                              ... \n",
              "9940                             1\n",
              "9591.4752                        1\n",
              "6383.8656                        1\n",
              "12465.5552                       1\n",
              "35025.8969869067                 1\n",
              "Name: Devon, Length: 3988, dtype: int64"
            ]
          },
          "metadata": {},
          "execution_count": 61
        }
      ]
    },
    {
      "cell_type": "code",
      "source": [
        "df2_clean['Equian'].value_counts()"
      ],
      "metadata": {
        "colab": {
          "base_uri": "https://localhost:8080/"
        },
        "id": "XwAz0lRQSGZ_",
        "outputId": "58b609ab-c165-4116-e2f3-39fd07949e0c"
      },
      "execution_count": 60,
      "outputs": [
        {
          "output_type": "execute_result",
          "data": {
            "text/plain": [
              "Included in Service Package    234\n",
              "Patient responsibility          47\n",
              "55.4368                         32\n",
              "1516.3328                       29\n",
              "1160.0832                       27\n",
              "                              ... \n",
              "9940                             1\n",
              "9591.4752                        1\n",
              "6383.8656                        1\n",
              "12465.5552                       1\n",
              "35025.8969869067                 1\n",
              "Name: Equian, Length: 3988, dtype: int64"
            ]
          },
          "metadata": {},
          "execution_count": 60
        }
      ]
    },
    {
      "cell_type": "code",
      "source": [
        "df2_clean['First Health'].value_counts()"
      ],
      "metadata": {
        "colab": {
          "base_uri": "https://localhost:8080/"
        },
        "id": "0Umu4UX9SGXG",
        "outputId": "2ff9a9f2-86f5-4b79-85b1-3e24af2fcfde"
      },
      "execution_count": 59,
      "outputs": [
        {
          "output_type": "execute_result",
          "data": {
            "text/plain": [
              "Included in Service Package    234\n",
              "Patient responsibility          47\n",
              "55.4368                         32\n",
              "1516.3328                       29\n",
              "1160.0832                       27\n",
              "                              ... \n",
              "9940                             1\n",
              "9591.4752                        1\n",
              "6383.8656                        1\n",
              "12465.5552                       1\n",
              "35025.8969869067                 1\n",
              "Name: First Health, Length: 3988, dtype: int64"
            ]
          },
          "metadata": {},
          "execution_count": 59
        }
      ]
    },
    {
      "cell_type": "code",
      "source": [
        "df2_clean['Magnacare'].value_counts()"
      ],
      "metadata": {
        "colab": {
          "base_uri": "https://localhost:8080/"
        },
        "id": "hPYPwiCGSGUs",
        "outputId": "61dbfb6b-92d9-486b-a1e7-841b9e06308d"
      },
      "execution_count": 58,
      "outputs": [
        {
          "output_type": "execute_result",
          "data": {
            "text/plain": [
              "Included in Service Package    234\n",
              "Patient responsibility          47\n",
              "55.4368                         32\n",
              "1516.3328                       29\n",
              "1160.0832                       27\n",
              "                              ... \n",
              "9940                             1\n",
              "9591.4752                        1\n",
              "6383.8656                        1\n",
              "12465.5552                       1\n",
              "35025.8969869067                 1\n",
              "Name: Magnacare, Length: 3988, dtype: int64"
            ]
          },
          "metadata": {},
          "execution_count": 58
        }
      ]
    },
    {
      "cell_type": "code",
      "source": [
        "df2_clean['Multiplan_Beechstreet_PHCS'].value_counts()"
      ],
      "metadata": {
        "colab": {
          "base_uri": "https://localhost:8080/"
        },
        "id": "gLIHxKkMSGSA",
        "outputId": "c72d768c-18d5-47b9-e53a-7e4b199be932"
      },
      "execution_count": 57,
      "outputs": [
        {
          "output_type": "execute_result",
          "data": {
            "text/plain": [
              "Included in Service Package    234\n",
              "Patient responsibility          47\n",
              "55.4368                         32\n",
              "1516.3328                       29\n",
              "1160.0832                       27\n",
              "                              ... \n",
              "9940                             1\n",
              "9591.4752                        1\n",
              "6383.8656                        1\n",
              "12465.5552                       1\n",
              "35025.8969869067                 1\n",
              "Name: Multiplan_Beechstreet_PHCS, Length: 3988, dtype: int64"
            ]
          },
          "metadata": {},
          "execution_count": 57
        }
      ]
    },
    {
      "cell_type": "code",
      "source": [
        "df2_clean['QHM'].value_counts()"
      ],
      "metadata": {
        "colab": {
          "base_uri": "https://localhost:8080/"
        },
        "id": "OBrRbRaPSGPO",
        "outputId": "cf1bbec1-4cd7-4996-899b-fac0780f0a08"
      },
      "execution_count": 56,
      "outputs": [
        {
          "output_type": "execute_result",
          "data": {
            "text/plain": [
              "Included in Service Package    234\n",
              "Patient responsibility          47\n",
              "55.4368                         32\n",
              "1516.3328                       29\n",
              "1160.0832                       27\n",
              "                              ... \n",
              "9940                             1\n",
              "9591.4752                        1\n",
              "6383.8656                        1\n",
              "12465.5552                       1\n",
              "35025.8969869067                 1\n",
              "Name: QHM, Length: 3988, dtype: int64"
            ]
          },
          "metadata": {},
          "execution_count": 56
        }
      ]
    },
    {
      "cell_type": "code",
      "source": [
        "df2_clean['Worldwide'].value_counts()"
      ],
      "metadata": {
        "colab": {
          "base_uri": "https://localhost:8080/"
        },
        "id": "dQnCkcyXSGMh",
        "outputId": "86beb2d6-7cda-44a2-a11a-1018b3efda99"
      },
      "execution_count": 55,
      "outputs": [
        {
          "output_type": "execute_result",
          "data": {
            "text/plain": [
              "Included in Service Package    234\n",
              "Patient responsibility          47\n",
              "55.4368                         32\n",
              "1516.3328                       29\n",
              "1160.0832                       27\n",
              "                              ... \n",
              "9940                             1\n",
              "9591.4752                        1\n",
              "6383.8656                        1\n",
              "12465.5552                       1\n",
              "35025.8969869067                 1\n",
              "Name: Worldwide, Length: 3988, dtype: int64"
            ]
          },
          "metadata": {},
          "execution_count": 55
        }
      ]
    },
    {
      "cell_type": "code",
      "source": [
        "# Data distribution\n",
        "\n",
        "# Calculate mean, median, and mode\n",
        "mean2= df2_clean[['Gross Charges','Discounted Cash Price','Minimum Negotiated Charge', 'Maximum Negotiated Charge']].mean()\n",
        "median2 = df2_clean[['Gross Charges','Discounted Cash Price','Minimum Negotiated Charge', 'Maximum Negotiated Charge']].median()\n",
        "mode2 = df2_clean[['Gross Charges','Discounted Cash Price','Minimum Negotiated Charge', 'Maximum Negotiated Charge']].mode().iloc[0]\n",
        "print(\"Mean is:\\n\", mean2, '\\n')\n",
        "print(\"Median is:\\n\", median2, '\\n')\n",
        "print(\"Mode is:\\n \", mode2, '\\n')\n",
        "# Calculate range\n",
        "range2 = df2_clean[['Gross Charges','Discounted Cash Price','Minimum Negotiated Charge', 'Maximum Negotiated Charge']].max() - df2_clean[['Gross Charges','Discounted Cash Price','Minimum Negotiated Charge', 'Maximum Negotiated Charge']].min()\n",
        "print(\"Range is:\\n\", range2, '\\n')\n",
        "# Calculate variance and standard deviation\n",
        "variance2 = np.var(df2_clean[['Gross Charges','Discounted Cash Price','Minimum Negotiated Charge', 'Maximum Negotiated Charge']])\n",
        "print(\"Variance is:\\n\",variance2, '\\n')\n",
        "std_dev2 = np.std(df2_clean[['Gross Charges','Discounted Cash Price','Minimum Negotiated Charge', 'Maximum Negotiated Charge']])\n",
        "print(\"Standard Deviation is:\\n\", std_dev2)"
      ],
      "metadata": {
        "colab": {
          "base_uri": "https://localhost:8080/"
        },
        "outputId": "116f87ad-0a5d-4f4c-a733-f8cc6952e1ff",
        "id": "VW3ptdwAI7Q1"
      },
      "execution_count": 150,
      "outputs": [
        {
          "output_type": "stream",
          "name": "stdout",
          "text": [
            "Mean is:\n",
            " Gross Charges                33859.881200\n",
            "Discounted Cash Price        33859.881200\n",
            "Minimum Negotiated Charge     2249.918880\n",
            "Maximum Negotiated Charge    23902.774243\n",
            "dtype: float64 \n",
            "\n",
            "Median is:\n",
            " Gross Charges                3925.000000\n",
            "Discounted Cash Price        3925.000000\n",
            "Minimum Negotiated Charge     431.142905\n",
            "Maximum Negotiated Charge    4086.731300\n",
            "dtype: float64 \n",
            "\n",
            "Mode is:\n",
            "  Gross Charges                  122.0\n",
            "Discounted Cash Price          122.0\n",
            "Minimum Negotiated Charge     2412.0\n",
            "Maximum Negotiated Charge    11924.0\n",
            "Name: 0, dtype: float64 \n",
            "\n",
            "Range is:\n",
            " Gross Charges                2.538979e+06\n",
            "Discounted Cash Price        2.538979e+06\n",
            "Minimum Negotiated Charge    2.048607e+05\n",
            "Maximum Negotiated Charge    1.713459e+06\n",
            "dtype: float64 \n",
            "\n",
            "Variance is:\n",
            " Gross Charges                1.128531e+10\n",
            "Discounted Cash Price        1.128531e+10\n",
            "Minimum Negotiated Charge    3.618273e+07\n",
            "Maximum Negotiated Charge    5.092106e+09\n",
            "dtype: float64 \n",
            "\n",
            "Standard Deviation is:\n",
            " Gross Charges                106232.356020\n",
            "Discounted Cash Price        106232.356020\n",
            "Minimum Negotiated Charge      6015.208411\n",
            "Maximum Negotiated Charge     71358.992536\n",
            "dtype: float64\n"
          ]
        }
      ]
    },
    {
      "cell_type": "code",
      "source": [
        "df2_clean.to_csv('/content/newdb_NewYorkPresbyterianHospital_standardcharges.csv')"
      ],
      "metadata": {
        "id": "8Ap8ALUJI7Q2"
      },
      "execution_count": 168,
      "outputs": []
    },
    {
      "cell_type": "code",
      "source": [
        "# Remove outliers by only allowing data within 3 standard deviations\n",
        "df2_clean_outliers = df2_clean[df2_clean[['Gross Charges','Discounted Cash Price','Minimum Negotiated Charge','Maximum Negotiated Charge']]<= std_dev2*3]"
      ],
      "metadata": {
        "id": "ydmTLL95I7Q2"
      },
      "execution_count": 126,
      "outputs": []
    },
    {
      "cell_type": "code",
      "source": [
        "fig1 = go.Figure(data=[go.Histogram(x=df2_clean_outliers['Gross Charges'], histnorm='probability')])\n",
        "print('Gross Charges Histogram')\n",
        "display.Image(\"/content/newplot.png\")"
      ],
      "metadata": {
        "colab": {
          "base_uri": "https://localhost:8080/",
          "height": 559
        },
        "id": "nqdi3CidZPR2",
        "outputId": "1282a1af-7b7d-44c3-8428-99a37ecbbbd2"
      },
      "execution_count": 166,
      "outputs": [
        {
          "output_type": "stream",
          "name": "stdout",
          "text": [
            "Gross Charges Histogram\n"
          ]
        },
        {
          "output_type": "execute_result",
          "data": {
            "image/png": "[encoded data removed]",
            "text/plain": [
              "<IPython.core.display.Image object>"
            ]
          },
          "metadata": {},
          "execution_count": 166
        }
      ]
    },
    {
      "cell_type": "code",
      "source": [
        "fig2 = go.Figure(data=[go.Histogram(x=df2_clean_outliers['Discounted Cash Price'], histnorm='probability')])\n",
        "print('Discounted Cash Price Histogram')\n",
        "display.Image(\"/content/newplot (1).png\")"
      ],
      "metadata": {
        "colab": {
          "base_uri": "https://localhost:8080/",
          "height": 559
        },
        "outputId": "82924fb7-7d46-472c-923a-451a2289b309",
        "id": "pQIpah85aFxT"
      },
      "execution_count": 165,
      "outputs": [
        {
          "output_type": "stream",
          "name": "stdout",
          "text": [
            "Discounted Cash Price Histogram\n"
          ]
        },
        {
          "output_type": "execute_result",
          "data": {
            "image/png": "[encoded data removed]",
            "text/plain": [
              "<IPython.core.display.Image object>"
            ]
          },
          "metadata": {},
          "execution_count": 165
        }
      ]
    },
    {
      "cell_type": "code",
      "source": [
        "fig3 = go.Figure(data=[go.Histogram(x=df2_clean_outliers['Minimum Negotiated Charge'], histnorm='probability')])\n",
        "print('Minimum Negotiated Charge Histogram')\n",
        "display.Image(\"/content/newplot (2).png\")"
      ],
      "metadata": {
        "colab": {
          "base_uri": "https://localhost:8080/",
          "height": 559
        },
        "outputId": "95adc65a-3918-47e6-c3a3-f12ea27a0063",
        "id": "NnlhAG0qaF70"
      },
      "execution_count": 164,
      "outputs": [
        {
          "output_type": "stream",
          "name": "stdout",
          "text": [
            "Minimum Negotiated Charge Histogram\n"
          ]
        },
        {
          "output_type": "execute_result",
          "data": {
            "image/png": "[encoded data removed]",
            "text/plain": [
              "<IPython.core.display.Image object>"
            ]
          },
          "metadata": {},
          "execution_count": 164
        }
      ]
    },
    {
      "cell_type": "code",
      "source": [
        "fig4 = go.Figure(data=[go.Histogram(x=df2_clean_outliers['Maximum Negotiated Charge'], histnorm='probability')])\n",
        "print('Maximum Negotiated Charge Histogram')\n",
        "display.Image(\"/content/newplot (3).png\")"
      ],
      "metadata": {
        "colab": {
          "base_uri": "https://localhost:8080/",
          "height": 559
        },
        "outputId": "66d06dbd-0e6a-402e-a190-b72e5946f68e",
        "id": "eUgrRvg7aGIZ"
      },
      "execution_count": 163,
      "outputs": [
        {
          "output_type": "stream",
          "name": "stdout",
          "text": [
            "Maximum Negotiated Charge Histogram\n"
          ]
        },
        {
          "output_type": "execute_result",
          "data": {
            "image/png": "[encoded data removed]",
            "text/plain": [
              "<IPython.core.display.Image object>"
            ]
          },
          "metadata": {},
          "execution_count": 163
        }
      ]
    },
    {
      "cell_type": "markdown",
      "source": [
        "# SQLite Database Operations"
      ],
      "metadata": {
        "id": "YbivWjpdtDsV"
      }
    },
    {
      "cell_type": "code",
      "source": [
        "conn = sqlite3.connect('health.db')\n",
        "c = conn.cursor()"
      ],
      "metadata": {
        "id": "s8fwUxAfst-i"
      },
      "execution_count": 135,
      "outputs": []
    },
    {
      "cell_type": "markdown",
      "source": [
        "### Manual table creation"
      ],
      "metadata": {
        "id": "w2KlnVi1xENl"
      }
    },
    {
      "cell_type": "code",
      "source": [
        "c.execute('''\n",
        "              CREATE TABLE msqCharges7\n",
        "                    (\n",
        "                      Charge_description text,\n",
        "                      Department_name text,\n",
        "                      Rate_Charged real,\n",
        "                      PaidClaim real,\n",
        "                      LostRevenue real\n",
        "                    );\n",
        "          ''')\n",
        "conn.commit()"
      ],
      "metadata": {
        "id": "FpjBbVqXvqs6"
      },
      "execution_count": null,
      "outputs": []
    },
    {
      "cell_type": "code",
      "source": [
        "c.execute('''\n",
        "\n",
        "  SELECT name\n",
        "  FROM sqlite_master\n",
        "  WHERE type='table';\n",
        "   ''')\n",
        "print(c.fetchall())"
      ],
      "metadata": {
        "colab": {
          "base_uri": "https://localhost:8080/"
        },
        "id": "MICnE_cKwxZa",
        "outputId": "d5e0d3f1-dcdb-4e1b-81ba-00fa3841f3e7"
      },
      "execution_count": null,
      "outputs": [
        {
          "output_type": "stream",
          "name": "stdout",
          "text": [
            "[('msqCharges1',), ('msqCharges',), ('msqCharges2',), ('msqCharges3',), ('msqCharges4',), ('msqCharges5',), ('msqCharges5db',), ('msq_database',), ('msqCharges6',), ('msqCharges7',)]\n"
          ]
        }
      ]
    },
    {
      "cell_type": "code",
      "source": [
        "sql_query = '''\n",
        "INSERT INTO msqCharges7\n",
        "  (\n",
        "  'Charge_description',\n",
        "  'Department_name',\n",
        "  'Rate_Charged',\n",
        "  'PaidClaim',\n",
        "  'LostRevenue'\n",
        ")\n",
        "values\n",
        "  (\n",
        "  'Mount Sinai Queens',\n",
        "  'Outpatient Surgery',\n",
        "   10000,\n",
        "   5000,\n",
        "   5000\n",
        ");\n",
        "\n",
        "'''\n",
        "print(sql_query)"
      ],
      "metadata": {
        "colab": {
          "base_uri": "https://localhost:8080/"
        },
        "id": "UNf2cnKyzjul",
        "outputId": "0e0eca48-e78b-4ac5-aa47-c7b698325fb8"
      },
      "execution_count": null,
      "outputs": [
        {
          "output_type": "stream",
          "name": "stdout",
          "text": [
            "\n",
            "INSERT INTO msqCharges7\n",
            "  (\n",
            "  'Charge_description',\n",
            "  'Department_name',\n",
            "  'Rate_Charged',\n",
            "  'PaidClaim',\n",
            "  'LostRevenue'\n",
            ")\n",
            "values\n",
            "  (\n",
            "  'Mount Sinai Queens',\n",
            "  'Outpatient Surgery',\n",
            "   10000,\n",
            "   5000,\n",
            "   5000\n",
            ");\n",
            "\n",
            "\n"
          ]
        }
      ]
    },
    {
      "cell_type": "code",
      "source": [
        "c.execute(sql_query)\n",
        "conn.commit()"
      ],
      "metadata": {
        "id": "QZPLVYsR0yLy"
      },
      "execution_count": null,
      "outputs": []
    },
    {
      "cell_type": "code",
      "source": [
        "sql_query_2 = '''\n",
        "\n",
        "select *\n",
        "from msqCharges7;\n",
        "\n",
        "'''\n",
        "\n",
        "c.execute(sql_query_2)\n",
        "print(c.fetchall())"
      ],
      "metadata": {
        "colab": {
          "base_uri": "https://localhost:8080/"
        },
        "id": "197iISNd1hwm",
        "outputId": "fa890638-de42-4df3-c9ef-6942d0127591"
      },
      "execution_count": null,
      "outputs": [
        {
          "output_type": "stream",
          "name": "stdout",
          "text": [
            "[('Mount Sinai Queens', 'Outpatient Surgery', 10000.0, 5000.0, 5000.0)]\n"
          ]
        }
      ]
    },
    {
      "cell_type": "code",
      "source": [
        "msqCharges7db = pd.read_sql('select * from msqCharges7;', conn)"
      ],
      "metadata": {
        "id": "NwvajQFo128B"
      },
      "execution_count": null,
      "outputs": []
    },
    {
      "cell_type": "code",
      "source": [
        "msqCharges7db.to_sql('msqCharges57db', conn, if_exists=\"replace\")"
      ],
      "metadata": {
        "colab": {
          "base_uri": "https://localhost:8080/"
        },
        "id": "P36uXDJa19BC",
        "outputId": "be17a59a-3985-4fb7-f7a4-262e12ba42e6"
      },
      "execution_count": null,
      "outputs": [
        {
          "output_type": "execute_result",
          "data": {
            "text/plain": [
              "1"
            ]
          },
          "metadata": {},
          "execution_count": 194
        }
      ]
    },
    {
      "cell_type": "code",
      "source": [
        "query = '''\n",
        "select *\n",
        " from msqCharges7\n",
        ";\n",
        " '''\n",
        "\n",
        "response = pd.read_sql(query, conn)\n",
        "response"
      ],
      "metadata": {
        "colab": {
          "base_uri": "https://localhost:8080/",
          "height": 80
        },
        "id": "rdFaeTK_2b6c",
        "outputId": "9e4cbfa0-eb18-4d50-943d-c2ca746209c6"
      },
      "execution_count": null,
      "outputs": [
        {
          "output_type": "execute_result",
          "data": {
            "text/plain": [
              "   Charge_description     Department_name  Rate_Charged  PaidClaim  \\\n",
              "0  Mount Sinai Queens  Outpatient Surgery       10000.0     5000.0   \n",
              "\n",
              "   LostRevenue  \n",
              "0       5000.0  "
            ],
            "text/html": [
              "\n",
              "  <div id=\"df-27950d52-775f-44a2-9f5e-8130edea2a85\" class=\"colab-df-container\">\n",
              "    <div>\n",
              "<style scoped>\n",
              "    .dataframe tbody tr th:only-of-type {\n",
              "        vertical-align: middle;\n",
              "    }\n",
              "\n",
              "    .dataframe tbody tr th {\n",
              "        vertical-align: top;\n",
              "    }\n",
              "\n",
              "    .dataframe thead th {\n",
              "        text-align: right;\n",
              "    }\n",
              "</style>\n",
              "<table border=\"1\" class=\"dataframe\">\n",
              "  <thead>\n",
              "    <tr style=\"text-align: right;\">\n",
              "      <th></th>\n",
              "      <th>Charge_description</th>\n",
              "      <th>Department_name</th>\n",
              "      <th>Rate_Charged</th>\n",
              "      <th>PaidClaim</th>\n",
              "      <th>LostRevenue</th>\n",
              "    </tr>\n",
              "  </thead>\n",
              "  <tbody>\n",
              "    <tr>\n",
              "      <th>0</th>\n",
              "      <td>Mount Sinai Queens</td>\n",
              "      <td>Outpatient Surgery</td>\n",
              "      <td>10000.0</td>\n",
              "      <td>5000.0</td>\n",
              "      <td>5000.0</td>\n",
              "    </tr>\n",
              "  </tbody>\n",
              "</table>\n",
              "</div>\n",
              "    <div class=\"colab-df-buttons\">\n",
              "\n",
              "  <div class=\"colab-df-container\">\n",
              "    <button class=\"colab-df-convert\" onclick=\"convertToInteractive('df-27950d52-775f-44a2-9f5e-8130edea2a85')\"\n",
              "            title=\"Convert this dataframe to an interactive table.\"\n",
              "            style=\"display:none;\">\n",
              "\n",
              "  <svg xmlns=\"http://www.w3.org/2000/svg\" height=\"24px\" viewBox=\"0 -960 960 960\">\n",
              "    <path d=\"M120-120v-720h720v720H120Zm60-500h600v-160H180v160Zm220 220h160v-160H400v160Zm0 220h160v-160H400v160ZM180-400h160v-160H180v160Zm440 0h160v-160H620v160ZM180-180h160v-160H180v160Zm440 0h160v-160H620v160Z\"/>\n",
              "  </svg>\n",
              "    </button>\n",
              "\n",
              "  <style>\n",
              "    .colab-df-container {\n",
              "      display:flex;\n",
              "      gap: 12px;\n",
              "    }\n",
              "\n",
              "    .colab-df-convert {\n",
              "      background-color: #E8F0FE;\n",
              "      border: none;\n",
              "      border-radius: 50%;\n",
              "      cursor: pointer;\n",
              "      display: none;\n",
              "      fill: #1967D2;\n",
              "      height: 32px;\n",
              "      padding: 0 0 0 0;\n",
              "      width: 32px;\n",
              "    }\n",
              "\n",
              "    .colab-df-convert:hover {\n",
              "      background-color: #E2EBFA;\n",
              "      box-shadow: 0px 1px 2px rgba(60, 64, 67, 0.3), 0px 1px 3px 1px rgba(60, 64, 67, 0.15);\n",
              "      fill: #174EA6;\n",
              "    }\n",
              "\n",
              "    .colab-df-buttons div {\n",
              "      margin-bottom: 4px;\n",
              "    }\n",
              "\n",
              "    [theme=dark] .colab-df-convert {\n",
              "      background-color: #3B4455;\n",
              "      fill: #D2E3FC;\n",
              "    }\n",
              "\n",
              "    [theme=dark] .colab-df-convert:hover {\n",
              "      background-color: #434B5C;\n",
              "      box-shadow: 0px 1px 3px 1px rgba(0, 0, 0, 0.15);\n",
              "      filter: drop-shadow(0px 1px 2px rgba(0, 0, 0, 0.3));\n",
              "      fill: #FFFFFF;\n",
              "    }\n",
              "  </style>\n",
              "\n",
              "    <script>\n",
              "      const buttonEl =\n",
              "        document.querySelector('#df-27950d52-775f-44a2-9f5e-8130edea2a85 button.colab-df-convert');\n",
              "      buttonEl.style.display =\n",
              "        google.colab.kernel.accessAllowed ? 'block' : 'none';\n",
              "\n",
              "      async function convertToInteractive(key) {\n",
              "        const element = document.querySelector('#df-27950d52-775f-44a2-9f5e-8130edea2a85');\n",
              "        const dataTable =\n",
              "          await google.colab.kernel.invokeFunction('convertToInteractive',\n",
              "                                                    [key], {});\n",
              "        if (!dataTable) return;\n",
              "\n",
              "        const docLinkHtml = 'Like what you see? Visit the ' +\n",
              "          '<a target=\"_blank\" href=https://colab.research.google.com/notebooks/data_table.ipynb>data table notebook</a>'\n",
              "          + ' to learn more about interactive tables.';\n",
              "        element.innerHTML = '';\n",
              "        dataTable['output_type'] = 'display_data';\n",
              "        await google.colab.output.renderOutput(dataTable, element);\n",
              "        const docLink = document.createElement('div');\n",
              "        docLink.innerHTML = docLinkHtml;\n",
              "        element.appendChild(docLink);\n",
              "      }\n",
              "    </script>\n",
              "  </div>\n",
              "\n",
              "    </div>\n",
              "  </div>\n"
            ]
          },
          "metadata": {},
          "execution_count": 195
        }
      ]
    },
    {
      "cell_type": "markdown",
      "source": [
        "### Automatic table creation"
      ],
      "metadata": {
        "id": "FoV0i0xRxSIx"
      }
    },
    {
      "cell_type": "code",
      "source": [
        "nyp_db = pd.read_csv('/content/newdb_NewYorkPresbyterianHospital_standardcharges.csv')"
      ],
      "metadata": {
        "id": "WbVjk-v03eIQ"
      },
      "execution_count": 183,
      "outputs": []
    },
    {
      "cell_type": "code",
      "source": [
        "nyp_db.to_sql('nyp_db', conn, if_exists='append', index=False)"
      ],
      "metadata": {
        "colab": {
          "base_uri": "https://localhost:8080/"
        },
        "id": "Rkti2bat3pir",
        "outputId": "b5dff0c8-10e1-4965-f03a-8017b05d71a1"
      },
      "execution_count": 184,
      "outputs": [
        {
          "output_type": "execute_result",
          "data": {
            "text/plain": [
              "6193"
            ]
          },
          "metadata": {},
          "execution_count": 184
        }
      ]
    },
    {
      "cell_type": "code",
      "source": [
        "query = '''\n",
        "select *\n",
        " from nyp_db\n",
        ";\n",
        " '''\n",
        "\n",
        "response2 = pd.read_sql(query, conn)\n",
        "response2"
      ],
      "metadata": {
        "colab": {
          "base_uri": "https://localhost:8080/",
          "height": 1000
        },
        "id": "mt24bh-L4yy3",
        "outputId": "44cfa6f5-be71-4dd8-b601-546b4176f43b"
      },
      "execution_count": 185,
      "outputs": [
        {
          "output_type": "execute_result",
          "data": {
            "text/plain": [
              "      Unnamed: 0 CPTDRGCode  \\\n",
              "0              0      96360   \n",
              "1              1      96361   \n",
              "2              2      96365   \n",
              "3              3      96367   \n",
              "4              4      96368   \n",
              "...          ...        ...   \n",
              "6188        6188        982   \n",
              "6189        6189        983   \n",
              "6190        6190        987   \n",
              "6191        6191        988   \n",
              "6192        6192        989   \n",
              "\n",
              "                                            Description  Rev Code  \\\n",
              "0           HC IV INFUSION HYDRATION INITIAL 31 MIN-1HR      0260   \n",
              "1               HC IV INFUSION HYDRATION FLUIDS ADDL HR      0260   \n",
              "2     HC IV INFUSION FOR THER/PROPH/DIAG INITIAL UP ...      0260   \n",
              "3     HC IV INF THER/PROPH/DIAG ADDL SEQ NEW DRUG UP...      0260   \n",
              "4         HC IV INFUSION FOR THER/PROPH/DIAG CONCURRENT      0260   \n",
              "...                                                 ...       ...   \n",
              "6188  EXTENSIVE O.R. PROCEDURES UNRELATED TO PRINCIP...  Multiple   \n",
              "6189  EXTENSIVE O.R. PROCEDURES UNRELATED TO PRINCIP...  Multiple   \n",
              "6190  NON-EXTENSIVE O.R. PROCEDURES UNRELATED TO PRI...  Multiple   \n",
              "6191  NON-EXTENSIVE O.R. PROCEDURES UNRELATED TO PRI...  Multiple   \n",
              "6192  NON-EXTENSIVE O.R. PROCEDURES UNRELATED TO PRI...  Multiple   \n",
              "\n",
              "                 Inpt_Oupt  Gross Charges  Discounted Cash Price        Aetna  \\\n",
              "0     Inpatient/Outpatient     866.000000             866.000000      641.706   \n",
              "1     Inpatient/Outpatient     358.000000             358.000000      265.278   \n",
              "2     Inpatient/Outpatient    1397.000000            1397.000000     1035.177   \n",
              "3     Inpatient/Outpatient     480.000000             480.000000       355.68   \n",
              "4     Inpatient/Outpatient     480.000000             480.000000       355.68   \n",
              "...                    ...            ...                    ...          ...   \n",
              "6188             Inpatient  184095.129020          184095.129020   86723.5232   \n",
              "6189             Inpatient   85385.941857           85385.941857   57748.8352   \n",
              "6190             Inpatient  411665.999955          411665.999955  114736.9984   \n",
              "6191             Inpatient  126522.871140          126522.871140   58654.7264   \n",
              "6192             Inpatient   77081.639496           77081.639496   38116.5824   \n",
              "\n",
              "              Cigna Empire Blue Cross Blue Shield  ...  \\\n",
              "0           494.486                        640.84  ...   \n",
              "1           204.418                        264.92  ...   \n",
              "2           797.687                       1033.78  ...   \n",
              "3            274.08                         355.2  ...   \n",
              "4            274.08                         355.2  ...   \n",
              "...             ...                           ...  ...   \n",
              "6188   98911.694706                      82299.84  ...   \n",
              "6189   65864.888166              63931.4550933333  ...   \n",
              "6190  130862.199072                 214294.876425  ...   \n",
              "6191   66898.093812                    91907.6928  ...   \n",
              "6192   43473.507792                   44463.77208  ...   \n",
              "\n",
              "     Consumer Health Network              Devon             Equian  \\\n",
              "0                   393.5104           393.5104           393.5104   \n",
              "1                   162.6752           162.6752           162.6752   \n",
              "2                   634.7968           634.7968           634.7968   \n",
              "3                    218.112            218.112            218.112   \n",
              "4                    218.112            218.112            218.112   \n",
              "...                      ...                ...                ...   \n",
              "6188        83652.8266268735   83652.8266268735   83652.8266268735   \n",
              "6189        38799.3719796408   38799.3719796408   38799.3719796408   \n",
              "6190       187061.0303797436  187061.0303797436  187061.0303797436   \n",
              "6191        57491.9926458445   57491.9926458445   57491.9926458445   \n",
              "6192        35025.8969869067   35025.8969869067   35025.8969869067   \n",
              "\n",
              "           First Health          Magnacare Multiplan_Beechstreet_PHCS  \\\n",
              "0              393.5104           393.5104                   393.5104   \n",
              "1              162.6752           162.6752                   162.6752   \n",
              "2              634.7968           634.7968                   634.7968   \n",
              "3               218.112            218.112                    218.112   \n",
              "4               218.112            218.112                    218.112   \n",
              "...                 ...                ...                        ...   \n",
              "6188   83652.8266268735   83652.8266268735           83652.8266268735   \n",
              "6189   38799.3719796408   38799.3719796408           38799.3719796408   \n",
              "6190  187061.0303797436  187061.0303797436          187061.0303797436   \n",
              "6191   57491.9926458445   57491.9926458445           57491.9926458445   \n",
              "6192   35025.8969869067   35025.8969869067           35025.8969869067   \n",
              "\n",
              "                    QHM          Worldwide Minimum Negotiated Charge  \\\n",
              "0              393.5104           393.5104                253.048250   \n",
              "1              162.6752           162.6752                 51.903250   \n",
              "2              634.7968           634.7968                253.048250   \n",
              "3               218.112            218.112                 82.650750   \n",
              "4               218.112            218.112                156.982800   \n",
              "...                 ...                ...                       ...   \n",
              "6188   83652.8266268735   83652.8266268735              12561.144027   \n",
              "6189   38799.3719796408   38799.3719796408               7833.746854   \n",
              "6190  187061.0303797436  187061.0303797436              21016.798830   \n",
              "6191   57491.9926458445   57491.9926458445              10429.428059   \n",
              "6192   35025.8969869067   35025.8969869067               5995.071552   \n",
              "\n",
              "     Maximum Negotiated Charge  \n",
              "0                  1388.424000  \n",
              "1                  1990.891341  \n",
              "2                  1475.508000  \n",
              "3                  1325.120000  \n",
              "4                  1325.120000  \n",
              "...                        ...  \n",
              "6188             115129.891480  \n",
              "6189              76664.518280  \n",
              "6190             214294.876425  \n",
              "6191              91907.692800  \n",
              "6192              50601.703360  \n",
              "\n",
              "[6193 rows x 48 columns]"
            ],
            "text/html": [
              "\n",
              "  <div id=\"df-d0edcc14-52f4-47c7-a5b0-ad67a7646aa4\" class=\"colab-df-container\">\n",
              "    <div>\n",
              "<style scoped>\n",
              "    .dataframe tbody tr th:only-of-type {\n",
              "        vertical-align: middle;\n",
              "    }\n",
              "\n",
              "    .dataframe tbody tr th {\n",
              "        vertical-align: top;\n",
              "    }\n",
              "\n",
              "    .dataframe thead th {\n",
              "        text-align: right;\n",
              "    }\n",
              "</style>\n",
              "<table border=\"1\" class=\"dataframe\">\n",
              "  <thead>\n",
              "    <tr style=\"text-align: right;\">\n",
              "      <th></th>\n",
              "      <th>Unnamed: 0</th>\n",
              "      <th>CPTDRGCode</th>\n",
              "      <th>Description</th>\n",
              "      <th>Rev Code</th>\n",
              "      <th>Inpt_Oupt</th>\n",
              "      <th>Gross Charges</th>\n",
              "      <th>Discounted Cash Price</th>\n",
              "      <th>Aetna</th>\n",
              "      <th>Cigna</th>\n",
              "      <th>Empire Blue Cross Blue Shield</th>\n",
              "      <th>...</th>\n",
              "      <th>Consumer Health Network</th>\n",
              "      <th>Devon</th>\n",
              "      <th>Equian</th>\n",
              "      <th>First Health</th>\n",
              "      <th>Magnacare</th>\n",
              "      <th>Multiplan_Beechstreet_PHCS</th>\n",
              "      <th>QHM</th>\n",
              "      <th>Worldwide</th>\n",
              "      <th>Minimum Negotiated Charge</th>\n",
              "      <th>Maximum Negotiated Charge</th>\n",
              "    </tr>\n",
              "  </thead>\n",
              "  <tbody>\n",
              "    <tr>\n",
              "      <th>0</th>\n",
              "      <td>0</td>\n",
              "      <td>96360</td>\n",
              "      <td>HC IV INFUSION HYDRATION INITIAL 31 MIN-1HR</td>\n",
              "      <td>0260</td>\n",
              "      <td>Inpatient/Outpatient</td>\n",
              "      <td>866.000000</td>\n",
              "      <td>866.000000</td>\n",
              "      <td>641.706</td>\n",
              "      <td>494.486</td>\n",
              "      <td>640.84</td>\n",
              "      <td>...</td>\n",
              "      <td>393.5104</td>\n",
              "      <td>393.5104</td>\n",
              "      <td>393.5104</td>\n",
              "      <td>393.5104</td>\n",
              "      <td>393.5104</td>\n",
              "      <td>393.5104</td>\n",
              "      <td>393.5104</td>\n",
              "      <td>393.5104</td>\n",
              "      <td>253.048250</td>\n",
              "      <td>1388.424000</td>\n",
              "    </tr>\n",
              "    <tr>\n",
              "      <th>1</th>\n",
              "      <td>1</td>\n",
              "      <td>96361</td>\n",
              "      <td>HC IV INFUSION HYDRATION FLUIDS ADDL HR</td>\n",
              "      <td>0260</td>\n",
              "      <td>Inpatient/Outpatient</td>\n",
              "      <td>358.000000</td>\n",
              "      <td>358.000000</td>\n",
              "      <td>265.278</td>\n",
              "      <td>204.418</td>\n",
              "      <td>264.92</td>\n",
              "      <td>...</td>\n",
              "      <td>162.6752</td>\n",
              "      <td>162.6752</td>\n",
              "      <td>162.6752</td>\n",
              "      <td>162.6752</td>\n",
              "      <td>162.6752</td>\n",
              "      <td>162.6752</td>\n",
              "      <td>162.6752</td>\n",
              "      <td>162.6752</td>\n",
              "      <td>51.903250</td>\n",
              "      <td>1990.891341</td>\n",
              "    </tr>\n",
              "    <tr>\n",
              "      <th>2</th>\n",
              "      <td>2</td>\n",
              "      <td>96365</td>\n",
              "      <td>HC IV INFUSION FOR THER/PROPH/DIAG INITIAL UP ...</td>\n",
              "      <td>0260</td>\n",
              "      <td>Inpatient/Outpatient</td>\n",
              "      <td>1397.000000</td>\n",
              "      <td>1397.000000</td>\n",
              "      <td>1035.177</td>\n",
              "      <td>797.687</td>\n",
              "      <td>1033.78</td>\n",
              "      <td>...</td>\n",
              "      <td>634.7968</td>\n",
              "      <td>634.7968</td>\n",
              "      <td>634.7968</td>\n",
              "      <td>634.7968</td>\n",
              "      <td>634.7968</td>\n",
              "      <td>634.7968</td>\n",
              "      <td>634.7968</td>\n",
              "      <td>634.7968</td>\n",
              "      <td>253.048250</td>\n",
              "      <td>1475.508000</td>\n",
              "    </tr>\n",
              "    <tr>\n",
              "      <th>3</th>\n",
              "      <td>3</td>\n",
              "      <td>96367</td>\n",
              "      <td>HC IV INF THER/PROPH/DIAG ADDL SEQ NEW DRUG UP...</td>\n",
              "      <td>0260</td>\n",
              "      <td>Inpatient/Outpatient</td>\n",
              "      <td>480.000000</td>\n",
              "      <td>480.000000</td>\n",
              "      <td>355.68</td>\n",
              "      <td>274.08</td>\n",
              "      <td>355.2</td>\n",
              "      <td>...</td>\n",
              "      <td>218.112</td>\n",
              "      <td>218.112</td>\n",
              "      <td>218.112</td>\n",
              "      <td>218.112</td>\n",
              "      <td>218.112</td>\n",
              "      <td>218.112</td>\n",
              "      <td>218.112</td>\n",
              "      <td>218.112</td>\n",
              "      <td>82.650750</td>\n",
              "      <td>1325.120000</td>\n",
              "    </tr>\n",
              "    <tr>\n",
              "      <th>4</th>\n",
              "      <td>4</td>\n",
              "      <td>96368</td>\n",
              "      <td>HC IV INFUSION FOR THER/PROPH/DIAG CONCURRENT</td>\n",
              "      <td>0260</td>\n",
              "      <td>Inpatient/Outpatient</td>\n",
              "      <td>480.000000</td>\n",
              "      <td>480.000000</td>\n",
              "      <td>355.68</td>\n",
              "      <td>274.08</td>\n",
              "      <td>355.2</td>\n",
              "      <td>...</td>\n",
              "      <td>218.112</td>\n",
              "      <td>218.112</td>\n",
              "      <td>218.112</td>\n",
              "      <td>218.112</td>\n",
              "      <td>218.112</td>\n",
              "      <td>218.112</td>\n",
              "      <td>218.112</td>\n",
              "      <td>218.112</td>\n",
              "      <td>156.982800</td>\n",
              "      <td>1325.120000</td>\n",
              "    </tr>\n",
              "    <tr>\n",
              "      <th>...</th>\n",
              "      <td>...</td>\n",
              "      <td>...</td>\n",
              "      <td>...</td>\n",
              "      <td>...</td>\n",
              "      <td>...</td>\n",
              "      <td>...</td>\n",
              "      <td>...</td>\n",
              "      <td>...</td>\n",
              "      <td>...</td>\n",
              "      <td>...</td>\n",
              "      <td>...</td>\n",
              "      <td>...</td>\n",
              "      <td>...</td>\n",
              "      <td>...</td>\n",
              "      <td>...</td>\n",
              "      <td>...</td>\n",
              "      <td>...</td>\n",
              "      <td>...</td>\n",
              "      <td>...</td>\n",
              "      <td>...</td>\n",
              "      <td>...</td>\n",
              "    </tr>\n",
              "    <tr>\n",
              "      <th>6188</th>\n",
              "      <td>6188</td>\n",
              "      <td>982</td>\n",
              "      <td>EXTENSIVE O.R. PROCEDURES UNRELATED TO PRINCIP...</td>\n",
              "      <td>Multiple</td>\n",
              "      <td>Inpatient</td>\n",
              "      <td>184095.129020</td>\n",
              "      <td>184095.129020</td>\n",
              "      <td>86723.5232</td>\n",
              "      <td>98911.694706</td>\n",
              "      <td>82299.84</td>\n",
              "      <td>...</td>\n",
              "      <td>83652.8266268735</td>\n",
              "      <td>83652.8266268735</td>\n",
              "      <td>83652.8266268735</td>\n",
              "      <td>83652.8266268735</td>\n",
              "      <td>83652.8266268735</td>\n",
              "      <td>83652.8266268735</td>\n",
              "      <td>83652.8266268735</td>\n",
              "      <td>83652.8266268735</td>\n",
              "      <td>12561.144027</td>\n",
              "      <td>115129.891480</td>\n",
              "    </tr>\n",
              "    <tr>\n",
              "      <th>6189</th>\n",
              "      <td>6189</td>\n",
              "      <td>983</td>\n",
              "      <td>EXTENSIVE O.R. PROCEDURES UNRELATED TO PRINCIP...</td>\n",
              "      <td>Multiple</td>\n",
              "      <td>Inpatient</td>\n",
              "      <td>85385.941857</td>\n",
              "      <td>85385.941857</td>\n",
              "      <td>57748.8352</td>\n",
              "      <td>65864.888166</td>\n",
              "      <td>63931.4550933333</td>\n",
              "      <td>...</td>\n",
              "      <td>38799.3719796408</td>\n",
              "      <td>38799.3719796408</td>\n",
              "      <td>38799.3719796408</td>\n",
              "      <td>38799.3719796408</td>\n",
              "      <td>38799.3719796408</td>\n",
              "      <td>38799.3719796408</td>\n",
              "      <td>38799.3719796408</td>\n",
              "      <td>38799.3719796408</td>\n",
              "      <td>7833.746854</td>\n",
              "      <td>76664.518280</td>\n",
              "    </tr>\n",
              "    <tr>\n",
              "      <th>6190</th>\n",
              "      <td>6190</td>\n",
              "      <td>987</td>\n",
              "      <td>NON-EXTENSIVE O.R. PROCEDURES UNRELATED TO PRI...</td>\n",
              "      <td>Multiple</td>\n",
              "      <td>Inpatient</td>\n",
              "      <td>411665.999955</td>\n",
              "      <td>411665.999955</td>\n",
              "      <td>114736.9984</td>\n",
              "      <td>130862.199072</td>\n",
              "      <td>214294.876425</td>\n",
              "      <td>...</td>\n",
              "      <td>187061.0303797436</td>\n",
              "      <td>187061.0303797436</td>\n",
              "      <td>187061.0303797436</td>\n",
              "      <td>187061.0303797436</td>\n",
              "      <td>187061.0303797436</td>\n",
              "      <td>187061.0303797436</td>\n",
              "      <td>187061.0303797436</td>\n",
              "      <td>187061.0303797436</td>\n",
              "      <td>21016.798830</td>\n",
              "      <td>214294.876425</td>\n",
              "    </tr>\n",
              "    <tr>\n",
              "      <th>6191</th>\n",
              "      <td>6191</td>\n",
              "      <td>988</td>\n",
              "      <td>NON-EXTENSIVE O.R. PROCEDURES UNRELATED TO PRI...</td>\n",
              "      <td>Multiple</td>\n",
              "      <td>Inpatient</td>\n",
              "      <td>126522.871140</td>\n",
              "      <td>126522.871140</td>\n",
              "      <td>58654.7264</td>\n",
              "      <td>66898.093812</td>\n",
              "      <td>91907.6928</td>\n",
              "      <td>...</td>\n",
              "      <td>57491.9926458445</td>\n",
              "      <td>57491.9926458445</td>\n",
              "      <td>57491.9926458445</td>\n",
              "      <td>57491.9926458445</td>\n",
              "      <td>57491.9926458445</td>\n",
              "      <td>57491.9926458445</td>\n",
              "      <td>57491.9926458445</td>\n",
              "      <td>57491.9926458445</td>\n",
              "      <td>10429.428059</td>\n",
              "      <td>91907.692800</td>\n",
              "    </tr>\n",
              "    <tr>\n",
              "      <th>6192</th>\n",
              "      <td>6192</td>\n",
              "      <td>989</td>\n",
              "      <td>NON-EXTENSIVE O.R. PROCEDURES UNRELATED TO PRI...</td>\n",
              "      <td>Multiple</td>\n",
              "      <td>Inpatient</td>\n",
              "      <td>77081.639496</td>\n",
              "      <td>77081.639496</td>\n",
              "      <td>38116.5824</td>\n",
              "      <td>43473.507792</td>\n",
              "      <td>44463.77208</td>\n",
              "      <td>...</td>\n",
              "      <td>35025.8969869067</td>\n",
              "      <td>35025.8969869067</td>\n",
              "      <td>35025.8969869067</td>\n",
              "      <td>35025.8969869067</td>\n",
              "      <td>35025.8969869067</td>\n",
              "      <td>35025.8969869067</td>\n",
              "      <td>35025.8969869067</td>\n",
              "      <td>35025.8969869067</td>\n",
              "      <td>5995.071552</td>\n",
              "      <td>50601.703360</td>\n",
              "    </tr>\n",
              "  </tbody>\n",
              "</table>\n",
              "<p>6193 rows × 48 columns</p>\n",
              "</div>\n",
              "    <div class=\"colab-df-buttons\">\n",
              "\n",
              "  <div class=\"colab-df-container\">\n",
              "    <button class=\"colab-df-convert\" onclick=\"convertToInteractive('df-d0edcc14-52f4-47c7-a5b0-ad67a7646aa4')\"\n",
              "            title=\"Convert this dataframe to an interactive table.\"\n",
              "            style=\"display:none;\">\n",
              "\n",
              "  <svg xmlns=\"http://www.w3.org/2000/svg\" height=\"24px\" viewBox=\"0 -960 960 960\">\n",
              "    <path d=\"M120-120v-720h720v720H120Zm60-500h600v-160H180v160Zm220 220h160v-160H400v160Zm0 220h160v-160H400v160ZM180-400h160v-160H180v160Zm440 0h160v-160H620v160ZM180-180h160v-160H180v160Zm440 0h160v-160H620v160Z\"/>\n",
              "  </svg>\n",
              "    </button>\n",
              "\n",
              "  <style>\n",
              "    .colab-df-container {\n",
              "      display:flex;\n",
              "      gap: 12px;\n",
              "    }\n",
              "\n",
              "    .colab-df-convert {\n",
              "      background-color: #E8F0FE;\n",
              "      border: none;\n",
              "      border-radius: 50%;\n",
              "      cursor: pointer;\n",
              "      display: none;\n",
              "      fill: #1967D2;\n",
              "      height: 32px;\n",
              "      padding: 0 0 0 0;\n",
              "      width: 32px;\n",
              "    }\n",
              "\n",
              "    .colab-df-convert:hover {\n",
              "      background-color: #E2EBFA;\n",
              "      box-shadow: 0px 1px 2px rgba(60, 64, 67, 0.3), 0px 1px 3px 1px rgba(60, 64, 67, 0.15);\n",
              "      fill: #174EA6;\n",
              "    }\n",
              "\n",
              "    .colab-df-buttons div {\n",
              "      margin-bottom: 4px;\n",
              "    }\n",
              "\n",
              "    [theme=dark] .colab-df-convert {\n",
              "      background-color: #3B4455;\n",
              "      fill: #D2E3FC;\n",
              "    }\n",
              "\n",
              "    [theme=dark] .colab-df-convert:hover {\n",
              "      background-color: #434B5C;\n",
              "      box-shadow: 0px 1px 3px 1px rgba(0, 0, 0, 0.15);\n",
              "      filter: drop-shadow(0px 1px 2px rgba(0, 0, 0, 0.3));\n",
              "      fill: #FFFFFF;\n",
              "    }\n",
              "  </style>\n",
              "\n",
              "    <script>\n",
              "      const buttonEl =\n",
              "        document.querySelector('#df-d0edcc14-52f4-47c7-a5b0-ad67a7646aa4 button.colab-df-convert');\n",
              "      buttonEl.style.display =\n",
              "        google.colab.kernel.accessAllowed ? 'block' : 'none';\n",
              "\n",
              "      async function convertToInteractive(key) {\n",
              "        const element = document.querySelector('#df-d0edcc14-52f4-47c7-a5b0-ad67a7646aa4');\n",
              "        const dataTable =\n",
              "          await google.colab.kernel.invokeFunction('convertToInteractive',\n",
              "                                                    [key], {});\n",
              "        if (!dataTable) return;\n",
              "\n",
              "        const docLinkHtml = 'Like what you see? Visit the ' +\n",
              "          '<a target=\"_blank\" href=https://colab.research.google.com/notebooks/data_table.ipynb>data table notebook</a>'\n",
              "          + ' to learn more about interactive tables.';\n",
              "        element.innerHTML = '';\n",
              "        dataTable['output_type'] = 'display_data';\n",
              "        await google.colab.output.renderOutput(dataTable, element);\n",
              "        const docLink = document.createElement('div');\n",
              "        docLink.innerHTML = docLinkHtml;\n",
              "        element.appendChild(docLink);\n",
              "      }\n",
              "    </script>\n",
              "  </div>\n",
              "\n",
              "\n",
              "<div id=\"df-a90390a9-52c1-4b3e-8c7d-840bb3754010\">\n",
              "  <button class=\"colab-df-quickchart\" onclick=\"quickchart('df-a90390a9-52c1-4b3e-8c7d-840bb3754010')\"\n",
              "            title=\"Suggest charts.\"\n",
              "            style=\"display:none;\">\n",
              "\n",
              "<svg xmlns=\"http://www.w3.org/2000/svg\" height=\"24px\"viewBox=\"0 0 24 24\"\n",
              "     width=\"24px\">\n",
              "    <g>\n",
              "        <path d=\"M19 3H5c-1.1 0-2 .9-2 2v14c0 1.1.9 2 2 2h14c1.1 0 2-.9 2-2V5c0-1.1-.9-2-2-2zM9 17H7v-7h2v7zm4 0h-2V7h2v10zm4 0h-2v-4h2v4z\"/>\n",
              "    </g>\n",
              "</svg>\n",
              "  </button>\n",
              "\n",
              "<style>\n",
              "  .colab-df-quickchart {\n",
              "      --bg-color: #E8F0FE;\n",
              "      --fill-color: #1967D2;\n",
              "      --hover-bg-color: #E2EBFA;\n",
              "      --hover-fill-color: #174EA6;\n",
              "      --disabled-fill-color: #AAA;\n",
              "      --disabled-bg-color: #DDD;\n",
              "  }\n",
              "\n",
              "  [theme=dark] .colab-df-quickchart {\n",
              "      --bg-color: #3B4455;\n",
              "      --fill-color: #D2E3FC;\n",
              "      --hover-bg-color: #434B5C;\n",
              "      --hover-fill-color: #FFFFFF;\n",
              "      --disabled-bg-color: #3B4455;\n",
              "      --disabled-fill-color: #666;\n",
              "  }\n",
              "\n",
              "  .colab-df-quickchart {\n",
              "    background-color: var(--bg-color);\n",
              "    border: none;\n",
              "    border-radius: 50%;\n",
              "    cursor: pointer;\n",
              "    display: none;\n",
              "    fill: var(--fill-color);\n",
              "    height: 32px;\n",
              "    padding: 0;\n",
              "    width: 32px;\n",
              "  }\n",
              "\n",
              "  .colab-df-quickchart:hover {\n",
              "    background-color: var(--hover-bg-color);\n",
              "    box-shadow: 0 1px 2px rgba(60, 64, 67, 0.3), 0 1px 3px 1px rgba(60, 64, 67, 0.15);\n",
              "    fill: var(--button-hover-fill-color);\n",
              "  }\n",
              "\n",
              "  .colab-df-quickchart-complete:disabled,\n",
              "  .colab-df-quickchart-complete:disabled:hover {\n",
              "    background-color: var(--disabled-bg-color);\n",
              "    fill: var(--disabled-fill-color);\n",
              "    box-shadow: none;\n",
              "  }\n",
              "\n",
              "  .colab-df-spinner {\n",
              "    border: 2px solid var(--fill-color);\n",
              "    border-color: transparent;\n",
              "    border-bottom-color: var(--fill-color);\n",
              "    animation:\n",
              "      spin 1s steps(1) infinite;\n",
              "  }\n",
              "\n",
              "  @keyframes spin {\n",
              "    0% {\n",
              "      border-color: transparent;\n",
              "      border-bottom-color: var(--fill-color);\n",
              "      border-left-color: var(--fill-color);\n",
              "    }\n",
              "    20% {\n",
              "      border-color: transparent;\n",
              "      border-left-color: var(--fill-color);\n",
              "      border-top-color: var(--fill-color);\n",
              "    }\n",
              "    30% {\n",
              "      border-color: transparent;\n",
              "      border-left-color: var(--fill-color);\n",
              "      border-top-color: var(--fill-color);\n",
              "      border-right-color: var(--fill-color);\n",
              "    }\n",
              "    40% {\n",
              "      border-color: transparent;\n",
              "      border-right-color: var(--fill-color);\n",
              "      border-top-color: var(--fill-color);\n",
              "    }\n",
              "    60% {\n",
              "      border-color: transparent;\n",
              "      border-right-color: var(--fill-color);\n",
              "    }\n",
              "    80% {\n",
              "      border-color: transparent;\n",
              "      border-right-color: var(--fill-color);\n",
              "      border-bottom-color: var(--fill-color);\n",
              "    }\n",
              "    90% {\n",
              "      border-color: transparent;\n",
              "      border-bottom-color: var(--fill-color);\n",
              "    }\n",
              "  }\n",
              "</style>\n",
              "\n",
              "  <script>\n",
              "    async function quickchart(key) {\n",
              "      const quickchartButtonEl =\n",
              "        document.querySelector('#' + key + ' button');\n",
              "      quickchartButtonEl.disabled = true;  // To prevent multiple clicks.\n",
              "      quickchartButtonEl.classList.add('colab-df-spinner');\n",
              "      try {\n",
              "        const charts = await google.colab.kernel.invokeFunction(\n",
              "            'suggestCharts', [key], {});\n",
              "      } catch (error) {\n",
              "        console.error('Error during call to suggestCharts:', error);\n",
              "      }\n",
              "      quickchartButtonEl.classList.remove('colab-df-spinner');\n",
              "      quickchartButtonEl.classList.add('colab-df-quickchart-complete');\n",
              "    }\n",
              "    (() => {\n",
              "      let quickchartButtonEl =\n",
              "        document.querySelector('#df-a90390a9-52c1-4b3e-8c7d-840bb3754010 button');\n",
              "      quickchartButtonEl.style.display =\n",
              "        google.colab.kernel.accessAllowed ? 'block' : 'none';\n",
              "    })();\n",
              "  </script>\n",
              "</div>\n",
              "    </div>\n",
              "  </div>\n"
            ]
          },
          "metadata": {},
          "execution_count": 185
        }
      ]
    }
  ]
}
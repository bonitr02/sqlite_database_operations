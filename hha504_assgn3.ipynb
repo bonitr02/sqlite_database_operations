{
  "nbformat": 4,
  "nbformat_minor": 0,
  "metadata": {
    "colab": {
      "provenance": [],
      "collapsed_sections": [
        "-_wLOMSfLmE2",
        "zCAUuWR1K6Fn",
        "Fugoj3xGNzJa",
        "w2KlnVi1xENl"
      ],
      "authorship_tag": "ABX9TyPbMUNbeAVwm7A+TnNNbGZ+",
      "include_colab_link": true
    },
    "kernelspec": {
      "name": "python3",
      "display_name": "Python 3"
    },
    "language_info": {
      "name": "python"
    }
  },
  "cells": [
    {
      "cell_type": "markdown",
      "metadata": {
        "id": "view-in-github",
        "colab_type": "text"
      },
      "source": [
        "<a href=\"https://colab.research.google.com/github/bonitr02/sqlite_database_operations/blob/main/hha504_assgn3.ipynb\" target=\"_parent\"><img src=\"https://colab.research.google.com/assets/colab-badge.svg\" alt=\"Open In Colab\"/></a>"
      ]
    },
    {
      "cell_type": "markdown",
      "source": [
        "## Load packages"
      ],
      "metadata": {
        "id": "gVfe3f_Huz_Q"
      }
    },
    {
      "cell_type": "code",
      "execution_count": 4,
      "metadata": {
        "colab": {
          "base_uri": "https://localhost:8080/"
        },
        "id": "pCjelQZlsVBx",
        "outputId": "f4e33593-33cb-4147-903e-40db1aebf273"
      },
      "outputs": [
        {
          "output_type": "stream",
          "name": "stdout",
          "text": [
            "Requirement already satisfied: sqlalchemy in /usr/local/lib/python3.10/dist-packages (2.0.20)\n",
            "Requirement already satisfied: typing-extensions>=4.2.0 in /usr/local/lib/python3.10/dist-packages (from sqlalchemy) (4.5.0)\n",
            "Requirement already satisfied: greenlet!=0.4.17 in /usr/local/lib/python3.10/dist-packages (from sqlalchemy) (2.0.2)\n"
          ]
        }
      ],
      "source": [
        "! pip install sqlalchemy\n",
        "from sqlalchemy import create_engine\n",
        "import sqlite3\n",
        "import pandas as pd\n",
        "from tabulate import tabulate\n",
        "import numpy as np\n",
        "import matplotlib.pyplot as plt\n",
        "import seaborn as sns\n",
        "import plotly.graph_objects as go\n",
        "from IPython import display"
      ]
    },
    {
      "cell_type": "markdown",
      "source": [
        "# Hospital Database 1: Mount Sinai Queens"
      ],
      "metadata": {
        "id": "Qpaf9Z5MIDdN"
      }
    },
    {
      "cell_type": "markdown",
      "source": [
        "## Import data Hospital 1"
      ],
      "metadata": {
        "id": "4LB-o5hOKQ5r"
      }
    },
    {
      "cell_type": "code",
      "execution_count": null,
      "metadata": {
        "colab": {
          "base_uri": "https://localhost:8080/"
        },
        "id": "Ve_InWCmJ7Db",
        "outputId": "fd0a6065-72df-471c-f130-4bae91d44e55"
      },
      "outputs": [
        {
          "output_type": "stream",
          "name": "stderr",
          "text": [
            "<ipython-input-30-00c9927208ca>:1: DtypeWarning: Columns (9,10,12,13,14,15,17,19,20,21,22,23,24,27,28,29,31,33,34,35,36,38,41,43,45,47,48,49,50,52) have mixed types. Specify dtype option on import or set low_memory=False.\n",
            "  df = pd.read_csv('/content/131624096_mount-sinai-queens_chargemaster.csv')\n"
          ]
        }
      ],
      "source": [
        "df = pd.read_csv('/content/131624096_mount-sinai-queens_chargemaster.csv')"
      ]
    },
    {
      "cell_type": "code",
      "source": [
        "df.shape\n",
        "#114893 rows and 55 columns"
      ],
      "metadata": {
        "colab": {
          "base_uri": "https://localhost:8080/"
        },
        "id": "wCtSL2CgNbDc",
        "outputId": "ef379515-ef27-41c6-ac17-74b27fbc88ae"
      },
      "execution_count": null,
      "outputs": [
        {
          "output_type": "execute_result",
          "data": {
            "text/plain": [
              "(114893, 55)"
            ]
          },
          "metadata": {},
          "execution_count": 31
        }
      ]
    },
    {
      "cell_type": "code",
      "source": [
        "df.head(10)"
      ],
      "metadata": {
        "colab": {
          "base_uri": "https://localhost:8080/",
          "height": 846
        },
        "id": "P_79z11NLvVm",
        "outputId": "ffbfe8ca-7190-4357-dcf3-744065366162"
      },
      "execution_count": null,
      "outputs": [
        {
          "output_type": "execute_result",
          "data": {
            "text/plain": [
              "   CHARGE CODE                     CHARGE DESC  \\\n",
              "0     10300300         NON ESRD HEMO INPT UNIT   \n",
              "1     10300500  NON ESRD HEMO ED IN DIALYS UNI   \n",
              "2     10300600             INPT CAPD TREATMENT   \n",
              "3     10300700     ESRD HEMO ED IN DIALYS UNIT   \n",
              "4     10300800             ESRD HEMO INPT UNIT   \n",
              "5     10301000    ESRD HEMO INPT DIALYSIS UNIT   \n",
              "6     10303200                CCPD CYCLER INPT   \n",
              "7     10303400  NONESRD ULTRAFLTR IP DIALY UNI   \n",
              "8     10304600        ESRD ULTRAFLTR INPT UNIT   \n",
              "9     10304700  ESRD ULTRAFLTR IP DIALYSIS UNI   \n",
              "\n",
              "            ALTERNATE DESCRIPTION  DEPARTMENT CODE DEPARTMENT NAME  \\\n",
              "0         NON ESRD HEMO INPT UNIT              103        DIALYSIS   \n",
              "1  NON ESRD HEMO ED IN DIALYS UNI              103        DIALYSIS   \n",
              "2             INPT CAPD TREATMENT              103        DIALYSIS   \n",
              "3     ESRD HEMO ED IN DIALYS UNIT              103        DIALYSIS   \n",
              "4             ESRD HEMO INPT UNIT              103        DIALYSIS   \n",
              "5    ESRD HEMO INPT DIALYSIS UNIT              103        DIALYSIS   \n",
              "6                CCPD CYCLER INPT              103        DIALYSIS   \n",
              "7  NONESRD ULTRAFLTR IP DIALY UNI              103        DIALYSIS   \n",
              "8        ESRD ULTRAFLTR INPT UNIT              103        DIALYSIS   \n",
              "9  ESRD ULTRAFLTR IP DIALYSIS UNI              103        DIALYSIS   \n",
              "\n",
              "  EFFECTIVE DATE  RATE CHARGED  TP RATE (340B) GENERAL CPT4 CODE  \\\n",
              "0        12/1/18        2150.0             0.0             90935   \n",
              "1        12/1/18        1500.0             0.0             90935   \n",
              "2         1/1/19        1150.0             0.0             90945   \n",
              "3        12/1/18        1500.0             0.0             G0257   \n",
              "4        12/1/18        1700.0             0.0             90935   \n",
              "5        12/1/18        1500.0             0.0             90935   \n",
              "6         1/1/19        1150.0             0.0             90945   \n",
              "7        12/1/18        1150.0             0.0             90945   \n",
              "8         1/1/19        1150.0             0.0             90945   \n",
              "9        12/1/18        1150.0             0.0             90945   \n",
              "\n",
              "  GENERAL MODIFER 1  ... BC IP MODIFIER2 EFF DATE  BC OP REV CODE  \\\n",
              "0               NaN  ...                      NaN             NaN   \n",
              "1               NaN  ...                      NaN             NaN   \n",
              "2               NaN  ...                      NaN             NaN   \n",
              "3               NaN  ...                      NaN             NaN   \n",
              "4               NaN  ...                      NaN             NaN   \n",
              "5               NaN  ...                      NaN             NaN   \n",
              "6               NaN  ...                      NaN             NaN   \n",
              "7               NaN  ...                      NaN             NaN   \n",
              "8               NaN  ...                      NaN             NaN   \n",
              "9               NaN  ...                      NaN             NaN   \n",
              "\n",
              "  BC OP HCPCS CODE BC OP HCPCS EFF DATE BC OP MODIFIER1  \\\n",
              "0              NaN                  NaN             NaN   \n",
              "1              NaN                  NaN             NaN   \n",
              "2              NaN                  NaN             NaN   \n",
              "3              NaN                  NaN             NaN   \n",
              "4              NaN                  NaN             NaN   \n",
              "5              NaN                  NaN             NaN   \n",
              "6              NaN                  NaN             NaN   \n",
              "7              NaN                  NaN             NaN   \n",
              "8              NaN                  NaN             NaN   \n",
              "9              NaN                  NaN             NaN   \n",
              "\n",
              "  BC OP MODIFIER1 EFF DATE  BC OP MODIFIER2 BC OP MODIFIER2 EFF DATE  \\\n",
              "0                      NaN              NaN                      NaN   \n",
              "1                      NaN              NaN                      NaN   \n",
              "2                      NaN              NaN                      NaN   \n",
              "3                      NaN              NaN                      NaN   \n",
              "4                      NaN              NaN                      NaN   \n",
              "5                      NaN              NaN                      NaN   \n",
              "6                      NaN              NaN                      NaN   \n",
              "7                      NaN              NaN                      NaN   \n",
              "8                      NaN              NaN                      NaN   \n",
              "9                      NaN              NaN                      NaN   \n",
              "\n",
              "   REVENUE CODE INPATIENT REVENUE CODE OUTPATIENT  \n",
              "0                   801.0                   801.0  \n",
              "1                   821.0                   821.0  \n",
              "2                   803.0                   803.0  \n",
              "3                   821.0                   821.0  \n",
              "4                   801.0                   801.0  \n",
              "5                   801.0                   801.0  \n",
              "6                   804.0                   804.0  \n",
              "7                   881.0                   881.0  \n",
              "8                   881.0                   881.0  \n",
              "9                   881.0                   881.0  \n",
              "\n",
              "[10 rows x 55 columns]"
            ],
            "text/html": [
              "\n",
              "  <div id=\"df-12d6370c-f10a-4ff7-9810-84193537623d\" class=\"colab-df-container\">\n",
              "    <div>\n",
              "<style scoped>\n",
              "    .dataframe tbody tr th:only-of-type {\n",
              "        vertical-align: middle;\n",
              "    }\n",
              "\n",
              "    .dataframe tbody tr th {\n",
              "        vertical-align: top;\n",
              "    }\n",
              "\n",
              "    .dataframe thead th {\n",
              "        text-align: right;\n",
              "    }\n",
              "</style>\n",
              "<table border=\"1\" class=\"dataframe\">\n",
              "  <thead>\n",
              "    <tr style=\"text-align: right;\">\n",
              "      <th></th>\n",
              "      <th>CHARGE CODE</th>\n",
              "      <th>CHARGE DESC</th>\n",
              "      <th>ALTERNATE DESCRIPTION</th>\n",
              "      <th>DEPARTMENT CODE</th>\n",
              "      <th>DEPARTMENT NAME</th>\n",
              "      <th>EFFECTIVE DATE</th>\n",
              "      <th>RATE CHARGED</th>\n",
              "      <th>TP RATE (340B)</th>\n",
              "      <th>GENERAL CPT4 CODE</th>\n",
              "      <th>GENERAL MODIFER 1</th>\n",
              "      <th>...</th>\n",
              "      <th>BC IP MODIFIER2 EFF DATE</th>\n",
              "      <th>BC OP REV CODE</th>\n",
              "      <th>BC OP HCPCS CODE</th>\n",
              "      <th>BC OP HCPCS EFF DATE</th>\n",
              "      <th>BC OP MODIFIER1</th>\n",
              "      <th>BC OP MODIFIER1 EFF DATE</th>\n",
              "      <th>BC OP MODIFIER2</th>\n",
              "      <th>BC OP MODIFIER2 EFF DATE</th>\n",
              "      <th>REVENUE CODE INPATIENT</th>\n",
              "      <th>REVENUE CODE OUTPATIENT</th>\n",
              "    </tr>\n",
              "  </thead>\n",
              "  <tbody>\n",
              "    <tr>\n",
              "      <th>0</th>\n",
              "      <td>10300300</td>\n",
              "      <td>NON ESRD HEMO INPT UNIT</td>\n",
              "      <td>NON ESRD HEMO INPT UNIT</td>\n",
              "      <td>103</td>\n",
              "      <td>DIALYSIS</td>\n",
              "      <td>12/1/18</td>\n",
              "      <td>2150.0</td>\n",
              "      <td>0.0</td>\n",
              "      <td>90935</td>\n",
              "      <td>NaN</td>\n",
              "      <td>...</td>\n",
              "      <td>NaN</td>\n",
              "      <td>NaN</td>\n",
              "      <td>NaN</td>\n",
              "      <td>NaN</td>\n",
              "      <td>NaN</td>\n",
              "      <td>NaN</td>\n",
              "      <td>NaN</td>\n",
              "      <td>NaN</td>\n",
              "      <td>801.0</td>\n",
              "      <td>801.0</td>\n",
              "    </tr>\n",
              "    <tr>\n",
              "      <th>1</th>\n",
              "      <td>10300500</td>\n",
              "      <td>NON ESRD HEMO ED IN DIALYS UNI</td>\n",
              "      <td>NON ESRD HEMO ED IN DIALYS UNI</td>\n",
              "      <td>103</td>\n",
              "      <td>DIALYSIS</td>\n",
              "      <td>12/1/18</td>\n",
              "      <td>1500.0</td>\n",
              "      <td>0.0</td>\n",
              "      <td>90935</td>\n",
              "      <td>NaN</td>\n",
              "      <td>...</td>\n",
              "      <td>NaN</td>\n",
              "      <td>NaN</td>\n",
              "      <td>NaN</td>\n",
              "      <td>NaN</td>\n",
              "      <td>NaN</td>\n",
              "      <td>NaN</td>\n",
              "      <td>NaN</td>\n",
              "      <td>NaN</td>\n",
              "      <td>821.0</td>\n",
              "      <td>821.0</td>\n",
              "    </tr>\n",
              "    <tr>\n",
              "      <th>2</th>\n",
              "      <td>10300600</td>\n",
              "      <td>INPT CAPD TREATMENT</td>\n",
              "      <td>INPT CAPD TREATMENT</td>\n",
              "      <td>103</td>\n",
              "      <td>DIALYSIS</td>\n",
              "      <td>1/1/19</td>\n",
              "      <td>1150.0</td>\n",
              "      <td>0.0</td>\n",
              "      <td>90945</td>\n",
              "      <td>NaN</td>\n",
              "      <td>...</td>\n",
              "      <td>NaN</td>\n",
              "      <td>NaN</td>\n",
              "      <td>NaN</td>\n",
              "      <td>NaN</td>\n",
              "      <td>NaN</td>\n",
              "      <td>NaN</td>\n",
              "      <td>NaN</td>\n",
              "      <td>NaN</td>\n",
              "      <td>803.0</td>\n",
              "      <td>803.0</td>\n",
              "    </tr>\n",
              "    <tr>\n",
              "      <th>3</th>\n",
              "      <td>10300700</td>\n",
              "      <td>ESRD HEMO ED IN DIALYS UNIT</td>\n",
              "      <td>ESRD HEMO ED IN DIALYS UNIT</td>\n",
              "      <td>103</td>\n",
              "      <td>DIALYSIS</td>\n",
              "      <td>12/1/18</td>\n",
              "      <td>1500.0</td>\n",
              "      <td>0.0</td>\n",
              "      <td>G0257</td>\n",
              "      <td>NaN</td>\n",
              "      <td>...</td>\n",
              "      <td>NaN</td>\n",
              "      <td>NaN</td>\n",
              "      <td>NaN</td>\n",
              "      <td>NaN</td>\n",
              "      <td>NaN</td>\n",
              "      <td>NaN</td>\n",
              "      <td>NaN</td>\n",
              "      <td>NaN</td>\n",
              "      <td>821.0</td>\n",
              "      <td>821.0</td>\n",
              "    </tr>\n",
              "    <tr>\n",
              "      <th>4</th>\n",
              "      <td>10300800</td>\n",
              "      <td>ESRD HEMO INPT UNIT</td>\n",
              "      <td>ESRD HEMO INPT UNIT</td>\n",
              "      <td>103</td>\n",
              "      <td>DIALYSIS</td>\n",
              "      <td>12/1/18</td>\n",
              "      <td>1700.0</td>\n",
              "      <td>0.0</td>\n",
              "      <td>90935</td>\n",
              "      <td>NaN</td>\n",
              "      <td>...</td>\n",
              "      <td>NaN</td>\n",
              "      <td>NaN</td>\n",
              "      <td>NaN</td>\n",
              "      <td>NaN</td>\n",
              "      <td>NaN</td>\n",
              "      <td>NaN</td>\n",
              "      <td>NaN</td>\n",
              "      <td>NaN</td>\n",
              "      <td>801.0</td>\n",
              "      <td>801.0</td>\n",
              "    </tr>\n",
              "    <tr>\n",
              "      <th>5</th>\n",
              "      <td>10301000</td>\n",
              "      <td>ESRD HEMO INPT DIALYSIS UNIT</td>\n",
              "      <td>ESRD HEMO INPT DIALYSIS UNIT</td>\n",
              "      <td>103</td>\n",
              "      <td>DIALYSIS</td>\n",
              "      <td>12/1/18</td>\n",
              "      <td>1500.0</td>\n",
              "      <td>0.0</td>\n",
              "      <td>90935</td>\n",
              "      <td>NaN</td>\n",
              "      <td>...</td>\n",
              "      <td>NaN</td>\n",
              "      <td>NaN</td>\n",
              "      <td>NaN</td>\n",
              "      <td>NaN</td>\n",
              "      <td>NaN</td>\n",
              "      <td>NaN</td>\n",
              "      <td>NaN</td>\n",
              "      <td>NaN</td>\n",
              "      <td>801.0</td>\n",
              "      <td>801.0</td>\n",
              "    </tr>\n",
              "    <tr>\n",
              "      <th>6</th>\n",
              "      <td>10303200</td>\n",
              "      <td>CCPD CYCLER INPT</td>\n",
              "      <td>CCPD CYCLER INPT</td>\n",
              "      <td>103</td>\n",
              "      <td>DIALYSIS</td>\n",
              "      <td>1/1/19</td>\n",
              "      <td>1150.0</td>\n",
              "      <td>0.0</td>\n",
              "      <td>90945</td>\n",
              "      <td>NaN</td>\n",
              "      <td>...</td>\n",
              "      <td>NaN</td>\n",
              "      <td>NaN</td>\n",
              "      <td>NaN</td>\n",
              "      <td>NaN</td>\n",
              "      <td>NaN</td>\n",
              "      <td>NaN</td>\n",
              "      <td>NaN</td>\n",
              "      <td>NaN</td>\n",
              "      <td>804.0</td>\n",
              "      <td>804.0</td>\n",
              "    </tr>\n",
              "    <tr>\n",
              "      <th>7</th>\n",
              "      <td>10303400</td>\n",
              "      <td>NONESRD ULTRAFLTR IP DIALY UNI</td>\n",
              "      <td>NONESRD ULTRAFLTR IP DIALY UNI</td>\n",
              "      <td>103</td>\n",
              "      <td>DIALYSIS</td>\n",
              "      <td>12/1/18</td>\n",
              "      <td>1150.0</td>\n",
              "      <td>0.0</td>\n",
              "      <td>90945</td>\n",
              "      <td>NaN</td>\n",
              "      <td>...</td>\n",
              "      <td>NaN</td>\n",
              "      <td>NaN</td>\n",
              "      <td>NaN</td>\n",
              "      <td>NaN</td>\n",
              "      <td>NaN</td>\n",
              "      <td>NaN</td>\n",
              "      <td>NaN</td>\n",
              "      <td>NaN</td>\n",
              "      <td>881.0</td>\n",
              "      <td>881.0</td>\n",
              "    </tr>\n",
              "    <tr>\n",
              "      <th>8</th>\n",
              "      <td>10304600</td>\n",
              "      <td>ESRD ULTRAFLTR INPT UNIT</td>\n",
              "      <td>ESRD ULTRAFLTR INPT UNIT</td>\n",
              "      <td>103</td>\n",
              "      <td>DIALYSIS</td>\n",
              "      <td>1/1/19</td>\n",
              "      <td>1150.0</td>\n",
              "      <td>0.0</td>\n",
              "      <td>90945</td>\n",
              "      <td>NaN</td>\n",
              "      <td>...</td>\n",
              "      <td>NaN</td>\n",
              "      <td>NaN</td>\n",
              "      <td>NaN</td>\n",
              "      <td>NaN</td>\n",
              "      <td>NaN</td>\n",
              "      <td>NaN</td>\n",
              "      <td>NaN</td>\n",
              "      <td>NaN</td>\n",
              "      <td>881.0</td>\n",
              "      <td>881.0</td>\n",
              "    </tr>\n",
              "    <tr>\n",
              "      <th>9</th>\n",
              "      <td>10304700</td>\n",
              "      <td>ESRD ULTRAFLTR IP DIALYSIS UNI</td>\n",
              "      <td>ESRD ULTRAFLTR IP DIALYSIS UNI</td>\n",
              "      <td>103</td>\n",
              "      <td>DIALYSIS</td>\n",
              "      <td>12/1/18</td>\n",
              "      <td>1150.0</td>\n",
              "      <td>0.0</td>\n",
              "      <td>90945</td>\n",
              "      <td>NaN</td>\n",
              "      <td>...</td>\n",
              "      <td>NaN</td>\n",
              "      <td>NaN</td>\n",
              "      <td>NaN</td>\n",
              "      <td>NaN</td>\n",
              "      <td>NaN</td>\n",
              "      <td>NaN</td>\n",
              "      <td>NaN</td>\n",
              "      <td>NaN</td>\n",
              "      <td>881.0</td>\n",
              "      <td>881.0</td>\n",
              "    </tr>\n",
              "  </tbody>\n",
              "</table>\n",
              "<p>10 rows × 55 columns</p>\n",
              "</div>\n",
              "    <div class=\"colab-df-buttons\">\n",
              "\n",
              "  <div class=\"colab-df-container\">\n",
              "    <button class=\"colab-df-convert\" onclick=\"convertToInteractive('df-12d6370c-f10a-4ff7-9810-84193537623d')\"\n",
              "            title=\"Convert this dataframe to an interactive table.\"\n",
              "            style=\"display:none;\">\n",
              "\n",
              "  <svg xmlns=\"http://www.w3.org/2000/svg\" height=\"24px\" viewBox=\"0 -960 960 960\">\n",
              "    <path d=\"M120-120v-720h720v720H120Zm60-500h600v-160H180v160Zm220 220h160v-160H400v160Zm0 220h160v-160H400v160ZM180-400h160v-160H180v160Zm440 0h160v-160H620v160ZM180-180h160v-160H180v160Zm440 0h160v-160H620v160Z\"/>\n",
              "  </svg>\n",
              "    </button>\n",
              "\n",
              "  <style>\n",
              "    .colab-df-container {\n",
              "      display:flex;\n",
              "      gap: 12px;\n",
              "    }\n",
              "\n",
              "    .colab-df-convert {\n",
              "      background-color: #E8F0FE;\n",
              "      border: none;\n",
              "      border-radius: 50%;\n",
              "      cursor: pointer;\n",
              "      display: none;\n",
              "      fill: #1967D2;\n",
              "      height: 32px;\n",
              "      padding: 0 0 0 0;\n",
              "      width: 32px;\n",
              "    }\n",
              "\n",
              "    .colab-df-convert:hover {\n",
              "      background-color: #E2EBFA;\n",
              "      box-shadow: 0px 1px 2px rgba(60, 64, 67, 0.3), 0px 1px 3px 1px rgba(60, 64, 67, 0.15);\n",
              "      fill: #174EA6;\n",
              "    }\n",
              "\n",
              "    .colab-df-buttons div {\n",
              "      margin-bottom: 4px;\n",
              "    }\n",
              "\n",
              "    [theme=dark] .colab-df-convert {\n",
              "      background-color: #3B4455;\n",
              "      fill: #D2E3FC;\n",
              "    }\n",
              "\n",
              "    [theme=dark] .colab-df-convert:hover {\n",
              "      background-color: #434B5C;\n",
              "      box-shadow: 0px 1px 3px 1px rgba(0, 0, 0, 0.15);\n",
              "      filter: drop-shadow(0px 1px 2px rgba(0, 0, 0, 0.3));\n",
              "      fill: #FFFFFF;\n",
              "    }\n",
              "  </style>\n",
              "\n",
              "    <script>\n",
              "      const buttonEl =\n",
              "        document.querySelector('#df-12d6370c-f10a-4ff7-9810-84193537623d button.colab-df-convert');\n",
              "      buttonEl.style.display =\n",
              "        google.colab.kernel.accessAllowed ? 'block' : 'none';\n",
              "\n",
              "      async function convertToInteractive(key) {\n",
              "        const element = document.querySelector('#df-12d6370c-f10a-4ff7-9810-84193537623d');\n",
              "        const dataTable =\n",
              "          await google.colab.kernel.invokeFunction('convertToInteractive',\n",
              "                                                    [key], {});\n",
              "        if (!dataTable) return;\n",
              "\n",
              "        const docLinkHtml = 'Like what you see? Visit the ' +\n",
              "          '<a target=\"_blank\" href=https://colab.research.google.com/notebooks/data_table.ipynb>data table notebook</a>'\n",
              "          + ' to learn more about interactive tables.';\n",
              "        element.innerHTML = '';\n",
              "        dataTable['output_type'] = 'display_data';\n",
              "        await google.colab.output.renderOutput(dataTable, element);\n",
              "        const docLink = document.createElement('div');\n",
              "        docLink.innerHTML = docLinkHtml;\n",
              "        element.appendChild(docLink);\n",
              "      }\n",
              "    </script>\n",
              "  </div>\n",
              "\n",
              "\n",
              "<div id=\"df-b5114fed-ad17-4dfb-b7c7-981ea4b01014\">\n",
              "  <button class=\"colab-df-quickchart\" onclick=\"quickchart('df-b5114fed-ad17-4dfb-b7c7-981ea4b01014')\"\n",
              "            title=\"Suggest charts.\"\n",
              "            style=\"display:none;\">\n",
              "\n",
              "<svg xmlns=\"http://www.w3.org/2000/svg\" height=\"24px\"viewBox=\"0 0 24 24\"\n",
              "     width=\"24px\">\n",
              "    <g>\n",
              "        <path d=\"M19 3H5c-1.1 0-2 .9-2 2v14c0 1.1.9 2 2 2h14c1.1 0 2-.9 2-2V5c0-1.1-.9-2-2-2zM9 17H7v-7h2v7zm4 0h-2V7h2v10zm4 0h-2v-4h2v4z\"/>\n",
              "    </g>\n",
              "</svg>\n",
              "  </button>\n",
              "\n",
              "<style>\n",
              "  .colab-df-quickchart {\n",
              "      --bg-color: #E8F0FE;\n",
              "      --fill-color: #1967D2;\n",
              "      --hover-bg-color: #E2EBFA;\n",
              "      --hover-fill-color: #174EA6;\n",
              "      --disabled-fill-color: #AAA;\n",
              "      --disabled-bg-color: #DDD;\n",
              "  }\n",
              "\n",
              "  [theme=dark] .colab-df-quickchart {\n",
              "      --bg-color: #3B4455;\n",
              "      --fill-color: #D2E3FC;\n",
              "      --hover-bg-color: #434B5C;\n",
              "      --hover-fill-color: #FFFFFF;\n",
              "      --disabled-bg-color: #3B4455;\n",
              "      --disabled-fill-color: #666;\n",
              "  }\n",
              "\n",
              "  .colab-df-quickchart {\n",
              "    background-color: var(--bg-color);\n",
              "    border: none;\n",
              "    border-radius: 50%;\n",
              "    cursor: pointer;\n",
              "    display: none;\n",
              "    fill: var(--fill-color);\n",
              "    height: 32px;\n",
              "    padding: 0;\n",
              "    width: 32px;\n",
              "  }\n",
              "\n",
              "  .colab-df-quickchart:hover {\n",
              "    background-color: var(--hover-bg-color);\n",
              "    box-shadow: 0 1px 2px rgba(60, 64, 67, 0.3), 0 1px 3px 1px rgba(60, 64, 67, 0.15);\n",
              "    fill: var(--button-hover-fill-color);\n",
              "  }\n",
              "\n",
              "  .colab-df-quickchart-complete:disabled,\n",
              "  .colab-df-quickchart-complete:disabled:hover {\n",
              "    background-color: var(--disabled-bg-color);\n",
              "    fill: var(--disabled-fill-color);\n",
              "    box-shadow: none;\n",
              "  }\n",
              "\n",
              "  .colab-df-spinner {\n",
              "    border: 2px solid var(--fill-color);\n",
              "    border-color: transparent;\n",
              "    border-bottom-color: var(--fill-color);\n",
              "    animation:\n",
              "      spin 1s steps(1) infinite;\n",
              "  }\n",
              "\n",
              "  @keyframes spin {\n",
              "    0% {\n",
              "      border-color: transparent;\n",
              "      border-bottom-color: var(--fill-color);\n",
              "      border-left-color: var(--fill-color);\n",
              "    }\n",
              "    20% {\n",
              "      border-color: transparent;\n",
              "      border-left-color: var(--fill-color);\n",
              "      border-top-color: var(--fill-color);\n",
              "    }\n",
              "    30% {\n",
              "      border-color: transparent;\n",
              "      border-left-color: var(--fill-color);\n",
              "      border-top-color: var(--fill-color);\n",
              "      border-right-color: var(--fill-color);\n",
              "    }\n",
              "    40% {\n",
              "      border-color: transparent;\n",
              "      border-right-color: var(--fill-color);\n",
              "      border-top-color: var(--fill-color);\n",
              "    }\n",
              "    60% {\n",
              "      border-color: transparent;\n",
              "      border-right-color: var(--fill-color);\n",
              "    }\n",
              "    80% {\n",
              "      border-color: transparent;\n",
              "      border-right-color: var(--fill-color);\n",
              "      border-bottom-color: var(--fill-color);\n",
              "    }\n",
              "    90% {\n",
              "      border-color: transparent;\n",
              "      border-bottom-color: var(--fill-color);\n",
              "    }\n",
              "  }\n",
              "</style>\n",
              "\n",
              "  <script>\n",
              "    async function quickchart(key) {\n",
              "      const quickchartButtonEl =\n",
              "        document.querySelector('#' + key + ' button');\n",
              "      quickchartButtonEl.disabled = true;  // To prevent multiple clicks.\n",
              "      quickchartButtonEl.classList.add('colab-df-spinner');\n",
              "      try {\n",
              "        const charts = await google.colab.kernel.invokeFunction(\n",
              "            'suggestCharts', [key], {});\n",
              "      } catch (error) {\n",
              "        console.error('Error during call to suggestCharts:', error);\n",
              "      }\n",
              "      quickchartButtonEl.classList.remove('colab-df-spinner');\n",
              "      quickchartButtonEl.classList.add('colab-df-quickchart-complete');\n",
              "    }\n",
              "    (() => {\n",
              "      let quickchartButtonEl =\n",
              "        document.querySelector('#df-b5114fed-ad17-4dfb-b7c7-981ea4b01014 button');\n",
              "      quickchartButtonEl.style.display =\n",
              "        google.colab.kernel.accessAllowed ? 'block' : 'none';\n",
              "    })();\n",
              "  </script>\n",
              "</div>\n",
              "    </div>\n",
              "  </div>\n"
            ]
          },
          "metadata": {},
          "execution_count": 34
        }
      ]
    },
    {
      "cell_type": "code",
      "source": [
        "df.columns"
      ],
      "metadata": {
        "id": "nuCMbx2bLgbE"
      },
      "execution_count": null,
      "outputs": []
    },
    {
      "cell_type": "markdown",
      "source": [
        "## Data cleaning Hospital 1\n",
        "\n"
      ],
      "metadata": {
        "id": "-_wLOMSfLmE2"
      }
    },
    {
      "cell_type": "code",
      "source": [
        "# Drop empty columns\n",
        "df.dropna(how='all', axis=1, inplace=True)\n",
        "print(df)\n",
        "\n",
        "#Results in 114893 rows and 48 columns"
      ],
      "metadata": {
        "id": "l7D0MF-QNlkK"
      },
      "execution_count": null,
      "outputs": []
    },
    {
      "cell_type": "code",
      "source": [
        "# Check for missing values in a column\n",
        "print(df.isnull().sum())\n",
        "# Results in only a few columns not missing values: CHARGE CODE, CHARGE DESC, ALTERNATE DESCRIPTION, DEPARTMENT CODE, DEPARTMENT NAME, EFFECTIVE DATE, RATE CHARGED, TP RATE (340B), REVENUE CODE INPATIENT, REVENUE CODE OUTPATIENT"
      ],
      "metadata": {
        "id": "xDMsAyuzQbun"
      },
      "execution_count": null,
      "outputs": []
    },
    {
      "cell_type": "code",
      "source": [
        "df.drop_duplicates(inplace=True)\n",
        "# No duplicate rows identified"
      ],
      "metadata": {
        "id": "BZdrEUqkQmIJ"
      },
      "execution_count": null,
      "outputs": []
    },
    {
      "cell_type": "code",
      "source": [
        "#Rename columns\n",
        "newDF=df.rename(columns={'CHARGE CODE': 'CHARGEcode', 'CHARGE DESC':'CHARGEdesc', 'ALTERNATE DESCRIPTION': 'ALTdesc', 'DEPARTMENT CODE':'DEPTcode', 'DEPARTMENT NAME':'DEPTname', 'EFFECTIVE DATE':'EFFECTIVEdate', 'RATE CHARGED':'RATEcharged', \"TP RATE (340B)\":'TP_RATE_340B', 'REVENUE CODE INPATIENT':'REVENUEcodeINPT', 'REVENUE CODE OUTPATIENT':'REVENUEcodeOPT'})"
      ],
      "metadata": {
        "id": "wOBhCLFOQl_h"
      },
      "execution_count": null,
      "outputs": []
    },
    {
      "cell_type": "code",
      "source": [
        "print(newDF)"
      ],
      "metadata": {
        "id": "iBoCjXloWLJB"
      },
      "execution_count": null,
      "outputs": []
    },
    {
      "cell_type": "code",
      "source": [
        "df_msq=newDF[['CHARGEcode','CHARGEdesc','ALTdesc','DEPTcode','DEPTname','EFFECTIVEdate','RATEcharged','REVENUEcodeINPT','REVENUEcodeOPT']]"
      ],
      "metadata": {
        "id": "_TBdJ10oQhlw"
      },
      "execution_count": null,
      "outputs": []
    },
    {
      "cell_type": "code",
      "source": [
        "df_msq.to_csv('/content/cleaned_mount-sinai-queens_chargemaster.csv')"
      ],
      "metadata": {
        "id": "e-LEXU3_UDuW"
      },
      "execution_count": null,
      "outputs": []
    },
    {
      "cell_type": "markdown",
      "source": [
        "## Exploratory Analysis Hospital 1\n",
        "\n"
      ],
      "metadata": {
        "id": "f_-UkbPlXTUv"
      }
    },
    {
      "cell_type": "markdown",
      "source": [
        "#### Observations:\n",
        "\n",
        "A lot of missing columns and values; created new dataframe with clean data to remove null values\n",
        "\n",
        "The prescence of outliers created an almost unreadable graph - removed outliers greater than 3 standard deviations\n",
        "\n",
        "Data is heavily skewed to the right\n",
        "\n",
        "Variance between data values is very high (in the thousands)"
      ],
      "metadata": {
        "id": "8_YK9FxWjPEl"
      }
    },
    {
      "cell_type": "code",
      "source": [
        "df_msq.dtypes"
      ],
      "metadata": {
        "colab": {
          "base_uri": "https://localhost:8080/"
        },
        "id": "T6GxZYmoX6mI",
        "outputId": "e78dde1d-d902-4ef1-fac8-bd0330357356"
      },
      "execution_count": null,
      "outputs": [
        {
          "output_type": "execute_result",
          "data": {
            "text/plain": [
              "CHARGEcode          object\n",
              "CHARGEdesc          object\n",
              "ALTdesc             object\n",
              "DEPTcode            object\n",
              "DEPTname            object\n",
              "EFFECTIVEdate       object\n",
              "RATEcharged        float64\n",
              "REVENUEcodeINPT     object\n",
              "REVENUEcodeOPT      object\n",
              "dtype: object"
            ]
          },
          "metadata": {},
          "execution_count": 72
        }
      ]
    },
    {
      "cell_type": "code",
      "source": [
        "# Convert columns to strings\n",
        "df_msq['CHARGEcode'] = df_msq['CHARGEcode'].apply(str)\n",
        "df_msq['DEPTcode'] = df_msq['DEPTcode'].apply(str)\n",
        "df_msq['REVENUEcodeINPT'] = df_msq['REVENUEcodeINPT'].apply(str)\n",
        "df_msq['REVENUEcodeOPT'] = df_msq['REVENUEcodeOPT'].apply(str)"
      ],
      "metadata": {
        "id": "w-RE8Z-WYHj-"
      },
      "execution_count": null,
      "outputs": []
    },
    {
      "cell_type": "code",
      "source": [
        "df_msq.describe()"
      ],
      "metadata": {
        "colab": {
          "base_uri": "https://localhost:8080/",
          "height": 300
        },
        "id": "vUo7MxRIYDeP",
        "outputId": "0228f44f-9c3b-4cd6-99df-ddd0432e1723"
      },
      "execution_count": null,
      "outputs": [
        {
          "output_type": "execute_result",
          "data": {
            "text/plain": [
              "         RATEcharged\n",
              "count  114893.000000\n",
              "mean     2051.366813\n",
              "std      4404.024927\n",
              "min         0.000000\n",
              "25%       164.630000\n",
              "50%       636.180000\n",
              "75%      2226.000000\n",
              "max    318000.000000"
            ],
            "text/html": [
              "\n",
              "  <div id=\"df-c73771e1-e542-491b-bd9b-fc436397b10b\" class=\"colab-df-container\">\n",
              "    <div>\n",
              "<style scoped>\n",
              "    .dataframe tbody tr th:only-of-type {\n",
              "        vertical-align: middle;\n",
              "    }\n",
              "\n",
              "    .dataframe tbody tr th {\n",
              "        vertical-align: top;\n",
              "    }\n",
              "\n",
              "    .dataframe thead th {\n",
              "        text-align: right;\n",
              "    }\n",
              "</style>\n",
              "<table border=\"1\" class=\"dataframe\">\n",
              "  <thead>\n",
              "    <tr style=\"text-align: right;\">\n",
              "      <th></th>\n",
              "      <th>RATEcharged</th>\n",
              "    </tr>\n",
              "  </thead>\n",
              "  <tbody>\n",
              "    <tr>\n",
              "      <th>count</th>\n",
              "      <td>114893.000000</td>\n",
              "    </tr>\n",
              "    <tr>\n",
              "      <th>mean</th>\n",
              "      <td>2051.366813</td>\n",
              "    </tr>\n",
              "    <tr>\n",
              "      <th>std</th>\n",
              "      <td>4404.024927</td>\n",
              "    </tr>\n",
              "    <tr>\n",
              "      <th>min</th>\n",
              "      <td>0.000000</td>\n",
              "    </tr>\n",
              "    <tr>\n",
              "      <th>25%</th>\n",
              "      <td>164.630000</td>\n",
              "    </tr>\n",
              "    <tr>\n",
              "      <th>50%</th>\n",
              "      <td>636.180000</td>\n",
              "    </tr>\n",
              "    <tr>\n",
              "      <th>75%</th>\n",
              "      <td>2226.000000</td>\n",
              "    </tr>\n",
              "    <tr>\n",
              "      <th>max</th>\n",
              "      <td>318000.000000</td>\n",
              "    </tr>\n",
              "  </tbody>\n",
              "</table>\n",
              "</div>\n",
              "    <div class=\"colab-df-buttons\">\n",
              "\n",
              "  <div class=\"colab-df-container\">\n",
              "    <button class=\"colab-df-convert\" onclick=\"convertToInteractive('df-c73771e1-e542-491b-bd9b-fc436397b10b')\"\n",
              "            title=\"Convert this dataframe to an interactive table.\"\n",
              "            style=\"display:none;\">\n",
              "\n",
              "  <svg xmlns=\"http://www.w3.org/2000/svg\" height=\"24px\" viewBox=\"0 -960 960 960\">\n",
              "    <path d=\"M120-120v-720h720v720H120Zm60-500h600v-160H180v160Zm220 220h160v-160H400v160Zm0 220h160v-160H400v160ZM180-400h160v-160H180v160Zm440 0h160v-160H620v160ZM180-180h160v-160H180v160Zm440 0h160v-160H620v160Z\"/>\n",
              "  </svg>\n",
              "    </button>\n",
              "\n",
              "  <style>\n",
              "    .colab-df-container {\n",
              "      display:flex;\n",
              "      gap: 12px;\n",
              "    }\n",
              "\n",
              "    .colab-df-convert {\n",
              "      background-color: #E8F0FE;\n",
              "      border: none;\n",
              "      border-radius: 50%;\n",
              "      cursor: pointer;\n",
              "      display: none;\n",
              "      fill: #1967D2;\n",
              "      height: 32px;\n",
              "      padding: 0 0 0 0;\n",
              "      width: 32px;\n",
              "    }\n",
              "\n",
              "    .colab-df-convert:hover {\n",
              "      background-color: #E2EBFA;\n",
              "      box-shadow: 0px 1px 2px rgba(60, 64, 67, 0.3), 0px 1px 3px 1px rgba(60, 64, 67, 0.15);\n",
              "      fill: #174EA6;\n",
              "    }\n",
              "\n",
              "    .colab-df-buttons div {\n",
              "      margin-bottom: 4px;\n",
              "    }\n",
              "\n",
              "    [theme=dark] .colab-df-convert {\n",
              "      background-color: #3B4455;\n",
              "      fill: #D2E3FC;\n",
              "    }\n",
              "\n",
              "    [theme=dark] .colab-df-convert:hover {\n",
              "      background-color: #434B5C;\n",
              "      box-shadow: 0px 1px 3px 1px rgba(0, 0, 0, 0.15);\n",
              "      filter: drop-shadow(0px 1px 2px rgba(0, 0, 0, 0.3));\n",
              "      fill: #FFFFFF;\n",
              "    }\n",
              "  </style>\n",
              "\n",
              "    <script>\n",
              "      const buttonEl =\n",
              "        document.querySelector('#df-c73771e1-e542-491b-bd9b-fc436397b10b button.colab-df-convert');\n",
              "      buttonEl.style.display =\n",
              "        google.colab.kernel.accessAllowed ? 'block' : 'none';\n",
              "\n",
              "      async function convertToInteractive(key) {\n",
              "        const element = document.querySelector('#df-c73771e1-e542-491b-bd9b-fc436397b10b');\n",
              "        const dataTable =\n",
              "          await google.colab.kernel.invokeFunction('convertToInteractive',\n",
              "                                                    [key], {});\n",
              "        if (!dataTable) return;\n",
              "\n",
              "        const docLinkHtml = 'Like what you see? Visit the ' +\n",
              "          '<a target=\"_blank\" href=https://colab.research.google.com/notebooks/data_table.ipynb>data table notebook</a>'\n",
              "          + ' to learn more about interactive tables.';\n",
              "        element.innerHTML = '';\n",
              "        dataTable['output_type'] = 'display_data';\n",
              "        await google.colab.output.renderOutput(dataTable, element);\n",
              "        const docLink = document.createElement('div');\n",
              "        docLink.innerHTML = docLinkHtml;\n",
              "        element.appendChild(docLink);\n",
              "      }\n",
              "    </script>\n",
              "  </div>\n",
              "\n",
              "\n",
              "<div id=\"df-df9e2b0d-21d9-41fb-9ba0-176b65e62d09\">\n",
              "  <button class=\"colab-df-quickchart\" onclick=\"quickchart('df-df9e2b0d-21d9-41fb-9ba0-176b65e62d09')\"\n",
              "            title=\"Suggest charts.\"\n",
              "            style=\"display:none;\">\n",
              "\n",
              "<svg xmlns=\"http://www.w3.org/2000/svg\" height=\"24px\"viewBox=\"0 0 24 24\"\n",
              "     width=\"24px\">\n",
              "    <g>\n",
              "        <path d=\"M19 3H5c-1.1 0-2 .9-2 2v14c0 1.1.9 2 2 2h14c1.1 0 2-.9 2-2V5c0-1.1-.9-2-2-2zM9 17H7v-7h2v7zm4 0h-2V7h2v10zm4 0h-2v-4h2v4z\"/>\n",
              "    </g>\n",
              "</svg>\n",
              "  </button>\n",
              "\n",
              "<style>\n",
              "  .colab-df-quickchart {\n",
              "      --bg-color: #E8F0FE;\n",
              "      --fill-color: #1967D2;\n",
              "      --hover-bg-color: #E2EBFA;\n",
              "      --hover-fill-color: #174EA6;\n",
              "      --disabled-fill-color: #AAA;\n",
              "      --disabled-bg-color: #DDD;\n",
              "  }\n",
              "\n",
              "  [theme=dark] .colab-df-quickchart {\n",
              "      --bg-color: #3B4455;\n",
              "      --fill-color: #D2E3FC;\n",
              "      --hover-bg-color: #434B5C;\n",
              "      --hover-fill-color: #FFFFFF;\n",
              "      --disabled-bg-color: #3B4455;\n",
              "      --disabled-fill-color: #666;\n",
              "  }\n",
              "\n",
              "  .colab-df-quickchart {\n",
              "    background-color: var(--bg-color);\n",
              "    border: none;\n",
              "    border-radius: 50%;\n",
              "    cursor: pointer;\n",
              "    display: none;\n",
              "    fill: var(--fill-color);\n",
              "    height: 32px;\n",
              "    padding: 0;\n",
              "    width: 32px;\n",
              "  }\n",
              "\n",
              "  .colab-df-quickchart:hover {\n",
              "    background-color: var(--hover-bg-color);\n",
              "    box-shadow: 0 1px 2px rgba(60, 64, 67, 0.3), 0 1px 3px 1px rgba(60, 64, 67, 0.15);\n",
              "    fill: var(--button-hover-fill-color);\n",
              "  }\n",
              "\n",
              "  .colab-df-quickchart-complete:disabled,\n",
              "  .colab-df-quickchart-complete:disabled:hover {\n",
              "    background-color: var(--disabled-bg-color);\n",
              "    fill: var(--disabled-fill-color);\n",
              "    box-shadow: none;\n",
              "  }\n",
              "\n",
              "  .colab-df-spinner {\n",
              "    border: 2px solid var(--fill-color);\n",
              "    border-color: transparent;\n",
              "    border-bottom-color: var(--fill-color);\n",
              "    animation:\n",
              "      spin 1s steps(1) infinite;\n",
              "  }\n",
              "\n",
              "  @keyframes spin {\n",
              "    0% {\n",
              "      border-color: transparent;\n",
              "      border-bottom-color: var(--fill-color);\n",
              "      border-left-color: var(--fill-color);\n",
              "    }\n",
              "    20% {\n",
              "      border-color: transparent;\n",
              "      border-left-color: var(--fill-color);\n",
              "      border-top-color: var(--fill-color);\n",
              "    }\n",
              "    30% {\n",
              "      border-color: transparent;\n",
              "      border-left-color: var(--fill-color);\n",
              "      border-top-color: var(--fill-color);\n",
              "      border-right-color: var(--fill-color);\n",
              "    }\n",
              "    40% {\n",
              "      border-color: transparent;\n",
              "      border-right-color: var(--fill-color);\n",
              "      border-top-color: var(--fill-color);\n",
              "    }\n",
              "    60% {\n",
              "      border-color: transparent;\n",
              "      border-right-color: var(--fill-color);\n",
              "    }\n",
              "    80% {\n",
              "      border-color: transparent;\n",
              "      border-right-color: var(--fill-color);\n",
              "      border-bottom-color: var(--fill-color);\n",
              "    }\n",
              "    90% {\n",
              "      border-color: transparent;\n",
              "      border-bottom-color: var(--fill-color);\n",
              "    }\n",
              "  }\n",
              "</style>\n",
              "\n",
              "  <script>\n",
              "    async function quickchart(key) {\n",
              "      const quickchartButtonEl =\n",
              "        document.querySelector('#' + key + ' button');\n",
              "      quickchartButtonEl.disabled = true;  // To prevent multiple clicks.\n",
              "      quickchartButtonEl.classList.add('colab-df-spinner');\n",
              "      try {\n",
              "        const charts = await google.colab.kernel.invokeFunction(\n",
              "            'suggestCharts', [key], {});\n",
              "      } catch (error) {\n",
              "        console.error('Error during call to suggestCharts:', error);\n",
              "      }\n",
              "      quickchartButtonEl.classList.remove('colab-df-spinner');\n",
              "      quickchartButtonEl.classList.add('colab-df-quickchart-complete');\n",
              "    }\n",
              "    (() => {\n",
              "      let quickchartButtonEl =\n",
              "        document.querySelector('#df-df9e2b0d-21d9-41fb-9ba0-176b65e62d09 button');\n",
              "      quickchartButtonEl.style.display =\n",
              "        google.colab.kernel.accessAllowed ? 'block' : 'none';\n",
              "    })();\n",
              "  </script>\n",
              "</div>\n",
              "    </div>\n",
              "  </div>\n"
            ]
          },
          "metadata": {},
          "execution_count": 86
        }
      ]
    },
    {
      "cell_type": "code",
      "source": [
        "df_msq['CHARGEcode'].value_counts()"
      ],
      "metadata": {
        "colab": {
          "base_uri": "https://localhost:8080/"
        },
        "id": "szl35dw3iXOd",
        "outputId": "6c892549-0d8d-4e5d-ff31-115d9c0a4cc9"
      },
      "execution_count": null,
      "outputs": [
        {
          "output_type": "execute_result",
          "data": {
            "text/plain": [
              "10300300    1\n",
              "70019617    1\n",
              "70019454    1\n",
              "70019453    1\n",
              "70019452    1\n",
              "           ..\n",
              "50024335    1\n",
              "50024334    1\n",
              "50024333    1\n",
              "50024332    1\n",
              "99899993    1\n",
              "Name: CHARGEcode, Length: 114893, dtype: int64"
            ]
          },
          "metadata": {},
          "execution_count": 77
        }
      ]
    },
    {
      "cell_type": "code",
      "source": [
        "df_msq['CHARGEdesc'].value_counts()"
      ],
      "metadata": {
        "colab": {
          "base_uri": "https://localhost:8080/"
        },
        "id": "tNi3GFBgivab",
        "outputId": "648d747a-76b0-4567-9721-fd4742564260"
      },
      "execution_count": null,
      "outputs": [
        {
          "output_type": "execute_result",
          "data": {
            "text/plain": [
              "TIBIAL INSERT W SCREW             53\n",
              "CATH PTA 142CM MARVERCK VARSZ     49\n",
              "STEM 195MM STEM REST MOD CONI     49\n",
              "ERYTHROPOIETIN RECOMBINANT INJ    45\n",
              "SPHINCTER   4.9F   .035/450       42\n",
              "                                  ..\n",
              "CATH  ANGIO 14X2 5.8FR 75CM        1\n",
              "CATH ANGIO 16X2 5.8FR 120CM        1\n",
              "EXTRACTOR STONE RETR BLLN 8.5      1\n",
              "EXTRACTOR RETRIEV BLLN 12-15M      1\n",
              "LEFT WITHOUT BEEN SEEN/ERRONEO     1\n",
              "Name: CHARGEdesc, Length: 76586, dtype: int64"
            ]
          },
          "metadata": {},
          "execution_count": 78
        }
      ]
    },
    {
      "cell_type": "code",
      "source": [
        "df_msq['ALTdesc'].value_counts()"
      ],
      "metadata": {
        "colab": {
          "base_uri": "https://localhost:8080/"
        },
        "id": "s_YVm87_ixRc",
        "outputId": "fc995e6c-4e3e-4286-bd11-5de379e55348"
      },
      "execution_count": null,
      "outputs": [
        {
          "output_type": "execute_result",
          "data": {
            "text/plain": [
              "TIBIAL INSERT W SCREW             53\n",
              "STEM 195MM STEM REST MOD CONI     49\n",
              "CATH PTA 142CM MARVERCK VARSZ     49\n",
              "ERYTHROPOIETIN RECOMBINANT INJ    45\n",
              "SPHINCTER   4.9F   .035/450       42\n",
              "                                  ..\n",
              "GRAFT HEMA MICROVEL22 X30CM        1\n",
              "BALLOON  PULMONARY 8.5MM           1\n",
              "CATH  CONTRA ANGIOG 5 FR 65        1\n",
              "CATH ULTRA BLLN DIL 3X2  75CM      1\n",
              "LEFT WITHOUT BEEN SEEN/ERRONEO     1\n",
              "Name: ALTdesc, Length: 76591, dtype: int64"
            ]
          },
          "metadata": {},
          "execution_count": 79
        }
      ]
    },
    {
      "cell_type": "code",
      "source": [
        "df_msq['DEPTcode'].value_counts()"
      ],
      "metadata": {
        "colab": {
          "base_uri": "https://localhost:8080/"
        },
        "id": "EGkUmqBdiyVo",
        "outputId": "34e06b7d-2139-4272-908f-d4cb618147e9"
      },
      "execution_count": null,
      "outputs": [
        {
          "output_type": "execute_result",
          "data": {
            "text/plain": [
              "700    47056\n",
              "500    31710\n",
              "184     7320\n",
              "800     6480\n",
              "415     4452\n",
              "       ...  \n",
              "162        2\n",
              "626        1\n",
              "310        1\n",
              "994        1\n",
              "998        1\n",
              "Name: DEPTcode, Length: 75, dtype: int64"
            ]
          },
          "metadata": {},
          "execution_count": 80
        }
      ]
    },
    {
      "cell_type": "code",
      "source": [
        "df_msq['DEPTname'].value_counts()"
      ],
      "metadata": {
        "colab": {
          "base_uri": "https://localhost:8080/"
        },
        "id": "yyp4Hy6IiyF-",
        "outputId": "e2514982-d787-4983-a683-eb10fbbf579d"
      },
      "execution_count": null,
      "outputs": [
        {
          "output_type": "execute_result",
          "data": {
            "text/plain": [
              "OR OPTIME SUPPLIES 700      47056\n",
              "OR SUPPLIES A00             31710\n",
              "PHARMACY                    11772\n",
              "OR OPTIME SUPPLIES 800       6480\n",
              "OR SUPPLIES X21- IR          4028\n",
              "                            ...  \n",
              "AMBULATORY SERV. TESTING        2\n",
              "AMBULATORY SURGERY              2\n",
              "BALANCE FORWARD                 1\n",
              "ROOM & BOARD ICU                1\n",
              "MISCELLANEOUS                   1\n",
              "Name: DEPTname, Length: 71, dtype: int64"
            ]
          },
          "metadata": {},
          "execution_count": 81
        }
      ]
    },
    {
      "cell_type": "code",
      "source": [
        "df_msq['RATEcharged'].value_counts()"
      ],
      "metadata": {
        "colab": {
          "base_uri": "https://localhost:8080/"
        },
        "id": "Eqvov_z8ixqY",
        "outputId": "4548285e-8d01-4056-aea9-223b706a4dbd"
      },
      "execution_count": null,
      "outputs": [
        {
          "output_type": "execute_result",
          "data": {
            "text/plain": [
              "1.00       952\n",
              "300.00     717\n",
              "0.00       677\n",
              "250.00     612\n",
              "500.00     573\n",
              "          ... \n",
              "405.10       1\n",
              "455.54       1\n",
              "414.20       1\n",
              "2582.00      1\n",
              "220.64       1\n",
              "Name: RATEcharged, Length: 15914, dtype: int64"
            ]
          },
          "metadata": {},
          "execution_count": 82
        }
      ]
    },
    {
      "cell_type": "code",
      "source": [
        "df_msq['REVENUEcodeINPT'].value_counts()"
      ],
      "metadata": {
        "colab": {
          "base_uri": "https://localhost:8080/"
        },
        "id": "V1bQ7r-xi1_Q",
        "outputId": "f60ae62e-bf50-4d5c-8a30-f8b96ff4b6fe"
      },
      "execution_count": null,
      "outputs": [
        {
          "output_type": "execute_result",
          "data": {
            "text/plain": [
              "278.0    82182\n",
              "270.0     7830\n",
              "250.0     7549\n",
              "276.0     3221\n",
              "636.0     2899\n",
              "         ...  \n",
              "381.0        1\n",
              "389.0        1\n",
              "385.0        1\n",
              "303.0        1\n",
              "271.0        1\n",
              "Name: REVENUEcodeINPT, Length: 124, dtype: int64"
            ]
          },
          "metadata": {},
          "execution_count": 83
        }
      ]
    },
    {
      "cell_type": "code",
      "source": [
        "df_msq['REVENUEcodeOPT'].value_counts()"
      ],
      "metadata": {
        "colab": {
          "base_uri": "https://localhost:8080/"
        },
        "id": "kypvDTAAi2Q_",
        "outputId": "a71eff26-b5da-4293-9791-813265435b10"
      },
      "execution_count": null,
      "outputs": [
        {
          "output_type": "execute_result",
          "data": {
            "text/plain": [
              "278.0    82182\n",
              "270.0     7830\n",
              "250.0     7257\n",
              "276.0     3221\n",
              "636.0     3191\n",
              "         ...  \n",
              "381.0        1\n",
              "389.0        1\n",
              "385.0        1\n",
              "303.0        1\n",
              "271.0        1\n",
              "Name: REVENUEcodeOPT, Length: 124, dtype: int64"
            ]
          },
          "metadata": {},
          "execution_count": 84
        }
      ]
    },
    {
      "cell_type": "code",
      "source": [
        "# Data distribution\n",
        "\n",
        "# Calculate mean, median, and mode\n",
        "mean= df_msq['RATEcharged'].mean()\n",
        "median = df_msq['RATEcharged'].median()\n",
        "mode = df_msq['RATEcharged'].mode().iloc[0]\n",
        "print(\"Mean is:\", mean)\n",
        "print(\"Median is:\", median)\n",
        "print(\"Mode is: \", mode)\n",
        "# Calculate range\n",
        "range  = df_msq['RATEcharged'].max() - df_msq['RATEcharged'].min()\n",
        "print(\"Range is:\", range)\n",
        "# Calculate variance and standard deviation\n",
        "variance = np.var(df_msq['RATEcharged'])\n",
        "print(\"Variance is: \",variance)\n",
        "std_dev = np.std(df_msq['RATEcharged'])\n",
        "print(\"Standard Deviation is:\", std_dev)"
      ],
      "metadata": {
        "colab": {
          "base_uri": "https://localhost:8080/"
        },
        "id": "hgKRLtRvXern",
        "outputId": "8d8669ca-23b8-4b5e-c40e-3011e7ad7b8e"
      },
      "execution_count": null,
      "outputs": [
        {
          "output_type": "stream",
          "name": "stdout",
          "text": [
            "Mean is: 2051.366812512512\n",
            "Median is: 636.18\n",
            "Mode is:  1.0\n",
            "Range is: 318000.0\n",
            "Variance is:  19395266.741329383\n",
            "Standard Deviation is: 4404.005760819277\n"
          ]
        }
      ]
    },
    {
      "cell_type": "code",
      "source": [
        "# Remove outliers by only allowing data within 3 standard deviations\n",
        "df_cleaned = df_msq[df_msq['RATEcharged']<= std_dev*3]"
      ],
      "metadata": {
        "id": "32QzOR6bo4CJ"
      },
      "execution_count": null,
      "outputs": []
    },
    {
      "cell_type": "code",
      "source": [
        "# Create a histogram\n",
        "plt.hist(df_cleaned['RATEcharged'], bins=30, density=True, alpha=0.7, color='purple', label='Histogram')\n",
        "\n",
        "# Create a probability density function (PDF) curve\n",
        "x = np.linspace(min(df_cleaned['RATEcharged']), max(df_cleaned['RATEcharged']),100)\n",
        "pdf = (1/(std_dev * np.sqrt(2*np.pi))) * np.exp(-(x - mean)**2 / (2*std_dev**2))\n",
        "plt.plot(x, pdf, color='blue', label='PDF')\n",
        "\n",
        "plt.title('Distribution of Rates Charged ($)')\n",
        "plt.xlabel('Rate Charged ($)')\n",
        "plt.ylabel('Probability Density')\n",
        "plt.legend()\n",
        "plt.grid(True)\n",
        "plt.show()"
      ],
      "metadata": {
        "colab": {
          "base_uri": "https://localhost:8080/",
          "height": 472
        },
        "id": "elu-_0mhpJd1",
        "outputId": "05c0d5b7-1799-4178-9f95-4f36d53404ef"
      },
      "execution_count": null,
      "outputs": [
        {
          "output_type": "display_data",
          "data": {
            "text/plain": [
              "<Figure size 640x480 with 1 Axes>"
            ],
            "image/png": "[encoded data removed]"
          },
          "metadata": {}
        }
      ]
    },
    {
      "cell_type": "code",
      "source": [
        "df_cleaned.to_csv('/content/outliers_rem_cleaned_mount-sinai-queens_chargemaster.csv')"
      ],
      "metadata": {
        "id": "lTd_BXZQqEyn"
      },
      "execution_count": null,
      "outputs": []
    },
    {
      "cell_type": "markdown",
      "source": [
        "# Hospital Database 2: New York Presbyterian"
      ],
      "metadata": {
        "id": "N8qmGpHpKsOW"
      }
    },
    {
      "cell_type": "markdown",
      "source": [
        "## Import data Hospital 2"
      ],
      "metadata": {
        "id": "zCAUuWR1K6Fn"
      }
    },
    {
      "cell_type": "code",
      "execution_count": 8,
      "metadata": {
        "id": "DyudjLb2K6Fn"
      },
      "outputs": [],
      "source": [
        "df2 = pd.read_json('/content/133957095_NewYorkPresbyterianHospital_standardcharges.json')"
      ]
    },
    {
      "cell_type": "code",
      "source": [
        "df2.shape\n",
        "#6193 rows and 47 columns"
      ],
      "metadata": {
        "colab": {
          "base_uri": "https://localhost:8080/"
        },
        "outputId": "b1bc36d6-e5df-41c7-d334-fe1578efd1cc",
        "id": "duBWxYSrK6Fo"
      },
      "execution_count": 9,
      "outputs": [
        {
          "output_type": "execute_result",
          "data": {
            "text/plain": [
              "(6193, 47)"
            ]
          },
          "metadata": {},
          "execution_count": 9
        }
      ]
    },
    {
      "cell_type": "code",
      "source": [
        "df2.head(10)"
      ],
      "metadata": {
        "colab": {
          "base_uri": "https://localhost:8080/",
          "height": 777
        },
        "outputId": "35182bb2-8028-44ab-b29d-d5dce762ab79",
        "id": "at3DRsfgK6Fo"
      },
      "execution_count": 10,
      "outputs": [
        {
          "output_type": "execute_result",
          "data": {
            "text/plain": [
              "  Code (CPT/DRG)                                        Description Rev Code  \\\n",
              "0          96360        HC IV INFUSION HYDRATION INITIAL 31 MIN-1HR     0260   \n",
              "1          96361            HC IV INFUSION HYDRATION FLUIDS ADDL HR     0260   \n",
              "2          96365  HC IV INFUSION FOR THER/PROPH/DIAG INITIAL UP ...     0260   \n",
              "3          96367  HC IV INF THER/PROPH/DIAG ADDL SEQ NEW DRUG UP...     0260   \n",
              "4          96368      HC IV INFUSION FOR THER/PROPH/DIAG CONCURRENT     0260   \n",
              "5          96369                      HC NON-CHEMO SC INFUSION 1 HR     0260   \n",
              "6          96370              HC NON-CHEMO SC INFUSION EACH ADDL HR     0260   \n",
              "7          96375     HC THERAPEUTIC/PROPH/DIAG INJ IV PUSH ADDL SEQ     0260   \n",
              "8          96376         HC THERAPEUTIC/PROPH/DIAG INJ IV PUSH SAME     0260   \n",
              "9          96377                    HC APPLICATION OF BODY INJECTOR     0260   \n",
              "\n",
              "   Inpatient/Outpatient  Gross Charges  Discounted Cash Price     Aetna  \\\n",
              "0  Inpatient/Outpatient          866.0                  866.0   641.706   \n",
              "1  Inpatient/Outpatient          358.0                  358.0   265.278   \n",
              "2  Inpatient/Outpatient         1397.0                 1397.0  1035.177   \n",
              "3  Inpatient/Outpatient          480.0                  480.0    355.68   \n",
              "4  Inpatient/Outpatient          480.0                  480.0    355.68   \n",
              "5  Inpatient/Outpatient          780.0                  780.0    577.98   \n",
              "6  Inpatient/Outpatient          480.0                  480.0    355.68   \n",
              "7  Inpatient/Outpatient          602.0                  602.0   446.082   \n",
              "8  Inpatient/Outpatient          357.0                  357.0   264.537   \n",
              "9  Inpatient/Outpatient          510.0                  510.0    377.91   \n",
              "\n",
              "     Cigna Empire Blue Cross Blue Shield Emblem Health  ...  \\\n",
              "0  494.486                        640.84      1388.424  ...   \n",
              "1  204.418                        264.92      1305.112  ...   \n",
              "2  797.687                       1033.78      1475.508  ...   \n",
              "3   274.08                         355.2       1325.12  ...   \n",
              "4   274.08                         355.2       1325.12  ...   \n",
              "5   445.38                         577.2       1374.32  ...   \n",
              "6   274.08                         355.2       1325.12  ...   \n",
              "7  343.742                        445.48      1345.128  ...   \n",
              "8  203.847                        264.18      1304.948  ...   \n",
              "9   291.21                         377.4       1330.04  ...   \n",
              "\n",
              "  Consumer Health Network     Devon    Equian First Health Magnacare  \\\n",
              "0                393.5104  393.5104  393.5104     393.5104  393.5104   \n",
              "1                162.6752  162.6752  162.6752     162.6752  162.6752   \n",
              "2                634.7968  634.7968  634.7968     634.7968  634.7968   \n",
              "3                 218.112   218.112   218.112      218.112   218.112   \n",
              "4                 218.112   218.112   218.112      218.112   218.112   \n",
              "5                 354.432   354.432   354.432      354.432   354.432   \n",
              "6                 218.112   218.112   218.112      218.112   218.112   \n",
              "7                273.5488  273.5488  273.5488     273.5488  273.5488   \n",
              "8                162.2208  162.2208  162.2208     162.2208  162.2208   \n",
              "9                 231.744   231.744   231.744      231.744   231.744   \n",
              "\n",
              "  Multiplan/Beechstreet/PHCS       QHM Worldwide Minimum Negotiated Charge  \\\n",
              "0                   393.5104  393.5104  393.5104                 253.04825   \n",
              "1                   162.6752  162.6752  162.6752                  51.90325   \n",
              "2                   634.7968  634.7968  634.7968                 253.04825   \n",
              "3                    218.112   218.112   218.112                  82.65075   \n",
              "4                    218.112   218.112   218.112                 156.98280   \n",
              "5                    354.432   354.432   354.432                 253.04825   \n",
              "6                    218.112   218.112   218.112                  51.90325   \n",
              "7                   273.5488  273.5488  273.5488                  51.90325   \n",
              "8                   162.2208  162.2208  162.2208                 162.22080   \n",
              "9                    231.744   231.744   231.744                  51.90325   \n",
              "\n",
              "  Maximum Negotiated Charge  \n",
              "0               1388.424000  \n",
              "1               1990.891341  \n",
              "2               1475.508000  \n",
              "3               1325.120000  \n",
              "4               1325.120000  \n",
              "5               1374.320000  \n",
              "6               1990.891341  \n",
              "7               1345.128000  \n",
              "8               1304.948000  \n",
              "9               1330.040000  \n",
              "\n",
              "[10 rows x 47 columns]"
            ],
            "text/html": [
              "\n",
              "  <div id=\"df-314c67d2-ac84-41ad-a711-6313f91ecba5\" class=\"colab-df-container\">\n",
              "    <div>\n",
              "<style scoped>\n",
              "    .dataframe tbody tr th:only-of-type {\n",
              "        vertical-align: middle;\n",
              "    }\n",
              "\n",
              "    .dataframe tbody tr th {\n",
              "        vertical-align: top;\n",
              "    }\n",
              "\n",
              "    .dataframe thead th {\n",
              "        text-align: right;\n",
              "    }\n",
              "</style>\n",
              "<table border=\"1\" class=\"dataframe\">\n",
              "  <thead>\n",
              "    <tr style=\"text-align: right;\">\n",
              "      <th></th>\n",
              "      <th>Code (CPT/DRG)</th>\n",
              "      <th>Description</th>\n",
              "      <th>Rev Code</th>\n",
              "      <th>Inpatient/Outpatient</th>\n",
              "      <th>Gross Charges</th>\n",
              "      <th>Discounted Cash Price</th>\n",
              "      <th>Aetna</th>\n",
              "      <th>Cigna</th>\n",
              "      <th>Empire Blue Cross Blue Shield</th>\n",
              "      <th>Emblem Health</th>\n",
              "      <th>...</th>\n",
              "      <th>Consumer Health Network</th>\n",
              "      <th>Devon</th>\n",
              "      <th>Equian</th>\n",
              "      <th>First Health</th>\n",
              "      <th>Magnacare</th>\n",
              "      <th>Multiplan/Beechstreet/PHCS</th>\n",
              "      <th>QHM</th>\n",
              "      <th>Worldwide</th>\n",
              "      <th>Minimum Negotiated Charge</th>\n",
              "      <th>Maximum Negotiated Charge</th>\n",
              "    </tr>\n",
              "  </thead>\n",
              "  <tbody>\n",
              "    <tr>\n",
              "      <th>0</th>\n",
              "      <td>96360</td>\n",
              "      <td>HC IV INFUSION HYDRATION INITIAL 31 MIN-1HR</td>\n",
              "      <td>0260</td>\n",
              "      <td>Inpatient/Outpatient</td>\n",
              "      <td>866.0</td>\n",
              "      <td>866.0</td>\n",
              "      <td>641.706</td>\n",
              "      <td>494.486</td>\n",
              "      <td>640.84</td>\n",
              "      <td>1388.424</td>\n",
              "      <td>...</td>\n",
              "      <td>393.5104</td>\n",
              "      <td>393.5104</td>\n",
              "      <td>393.5104</td>\n",
              "      <td>393.5104</td>\n",
              "      <td>393.5104</td>\n",
              "      <td>393.5104</td>\n",
              "      <td>393.5104</td>\n",
              "      <td>393.5104</td>\n",
              "      <td>253.04825</td>\n",
              "      <td>1388.424000</td>\n",
              "    </tr>\n",
              "    <tr>\n",
              "      <th>1</th>\n",
              "      <td>96361</td>\n",
              "      <td>HC IV INFUSION HYDRATION FLUIDS ADDL HR</td>\n",
              "      <td>0260</td>\n",
              "      <td>Inpatient/Outpatient</td>\n",
              "      <td>358.0</td>\n",
              "      <td>358.0</td>\n",
              "      <td>265.278</td>\n",
              "      <td>204.418</td>\n",
              "      <td>264.92</td>\n",
              "      <td>1305.112</td>\n",
              "      <td>...</td>\n",
              "      <td>162.6752</td>\n",
              "      <td>162.6752</td>\n",
              "      <td>162.6752</td>\n",
              "      <td>162.6752</td>\n",
              "      <td>162.6752</td>\n",
              "      <td>162.6752</td>\n",
              "      <td>162.6752</td>\n",
              "      <td>162.6752</td>\n",
              "      <td>51.90325</td>\n",
              "      <td>1990.891341</td>\n",
              "    </tr>\n",
              "    <tr>\n",
              "      <th>2</th>\n",
              "      <td>96365</td>\n",
              "      <td>HC IV INFUSION FOR THER/PROPH/DIAG INITIAL UP ...</td>\n",
              "      <td>0260</td>\n",
              "      <td>Inpatient/Outpatient</td>\n",
              "      <td>1397.0</td>\n",
              "      <td>1397.0</td>\n",
              "      <td>1035.177</td>\n",
              "      <td>797.687</td>\n",
              "      <td>1033.78</td>\n",
              "      <td>1475.508</td>\n",
              "      <td>...</td>\n",
              "      <td>634.7968</td>\n",
              "      <td>634.7968</td>\n",
              "      <td>634.7968</td>\n",
              "      <td>634.7968</td>\n",
              "      <td>634.7968</td>\n",
              "      <td>634.7968</td>\n",
              "      <td>634.7968</td>\n",
              "      <td>634.7968</td>\n",
              "      <td>253.04825</td>\n",
              "      <td>1475.508000</td>\n",
              "    </tr>\n",
              "    <tr>\n",
              "      <th>3</th>\n",
              "      <td>96367</td>\n",
              "      <td>HC IV INF THER/PROPH/DIAG ADDL SEQ NEW DRUG UP...</td>\n",
              "      <td>0260</td>\n",
              "      <td>Inpatient/Outpatient</td>\n",
              "      <td>480.0</td>\n",
              "      <td>480.0</td>\n",
              "      <td>355.68</td>\n",
              "      <td>274.08</td>\n",
              "      <td>355.2</td>\n",
              "      <td>1325.12</td>\n",
              "      <td>...</td>\n",
              "      <td>218.112</td>\n",
              "      <td>218.112</td>\n",
              "      <td>218.112</td>\n",
              "      <td>218.112</td>\n",
              "      <td>218.112</td>\n",
              "      <td>218.112</td>\n",
              "      <td>218.112</td>\n",
              "      <td>218.112</td>\n",
              "      <td>82.65075</td>\n",
              "      <td>1325.120000</td>\n",
              "    </tr>\n",
              "    <tr>\n",
              "      <th>4</th>\n",
              "      <td>96368</td>\n",
              "      <td>HC IV INFUSION FOR THER/PROPH/DIAG CONCURRENT</td>\n",
              "      <td>0260</td>\n",
              "      <td>Inpatient/Outpatient</td>\n",
              "      <td>480.0</td>\n",
              "      <td>480.0</td>\n",
              "      <td>355.68</td>\n",
              "      <td>274.08</td>\n",
              "      <td>355.2</td>\n",
              "      <td>1325.12</td>\n",
              "      <td>...</td>\n",
              "      <td>218.112</td>\n",
              "      <td>218.112</td>\n",
              "      <td>218.112</td>\n",
              "      <td>218.112</td>\n",
              "      <td>218.112</td>\n",
              "      <td>218.112</td>\n",
              "      <td>218.112</td>\n",
              "      <td>218.112</td>\n",
              "      <td>156.98280</td>\n",
              "      <td>1325.120000</td>\n",
              "    </tr>\n",
              "    <tr>\n",
              "      <th>5</th>\n",
              "      <td>96369</td>\n",
              "      <td>HC NON-CHEMO SC INFUSION 1 HR</td>\n",
              "      <td>0260</td>\n",
              "      <td>Inpatient/Outpatient</td>\n",
              "      <td>780.0</td>\n",
              "      <td>780.0</td>\n",
              "      <td>577.98</td>\n",
              "      <td>445.38</td>\n",
              "      <td>577.2</td>\n",
              "      <td>1374.32</td>\n",
              "      <td>...</td>\n",
              "      <td>354.432</td>\n",
              "      <td>354.432</td>\n",
              "      <td>354.432</td>\n",
              "      <td>354.432</td>\n",
              "      <td>354.432</td>\n",
              "      <td>354.432</td>\n",
              "      <td>354.432</td>\n",
              "      <td>354.432</td>\n",
              "      <td>253.04825</td>\n",
              "      <td>1374.320000</td>\n",
              "    </tr>\n",
              "    <tr>\n",
              "      <th>6</th>\n",
              "      <td>96370</td>\n",
              "      <td>HC NON-CHEMO SC INFUSION EACH ADDL HR</td>\n",
              "      <td>0260</td>\n",
              "      <td>Inpatient/Outpatient</td>\n",
              "      <td>480.0</td>\n",
              "      <td>480.0</td>\n",
              "      <td>355.68</td>\n",
              "      <td>274.08</td>\n",
              "      <td>355.2</td>\n",
              "      <td>1325.12</td>\n",
              "      <td>...</td>\n",
              "      <td>218.112</td>\n",
              "      <td>218.112</td>\n",
              "      <td>218.112</td>\n",
              "      <td>218.112</td>\n",
              "      <td>218.112</td>\n",
              "      <td>218.112</td>\n",
              "      <td>218.112</td>\n",
              "      <td>218.112</td>\n",
              "      <td>51.90325</td>\n",
              "      <td>1990.891341</td>\n",
              "    </tr>\n",
              "    <tr>\n",
              "      <th>7</th>\n",
              "      <td>96375</td>\n",
              "      <td>HC THERAPEUTIC/PROPH/DIAG INJ IV PUSH ADDL SEQ</td>\n",
              "      <td>0260</td>\n",
              "      <td>Inpatient/Outpatient</td>\n",
              "      <td>602.0</td>\n",
              "      <td>602.0</td>\n",
              "      <td>446.082</td>\n",
              "      <td>343.742</td>\n",
              "      <td>445.48</td>\n",
              "      <td>1345.128</td>\n",
              "      <td>...</td>\n",
              "      <td>273.5488</td>\n",
              "      <td>273.5488</td>\n",
              "      <td>273.5488</td>\n",
              "      <td>273.5488</td>\n",
              "      <td>273.5488</td>\n",
              "      <td>273.5488</td>\n",
              "      <td>273.5488</td>\n",
              "      <td>273.5488</td>\n",
              "      <td>51.90325</td>\n",
              "      <td>1345.128000</td>\n",
              "    </tr>\n",
              "    <tr>\n",
              "      <th>8</th>\n",
              "      <td>96376</td>\n",
              "      <td>HC THERAPEUTIC/PROPH/DIAG INJ IV PUSH SAME</td>\n",
              "      <td>0260</td>\n",
              "      <td>Inpatient/Outpatient</td>\n",
              "      <td>357.0</td>\n",
              "      <td>357.0</td>\n",
              "      <td>264.537</td>\n",
              "      <td>203.847</td>\n",
              "      <td>264.18</td>\n",
              "      <td>1304.948</td>\n",
              "      <td>...</td>\n",
              "      <td>162.2208</td>\n",
              "      <td>162.2208</td>\n",
              "      <td>162.2208</td>\n",
              "      <td>162.2208</td>\n",
              "      <td>162.2208</td>\n",
              "      <td>162.2208</td>\n",
              "      <td>162.2208</td>\n",
              "      <td>162.2208</td>\n",
              "      <td>162.22080</td>\n",
              "      <td>1304.948000</td>\n",
              "    </tr>\n",
              "    <tr>\n",
              "      <th>9</th>\n",
              "      <td>96377</td>\n",
              "      <td>HC APPLICATION OF BODY INJECTOR</td>\n",
              "      <td>0260</td>\n",
              "      <td>Inpatient/Outpatient</td>\n",
              "      <td>510.0</td>\n",
              "      <td>510.0</td>\n",
              "      <td>377.91</td>\n",
              "      <td>291.21</td>\n",
              "      <td>377.4</td>\n",
              "      <td>1330.04</td>\n",
              "      <td>...</td>\n",
              "      <td>231.744</td>\n",
              "      <td>231.744</td>\n",
              "      <td>231.744</td>\n",
              "      <td>231.744</td>\n",
              "      <td>231.744</td>\n",
              "      <td>231.744</td>\n",
              "      <td>231.744</td>\n",
              "      <td>231.744</td>\n",
              "      <td>51.90325</td>\n",
              "      <td>1330.040000</td>\n",
              "    </tr>\n",
              "  </tbody>\n",
              "</table>\n",
              "<p>10 rows × 47 columns</p>\n",
              "</div>\n",
              "    <div class=\"colab-df-buttons\">\n",
              "\n",
              "  <div class=\"colab-df-container\">\n",
              "    <button class=\"colab-df-convert\" onclick=\"convertToInteractive('df-314c67d2-ac84-41ad-a711-6313f91ecba5')\"\n",
              "            title=\"Convert this dataframe to an interactive table.\"\n",
              "            style=\"display:none;\">\n",
              "\n",
              "  <svg xmlns=\"http://www.w3.org/2000/svg\" height=\"24px\" viewBox=\"0 -960 960 960\">\n",
              "    <path d=\"M120-120v-720h720v720H120Zm60-500h600v-160H180v160Zm220 220h160v-160H400v160Zm0 220h160v-160H400v160ZM180-400h160v-160H180v160Zm440 0h160v-160H620v160ZM180-180h160v-160H180v160Zm440 0h160v-160H620v160Z\"/>\n",
              "  </svg>\n",
              "    </button>\n",
              "\n",
              "  <style>\n",
              "    .colab-df-container {\n",
              "      display:flex;\n",
              "      gap: 12px;\n",
              "    }\n",
              "\n",
              "    .colab-df-convert {\n",
              "      background-color: #E8F0FE;\n",
              "      border: none;\n",
              "      border-radius: 50%;\n",
              "      cursor: pointer;\n",
              "      display: none;\n",
              "      fill: #1967D2;\n",
              "      height: 32px;\n",
              "      padding: 0 0 0 0;\n",
              "      width: 32px;\n",
              "    }\n",
              "\n",
              "    .colab-df-convert:hover {\n",
              "      background-color: #E2EBFA;\n",
              "      box-shadow: 0px 1px 2px rgba(60, 64, 67, 0.3), 0px 1px 3px 1px rgba(60, 64, 67, 0.15);\n",
              "      fill: #174EA6;\n",
              "    }\n",
              "\n",
              "    .colab-df-buttons div {\n",
              "      margin-bottom: 4px;\n",
              "    }\n",
              "\n",
              "    [theme=dark] .colab-df-convert {\n",
              "      background-color: #3B4455;\n",
              "      fill: #D2E3FC;\n",
              "    }\n",
              "\n",
              "    [theme=dark] .colab-df-convert:hover {\n",
              "      background-color: #434B5C;\n",
              "      box-shadow: 0px 1px 3px 1px rgba(0, 0, 0, 0.15);\n",
              "      filter: drop-shadow(0px 1px 2px rgba(0, 0, 0, 0.3));\n",
              "      fill: #FFFFFF;\n",
              "    }\n",
              "  </style>\n",
              "\n",
              "    <script>\n",
              "      const buttonEl =\n",
              "        document.querySelector('#df-314c67d2-ac84-41ad-a711-6313f91ecba5 button.colab-df-convert');\n",
              "      buttonEl.style.display =\n",
              "        google.colab.kernel.accessAllowed ? 'block' : 'none';\n",
              "\n",
              "      async function convertToInteractive(key) {\n",
              "        const element = document.querySelector('#df-314c67d2-ac84-41ad-a711-6313f91ecba5');\n",
              "        const dataTable =\n",
              "          await google.colab.kernel.invokeFunction('convertToInteractive',\n",
              "                                                    [key], {});\n",
              "        if (!dataTable) return;\n",
              "\n",
              "        const docLinkHtml = 'Like what you see? Visit the ' +\n",
              "          '<a target=\"_blank\" href=https://colab.research.google.com/notebooks/data_table.ipynb>data table notebook</a>'\n",
              "          + ' to learn more about interactive tables.';\n",
              "        element.innerHTML = '';\n",
              "        dataTable['output_type'] = 'display_data';\n",
              "        await google.colab.output.renderOutput(dataTable, element);\n",
              "        const docLink = document.createElement('div');\n",
              "        docLink.innerHTML = docLinkHtml;\n",
              "        element.appendChild(docLink);\n",
              "      }\n",
              "    </script>\n",
              "  </div>\n",
              "\n",
              "\n",
              "<div id=\"df-80e63951-98b3-4b90-9644-e172f8486ca2\">\n",
              "  <button class=\"colab-df-quickchart\" onclick=\"quickchart('df-80e63951-98b3-4b90-9644-e172f8486ca2')\"\n",
              "            title=\"Suggest charts.\"\n",
              "            style=\"display:none;\">\n",
              "\n",
              "<svg xmlns=\"http://www.w3.org/2000/svg\" height=\"24px\"viewBox=\"0 0 24 24\"\n",
              "     width=\"24px\">\n",
              "    <g>\n",
              "        <path d=\"M19 3H5c-1.1 0-2 .9-2 2v14c0 1.1.9 2 2 2h14c1.1 0 2-.9 2-2V5c0-1.1-.9-2-2-2zM9 17H7v-7h2v7zm4 0h-2V7h2v10zm4 0h-2v-4h2v4z\"/>\n",
              "    </g>\n",
              "</svg>\n",
              "  </button>\n",
              "\n",
              "<style>\n",
              "  .colab-df-quickchart {\n",
              "      --bg-color: #E8F0FE;\n",
              "      --fill-color: #1967D2;\n",
              "      --hover-bg-color: #E2EBFA;\n",
              "      --hover-fill-color: #174EA6;\n",
              "      --disabled-fill-color: #AAA;\n",
              "      --disabled-bg-color: #DDD;\n",
              "  }\n",
              "\n",
              "  [theme=dark] .colab-df-quickchart {\n",
              "      --bg-color: #3B4455;\n",
              "      --fill-color: #D2E3FC;\n",
              "      --hover-bg-color: #434B5C;\n",
              "      --hover-fill-color: #FFFFFF;\n",
              "      --disabled-bg-color: #3B4455;\n",
              "      --disabled-fill-color: #666;\n",
              "  }\n",
              "\n",
              "  .colab-df-quickchart {\n",
              "    background-color: var(--bg-color);\n",
              "    border: none;\n",
              "    border-radius: 50%;\n",
              "    cursor: pointer;\n",
              "    display: none;\n",
              "    fill: var(--fill-color);\n",
              "    height: 32px;\n",
              "    padding: 0;\n",
              "    width: 32px;\n",
              "  }\n",
              "\n",
              "  .colab-df-quickchart:hover {\n",
              "    background-color: var(--hover-bg-color);\n",
              "    box-shadow: 0 1px 2px rgba(60, 64, 67, 0.3), 0 1px 3px 1px rgba(60, 64, 67, 0.15);\n",
              "    fill: var(--button-hover-fill-color);\n",
              "  }\n",
              "\n",
              "  .colab-df-quickchart-complete:disabled,\n",
              "  .colab-df-quickchart-complete:disabled:hover {\n",
              "    background-color: var(--disabled-bg-color);\n",
              "    fill: var(--disabled-fill-color);\n",
              "    box-shadow: none;\n",
              "  }\n",
              "\n",
              "  .colab-df-spinner {\n",
              "    border: 2px solid var(--fill-color);\n",
              "    border-color: transparent;\n",
              "    border-bottom-color: var(--fill-color);\n",
              "    animation:\n",
              "      spin 1s steps(1) infinite;\n",
              "  }\n",
              "\n",
              "  @keyframes spin {\n",
              "    0% {\n",
              "      border-color: transparent;\n",
              "      border-bottom-color: var(--fill-color);\n",
              "      border-left-color: var(--fill-color);\n",
              "    }\n",
              "    20% {\n",
              "      border-color: transparent;\n",
              "      border-left-color: var(--fill-color);\n",
              "      border-top-color: var(--fill-color);\n",
              "    }\n",
              "    30% {\n",
              "      border-color: transparent;\n",
              "      border-left-color: var(--fill-color);\n",
              "      border-top-color: var(--fill-color);\n",
              "      border-right-color: var(--fill-color);\n",
              "    }\n",
              "    40% {\n",
              "      border-color: transparent;\n",
              "      border-right-color: var(--fill-color);\n",
              "      border-top-color: var(--fill-color);\n",
              "    }\n",
              "    60% {\n",
              "      border-color: transparent;\n",
              "      border-right-color: var(--fill-color);\n",
              "    }\n",
              "    80% {\n",
              "      border-color: transparent;\n",
              "      border-right-color: var(--fill-color);\n",
              "      border-bottom-color: var(--fill-color);\n",
              "    }\n",
              "    90% {\n",
              "      border-color: transparent;\n",
              "      border-bottom-color: var(--fill-color);\n",
              "    }\n",
              "  }\n",
              "</style>\n",
              "\n",
              "  <script>\n",
              "    async function quickchart(key) {\n",
              "      const quickchartButtonEl =\n",
              "        document.querySelector('#' + key + ' button');\n",
              "      quickchartButtonEl.disabled = true;  // To prevent multiple clicks.\n",
              "      quickchartButtonEl.classList.add('colab-df-spinner');\n",
              "      try {\n",
              "        const charts = await google.colab.kernel.invokeFunction(\n",
              "            'suggestCharts', [key], {});\n",
              "      } catch (error) {\n",
              "        console.error('Error during call to suggestCharts:', error);\n",
              "      }\n",
              "      quickchartButtonEl.classList.remove('colab-df-spinner');\n",
              "      quickchartButtonEl.classList.add('colab-df-quickchart-complete');\n",
              "    }\n",
              "    (() => {\n",
              "      let quickchartButtonEl =\n",
              "        document.querySelector('#df-80e63951-98b3-4b90-9644-e172f8486ca2 button');\n",
              "      quickchartButtonEl.style.display =\n",
              "        google.colab.kernel.accessAllowed ? 'block' : 'none';\n",
              "    })();\n",
              "  </script>\n",
              "</div>\n",
              "    </div>\n",
              "  </div>\n"
            ]
          },
          "metadata": {},
          "execution_count": 10
        }
      ]
    },
    {
      "cell_type": "code",
      "source": [
        "df2.columns"
      ],
      "metadata": {
        "colab": {
          "base_uri": "https://localhost:8080/"
        },
        "id": "12gHhu5mK6Fo",
        "outputId": "11db4517-9102-4ea6-c19d-1b5803cfbd73"
      },
      "execution_count": 11,
      "outputs": [
        {
          "output_type": "execute_result",
          "data": {
            "text/plain": [
              "Index(['Code (CPT/DRG)', 'Description', 'Rev Code', 'Inpatient/Outpatient',\n",
              "       'Gross Charges', 'Discounted Cash Price', 'Aetna', 'Cigna',\n",
              "       'Empire Blue Cross Blue Shield', 'Emblem Health', 'United Health Group',\n",
              "       'Aetna Medicare', 'AgeWell Medicare', 'Emblem Medicare',\n",
              "       'Empire Medicare', 'Fidelis Medicare', 'Healthfirst Medicare',\n",
              "       'UHC Community Plan/United Medicare', 'VNS Medicare',\n",
              "       'WellCare Medicare', '1199', 'Affinity Molina Essential',\n",
              "       'Affinity Molina Medicaid/CHP', 'Amida Care Medicaid',\n",
              "       'Emblem Medicaid/CHP', 'Empire Healthplus Essential',\n",
              "       'Empire Healthplus Exchange', 'Empire Healthplus Medicaid/CHP',\n",
              "       'Fidelis Essential/Exchange', 'Fidelis Medicaid/CHP',\n",
              "       'Healthfirst Essential/Exchange', 'Healthfirst Medicaid/CHP',\n",
              "       'MVP Medicaid/CHP', 'MVP Essential', 'United Community Plan Essential',\n",
              "       'United Community Plan Medicaid', 'VNS Medicaid',\n",
              "       'Consumer Health Network', 'Devon', 'Equian', 'First Health',\n",
              "       'Magnacare', 'Multiplan/Beechstreet/PHCS', 'QHM', 'Worldwide',\n",
              "       'Minimum Negotiated Charge', 'Maximum Negotiated Charge'],\n",
              "      dtype='object')"
            ]
          },
          "metadata": {},
          "execution_count": 11
        }
      ]
    },
    {
      "cell_type": "markdown",
      "source": [
        "## Data cleaning Hospital 2\n",
        "\n"
      ],
      "metadata": {
        "id": "UyU2yq1vIdKn"
      }
    },
    {
      "cell_type": "code",
      "source": [
        "# Drop empty columns\n",
        "df2.dropna(how='all', axis=1, inplace=True)\n",
        "print(df2)\n",
        "\n",
        "#No empty columns dropped"
      ],
      "metadata": {
        "colab": {
          "base_uri": "https://localhost:8080/"
        },
        "id": "uLY8fF-bIdKx",
        "outputId": "a72a530d-a102-4be9-ea7f-fc8695cea17c"
      },
      "execution_count": 12,
      "outputs": [
        {
          "output_type": "stream",
          "name": "stdout",
          "text": [
            "     Code (CPT/DRG)                                        Description  \\\n",
            "0             96360        HC IV INFUSION HYDRATION INITIAL 31 MIN-1HR   \n",
            "1             96361            HC IV INFUSION HYDRATION FLUIDS ADDL HR   \n",
            "2             96365  HC IV INFUSION FOR THER/PROPH/DIAG INITIAL UP ...   \n",
            "3             96367  HC IV INF THER/PROPH/DIAG ADDL SEQ NEW DRUG UP...   \n",
            "4             96368      HC IV INFUSION FOR THER/PROPH/DIAG CONCURRENT   \n",
            "...             ...                                                ...   \n",
            "6188            982  EXTENSIVE O.R. PROCEDURES UNRELATED TO PRINCIP...   \n",
            "6189            983  EXTENSIVE O.R. PROCEDURES UNRELATED TO PRINCIP...   \n",
            "6190            987  NON-EXTENSIVE O.R. PROCEDURES UNRELATED TO PRI...   \n",
            "6191            988  NON-EXTENSIVE O.R. PROCEDURES UNRELATED TO PRI...   \n",
            "6192            989  NON-EXTENSIVE O.R. PROCEDURES UNRELATED TO PRI...   \n",
            "\n",
            "      Rev Code  Inpatient/Outpatient  Gross Charges  Discounted Cash Price  \\\n",
            "0         0260  Inpatient/Outpatient     866.000000             866.000000   \n",
            "1         0260  Inpatient/Outpatient     358.000000             358.000000   \n",
            "2         0260  Inpatient/Outpatient    1397.000000            1397.000000   \n",
            "3         0260  Inpatient/Outpatient     480.000000             480.000000   \n",
            "4         0260  Inpatient/Outpatient     480.000000             480.000000   \n",
            "...        ...                   ...            ...                    ...   \n",
            "6188  Multiple             Inpatient  184095.129020          184095.129020   \n",
            "6189  Multiple             Inpatient   85385.941857           85385.941857   \n",
            "6190  Multiple             Inpatient  411665.999955          411665.999955   \n",
            "6191  Multiple             Inpatient  126522.871140          126522.871140   \n",
            "6192  Multiple             Inpatient   77081.639496           77081.639496   \n",
            "\n",
            "            Aetna          Cigna Empire Blue Cross Blue Shield Emblem Health  \\\n",
            "0         641.706        494.486                        640.84      1388.424   \n",
            "1         265.278        204.418                        264.92      1305.112   \n",
            "2        1035.177        797.687                       1033.78      1475.508   \n",
            "3          355.68         274.08                         355.2       1325.12   \n",
            "4          355.68         274.08                         355.2       1325.12   \n",
            "...           ...            ...                           ...           ...   \n",
            "6188   86723.5232   98911.694706                      82299.84  115129.89148   \n",
            "6189   57748.8352   65864.888166                  63931.455093   76664.51828   \n",
            "6190  114736.9984  130862.199072                 214294.876425  152319.20576   \n",
            "6191   58654.7264   66898.093812                    91907.6928   77867.13496   \n",
            "6192   38116.5824   43473.507792                   44463.77208   50601.70336   \n",
            "\n",
            "      ... Consumer Health Network         Devon        Equian  First Health  \\\n",
            "0     ...                393.5104      393.5104      393.5104      393.5104   \n",
            "1     ...                162.6752      162.6752      162.6752      162.6752   \n",
            "2     ...                634.7968      634.7968      634.7968      634.7968   \n",
            "3     ...                 218.112       218.112       218.112       218.112   \n",
            "4     ...                 218.112       218.112       218.112       218.112   \n",
            "...   ...                     ...           ...           ...           ...   \n",
            "6188  ...            83652.826627  83652.826627  83652.826627  83652.826627   \n",
            "6189  ...             38799.37198   38799.37198   38799.37198   38799.37198   \n",
            "6190  ...            187061.03038  187061.03038  187061.03038  187061.03038   \n",
            "6191  ...            57491.992646  57491.992646  57491.992646  57491.992646   \n",
            "6192  ...            35025.896987  35025.896987  35025.896987  35025.896987   \n",
            "\n",
            "         Magnacare Multiplan/Beechstreet/PHCS           QHM     Worldwide  \\\n",
            "0         393.5104                   393.5104      393.5104      393.5104   \n",
            "1         162.6752                   162.6752      162.6752      162.6752   \n",
            "2         634.7968                   634.7968      634.7968      634.7968   \n",
            "3          218.112                    218.112       218.112       218.112   \n",
            "4          218.112                    218.112       218.112       218.112   \n",
            "...            ...                        ...           ...           ...   \n",
            "6188  83652.826627               83652.826627  83652.826627  83652.826627   \n",
            "6189   38799.37198                38799.37198   38799.37198   38799.37198   \n",
            "6190  187061.03038               187061.03038  187061.03038  187061.03038   \n",
            "6191  57491.992646               57491.992646  57491.992646  57491.992646   \n",
            "6192  35025.896987               35025.896987  35025.896987  35025.896987   \n",
            "\n",
            "     Minimum Negotiated Charge Maximum Negotiated Charge  \n",
            "0                   253.048250               1388.424000  \n",
            "1                    51.903250               1990.891341  \n",
            "2                   253.048250               1475.508000  \n",
            "3                    82.650750               1325.120000  \n",
            "4                   156.982800               1325.120000  \n",
            "...                        ...                       ...  \n",
            "6188              12561.144027             115129.891480  \n",
            "6189               7833.746854              76664.518280  \n",
            "6190              21016.798830             214294.876425  \n",
            "6191              10429.428059              91907.692800  \n",
            "6192               5995.071552              50601.703360  \n",
            "\n",
            "[6193 rows x 47 columns]\n"
          ]
        }
      ]
    },
    {
      "cell_type": "code",
      "source": [
        "# Check for missing values in a column\n",
        "print(df2.isnull().sum())\n",
        "# Results in only Minimum Negotiated Charge and Maximum Negotiated Charge resulting in 281 missing values each"
      ],
      "metadata": {
        "colab": {
          "base_uri": "https://localhost:8080/"
        },
        "id": "UGB167KHIdKx",
        "outputId": "04b4ee6d-2fbd-4cf9-af5b-cf4c005fc1d0"
      },
      "execution_count": 13,
      "outputs": [
        {
          "output_type": "stream",
          "name": "stdout",
          "text": [
            "Code (CPT/DRG)                          0\n",
            "Description                             0\n",
            "Rev Code                                0\n",
            "Inpatient/Outpatient                    0\n",
            "Gross Charges                           0\n",
            "Discounted Cash Price                   0\n",
            "Aetna                                   0\n",
            "Cigna                                   0\n",
            "Empire Blue Cross Blue Shield           0\n",
            "Emblem Health                           0\n",
            "United Health Group                     0\n",
            "Aetna Medicare                          0\n",
            "AgeWell Medicare                        0\n",
            "Emblem Medicare                         0\n",
            "Empire Medicare                         0\n",
            "Fidelis Medicare                        0\n",
            "Healthfirst Medicare                    0\n",
            "UHC Community Plan/United Medicare      0\n",
            "VNS Medicare                            0\n",
            "WellCare Medicare                       0\n",
            "1199                                    0\n",
            "Affinity Molina Essential               0\n",
            "Affinity Molina Medicaid/CHP            0\n",
            "Amida Care Medicaid                     0\n",
            "Emblem Medicaid/CHP                     0\n",
            "Empire Healthplus Essential             0\n",
            "Empire Healthplus Exchange              0\n",
            "Empire Healthplus Medicaid/CHP          0\n",
            "Fidelis Essential/Exchange              0\n",
            "Fidelis Medicaid/CHP                    0\n",
            "Healthfirst Essential/Exchange          0\n",
            "Healthfirst Medicaid/CHP                0\n",
            "MVP Medicaid/CHP                        0\n",
            "MVP Essential                           0\n",
            "United Community Plan Essential         0\n",
            "United Community Plan Medicaid          0\n",
            "VNS Medicaid                            0\n",
            "Consumer Health Network                 0\n",
            "Devon                                   0\n",
            "Equian                                  0\n",
            "First Health                            0\n",
            "Magnacare                               0\n",
            "Multiplan/Beechstreet/PHCS              0\n",
            "QHM                                     0\n",
            "Worldwide                               0\n",
            "Minimum Negotiated Charge             281\n",
            "Maximum Negotiated Charge             281\n",
            "dtype: int64\n"
          ]
        }
      ]
    },
    {
      "cell_type": "code",
      "source": [
        "df2.drop_duplicates(inplace=True)\n",
        "# No duplicate rows identified"
      ],
      "metadata": {
        "id": "PZPNicmGIdKx"
      },
      "execution_count": 14,
      "outputs": []
    },
    {
      "cell_type": "code",
      "source": [
        "#Rename columns\n",
        "df2_clean=df2.rename(columns={'Code (CPT/DRG)':'CPTDRGCode', 'Inpatient/Outpatient':'Inpt_Oupt','Affinity Molina Medicaid/CHP':'Affinity_Molina_Medicaid_CHP','UHC Community Plan/United Medicare':\"UHC_CommPlan_Medicare\",'Emblem Medicaid/CHP':'Emblem_Medicaid_CHP','Empire Medicaid/CHP':'Empire_medicaid_CHP','Empire Healthplus Medicaid/CHP':'Empire_Healthplus_MedicaidCHP','Fidelis Essential/Exchange':'Fidelis_Essential_Exchange','Fidelis Medicaid/CHP':'Fidelis_Medicaid_CHP','Healthfirst Essential/Exchange':'Healthfirst_Essential_Exchange','Healthfirst Medicaid/CHP':'Healthfirst_Medicaid_CHP','MVP Medicaid/CHP':'MVP_Medicaid_CHP','Multiplan/Beechstreet/PHCS':'Multiplan_Beechstreet_PHCS'})"
      ],
      "metadata": {
        "id": "UuHSdfpRODxB"
      },
      "execution_count": 15,
      "outputs": []
    },
    {
      "cell_type": "markdown",
      "source": [
        "#### Identify and convert strings to floats for Insurance Company pricing\n",
        "\n"
      ],
      "metadata": {
        "id": "Fugoj3xGNzJa"
      }
    },
    {
      "cell_type": "code",
      "source": [
        "#Identify strings that need to be converted to floats, and run this command to confirm conversion\n",
        "df2_clean.dtypes"
      ],
      "metadata": {
        "colab": {
          "base_uri": "https://localhost:8080/"
        },
        "outputId": "8caa2238-cee5-4ef8-b88a-d7fabb1d5c86",
        "id": "aGJMsMTmI7Qz"
      },
      "execution_count": 115,
      "outputs": [
        {
          "output_type": "execute_result",
          "data": {
            "text/plain": [
              "CPTDRGCode                          object\n",
              "Description                         object\n",
              "Rev Code                            object\n",
              "Inpt_Oupt                           object\n",
              "Gross Charges                      float64\n",
              "Discounted Cash Price              float64\n",
              "Aetna                              float64\n",
              "Cigna                              float64\n",
              "Empire Blue Cross Blue Shield      float64\n",
              "Emblem Health                      float64\n",
              "United Health Group                float64\n",
              "Aetna Medicare                     float64\n",
              "AgeWell Medicare                   float64\n",
              "Emblem Medicare                    float64\n",
              "Empire Medicare                    float64\n",
              "Fidelis Medicare                   float64\n",
              "Healthfirst Medicare               float64\n",
              "UHC_CommPlan_Medicare              float64\n",
              "VNS Medicare                       float64\n",
              "WellCare Medicare                  float64\n",
              "1199                               float64\n",
              "Affinity Molina Essential          float64\n",
              "Affinity_Molina_Medicaid_CHP       float64\n",
              "Amida Care Medicaid                float64\n",
              "Emblem_Medicaid_CHP                float64\n",
              "Empire Healthplus Essential        float64\n",
              "Empire Healthplus Exchange         float64\n",
              "Empire_Healthplus_MedicaidCHP      float64\n",
              "Fidelis_Essential_Exchange         float64\n",
              "Fidelis_Medicaid_CHP               float64\n",
              "Healthfirst_Essential_Exchange     float64\n",
              "Healthfirst_Medicaid_CHP           float64\n",
              "MVP_Medicaid_CHP                   float64\n",
              "MVP Essential                      float64\n",
              "United Community Plan Essential    float64\n",
              "United Community Plan Medicaid     float64\n",
              "VNS Medicaid                       float64\n",
              "Consumer Health Network            float64\n",
              "Devon                              float64\n",
              "Equian                             float64\n",
              "First Health                       float64\n",
              "Magnacare                          float64\n",
              "Multiplan_Beechstreet_PHCS         float64\n",
              "QHM                                float64\n",
              "Worldwide                          float64\n",
              "Minimum Negotiated Charge          float64\n",
              "Maximum Negotiated Charge          float64\n",
              "dtype: object"
            ]
          },
          "metadata": {},
          "execution_count": 115
        }
      ]
    },
    {
      "cell_type": "code",
      "source": [
        "for x in df2_clean.index:\n",
        "  if df2_clean.loc[x, \"Aetna\"] == 'Not separately payable' or df2_clean.loc[x, \"Aetna\"] == 'Included in Service Package' or df2_clean.loc[x, \"Aetna\"] == 'Patient responsibility':\n",
        "    df2_clean.drop(x, inplace = True)"
      ],
      "metadata": {
        "id": "gHNfX199Fyiy"
      },
      "execution_count": 20,
      "outputs": []
    },
    {
      "cell_type": "code",
      "source": [
        "df2_clean['Aetna'] = df2_clean['Aetna'].apply(float)"
      ],
      "metadata": {
        "id": "1ju6bqViE2lC"
      },
      "execution_count": 21,
      "outputs": []
    },
    {
      "cell_type": "code",
      "source": [
        "for x in df2_clean.index:\n",
        "  if df2_clean.loc[x, \"Cigna\"] == 'Not separately payable' or df2_clean.loc[x, \"Cigna\"] == 'Included in Service Package' or df2_clean.loc[x, \"Cigna\"] == 'Patient responsibility':\n",
        "    df2_clean.drop(x, inplace = True)"
      ],
      "metadata": {
        "id": "DYbyJUyOHxRT"
      },
      "execution_count": 25,
      "outputs": []
    },
    {
      "cell_type": "code",
      "source": [
        "df2_clean['Cigna'] = df2_clean['Cigna'].apply(float)"
      ],
      "metadata": {
        "id": "4srTyTa8HQN4"
      },
      "execution_count": 26,
      "outputs": []
    },
    {
      "cell_type": "code",
      "source": [
        "for x in df2_clean.index:\n",
        "  if df2_clean.loc[x, \"Empire Blue Cross Blue Shield\"] == 'Not separately payable' or df2_clean.loc[x, \"Empire Blue Cross Blue Shield\"] == 'Included in Service Package' or df2_clean.loc[x, \"Empire Blue Cross Blue Shield\"] == 'Patient responsibility':\n",
        "    df2_clean.drop(x, inplace = True)"
      ],
      "metadata": {
        "id": "SZKVhJQjH63s"
      },
      "execution_count": 34,
      "outputs": []
    },
    {
      "cell_type": "code",
      "source": [
        "df2_clean['Empire Blue Cross Blue Shield'] = df2_clean['Empire Blue Cross Blue Shield'].apply(float)"
      ],
      "metadata": {
        "id": "IxUi5RYpHbPt"
      },
      "execution_count": 35,
      "outputs": []
    },
    {
      "cell_type": "code",
      "source": [
        "for x in df2_clean.index:\n",
        "  if df2_clean.loc[x, \"Emblem Health\"] == 'Not separately payable' or df2_clean.loc[x, \"Emblem Health\"] == 'Included in Service Package' or df2_clean.loc[x, \"Emblem Health\"] == 'Patient responsibility':\n",
        "    df2_clean.drop(x, inplace = True)"
      ],
      "metadata": {
        "id": "1alM0YyfItzC"
      },
      "execution_count": 37,
      "outputs": []
    },
    {
      "cell_type": "code",
      "source": [
        "df2_clean['Emblem Health'] = df2_clean['Emblem Health'].apply(float)"
      ],
      "metadata": {
        "id": "GKQnhdd7HbK8"
      },
      "execution_count": 38,
      "outputs": []
    },
    {
      "cell_type": "code",
      "source": [
        "for x in df2_clean.index:\n",
        "  if df2_clean.loc[x, \"United Health Group\"] == 'Not separately payable' or df2_clean.loc[x, \"United Health Group\"] == 'Included in Service Package' or df2_clean.loc[x, \"United Health Group\"] == 'Patient responsibility':\n",
        "    df2_clean.drop(x, inplace = True)"
      ],
      "metadata": {
        "id": "1RRKgDHZIzO1"
      },
      "execution_count": 39,
      "outputs": []
    },
    {
      "cell_type": "code",
      "source": [
        "df2_clean['United Health Group'] = df2_clean['United Health Group'].apply(float)"
      ],
      "metadata": {
        "id": "2EOKczNdHbGQ"
      },
      "execution_count": 40,
      "outputs": []
    },
    {
      "cell_type": "code",
      "source": [
        "for x in df2_clean.index:\n",
        "  if df2_clean.loc[x, \"Aetna Medicare\"] == 'Not separately payable' or df2_clean.loc[x, \"Aetna Medicare\"] == 'Included in Service Package' or df2_clean.loc[x, \"Aetna Medicare\"] == 'Patient responsibility':\n",
        "    df2_clean.drop(x, inplace = True)"
      ],
      "metadata": {
        "id": "L8zciUbfIz5a"
      },
      "execution_count": 41,
      "outputs": []
    },
    {
      "cell_type": "code",
      "source": [
        "df2_clean['Aetna Medicare'] = df2_clean['Aetna Medicare'].apply(float)"
      ],
      "metadata": {
        "id": "5AnEApKrHbBk"
      },
      "execution_count": 42,
      "outputs": []
    },
    {
      "cell_type": "code",
      "source": [
        "for x in df2_clean.index:\n",
        "  if df2_clean.loc[x, \"AgeWell Medicare\"] == 'Not separately payable' or df2_clean.loc[x, \"AgeWell Medicare\"] == 'Included in Service Package' or df2_clean.loc[x, \"AgeWell Medicare\"] == 'Patient responsibility':\n",
        "    df2_clean.drop(x, inplace = True)"
      ],
      "metadata": {
        "id": "rEo5m8epI0ca"
      },
      "execution_count": 43,
      "outputs": []
    },
    {
      "cell_type": "code",
      "source": [
        "df2_clean['AgeWell Medicare'] = df2_clean['AgeWell Medicare'].apply(float)"
      ],
      "metadata": {
        "id": "n2KEPFhSHa8o"
      },
      "execution_count": 44,
      "outputs": []
    },
    {
      "cell_type": "code",
      "source": [
        "for x in df2_clean.index:\n",
        "  if df2_clean.loc[x, \"Emblem Medicare\"] == 'Not separately payable' or df2_clean.loc[x, \"Emblem Medicare\"] == 'Included in Service Package' or df2_clean.loc[x, \"Emblem Medicare\"] == 'Patient responsibility':\n",
        "    df2_clean.drop(x, inplace = True)"
      ],
      "metadata": {
        "id": "ipLwzPDiJCam"
      },
      "execution_count": 45,
      "outputs": []
    },
    {
      "cell_type": "code",
      "source": [
        "df2_clean['Emblem Medicare'] = df2_clean['Emblem Medicare'].apply(float)"
      ],
      "metadata": {
        "id": "W4-heRs4Ha3r"
      },
      "execution_count": 46,
      "outputs": []
    },
    {
      "cell_type": "code",
      "source": [
        "for x in df2_clean.index:\n",
        "  if df2_clean.loc[x, \"Empire Medicare\"] == 'Not separately payable' or df2_clean.loc[x, \"Empire Medicare\"] == 'Included in Service Package' or df2_clean.loc[x, \"Empire Medicare\"] == 'Patient responsibility':\n",
        "    df2_clean.drop(x, inplace = True)"
      ],
      "metadata": {
        "id": "c1v-ihAUJBx2"
      },
      "execution_count": 47,
      "outputs": []
    },
    {
      "cell_type": "code",
      "source": [
        "df2_clean['Empire Medicare'] = df2_clean['Empire Medicare'].apply(float)"
      ],
      "metadata": {
        "id": "4ssPdi7uHayw"
      },
      "execution_count": 48,
      "outputs": []
    },
    {
      "cell_type": "code",
      "source": [
        "for x in df2_clean.index:\n",
        "  if df2_clean.loc[x, \"Fidelis Medicare\"] == 'Not separately payable' or df2_clean.loc[x, \"Fidelis Medicare\"] == 'Included in Service Package' or df2_clean.loc[x, \"Fidelis Medicare\"] == 'Patient responsibility':\n",
        "    df2_clean.drop(x, inplace = True)"
      ],
      "metadata": {
        "id": "BbFNHO1fJBai"
      },
      "execution_count": 49,
      "outputs": []
    },
    {
      "cell_type": "code",
      "source": [
        "df2_clean['Fidelis Medicare'] = df2_clean['Fidelis Medicare'].apply(float)"
      ],
      "metadata": {
        "id": "iD8sSI9uHat0"
      },
      "execution_count": 50,
      "outputs": []
    },
    {
      "cell_type": "code",
      "source": [
        "for x in df2_clean.index:\n",
        "  if df2_clean.loc[x, \"Healthfirst Medicare\"] == 'Not separately payable' or df2_clean.loc[x, \"Healthfirst Medicare\"] == 'Included in Service Package' or df2_clean.loc[x, \"Healthfirst Medicare\"] == 'Patient responsibility':\n",
        "    df2_clean.drop(x, inplace = True)"
      ],
      "metadata": {
        "id": "fKcRw-V-I7ie"
      },
      "execution_count": 51,
      "outputs": []
    },
    {
      "cell_type": "code",
      "source": [
        "df2_clean['Healthfirst Medicare'] = df2_clean['Healthfirst Medicare'].apply(float)"
      ],
      "metadata": {
        "id": "OmhLY9d4Hapk"
      },
      "execution_count": 52,
      "outputs": []
    },
    {
      "cell_type": "code",
      "source": [
        "for x in df2_clean.index:\n",
        "  if df2_clean.loc[x, \"UHC_CommPlan_Medicare\"] == 'Not separately payable' or df2_clean.loc[x, \"UHC_CommPlan_Medicare\"] == 'Included in Service Package' or df2_clean.loc[x, \"UHC_CommPlan_Medicare\"] == 'Patient responsibility':\n",
        "    df2_clean.drop(x, inplace = True)"
      ],
      "metadata": {
        "id": "2qylgYzKI75Z"
      },
      "execution_count": 53,
      "outputs": []
    },
    {
      "cell_type": "code",
      "source": [
        "df2_clean['UHC_CommPlan_Medicare'] = df2_clean['UHC_CommPlan_Medicare'].apply(float)"
      ],
      "metadata": {
        "id": "ExsiE4CIHalL"
      },
      "execution_count": 54,
      "outputs": []
    },
    {
      "cell_type": "code",
      "source": [
        "for x in df2_clean.index:\n",
        "  if df2_clean.loc[x, \"VNS Medicare\"] == 'Not separately payable' or df2_clean.loc[x, \"VNS Medicare\"] == 'Included in Service Package' or df2_clean.loc[x, \"VNS Medicare\"] == 'Patient responsibility':\n",
        "    df2_clean.drop(x, inplace = True)"
      ],
      "metadata": {
        "id": "dtqQRvsqJACA"
      },
      "execution_count": 55,
      "outputs": []
    },
    {
      "cell_type": "code",
      "source": [
        "df2_clean['VNS Medicare'] = df2_clean['VNS Medicare'].apply(float)"
      ],
      "metadata": {
        "id": "GLWGdFZwHagW"
      },
      "execution_count": 56,
      "outputs": []
    },
    {
      "cell_type": "code",
      "source": [
        "for x in df2_clean.index:\n",
        "  if df2_clean.loc[x, \"WellCare Medicare\"] == 'Not separately payable' or df2_clean.loc[x, \"WellCare Medicare\"] == 'Included in Service Package' or df2_clean.loc[x, \"WellCare Medicare\"] == 'Patient responsibility':\n",
        "    df2_clean.drop(x, inplace = True)"
      ],
      "metadata": {
        "id": "1JaoWRMCI_vf"
      },
      "execution_count": 57,
      "outputs": []
    },
    {
      "cell_type": "code",
      "source": [
        "df2_clean['WellCare Medicare'] = df2_clean['WellCare Medicare'].apply(float)"
      ],
      "metadata": {
        "id": "rRNIYyFlHab0"
      },
      "execution_count": 114,
      "outputs": []
    },
    {
      "cell_type": "code",
      "source": [
        "for x in df2_clean.index:\n",
        "  if df2_clean.loc[x, \"1199\"] == 'Not separately payable' or df2_clean.loc[x, \"1199\"] == 'Included in Service Package' or df2_clean.loc[x, \"1199\"] == 'Patient responsibility':\n",
        "    df2_clean.drop(x, inplace = True)"
      ],
      "metadata": {
        "id": "0KL9xwauI_gX"
      },
      "execution_count": 58,
      "outputs": []
    },
    {
      "cell_type": "code",
      "source": [
        "df2_clean['1199'] = df2_clean['1199'].apply(float)"
      ],
      "metadata": {
        "id": "L9ge8PT1HaXn"
      },
      "execution_count": 59,
      "outputs": []
    },
    {
      "cell_type": "code",
      "source": [
        "for x in df2_clean.index:\n",
        "  if df2_clean.loc[x, \"Affinity Molina Essential\"] == 'Not separately payable' or df2_clean.loc[x, \"Affinity Molina Essential\"] == 'Included in Service Package' or df2_clean.loc[x, \"Affinity Molina Essential\"] == 'Patient responsibility' or df2_clean.loc[x,\"Affinity Molina Essential\"] == 'See Tab A':\n",
        "    df2_clean.drop(x, inplace = True)"
      ],
      "metadata": {
        "id": "J186CZltI-6h"
      },
      "execution_count": 63,
      "outputs": []
    },
    {
      "cell_type": "code",
      "source": [
        "df2_clean['Affinity Molina Essential'] = df2_clean['Affinity Molina Essential'].apply(float)"
      ],
      "metadata": {
        "id": "bGqA8k39HaTN"
      },
      "execution_count": 64,
      "outputs": []
    },
    {
      "cell_type": "code",
      "source": [
        "for x in df2_clean.index:\n",
        "  if df2_clean.loc[x, \"Affinity_Molina_Medicaid_CHP\"] == 'Not separately payable' or df2_clean.loc[x, \"Affinity_Molina_Medicaid_CHP\"] == 'Included in Service Package' or df2_clean.loc[x, \"Affinity_Molina_Medicaid_CHP\"] == 'Patient responsibility':\n",
        "    df2_clean.drop(x, inplace = True)"
      ],
      "metadata": {
        "id": "CTzN-5paI-pT"
      },
      "execution_count": 66,
      "outputs": []
    },
    {
      "cell_type": "code",
      "source": [
        "df2_clean['Affinity_Molina_Medicaid_CHP'] = df2_clean['Affinity_Molina_Medicaid_CHP'].apply(float)"
      ],
      "metadata": {
        "id": "YgLQ_EHGHaOg"
      },
      "execution_count": 67,
      "outputs": []
    },
    {
      "cell_type": "code",
      "source": [
        "for x in df2_clean.index:\n",
        "  if df2_clean.loc[x, \"Amida Care Medicaid\"] == 'Not separately payable' or df2_clean.loc[x, \"Amida Care Medicaid\"] == 'Included in Service Package' or df2_clean.loc[x, \"Amida Care Medicaid\"] == 'Patient responsibility':\n",
        "    df2_clean.drop(x, inplace = True)"
      ],
      "metadata": {
        "id": "VMYXV-VrI-a5"
      },
      "execution_count": 68,
      "outputs": []
    },
    {
      "cell_type": "code",
      "source": [
        "df2_clean['Amida Care Medicaid'] = df2_clean['Amida Care Medicaid'].apply(float)"
      ],
      "metadata": {
        "id": "l_EtvLttHaKG"
      },
      "execution_count": 69,
      "outputs": []
    },
    {
      "cell_type": "code",
      "source": [
        "for x in df2_clean.index:\n",
        "  if df2_clean.loc[x, \"Emblem_Medicaid_CHP\"] == 'Not separately payable' or df2_clean.loc[x, \"Emblem_Medicaid_CHP\"] == 'Included in Service Package' or df2_clean.loc[x, \"Emblem_Medicaid_CHP\"] == 'Patient responsibility':\n",
        "    df2_clean.drop(x, inplace = True)"
      ],
      "metadata": {
        "id": "wcrhyoLqI-Ef"
      },
      "execution_count": 70,
      "outputs": []
    },
    {
      "cell_type": "code",
      "source": [
        "df2_clean['Emblem_Medicaid_CHP'] = df2_clean['Emblem_Medicaid_CHP'].apply(float)"
      ],
      "metadata": {
        "id": "pMO9jUOJHaFj"
      },
      "execution_count": 71,
      "outputs": []
    },
    {
      "cell_type": "code",
      "source": [
        "for x in df2_clean.index:\n",
        "  if df2_clean.loc[x, \"Empire Healthplus Essential\"] == 'Not separately payable' or df2_clean.loc[x, \"Empire Healthplus Essential\"] == 'Included in Service Package' or df2_clean.loc[x, \"Empire Healthplus Essential\"] == 'Patient responsibility':\n",
        "    df2_clean.drop(x, inplace = True)"
      ],
      "metadata": {
        "id": "9C1ex94hI9xf"
      },
      "execution_count": 72,
      "outputs": []
    },
    {
      "cell_type": "code",
      "source": [
        "df2_clean['Empire Healthplus Essential'] = df2_clean['Empire Healthplus Essential'].apply(float)"
      ],
      "metadata": {
        "id": "vXlRVoC_HaA0"
      },
      "execution_count": 73,
      "outputs": []
    },
    {
      "cell_type": "code",
      "source": [
        "for x in df2_clean.index:\n",
        "  if df2_clean.loc[x, \"Empire Healthplus Exchange\"] == 'Not separately payable' or df2_clean.loc[x, \"Empire Healthplus Exchange\"] == 'Included in Service Package' or df2_clean.loc[x, \"Empire Healthplus Exchange\"] == 'Patient responsibility':\n",
        "    df2_clean.drop(x, inplace = True)"
      ],
      "metadata": {
        "id": "VBYTrdIhI9jc"
      },
      "execution_count": 74,
      "outputs": []
    },
    {
      "cell_type": "code",
      "source": [
        "df2_clean['Empire Healthplus Exchange'] = df2_clean['Empire Healthplus Exchange'].apply(float)"
      ],
      "metadata": {
        "id": "PsX-FIZ4HZ8f"
      },
      "execution_count": 75,
      "outputs": []
    },
    {
      "cell_type": "code",
      "source": [
        "for x in df2_clean.index:\n",
        "  if df2_clean.loc[x, \"Empire_Healthplus_MedicaidCHP\"] == 'Not separately payable' or df2_clean.loc[x, \"Empire_Healthplus_MedicaidCHP\"] == 'Included in Service Package' or df2_clean.loc[x, \"Empire_Healthplus_MedicaidCHP\"] == 'Patient responsibility':\n",
        "    df2_clean.drop(x, inplace = True)"
      ],
      "metadata": {
        "id": "i1F4cAYkI9U7"
      },
      "execution_count": 76,
      "outputs": []
    },
    {
      "cell_type": "code",
      "source": [
        "df2_clean['Empire_Healthplus_MedicaidCHP'] = df2_clean['Empire_Healthplus_MedicaidCHP'].apply(float)"
      ],
      "metadata": {
        "id": "_kyIognqHZ4J"
      },
      "execution_count": 77,
      "outputs": []
    },
    {
      "cell_type": "code",
      "source": [
        "for x in df2_clean.index:\n",
        "  if df2_clean.loc[x, \"Fidelis_Essential_Exchange\"] == 'Not separately payable' or df2_clean.loc[x, \"Fidelis_Essential_Exchange\"] == 'Included in Service Package' or df2_clean.loc[x, \"Fidelis_Essential_Exchange\"] == 'Patient responsibility':\n",
        "    df2_clean.drop(x, inplace = True)"
      ],
      "metadata": {
        "id": "vBPG29uHI84G"
      },
      "execution_count": 78,
      "outputs": []
    },
    {
      "cell_type": "code",
      "source": [
        "df2_clean['Fidelis_Essential_Exchange'] = df2_clean['Fidelis_Essential_Exchange'].apply(float)"
      ],
      "metadata": {
        "id": "RekQoDkZHZz9"
      },
      "execution_count": 79,
      "outputs": []
    },
    {
      "cell_type": "code",
      "source": [
        "for x in df2_clean.index:\n",
        "  if df2_clean.loc[x, \"Fidelis_Medicaid_CHP\"] == 'Not separately payable' or df2_clean.loc[x, \"Fidelis_Medicaid_CHP\"] == 'Included in Service Package' or df2_clean.loc[x, \"Fidelis_Medicaid_CHP\"] == 'Patient responsibility':\n",
        "    df2_clean.drop(x, inplace = True)"
      ],
      "metadata": {
        "id": "HGXwXr4kI61L"
      },
      "execution_count": 80,
      "outputs": []
    },
    {
      "cell_type": "code",
      "source": [
        "df2_clean['Fidelis_Medicaid_CHP'] = df2_clean['Fidelis_Medicaid_CHP'].apply(float)"
      ],
      "metadata": {
        "id": "qokBjGIuHZvz"
      },
      "execution_count": 81,
      "outputs": []
    },
    {
      "cell_type": "code",
      "source": [
        "for x in df2_clean.index:\n",
        "  if df2_clean.loc[x, \"Healthfirst_Essential_Exchange\"] == 'Not separately payable' or df2_clean.loc[x, \"Healthfirst_Essential_Exchange\"] == 'Included in Service Package' or df2_clean.loc[x, \"Healthfirst_Essential_Exchange\"] == 'Patient responsibility':\n",
        "    df2_clean.drop(x, inplace = True)"
      ],
      "metadata": {
        "id": "V6OcTXoqI6U6"
      },
      "execution_count": 82,
      "outputs": []
    },
    {
      "cell_type": "code",
      "source": [
        "df2_clean['Healthfirst_Essential_Exchange'] = df2_clean['Healthfirst_Essential_Exchange'].apply(float)"
      ],
      "metadata": {
        "id": "8X19dQftHZro"
      },
      "execution_count": 83,
      "outputs": []
    },
    {
      "cell_type": "code",
      "source": [
        "for x in df2_clean.index:\n",
        "  if df2_clean.loc[x, \"Healthfirst_Medicaid_CHP\"] == 'Not separately payable' or df2_clean.loc[x, \"Healthfirst_Medicaid_CHP\"] == 'Included in Service Package' or df2_clean.loc[x, \"Healthfirst_Medicaid_CHP\"] == 'Patient responsibility':\n",
        "    df2_clean.drop(x, inplace = True)"
      ],
      "metadata": {
        "id": "6G8OB4ICI6Cr"
      },
      "execution_count": 84,
      "outputs": []
    },
    {
      "cell_type": "code",
      "source": [
        "df2_clean['Healthfirst_Medicaid_CHP'] = df2_clean['Healthfirst_Medicaid_CHP'].apply(float)"
      ],
      "metadata": {
        "id": "0Pj52YGEHZne"
      },
      "execution_count": 85,
      "outputs": []
    },
    {
      "cell_type": "code",
      "source": [
        "for x in df2_clean.index:\n",
        "  if df2_clean.loc[x, \"MVP_Medicaid_CHP\"] == 'Not separately payable' or df2_clean.loc[x, \"MVP_Medicaid_CHP\"] == 'Included in Service Package' or df2_clean.loc[x, \"MVP_Medicaid_CHP\"] == 'Patient responsibility':\n",
        "    df2_clean.drop(x, inplace = True)"
      ],
      "metadata": {
        "id": "tVlNPck6I5v7"
      },
      "execution_count": 86,
      "outputs": []
    },
    {
      "cell_type": "code",
      "source": [
        "df2_clean['MVP_Medicaid_CHP'] = df2_clean['MVP_Medicaid_CHP'].apply(float)"
      ],
      "metadata": {
        "id": "34losPg9HZjD"
      },
      "execution_count": 87,
      "outputs": []
    },
    {
      "cell_type": "code",
      "source": [
        "for x in df2_clean.index:\n",
        "  if df2_clean.loc[x, \"MVP Essential\"] == 'Not separately payable' or df2_clean.loc[x, \"MVP Essential\"] == 'Included in Service Package' or df2_clean.loc[x, \"MVP Essential\"] == 'Patient responsibility':\n",
        "    df2_clean.drop(x, inplace = True)"
      ],
      "metadata": {
        "id": "jpjbzVXkI5Qc"
      },
      "execution_count": 88,
      "outputs": []
    },
    {
      "cell_type": "code",
      "source": [
        "df2_clean['MVP Essential'] = df2_clean['MVP Essential'].apply(float)"
      ],
      "metadata": {
        "id": "3XcfZjiLHZe-"
      },
      "execution_count": 89,
      "outputs": []
    },
    {
      "cell_type": "code",
      "source": [
        "for x in df2_clean.index:\n",
        "  if df2_clean.loc[x, \"United Community Plan Essential\"] == 'Not separately payable' or df2_clean.loc[x, \"United Community Plan Essential\"] == 'Included in Service Package' or df2_clean.loc[x, \"United Community Plan Essential\"] == 'Patient responsibility':\n",
        "    df2_clean.drop(x, inplace = True)"
      ],
      "metadata": {
        "id": "jNTRX8O2I40Y"
      },
      "execution_count": 90,
      "outputs": []
    },
    {
      "cell_type": "code",
      "source": [
        "df2_clean['United Community Plan Essential'] = df2_clean['United Community Plan Essential'].apply(float)"
      ],
      "metadata": {
        "id": "e8tzPaxKHZat"
      },
      "execution_count": 91,
      "outputs": []
    },
    {
      "cell_type": "code",
      "source": [
        "for x in df2_clean.index:\n",
        "  if df2_clean.loc[x, \"United Community Plan Medicaid\"] == 'Not separately payable' or df2_clean.loc[x, \"United Community Plan Medicaid\"] == 'Included in Service Package' or df2_clean.loc[x, \"United Community Plan Medicaid\"] == 'Patient responsibility':\n",
        "    df2_clean.drop(x, inplace = True)"
      ],
      "metadata": {
        "id": "Tv6WsDZ-I4Yf"
      },
      "execution_count": 92,
      "outputs": []
    },
    {
      "cell_type": "code",
      "source": [
        "df2_clean['United Community Plan Medicaid'] = df2_clean['United Community Plan Medicaid'].apply(float)"
      ],
      "metadata": {
        "id": "lbuVo4dvHZWp"
      },
      "execution_count": 93,
      "outputs": []
    },
    {
      "cell_type": "code",
      "source": [
        "for x in df2_clean.index:\n",
        "  if df2_clean.loc[x, \"VNS Medicaid\"] == 'Not separately payable' or df2_clean.loc[x, \"VNS Medicaid\"] == 'Included in Service Package' or df2_clean.loc[x, \"VNS Medicaid\"] == 'Patient responsibility':\n",
        "    df2_clean.drop(x, inplace = True)"
      ],
      "metadata": {
        "id": "amJQwx-0I4NR"
      },
      "execution_count": 94,
      "outputs": []
    },
    {
      "cell_type": "code",
      "source": [
        "df2_clean['VNS Medicaid'] = df2_clean['VNS Medicaid'].apply(float)"
      ],
      "metadata": {
        "id": "4EEb7n25HZSX"
      },
      "execution_count": 95,
      "outputs": []
    },
    {
      "cell_type": "code",
      "source": [
        "for x in df2_clean.index:\n",
        "  if df2_clean.loc[x, \"Consumer Health Network\"] == 'Not separately payable' or df2_clean.loc[x, \"Consumer Health Network\"] == 'Included in Service Package' or df2_clean.loc[x, \"Consumer Health Network\"] == 'Patient responsibility':\n",
        "    df2_clean.drop(x, inplace = True)"
      ],
      "metadata": {
        "id": "2vDwtqNrI3yw"
      },
      "execution_count": 96,
      "outputs": []
    },
    {
      "cell_type": "code",
      "source": [
        "df2_clean['Consumer Health Network'] = df2_clean['Consumer Health Network'].apply(float)"
      ],
      "metadata": {
        "id": "NecYBEPJHZOM"
      },
      "execution_count": 97,
      "outputs": []
    },
    {
      "cell_type": "code",
      "source": [
        "for x in df2_clean.index:\n",
        "  if df2_clean.loc[x, \"Devon\"] == 'Not separately payable' or df2_clean.loc[x, \"Devon\"] == 'Included in Service Package' or df2_clean.loc[x, \"Devon\"] == 'Patient responsibility':\n",
        "    df2_clean.drop(x, inplace = True)"
      ],
      "metadata": {
        "id": "6XjTb4Q5I3di"
      },
      "execution_count": 98,
      "outputs": []
    },
    {
      "cell_type": "code",
      "source": [
        "df2_clean['Devon'] = df2_clean['Devon'].apply(float)"
      ],
      "metadata": {
        "id": "0_Pj3dtVHZKC"
      },
      "execution_count": 99,
      "outputs": []
    },
    {
      "cell_type": "code",
      "source": [
        "for x in df2_clean.index:\n",
        "  if df2_clean.loc[x, \"Equian\"] == 'Not separately payable' or df2_clean.loc[x, \"Equian\"] == 'Included in Service Package' or df2_clean.loc[x, \"Equian\"] == 'Patient responsibility':\n",
        "    df2_clean.drop(x, inplace = True)"
      ],
      "metadata": {
        "id": "w76uFc8aI3NP"
      },
      "execution_count": 100,
      "outputs": []
    },
    {
      "cell_type": "code",
      "source": [
        "df2_clean['Equian'] = df2_clean['Equian'].apply(float)"
      ],
      "metadata": {
        "id": "c1OPCv3LHZF3"
      },
      "execution_count": 101,
      "outputs": []
    },
    {
      "cell_type": "code",
      "source": [
        "for x in df2_clean.index:\n",
        "  if df2_clean.loc[x, \"First Health\"] == 'Not separately payable' or df2_clean.loc[x, \"First Health\"] == 'Included in Service Package' or df2_clean.loc[x, \"First Health\"] == 'Patient responsibility':\n",
        "    df2_clean.drop(x, inplace = True)"
      ],
      "metadata": {
        "id": "USyp_QTII282"
      },
      "execution_count": 102,
      "outputs": []
    },
    {
      "cell_type": "code",
      "source": [
        "df2_clean['First Health'] = df2_clean['First Health'].apply(float)"
      ],
      "metadata": {
        "id": "KyOhobdKHZBl"
      },
      "execution_count": 103,
      "outputs": []
    },
    {
      "cell_type": "code",
      "source": [
        "for x in df2_clean.index:\n",
        "  if df2_clean.loc[x, \"Magnacare\"] == 'Not separately payable' or df2_clean.loc[x, \"Magnacare\"] == 'Included in Service Package' or df2_clean.loc[x, \"Magnacare\"] == 'Patient responsibility':\n",
        "    df2_clean.drop(x, inplace = True)"
      ],
      "metadata": {
        "id": "6PBTxcztI2sV"
      },
      "execution_count": 104,
      "outputs": []
    },
    {
      "cell_type": "code",
      "source": [
        "df2_clean['Magnacare'] = df2_clean['Magnacare'].apply(float)"
      ],
      "metadata": {
        "id": "r_-pHf2_HY9V"
      },
      "execution_count": 105,
      "outputs": []
    },
    {
      "cell_type": "code",
      "source": [
        "for x in df2_clean.index:\n",
        "  if df2_clean.loc[x, \"Multiplan_Beechstreet_PHCS\"] == 'Not separately payable' or df2_clean.loc[x, \"Multiplan_Beechstreet_PHCS\"] == 'Included in Service Package' or df2_clean.loc[x, \"Multiplan_Beechstreet_PHCS\"] == 'Patient responsibility':\n",
        "    df2_clean.drop(x, inplace = True)"
      ],
      "metadata": {
        "id": "0hypcCdDI2ZW"
      },
      "execution_count": 106,
      "outputs": []
    },
    {
      "cell_type": "code",
      "source": [
        "df2_clean['Multiplan_Beechstreet_PHCS'] = df2_clean['Multiplan_Beechstreet_PHCS'].apply(float)"
      ],
      "metadata": {
        "id": "cWU_-uYUHY44"
      },
      "execution_count": 107,
      "outputs": []
    },
    {
      "cell_type": "code",
      "source": [
        "for x in df2_clean.index:\n",
        "  if df2_clean.loc[x, \"QHM\"] == 'Not separately payable' or df2_clean.loc[x, \"QHM\"] == 'Included in Service Package' or df2_clean.loc[x, \"QHM\"] == 'Patient responsibility':\n",
        "    df2_clean.drop(x, inplace = True)"
      ],
      "metadata": {
        "id": "GtHHGA5xI2IY"
      },
      "execution_count": 108,
      "outputs": []
    },
    {
      "cell_type": "code",
      "source": [
        "df2_clean['QHM'] = df2_clean['QHM'].apply(float)"
      ],
      "metadata": {
        "id": "wdPIUK2hHYz8"
      },
      "execution_count": 109,
      "outputs": []
    },
    {
      "cell_type": "code",
      "source": [
        "for x in df2_clean.index:\n",
        "  if df2_clean.loc[x, \"Worldwide\"] == 'Not separately payable' or df2_clean.loc[x, \"Worldwide\"] == 'Included in Service Package' or df2_clean.loc[x, \"Worldwide\"] == 'Patient responsibility':\n",
        "    df2_clean.drop(x, inplace = True)"
      ],
      "metadata": {
        "id": "s9uNYYk7I1xg"
      },
      "execution_count": 110,
      "outputs": []
    },
    {
      "cell_type": "code",
      "source": [
        "df2_clean['Worldwide'] = df2_clean['Worldwide'].apply(float)"
      ],
      "metadata": {
        "id": "ypG1Bs7yHYuz"
      },
      "execution_count": 111,
      "outputs": []
    },
    {
      "cell_type": "markdown",
      "source": [
        "## Exploratory Analysis Hospital 2\n",
        "\n"
      ],
      "metadata": {
        "id": "cXm4fBbtI7Qo"
      }
    },
    {
      "cell_type": "markdown",
      "source": [
        "#### Observations:\n",
        "\n",
        "Very few missing values\n",
        "\n",
        "The majority of charge code prices for insurance companies were loaded as strings and needed to be converted to float\n",
        "\n",
        "The presence of outliers skewed the data; removed all outliers greater than 3 standard deviations for the graphs\n",
        "\n",
        "Data is heavily skewed to the right\n",
        "\n",
        "Variance between data values is very high (in the thousands)"
      ],
      "metadata": {
        "id": "5KDfzv4_I7Qy"
      }
    },
    {
      "cell_type": "code",
      "source": [
        "df2_clean.describe()"
      ],
      "metadata": {
        "colab": {
          "base_uri": "https://localhost:8080/",
          "height": 402
        },
        "outputId": "35bd565b-545c-411a-fd73-b981692f145a",
        "id": "9BP86BvnI7Qz"
      },
      "execution_count": 112,
      "outputs": [
        {
          "output_type": "execute_result",
          "data": {
            "text/plain": [
              "       Gross Charges  Discounted Cash Price         Aetna         Cigna  \\\n",
              "count   3.953000e+03           3.953000e+03  3.953000e+03  3.953000e+03   \n",
              "mean    4.699778e+04           4.699778e+04  1.926944e+04  1.996704e+04   \n",
              "std     1.159730e+05           1.159730e+05  4.773265e+04  5.331035e+04   \n",
              "min     2.100000e+01           2.100000e+01  1.575000e+00  1.365000e+00   \n",
              "25%     8.930000e+02           8.930000e+02  5.809440e+02  3.745760e+02   \n",
              "50%     2.126000e+04           2.126000e+04  9.144000e+03  7.496000e+03   \n",
              "75%     4.297300e+04           4.297300e+04  9.144000e+03  7.496000e+03   \n",
              "max     2.538980e+06           2.538980e+06  1.249756e+06  1.425398e+06   \n",
              "\n",
              "       Empire Blue Cross Blue Shield  Emblem Health  United Health Group  \\\n",
              "count                   3.953000e+03   3.953000e+03         3.953000e+03   \n",
              "mean                    2.656232e+04   2.507008e+04         2.091419e+04   \n",
              "std                     7.605949e+04   7.123049e+04         5.876413e+04   \n",
              "min                     1.575000e+00   1.575000e+00         3.600000e+00   \n",
              "25%                     5.365206e+02   4.679280e+02         2.817900e+02   \n",
              "50%                     1.192400e+04   9.474400e+03         5.445000e+03   \n",
              "75%                     1.541400e+04   9.474400e+03         9.670000e+03   \n",
              "max                     1.698874e+06   1.713460e+06         1.483291e+06   \n",
              "\n",
              "       Aetna Medicare  AgeWell Medicare  Emblem Medicare  ...  \\\n",
              "count     3953.000000       3953.000000      3953.000000  ...   \n",
              "mean      6233.779425       7790.569565      6246.638656  ...   \n",
              "std      13122.910977      16403.682377     13143.105162  ...   \n",
              "min          2.250000          2.812500         2.250000  ...   \n",
              "25%        142.234750        177.793438       142.234750  ...   \n",
              "50%       2133.447750       2666.809688      2133.447750  ...   \n",
              "75%       7280.358750       9100.448437      7280.358750  ...   \n",
              "max     334941.744704     418677.180880    334941.744704  ...   \n",
              "\n",
              "       Consumer Health Network         Devon        Equian  First Health  \\\n",
              "count             3.953000e+03  3.953000e+03  3.953000e+03  3.953000e+03   \n",
              "mean              2.135579e+04  2.135579e+04  2.135579e+04  2.135579e+04   \n",
              "std               5.269815e+04  5.269815e+04  5.269815e+04  5.269815e+04   \n",
              "min               9.542400e+00  9.542400e+00  9.542400e+00  9.542400e+00   \n",
              "25%               4.057792e+02  4.057792e+02  4.057792e+02  4.057792e+02   \n",
              "50%               9.660544e+03  9.660544e+03  9.660544e+03  9.660544e+03   \n",
              "75%               1.952693e+04  1.952693e+04  1.952693e+04  1.952693e+04   \n",
              "max               1.153712e+06  1.153712e+06  1.153712e+06  1.153712e+06   \n",
              "\n",
              "          Magnacare  Multiplan_Beechstreet_PHCS           QHM     Worldwide  \\\n",
              "count  3.953000e+03                3.953000e+03  3.953000e+03  3.953000e+03   \n",
              "mean   2.135579e+04                2.135579e+04  2.135579e+04  2.135579e+04   \n",
              "std    5.269815e+04                5.269815e+04  5.269815e+04  5.269815e+04   \n",
              "min    9.542400e+00                9.542400e+00  9.542400e+00  9.542400e+00   \n",
              "25%    4.057792e+02                4.057792e+02  4.057792e+02  4.057792e+02   \n",
              "50%    9.660544e+03                9.660544e+03  9.660544e+03  9.660544e+03   \n",
              "75%    1.952693e+04                1.952693e+04  1.952693e+04  1.952693e+04   \n",
              "max    1.153712e+06                1.153712e+06  1.153712e+06  1.153712e+06   \n",
              "\n",
              "       Minimum Negotiated Charge  Maximum Negotiated Charge  \n",
              "count                3953.000000               3.953000e+03  \n",
              "mean                 3083.751046               3.329255e+04  \n",
              "std                  7150.731559               8.535069e+04  \n",
              "min                     1.365000               1.422000e+02  \n",
              "25%                   130.928000               8.803800e+02  \n",
              "50%                  1135.400400               1.305900e+04  \n",
              "75%                  2571.898415               2.728500e+04  \n",
              "max                204861.126000               1.713460e+06  \n",
              "\n",
              "[8 rows x 42 columns]"
            ],
            "text/html": [
              "\n",
              "  <div id=\"df-4b4ab36c-4f53-472f-b943-0cf8ee492ca8\" class=\"colab-df-container\">\n",
              "    <div>\n",
              "<style scoped>\n",
              "    .dataframe tbody tr th:only-of-type {\n",
              "        vertical-align: middle;\n",
              "    }\n",
              "\n",
              "    .dataframe tbody tr th {\n",
              "        vertical-align: top;\n",
              "    }\n",
              "\n",
              "    .dataframe thead th {\n",
              "        text-align: right;\n",
              "    }\n",
              "</style>\n",
              "<table border=\"1\" class=\"dataframe\">\n",
              "  <thead>\n",
              "    <tr style=\"text-align: right;\">\n",
              "      <th></th>\n",
              "      <th>Gross Charges</th>\n",
              "      <th>Discounted Cash Price</th>\n",
              "      <th>Aetna</th>\n",
              "      <th>Cigna</th>\n",
              "      <th>Empire Blue Cross Blue Shield</th>\n",
              "      <th>Emblem Health</th>\n",
              "      <th>United Health Group</th>\n",
              "      <th>Aetna Medicare</th>\n",
              "      <th>AgeWell Medicare</th>\n",
              "      <th>Emblem Medicare</th>\n",
              "      <th>...</th>\n",
              "      <th>Consumer Health Network</th>\n",
              "      <th>Devon</th>\n",
              "      <th>Equian</th>\n",
              "      <th>First Health</th>\n",
              "      <th>Magnacare</th>\n",
              "      <th>Multiplan_Beechstreet_PHCS</th>\n",
              "      <th>QHM</th>\n",
              "      <th>Worldwide</th>\n",
              "      <th>Minimum Negotiated Charge</th>\n",
              "      <th>Maximum Negotiated Charge</th>\n",
              "    </tr>\n",
              "  </thead>\n",
              "  <tbody>\n",
              "    <tr>\n",
              "      <th>count</th>\n",
              "      <td>3.953000e+03</td>\n",
              "      <td>3.953000e+03</td>\n",
              "      <td>3.953000e+03</td>\n",
              "      <td>3.953000e+03</td>\n",
              "      <td>3.953000e+03</td>\n",
              "      <td>3.953000e+03</td>\n",
              "      <td>3.953000e+03</td>\n",
              "      <td>3953.000000</td>\n",
              "      <td>3953.000000</td>\n",
              "      <td>3953.000000</td>\n",
              "      <td>...</td>\n",
              "      <td>3.953000e+03</td>\n",
              "      <td>3.953000e+03</td>\n",
              "      <td>3.953000e+03</td>\n",
              "      <td>3.953000e+03</td>\n",
              "      <td>3.953000e+03</td>\n",
              "      <td>3.953000e+03</td>\n",
              "      <td>3.953000e+03</td>\n",
              "      <td>3.953000e+03</td>\n",
              "      <td>3953.000000</td>\n",
              "      <td>3.953000e+03</td>\n",
              "    </tr>\n",
              "    <tr>\n",
              "      <th>mean</th>\n",
              "      <td>4.699778e+04</td>\n",
              "      <td>4.699778e+04</td>\n",
              "      <td>1.926944e+04</td>\n",
              "      <td>1.996704e+04</td>\n",
              "      <td>2.656232e+04</td>\n",
              "      <td>2.507008e+04</td>\n",
              "      <td>2.091419e+04</td>\n",
              "      <td>6233.779425</td>\n",
              "      <td>7790.569565</td>\n",
              "      <td>6246.638656</td>\n",
              "      <td>...</td>\n",
              "      <td>2.135579e+04</td>\n",
              "      <td>2.135579e+04</td>\n",
              "      <td>2.135579e+04</td>\n",
              "      <td>2.135579e+04</td>\n",
              "      <td>2.135579e+04</td>\n",
              "      <td>2.135579e+04</td>\n",
              "      <td>2.135579e+04</td>\n",
              "      <td>2.135579e+04</td>\n",
              "      <td>3083.751046</td>\n",
              "      <td>3.329255e+04</td>\n",
              "    </tr>\n",
              "    <tr>\n",
              "      <th>std</th>\n",
              "      <td>1.159730e+05</td>\n",
              "      <td>1.159730e+05</td>\n",
              "      <td>4.773265e+04</td>\n",
              "      <td>5.331035e+04</td>\n",
              "      <td>7.605949e+04</td>\n",
              "      <td>7.123049e+04</td>\n",
              "      <td>5.876413e+04</td>\n",
              "      <td>13122.910977</td>\n",
              "      <td>16403.682377</td>\n",
              "      <td>13143.105162</td>\n",
              "      <td>...</td>\n",
              "      <td>5.269815e+04</td>\n",
              "      <td>5.269815e+04</td>\n",
              "      <td>5.269815e+04</td>\n",
              "      <td>5.269815e+04</td>\n",
              "      <td>5.269815e+04</td>\n",
              "      <td>5.269815e+04</td>\n",
              "      <td>5.269815e+04</td>\n",
              "      <td>5.269815e+04</td>\n",
              "      <td>7150.731559</td>\n",
              "      <td>8.535069e+04</td>\n",
              "    </tr>\n",
              "    <tr>\n",
              "      <th>min</th>\n",
              "      <td>2.100000e+01</td>\n",
              "      <td>2.100000e+01</td>\n",
              "      <td>1.575000e+00</td>\n",
              "      <td>1.365000e+00</td>\n",
              "      <td>1.575000e+00</td>\n",
              "      <td>1.575000e+00</td>\n",
              "      <td>3.600000e+00</td>\n",
              "      <td>2.250000</td>\n",
              "      <td>2.812500</td>\n",
              "      <td>2.250000</td>\n",
              "      <td>...</td>\n",
              "      <td>9.542400e+00</td>\n",
              "      <td>9.542400e+00</td>\n",
              "      <td>9.542400e+00</td>\n",
              "      <td>9.542400e+00</td>\n",
              "      <td>9.542400e+00</td>\n",
              "      <td>9.542400e+00</td>\n",
              "      <td>9.542400e+00</td>\n",
              "      <td>9.542400e+00</td>\n",
              "      <td>1.365000</td>\n",
              "      <td>1.422000e+02</td>\n",
              "    </tr>\n",
              "    <tr>\n",
              "      <th>25%</th>\n",
              "      <td>8.930000e+02</td>\n",
              "      <td>8.930000e+02</td>\n",
              "      <td>5.809440e+02</td>\n",
              "      <td>3.745760e+02</td>\n",
              "      <td>5.365206e+02</td>\n",
              "      <td>4.679280e+02</td>\n",
              "      <td>2.817900e+02</td>\n",
              "      <td>142.234750</td>\n",
              "      <td>177.793438</td>\n",
              "      <td>142.234750</td>\n",
              "      <td>...</td>\n",
              "      <td>4.057792e+02</td>\n",
              "      <td>4.057792e+02</td>\n",
              "      <td>4.057792e+02</td>\n",
              "      <td>4.057792e+02</td>\n",
              "      <td>4.057792e+02</td>\n",
              "      <td>4.057792e+02</td>\n",
              "      <td>4.057792e+02</td>\n",
              "      <td>4.057792e+02</td>\n",
              "      <td>130.928000</td>\n",
              "      <td>8.803800e+02</td>\n",
              "    </tr>\n",
              "    <tr>\n",
              "      <th>50%</th>\n",
              "      <td>2.126000e+04</td>\n",
              "      <td>2.126000e+04</td>\n",
              "      <td>9.144000e+03</td>\n",
              "      <td>7.496000e+03</td>\n",
              "      <td>1.192400e+04</td>\n",
              "      <td>9.474400e+03</td>\n",
              "      <td>5.445000e+03</td>\n",
              "      <td>2133.447750</td>\n",
              "      <td>2666.809688</td>\n",
              "      <td>2133.447750</td>\n",
              "      <td>...</td>\n",
              "      <td>9.660544e+03</td>\n",
              "      <td>9.660544e+03</td>\n",
              "      <td>9.660544e+03</td>\n",
              "      <td>9.660544e+03</td>\n",
              "      <td>9.660544e+03</td>\n",
              "      <td>9.660544e+03</td>\n",
              "      <td>9.660544e+03</td>\n",
              "      <td>9.660544e+03</td>\n",
              "      <td>1135.400400</td>\n",
              "      <td>1.305900e+04</td>\n",
              "    </tr>\n",
              "    <tr>\n",
              "      <th>75%</th>\n",
              "      <td>4.297300e+04</td>\n",
              "      <td>4.297300e+04</td>\n",
              "      <td>9.144000e+03</td>\n",
              "      <td>7.496000e+03</td>\n",
              "      <td>1.541400e+04</td>\n",
              "      <td>9.474400e+03</td>\n",
              "      <td>9.670000e+03</td>\n",
              "      <td>7280.358750</td>\n",
              "      <td>9100.448437</td>\n",
              "      <td>7280.358750</td>\n",
              "      <td>...</td>\n",
              "      <td>1.952693e+04</td>\n",
              "      <td>1.952693e+04</td>\n",
              "      <td>1.952693e+04</td>\n",
              "      <td>1.952693e+04</td>\n",
              "      <td>1.952693e+04</td>\n",
              "      <td>1.952693e+04</td>\n",
              "      <td>1.952693e+04</td>\n",
              "      <td>1.952693e+04</td>\n",
              "      <td>2571.898415</td>\n",
              "      <td>2.728500e+04</td>\n",
              "    </tr>\n",
              "    <tr>\n",
              "      <th>max</th>\n",
              "      <td>2.538980e+06</td>\n",
              "      <td>2.538980e+06</td>\n",
              "      <td>1.249756e+06</td>\n",
              "      <td>1.425398e+06</td>\n",
              "      <td>1.698874e+06</td>\n",
              "      <td>1.713460e+06</td>\n",
              "      <td>1.483291e+06</td>\n",
              "      <td>334941.744704</td>\n",
              "      <td>418677.180880</td>\n",
              "      <td>334941.744704</td>\n",
              "      <td>...</td>\n",
              "      <td>1.153712e+06</td>\n",
              "      <td>1.153712e+06</td>\n",
              "      <td>1.153712e+06</td>\n",
              "      <td>1.153712e+06</td>\n",
              "      <td>1.153712e+06</td>\n",
              "      <td>1.153712e+06</td>\n",
              "      <td>1.153712e+06</td>\n",
              "      <td>1.153712e+06</td>\n",
              "      <td>204861.126000</td>\n",
              "      <td>1.713460e+06</td>\n",
              "    </tr>\n",
              "  </tbody>\n",
              "</table>\n",
              "<p>8 rows × 42 columns</p>\n",
              "</div>\n",
              "    <div class=\"colab-df-buttons\">\n",
              "\n",
              "  <div class=\"colab-df-container\">\n",
              "    <button class=\"colab-df-convert\" onclick=\"convertToInteractive('df-4b4ab36c-4f53-472f-b943-0cf8ee492ca8')\"\n",
              "            title=\"Convert this dataframe to an interactive table.\"\n",
              "            style=\"display:none;\">\n",
              "\n",
              "  <svg xmlns=\"http://www.w3.org/2000/svg\" height=\"24px\" viewBox=\"0 -960 960 960\">\n",
              "    <path d=\"M120-120v-720h720v720H120Zm60-500h600v-160H180v160Zm220 220h160v-160H400v160Zm0 220h160v-160H400v160ZM180-400h160v-160H180v160Zm440 0h160v-160H620v160ZM180-180h160v-160H180v160Zm440 0h160v-160H620v160Z\"/>\n",
              "  </svg>\n",
              "    </button>\n",
              "\n",
              "  <style>\n",
              "    .colab-df-container {\n",
              "      display:flex;\n",
              "      gap: 12px;\n",
              "    }\n",
              "\n",
              "    .colab-df-convert {\n",
              "      background-color: #E8F0FE;\n",
              "      border: none;\n",
              "      border-radius: 50%;\n",
              "      cursor: pointer;\n",
              "      display: none;\n",
              "      fill: #1967D2;\n",
              "      height: 32px;\n",
              "      padding: 0 0 0 0;\n",
              "      width: 32px;\n",
              "    }\n",
              "\n",
              "    .colab-df-convert:hover {\n",
              "      background-color: #E2EBFA;\n",
              "      box-shadow: 0px 1px 2px rgba(60, 64, 67, 0.3), 0px 1px 3px 1px rgba(60, 64, 67, 0.15);\n",
              "      fill: #174EA6;\n",
              "    }\n",
              "\n",
              "    .colab-df-buttons div {\n",
              "      margin-bottom: 4px;\n",
              "    }\n",
              "\n",
              "    [theme=dark] .colab-df-convert {\n",
              "      background-color: #3B4455;\n",
              "      fill: #D2E3FC;\n",
              "    }\n",
              "\n",
              "    [theme=dark] .colab-df-convert:hover {\n",
              "      background-color: #434B5C;\n",
              "      box-shadow: 0px 1px 3px 1px rgba(0, 0, 0, 0.15);\n",
              "      filter: drop-shadow(0px 1px 2px rgba(0, 0, 0, 0.3));\n",
              "      fill: #FFFFFF;\n",
              "    }\n",
              "  </style>\n",
              "\n",
              "    <script>\n",
              "      const buttonEl =\n",
              "        document.querySelector('#df-4b4ab36c-4f53-472f-b943-0cf8ee492ca8 button.colab-df-convert');\n",
              "      buttonEl.style.display =\n",
              "        google.colab.kernel.accessAllowed ? 'block' : 'none';\n",
              "\n",
              "      async function convertToInteractive(key) {\n",
              "        const element = document.querySelector('#df-4b4ab36c-4f53-472f-b943-0cf8ee492ca8');\n",
              "        const dataTable =\n",
              "          await google.colab.kernel.invokeFunction('convertToInteractive',\n",
              "                                                    [key], {});\n",
              "        if (!dataTable) return;\n",
              "\n",
              "        const docLinkHtml = 'Like what you see? Visit the ' +\n",
              "          '<a target=\"_blank\" href=https://colab.research.google.com/notebooks/data_table.ipynb>data table notebook</a>'\n",
              "          + ' to learn more about interactive tables.';\n",
              "        element.innerHTML = '';\n",
              "        dataTable['output_type'] = 'display_data';\n",
              "        await google.colab.output.renderOutput(dataTable, element);\n",
              "        const docLink = document.createElement('div');\n",
              "        docLink.innerHTML = docLinkHtml;\n",
              "        element.appendChild(docLink);\n",
              "      }\n",
              "    </script>\n",
              "  </div>\n",
              "\n",
              "\n",
              "<div id=\"df-98c8174c-17ed-4b6c-ac1e-c8489aaebe2b\">\n",
              "  <button class=\"colab-df-quickchart\" onclick=\"quickchart('df-98c8174c-17ed-4b6c-ac1e-c8489aaebe2b')\"\n",
              "            title=\"Suggest charts.\"\n",
              "            style=\"display:none;\">\n",
              "\n",
              "<svg xmlns=\"http://www.w3.org/2000/svg\" height=\"24px\"viewBox=\"0 0 24 24\"\n",
              "     width=\"24px\">\n",
              "    <g>\n",
              "        <path d=\"M19 3H5c-1.1 0-2 .9-2 2v14c0 1.1.9 2 2 2h14c1.1 0 2-.9 2-2V5c0-1.1-.9-2-2-2zM9 17H7v-7h2v7zm4 0h-2V7h2v10zm4 0h-2v-4h2v4z\"/>\n",
              "    </g>\n",
              "</svg>\n",
              "  </button>\n",
              "\n",
              "<style>\n",
              "  .colab-df-quickchart {\n",
              "      --bg-color: #E8F0FE;\n",
              "      --fill-color: #1967D2;\n",
              "      --hover-bg-color: #E2EBFA;\n",
              "      --hover-fill-color: #174EA6;\n",
              "      --disabled-fill-color: #AAA;\n",
              "      --disabled-bg-color: #DDD;\n",
              "  }\n",
              "\n",
              "  [theme=dark] .colab-df-quickchart {\n",
              "      --bg-color: #3B4455;\n",
              "      --fill-color: #D2E3FC;\n",
              "      --hover-bg-color: #434B5C;\n",
              "      --hover-fill-color: #FFFFFF;\n",
              "      --disabled-bg-color: #3B4455;\n",
              "      --disabled-fill-color: #666;\n",
              "  }\n",
              "\n",
              "  .colab-df-quickchart {\n",
              "    background-color: var(--bg-color);\n",
              "    border: none;\n",
              "    border-radius: 50%;\n",
              "    cursor: pointer;\n",
              "    display: none;\n",
              "    fill: var(--fill-color);\n",
              "    height: 32px;\n",
              "    padding: 0;\n",
              "    width: 32px;\n",
              "  }\n",
              "\n",
              "  .colab-df-quickchart:hover {\n",
              "    background-color: var(--hover-bg-color);\n",
              "    box-shadow: 0 1px 2px rgba(60, 64, 67, 0.3), 0 1px 3px 1px rgba(60, 64, 67, 0.15);\n",
              "    fill: var(--button-hover-fill-color);\n",
              "  }\n",
              "\n",
              "  .colab-df-quickchart-complete:disabled,\n",
              "  .colab-df-quickchart-complete:disabled:hover {\n",
              "    background-color: var(--disabled-bg-color);\n",
              "    fill: var(--disabled-fill-color);\n",
              "    box-shadow: none;\n",
              "  }\n",
              "\n",
              "  .colab-df-spinner {\n",
              "    border: 2px solid var(--fill-color);\n",
              "    border-color: transparent;\n",
              "    border-bottom-color: var(--fill-color);\n",
              "    animation:\n",
              "      spin 1s steps(1) infinite;\n",
              "  }\n",
              "\n",
              "  @keyframes spin {\n",
              "    0% {\n",
              "      border-color: transparent;\n",
              "      border-bottom-color: var(--fill-color);\n",
              "      border-left-color: var(--fill-color);\n",
              "    }\n",
              "    20% {\n",
              "      border-color: transparent;\n",
              "      border-left-color: var(--fill-color);\n",
              "      border-top-color: var(--fill-color);\n",
              "    }\n",
              "    30% {\n",
              "      border-color: transparent;\n",
              "      border-left-color: var(--fill-color);\n",
              "      border-top-color: var(--fill-color);\n",
              "      border-right-color: var(--fill-color);\n",
              "    }\n",
              "    40% {\n",
              "      border-color: transparent;\n",
              "      border-right-color: var(--fill-color);\n",
              "      border-top-color: var(--fill-color);\n",
              "    }\n",
              "    60% {\n",
              "      border-color: transparent;\n",
              "      border-right-color: var(--fill-color);\n",
              "    }\n",
              "    80% {\n",
              "      border-color: transparent;\n",
              "      border-right-color: var(--fill-color);\n",
              "      border-bottom-color: var(--fill-color);\n",
              "    }\n",
              "    90% {\n",
              "      border-color: transparent;\n",
              "      border-bottom-color: var(--fill-color);\n",
              "    }\n",
              "  }\n",
              "</style>\n",
              "\n",
              "  <script>\n",
              "    async function quickchart(key) {\n",
              "      const quickchartButtonEl =\n",
              "        document.querySelector('#' + key + ' button');\n",
              "      quickchartButtonEl.disabled = true;  // To prevent multiple clicks.\n",
              "      quickchartButtonEl.classList.add('colab-df-spinner');\n",
              "      try {\n",
              "        const charts = await google.colab.kernel.invokeFunction(\n",
              "            'suggestCharts', [key], {});\n",
              "      } catch (error) {\n",
              "        console.error('Error during call to suggestCharts:', error);\n",
              "      }\n",
              "      quickchartButtonEl.classList.remove('colab-df-spinner');\n",
              "      quickchartButtonEl.classList.add('colab-df-quickchart-complete');\n",
              "    }\n",
              "    (() => {\n",
              "      let quickchartButtonEl =\n",
              "        document.querySelector('#df-98c8174c-17ed-4b6c-ac1e-c8489aaebe2b button');\n",
              "      quickchartButtonEl.style.display =\n",
              "        google.colab.kernel.accessAllowed ? 'block' : 'none';\n",
              "    })();\n",
              "  </script>\n",
              "</div>\n",
              "    </div>\n",
              "  </div>\n"
            ]
          },
          "metadata": {},
          "execution_count": 112
        }
      ]
    },
    {
      "cell_type": "code",
      "source": [
        "df2_clean['CPTDRGCode'].value_counts()"
      ],
      "metadata": {
        "colab": {
          "base_uri": "https://localhost:8080/"
        },
        "outputId": "52f00a0a-37e6-4a07-aa18-91e0a967d1c3",
        "id": "j-evDCjRI7Q1"
      },
      "execution_count": 71,
      "outputs": [
        {
          "output_type": "execute_result",
          "data": {
            "text/plain": [
              "96360    1\n",
              "D0705    1\n",
              "D0431    1\n",
              "D0425    1\n",
              "D0423    1\n",
              "        ..\n",
              "29874    1\n",
              "29873    1\n",
              "29871    1\n",
              "29870    1\n",
              "989      1\n",
              "Name: CPTDRGCode, Length: 6193, dtype: int64"
            ]
          },
          "metadata": {},
          "execution_count": 71
        }
      ]
    },
    {
      "cell_type": "code",
      "source": [
        "df2_clean['Description'].value_counts()"
      ],
      "metadata": {
        "colab": {
          "base_uri": "https://localhost:8080/"
        },
        "id": "F1BInf8aR7QZ",
        "outputId": "b032d563-a45e-4f25-af3a-a33d2ab1c8de"
      },
      "execution_count": 72,
      "outputs": [
        {
          "output_type": "execute_result",
          "data": {
            "text/plain": [
              "KNEE ARTHROSCOPY/SURGERY                                                         16\n",
              "REPAIR EYELID DEFECT                                                             12\n",
              "CYSTOSCOPY AND TREATMENT                                                         12\n",
              "TREAT HUMERUS FRACTURE                                                            9\n",
              "SHOULDER ARTHROSCOPY/SURGERY                                                      7\n",
              "                                                                                 ..\n",
              "AMPUTATION TOE METATARSAL                                                         1\n",
              "AMPUTATION THRU METATARSAL                                                        1\n",
              "AMPUTATION OF MIDFOOT                                                             1\n",
              "REVISION OF FOOT BONES                                                            1\n",
              "NON-EXTENSIVE O.R. PROCEDURES UNRELATED TO PRINCIPAL DIAGNOSIS WITHOUT CC/MCC     1\n",
              "Name: Description, Length: 5925, dtype: int64"
            ]
          },
          "metadata": {},
          "execution_count": 72
        }
      ]
    },
    {
      "cell_type": "code",
      "source": [
        "df2_clean['Rev Code'].value_counts()"
      ],
      "metadata": {
        "colab": {
          "base_uri": "https://localhost:8080/"
        },
        "id": "8KSKJelvSBzd",
        "outputId": "0e2263ab-a510-48b5-fe3b-f75462c94686"
      },
      "execution_count": 73,
      "outputs": [
        {
          "output_type": "execute_result",
          "data": {
            "text/plain": [
              "0360        1955\n",
              "0512         737\n",
              "Multiple     723\n",
              "0510         421\n",
              "0301         341\n",
              "            ... \n",
              "0770           1\n",
              "0204           1\n",
              "0616           1\n",
              "0110           1\n",
              "0801           1\n",
              "Name: Rev Code, Length: 150, dtype: int64"
            ]
          },
          "metadata": {},
          "execution_count": 73
        }
      ]
    },
    {
      "cell_type": "code",
      "source": [
        "df2_clean['Inpt_Oupt'].value_counts()"
      ],
      "metadata": {
        "colab": {
          "base_uri": "https://localhost:8080/"
        },
        "id": "opmg19BjSIB4",
        "outputId": "d9ab4f0d-b8df-47ae-9180-c3e17a2ee4ff"
      },
      "execution_count": 74,
      "outputs": [
        {
          "output_type": "execute_result",
          "data": {
            "text/plain": [
              "Inpatient/Outpatient    5470\n",
              "Inpatient                723\n",
              "Name: Inpt_Oupt, dtype: int64"
            ]
          },
          "metadata": {},
          "execution_count": 74
        }
      ]
    },
    {
      "cell_type": "code",
      "source": [
        "# Data distribution\n",
        "\n",
        "# Calculate mean, median, and mode\n",
        "mean2= df2_clean[['Gross Charges','Discounted Cash Price','Minimum Negotiated Charge', 'Maximum Negotiated Charge','Aetna','Cigna','Empire Blue Cross Blue Shield','Emblem Health','United Health Group','Aetna Medicare','AgeWell Medicare','Emblem Medicare','Empire Medicare','Fidelis Medicare','Healthfirst Medicare','UHC_CommPlan_Medicare','VNS Medicare','WellCare Medicare','1199','Affinity Molina Essential','Affinity_Molina_Medicaid_CHP','Amida Care Medicaid','Emblem_Medicaid_CHP','Empire Healthplus Essential','Empire Healthplus Exchange','Empire_Healthplus_MedicaidCHP','Fidelis_Essential_Exchange','Fidelis_Medicaid_CHP','Healthfirst_Essential_Exchange','Healthfirst_Medicaid_CHP','MVP_Medicaid_CHP','MVP Essential','United Community Plan Essential','United Community Plan Medicaid','VNS Medicaid','Consumer Health Network','Devon','Equian','First Health', 'Magnacare','Multiplan_Beechstreet_PHCS','QHM','Worldwide']].mean()\n",
        "median2 = df2_clean[['Gross Charges','Discounted Cash Price','Minimum Negotiated Charge', 'Maximum Negotiated Charge','Aetna','Cigna','Empire Blue Cross Blue Shield','Emblem Health','United Health Group','Aetna Medicare','AgeWell Medicare','Emblem Medicare','Empire Medicare','Fidelis Medicare','Healthfirst Medicare','UHC_CommPlan_Medicare','VNS Medicare','WellCare Medicare','1199','Affinity Molina Essential','Affinity_Molina_Medicaid_CHP','Amida Care Medicaid','Emblem_Medicaid_CHP','Empire Healthplus Essential','Empire Healthplus Exchange','Empire_Healthplus_MedicaidCHP','Fidelis_Essential_Exchange','Fidelis_Medicaid_CHP','Healthfirst_Essential_Exchange','Healthfirst_Medicaid_CHP','MVP_Medicaid_CHP','MVP Essential','United Community Plan Essential','United Community Plan Medicaid','VNS Medicaid','Consumer Health Network','Devon','Equian','First Health', 'Magnacare','Multiplan_Beechstreet_PHCS','QHM','Worldwide']].median()\n",
        "mode2 = df2_clean[['Gross Charges','Discounted Cash Price','Minimum Negotiated Charge', 'Maximum Negotiated Charge','Aetna','Cigna','Empire Blue Cross Blue Shield','Emblem Health','United Health Group','Aetna Medicare','AgeWell Medicare','Emblem Medicare','Empire Medicare','Fidelis Medicare','Healthfirst Medicare','UHC_CommPlan_Medicare','VNS Medicare','WellCare Medicare','1199','Affinity Molina Essential','Affinity_Molina_Medicaid_CHP','Amida Care Medicaid','Emblem_Medicaid_CHP','Empire Healthplus Essential','Empire Healthplus Exchange','Empire_Healthplus_MedicaidCHP','Fidelis_Essential_Exchange','Fidelis_Medicaid_CHP','Healthfirst_Essential_Exchange','Healthfirst_Medicaid_CHP','MVP_Medicaid_CHP','MVP Essential','United Community Plan Essential','United Community Plan Medicaid','VNS Medicaid','Consumer Health Network','Devon','Equian','First Health', 'Magnacare','Multiplan_Beechstreet_PHCS','QHM','Worldwide']].mode().iloc[0]\n",
        "print(\"Mean is:\\n\", mean2, '\\n')\n",
        "print(\"Median is:\\n\", median2, '\\n')\n",
        "print(\"Mode is:\\n \", mode2, '\\n')\n",
        "# Calculate range\n",
        "range2 = df2_clean[['Gross Charges','Discounted Cash Price','Minimum Negotiated Charge', 'Maximum Negotiated Charge','Aetna','Cigna','Empire Blue Cross Blue Shield','Emblem Health','United Health Group','Aetna Medicare','AgeWell Medicare','Emblem Medicare','Empire Medicare','Fidelis Medicare','Healthfirst Medicare','UHC_CommPlan_Medicare','VNS Medicare','WellCare Medicare','1199','Affinity Molina Essential','Affinity_Molina_Medicaid_CHP','Amida Care Medicaid','Emblem_Medicaid_CHP','Empire Healthplus Essential','Empire Healthplus Exchange','Empire_Healthplus_MedicaidCHP','Fidelis_Essential_Exchange','Fidelis_Medicaid_CHP','Healthfirst_Essential_Exchange','Healthfirst_Medicaid_CHP','MVP_Medicaid_CHP','MVP Essential','United Community Plan Essential','United Community Plan Medicaid','VNS Medicaid','Consumer Health Network','Devon','Equian','First Health', 'Magnacare','Multiplan_Beechstreet_PHCS','QHM','Worldwide']].max() - df2_clean[['Gross Charges','Discounted Cash Price','Minimum Negotiated Charge', 'Maximum Negotiated Charge','Aetna','Cigna','Empire Blue Cross Blue Shield','Emblem Health','United Health Group','Aetna Medicare','AgeWell Medicare','Emblem Medicare','Empire Medicare','Fidelis Medicare','Healthfirst Medicare','UHC_CommPlan_Medicare','VNS Medicare','WellCare Medicare','1199','Affinity Molina Essential','Affinity_Molina_Medicaid_CHP','Amida Care Medicaid','Emblem_Medicaid_CHP','Empire Healthplus Essential','Empire Healthplus Exchange','Empire_Healthplus_MedicaidCHP','Fidelis_Essential_Exchange','Fidelis_Medicaid_CHP','Healthfirst_Essential_Exchange','Healthfirst_Medicaid_CHP','MVP_Medicaid_CHP','MVP Essential','United Community Plan Essential','United Community Plan Medicaid','VNS Medicaid','Consumer Health Network','Devon','Equian','First Health', 'Magnacare','Multiplan_Beechstreet_PHCS','QHM','Worldwide']].min()\n",
        "print(\"Range is:\\n\", range2, '\\n')\n",
        "# Calculate variance and standard deviation\n",
        "variance2 = np.var(df2_clean[['Gross Charges','Discounted Cash Price','Minimum Negotiated Charge', 'Maximum Negotiated Charge','Aetna','Cigna','Empire Blue Cross Blue Shield','Emblem Health','United Health Group','Aetna Medicare','AgeWell Medicare','Emblem Medicare','Empire Medicare','Fidelis Medicare','Healthfirst Medicare','UHC_CommPlan_Medicare','VNS Medicare','WellCare Medicare','1199','Affinity Molina Essential','Affinity_Molina_Medicaid_CHP','Amida Care Medicaid','Emblem_Medicaid_CHP','Empire Healthplus Essential','Empire Healthplus Exchange','Empire_Healthplus_MedicaidCHP','Fidelis_Essential_Exchange','Fidelis_Medicaid_CHP','Healthfirst_Essential_Exchange','Healthfirst_Medicaid_CHP','MVP_Medicaid_CHP','MVP Essential','United Community Plan Essential','United Community Plan Medicaid','VNS Medicaid','Consumer Health Network','Devon','Equian','First Health', 'Magnacare','Multiplan_Beechstreet_PHCS','QHM','Worldwide']])\n",
        "print(\"Variance is:\\n\",variance2, '\\n')\n",
        "std_dev2 = np.std(df2_clean[['Gross Charges','Discounted Cash Price','Minimum Negotiated Charge', 'Maximum Negotiated Charge','Aetna','Cigna','Empire Blue Cross Blue Shield','Emblem Health','United Health Group','Aetna Medicare','AgeWell Medicare','Emblem Medicare','Empire Medicare','Fidelis Medicare','Healthfirst Medicare','UHC_CommPlan_Medicare','VNS Medicare','WellCare Medicare','1199','Affinity Molina Essential','Affinity_Molina_Medicaid_CHP','Amida Care Medicaid','Emblem_Medicaid_CHP','Empire Healthplus Essential','Empire Healthplus Exchange','Empire_Healthplus_MedicaidCHP','Fidelis_Essential_Exchange','Fidelis_Medicaid_CHP','Healthfirst_Essential_Exchange','Healthfirst_Medicaid_CHP','MVP_Medicaid_CHP','MVP Essential','United Community Plan Essential','United Community Plan Medicaid','VNS Medicaid','Consumer Health Network','Devon','Equian','First Health', 'Magnacare','Multiplan_Beechstreet_PHCS','QHM','Worldwide']])\n",
        "print(\"Standard Deviation is:\\n\", std_dev2)"
      ],
      "metadata": {
        "colab": {
          "base_uri": "https://localhost:8080/"
        },
        "outputId": "be15d6c0-d379-4b87-9d45-32e5714c8331",
        "id": "VW3ptdwAI7Q1"
      },
      "execution_count": 120,
      "outputs": [
        {
          "output_type": "stream",
          "name": "stdout",
          "text": [
            "Mean is:\n",
            " Gross Charges                      46997.780489\n",
            "Discounted Cash Price              46997.780489\n",
            "Minimum Negotiated Charge           3083.751046\n",
            "Maximum Negotiated Charge          33292.549226\n",
            "Aetna                              19269.438005\n",
            "Cigna                              19967.040150\n",
            "Empire Blue Cross Blue Shield      26562.318413\n",
            "Emblem Health                      25070.083919\n",
            "United Health Group                20914.191400\n",
            "Aetna Medicare                      6233.779425\n",
            "AgeWell Medicare                    7790.569565\n",
            "Emblem Medicare                     6246.638656\n",
            "Empire Medicare                     6248.502476\n",
            "Fidelis Medicare                    6361.668202\n",
            "Healthfirst Medicare                6420.594242\n",
            "UHC_CommPlan_Medicare               7642.978928\n",
            "VNS Medicare                        6466.359382\n",
            "WellCare Medicare                   6451.730045\n",
            "1199                                8580.817309\n",
            "Affinity Molina Essential          12429.147795\n",
            "Affinity_Molina_Medicaid_CHP        5418.781546\n",
            "Amida Care Medicaid                 5562.902198\n",
            "Emblem_Medicaid_CHP                 5567.230264\n",
            "Empire Healthplus Essential        10905.141058\n",
            "Empire Healthplus Exchange         12116.823398\n",
            "Empire_Healthplus_MedicaidCHP       4846.729359\n",
            "Fidelis_Essential_Exchange         12116.823398\n",
            "Fidelis_Medicaid_CHP                5421.225650\n",
            "Healthfirst_Essential_Exchange     10676.206364\n",
            "Healthfirst_Medicaid_CHP            5089.065827\n",
            "MVP_Medicaid_CHP                    5421.225650\n",
            "MVP Essential                       5816.075231\n",
            "United Community Plan Essential     6783.808515\n",
            "United Community Plan Medicaid      4848.552175\n",
            "VNS Medicaid                        5410.836146\n",
            "Consumer Health Network            21355.791454\n",
            "Devon                              21355.791454\n",
            "Equian                             21355.791454\n",
            "First Health                       21355.791454\n",
            "Magnacare                          21355.791454\n",
            "Multiplan_Beechstreet_PHCS         21355.791454\n",
            "QHM                                21355.791454\n",
            "Worldwide                          21355.791454\n",
            "dtype: float64 \n",
            "\n",
            "Median is:\n",
            " Gross Charges                      21260.000000\n",
            "Discounted Cash Price              21260.000000\n",
            "Minimum Negotiated Charge           1135.400400\n",
            "Maximum Negotiated Charge          13059.000000\n",
            "Aetna                               9144.000000\n",
            "Cigna                               7496.000000\n",
            "Empire Blue Cross Blue Shield      11924.000000\n",
            "Emblem Health                       9474.400000\n",
            "United Health Group                 5445.000000\n",
            "Aetna Medicare                      2133.447750\n",
            "AgeWell Medicare                    2666.809688\n",
            "Emblem Medicare                     2133.447750\n",
            "Empire Medicare                     2133.447750\n",
            "Fidelis Medicare                    2133.447750\n",
            "Healthfirst Medicare                2197.451182\n",
            "UHC_CommPlan_Medicare               2154.782227\n",
            "VNS Medicare                        2197.451182\n",
            "WellCare Medicare                   2208.118421\n",
            "1199                                2107.000000\n",
            "Affinity Molina Essential           2864.310570\n",
            "Affinity_Molina_Medicaid_CHP        1273.026920\n",
            "Amida Care Medicaid                 1463.980958\n",
            "Emblem_Medicaid_CHP                 1463.980958\n",
            "Empire Healthplus Essential         2864.310570\n",
            "Empire Healthplus Exchange          3182.567300\n",
            "Empire_Healthplus_MedicaidCHP       1273.026920\n",
            "Fidelis_Essential_Exchange          3182.567300\n",
            "Fidelis_Medicaid_CHP                1273.026920\n",
            "Healthfirst_Essential_Exchange      8530.800000\n",
            "Healthfirst_Medicaid_CHP            1336.678266\n",
            "MVP_Medicaid_CHP                    1273.026920\n",
            "MVP Essential                       1527.632304\n",
            "United Community Plan Essential     1782.237688\n",
            "United Community Plan Medicaid      1273.026920\n",
            "VNS Medicaid                        1273.026920\n",
            "Consumer Health Network             9660.544000\n",
            "Devon                               9660.544000\n",
            "Equian                              9660.544000\n",
            "First Health                        9660.544000\n",
            "Magnacare                           9660.544000\n",
            "Multiplan_Beechstreet_PHCS          9660.544000\n",
            "QHM                                 9660.544000\n",
            "Worldwide                           9660.544000\n",
            "dtype: float64 \n",
            "\n",
            "Mode is:\n",
            "  Gross Charges                        181.000000\n",
            "Discounted Cash Price                181.000000\n",
            "Minimum Negotiated Charge           2412.000000\n",
            "Maximum Negotiated Charge          11924.000000\n",
            "Aetna                               9144.000000\n",
            "Cigna                               7496.000000\n",
            "Empire Blue Cross Blue Shield      11924.000000\n",
            "Emblem Health                       9474.400000\n",
            "United Health Group                 6002.000000\n",
            "Aetna Medicare                      3646.408500\n",
            "AgeWell Medicare                    4558.010625\n",
            "Emblem Medicare                     3646.408500\n",
            "Empire Medicare                     3646.408500\n",
            "Fidelis Medicare                    3646.408500\n",
            "Healthfirst Medicare                3755.800755\n",
            "UHC_CommPlan_Medicare               3682.872585\n",
            "VNS Medicare                        3755.800755\n",
            "WellCare Medicare                   3774.032798\n",
            "1199                                2107.000000\n",
            "Affinity Molina Essential            190.448895\n",
            "Affinity_Molina_Medicaid_CHP          84.643953\n",
            "Amida Care Medicaid                   97.340546\n",
            "Emblem_Medicaid_CHP                   97.340546\n",
            "Empire Healthplus Essential          190.448895\n",
            "Empire Healthplus Exchange           211.609883\n",
            "Empire_Healthplus_MedicaidCHP         84.643953\n",
            "Fidelis_Essential_Exchange           211.609883\n",
            "Fidelis_Medicaid_CHP                  84.643953\n",
            "Healthfirst_Essential_Exchange       108.600000\n",
            "Healthfirst_Medicaid_CHP              88.876151\n",
            "MVP_Medicaid_CHP                      84.643953\n",
            "MVP Essential                        101.572744\n",
            "United Community Plan Essential      118.501535\n",
            "United Community Plan Medicaid        84.643953\n",
            "VNS Medicaid                          84.643953\n",
            "Consumer Health Network               82.246400\n",
            "Devon                                 82.246400\n",
            "Equian                                82.246400\n",
            "First Health                          82.246400\n",
            "Magnacare                             82.246400\n",
            "Multiplan_Beechstreet_PHCS            82.246400\n",
            "QHM                                   82.246400\n",
            "Worldwide                             82.246400\n",
            "Name: 0, dtype: float64 \n",
            "\n",
            "Range is:\n",
            " Gross Charges                      2.538959e+06\n",
            "Discounted Cash Price              2.538959e+06\n",
            "Minimum Negotiated Charge          2.048598e+05\n",
            "Maximum Negotiated Charge          1.713318e+06\n",
            "Aetna                              1.249755e+06\n",
            "Cigna                              1.425397e+06\n",
            "Empire Blue Cross Blue Shield      1.698872e+06\n",
            "Emblem Health                      1.713459e+06\n",
            "United Health Group                1.483287e+06\n",
            "Aetna Medicare                     3.349395e+05\n",
            "AgeWell Medicare                   4.186744e+05\n",
            "Emblem Medicare                    3.349395e+05\n",
            "Empire Medicare                    3.349395e+05\n",
            "Fidelis Medicare                   3.449877e+05\n",
            "Healthfirst Medicare               3.449877e+05\n",
            "UHC_CommPlan_Medicare              7.665107e+05\n",
            "VNS Medicare                       3.449877e+05\n",
            "WellCare Medicare                  3.466624e+05\n",
            "1199                               5.793609e+05\n",
            "Affinity Molina Essential          9.047921e+05\n",
            "Affinity_Molina_Medicaid_CHP       3.926455e+05\n",
            "Amida Care Medicaid                3.926447e+05\n",
            "Emblem_Medicaid_CHP                3.926447e+05\n",
            "Empire Healthplus Essential        7.682180e+05\n",
            "Empire Healthplus Exchange         8.535755e+05\n",
            "Empire_Healthplus_MedicaidCHP      3.414302e+05\n",
            "Fidelis_Essential_Exchange         8.535755e+05\n",
            "Fidelis_Medicaid_CHP               3.926455e+05\n",
            "Healthfirst_Essential_Exchange     2.048485e+05\n",
            "Healthfirst_Medicaid_CHP           3.585017e+05\n",
            "MVP_Medicaid_CHP                   3.926455e+05\n",
            "MVP Essential                      4.097163e+05\n",
            "United Community Plan Essential    4.780023e+05\n",
            "United Community Plan Medicaid     3.414302e+05\n",
            "VNS Medicaid                       3.926455e+05\n",
            "Consumer Health Network            1.153703e+06\n",
            "Devon                              1.153703e+06\n",
            "Equian                             1.153703e+06\n",
            "First Health                       1.153703e+06\n",
            "Magnacare                          1.153703e+06\n",
            "Multiplan_Beechstreet_PHCS         1.153703e+06\n",
            "QHM                                1.153703e+06\n",
            "Worldwide                          1.153703e+06\n",
            "dtype: float64 \n",
            "\n",
            "Variance is:\n",
            " Gross Charges                      1.344634e+10\n",
            "Discounted Cash Price              1.344634e+10\n",
            "Minimum Negotiated Charge          5.112003e+07\n",
            "Maximum Negotiated Charge          7.282898e+09\n",
            "Aetna                              2.277829e+09\n",
            "Cigna                              2.841275e+09\n",
            "Empire Blue Cross Blue Shield      5.783582e+09\n",
            "Emblem Health                      5.072499e+09\n",
            "United Health Group                3.452349e+09\n",
            "Aetna Medicare                     1.721672e+08\n",
            "AgeWell Medicare                   2.690127e+08\n",
            "Emblem Medicare                    1.726975e+08\n",
            "Empire Medicare                    1.727826e+08\n",
            "Fidelis Medicare                   1.824356e+08\n",
            "Healthfirst Medicare               1.826521e+08\n",
            "UHC_CommPlan_Medicare              1.046179e+09\n",
            "VNS Medicare                       1.842289e+08\n",
            "WellCare Medicare                  1.844297e+08\n",
            "1199                               5.048566e+08\n",
            "Affinity Molina Essential          1.146373e+09\n",
            "Affinity_Molina_Medicaid_CHP       2.158401e+08\n",
            "Amida Care Medicaid                2.153500e+08\n",
            "Emblem_Medicaid_CHP                2.154112e+08\n",
            "Empire Healthplus Essential        8.251765e+08\n",
            "Empire Healthplus Exchange         1.018736e+09\n",
            "Empire_Healthplus_MedicaidCHP      1.629978e+08\n",
            "Fidelis_Essential_Exchange         1.018736e+09\n",
            "Fidelis_Medicaid_CHP               2.159308e+08\n",
            "Healthfirst_Essential_Exchange     1.450098e+08\n",
            "Healthfirst_Medicaid_CHP           1.797051e+08\n",
            "MVP_Medicaid_CHP                   2.159308e+08\n",
            "MVP Essential                      2.347169e+08\n",
            "United Community Plan Essential    3.195207e+08\n",
            "United Community Plan Medicaid     1.630694e+08\n",
            "VNS Medicaid                       2.157148e+08\n",
            "Consumer Health Network            2.776392e+09\n",
            "Devon                              2.776392e+09\n",
            "Equian                             2.776392e+09\n",
            "First Health                       2.776392e+09\n",
            "Magnacare                          2.776392e+09\n",
            "Multiplan_Beechstreet_PHCS         2.776392e+09\n",
            "QHM                                2.776392e+09\n",
            "Worldwide                          2.776392e+09\n",
            "dtype: float64 \n",
            "\n",
            "Standard Deviation is:\n",
            " Gross Charges                      115958.368773\n",
            "Discounted Cash Price              115958.368773\n",
            "Minimum Negotiated Charge            7149.827032\n",
            "Maximum Negotiated Charge           85339.898374\n",
            "Aetna                               47726.610613\n",
            "Cigna                               53303.608366\n",
            "Empire Blue Cross Blue Shield       76049.868497\n",
            "Emblem Health                       71221.475796\n",
            "United Health Group                 58756.694678\n",
            "Aetna Medicare                      13121.251004\n",
            "AgeWell Medicare                    16401.607406\n",
            "Emblem Medicare                     13141.442635\n",
            "Empire Medicare                     13144.681245\n",
            "Fidelis Medicare                    13506.870764\n",
            "Healthfirst Medicare                13514.885324\n",
            "UHC_CommPlan_Medicare               32344.696875\n",
            "VNS Medicare                        13573.095139\n",
            "WellCare Medicare                   13580.491315\n",
            "1199                                22469.015138\n",
            "Affinity Molina Essential           33858.127381\n",
            "Affinity_Molina_Medicaid_CHP        14691.496430\n",
            "Amida Care Medicaid                 14674.807132\n",
            "Emblem_Medicaid_CHP                 14676.891727\n",
            "Empire Healthplus Essential         28725.885389\n",
            "Empire Healthplus Exchange          31917.650432\n",
            "Empire_Healthplus_MedicaidCHP       12767.060173\n",
            "Fidelis_Essential_Exchange          31917.650432\n",
            "Fidelis_Medicaid_CHP                14694.585062\n",
            "Healthfirst_Essential_Exchange      12041.999574\n",
            "Healthfirst_Medicaid_CHP            13405.413181\n",
            "MVP_Medicaid_CHP                    14694.585062\n",
            "MVP Essential                       15320.472207\n",
            "United Community Plan Essential     17875.142379\n",
            "United Community Plan Medicaid      12769.862171\n",
            "VNS Medicaid                        14687.233365\n",
            "Consumer Health Network             52691.482770\n",
            "Devon                               52691.482770\n",
            "Equian                              52691.482770\n",
            "First Health                        52691.482770\n",
            "Magnacare                           52691.482770\n",
            "Multiplan_Beechstreet_PHCS          52691.482770\n",
            "QHM                                 52691.482770\n",
            "Worldwide                           52691.482770\n",
            "dtype: float64\n"
          ]
        }
      ]
    },
    {
      "cell_type": "code",
      "source": [
        "df2_clean.to_csv('/content/newdb_NewYorkPresbyterianHospital_standardcharges.csv')"
      ],
      "metadata": {
        "id": "8Ap8ALUJI7Q2"
      },
      "execution_count": 122,
      "outputs": []
    },
    {
      "cell_type": "code",
      "source": [
        "# Remove outliers by only allowing data within 3 standard deviations\n",
        "df2_clean_outliers = df2_clean[df2_clean[['Gross Charges','Discounted Cash Price','Minimum Negotiated Charge', 'Maximum Negotiated Charge','Aetna','Cigna','Empire Blue Cross Blue Shield','Emblem Health','United Health Group','Aetna Medicare','AgeWell Medicare','Emblem Medicare','Empire Medicare','Fidelis Medicare','Healthfirst Medicare','UHC_CommPlan_Medicare','VNS Medicare','WellCare Medicare','1199','Affinity Molina Essential','Affinity_Molina_Medicaid_CHP','Amida Care Medicaid','Emblem_Medicaid_CHP','Empire Healthplus Essential','Empire Healthplus Exchange','Empire_Healthplus_MedicaidCHP','Fidelis_Essential_Exchange','Fidelis_Medicaid_CHP','Healthfirst_Essential_Exchange','Healthfirst_Medicaid_CHP','MVP_Medicaid_CHP','MVP Essential','United Community Plan Essential','United Community Plan Medicaid','VNS Medicaid','Consumer Health Network','Devon','Equian','First Health', 'Magnacare','Multiplan_Beechstreet_PHCS','QHM','Worldwide']]<= std_dev2*3]"
      ],
      "metadata": {
        "id": "ydmTLL95I7Q2"
      },
      "execution_count": 123,
      "outputs": []
    },
    {
      "cell_type": "code",
      "source": [
        "fig1 = go.Figure(data=[go.Histogram(x=df2_clean_outliers['Gross Charges'], histnorm='probability')])\n",
        "print('Gross Charges Histogram')\n",
        "fig1.show()\n",
        "#display.Image(\"/content/newplot.png\")"
      ],
      "metadata": {
        "colab": {
          "base_uri": "https://localhost:8080/",
          "height": 559
        },
        "id": "nqdi3CidZPR2",
        "outputId": "d24ba9d6-c22d-49c6-b42e-843e6c2f4b6b"
      },
      "execution_count": 126,
      "outputs": [
        {
          "output_type": "stream",
          "name": "stdout",
          "text": [
            "Gross Charges Histogram\n"
          ]
        },
        {
          "output_type": "display_data",
          "data": {
            "text/html": [
              "<html>\n",
              "<head><meta charset=\"utf-8\" /></head>\n",
              "<body>\n",
              "    <div>            <script src=\"https://cdnjs.cloudflare.com/ajax/libs/mathjax/2.7.5/MathJax.js?config=TeX-AMS-MML_SVG\"></script><script type=\"text/javascript\">if (window.MathJax && window.MathJax.Hub && window.MathJax.Hub.Config) {window.MathJax.Hub.Config({SVG: {font: \"STIX-Web\"}});}</script>                <script type=\"text/javascript\">window.PlotlyConfig = {MathJaxConfig: 'local'};</script>\n",
              "        <script charset=\"utf-8\" src=\"https://cdn.plot.ly/plotly-2.24.1.min.js\"></script>                <div id=\"09efba2a-fb9c-4813-b477-f022d9431016\" class=\"plotly-graph-div\" style=\"height:525px; width:100%;\"></div>            <script type=\"text/javascript\">                                    window.PLOTLYENV=window.PLOTLYENV || {};                                    if (document.getElementById(\"09efba2a-fb9c-4813-b477-f022d9431016\")) {                    Plotly.newPlot(                        \"09efba2a-fb9c-4813-b477-f022d9431016\",                        [{\"histnorm\":\"probability\",\"x\":[866.0,358.0,1397.0,480.0,780.0,480.0,510.0,36.0,106.0,80.0,78.0,104.0,105.0,160.0,396.0,81.0,99.0,118.0,92.0,171.0,77.0,715.0,116.0,152.0,172.0,209.0,87.0,491.0,303.0,122.0,139.0,250.0,683.0,164.0,354.0,312.0,323.0,288.0,207.0,147.0,295.0,189.0,127.0,143.0,207.0,223.0,135.0,164.0,217.0,320.0,273.0,127.0,174.0,207.0,224.0,263.0,38.0,89.0,222.0,499.0,498.0,44.0,62.0,191.0,518.0,464.0,235.0,518.0,279.0,230.0,440.0,191.0,212.0,246.0,237.0,1532.0,122.0,38.0,87.0,175.0,455.0,245.0,170.0,266.0,145.0,335.0,149.0,122.0,88.0,249.0,53.0,54.0,174.0,54.0,266.0,487.0,324.0,85.0,312.0,147.0,227.0,647.0,55.0,163.0,250.0,383.0,124.0,570.0,150.0,542.0,62.0,71.0,70.0,79.0,168.0,67.0,270.0,524.0,338.0,469.0,393.0,393.0,305.0,364.0,82.0,87.0,56.0,200.0,200.0,65.0,104.0,125.0,181.0,292.0,210.0,400.0,239.0,221.0,436.0,162.0,631.0,180.0,812.0,307.0,417.0,393.0,351.0,357.0,206.0,411.0,331.0,212.0,373.0,181.0,319.0,195.0,827.0,240.0,331.0,233.0,269.0,71.0,91.0,500.0,203.0,34.0,401.0,250.0,323.0,59.0,47.0,39.0,78.0,114.0,38.0,360.0,103.0,46.0,519.0,147.0,138.0,257.0,237.0,223.0,127.0,434.0,197.0,230.0,147.0,186.0,233.0,74.0,119.0,893.0,89.0,57.0,498.0,416.0,334.0,195.0,258.0,221.0,518.0,461.0,358.0,164.0,219.0,88.0,97.0,239.0,308.0,116.0,161.0,185.0,266.0,117.0,123.0,128.0,207.0,180.0,234.0,216.0,129.0,111.0,162.0,374.0,1388.0,266.0,639.0,276.0,383.0,252.0,378.0,193.0,273.0,246.0,234.0,449.0,99.0,101.0,357.0,176.0,538.0,762.0,147.0,638.0,79.0,65.0,249.0,122.0,122.0,168.0,311.0,620.0,56.0,57.0,93.0,198.0,278.0,218.0,518.0,270.0,316.0,279.0,239.0,118.0,88.0,59.0,57.0,184.0,569.0,296.0,337.0,62.0,112.0,524.0,355.0,233.0,327.0,256.0,432.0,210.0,735.0,260.0,56.0,54.0,22.0,460.0,483.0,562.0,81.0,74.0,637.0,434.0,368.0,308.0,62.0,295.0,111.0,252.0,222.0,256.0,915.0,252.0,49.0,41.0,214.0,49.0,118.0,228.0,416.0,221.0,305.0,232.0,96.0,79.0,284.0,275.0,89.0,89.0,316.0,473.0,162.0,295.0,321.0,374.0,108.0,124.0,196.0,334.0,385.0,230.0,162.0,45.0,45.0,350.0,927.0,531.0,99.0,330.0,125.0,123.0,111.0,141.0,130.0,237.0,240.0,151.0,48.0,193.0,320.0,318.0,177.0,232.0,245.0,293.0,268.0,574.0,126.0,152.0,510.0,273.0,249.0,529.0,116.0,49.0,380.0,49.0,122.0,181.0,334.0,319.0,319.0,312.0,355.0,223.0,343.0,566.0,635.0,196.0,148.0,196.0,196.0,196.0,404.0,258.0,293.0,200.0,286.0,107.0,103.0,172.0,42.0,119.0,119.0,123.0,181.0,153.0,158.0,327.0,61.0,270.0,184.0,76.0,181.0,145.0,57.0,48.0,154.0,217.0,159.0,240.0,240.0,237.0,278.0,243.0,332.0,84.0,350.0,272.0,285.0,223.0,233.0,205.0,221.0,221.0,214.0,106.0,196.0,171.0,230.0,195.0,222.0,320.0,3883.0,226.0,137.0,243.0,123.0,265.0,187.0,227.0,227.0,168.0,161.0,147.0,184.0,254.0,281.0,252.0,89.0,445.0,204.0,122.0,122.0,350.0,243.0,290.0,286.0,265.0,1059.0,88.0,209.0,423.0,4188.0,233.0,487.0,487.0,93.0,760.0,760.0,760.0,29.0,69.0,92.0,82.0,37.0,37.0,38.0,59.0,127.0,61.0,25.0,34.0,21.0,81.0,62.0,46.0,79.0,80.0,102.0,46.0,337.0,371.0,371.0,371.0,353.0,495.0,411.0,457.0,371.0,371.0,371.0,371.0,276.0,286.0,312.0,379.0,268.0,355.0,460.0,334.0,424.0,446.0,348.0,38.0,239.0,228.0,150.0,74.0,135.0,530.0,289.0,200.0,348.0,59.0,44.0,108.0,990.0,134.0,181.0,272.0,404.0,84.0,361.0,78.0,335.0,56.0,255.0,197.0,222.0,62.0,78.0,127.0,228.0,90.0,337.0,173.0,57.0,181.0,141.0,43.0,166.0,206.0,166.0,187.0,112.0,112.0,112.0,129.0,37.0,206.0,214.0,127.0,112.0,112.0,301.0,281.0,188.0,107.0,162.0,44.0,117.0,243.0,776.0,137.0,137.0,85.0,44.0,162.0,95.0,101.0,36.0,239.0,464.0,113.0,67.0,464.0,137.0,65.0,143.0,102.0,101.0,112.0,406.0,162.0,406.0,323.0,222.0,250.0,91.0,508.0,193.0,285.0,187.0,197.0,279.0,171.0,103.0,230.0,392.0,319.0,227.0,87.0,287.0,207.0,206.0,221.0,533.0,776.0,334.0,146.0,880.0,776.0,267.0,702.0,477.0,885.0,828.0,320.0,161.0,771.0,146.0,116.0,383.0,774.0,656.0,339.0,339.0,690.0,852.0,395.0,278.0,1002.0,776.0,287.0,227.0,222.0,734.0,1747.0,2816.0,318.0,315.0,828.0,89.0,112.0,146.0,853.0,333.0,1109.0,954.0,221.0,97.0,113.0,286.0,1286.0,1479.0,961.0,1100.0,2935.0,1335.0,97.0,79.0,61.0,60.0,143.0,65.0,41.0,601.0,601.0,334.0,702.0,491.0,491.0,1134.0,440.0,668.0,1473.0,900.0,668.0,1502.0,949.0,668.0,1370.0,1058.0,587.0,1168.0,1295.0,566.0,253.0,201.0,261.0,68.0,389.0,368.0,2080.0,1191.0,609.0,580.0,454.0,660.0,439.0,475.0,674.0,181.0,201.0,249.0,158.0,102.0,265.0,392.0,186.0,280.0,395.0,342.0,615.0,729.0,699.0,3012.0,701.0,88.0,1027.0,839.0,704.0,308.0,439.0,563.0,486.0,284.0,237.0,119.0,205.0,726.0,362.0,512.0,647.0,1356.0,480.0,332.0,385.0,726.0,234.0,674.0,638.0,898.0,549.0,365.0,726.0,365.0,529.0,541.0,784.0,885.0,385.0,605.0,618.0,904.0,656.0,862.0,841.0,827.0,485.0,532.0,631.0,948.0,958.0,559.0,688.0,713.0,784.0,799.0,990.0,950.0,562.0,861.0,926.0,446.0,487.0,320.0,559.0,683.0,2565.0,1447.0,1602.0,2781.0,6139.0,3227.0,911.0,310.0,573.0,770.0,925.0,549.0,403.0,544.0,520.0,508.0,925.0,836.0,589.0,853.0,616.0,731.0,910.0,818.0,861.0,994.0,1129.0,180.0,466.0,604.0,1012.0,1216.0,301.0,442.0,723.0,937.0,965.0,962.0,1054.0,928.0,285.0,427.0,310.0,448.0,1266.0,701.0,950.0,864.0,1171.0,1441.0,1878.0,1100.0,2439.0,1366.0,1386.0,1506.0,784.0,826.0,1235.0,1642.0,1737.0,954.0,1706.0,1154.0,1489.0,1259.0,2059.0,4666.0,1323.0,843.0,8311.0,7407.0,4816.0,4907.0,1372.0,2032.0,4167.0,4610.0,1132.0,4540.0,2831.0,8804.0,4998.0,6918.0,8971.0,11515.0,19703.0,4946.0,2692.0,2497.0,5105.0,3188.0,9197.0,4980.0,8173.0,3234.0,181.0,847.0,1330.0,1363.0,1142.0,1243.0,980.0,486.0,916.0,969.0,1904.0,688.0,690.0,1257.0,666.0,1363.0,1356.0,1983.0,9258.0,10456.0,11556.0,11563.0,6923.0,9126.0,8428.0,805.0,1011.0,549.0,529.0,481.0,541.0,1077.0,1161.0,1161.0,1161.0,614.0,889.0,1769.0,1008.0,26621.0,4793.0,3565.0,4916.0,6893.0,11738.0,1297.0,15017.0,7307.0,9898.0,7307.0,8304.0,9898.0,3026.0,1330.0,1778.0,2184.0,3074.0,1709.0,9218.0,2051.0,30412.0,33453.0,12561.0,87.0,6119.0,1234.0,3345.0,3483.0,4970.0,6645.0,7781.0,9966.0,11670.0,12885.0,10049.0,956.0,1161.0,720.0,1410.0,784.0,1303.0,1463.0,861.0,326.0,873.0,927.0,1208.0,1956.0,2459.0,2945.0,2472.0,2472.0,2472.0,4829.0,1932.0,2549.0,1806.0,5556.0,1940.0,1808.0,2196.0,2063.0,2108.0,1806.0,2536.0,2710.0,2644.0,3171.0,1204.0,1561.0,1839.0,2094.0,587.0,1956.0,1806.0,1169.0,2879.0,1218.0,1581.0,1511.0,1808.0,2208.0,1208.0,1626.0,2518.0,2022.0,3325.0,3926.0,1234.0,1645.0,8581.0,1806.0,2410.0,3010.0,1645.0,5707.0,8581.0,3591.0,1616.0,2541.0,4061.0,3099.0,4056.0,1337.0,1504.0,1445.0,2854.0,1146.0,2710.0,3149.0,1808.0,791.0,3217.0,2958.0,910.0,2261.0,1057.0,2124.0,1686.0,4738.0,4708.0,4904.0,5552.0,5552.0,5552.0,3012.0,3615.0,3615.0,1174.0,1651.0,1504.0,1743.0,2241.0,2739.0,3306.0,2448.0,2723.0,3428.0,2261.0,2825.0,3392.0,1846.0,2435.0,3079.0,2178.0,2178.0,1659.0,3157.0,3636.0,4363.0,1493.0,1593.0,2184.0,1884.0,3429.0,4044.0,2506.0,2689.0,2973.0,2305.0,1884.0,2034.0,2865.0,2121.0,2653.0,3315.0,5972.0,2822.0,3530.0,4412.0,5296.0,1882.0,2352.0,2965.0,3520.0,2936.0,2545.0,3049.0,4374.0,1169.0,1891.0,1026.0,11171.0,15587.0,24742.0,16529.0,9741.0,34782.0,21949.0,26786.0,22470.0,24263.0,24277.0,29304.0,15385.0,23745.0,26835.0,23154.0,20862.0,23404.0,17859.0,20275.0,14610.0,19639.0,20416.0,21690.0,22639.0,18049.0,21335.0,21507.0,21360.0,21382.0,27545.0,24643.0,20704.0,23346.0,23829.0,25461.0,23078.0,20297.0,23467.0,23330.0,20489.0,27653.0,26982.0,29501.0,30287.0,25077.0,24046.0,48998.0,36945.0,28961.0,30507.0,37155.0,32124.0,42084.0,18075.0,27520.0,23669.0,22432.0,21649.0,18877.0,31620.0,21859.0,37789.0,36790.0,31301.0,32316.0,15271.0,26512.0,17509.0,22908.0,26215.0,16751.0,20428.0,18752.0,33335.0,40317.0,34425.0,21260.0,28258.0,34499.0,25760.0,73325.0,26426.0,24942.0,24102.0,37317.0,22123.0,27573.0,25672.0,31592.0,26475.0,26523.0,26494.0,26242.0,36059.0,22930.0,21853.0,61540.0,36898.0,34945.0,23348.0,28975.0,36674.0,31057.0,59271.0,41069.0,21803.0,32685.0,40808.0,26051.0,26276.0,18544.0,26026.0,19776.0,20314.0,38282.0,23563.0,28178.0,28148.0,15283.0,40288.0,27741.0,20438.0,18304.0,11151.0,13299.0,19228.0,21555.0,25561.0,7556.0,8128.0,29418.0,29435.0,42195.0,62361.0,48347.0,31934.0,38915.0,31947.0,30372.0,28729.0,52130.0,40280.0,27426.0,38210.0,43355.0,32556.0,30374.0,18421.0,19381.0,25800.0,24690.0,15313.0,16465.0,16414.0,29309.0,35088.0,19854.0,19036.0,18272.0,10736.0,10515.0,14402.0,14405.0,21210.0,13431.0,30958.0,27469.0,28379.0,23726.0,53079.0,30567.0,19623.0,26453.0,23734.0,22581.0,32674.0,31323.0,25446.0,26471.0,30467.0,44631.0,28256.0,31317.0,34283.0,32575.0,39929.0,31911.0,65072.0,49910.0,84629.0,42496.0,38009.0,64799.0,68904.0,82161.0,59131.0,50866.0,71157.0,52585.0,30082.0,45866.0,17933.0,19083.0,41390.0,38424.0,34168.0,20905.0,17469.0,25973.0,36291.0,35290.0,39268.0,33134.0,29801.0,84534.0,48128.0,51012.0,42019.0,25190.0,27615.0,31025.0,20338.0,24155.0,25363.0,28011.0,17771.0,23633.0,21924.0,20642.0,21604.0,20414.0,27042.0,33630.0,13244.0,49903.0,39373.0,67703.0,126543.0,100831.0,74991.0,11980.0,21380.0,22840.0,10798.0,22852.0,21309.0,25286.0,29961.0,47750.0,18324.0,28024.0,29298.0,40387.0,53751.0,27808.0,56379.0,38047.0,64080.0,63664.0,59663.0,41517.0,40758.0,50055.0,50570.0,37094.0,47815.0,43238.0,27688.0,24890.0,22416.0,22809.0,19100.0,20627.0,61619.0,19203.0,28676.0,14796.0,23452.0,35331.0,32032.0,28326.0,30501.0,29791.0,13510.0,17884.0,26284.0,81062.0,46969.0,58869.0,2366.0,54815.0,31575.0,30251.0,53503.0,69673.0,42213.0,23333.0,39533.0,30176.0,46449.0,34416.0,33212.0,63130.0,17760.0,42619.0,18622.0,18625.0,22427.0,20820.0,41274.0,23448.0,24476.0,20120.0,15339.0,12047.0,22540.0,19177.0,19836.0,38901.0,27924.0,24540.0,14194.0,27225.0,22904.0,30476.0,33975.0,23478.0,28007.0,42550.0,29622.0,32120.0,29045.0,29146.0,28529.0,38844.0,37487.0,58148.0,23005.0,36318.0,34570.0,39656.0,35439.0,37685.0,3075.0,21035.0,21036.0,17405.0,17930.0,18907.0,20652.0,29042.0,22518.0,24828.0,23487.0,20490.0,18579.0,19313.0,18551.0,22284.0,23659.0,23095.0,30083.0,27095.0,42674.0,37149.0,23681.0,22368.0,22150.0,22448.0,30359.0,20245.0,20726.0,23785.0,19158.0,45846.0,21438.0,32559.0,30355.0,28332.0,16895.0,24383.0,34466.0,28386.0,25005.0,21890.0,37185.0,32995.0,39626.0,32887.0,28376.0,31183.0,23448.0,21759.0,22017.0,28418.0,25445.0,22285.0,30404.0,23415.0,24599.0,27424.0,39473.0,28332.0,31741.0,24538.0,14992.0,21404.0,20612.0,19765.0,21944.0,26378.0,39572.0,59640.0,31942.0,34237.0,59645.0,15094.0,28578.0,17984.0,28002.0,32035.0,24824.0,24967.0,35982.0,37664.0,40332.0,37002.0,35127.0,55048.0,32323.0,53237.0,55898.0,42317.0,59450.0,51137.0,51214.0,46338.0,38423.0,47162.0,47598.0,56157.0,32604.0,40313.0,25937.0,48392.0,16851.0,62170.0,34175.0,24866.0,28526.0,17697.0,43957.0,24113.0,24369.0,23065.0,28187.0,25810.0,20717.0,26047.0,41413.0,28090.0,34853.0,38255.0,27644.0,28179.0,24862.0,30206.0,30038.0,36397.0,39857.0,77404.0,56638.0,25599.0,44230.0,44461.0,45232.0,39343.0,38851.0,44599.0,50811.0,54456.0,37827.0,45425.0,45637.0,65917.0,22432.0,25413.0,25320.0,17400.0,23538.0,22769.0,22310.0,22084.0,27416.0,40872.0,24223.0,33518.0,25258.0,26945.0,23315.0,28276.0,37256.0,19694.0,18287.0,39091.0,54541.0,25085.0,18451.0,28347.0,39362.0,25517.0,40614.0,22724.0,35975.0,32844.0,47850.0,35006.0,43499.0,63941.0,22577.0,19288.0,35256.0,34297.0,40818.0,29954.0,64887.0,49164.0,43205.0,31607.0,36596.0,25568.0,34660.0,968.0,21885.0,56321.0,71558.0,48229.0,48590.0,40661.0,39791.0,28869.0,26717.0,22387.0,20065.0,26633.0,23428.0,31047.0,33737.0,39238.0,33317.0,21067.0,26698.0,25632.0,27696.0,37293.0,35704.0,24943.0,29931.0,33881.0,22351.0,27263.0,19609.0,41272.0,30126.0,28160.0,57159.0,52688.0,63820.0,27985.0,29889.0,33794.0,28829.0,30215.0,37626.0,31440.0,37276.0,24596.0,26461.0,41746.0,50831.0,30245.0,42421.0,31989.0,48704.0,61136.0,35373.0,31174.0,26005.0,19334.0,40168.0,33900.0,61768.0,64524.0,60634.0,17058.0,26922.0,22261.0,26504.0,32551.0,71799.0,25417.0,17932.0,40136.0,41772.0,39499.0,34834.0,24295.0,43334.0,20142.0,40458.0,24060.0,43834.0,34870.0,22054.0,17146.0,24923.0,31663.0,30871.0,36685.0,41850.0,35278.0,37798.0,39128.0,43709.0,46041.0,41396.0,46831.0,55520.0,42212.0,29240.0,23121.0,23793.0,30069.0,25888.0,28609.0,24426.0,24863.0,25321.0,29659.0,25107.0,22405.0,23609.0,27718.0,21069.0,23409.0,23113.0,32493.0,44058.0,29069.0,27325.0,18975.0,20817.0,42973.0,18824.0,23091.0,22018.0,30866.0,24702.0,32957.0,30944.0,31907.0,33531.0,36525.0,29950.0,12756.0,22507.0,23354.0,26007.0,17391.0,15393.0,16369.0,3442.0,9218.0,14374.0,12055.0,14199.0,16498.0,11606.0,30989.0,60427.0,72376.0,43840.0,25908.0,23512.0,70541.0,72795.0,72134.0,57918.0,55045.0,62728.0,48984.0,41663.0,55096.0,57904.0,80676.0,25705.0,27919.0,76343.0,128043.0,89947.0,97930.0,107335.0,138988.0,78018.0,35688.0,31834.0,81588.0,34781.0,37596.0,32331.0,19224.0,19180.0,42272.0,26059.0,25911.0,34306.0,27912.0,25198.0,28754.0,27827.0,32466.0,21435.0,3984.0,16466.0,29498.0,14380.0,2001.0,24084.0,31053.0,19983.0,11459.0,15079.0,1915.0,17684.0,12544.0,26479.0,35795.0,27353.0,30345.0,31970.0,35484.0,42226.0,31001.0,34993.0,36542.0,17561.0,17935.0,26902.0,57430.0,28699.0,38160.0,27345.0,57891.0,21875.0,21108.0,1080.0,14049.0,27433.0,32414.0,60057.0,54568.0,65485.0,68103.0,71385.0,51934.0,61967.0,45549.0,63864.0,54497.0,49106.0,29177.0,65733.0,41799.0,34440.0,33294.0,37669.0,28902.0,21536.0,29145.0,23592.0,23125.0,25460.0,32142.0,25125.0,24508.0,62466.0,12727.0,50999.0,31984.0,13142.0,29398.0,24623.0,47682.0,26559.0,39648.0,49748.0,43570.0,71652.0,35737.0,33759.0,32931.0,39178.0,45974.0,59207.0,32171.0,17875.0,23418.0,26098.0,30258.0,35449.0,63063.0,15467.0,33326.0,32603.0,23895.0,86538.0,17448.0,60414.0,21936.0,23477.0,32552.0,18184.0,32046.0,47058.0,16949.0,32091.0,32103.0,29476.0,39326.0,22474.0,39680.0,48197.0,21028.0,31788.0,34395.0,48124.0,82246.0,27925.0,21104.0,25401.0,30235.0,37235.0,44758.0,51668.0,46750.0,36121.0,21671.0,28116.0,23899.0,24827.0,25494.0,41885.0,40985.0,27597.0,29723.0,23024.0,24615.0,22554.0,24349.0,20918.0,24148.0,23922.0,28146.0,26653.0,15288.0,35509.0,26720.0,23136.0,25221.0,12966.0,20160.0,16048.0,24097.0,26775.0,14621.0,20308.0,22504.0,21273.0,17523.0,13548.0,17997.0,14616.0,17497.0,13678.0,30336.0,14868.0,21079.0,15038.0,13696.0,16934.0,15128.0,17371.0,14923.0,16785.0,14265.0,15746.0,17335.0,18547.0,17605.0,14196.0,13445.0,20810.0,23834.0,20480.0,20321.0,33713.0,23693.0,19082.0,25066.0,17963.0,25003.0,20420.0,21717.0,45343.0,44305.0,44144.0,11688.0,27129.0,86208.0,65627.0,44390.0,9732.0,28461.0,35526.0,24537.0,28162.0,41023.0,36800.0,45708.0,13634.0,14161.0,12102.0,13974.0,15351.0,31885.0,14120.0,14939.0,17462.0,13406.0,16952.0,11196.0,15398.0,14050.0,15478.0,14547.0,12839.0,24510.0,22553.0,1465.0,38910.0,22485.0,19671.0,21738.0,19851.0,26186.0,25953.0,26723.0,28912.0,14484.0,13052.0,18397.0,20309.0,19943.0,14321.0,16250.0,13698.0,18045.0,18573.0,25038.0,17895.0,12635.0,12642.0,12595.0,13894.0,15913.0,15457.0,14605.0,13860.0,15832.0,15360.0,21118.0,17524.0,14509.0,14441.0,13742.0,26448.0,31214.0,23152.0,2004.0,18968.0,16709.0,25522.0,22578.0,20496.0,21688.0,30466.0,26659.0,24833.0,24010.0,20120.0,22421.0,49758.0,22958.0,19462.0,21596.0,22612.0,23975.0,24597.0,28708.0,21012.0,21765.0,19688.0,23686.0,22862.0,19579.0,20063.0,25476.0,14354.0,17593.0,21449.0,25693.0,21208.0,67638.0,20342.0,22274.0,24840.0,21068.0,6396.0,21198.0,21425.0,24005.0,24461.0,24793.0,23780.0,25862.0,16844.0,31627.0,35602.0,23200.0,12538.0,20673.0,30060.0,15812.0,16359.0,13444.0,23426.0,33981.0,39961.0,32564.0,12443.0,16123.0,13726.0,25280.0,31049.0,34133.0,38835.0,27214.0,34176.0,40250.0,13366.0,15030.0,17182.0,25060.0,23135.0,12502.0,43228.0,20119.0,11333.0,12512.0,12551.0,14365.0,13512.0,10699.0,38033.0,25090.0,23357.0,17686.0,27353.0,28774.0,28463.0,35027.0,28296.0,23333.0,21490.0,31764.0,33079.0,39164.0,39321.0,31231.0,18844.0,28629.0,13579.0,12072.0,15970.0,93679.0,13091.0,16368.0,26193.0,21072.0,16303.0,50378.0,57407.0,35848.0,34302.0,14713.0,20503.0,29964.0,44061.0,19097.0,22231.0,31507.0,12568.0,3314.0,22545.0,9971.0,10875.0,26331.0,15913.0,13989.0,29973.0,25961.0,19765.0,17294.0,19987.0,20123.0,22076.0,23703.0,21824.0,22297.0,17774.0,20017.0,18423.0,22592.0,21138.0,16592.0,29979.0,23460.0,23253.0,26984.0,36785.0,20848.0,26042.0,25279.0,20498.0,18807.0,18678.0,22785.0,21553.0,21848.0,23440.0,24014.0,24108.0,65635.0,20382.0,25626.0,26248.0,18229.0,40781.0,23231.0,29122.0,30575.0,31090.0,28022.0,52147.0,19918.0,19888.0,38952.0,54930.0,49666.0,50495.0,84500.0,79128.0,44366.0,80695.0,63703.0,17835.0,18980.0,18573.0,23494.0,17961.0,15855.0,23369.0,23272.0,22095.0,23141.0,18008.0,28913.0,37451.0,45475.0,38532.0,54044.0,41980.0,32837.0,25307.0,44859.0,37948.0,44764.0,18056.0,37601.0,29043.0,69103.0,28276.0,52467.0,57457.0,36651.0,42272.0,21220.0,28984.0,37749.0,31113.0,22852.0,19780.0,25324.0,36442.0,36034.0,28777.0,37298.0,24415.0,31872.0,28413.0,25794.0,18035.0,41070.0,37005.0,21687.0,33865.0,18261.0,27464.0,20626.0,31092.0,26834.0,21985.0,34619.0,15119.0,50979.0,20015.0,30540.0,24204.0,31744.0,16678.0,23583.0,20771.0,20435.0,18140.0,32171.0,26010.0,20577.0,23768.0,22260.0,20101.0,29241.0,18073.0,29434.0,22923.0,26496.0,25369.0,36843.0,24048.0,21882.0,19886.0,20334.0,46497.0,36509.0,32765.0,38979.0,39978.0,47340.0,29784.0,30004.0,25509.0,26404.0,41465.0,23682.0,27109.0,23547.0,18015.0,25292.0,66317.0,46592.0,19914.0,28013.0,21375.0,21044.0,23053.0,23390.0,24621.0,22903.0,20131.0,40407.0,26035.0,30621.0,18237.0,24457.0,29489.0,44514.0,48851.0,45660.0,25762.0,47474.0,26887.0,30089.0,49227.0,65917.0,51661.0,49834.0,51642.0,55973.0,53163.0,52416.0,24437.0,25255.0,22158.0,27688.0,30097.0,21404.0,32763.0,46758.0,46812.0,46638.0,48206.0,41119.0,22743.0,27248.0,33605.0,38964.0,26946.0,26568.0,47579.0,34032.0,13926.0,29583.0,38279.0,36190.0,25893.0,23065.0,26226.0,10095.0,22199.0,18398.0,21384.0,19951.0,21410.0,14218.0,17935.0,20289.0,23104.0,44245.0,39262.0,38637.0,41114.0,43998.0,40005.0,41266.0,35418.0,32619.0,22632.0,39376.0,39825.0,15400.0,18627.0,36138.0,27365.0,52940.0,38915.0,99183.0,102425.0,104590.0,27238.0,13436.0,21685.0,13348.0,16158.0,29493.0,11821.0,12888.0,11598.0,16688.0,13533.0,15967.0,13269.0,11434.0,73051.0,60963.0,46981.0,38699.0,53506.0,43956.0,37296.0,41016.0,46908.0,43695.0,28388.0,58709.0,42010.0,48663.0,77556.0,33181.0,32864.0,119310.0,58906.0,16199.0,1924.0,36096.0,27894.0,11036.0,17730.0,15339.0,48294.0,13671.0,14077.0,13054.0,11320.0,9758.0,10214.0,11808.0,13797.0,46754.0,15910.0,33703.0,35480.0,44231.0,129768.0,61387.0,53160.0,109810.0,28952.0,32448.0,61697.0,24554.0,21827.0,21188.0,15215.0,988.0,27137.0,26286.0,15583.0,22714.0,35625.0,19404.0,16927.0,16756.0,20830.0,23588.0,22636.0,20046.0,16818.0,40868.0,53119.0,25971.0,38873.0,27414.0,26264.0,19779.0,40150.0,21308.0,48155.0,22095.0,42712.0,41858.0,34355.0,35666.0,42286.0,51021.0,36589.0,38334.0,39202.0,14668.0,17365.0,28027.0,63035.0,55705.0,33196.0,25729.0,23151.0,15285.0,24031.0,37121.0,43991.0,45280.0,47075.0,40880.0,17868.0,20790.0,61288.0,20550.0,25259.0,23859.0,18902.0,22120.0,19530.0,23279.0,26451.0,19896.0,27614.0,26221.0,28711.0,20622.0,17577.0,17340.0,15993.0,19229.0,40597.0,18659.0,27578.0,26831.0,26631.0,105221.0,20743.0,22052.0,20399.0,31986.0,27887.0,23413.0,26538.0,28953.0,28594.0,22305.0,30045.0,32722.0,94796.0,26754.0,30836.0,23545.0,26513.0,28908.0,30007.0,30488.0,34634.0,22723.0,18901.0,14878.0,58794.0,21462.0,56919.0,17287.0,21442.0,22436.0,29328.0,26701.0,22743.0,26863.0,27436.0,26202.0,25572.0,38427.0,53406.0,47169.0,44017.0,40377.0,37287.0,24739.0,16294.0,19604.0,18110.0,18273.0,15916.0,18050.0,1381.0,21083.0,24579.0,22466.0,23787.0,27008.0,22377.0,20104.0,18370.0,18505.0,18488.0,24680.0,49050.0,19913.0,23540.0,21585.0,18101.0,21503.0,32001.0,26368.0,20485.0,22585.0,21485.0,22438.0,28850.0,23272.0,21324.0,25241.0,27412.0,31077.0,17000.0,28155.0,23465.0,14366.0,19988.0,29762.0,25278.0,21691.0,24213.0,18246.0,19011.0,23732.0,31546.0,30482.0,34014.0,16073.0,14467.0,43838.0,35144.0,21638.0,20681.0,18186.0,19116.0,26620.0,69019.0,54124.0,22897.0,21140.0,37181.0,37187.0,37033.0,40053.0,35901.0,43415.0,41895.0,45053.0,53519.0,50177.0,35817.0,36564.0,28013.0,20448.0,26586.0,44318.0,105737.0,34816.0,9520.0,6251.0,10451.0,4068.0,3826.0,1142.0,17577.0,7330.0,6794.0,12995.0,9652.0,6915.0,16674.0,11496.0,20153.0,15217.0,6512.0,7409.0,19888.0,64836.0,24129.0,20517.0,59052.0,45951.0,50775.0,73811.0,44985.0,63225.0,65538.0,67882.0,48522.0,36558.0,29592.0,50855.0,38059.0,45011.0,35519.0,43496.0,32518.0,35113.0,34117.0,34707.0,33367.0,59258.0,53220.0,37577.0,37885.0,31987.0,9425.0,34039.0,36627.0,18031.0,35268.0,23268.0,5594.0,24456.0,31828.0,42719.0,11555.0,12122.0,12242.0,10059.0,4984.0,3833.0,735.0,960.0,1473.0,889.0,671.0,49.0,671.0,1259.0,770.0,1147.0,894.0,1109.0,893.0,994.0,2640.0,2034.0,1620.0,1358.0,631.0,764.0,1280.0,557.0,980.0,990.0,404.0,709.0,518.0,557.0,557.0,2545.0,1750.0,1486.0,863.0,846.0,3282.0,968.0,614.0,1383.0,722.0,1458.0,940.0,584.0,1057.0,1057.0,1958.0,1132.0,1258.0,1258.0,48103.0,267.0,754.0,5552.0,5552.0,8660.0,10584.0,10584.0,8743.0,8580.0,8581.0,7604.0,8173.0,10944.0,11195.0,333.0,232.0,1778.0,3382.0,2538.0,539.0,982.0,704.0,334.0,507.0,266.0,511.0,2538.0,341.0,372.0,256.0,1595.0,778.0,288.0,368.0,214.0,164.0,160.0,205.0,201.0,246.0,186.0,177.0,366.0,366.0,517.0,366.0,276.0,249.0,249.0,366.0,172.0,254.0,197.0,351.0,274.0,309.0,185.0,274.0,274.0,200.0,657.0,723.0,796.0,368.0,270.0,274.0,657.0,723.0,796.0,368.0,582.0,461.0,720.0,720.0,720.0,720.0,638.0,470.0,529.0,907.0,956.0,483.0,573.0,405.0,972.0,627.0,401.0,1026.0,7977.0,1997.0,1361.0,797.0,1202.0,2118.0,333.0,1095.0,656.0,683.0,564.0,826.0,1220.0,411.0,1304.0,1563.0,1082.0,773.0,727.0,106.0,320.0,711.0,419.0,631.0,419.0,411.0,447.0,447.0,389.0,295.0,226.0,582.0,276.0,212.0,631.0,517.0,726.0,487.0,636.0,3565.0,63877.0,2011.0,3693.0,3693.0,1891.0,4458.0,85435.0,9748.0,9343.0,16555.0,13881.0,42637.0,53148.0,86755.0,100178.0,115606.0,4950.0,773.0,51722.0,74655.0,47656.0,95348.0,2014.0,2840.0,1615.0,2011.0,1989.0,1561.0,1561.0,1561.0,9410.0,3012.0,3464.0,4203.0,5773.0,3464.0,4216.0,4517.0,4069.0,4596.0,6021.0,3464.0,4216.0,7284.0,4181.0,5227.0,6534.0,5798.0,4216.0,4517.0,3892.0,3952.0,4827.0,2646.0,3737.0,4517.0,4069.0,3464.0,3773.0,5117.0,5488.0,2286.0,927.0,3722.0,4137.0,1757.0,4647.0,5632.0,6998.0,1635.0,4647.0,6998.0,4445.0,5620.0,4191.0,5040.0,4624.0,4952.0,6768.0,7530.0,5662.0,4062.0,5683.0,5872.0,3542.0,4087.0,4761.0,2735.0,16799.0,2014.0,1450.0,931.0,1104.0,931.0,931.0,2035.0,568.0,288.0,1042.0,1567.0,8833.0,8178.0,3657.0,5392.0,9587.0,10375.0,1704.0,2054.0,1722.0,1547.0,1304.0,758.0,517.0,303.0,1506.0,620.0,297.0,297.0,7526.0,1316.0,101.0,72.0,670.0,1997.0,912.0,2879.0,414.0,517.0,228.0,500.0,500.0,500.0,720.0,740.0,947.0,740.0,912.0,919.0,85.0,37147.0,1718.0,2554.0,1887.0,1894.0,1143.0,1122.0,473.0,290.0,506.0,750.0,19008.0,620.0,762.0,762.0,680.0,1583.0,2487.0,3394.0,4298.0,5200.0,5421.0,1154.0,1223.0,6080.0,334.0,404.0,334.0,399.0,399.0,423.0,618.0,423.0,392.0,503.0,620.0,80.0,487.0,589.0,257.0,257.0,257.0,2063.0,1604.0,1719.0,762.0,956.0,1547.0,1509.0,1104.0,2296.0,2123.0,1752.0,1533.0,2352.0,1960.0,2183.0,1603.0,1601.0,861.0,1028.0,1874.0,1248.0,1170.0,820.0,1884.0,968.0,1132.0,1247.0,452.0,543.0,579.0,455.0,2316.0,2316.0,828.0,1164.0,506.0,3455.0,1728.0,1262.0,541.0,330.0,313.0,156.0,83.0,117.0,1818.0,1232.0,4575.0,6024.0,2230.0,6608.0,10536.0,17828.0,12727.0,261.0,455.0,92.0,88.0,87.0,65.0,292.0,195.0,88.0,381.0,395.0,null,null,null,null,null,null,null,null,null,null,329999.4864500001,347306.444875,null,null,null,null,null,294815.5066727272,96662.8645142857,null,194623.3204146342,289407.8753710844,167776.778881106,121969.20590745,null,176177.7075712329,133797.624876923,216331.502715,128145.4238166667,91807.73661,218232.371625,134147.486275,116545.3059333333,287701.8132357143,125511.2666083333,100912.2233046512,null,157243.7796215384,94955.7251166667,160443.20547,195859.6732084745,69928.4119763158,167043.1983605381,114634.6340660976,null,117667.9217057143,77095.2804151515,195223.4292694445,158475.2064244445,103770.6670454546,205361.7061481321,108625.4412514666,66527.426507874,86541.73375,69927.5939461539,64358.0340385475,175343.6870257576,95603.3606557692,62121.189555,176501.0726841464,72408.9203128572,128597.1280454546,84882.0407,185070.5491,121086.46975,203443.4228000001,46199.925,260040.2918337501,104559.8884576923,58025.0113913044,180832.732566,86733.8052382979,45131.9949847826,51473.87582,41027.5176555556,187980.5437214611,105349.4186838346,57601.6081733333,283156.08485,195264.2975307692,177383.7103714286,null,239347.2507515152,102272.9234285714,150839.4911852739,54382.0570496093,84727.371344,57143.335402649,124060.2219533333,89371.7143333333,162299.8398666667,190926.5093,108988.2454666667,157528.50514,61992.004175,63445.9300342857,60829.6703083333,67183.4826282609,217096.486375,106538.2629,59653.35065,45702.6603333333,68491.0057142857,241348.1659214286,139488.6595891305,111668.5258255475,321736.042863158,92578.5323911111,57959.6553164948,103372.9697928571,109374.2917857143,61899.647125,55414.5798493671,80562.68075,72034.1285363637,77042.56158,44815.8350728916,139299.5665230769,62822.4486086207,48799.7233194444,118019.3374875,68740.3692142857,46433.2113933333,null,156559.0547138614,115224.3363566038,null,130909.5031,106192.69035,152881.079933813,71973.5573371429,145697.75364835,79786.3891863895,50891.8479425288,173203.1931482994,93688.7643571429,52729.3503333333,114749.7953705882,75556.744934375,47571.743645,159862.7540424242,94271.0207033334,68424.7452,121301.1692028661,106111.293987266,61944.7540192513,35351.2393658537,123924.0358151448,68437.0479455974,38110.8622300971,175084.2113546511,110837.8483583333,39525.314153125,136239.4817538461,76288.3121113636,47248.76682,75641.310634609,35839.1556038186,57788.6757,226773.9133607144,88774.4269923664,null,249361.8988394118,null,null,null,263814.0087166667,null,326496.7276838236,258797.3445428572,null,228770.2229333334,null,253747.611,324272.5575499999,192269.335225,null,185906.25227,null,null,null,null,293565.9537965518,342795.8036999999,204240.7198086956,255493.6328958904,164939.9243616162,119480.3418727273,null,203137.3958713113,102562.6488991543,217382.7756913043,105886.2514764706,232235.4009120536,143903.1876927632,92254.2591911765,189690.6044625001,120395.80681875,62422.941325,185408.61025,144439.9511714286,286855.5304230769,100000.8530346154,99156.8425370371,317769.714483146,283064.91015,null,203079.9016364312,null,173115.0401428572,null,189252.3507671428,115640.0315209302,248103.2725236559,137998.6732450865,176833.8361019369,92651.853295679,64306.3641606061,314793.5864325581,261155.7750427647,107939.6272301449,223875.1217142857,207676.461688889,121774.4935288841,81122.2501189189,46921.3888047619,229424.8739,272356.1138583333,130538.2192248276,77672.2693979381,56814.3080058824,113402.495656,51610.7431381444,123850.183343,53173.9645689119,201186.7400642857,79441.5646317073,108757.9205391753,60342.278645048,42879.2093577889,56864.7578038462,62127.7506237154,43254.7256024823,198886.8972977198,87607.9196299107,57481.4616487805,null,89647.1618052632,null,140241.5588287769,82899.2244240602,null,149864.9495534483,89675.95485,117660.6882,94682.55162,285879.2949346154,133258.5081107143,85822.3842142857,99676.24055,91560.2323484848,76023.6710018519,110641.2518272727,67763.0847822222,56234.964204375,130927.5825333333,162088.35615,85008.495975,259428.45072,84587.8656,51312.4089827586,316793.8621,91331.9669787879,56668.4805483871,207439.3467166667,107635.5215442105,77098.6904727273,312385.6410404256,161862.6260692308,72090.9973611111,108477.531181579,70122.9875939394,37834.21132,147355.4029231405,86110.303377707,50526.9249433735,171197.0049523561,90222.4731623932,72970.5011,153485.4182819081,77313.765747816,50811.2289849462,153969.3119392857,96200.2937103448,54777.76618,65874.0863333333,64303.6652896552,172869.4490181818,76750.8424074074,56965.2562957143,132476.2340966101,60044.9835976331,46315.6900196429,109690.2361816584,51475.4930265338,132997.2155577406,65553.7963788273,40456.8732306569,null,186036.1693411765,115397.9059891892,305475.94352,133645.7606,97966.4113125,180114.6871666666,124213.8909714286,126859.9151166667,149178.6437098901,97340.7259758242,72386.7379362934,168781.9863583334,95075.5378571429,248521.0439473685,86744.0261666667,207674.2048535353,92666.8227912622,48206.5143428571,165280.1498437126,94356.4085705883,47414.9742,131330.4062259259,68500.574663426,44357.0449876033,188148.9839380952,112386.5430827587,58317.3916344828,141711.3893916667,79635.504537063,52799.7429870968,null,302445.5819068571,231321.6189854168,null,312831.8771647727,274411.0006828572,null,183219.4717875517,127184.2562304348,null,194704.791754902,106377.542052,null,177257.2726155556,110420.6579036364,249987.5026,92585.1295002036,341824.353026087,141579.2216167741,92341.3783751351,259160.60725,167668.933282353,333852.8789480001,237488.6075310346,126692.4440666667,312612.5006444445,131512.1593251462,104952.9639602941,131553.4403691489,null,134922.5822375,108857.3416666667,134469.275065625,83926.2400166667,185031.965723077,138786.7144961905,84081.1416293478,120656.1853,110335.6248090909,51753.4497,184401.5351666667,297679.3951777777,136856.7910923077,89924.0115966667,184851.458575,139740.8955222222,96990.65356875,164696.18155,108112.8945166667,88281.1450923077,80925.5231,65864.30475,null,147839.235002174,87771.2829325301,245082.3283500001,117069.9448505882,85814.6978260869,224033.1524163266,134868.428115748,19608.38665,78337.6771176471,120812.4738309524,59592.3430029851,38537.1342666667,188090.264152,127693.7001333333,49735.7186,196303.4881253013,121501.0760550562,47652.91866,188926.670858889,108369.750763,66425.881624,150609.4978,101141.4884444444,58917.3386666667,118913.007485567,76001.59980175,100445.9287568182,64776.491009396,106431.6699458333,55136.9318397727,130857.2730793104,69751.4368625,135819.5042846154,134361.1959405797,114117.7138809524,122746.9238375,63035.2881052631,167648.3022257143,111212.6031839286,54483.1863142857,null,101660.7917947368,97474.1553285714,null,null,218047.020875,139908.130875,236992.2757545455,94321.1786685394,104022.2556481202,130291.0390875,198529.247496,114911.1932714286,92327.38759375,171837.9554,87132.4614305556,52347.5167571429,242794.01458,99143.187139394,68613.7549384615,73274.490775,58964.3908466667,36228.8963833333,139403.364824031,60251.56719219,102060.2501459459,48241.35232,227817.3302181819,59939.2330173913,168258.0861082354,93539.8452846154,286809.4780588236,170068.5491357142,131343.39345,234890.7192333333,100389.424458772,73202.9578840868,263937.56875,128395.3081509434,85176.0945333334,326444.48635,96122.8564175,69094.5021348485,243537.7025368421,139478.3758161291,100471.1091571429,114846.2897042704,68381.7187899543,47044.1315078212,120286.4033692631,63555.8492021937,null,162844.6625067416,84572.4463267857,48719.6790242424,null,346654.6402960526,305115.9578230769,178656.1044709678,133598.0913866667,253404.9778291667,100971.0011196429,87390.157294,213892.50534023,89671.3888186046,63550.5523813043,176236.1155,131560.05989,72811.82224,null,67801.034175,39742.1254666667,279448.7720333334,92501.3777947369,59347.4731545455,74741.2013,307735.5977985715,155771.7412463415,115273.88628,120176.6999437636,73059.000265,47006.5266666667,146015.15855,103365.4931384615,102909.7660360098,67521.8672206522,108169.1880272727,43583.7318245614,49895.48565,39724.1466925926,59406.488275,160801.0950818182,85906.7416052117,45381.3245571429,109344.6644344828,67888.783610989,84353.0469666667,94782.0521428572,130093.3699625,44920.3855625,59889.8691732558,44137.1305952381,277075.4977666667,105819.6310285714,171612.9800157895,44833.80571,139671.5492545455,44746.9735285714,85534.195,54761.3753152174,53728.522575,51233.0962166667,106980.54205,77678.6226909091,329424.52088,107584.2105969697,80427.852725,204275.5511,105537.85035,78844.2871037037,154761.4188,66484.9899852273,152605.6001875,65348.48022,94367.14879,62599.2465625,76816.8871666667,139976.54614,56025.5103,205292.2060878788,97226.2089941177,75506.32834,113093.61255,67549.0313416667,42033.3752551724,53292.2229129032,33385.6196146342,53734.6367683007,84838.2532026316,49771.8105230769,41714.9665930435,47173.6829365854,115471.2800870968,71528.1738369048,54815.0854279279,82435.4738301749,67772.4526436129,57751.5390934966,null,null,272977.3369120435,67735.1451998148,129412.311132683,22610.5737106769,16861.7887663506,103937.0887846154,63235.147295,60497.841516,236824.718375,172563.7043,79082.62144,null,106510.7413111111,70431.9546333333,48124.7044725877,42317.6474516129,35193.0344200983,161353.1629148148,103143.536685124,72771.0442882353,150221.9095128931,64234.0067428382,109679.3681434427,240767.5206555556,92230.4739162162,48861.8273769231,74292.8056921053,66515.3616515151,72779.2200918919,null,222774.1186727273,78349.50345,null,215192.4209291667,93961.3854111111,null,176335.395731579,88212.7659466667,305604.7457380953,91972.5704666667,63224.8959146497,47219.7830166667,33682.8543163743,null,258937.2160892857,71608.5908333333,null,95484.9135753425,61984.7538104167,283408.2078217688,110449.3333697675,167287.9604391305,109590.173075,84245.4014,142994.2562962686,68956.8381458204,25733.8437375,247176.5091666667,null,144492.3589795181,104179.3016666667,344742.866977551,153079.6051461539,77446.490325,144493.5190670887,72668.9224152381,55836.3727767677,108635.8633531915,55921.687561194,178028.964165,86786.2261740741,46484.4928375,null,192197.4954447977,82789.9130018761,null,60277.1563331035,75294.6300024691,102234.2408904762,119568.1797572327,112585.6109212264,129727.0343126917,75481.1225028571,81487.0274755556,49998.8689527273,127302.979825,146779.889425974,70814.5882545455,275272.24246,108535.04875,83820.614075,126493.4347666667,135681.97595,null,null,143583.4062464789,83064.9228645161,92857.4553714286,50267.218095,157949.128025,37754.7923746269,141292.3854398269,60897.9862451362,181900.6257173914,74029.6334122137,50688.2996807692,185622.4716363637,101867.5873807692,null,null,331511.8008470588,214491.1906333333,137220.4198401409,225078.6195,140128.1564611111,102219.40585,153548.6089973684,126884.3243133333,135929.0441784091,70468.0109765307,170474.0531965217,107854.66785,43396.2181891305,null,null,null,171201.74089,318251.4594095238,108756.77348125,132498.2533666667,null,314171.6287872882,101927.9990135135,55624.4069529412,93410.713026,null,184095.1290204082,85385.9418566038,null,126522.8711396227,77081.6394958333],\"type\":\"histogram\"}],                        {\"template\":{\"data\":{\"histogram2dcontour\":[{\"type\":\"histogram2dcontour\",\"colorbar\":{\"outlinewidth\":0,\"ticks\":\"\"},\"colorscale\":[[0.0,\"#0d0887\"],[0.1111111111111111,\"#46039f\"],[0.2222222222222222,\"#7201a8\"],[0.3333333333333333,\"#9c179e\"],[0.4444444444444444,\"#bd3786\"],[0.5555555555555556,\"#d8576b\"],[0.6666666666666666,\"#ed7953\"],[0.7777777777777778,\"#fb9f3a\"],[0.8888888888888888,\"#fdca26\"],[1.0,\"#f0f921\"]]}],\"choropleth\":[{\"type\":\"choropleth\",\"colorbar\":{\"outlinewidth\":0,\"ticks\":\"\"}}],\"histogram2d\":[{\"type\":\"histogram2d\",\"colorbar\":{\"outlinewidth\":0,\"ticks\":\"\"},\"colorscale\":[[0.0,\"#0d0887\"],[0.1111111111111111,\"#46039f\"],[0.2222222222222222,\"#7201a8\"],[0.3333333333333333,\"#9c179e\"],[0.4444444444444444,\"#bd3786\"],[0.5555555555555556,\"#d8576b\"],[0.6666666666666666,\"#ed7953\"],[0.7777777777777778,\"#fb9f3a\"],[0.8888888888888888,\"#fdca26\"],[1.0,\"#f0f921\"]]}],\"heatmap\":[{\"type\":\"heatmap\",\"colorbar\":{\"outlinewidth\":0,\"ticks\":\"\"},\"colorscale\":[[0.0,\"#0d0887\"],[0.1111111111111111,\"#46039f\"],[0.2222222222222222,\"#7201a8\"],[0.3333333333333333,\"#9c179e\"],[0.4444444444444444,\"#bd3786\"],[0.5555555555555556,\"#d8576b\"],[0.6666666666666666,\"#ed7953\"],[0.7777777777777778,\"#fb9f3a\"],[0.8888888888888888,\"#fdca26\"],[1.0,\"#f0f921\"]]}],\"heatmapgl\":[{\"type\":\"heatmapgl\",\"colorbar\":{\"outlinewidth\":0,\"ticks\":\"\"},\"colorscale\":[[0.0,\"#0d0887\"],[0.1111111111111111,\"#46039f\"],[0.2222222222222222,\"#7201a8\"],[0.3333333333333333,\"#9c179e\"],[0.4444444444444444,\"#bd3786\"],[0.5555555555555556,\"#d8576b\"],[0.6666666666666666,\"#ed7953\"],[0.7777777777777778,\"#fb9f3a\"],[0.8888888888888888,\"#fdca26\"],[1.0,\"#f0f921\"]]}],\"contourcarpet\":[{\"type\":\"contourcarpet\",\"colorbar\":{\"outlinewidth\":0,\"ticks\":\"\"}}],\"contour\":[{\"type\":\"contour\",\"colorbar\":{\"outlinewidth\":0,\"ticks\":\"\"},\"colorscale\":[[0.0,\"#0d0887\"],[0.1111111111111111,\"#46039f\"],[0.2222222222222222,\"#7201a8\"],[0.3333333333333333,\"#9c179e\"],[0.4444444444444444,\"#bd3786\"],[0.5555555555555556,\"#d8576b\"],[0.6666666666666666,\"#ed7953\"],[0.7777777777777778,\"#fb9f3a\"],[0.8888888888888888,\"#fdca26\"],[1.0,\"#f0f921\"]]}],\"surface\":[{\"type\":\"surface\",\"colorbar\":{\"outlinewidth\":0,\"ticks\":\"\"},\"colorscale\":[[0.0,\"#0d0887\"],[0.1111111111111111,\"#46039f\"],[0.2222222222222222,\"#7201a8\"],[0.3333333333333333,\"#9c179e\"],[0.4444444444444444,\"#bd3786\"],[0.5555555555555556,\"#d8576b\"],[0.6666666666666666,\"#ed7953\"],[0.7777777777777778,\"#fb9f3a\"],[0.8888888888888888,\"#fdca26\"],[1.0,\"#f0f921\"]]}],\"mesh3d\":[{\"type\":\"mesh3d\",\"colorbar\":{\"outlinewidth\":0,\"ticks\":\"\"}}],\"scatter\":[{\"fillpattern\":{\"fillmode\":\"overlay\",\"size\":10,\"solidity\":0.2},\"type\":\"scatter\"}],\"parcoords\":[{\"type\":\"parcoords\",\"line\":{\"colorbar\":{\"outlinewidth\":0,\"ticks\":\"\"}}}],\"scatterpolargl\":[{\"type\":\"scatterpolargl\",\"marker\":{\"colorbar\":{\"outlinewidth\":0,\"ticks\":\"\"}}}],\"bar\":[{\"error_x\":{\"color\":\"#2a3f5f\"},\"error_y\":{\"color\":\"#2a3f5f\"},\"marker\":{\"line\":{\"color\":\"#E5ECF6\",\"width\":0.5},\"pattern\":{\"fillmode\":\"overlay\",\"size\":10,\"solidity\":0.2}},\"type\":\"bar\"}],\"scattergeo\":[{\"type\":\"scattergeo\",\"marker\":{\"colorbar\":{\"outlinewidth\":0,\"ticks\":\"\"}}}],\"scatterpolar\":[{\"type\":\"scatterpolar\",\"marker\":{\"colorbar\":{\"outlinewidth\":0,\"ticks\":\"\"}}}],\"histogram\":[{\"marker\":{\"pattern\":{\"fillmode\":\"overlay\",\"size\":10,\"solidity\":0.2}},\"type\":\"histogram\"}],\"scattergl\":[{\"type\":\"scattergl\",\"marker\":{\"colorbar\":{\"outlinewidth\":0,\"ticks\":\"\"}}}],\"scatter3d\":[{\"type\":\"scatter3d\",\"line\":{\"colorbar\":{\"outlinewidth\":0,\"ticks\":\"\"}},\"marker\":{\"colorbar\":{\"outlinewidth\":0,\"ticks\":\"\"}}}],\"scattermapbox\":[{\"type\":\"scattermapbox\",\"marker\":{\"colorbar\":{\"outlinewidth\":0,\"ticks\":\"\"}}}],\"scatterternary\":[{\"type\":\"scatterternary\",\"marker\":{\"colorbar\":{\"outlinewidth\":0,\"ticks\":\"\"}}}],\"scattercarpet\":[{\"type\":\"scattercarpet\",\"marker\":{\"colorbar\":{\"outlinewidth\":0,\"ticks\":\"\"}}}],\"carpet\":[{\"aaxis\":{\"endlinecolor\":\"#2a3f5f\",\"gridcolor\":\"white\",\"linecolor\":\"white\",\"minorgridcolor\":\"white\",\"startlinecolor\":\"#2a3f5f\"},\"baxis\":{\"endlinecolor\":\"#2a3f5f\",\"gridcolor\":\"white\",\"linecolor\":\"white\",\"minorgridcolor\":\"white\",\"startlinecolor\":\"#2a3f5f\"},\"type\":\"carpet\"}],\"table\":[{\"cells\":{\"fill\":{\"color\":\"#EBF0F8\"},\"line\":{\"color\":\"white\"}},\"header\":{\"fill\":{\"color\":\"#C8D4E3\"},\"line\":{\"color\":\"white\"}},\"type\":\"table\"}],\"barpolar\":[{\"marker\":{\"line\":{\"color\":\"#E5ECF6\",\"width\":0.5},\"pattern\":{\"fillmode\":\"overlay\",\"size\":10,\"solidity\":0.2}},\"type\":\"barpolar\"}],\"pie\":[{\"automargin\":true,\"type\":\"pie\"}]},\"layout\":{\"autotypenumbers\":\"strict\",\"colorway\":[\"#636efa\",\"#EF553B\",\"#00cc96\",\"#ab63fa\",\"#FFA15A\",\"#19d3f3\",\"#FF6692\",\"#B6E880\",\"#FF97FF\",\"#FECB52\"],\"font\":{\"color\":\"#2a3f5f\"},\"hovermode\":\"closest\",\"hoverlabel\":{\"align\":\"left\"},\"paper_bgcolor\":\"white\",\"plot_bgcolor\":\"#E5ECF6\",\"polar\":{\"bgcolor\":\"#E5ECF6\",\"angularaxis\":{\"gridcolor\":\"white\",\"linecolor\":\"white\",\"ticks\":\"\"},\"radialaxis\":{\"gridcolor\":\"white\",\"linecolor\":\"white\",\"ticks\":\"\"}},\"ternary\":{\"bgcolor\":\"#E5ECF6\",\"aaxis\":{\"gridcolor\":\"white\",\"linecolor\":\"white\",\"ticks\":\"\"},\"baxis\":{\"gridcolor\":\"white\",\"linecolor\":\"white\",\"ticks\":\"\"},\"caxis\":{\"gridcolor\":\"white\",\"linecolor\":\"white\",\"ticks\":\"\"}},\"coloraxis\":{\"colorbar\":{\"outlinewidth\":0,\"ticks\":\"\"}},\"colorscale\":{\"sequential\":[[0.0,\"#0d0887\"],[0.1111111111111111,\"#46039f\"],[0.2222222222222222,\"#7201a8\"],[0.3333333333333333,\"#9c179e\"],[0.4444444444444444,\"#bd3786\"],[0.5555555555555556,\"#d8576b\"],[0.6666666666666666,\"#ed7953\"],[0.7777777777777778,\"#fb9f3a\"],[0.8888888888888888,\"#fdca26\"],[1.0,\"#f0f921\"]],\"sequentialminus\":[[0.0,\"#0d0887\"],[0.1111111111111111,\"#46039f\"],[0.2222222222222222,\"#7201a8\"],[0.3333333333333333,\"#9c179e\"],[0.4444444444444444,\"#bd3786\"],[0.5555555555555556,\"#d8576b\"],[0.6666666666666666,\"#ed7953\"],[0.7777777777777778,\"#fb9f3a\"],[0.8888888888888888,\"#fdca26\"],[1.0,\"#f0f921\"]],\"diverging\":[[0,\"#8e0152\"],[0.1,\"#c51b7d\"],[0.2,\"#de77ae\"],[0.3,\"#f1b6da\"],[0.4,\"#fde0ef\"],[0.5,\"#f7f7f7\"],[0.6,\"#e6f5d0\"],[0.7,\"#b8e186\"],[0.8,\"#7fbc41\"],[0.9,\"#4d9221\"],[1,\"#276419\"]]},\"xaxis\":{\"gridcolor\":\"white\",\"linecolor\":\"white\",\"ticks\":\"\",\"title\":{\"standoff\":15},\"zerolinecolor\":\"white\",\"automargin\":true,\"zerolinewidth\":2},\"yaxis\":{\"gridcolor\":\"white\",\"linecolor\":\"white\",\"ticks\":\"\",\"title\":{\"standoff\":15},\"zerolinecolor\":\"white\",\"automargin\":true,\"zerolinewidth\":2},\"scene\":{\"xaxis\":{\"backgroundcolor\":\"#E5ECF6\",\"gridcolor\":\"white\",\"linecolor\":\"white\",\"showbackground\":true,\"ticks\":\"\",\"zerolinecolor\":\"white\",\"gridwidth\":2},\"yaxis\":{\"backgroundcolor\":\"#E5ECF6\",\"gridcolor\":\"white\",\"linecolor\":\"white\",\"showbackground\":true,\"ticks\":\"\",\"zerolinecolor\":\"white\",\"gridwidth\":2},\"zaxis\":{\"backgroundcolor\":\"#E5ECF6\",\"gridcolor\":\"white\",\"linecolor\":\"white\",\"showbackground\":true,\"ticks\":\"\",\"zerolinecolor\":\"white\",\"gridwidth\":2}},\"shapedefaults\":{\"line\":{\"color\":\"#2a3f5f\"}},\"annotationdefaults\":{\"arrowcolor\":\"#2a3f5f\",\"arrowhead\":0,\"arrowwidth\":1},\"geo\":{\"bgcolor\":\"white\",\"landcolor\":\"#E5ECF6\",\"subunitcolor\":\"white\",\"showland\":true,\"showlakes\":true,\"lakecolor\":\"white\"},\"title\":{\"x\":0.05},\"mapbox\":{\"style\":\"light\"}}}},                        {\"responsive\": true}                    ).then(function(){\n",
              "                            \n",
              "var gd = document.getElementById('09efba2a-fb9c-4813-b477-f022d9431016');\n",
              "var x = new MutationObserver(function (mutations, observer) {{\n",
              "        var display = window.getComputedStyle(gd).display;\n",
              "        if (!display || display === 'none') {{\n",
              "            console.log([gd, 'removed!']);\n",
              "            Plotly.purge(gd);\n",
              "            observer.disconnect();\n",
              "        }}\n",
              "}});\n",
              "\n",
              "// Listen for the removal of the full notebook cells\n",
              "var notebookContainer = gd.closest('#notebook-container');\n",
              "if (notebookContainer) {{\n",
              "    x.observe(notebookContainer, {childList: true});\n",
              "}}\n",
              "\n",
              "// Listen for the clearing of the current output cell\n",
              "var outputEl = gd.closest('.output');\n",
              "if (outputEl) {{\n",
              "    x.observe(outputEl, {childList: true});\n",
              "}}\n",
              "\n",
              "                        })                };                            </script>        </div>\n",
              "</body>\n",
              "</html>"
            ]
          },
          "metadata": {}
        }
      ]
    },
    {
      "cell_type": "markdown",
      "source": [
        "# SQLite Database Operations"
      ],
      "metadata": {
        "id": "YbivWjpdtDsV"
      }
    },
    {
      "cell_type": "code",
      "source": [
        "conn = sqlite3.connect('health.db')\n",
        "c = conn.cursor()"
      ],
      "metadata": {
        "id": "s8fwUxAfst-i"
      },
      "execution_count": 135,
      "outputs": []
    },
    {
      "cell_type": "markdown",
      "source": [
        "### Manual table creation"
      ],
      "metadata": {
        "id": "w2KlnVi1xENl"
      }
    },
    {
      "cell_type": "code",
      "source": [
        "c.execute('''\n",
        "              CREATE TABLE msqCharges7\n",
        "                    (\n",
        "                      Charge_description text,\n",
        "                      Department_name text,\n",
        "                      Rate_Charged real,\n",
        "                      PaidClaim real,\n",
        "                      LostRevenue real\n",
        "                    );\n",
        "          ''')\n",
        "conn.commit()"
      ],
      "metadata": {
        "id": "FpjBbVqXvqs6"
      },
      "execution_count": null,
      "outputs": []
    },
    {
      "cell_type": "code",
      "source": [
        "c.execute('''\n",
        "\n",
        "  SELECT name\n",
        "  FROM sqlite_master\n",
        "  WHERE type='table';\n",
        "   ''')\n",
        "print(c.fetchall())"
      ],
      "metadata": {
        "colab": {
          "base_uri": "https://localhost:8080/"
        },
        "id": "MICnE_cKwxZa",
        "outputId": "d5e0d3f1-dcdb-4e1b-81ba-00fa3841f3e7"
      },
      "execution_count": null,
      "outputs": [
        {
          "output_type": "stream",
          "name": "stdout",
          "text": [
            "[('msqCharges1',), ('msqCharges',), ('msqCharges2',), ('msqCharges3',), ('msqCharges4',), ('msqCharges5',), ('msqCharges5db',), ('msq_database',), ('msqCharges6',), ('msqCharges7',)]\n"
          ]
        }
      ]
    },
    {
      "cell_type": "code",
      "source": [
        "sql_query = '''\n",
        "INSERT INTO msqCharges7\n",
        "  (\n",
        "  'Charge_description',\n",
        "  'Department_name',\n",
        "  'Rate_Charged',\n",
        "  'PaidClaim',\n",
        "  'LostRevenue'\n",
        ")\n",
        "values\n",
        "  (\n",
        "  'Mount Sinai Queens',\n",
        "  'Outpatient Surgery',\n",
        "   10000,\n",
        "   5000,\n",
        "   5000\n",
        ");\n",
        "\n",
        "'''\n",
        "print(sql_query)"
      ],
      "metadata": {
        "colab": {
          "base_uri": "https://localhost:8080/"
        },
        "id": "UNf2cnKyzjul",
        "outputId": "0e0eca48-e78b-4ac5-aa47-c7b698325fb8"
      },
      "execution_count": null,
      "outputs": [
        {
          "output_type": "stream",
          "name": "stdout",
          "text": [
            "\n",
            "INSERT INTO msqCharges7\n",
            "  (\n",
            "  'Charge_description',\n",
            "  'Department_name',\n",
            "  'Rate_Charged',\n",
            "  'PaidClaim',\n",
            "  'LostRevenue'\n",
            ")\n",
            "values\n",
            "  (\n",
            "  'Mount Sinai Queens',\n",
            "  'Outpatient Surgery',\n",
            "   10000,\n",
            "   5000,\n",
            "   5000\n",
            ");\n",
            "\n",
            "\n"
          ]
        }
      ]
    },
    {
      "cell_type": "code",
      "source": [
        "c.execute(sql_query)\n",
        "conn.commit()"
      ],
      "metadata": {
        "id": "QZPLVYsR0yLy"
      },
      "execution_count": null,
      "outputs": []
    },
    {
      "cell_type": "code",
      "source": [
        "sql_query_2 = '''\n",
        "\n",
        "select *\n",
        "from msqCharges7;\n",
        "\n",
        "'''\n",
        "\n",
        "c.execute(sql_query_2)\n",
        "print(c.fetchall())"
      ],
      "metadata": {
        "colab": {
          "base_uri": "https://localhost:8080/"
        },
        "id": "197iISNd1hwm",
        "outputId": "fa890638-de42-4df3-c9ef-6942d0127591"
      },
      "execution_count": null,
      "outputs": [
        {
          "output_type": "stream",
          "name": "stdout",
          "text": [
            "[('Mount Sinai Queens', 'Outpatient Surgery', 10000.0, 5000.0, 5000.0)]\n"
          ]
        }
      ]
    },
    {
      "cell_type": "code",
      "source": [
        "msqCharges7db = pd.read_sql('select * from msqCharges7;', conn)"
      ],
      "metadata": {
        "id": "NwvajQFo128B"
      },
      "execution_count": null,
      "outputs": []
    },
    {
      "cell_type": "code",
      "source": [
        "msqCharges7db.to_sql('msqCharges57db', conn, if_exists=\"replace\")"
      ],
      "metadata": {
        "colab": {
          "base_uri": "https://localhost:8080/"
        },
        "id": "P36uXDJa19BC",
        "outputId": "be17a59a-3985-4fb7-f7a4-262e12ba42e6"
      },
      "execution_count": null,
      "outputs": [
        {
          "output_type": "execute_result",
          "data": {
            "text/plain": [
              "1"
            ]
          },
          "metadata": {},
          "execution_count": 194
        }
      ]
    },
    {
      "cell_type": "code",
      "source": [
        "query = '''\n",
        "select *\n",
        " from msqCharges7\n",
        ";\n",
        " '''\n",
        "\n",
        "response = pd.read_sql(query, conn)\n",
        "response"
      ],
      "metadata": {
        "colab": {
          "base_uri": "https://localhost:8080/",
          "height": 80
        },
        "id": "rdFaeTK_2b6c",
        "outputId": "9e4cbfa0-eb18-4d50-943d-c2ca746209c6"
      },
      "execution_count": null,
      "outputs": [
        {
          "output_type": "execute_result",
          "data": {
            "text/plain": [
              "   Charge_description     Department_name  Rate_Charged  PaidClaim  \\\n",
              "0  Mount Sinai Queens  Outpatient Surgery       10000.0     5000.0   \n",
              "\n",
              "   LostRevenue  \n",
              "0       5000.0  "
            ],
            "text/html": [
              "\n",
              "  <div id=\"df-27950d52-775f-44a2-9f5e-8130edea2a85\" class=\"colab-df-container\">\n",
              "    <div>\n",
              "<style scoped>\n",
              "    .dataframe tbody tr th:only-of-type {\n",
              "        vertical-align: middle;\n",
              "    }\n",
              "\n",
              "    .dataframe tbody tr th {\n",
              "        vertical-align: top;\n",
              "    }\n",
              "\n",
              "    .dataframe thead th {\n",
              "        text-align: right;\n",
              "    }\n",
              "</style>\n",
              "<table border=\"1\" class=\"dataframe\">\n",
              "  <thead>\n",
              "    <tr style=\"text-align: right;\">\n",
              "      <th></th>\n",
              "      <th>Charge_description</th>\n",
              "      <th>Department_name</th>\n",
              "      <th>Rate_Charged</th>\n",
              "      <th>PaidClaim</th>\n",
              "      <th>LostRevenue</th>\n",
              "    </tr>\n",
              "  </thead>\n",
              "  <tbody>\n",
              "    <tr>\n",
              "      <th>0</th>\n",
              "      <td>Mount Sinai Queens</td>\n",
              "      <td>Outpatient Surgery</td>\n",
              "      <td>10000.0</td>\n",
              "      <td>5000.0</td>\n",
              "      <td>5000.0</td>\n",
              "    </tr>\n",
              "  </tbody>\n",
              "</table>\n",
              "</div>\n",
              "    <div class=\"colab-df-buttons\">\n",
              "\n",
              "  <div class=\"colab-df-container\">\n",
              "    <button class=\"colab-df-convert\" onclick=\"convertToInteractive('df-27950d52-775f-44a2-9f5e-8130edea2a85')\"\n",
              "            title=\"Convert this dataframe to an interactive table.\"\n",
              "            style=\"display:none;\">\n",
              "\n",
              "  <svg xmlns=\"http://www.w3.org/2000/svg\" height=\"24px\" viewBox=\"0 -960 960 960\">\n",
              "    <path d=\"M120-120v-720h720v720H120Zm60-500h600v-160H180v160Zm220 220h160v-160H400v160Zm0 220h160v-160H400v160ZM180-400h160v-160H180v160Zm440 0h160v-160H620v160ZM180-180h160v-160H180v160Zm440 0h160v-160H620v160Z\"/>\n",
              "  </svg>\n",
              "    </button>\n",
              "\n",
              "  <style>\n",
              "    .colab-df-container {\n",
              "      display:flex;\n",
              "      gap: 12px;\n",
              "    }\n",
              "\n",
              "    .colab-df-convert {\n",
              "      background-color: #E8F0FE;\n",
              "      border: none;\n",
              "      border-radius: 50%;\n",
              "      cursor: pointer;\n",
              "      display: none;\n",
              "      fill: #1967D2;\n",
              "      height: 32px;\n",
              "      padding: 0 0 0 0;\n",
              "      width: 32px;\n",
              "    }\n",
              "\n",
              "    .colab-df-convert:hover {\n",
              "      background-color: #E2EBFA;\n",
              "      box-shadow: 0px 1px 2px rgba(60, 64, 67, 0.3), 0px 1px 3px 1px rgba(60, 64, 67, 0.15);\n",
              "      fill: #174EA6;\n",
              "    }\n",
              "\n",
              "    .colab-df-buttons div {\n",
              "      margin-bottom: 4px;\n",
              "    }\n",
              "\n",
              "    [theme=dark] .colab-df-convert {\n",
              "      background-color: #3B4455;\n",
              "      fill: #D2E3FC;\n",
              "    }\n",
              "\n",
              "    [theme=dark] .colab-df-convert:hover {\n",
              "      background-color: #434B5C;\n",
              "      box-shadow: 0px 1px 3px 1px rgba(0, 0, 0, 0.15);\n",
              "      filter: drop-shadow(0px 1px 2px rgba(0, 0, 0, 0.3));\n",
              "      fill: #FFFFFF;\n",
              "    }\n",
              "  </style>\n",
              "\n",
              "    <script>\n",
              "      const buttonEl =\n",
              "        document.querySelector('#df-27950d52-775f-44a2-9f5e-8130edea2a85 button.colab-df-convert');\n",
              "      buttonEl.style.display =\n",
              "        google.colab.kernel.accessAllowed ? 'block' : 'none';\n",
              "\n",
              "      async function convertToInteractive(key) {\n",
              "        const element = document.querySelector('#df-27950d52-775f-44a2-9f5e-8130edea2a85');\n",
              "        const dataTable =\n",
              "          await google.colab.kernel.invokeFunction('convertToInteractive',\n",
              "                                                    [key], {});\n",
              "        if (!dataTable) return;\n",
              "\n",
              "        const docLinkHtml = 'Like what you see? Visit the ' +\n",
              "          '<a target=\"_blank\" href=https://colab.research.google.com/notebooks/data_table.ipynb>data table notebook</a>'\n",
              "          + ' to learn more about interactive tables.';\n",
              "        element.innerHTML = '';\n",
              "        dataTable['output_type'] = 'display_data';\n",
              "        await google.colab.output.renderOutput(dataTable, element);\n",
              "        const docLink = document.createElement('div');\n",
              "        docLink.innerHTML = docLinkHtml;\n",
              "        element.appendChild(docLink);\n",
              "      }\n",
              "    </script>\n",
              "  </div>\n",
              "\n",
              "    </div>\n",
              "  </div>\n"
            ]
          },
          "metadata": {},
          "execution_count": 195
        }
      ]
    },
    {
      "cell_type": "markdown",
      "source": [
        "### Automatic table creation"
      ],
      "metadata": {
        "id": "FoV0i0xRxSIx"
      }
    },
    {
      "cell_type": "code",
      "source": [
        "nyp_db = pd.read_csv('/content/newdb_NewYorkPresbyterianHospital_standardcharges.csv')"
      ],
      "metadata": {
        "id": "WbVjk-v03eIQ"
      },
      "execution_count": 183,
      "outputs": []
    },
    {
      "cell_type": "code",
      "source": [
        "nyp_db.to_sql('nyp_db', conn, if_exists='append', index=False)"
      ],
      "metadata": {
        "colab": {
          "base_uri": "https://localhost:8080/"
        },
        "id": "Rkti2bat3pir",
        "outputId": "b5dff0c8-10e1-4965-f03a-8017b05d71a1"
      },
      "execution_count": 184,
      "outputs": [
        {
          "output_type": "execute_result",
          "data": {
            "text/plain": [
              "6193"
            ]
          },
          "metadata": {},
          "execution_count": 184
        }
      ]
    },
    {
      "cell_type": "code",
      "source": [
        "query = '''\n",
        "select *\n",
        " from nyp_db\n",
        ";\n",
        " '''\n",
        "\n",
        "response2 = pd.read_sql(query, conn)\n",
        "response2"
      ],
      "metadata": {
        "colab": {
          "base_uri": "https://localhost:8080/",
          "height": 1000
        },
        "id": "mt24bh-L4yy3",
        "outputId": "44cfa6f5-be71-4dd8-b601-546b4176f43b"
      },
      "execution_count": 185,
      "outputs": [
        {
          "output_type": "execute_result",
          "data": {
            "text/plain": [
              "      Unnamed: 0 CPTDRGCode  \\\n",
              "0              0      96360   \n",
              "1              1      96361   \n",
              "2              2      96365   \n",
              "3              3      96367   \n",
              "4              4      96368   \n",
              "...          ...        ...   \n",
              "6188        6188        982   \n",
              "6189        6189        983   \n",
              "6190        6190        987   \n",
              "6191        6191        988   \n",
              "6192        6192        989   \n",
              "\n",
              "                                            Description  Rev Code  \\\n",
              "0           HC IV INFUSION HYDRATION INITIAL 31 MIN-1HR      0260   \n",
              "1               HC IV INFUSION HYDRATION FLUIDS ADDL HR      0260   \n",
              "2     HC IV INFUSION FOR THER/PROPH/DIAG INITIAL UP ...      0260   \n",
              "3     HC IV INF THER/PROPH/DIAG ADDL SEQ NEW DRUG UP...      0260   \n",
              "4         HC IV INFUSION FOR THER/PROPH/DIAG CONCURRENT      0260   \n",
              "...                                                 ...       ...   \n",
              "6188  EXTENSIVE O.R. PROCEDURES UNRELATED TO PRINCIP...  Multiple   \n",
              "6189  EXTENSIVE O.R. PROCEDURES UNRELATED TO PRINCIP...  Multiple   \n",
              "6190  NON-EXTENSIVE O.R. PROCEDURES UNRELATED TO PRI...  Multiple   \n",
              "6191  NON-EXTENSIVE O.R. PROCEDURES UNRELATED TO PRI...  Multiple   \n",
              "6192  NON-EXTENSIVE O.R. PROCEDURES UNRELATED TO PRI...  Multiple   \n",
              "\n",
              "                 Inpt_Oupt  Gross Charges  Discounted Cash Price        Aetna  \\\n",
              "0     Inpatient/Outpatient     866.000000             866.000000      641.706   \n",
              "1     Inpatient/Outpatient     358.000000             358.000000      265.278   \n",
              "2     Inpatient/Outpatient    1397.000000            1397.000000     1035.177   \n",
              "3     Inpatient/Outpatient     480.000000             480.000000       355.68   \n",
              "4     Inpatient/Outpatient     480.000000             480.000000       355.68   \n",
              "...                    ...            ...                    ...          ...   \n",
              "6188             Inpatient  184095.129020          184095.129020   86723.5232   \n",
              "6189             Inpatient   85385.941857           85385.941857   57748.8352   \n",
              "6190             Inpatient  411665.999955          411665.999955  114736.9984   \n",
              "6191             Inpatient  126522.871140          126522.871140   58654.7264   \n",
              "6192             Inpatient   77081.639496           77081.639496   38116.5824   \n",
              "\n",
              "              Cigna Empire Blue Cross Blue Shield  ...  \\\n",
              "0           494.486                        640.84  ...   \n",
              "1           204.418                        264.92  ...   \n",
              "2           797.687                       1033.78  ...   \n",
              "3            274.08                         355.2  ...   \n",
              "4            274.08                         355.2  ...   \n",
              "...             ...                           ...  ...   \n",
              "6188   98911.694706                      82299.84  ...   \n",
              "6189   65864.888166              63931.4550933333  ...   \n",
              "6190  130862.199072                 214294.876425  ...   \n",
              "6191   66898.093812                    91907.6928  ...   \n",
              "6192   43473.507792                   44463.77208  ...   \n",
              "\n",
              "     Consumer Health Network              Devon             Equian  \\\n",
              "0                   393.5104           393.5104           393.5104   \n",
              "1                   162.6752           162.6752           162.6752   \n",
              "2                   634.7968           634.7968           634.7968   \n",
              "3                    218.112            218.112            218.112   \n",
              "4                    218.112            218.112            218.112   \n",
              "...                      ...                ...                ...   \n",
              "6188        83652.8266268735   83652.8266268735   83652.8266268735   \n",
              "6189        38799.3719796408   38799.3719796408   38799.3719796408   \n",
              "6190       187061.0303797436  187061.0303797436  187061.0303797436   \n",
              "6191        57491.9926458445   57491.9926458445   57491.9926458445   \n",
              "6192        35025.8969869067   35025.8969869067   35025.8969869067   \n",
              "\n",
              "           First Health          Magnacare Multiplan_Beechstreet_PHCS  \\\n",
              "0              393.5104           393.5104                   393.5104   \n",
              "1              162.6752           162.6752                   162.6752   \n",
              "2              634.7968           634.7968                   634.7968   \n",
              "3               218.112            218.112                    218.112   \n",
              "4               218.112            218.112                    218.112   \n",
              "...                 ...                ...                        ...   \n",
              "6188   83652.8266268735   83652.8266268735           83652.8266268735   \n",
              "6189   38799.3719796408   38799.3719796408           38799.3719796408   \n",
              "6190  187061.0303797436  187061.0303797436          187061.0303797436   \n",
              "6191   57491.9926458445   57491.9926458445           57491.9926458445   \n",
              "6192   35025.8969869067   35025.8969869067           35025.8969869067   \n",
              "\n",
              "                    QHM          Worldwide Minimum Negotiated Charge  \\\n",
              "0              393.5104           393.5104                253.048250   \n",
              "1              162.6752           162.6752                 51.903250   \n",
              "2              634.7968           634.7968                253.048250   \n",
              "3               218.112            218.112                 82.650750   \n",
              "4               218.112            218.112                156.982800   \n",
              "...                 ...                ...                       ...   \n",
              "6188   83652.8266268735   83652.8266268735              12561.144027   \n",
              "6189   38799.3719796408   38799.3719796408               7833.746854   \n",
              "6190  187061.0303797436  187061.0303797436              21016.798830   \n",
              "6191   57491.9926458445   57491.9926458445              10429.428059   \n",
              "6192   35025.8969869067   35025.8969869067               5995.071552   \n",
              "\n",
              "     Maximum Negotiated Charge  \n",
              "0                  1388.424000  \n",
              "1                  1990.891341  \n",
              "2                  1475.508000  \n",
              "3                  1325.120000  \n",
              "4                  1325.120000  \n",
              "...                        ...  \n",
              "6188             115129.891480  \n",
              "6189              76664.518280  \n",
              "6190             214294.876425  \n",
              "6191              91907.692800  \n",
              "6192              50601.703360  \n",
              "\n",
              "[6193 rows x 48 columns]"
            ],
            "text/html": [
              "\n",
              "  <div id=\"df-d0edcc14-52f4-47c7-a5b0-ad67a7646aa4\" class=\"colab-df-container\">\n",
              "    <div>\n",
              "<style scoped>\n",
              "    .dataframe tbody tr th:only-of-type {\n",
              "        vertical-align: middle;\n",
              "    }\n",
              "\n",
              "    .dataframe tbody tr th {\n",
              "        vertical-align: top;\n",
              "    }\n",
              "\n",
              "    .dataframe thead th {\n",
              "        text-align: right;\n",
              "    }\n",
              "</style>\n",
              "<table border=\"1\" class=\"dataframe\">\n",
              "  <thead>\n",
              "    <tr style=\"text-align: right;\">\n",
              "      <th></th>\n",
              "      <th>Unnamed: 0</th>\n",
              "      <th>CPTDRGCode</th>\n",
              "      <th>Description</th>\n",
              "      <th>Rev Code</th>\n",
              "      <th>Inpt_Oupt</th>\n",
              "      <th>Gross Charges</th>\n",
              "      <th>Discounted Cash Price</th>\n",
              "      <th>Aetna</th>\n",
              "      <th>Cigna</th>\n",
              "      <th>Empire Blue Cross Blue Shield</th>\n",
              "      <th>...</th>\n",
              "      <th>Consumer Health Network</th>\n",
              "      <th>Devon</th>\n",
              "      <th>Equian</th>\n",
              "      <th>First Health</th>\n",
              "      <th>Magnacare</th>\n",
              "      <th>Multiplan_Beechstreet_PHCS</th>\n",
              "      <th>QHM</th>\n",
              "      <th>Worldwide</th>\n",
              "      <th>Minimum Negotiated Charge</th>\n",
              "      <th>Maximum Negotiated Charge</th>\n",
              "    </tr>\n",
              "  </thead>\n",
              "  <tbody>\n",
              "    <tr>\n",
              "      <th>0</th>\n",
              "      <td>0</td>\n",
              "      <td>96360</td>\n",
              "      <td>HC IV INFUSION HYDRATION INITIAL 31 MIN-1HR</td>\n",
              "      <td>0260</td>\n",
              "      <td>Inpatient/Outpatient</td>\n",
              "      <td>866.000000</td>\n",
              "      <td>866.000000</td>\n",
              "      <td>641.706</td>\n",
              "      <td>494.486</td>\n",
              "      <td>640.84</td>\n",
              "      <td>...</td>\n",
              "      <td>393.5104</td>\n",
              "      <td>393.5104</td>\n",
              "      <td>393.5104</td>\n",
              "      <td>393.5104</td>\n",
              "      <td>393.5104</td>\n",
              "      <td>393.5104</td>\n",
              "      <td>393.5104</td>\n",
              "      <td>393.5104</td>\n",
              "      <td>253.048250</td>\n",
              "      <td>1388.424000</td>\n",
              "    </tr>\n",
              "    <tr>\n",
              "      <th>1</th>\n",
              "      <td>1</td>\n",
              "      <td>96361</td>\n",
              "      <td>HC IV INFUSION HYDRATION FLUIDS ADDL HR</td>\n",
              "      <td>0260</td>\n",
              "      <td>Inpatient/Outpatient</td>\n",
              "      <td>358.000000</td>\n",
              "      <td>358.000000</td>\n",
              "      <td>265.278</td>\n",
              "      <td>204.418</td>\n",
              "      <td>264.92</td>\n",
              "      <td>...</td>\n",
              "      <td>162.6752</td>\n",
              "      <td>162.6752</td>\n",
              "      <td>162.6752</td>\n",
              "      <td>162.6752</td>\n",
              "      <td>162.6752</td>\n",
              "      <td>162.6752</td>\n",
              "      <td>162.6752</td>\n",
              "      <td>162.6752</td>\n",
              "      <td>51.903250</td>\n",
              "      <td>1990.891341</td>\n",
              "    </tr>\n",
              "    <tr>\n",
              "      <th>2</th>\n",
              "      <td>2</td>\n",
              "      <td>96365</td>\n",
              "      <td>HC IV INFUSION FOR THER/PROPH/DIAG INITIAL UP ...</td>\n",
              "      <td>0260</td>\n",
              "      <td>Inpatient/Outpatient</td>\n",
              "      <td>1397.000000</td>\n",
              "      <td>1397.000000</td>\n",
              "      <td>1035.177</td>\n",
              "      <td>797.687</td>\n",
              "      <td>1033.78</td>\n",
              "      <td>...</td>\n",
              "      <td>634.7968</td>\n",
              "      <td>634.7968</td>\n",
              "      <td>634.7968</td>\n",
              "      <td>634.7968</td>\n",
              "      <td>634.7968</td>\n",
              "      <td>634.7968</td>\n",
              "      <td>634.7968</td>\n",
              "      <td>634.7968</td>\n",
              "      <td>253.048250</td>\n",
              "      <td>1475.508000</td>\n",
              "    </tr>\n",
              "    <tr>\n",
              "      <th>3</th>\n",
              "      <td>3</td>\n",
              "      <td>96367</td>\n",
              "      <td>HC IV INF THER/PROPH/DIAG ADDL SEQ NEW DRUG UP...</td>\n",
              "      <td>0260</td>\n",
              "      <td>Inpatient/Outpatient</td>\n",
              "      <td>480.000000</td>\n",
              "      <td>480.000000</td>\n",
              "      <td>355.68</td>\n",
              "      <td>274.08</td>\n",
              "      <td>355.2</td>\n",
              "      <td>...</td>\n",
              "      <td>218.112</td>\n",
              "      <td>218.112</td>\n",
              "      <td>218.112</td>\n",
              "      <td>218.112</td>\n",
              "      <td>218.112</td>\n",
              "      <td>218.112</td>\n",
              "      <td>218.112</td>\n",
              "      <td>218.112</td>\n",
              "      <td>82.650750</td>\n",
              "      <td>1325.120000</td>\n",
              "    </tr>\n",
              "    <tr>\n",
              "      <th>4</th>\n",
              "      <td>4</td>\n",
              "      <td>96368</td>\n",
              "      <td>HC IV INFUSION FOR THER/PROPH/DIAG CONCURRENT</td>\n",
              "      <td>0260</td>\n",
              "      <td>Inpatient/Outpatient</td>\n",
              "      <td>480.000000</td>\n",
              "      <td>480.000000</td>\n",
              "      <td>355.68</td>\n",
              "      <td>274.08</td>\n",
              "      <td>355.2</td>\n",
              "      <td>...</td>\n",
              "      <td>218.112</td>\n",
              "      <td>218.112</td>\n",
              "      <td>218.112</td>\n",
              "      <td>218.112</td>\n",
              "      <td>218.112</td>\n",
              "      <td>218.112</td>\n",
              "      <td>218.112</td>\n",
              "      <td>218.112</td>\n",
              "      <td>156.982800</td>\n",
              "      <td>1325.120000</td>\n",
              "    </tr>\n",
              "    <tr>\n",
              "      <th>...</th>\n",
              "      <td>...</td>\n",
              "      <td>...</td>\n",
              "      <td>...</td>\n",
              "      <td>...</td>\n",
              "      <td>...</td>\n",
              "      <td>...</td>\n",
              "      <td>...</td>\n",
              "      <td>...</td>\n",
              "      <td>...</td>\n",
              "      <td>...</td>\n",
              "      <td>...</td>\n",
              "      <td>...</td>\n",
              "      <td>...</td>\n",
              "      <td>...</td>\n",
              "      <td>...</td>\n",
              "      <td>...</td>\n",
              "      <td>...</td>\n",
              "      <td>...</td>\n",
              "      <td>...</td>\n",
              "      <td>...</td>\n",
              "      <td>...</td>\n",
              "    </tr>\n",
              "    <tr>\n",
              "      <th>6188</th>\n",
              "      <td>6188</td>\n",
              "      <td>982</td>\n",
              "      <td>EXTENSIVE O.R. PROCEDURES UNRELATED TO PRINCIP...</td>\n",
              "      <td>Multiple</td>\n",
              "      <td>Inpatient</td>\n",
              "      <td>184095.129020</td>\n",
              "      <td>184095.129020</td>\n",
              "      <td>86723.5232</td>\n",
              "      <td>98911.694706</td>\n",
              "      <td>82299.84</td>\n",
              "      <td>...</td>\n",
              "      <td>83652.8266268735</td>\n",
              "      <td>83652.8266268735</td>\n",
              "      <td>83652.8266268735</td>\n",
              "      <td>83652.8266268735</td>\n",
              "      <td>83652.8266268735</td>\n",
              "      <td>83652.8266268735</td>\n",
              "      <td>83652.8266268735</td>\n",
              "      <td>83652.8266268735</td>\n",
              "      <td>12561.144027</td>\n",
              "      <td>115129.891480</td>\n",
              "    </tr>\n",
              "    <tr>\n",
              "      <th>6189</th>\n",
              "      <td>6189</td>\n",
              "      <td>983</td>\n",
              "      <td>EXTENSIVE O.R. PROCEDURES UNRELATED TO PRINCIP...</td>\n",
              "      <td>Multiple</td>\n",
              "      <td>Inpatient</td>\n",
              "      <td>85385.941857</td>\n",
              "      <td>85385.941857</td>\n",
              "      <td>57748.8352</td>\n",
              "      <td>65864.888166</td>\n",
              "      <td>63931.4550933333</td>\n",
              "      <td>...</td>\n",
              "      <td>38799.3719796408</td>\n",
              "      <td>38799.3719796408</td>\n",
              "      <td>38799.3719796408</td>\n",
              "      <td>38799.3719796408</td>\n",
              "      <td>38799.3719796408</td>\n",
              "      <td>38799.3719796408</td>\n",
              "      <td>38799.3719796408</td>\n",
              "      <td>38799.3719796408</td>\n",
              "      <td>7833.746854</td>\n",
              "      <td>76664.518280</td>\n",
              "    </tr>\n",
              "    <tr>\n",
              "      <th>6190</th>\n",
              "      <td>6190</td>\n",
              "      <td>987</td>\n",
              "      <td>NON-EXTENSIVE O.R. PROCEDURES UNRELATED TO PRI...</td>\n",
              "      <td>Multiple</td>\n",
              "      <td>Inpatient</td>\n",
              "      <td>411665.999955</td>\n",
              "      <td>411665.999955</td>\n",
              "      <td>114736.9984</td>\n",
              "      <td>130862.199072</td>\n",
              "      <td>214294.876425</td>\n",
              "      <td>...</td>\n",
              "      <td>187061.0303797436</td>\n",
              "      <td>187061.0303797436</td>\n",
              "      <td>187061.0303797436</td>\n",
              "      <td>187061.0303797436</td>\n",
              "      <td>187061.0303797436</td>\n",
              "      <td>187061.0303797436</td>\n",
              "      <td>187061.0303797436</td>\n",
              "      <td>187061.0303797436</td>\n",
              "      <td>21016.798830</td>\n",
              "      <td>214294.876425</td>\n",
              "    </tr>\n",
              "    <tr>\n",
              "      <th>6191</th>\n",
              "      <td>6191</td>\n",
              "      <td>988</td>\n",
              "      <td>NON-EXTENSIVE O.R. PROCEDURES UNRELATED TO PRI...</td>\n",
              "      <td>Multiple</td>\n",
              "      <td>Inpatient</td>\n",
              "      <td>126522.871140</td>\n",
              "      <td>126522.871140</td>\n",
              "      <td>58654.7264</td>\n",
              "      <td>66898.093812</td>\n",
              "      <td>91907.6928</td>\n",
              "      <td>...</td>\n",
              "      <td>57491.9926458445</td>\n",
              "      <td>57491.9926458445</td>\n",
              "      <td>57491.9926458445</td>\n",
              "      <td>57491.9926458445</td>\n",
              "      <td>57491.9926458445</td>\n",
              "      <td>57491.9926458445</td>\n",
              "      <td>57491.9926458445</td>\n",
              "      <td>57491.9926458445</td>\n",
              "      <td>10429.428059</td>\n",
              "      <td>91907.692800</td>\n",
              "    </tr>\n",
              "    <tr>\n",
              "      <th>6192</th>\n",
              "      <td>6192</td>\n",
              "      <td>989</td>\n",
              "      <td>NON-EXTENSIVE O.R. PROCEDURES UNRELATED TO PRI...</td>\n",
              "      <td>Multiple</td>\n",
              "      <td>Inpatient</td>\n",
              "      <td>77081.639496</td>\n",
              "      <td>77081.639496</td>\n",
              "      <td>38116.5824</td>\n",
              "      <td>43473.507792</td>\n",
              "      <td>44463.77208</td>\n",
              "      <td>...</td>\n",
              "      <td>35025.8969869067</td>\n",
              "      <td>35025.8969869067</td>\n",
              "      <td>35025.8969869067</td>\n",
              "      <td>35025.8969869067</td>\n",
              "      <td>35025.8969869067</td>\n",
              "      <td>35025.8969869067</td>\n",
              "      <td>35025.8969869067</td>\n",
              "      <td>35025.8969869067</td>\n",
              "      <td>5995.071552</td>\n",
              "      <td>50601.703360</td>\n",
              "    </tr>\n",
              "  </tbody>\n",
              "</table>\n",
              "<p>6193 rows × 48 columns</p>\n",
              "</div>\n",
              "    <div class=\"colab-df-buttons\">\n",
              "\n",
              "  <div class=\"colab-df-container\">\n",
              "    <button class=\"colab-df-convert\" onclick=\"convertToInteractive('df-d0edcc14-52f4-47c7-a5b0-ad67a7646aa4')\"\n",
              "            title=\"Convert this dataframe to an interactive table.\"\n",
              "            style=\"display:none;\">\n",
              "\n",
              "  <svg xmlns=\"http://www.w3.org/2000/svg\" height=\"24px\" viewBox=\"0 -960 960 960\">\n",
              "    <path d=\"M120-120v-720h720v720H120Zm60-500h600v-160H180v160Zm220 220h160v-160H400v160Zm0 220h160v-160H400v160ZM180-400h160v-160H180v160Zm440 0h160v-160H620v160ZM180-180h160v-160H180v160Zm440 0h160v-160H620v160Z\"/>\n",
              "  </svg>\n",
              "    </button>\n",
              "\n",
              "  <style>\n",
              "    .colab-df-container {\n",
              "      display:flex;\n",
              "      gap: 12px;\n",
              "    }\n",
              "\n",
              "    .colab-df-convert {\n",
              "      background-color: #E8F0FE;\n",
              "      border: none;\n",
              "      border-radius: 50%;\n",
              "      cursor: pointer;\n",
              "      display: none;\n",
              "      fill: #1967D2;\n",
              "      height: 32px;\n",
              "      padding: 0 0 0 0;\n",
              "      width: 32px;\n",
              "    }\n",
              "\n",
              "    .colab-df-convert:hover {\n",
              "      background-color: #E2EBFA;\n",
              "      box-shadow: 0px 1px 2px rgba(60, 64, 67, 0.3), 0px 1px 3px 1px rgba(60, 64, 67, 0.15);\n",
              "      fill: #174EA6;\n",
              "    }\n",
              "\n",
              "    .colab-df-buttons div {\n",
              "      margin-bottom: 4px;\n",
              "    }\n",
              "\n",
              "    [theme=dark] .colab-df-convert {\n",
              "      background-color: #3B4455;\n",
              "      fill: #D2E3FC;\n",
              "    }\n",
              "\n",
              "    [theme=dark] .colab-df-convert:hover {\n",
              "      background-color: #434B5C;\n",
              "      box-shadow: 0px 1px 3px 1px rgba(0, 0, 0, 0.15);\n",
              "      filter: drop-shadow(0px 1px 2px rgba(0, 0, 0, 0.3));\n",
              "      fill: #FFFFFF;\n",
              "    }\n",
              "  </style>\n",
              "\n",
              "    <script>\n",
              "      const buttonEl =\n",
              "        document.querySelector('#df-d0edcc14-52f4-47c7-a5b0-ad67a7646aa4 button.colab-df-convert');\n",
              "      buttonEl.style.display =\n",
              "        google.colab.kernel.accessAllowed ? 'block' : 'none';\n",
              "\n",
              "      async function convertToInteractive(key) {\n",
              "        const element = document.querySelector('#df-d0edcc14-52f4-47c7-a5b0-ad67a7646aa4');\n",
              "        const dataTable =\n",
              "          await google.colab.kernel.invokeFunction('convertToInteractive',\n",
              "                                                    [key], {});\n",
              "        if (!dataTable) return;\n",
              "\n",
              "        const docLinkHtml = 'Like what you see? Visit the ' +\n",
              "          '<a target=\"_blank\" href=https://colab.research.google.com/notebooks/data_table.ipynb>data table notebook</a>'\n",
              "          + ' to learn more about interactive tables.';\n",
              "        element.innerHTML = '';\n",
              "        dataTable['output_type'] = 'display_data';\n",
              "        await google.colab.output.renderOutput(dataTable, element);\n",
              "        const docLink = document.createElement('div');\n",
              "        docLink.innerHTML = docLinkHtml;\n",
              "        element.appendChild(docLink);\n",
              "      }\n",
              "    </script>\n",
              "  </div>\n",
              "\n",
              "\n",
              "<div id=\"df-a90390a9-52c1-4b3e-8c7d-840bb3754010\">\n",
              "  <button class=\"colab-df-quickchart\" onclick=\"quickchart('df-a90390a9-52c1-4b3e-8c7d-840bb3754010')\"\n",
              "            title=\"Suggest charts.\"\n",
              "            style=\"display:none;\">\n",
              "\n",
              "<svg xmlns=\"http://www.w3.org/2000/svg\" height=\"24px\"viewBox=\"0 0 24 24\"\n",
              "     width=\"24px\">\n",
              "    <g>\n",
              "        <path d=\"M19 3H5c-1.1 0-2 .9-2 2v14c0 1.1.9 2 2 2h14c1.1 0 2-.9 2-2V5c0-1.1-.9-2-2-2zM9 17H7v-7h2v7zm4 0h-2V7h2v10zm4 0h-2v-4h2v4z\"/>\n",
              "    </g>\n",
              "</svg>\n",
              "  </button>\n",
              "\n",
              "<style>\n",
              "  .colab-df-quickchart {\n",
              "      --bg-color: #E8F0FE;\n",
              "      --fill-color: #1967D2;\n",
              "      --hover-bg-color: #E2EBFA;\n",
              "      --hover-fill-color: #174EA6;\n",
              "      --disabled-fill-color: #AAA;\n",
              "      --disabled-bg-color: #DDD;\n",
              "  }\n",
              "\n",
              "  [theme=dark] .colab-df-quickchart {\n",
              "      --bg-color: #3B4455;\n",
              "      --fill-color: #D2E3FC;\n",
              "      --hover-bg-color: #434B5C;\n",
              "      --hover-fill-color: #FFFFFF;\n",
              "      --disabled-bg-color: #3B4455;\n",
              "      --disabled-fill-color: #666;\n",
              "  }\n",
              "\n",
              "  .colab-df-quickchart {\n",
              "    background-color: var(--bg-color);\n",
              "    border: none;\n",
              "    border-radius: 50%;\n",
              "    cursor: pointer;\n",
              "    display: none;\n",
              "    fill: var(--fill-color);\n",
              "    height: 32px;\n",
              "    padding: 0;\n",
              "    width: 32px;\n",
              "  }\n",
              "\n",
              "  .colab-df-quickchart:hover {\n",
              "    background-color: var(--hover-bg-color);\n",
              "    box-shadow: 0 1px 2px rgba(60, 64, 67, 0.3), 0 1px 3px 1px rgba(60, 64, 67, 0.15);\n",
              "    fill: var(--button-hover-fill-color);\n",
              "  }\n",
              "\n",
              "  .colab-df-quickchart-complete:disabled,\n",
              "  .colab-df-quickchart-complete:disabled:hover {\n",
              "    background-color: var(--disabled-bg-color);\n",
              "    fill: var(--disabled-fill-color);\n",
              "    box-shadow: none;\n",
              "  }\n",
              "\n",
              "  .colab-df-spinner {\n",
              "    border: 2px solid var(--fill-color);\n",
              "    border-color: transparent;\n",
              "    border-bottom-color: var(--fill-color);\n",
              "    animation:\n",
              "      spin 1s steps(1) infinite;\n",
              "  }\n",
              "\n",
              "  @keyframes spin {\n",
              "    0% {\n",
              "      border-color: transparent;\n",
              "      border-bottom-color: var(--fill-color);\n",
              "      border-left-color: var(--fill-color);\n",
              "    }\n",
              "    20% {\n",
              "      border-color: transparent;\n",
              "      border-left-color: var(--fill-color);\n",
              "      border-top-color: var(--fill-color);\n",
              "    }\n",
              "    30% {\n",
              "      border-color: transparent;\n",
              "      border-left-color: var(--fill-color);\n",
              "      border-top-color: var(--fill-color);\n",
              "      border-right-color: var(--fill-color);\n",
              "    }\n",
              "    40% {\n",
              "      border-color: transparent;\n",
              "      border-right-color: var(--fill-color);\n",
              "      border-top-color: var(--fill-color);\n",
              "    }\n",
              "    60% {\n",
              "      border-color: transparent;\n",
              "      border-right-color: var(--fill-color);\n",
              "    }\n",
              "    80% {\n",
              "      border-color: transparent;\n",
              "      border-right-color: var(--fill-color);\n",
              "      border-bottom-color: var(--fill-color);\n",
              "    }\n",
              "    90% {\n",
              "      border-color: transparent;\n",
              "      border-bottom-color: var(--fill-color);\n",
              "    }\n",
              "  }\n",
              "</style>\n",
              "\n",
              "  <script>\n",
              "    async function quickchart(key) {\n",
              "      const quickchartButtonEl =\n",
              "        document.querySelector('#' + key + ' button');\n",
              "      quickchartButtonEl.disabled = true;  // To prevent multiple clicks.\n",
              "      quickchartButtonEl.classList.add('colab-df-spinner');\n",
              "      try {\n",
              "        const charts = await google.colab.kernel.invokeFunction(\n",
              "            'suggestCharts', [key], {});\n",
              "      } catch (error) {\n",
              "        console.error('Error during call to suggestCharts:', error);\n",
              "      }\n",
              "      quickchartButtonEl.classList.remove('colab-df-spinner');\n",
              "      quickchartButtonEl.classList.add('colab-df-quickchart-complete');\n",
              "    }\n",
              "    (() => {\n",
              "      let quickchartButtonEl =\n",
              "        document.querySelector('#df-a90390a9-52c1-4b3e-8c7d-840bb3754010 button');\n",
              "      quickchartButtonEl.style.display =\n",
              "        google.colab.kernel.accessAllowed ? 'block' : 'none';\n",
              "    })();\n",
              "  </script>\n",
              "</div>\n",
              "    </div>\n",
              "  </div>\n"
            ]
          },
          "metadata": {},
          "execution_count": 185
        }
      ]
    }
  ]
}
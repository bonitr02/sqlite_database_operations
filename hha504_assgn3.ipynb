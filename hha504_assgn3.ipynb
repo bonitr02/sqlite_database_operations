{
  "nbformat": 4,
  "nbformat_minor": 0,
  "metadata": {
    "colab": {
      "provenance": [],
      "authorship_tag": "ABX9TyP+d3BTPtButBMpELzLUm9U",
      "include_colab_link": true
    },
    "kernelspec": {
      "name": "python3",
      "display_name": "Python 3"
    },
    "language_info": {
      "name": "python"
    }
  },
  "cells": [
    {
      "cell_type": "markdown",
      "metadata": {
        "id": "view-in-github",
        "colab_type": "text"
      },
      "source": [
        "<a href=\"https://colab.research.google.com/github/bonitr02/sqlite_database_operations/blob/main/hha504_assgn3.ipynb\" target=\"_parent\"><img src=\"https://colab.research.google.com/assets/colab-badge.svg\" alt=\"Open In Colab\"/></a>"
      ]
    },
    {
      "cell_type": "markdown",
      "source": [
        "## Load packages"
      ],
      "metadata": {
        "id": "gVfe3f_Huz_Q"
      }
    },
    {
      "cell_type": "code",
      "execution_count": 100,
      "metadata": {
        "colab": {
          "base_uri": "https://localhost:8080/"
        },
        "id": "pCjelQZlsVBx",
        "outputId": "6847d4d0-f6f5-4645-d54b-1529a45fcb6c"
      },
      "outputs": [
        {
          "output_type": "stream",
          "name": "stdout",
          "text": [
            "Requirement already satisfied: sqlalchemy in /usr/local/lib/python3.10/dist-packages (2.0.20)\n",
            "Requirement already satisfied: typing-extensions>=4.2.0 in /usr/local/lib/python3.10/dist-packages (from sqlalchemy) (4.5.0)\n",
            "Requirement already satisfied: greenlet!=0.4.17 in /usr/local/lib/python3.10/dist-packages (from sqlalchemy) (2.0.2)\n"
          ]
        }
      ],
      "source": [
        "! pip install sqlalchemy\n",
        "from sqlalchemy import create_engine\n",
        "import sqlite3\n",
        "import pandas as pd\n",
        "from tabulate import tabulate\n",
        "import numpy as np\n",
        "import matplotlib.pyplot as plt\n",
        "import seaborn as sns"
      ]
    },
    {
      "cell_type": "markdown",
      "source": [
        "## Import data"
      ],
      "metadata": {
        "id": "4LB-o5hOKQ5r"
      }
    },
    {
      "cell_type": "code",
      "execution_count": 30,
      "metadata": {
        "colab": {
          "base_uri": "https://localhost:8080/"
        },
        "id": "Ve_InWCmJ7Db",
        "outputId": "fd0a6065-72df-471c-f130-4bae91d44e55"
      },
      "outputs": [
        {
          "output_type": "stream",
          "name": "stderr",
          "text": [
            "<ipython-input-30-00c9927208ca>:1: DtypeWarning: Columns (9,10,12,13,14,15,17,19,20,21,22,23,24,27,28,29,31,33,34,35,36,38,41,43,45,47,48,49,50,52) have mixed types. Specify dtype option on import or set low_memory=False.\n",
            "  df = pd.read_csv('/content/131624096_mount-sinai-queens_chargemaster.csv')\n"
          ]
        }
      ],
      "source": [
        "df = pd.read_csv('/content/131624096_mount-sinai-queens_chargemaster.csv')"
      ]
    },
    {
      "cell_type": "code",
      "source": [
        "df.shape\n",
        "#114893 rows and 55 columns"
      ],
      "metadata": {
        "colab": {
          "base_uri": "https://localhost:8080/"
        },
        "id": "wCtSL2CgNbDc",
        "outputId": "ef379515-ef27-41c6-ac17-74b27fbc88ae"
      },
      "execution_count": 31,
      "outputs": [
        {
          "output_type": "execute_result",
          "data": {
            "text/plain": [
              "(114893, 55)"
            ]
          },
          "metadata": {},
          "execution_count": 31
        }
      ]
    },
    {
      "cell_type": "code",
      "source": [
        "df.head(10)"
      ],
      "metadata": {
        "colab": {
          "base_uri": "https://localhost:8080/",
          "height": 846
        },
        "id": "P_79z11NLvVm",
        "outputId": "ffbfe8ca-7190-4357-dcf3-744065366162"
      },
      "execution_count": 34,
      "outputs": [
        {
          "output_type": "execute_result",
          "data": {
            "text/plain": [
              "   CHARGE CODE                     CHARGE DESC  \\\n",
              "0     10300300         NON ESRD HEMO INPT UNIT   \n",
              "1     10300500  NON ESRD HEMO ED IN DIALYS UNI   \n",
              "2     10300600             INPT CAPD TREATMENT   \n",
              "3     10300700     ESRD HEMO ED IN DIALYS UNIT   \n",
              "4     10300800             ESRD HEMO INPT UNIT   \n",
              "5     10301000    ESRD HEMO INPT DIALYSIS UNIT   \n",
              "6     10303200                CCPD CYCLER INPT   \n",
              "7     10303400  NONESRD ULTRAFLTR IP DIALY UNI   \n",
              "8     10304600        ESRD ULTRAFLTR INPT UNIT   \n",
              "9     10304700  ESRD ULTRAFLTR IP DIALYSIS UNI   \n",
              "\n",
              "            ALTERNATE DESCRIPTION  DEPARTMENT CODE DEPARTMENT NAME  \\\n",
              "0         NON ESRD HEMO INPT UNIT              103        DIALYSIS   \n",
              "1  NON ESRD HEMO ED IN DIALYS UNI              103        DIALYSIS   \n",
              "2             INPT CAPD TREATMENT              103        DIALYSIS   \n",
              "3     ESRD HEMO ED IN DIALYS UNIT              103        DIALYSIS   \n",
              "4             ESRD HEMO INPT UNIT              103        DIALYSIS   \n",
              "5    ESRD HEMO INPT DIALYSIS UNIT              103        DIALYSIS   \n",
              "6                CCPD CYCLER INPT              103        DIALYSIS   \n",
              "7  NONESRD ULTRAFLTR IP DIALY UNI              103        DIALYSIS   \n",
              "8        ESRD ULTRAFLTR INPT UNIT              103        DIALYSIS   \n",
              "9  ESRD ULTRAFLTR IP DIALYSIS UNI              103        DIALYSIS   \n",
              "\n",
              "  EFFECTIVE DATE  RATE CHARGED  TP RATE (340B) GENERAL CPT4 CODE  \\\n",
              "0        12/1/18        2150.0             0.0             90935   \n",
              "1        12/1/18        1500.0             0.0             90935   \n",
              "2         1/1/19        1150.0             0.0             90945   \n",
              "3        12/1/18        1500.0             0.0             G0257   \n",
              "4        12/1/18        1700.0             0.0             90935   \n",
              "5        12/1/18        1500.0             0.0             90935   \n",
              "6         1/1/19        1150.0             0.0             90945   \n",
              "7        12/1/18        1150.0             0.0             90945   \n",
              "8         1/1/19        1150.0             0.0             90945   \n",
              "9        12/1/18        1150.0             0.0             90945   \n",
              "\n",
              "  GENERAL MODIFER 1  ... BC IP MODIFIER2 EFF DATE  BC OP REV CODE  \\\n",
              "0               NaN  ...                      NaN             NaN   \n",
              "1               NaN  ...                      NaN             NaN   \n",
              "2               NaN  ...                      NaN             NaN   \n",
              "3               NaN  ...                      NaN             NaN   \n",
              "4               NaN  ...                      NaN             NaN   \n",
              "5               NaN  ...                      NaN             NaN   \n",
              "6               NaN  ...                      NaN             NaN   \n",
              "7               NaN  ...                      NaN             NaN   \n",
              "8               NaN  ...                      NaN             NaN   \n",
              "9               NaN  ...                      NaN             NaN   \n",
              "\n",
              "  BC OP HCPCS CODE BC OP HCPCS EFF DATE BC OP MODIFIER1  \\\n",
              "0              NaN                  NaN             NaN   \n",
              "1              NaN                  NaN             NaN   \n",
              "2              NaN                  NaN             NaN   \n",
              "3              NaN                  NaN             NaN   \n",
              "4              NaN                  NaN             NaN   \n",
              "5              NaN                  NaN             NaN   \n",
              "6              NaN                  NaN             NaN   \n",
              "7              NaN                  NaN             NaN   \n",
              "8              NaN                  NaN             NaN   \n",
              "9              NaN                  NaN             NaN   \n",
              "\n",
              "  BC OP MODIFIER1 EFF DATE  BC OP MODIFIER2 BC OP MODIFIER2 EFF DATE  \\\n",
              "0                      NaN              NaN                      NaN   \n",
              "1                      NaN              NaN                      NaN   \n",
              "2                      NaN              NaN                      NaN   \n",
              "3                      NaN              NaN                      NaN   \n",
              "4                      NaN              NaN                      NaN   \n",
              "5                      NaN              NaN                      NaN   \n",
              "6                      NaN              NaN                      NaN   \n",
              "7                      NaN              NaN                      NaN   \n",
              "8                      NaN              NaN                      NaN   \n",
              "9                      NaN              NaN                      NaN   \n",
              "\n",
              "   REVENUE CODE INPATIENT REVENUE CODE OUTPATIENT  \n",
              "0                   801.0                   801.0  \n",
              "1                   821.0                   821.0  \n",
              "2                   803.0                   803.0  \n",
              "3                   821.0                   821.0  \n",
              "4                   801.0                   801.0  \n",
              "5                   801.0                   801.0  \n",
              "6                   804.0                   804.0  \n",
              "7                   881.0                   881.0  \n",
              "8                   881.0                   881.0  \n",
              "9                   881.0                   881.0  \n",
              "\n",
              "[10 rows x 55 columns]"
            ],
            "text/html": [
              "\n",
              "  <div id=\"df-12d6370c-f10a-4ff7-9810-84193537623d\" class=\"colab-df-container\">\n",
              "    <div>\n",
              "<style scoped>\n",
              "    .dataframe tbody tr th:only-of-type {\n",
              "        vertical-align: middle;\n",
              "    }\n",
              "\n",
              "    .dataframe tbody tr th {\n",
              "        vertical-align: top;\n",
              "    }\n",
              "\n",
              "    .dataframe thead th {\n",
              "        text-align: right;\n",
              "    }\n",
              "</style>\n",
              "<table border=\"1\" class=\"dataframe\">\n",
              "  <thead>\n",
              "    <tr style=\"text-align: right;\">\n",
              "      <th></th>\n",
              "      <th>CHARGE CODE</th>\n",
              "      <th>CHARGE DESC</th>\n",
              "      <th>ALTERNATE DESCRIPTION</th>\n",
              "      <th>DEPARTMENT CODE</th>\n",
              "      <th>DEPARTMENT NAME</th>\n",
              "      <th>EFFECTIVE DATE</th>\n",
              "      <th>RATE CHARGED</th>\n",
              "      <th>TP RATE (340B)</th>\n",
              "      <th>GENERAL CPT4 CODE</th>\n",
              "      <th>GENERAL MODIFER 1</th>\n",
              "      <th>...</th>\n",
              "      <th>BC IP MODIFIER2 EFF DATE</th>\n",
              "      <th>BC OP REV CODE</th>\n",
              "      <th>BC OP HCPCS CODE</th>\n",
              "      <th>BC OP HCPCS EFF DATE</th>\n",
              "      <th>BC OP MODIFIER1</th>\n",
              "      <th>BC OP MODIFIER1 EFF DATE</th>\n",
              "      <th>BC OP MODIFIER2</th>\n",
              "      <th>BC OP MODIFIER2 EFF DATE</th>\n",
              "      <th>REVENUE CODE INPATIENT</th>\n",
              "      <th>REVENUE CODE OUTPATIENT</th>\n",
              "    </tr>\n",
              "  </thead>\n",
              "  <tbody>\n",
              "    <tr>\n",
              "      <th>0</th>\n",
              "      <td>10300300</td>\n",
              "      <td>NON ESRD HEMO INPT UNIT</td>\n",
              "      <td>NON ESRD HEMO INPT UNIT</td>\n",
              "      <td>103</td>\n",
              "      <td>DIALYSIS</td>\n",
              "      <td>12/1/18</td>\n",
              "      <td>2150.0</td>\n",
              "      <td>0.0</td>\n",
              "      <td>90935</td>\n",
              "      <td>NaN</td>\n",
              "      <td>...</td>\n",
              "      <td>NaN</td>\n",
              "      <td>NaN</td>\n",
              "      <td>NaN</td>\n",
              "      <td>NaN</td>\n",
              "      <td>NaN</td>\n",
              "      <td>NaN</td>\n",
              "      <td>NaN</td>\n",
              "      <td>NaN</td>\n",
              "      <td>801.0</td>\n",
              "      <td>801.0</td>\n",
              "    </tr>\n",
              "    <tr>\n",
              "      <th>1</th>\n",
              "      <td>10300500</td>\n",
              "      <td>NON ESRD HEMO ED IN DIALYS UNI</td>\n",
              "      <td>NON ESRD HEMO ED IN DIALYS UNI</td>\n",
              "      <td>103</td>\n",
              "      <td>DIALYSIS</td>\n",
              "      <td>12/1/18</td>\n",
              "      <td>1500.0</td>\n",
              "      <td>0.0</td>\n",
              "      <td>90935</td>\n",
              "      <td>NaN</td>\n",
              "      <td>...</td>\n",
              "      <td>NaN</td>\n",
              "      <td>NaN</td>\n",
              "      <td>NaN</td>\n",
              "      <td>NaN</td>\n",
              "      <td>NaN</td>\n",
              "      <td>NaN</td>\n",
              "      <td>NaN</td>\n",
              "      <td>NaN</td>\n",
              "      <td>821.0</td>\n",
              "      <td>821.0</td>\n",
              "    </tr>\n",
              "    <tr>\n",
              "      <th>2</th>\n",
              "      <td>10300600</td>\n",
              "      <td>INPT CAPD TREATMENT</td>\n",
              "      <td>INPT CAPD TREATMENT</td>\n",
              "      <td>103</td>\n",
              "      <td>DIALYSIS</td>\n",
              "      <td>1/1/19</td>\n",
              "      <td>1150.0</td>\n",
              "      <td>0.0</td>\n",
              "      <td>90945</td>\n",
              "      <td>NaN</td>\n",
              "      <td>...</td>\n",
              "      <td>NaN</td>\n",
              "      <td>NaN</td>\n",
              "      <td>NaN</td>\n",
              "      <td>NaN</td>\n",
              "      <td>NaN</td>\n",
              "      <td>NaN</td>\n",
              "      <td>NaN</td>\n",
              "      <td>NaN</td>\n",
              "      <td>803.0</td>\n",
              "      <td>803.0</td>\n",
              "    </tr>\n",
              "    <tr>\n",
              "      <th>3</th>\n",
              "      <td>10300700</td>\n",
              "      <td>ESRD HEMO ED IN DIALYS UNIT</td>\n",
              "      <td>ESRD HEMO ED IN DIALYS UNIT</td>\n",
              "      <td>103</td>\n",
              "      <td>DIALYSIS</td>\n",
              "      <td>12/1/18</td>\n",
              "      <td>1500.0</td>\n",
              "      <td>0.0</td>\n",
              "      <td>G0257</td>\n",
              "      <td>NaN</td>\n",
              "      <td>...</td>\n",
              "      <td>NaN</td>\n",
              "      <td>NaN</td>\n",
              "      <td>NaN</td>\n",
              "      <td>NaN</td>\n",
              "      <td>NaN</td>\n",
              "      <td>NaN</td>\n",
              "      <td>NaN</td>\n",
              "      <td>NaN</td>\n",
              "      <td>821.0</td>\n",
              "      <td>821.0</td>\n",
              "    </tr>\n",
              "    <tr>\n",
              "      <th>4</th>\n",
              "      <td>10300800</td>\n",
              "      <td>ESRD HEMO INPT UNIT</td>\n",
              "      <td>ESRD HEMO INPT UNIT</td>\n",
              "      <td>103</td>\n",
              "      <td>DIALYSIS</td>\n",
              "      <td>12/1/18</td>\n",
              "      <td>1700.0</td>\n",
              "      <td>0.0</td>\n",
              "      <td>90935</td>\n",
              "      <td>NaN</td>\n",
              "      <td>...</td>\n",
              "      <td>NaN</td>\n",
              "      <td>NaN</td>\n",
              "      <td>NaN</td>\n",
              "      <td>NaN</td>\n",
              "      <td>NaN</td>\n",
              "      <td>NaN</td>\n",
              "      <td>NaN</td>\n",
              "      <td>NaN</td>\n",
              "      <td>801.0</td>\n",
              "      <td>801.0</td>\n",
              "    </tr>\n",
              "    <tr>\n",
              "      <th>5</th>\n",
              "      <td>10301000</td>\n",
              "      <td>ESRD HEMO INPT DIALYSIS UNIT</td>\n",
              "      <td>ESRD HEMO INPT DIALYSIS UNIT</td>\n",
              "      <td>103</td>\n",
              "      <td>DIALYSIS</td>\n",
              "      <td>12/1/18</td>\n",
              "      <td>1500.0</td>\n",
              "      <td>0.0</td>\n",
              "      <td>90935</td>\n",
              "      <td>NaN</td>\n",
              "      <td>...</td>\n",
              "      <td>NaN</td>\n",
              "      <td>NaN</td>\n",
              "      <td>NaN</td>\n",
              "      <td>NaN</td>\n",
              "      <td>NaN</td>\n",
              "      <td>NaN</td>\n",
              "      <td>NaN</td>\n",
              "      <td>NaN</td>\n",
              "      <td>801.0</td>\n",
              "      <td>801.0</td>\n",
              "    </tr>\n",
              "    <tr>\n",
              "      <th>6</th>\n",
              "      <td>10303200</td>\n",
              "      <td>CCPD CYCLER INPT</td>\n",
              "      <td>CCPD CYCLER INPT</td>\n",
              "      <td>103</td>\n",
              "      <td>DIALYSIS</td>\n",
              "      <td>1/1/19</td>\n",
              "      <td>1150.0</td>\n",
              "      <td>0.0</td>\n",
              "      <td>90945</td>\n",
              "      <td>NaN</td>\n",
              "      <td>...</td>\n",
              "      <td>NaN</td>\n",
              "      <td>NaN</td>\n",
              "      <td>NaN</td>\n",
              "      <td>NaN</td>\n",
              "      <td>NaN</td>\n",
              "      <td>NaN</td>\n",
              "      <td>NaN</td>\n",
              "      <td>NaN</td>\n",
              "      <td>804.0</td>\n",
              "      <td>804.0</td>\n",
              "    </tr>\n",
              "    <tr>\n",
              "      <th>7</th>\n",
              "      <td>10303400</td>\n",
              "      <td>NONESRD ULTRAFLTR IP DIALY UNI</td>\n",
              "      <td>NONESRD ULTRAFLTR IP DIALY UNI</td>\n",
              "      <td>103</td>\n",
              "      <td>DIALYSIS</td>\n",
              "      <td>12/1/18</td>\n",
              "      <td>1150.0</td>\n",
              "      <td>0.0</td>\n",
              "      <td>90945</td>\n",
              "      <td>NaN</td>\n",
              "      <td>...</td>\n",
              "      <td>NaN</td>\n",
              "      <td>NaN</td>\n",
              "      <td>NaN</td>\n",
              "      <td>NaN</td>\n",
              "      <td>NaN</td>\n",
              "      <td>NaN</td>\n",
              "      <td>NaN</td>\n",
              "      <td>NaN</td>\n",
              "      <td>881.0</td>\n",
              "      <td>881.0</td>\n",
              "    </tr>\n",
              "    <tr>\n",
              "      <th>8</th>\n",
              "      <td>10304600</td>\n",
              "      <td>ESRD ULTRAFLTR INPT UNIT</td>\n",
              "      <td>ESRD ULTRAFLTR INPT UNIT</td>\n",
              "      <td>103</td>\n",
              "      <td>DIALYSIS</td>\n",
              "      <td>1/1/19</td>\n",
              "      <td>1150.0</td>\n",
              "      <td>0.0</td>\n",
              "      <td>90945</td>\n",
              "      <td>NaN</td>\n",
              "      <td>...</td>\n",
              "      <td>NaN</td>\n",
              "      <td>NaN</td>\n",
              "      <td>NaN</td>\n",
              "      <td>NaN</td>\n",
              "      <td>NaN</td>\n",
              "      <td>NaN</td>\n",
              "      <td>NaN</td>\n",
              "      <td>NaN</td>\n",
              "      <td>881.0</td>\n",
              "      <td>881.0</td>\n",
              "    </tr>\n",
              "    <tr>\n",
              "      <th>9</th>\n",
              "      <td>10304700</td>\n",
              "      <td>ESRD ULTRAFLTR IP DIALYSIS UNI</td>\n",
              "      <td>ESRD ULTRAFLTR IP DIALYSIS UNI</td>\n",
              "      <td>103</td>\n",
              "      <td>DIALYSIS</td>\n",
              "      <td>12/1/18</td>\n",
              "      <td>1150.0</td>\n",
              "      <td>0.0</td>\n",
              "      <td>90945</td>\n",
              "      <td>NaN</td>\n",
              "      <td>...</td>\n",
              "      <td>NaN</td>\n",
              "      <td>NaN</td>\n",
              "      <td>NaN</td>\n",
              "      <td>NaN</td>\n",
              "      <td>NaN</td>\n",
              "      <td>NaN</td>\n",
              "      <td>NaN</td>\n",
              "      <td>NaN</td>\n",
              "      <td>881.0</td>\n",
              "      <td>881.0</td>\n",
              "    </tr>\n",
              "  </tbody>\n",
              "</table>\n",
              "<p>10 rows × 55 columns</p>\n",
              "</div>\n",
              "    <div class=\"colab-df-buttons\">\n",
              "\n",
              "  <div class=\"colab-df-container\">\n",
              "    <button class=\"colab-df-convert\" onclick=\"convertToInteractive('df-12d6370c-f10a-4ff7-9810-84193537623d')\"\n",
              "            title=\"Convert this dataframe to an interactive table.\"\n",
              "            style=\"display:none;\">\n",
              "\n",
              "  <svg xmlns=\"http://www.w3.org/2000/svg\" height=\"24px\" viewBox=\"0 -960 960 960\">\n",
              "    <path d=\"M120-120v-720h720v720H120Zm60-500h600v-160H180v160Zm220 220h160v-160H400v160Zm0 220h160v-160H400v160ZM180-400h160v-160H180v160Zm440 0h160v-160H620v160ZM180-180h160v-160H180v160Zm440 0h160v-160H620v160Z\"/>\n",
              "  </svg>\n",
              "    </button>\n",
              "\n",
              "  <style>\n",
              "    .colab-df-container {\n",
              "      display:flex;\n",
              "      gap: 12px;\n",
              "    }\n",
              "\n",
              "    .colab-df-convert {\n",
              "      background-color: #E8F0FE;\n",
              "      border: none;\n",
              "      border-radius: 50%;\n",
              "      cursor: pointer;\n",
              "      display: none;\n",
              "      fill: #1967D2;\n",
              "      height: 32px;\n",
              "      padding: 0 0 0 0;\n",
              "      width: 32px;\n",
              "    }\n",
              "\n",
              "    .colab-df-convert:hover {\n",
              "      background-color: #E2EBFA;\n",
              "      box-shadow: 0px 1px 2px rgba(60, 64, 67, 0.3), 0px 1px 3px 1px rgba(60, 64, 67, 0.15);\n",
              "      fill: #174EA6;\n",
              "    }\n",
              "\n",
              "    .colab-df-buttons div {\n",
              "      margin-bottom: 4px;\n",
              "    }\n",
              "\n",
              "    [theme=dark] .colab-df-convert {\n",
              "      background-color: #3B4455;\n",
              "      fill: #D2E3FC;\n",
              "    }\n",
              "\n",
              "    [theme=dark] .colab-df-convert:hover {\n",
              "      background-color: #434B5C;\n",
              "      box-shadow: 0px 1px 3px 1px rgba(0, 0, 0, 0.15);\n",
              "      filter: drop-shadow(0px 1px 2px rgba(0, 0, 0, 0.3));\n",
              "      fill: #FFFFFF;\n",
              "    }\n",
              "  </style>\n",
              "\n",
              "    <script>\n",
              "      const buttonEl =\n",
              "        document.querySelector('#df-12d6370c-f10a-4ff7-9810-84193537623d button.colab-df-convert');\n",
              "      buttonEl.style.display =\n",
              "        google.colab.kernel.accessAllowed ? 'block' : 'none';\n",
              "\n",
              "      async function convertToInteractive(key) {\n",
              "        const element = document.querySelector('#df-12d6370c-f10a-4ff7-9810-84193537623d');\n",
              "        const dataTable =\n",
              "          await google.colab.kernel.invokeFunction('convertToInteractive',\n",
              "                                                    [key], {});\n",
              "        if (!dataTable) return;\n",
              "\n",
              "        const docLinkHtml = 'Like what you see? Visit the ' +\n",
              "          '<a target=\"_blank\" href=https://colab.research.google.com/notebooks/data_table.ipynb>data table notebook</a>'\n",
              "          + ' to learn more about interactive tables.';\n",
              "        element.innerHTML = '';\n",
              "        dataTable['output_type'] = 'display_data';\n",
              "        await google.colab.output.renderOutput(dataTable, element);\n",
              "        const docLink = document.createElement('div');\n",
              "        docLink.innerHTML = docLinkHtml;\n",
              "        element.appendChild(docLink);\n",
              "      }\n",
              "    </script>\n",
              "  </div>\n",
              "\n",
              "\n",
              "<div id=\"df-b5114fed-ad17-4dfb-b7c7-981ea4b01014\">\n",
              "  <button class=\"colab-df-quickchart\" onclick=\"quickchart('df-b5114fed-ad17-4dfb-b7c7-981ea4b01014')\"\n",
              "            title=\"Suggest charts.\"\n",
              "            style=\"display:none;\">\n",
              "\n",
              "<svg xmlns=\"http://www.w3.org/2000/svg\" height=\"24px\"viewBox=\"0 0 24 24\"\n",
              "     width=\"24px\">\n",
              "    <g>\n",
              "        <path d=\"M19 3H5c-1.1 0-2 .9-2 2v14c0 1.1.9 2 2 2h14c1.1 0 2-.9 2-2V5c0-1.1-.9-2-2-2zM9 17H7v-7h2v7zm4 0h-2V7h2v10zm4 0h-2v-4h2v4z\"/>\n",
              "    </g>\n",
              "</svg>\n",
              "  </button>\n",
              "\n",
              "<style>\n",
              "  .colab-df-quickchart {\n",
              "      --bg-color: #E8F0FE;\n",
              "      --fill-color: #1967D2;\n",
              "      --hover-bg-color: #E2EBFA;\n",
              "      --hover-fill-color: #174EA6;\n",
              "      --disabled-fill-color: #AAA;\n",
              "      --disabled-bg-color: #DDD;\n",
              "  }\n",
              "\n",
              "  [theme=dark] .colab-df-quickchart {\n",
              "      --bg-color: #3B4455;\n",
              "      --fill-color: #D2E3FC;\n",
              "      --hover-bg-color: #434B5C;\n",
              "      --hover-fill-color: #FFFFFF;\n",
              "      --disabled-bg-color: #3B4455;\n",
              "      --disabled-fill-color: #666;\n",
              "  }\n",
              "\n",
              "  .colab-df-quickchart {\n",
              "    background-color: var(--bg-color);\n",
              "    border: none;\n",
              "    border-radius: 50%;\n",
              "    cursor: pointer;\n",
              "    display: none;\n",
              "    fill: var(--fill-color);\n",
              "    height: 32px;\n",
              "    padding: 0;\n",
              "    width: 32px;\n",
              "  }\n",
              "\n",
              "  .colab-df-quickchart:hover {\n",
              "    background-color: var(--hover-bg-color);\n",
              "    box-shadow: 0 1px 2px rgba(60, 64, 67, 0.3), 0 1px 3px 1px rgba(60, 64, 67, 0.15);\n",
              "    fill: var(--button-hover-fill-color);\n",
              "  }\n",
              "\n",
              "  .colab-df-quickchart-complete:disabled,\n",
              "  .colab-df-quickchart-complete:disabled:hover {\n",
              "    background-color: var(--disabled-bg-color);\n",
              "    fill: var(--disabled-fill-color);\n",
              "    box-shadow: none;\n",
              "  }\n",
              "\n",
              "  .colab-df-spinner {\n",
              "    border: 2px solid var(--fill-color);\n",
              "    border-color: transparent;\n",
              "    border-bottom-color: var(--fill-color);\n",
              "    animation:\n",
              "      spin 1s steps(1) infinite;\n",
              "  }\n",
              "\n",
              "  @keyframes spin {\n",
              "    0% {\n",
              "      border-color: transparent;\n",
              "      border-bottom-color: var(--fill-color);\n",
              "      border-left-color: var(--fill-color);\n",
              "    }\n",
              "    20% {\n",
              "      border-color: transparent;\n",
              "      border-left-color: var(--fill-color);\n",
              "      border-top-color: var(--fill-color);\n",
              "    }\n",
              "    30% {\n",
              "      border-color: transparent;\n",
              "      border-left-color: var(--fill-color);\n",
              "      border-top-color: var(--fill-color);\n",
              "      border-right-color: var(--fill-color);\n",
              "    }\n",
              "    40% {\n",
              "      border-color: transparent;\n",
              "      border-right-color: var(--fill-color);\n",
              "      border-top-color: var(--fill-color);\n",
              "    }\n",
              "    60% {\n",
              "      border-color: transparent;\n",
              "      border-right-color: var(--fill-color);\n",
              "    }\n",
              "    80% {\n",
              "      border-color: transparent;\n",
              "      border-right-color: var(--fill-color);\n",
              "      border-bottom-color: var(--fill-color);\n",
              "    }\n",
              "    90% {\n",
              "      border-color: transparent;\n",
              "      border-bottom-color: var(--fill-color);\n",
              "    }\n",
              "  }\n",
              "</style>\n",
              "\n",
              "  <script>\n",
              "    async function quickchart(key) {\n",
              "      const quickchartButtonEl =\n",
              "        document.querySelector('#' + key + ' button');\n",
              "      quickchartButtonEl.disabled = true;  // To prevent multiple clicks.\n",
              "      quickchartButtonEl.classList.add('colab-df-spinner');\n",
              "      try {\n",
              "        const charts = await google.colab.kernel.invokeFunction(\n",
              "            'suggestCharts', [key], {});\n",
              "      } catch (error) {\n",
              "        console.error('Error during call to suggestCharts:', error);\n",
              "      }\n",
              "      quickchartButtonEl.classList.remove('colab-df-spinner');\n",
              "      quickchartButtonEl.classList.add('colab-df-quickchart-complete');\n",
              "    }\n",
              "    (() => {\n",
              "      let quickchartButtonEl =\n",
              "        document.querySelector('#df-b5114fed-ad17-4dfb-b7c7-981ea4b01014 button');\n",
              "      quickchartButtonEl.style.display =\n",
              "        google.colab.kernel.accessAllowed ? 'block' : 'none';\n",
              "    })();\n",
              "  </script>\n",
              "</div>\n",
              "    </div>\n",
              "  </div>\n"
            ]
          },
          "metadata": {},
          "execution_count": 34
        }
      ]
    },
    {
      "cell_type": "code",
      "source": [
        "df.columns"
      ],
      "metadata": {
        "id": "nuCMbx2bLgbE"
      },
      "execution_count": null,
      "outputs": []
    },
    {
      "cell_type": "markdown",
      "source": [
        "## Data cleaning\n",
        "\n"
      ],
      "metadata": {
        "id": "-_wLOMSfLmE2"
      }
    },
    {
      "cell_type": "code",
      "source": [
        "# Drop empty columns\n",
        "df.dropna(how='all', axis=1, inplace=True)\n",
        "print(df)\n",
        "\n",
        "#Results in 114893 rows and 48 columns"
      ],
      "metadata": {
        "id": "l7D0MF-QNlkK"
      },
      "execution_count": null,
      "outputs": []
    },
    {
      "cell_type": "code",
      "source": [
        "# Check for missing values in a column\n",
        "print(df.isnull().sum())\n",
        "# Results in only a few columns not missing values: CHARGE CODE, CHARGE DESC, ALTERNATE DESCRIPTION, DEPARTMENT CODE, DEPARTMENT NAME, EFFECTIVE DATE, RATE CHARGED, TP RATE (340B), REVENUE CODE INPATIENT, REVENUE CODE OUTPATIENT"
      ],
      "metadata": {
        "id": "xDMsAyuzQbun"
      },
      "execution_count": null,
      "outputs": []
    },
    {
      "cell_type": "code",
      "source": [
        "df.drop_duplicates(inplace=True)\n",
        "# No duplicate rows identified"
      ],
      "metadata": {
        "id": "BZdrEUqkQmIJ"
      },
      "execution_count": null,
      "outputs": []
    },
    {
      "cell_type": "code",
      "source": [
        "#Rename columns\n",
        "newDF=df.rename(columns={'CHARGE CODE': 'CHARGEcode', 'CHARGE DESC':'CHARGEdesc', 'ALTERNATE DESCRIPTION': 'ALTdesc', 'DEPARTMENT CODE':'DEPTcode', 'DEPARTMENT NAME':'DEPTname', 'EFFECTIVE DATE':'EFFECTIVEdate', 'RATE CHARGED':'RATEcharged', \"TP RATE (340B)\":'TP_RATE_340B', 'REVENUE CODE INPATIENT':'REVENUEcodeINPT', 'REVENUE CODE OUTPATIENT':'REVENUEcodeOPT'})"
      ],
      "metadata": {
        "id": "wOBhCLFOQl_h"
      },
      "execution_count": 49,
      "outputs": []
    },
    {
      "cell_type": "code",
      "source": [
        "print(newDF)"
      ],
      "metadata": {
        "id": "iBoCjXloWLJB"
      },
      "execution_count": null,
      "outputs": []
    },
    {
      "cell_type": "code",
      "source": [
        "df_msq=newDF[['CHARGEcode','CHARGEdesc','ALTdesc','DEPTcode','DEPTname','EFFECTIVEdate','RATEcharged','REVENUEcodeINPT','REVENUEcodeOPT']]"
      ],
      "metadata": {
        "id": "_TBdJ10oQhlw"
      },
      "execution_count": 66,
      "outputs": []
    },
    {
      "cell_type": "code",
      "source": [
        "df_msq.to_csv('/content/cleaned_mount-sinai-queens_chargemaster.csv')"
      ],
      "metadata": {
        "id": "e-LEXU3_UDuW"
      },
      "execution_count": 68,
      "outputs": []
    },
    {
      "cell_type": "markdown",
      "source": [
        "## Exploratory Analysis\n",
        "\n"
      ],
      "metadata": {
        "id": "f_-UkbPlXTUv"
      }
    },
    {
      "cell_type": "markdown",
      "source": [
        "#### Observations: A lot of missing columns and values; created new dataframe with clean data to remove null values"
      ],
      "metadata": {
        "id": "8_YK9FxWjPEl"
      }
    },
    {
      "cell_type": "code",
      "source": [
        "print(tabulate(df_msq.sample(5), headers='keys', tablefmt='grid'))"
      ],
      "metadata": {
        "colab": {
          "base_uri": "https://localhost:8080/"
        },
        "id": "ZUlBuemyNCcj",
        "outputId": "a29fe757-d072-4b68-8975-7c912c001560"
      },
      "execution_count": 69,
      "outputs": [
        {
          "output_type": "stream",
          "name": "stdout",
          "text": [
            "+-------+--------------+------------------------------+------------------------------+------------+---------------------+-----------------+---------------+-------------------+------------------+\n",
            "|       |   CHARGEcode | CHARGEdesc                   | ALTdesc                      |   DEPTcode | DEPTname            | EFFECTIVEdate   |   RATEcharged |   REVENUEcodeINPT |   REVENUEcodeOPT |\n",
            "+=======+==============+==============================+==============================+============+=====================+=================+===============+===================+==================+\n",
            "| 18734 |     50000025 | SCREW HBS STD COMP 13MM TI   | SCREW HBS STD COMP 13MM TI   |        500 | OR SUPPLIES A00     | 1/1/10          |         616   |               278 |              278 |\n",
            "+-------+--------------+------------------------------+------------------------------+------------+---------------------+-----------------+---------------+-------------------+------------------+\n",
            "| 37633 |     50022726 | LEAD  DURATA DUAL COIL 21CM  | LEAD  DURATA DUAL COIL 21CM  |        500 | OR SUPPLIES A00     | 1/1/10          |       10724   |               278 |              278 |\n",
            "+-------+--------------+------------------------------+------------------------------+------------+---------------------+-----------------+---------------+-------------------+------------------+\n",
            "| 33097 |     50016533 | PLATE Y DBL TI 1.0MM         | PLATE Y DBL TI 1.0MM         |        500 | OR SUPPLIES A00     | 1/1/10          |         367   |               278 |              278 |\n",
            "+-------+--------------+------------------------------+------------------------------+------------+---------------------+-----------------+---------------+-------------------+------------------+\n",
            "| 37711 |     50022871 | SCREW BONE LOCKING 5.0X46    | SCREW BONE LOCKING 5.0X46    |        500 | OR SUPPLIES A00     | 1/1/12          |         313.6 |               278 |              278 |\n",
            "+-------+--------------+------------------------------+------------------------------+------------+---------------------+-----------------+---------------+-------------------+------------------+\n",
            "| 58505 |     62102753 | LIPIODOL ETHIODIZED OIL 10ML | LIPIODOL ETHIODIZED OIL 10ML |        621 | OR SUPPLIES X21- IR | 1/1/17          |        2114   |               250 |              250 |\n",
            "+-------+--------------+------------------------------+------------------------------+------------+---------------------+-----------------+---------------+-------------------+------------------+\n"
          ]
        }
      ]
    },
    {
      "cell_type": "code",
      "source": [
        "df_msq.dtypes"
      ],
      "metadata": {
        "colab": {
          "base_uri": "https://localhost:8080/"
        },
        "id": "T6GxZYmoX6mI",
        "outputId": "e78dde1d-d902-4ef1-fac8-bd0330357356"
      },
      "execution_count": 72,
      "outputs": [
        {
          "output_type": "execute_result",
          "data": {
            "text/plain": [
              "CHARGEcode          object\n",
              "CHARGEdesc          object\n",
              "ALTdesc             object\n",
              "DEPTcode            object\n",
              "DEPTname            object\n",
              "EFFECTIVEdate       object\n",
              "RATEcharged        float64\n",
              "REVENUEcodeINPT     object\n",
              "REVENUEcodeOPT      object\n",
              "dtype: object"
            ]
          },
          "metadata": {},
          "execution_count": 72
        }
      ]
    },
    {
      "cell_type": "code",
      "source": [
        "# Convert columns to strings\n",
        "df_msq['CHARGEcode'] = df_msq['CHARGEcode'].apply(str)\n",
        "df_msq['DEPTcode'] = df_msq['DEPTcode'].apply(str)\n",
        "df_msq['REVENUEcodeINPT'] = df_msq['REVENUEcodeINPT'].apply(str)\n",
        "df_msq['REVENUEcodeOPT'] = df_msq['REVENUEcodeOPT'].apply(str)"
      ],
      "metadata": {
        "id": "w-RE8Z-WYHj-"
      },
      "execution_count": null,
      "outputs": []
    },
    {
      "cell_type": "code",
      "source": [
        "df_msq.describe()"
      ],
      "metadata": {
        "colab": {
          "base_uri": "https://localhost:8080/",
          "height": 300
        },
        "id": "vUo7MxRIYDeP",
        "outputId": "0228f44f-9c3b-4cd6-99df-ddd0432e1723"
      },
      "execution_count": 86,
      "outputs": [
        {
          "output_type": "execute_result",
          "data": {
            "text/plain": [
              "         RATEcharged\n",
              "count  114893.000000\n",
              "mean     2051.366813\n",
              "std      4404.024927\n",
              "min         0.000000\n",
              "25%       164.630000\n",
              "50%       636.180000\n",
              "75%      2226.000000\n",
              "max    318000.000000"
            ],
            "text/html": [
              "\n",
              "  <div id=\"df-c73771e1-e542-491b-bd9b-fc436397b10b\" class=\"colab-df-container\">\n",
              "    <div>\n",
              "<style scoped>\n",
              "    .dataframe tbody tr th:only-of-type {\n",
              "        vertical-align: middle;\n",
              "    }\n",
              "\n",
              "    .dataframe tbody tr th {\n",
              "        vertical-align: top;\n",
              "    }\n",
              "\n",
              "    .dataframe thead th {\n",
              "        text-align: right;\n",
              "    }\n",
              "</style>\n",
              "<table border=\"1\" class=\"dataframe\">\n",
              "  <thead>\n",
              "    <tr style=\"text-align: right;\">\n",
              "      <th></th>\n",
              "      <th>RATEcharged</th>\n",
              "    </tr>\n",
              "  </thead>\n",
              "  <tbody>\n",
              "    <tr>\n",
              "      <th>count</th>\n",
              "      <td>114893.000000</td>\n",
              "    </tr>\n",
              "    <tr>\n",
              "      <th>mean</th>\n",
              "      <td>2051.366813</td>\n",
              "    </tr>\n",
              "    <tr>\n",
              "      <th>std</th>\n",
              "      <td>4404.024927</td>\n",
              "    </tr>\n",
              "    <tr>\n",
              "      <th>min</th>\n",
              "      <td>0.000000</td>\n",
              "    </tr>\n",
              "    <tr>\n",
              "      <th>25%</th>\n",
              "      <td>164.630000</td>\n",
              "    </tr>\n",
              "    <tr>\n",
              "      <th>50%</th>\n",
              "      <td>636.180000</td>\n",
              "    </tr>\n",
              "    <tr>\n",
              "      <th>75%</th>\n",
              "      <td>2226.000000</td>\n",
              "    </tr>\n",
              "    <tr>\n",
              "      <th>max</th>\n",
              "      <td>318000.000000</td>\n",
              "    </tr>\n",
              "  </tbody>\n",
              "</table>\n",
              "</div>\n",
              "    <div class=\"colab-df-buttons\">\n",
              "\n",
              "  <div class=\"colab-df-container\">\n",
              "    <button class=\"colab-df-convert\" onclick=\"convertToInteractive('df-c73771e1-e542-491b-bd9b-fc436397b10b')\"\n",
              "            title=\"Convert this dataframe to an interactive table.\"\n",
              "            style=\"display:none;\">\n",
              "\n",
              "  <svg xmlns=\"http://www.w3.org/2000/svg\" height=\"24px\" viewBox=\"0 -960 960 960\">\n",
              "    <path d=\"M120-120v-720h720v720H120Zm60-500h600v-160H180v160Zm220 220h160v-160H400v160Zm0 220h160v-160H400v160ZM180-400h160v-160H180v160Zm440 0h160v-160H620v160ZM180-180h160v-160H180v160Zm440 0h160v-160H620v160Z\"/>\n",
              "  </svg>\n",
              "    </button>\n",
              "\n",
              "  <style>\n",
              "    .colab-df-container {\n",
              "      display:flex;\n",
              "      gap: 12px;\n",
              "    }\n",
              "\n",
              "    .colab-df-convert {\n",
              "      background-color: #E8F0FE;\n",
              "      border: none;\n",
              "      border-radius: 50%;\n",
              "      cursor: pointer;\n",
              "      display: none;\n",
              "      fill: #1967D2;\n",
              "      height: 32px;\n",
              "      padding: 0 0 0 0;\n",
              "      width: 32px;\n",
              "    }\n",
              "\n",
              "    .colab-df-convert:hover {\n",
              "      background-color: #E2EBFA;\n",
              "      box-shadow: 0px 1px 2px rgba(60, 64, 67, 0.3), 0px 1px 3px 1px rgba(60, 64, 67, 0.15);\n",
              "      fill: #174EA6;\n",
              "    }\n",
              "\n",
              "    .colab-df-buttons div {\n",
              "      margin-bottom: 4px;\n",
              "    }\n",
              "\n",
              "    [theme=dark] .colab-df-convert {\n",
              "      background-color: #3B4455;\n",
              "      fill: #D2E3FC;\n",
              "    }\n",
              "\n",
              "    [theme=dark] .colab-df-convert:hover {\n",
              "      background-color: #434B5C;\n",
              "      box-shadow: 0px 1px 3px 1px rgba(0, 0, 0, 0.15);\n",
              "      filter: drop-shadow(0px 1px 2px rgba(0, 0, 0, 0.3));\n",
              "      fill: #FFFFFF;\n",
              "    }\n",
              "  </style>\n",
              "\n",
              "    <script>\n",
              "      const buttonEl =\n",
              "        document.querySelector('#df-c73771e1-e542-491b-bd9b-fc436397b10b button.colab-df-convert');\n",
              "      buttonEl.style.display =\n",
              "        google.colab.kernel.accessAllowed ? 'block' : 'none';\n",
              "\n",
              "      async function convertToInteractive(key) {\n",
              "        const element = document.querySelector('#df-c73771e1-e542-491b-bd9b-fc436397b10b');\n",
              "        const dataTable =\n",
              "          await google.colab.kernel.invokeFunction('convertToInteractive',\n",
              "                                                    [key], {});\n",
              "        if (!dataTable) return;\n",
              "\n",
              "        const docLinkHtml = 'Like what you see? Visit the ' +\n",
              "          '<a target=\"_blank\" href=https://colab.research.google.com/notebooks/data_table.ipynb>data table notebook</a>'\n",
              "          + ' to learn more about interactive tables.';\n",
              "        element.innerHTML = '';\n",
              "        dataTable['output_type'] = 'display_data';\n",
              "        await google.colab.output.renderOutput(dataTable, element);\n",
              "        const docLink = document.createElement('div');\n",
              "        docLink.innerHTML = docLinkHtml;\n",
              "        element.appendChild(docLink);\n",
              "      }\n",
              "    </script>\n",
              "  </div>\n",
              "\n",
              "\n",
              "<div id=\"df-df9e2b0d-21d9-41fb-9ba0-176b65e62d09\">\n",
              "  <button class=\"colab-df-quickchart\" onclick=\"quickchart('df-df9e2b0d-21d9-41fb-9ba0-176b65e62d09')\"\n",
              "            title=\"Suggest charts.\"\n",
              "            style=\"display:none;\">\n",
              "\n",
              "<svg xmlns=\"http://www.w3.org/2000/svg\" height=\"24px\"viewBox=\"0 0 24 24\"\n",
              "     width=\"24px\">\n",
              "    <g>\n",
              "        <path d=\"M19 3H5c-1.1 0-2 .9-2 2v14c0 1.1.9 2 2 2h14c1.1 0 2-.9 2-2V5c0-1.1-.9-2-2-2zM9 17H7v-7h2v7zm4 0h-2V7h2v10zm4 0h-2v-4h2v4z\"/>\n",
              "    </g>\n",
              "</svg>\n",
              "  </button>\n",
              "\n",
              "<style>\n",
              "  .colab-df-quickchart {\n",
              "      --bg-color: #E8F0FE;\n",
              "      --fill-color: #1967D2;\n",
              "      --hover-bg-color: #E2EBFA;\n",
              "      --hover-fill-color: #174EA6;\n",
              "      --disabled-fill-color: #AAA;\n",
              "      --disabled-bg-color: #DDD;\n",
              "  }\n",
              "\n",
              "  [theme=dark] .colab-df-quickchart {\n",
              "      --bg-color: #3B4455;\n",
              "      --fill-color: #D2E3FC;\n",
              "      --hover-bg-color: #434B5C;\n",
              "      --hover-fill-color: #FFFFFF;\n",
              "      --disabled-bg-color: #3B4455;\n",
              "      --disabled-fill-color: #666;\n",
              "  }\n",
              "\n",
              "  .colab-df-quickchart {\n",
              "    background-color: var(--bg-color);\n",
              "    border: none;\n",
              "    border-radius: 50%;\n",
              "    cursor: pointer;\n",
              "    display: none;\n",
              "    fill: var(--fill-color);\n",
              "    height: 32px;\n",
              "    padding: 0;\n",
              "    width: 32px;\n",
              "  }\n",
              "\n",
              "  .colab-df-quickchart:hover {\n",
              "    background-color: var(--hover-bg-color);\n",
              "    box-shadow: 0 1px 2px rgba(60, 64, 67, 0.3), 0 1px 3px 1px rgba(60, 64, 67, 0.15);\n",
              "    fill: var(--button-hover-fill-color);\n",
              "  }\n",
              "\n",
              "  .colab-df-quickchart-complete:disabled,\n",
              "  .colab-df-quickchart-complete:disabled:hover {\n",
              "    background-color: var(--disabled-bg-color);\n",
              "    fill: var(--disabled-fill-color);\n",
              "    box-shadow: none;\n",
              "  }\n",
              "\n",
              "  .colab-df-spinner {\n",
              "    border: 2px solid var(--fill-color);\n",
              "    border-color: transparent;\n",
              "    border-bottom-color: var(--fill-color);\n",
              "    animation:\n",
              "      spin 1s steps(1) infinite;\n",
              "  }\n",
              "\n",
              "  @keyframes spin {\n",
              "    0% {\n",
              "      border-color: transparent;\n",
              "      border-bottom-color: var(--fill-color);\n",
              "      border-left-color: var(--fill-color);\n",
              "    }\n",
              "    20% {\n",
              "      border-color: transparent;\n",
              "      border-left-color: var(--fill-color);\n",
              "      border-top-color: var(--fill-color);\n",
              "    }\n",
              "    30% {\n",
              "      border-color: transparent;\n",
              "      border-left-color: var(--fill-color);\n",
              "      border-top-color: var(--fill-color);\n",
              "      border-right-color: var(--fill-color);\n",
              "    }\n",
              "    40% {\n",
              "      border-color: transparent;\n",
              "      border-right-color: var(--fill-color);\n",
              "      border-top-color: var(--fill-color);\n",
              "    }\n",
              "    60% {\n",
              "      border-color: transparent;\n",
              "      border-right-color: var(--fill-color);\n",
              "    }\n",
              "    80% {\n",
              "      border-color: transparent;\n",
              "      border-right-color: var(--fill-color);\n",
              "      border-bottom-color: var(--fill-color);\n",
              "    }\n",
              "    90% {\n",
              "      border-color: transparent;\n",
              "      border-bottom-color: var(--fill-color);\n",
              "    }\n",
              "  }\n",
              "</style>\n",
              "\n",
              "  <script>\n",
              "    async function quickchart(key) {\n",
              "      const quickchartButtonEl =\n",
              "        document.querySelector('#' + key + ' button');\n",
              "      quickchartButtonEl.disabled = true;  // To prevent multiple clicks.\n",
              "      quickchartButtonEl.classList.add('colab-df-spinner');\n",
              "      try {\n",
              "        const charts = await google.colab.kernel.invokeFunction(\n",
              "            'suggestCharts', [key], {});\n",
              "      } catch (error) {\n",
              "        console.error('Error during call to suggestCharts:', error);\n",
              "      }\n",
              "      quickchartButtonEl.classList.remove('colab-df-spinner');\n",
              "      quickchartButtonEl.classList.add('colab-df-quickchart-complete');\n",
              "    }\n",
              "    (() => {\n",
              "      let quickchartButtonEl =\n",
              "        document.querySelector('#df-df9e2b0d-21d9-41fb-9ba0-176b65e62d09 button');\n",
              "      quickchartButtonEl.style.display =\n",
              "        google.colab.kernel.accessAllowed ? 'block' : 'none';\n",
              "    })();\n",
              "  </script>\n",
              "</div>\n",
              "    </div>\n",
              "  </div>\n"
            ]
          },
          "metadata": {},
          "execution_count": 86
        }
      ]
    },
    {
      "cell_type": "code",
      "source": [
        "df_msq['CHARGEcode'].value_counts()"
      ],
      "metadata": {
        "colab": {
          "base_uri": "https://localhost:8080/"
        },
        "id": "szl35dw3iXOd",
        "outputId": "6c892549-0d8d-4e5d-ff31-115d9c0a4cc9"
      },
      "execution_count": 77,
      "outputs": [
        {
          "output_type": "execute_result",
          "data": {
            "text/plain": [
              "10300300    1\n",
              "70019617    1\n",
              "70019454    1\n",
              "70019453    1\n",
              "70019452    1\n",
              "           ..\n",
              "50024335    1\n",
              "50024334    1\n",
              "50024333    1\n",
              "50024332    1\n",
              "99899993    1\n",
              "Name: CHARGEcode, Length: 114893, dtype: int64"
            ]
          },
          "metadata": {},
          "execution_count": 77
        }
      ]
    },
    {
      "cell_type": "code",
      "source": [
        "df_msq['CHARGEdesc'].value_counts()"
      ],
      "metadata": {
        "colab": {
          "base_uri": "https://localhost:8080/"
        },
        "id": "tNi3GFBgivab",
        "outputId": "648d747a-76b0-4567-9721-fd4742564260"
      },
      "execution_count": 78,
      "outputs": [
        {
          "output_type": "execute_result",
          "data": {
            "text/plain": [
              "TIBIAL INSERT W SCREW             53\n",
              "CATH PTA 142CM MARVERCK VARSZ     49\n",
              "STEM 195MM STEM REST MOD CONI     49\n",
              "ERYTHROPOIETIN RECOMBINANT INJ    45\n",
              "SPHINCTER   4.9F   .035/450       42\n",
              "                                  ..\n",
              "CATH  ANGIO 14X2 5.8FR 75CM        1\n",
              "CATH ANGIO 16X2 5.8FR 120CM        1\n",
              "EXTRACTOR STONE RETR BLLN 8.5      1\n",
              "EXTRACTOR RETRIEV BLLN 12-15M      1\n",
              "LEFT WITHOUT BEEN SEEN/ERRONEO     1\n",
              "Name: CHARGEdesc, Length: 76586, dtype: int64"
            ]
          },
          "metadata": {},
          "execution_count": 78
        }
      ]
    },
    {
      "cell_type": "code",
      "source": [
        "df_msq['ALTdesc'].value_counts()"
      ],
      "metadata": {
        "colab": {
          "base_uri": "https://localhost:8080/"
        },
        "id": "s_YVm87_ixRc",
        "outputId": "fc995e6c-4e3e-4286-bd11-5de379e55348"
      },
      "execution_count": 79,
      "outputs": [
        {
          "output_type": "execute_result",
          "data": {
            "text/plain": [
              "TIBIAL INSERT W SCREW             53\n",
              "STEM 195MM STEM REST MOD CONI     49\n",
              "CATH PTA 142CM MARVERCK VARSZ     49\n",
              "ERYTHROPOIETIN RECOMBINANT INJ    45\n",
              "SPHINCTER   4.9F   .035/450       42\n",
              "                                  ..\n",
              "GRAFT HEMA MICROVEL22 X30CM        1\n",
              "BALLOON  PULMONARY 8.5MM           1\n",
              "CATH  CONTRA ANGIOG 5 FR 65        1\n",
              "CATH ULTRA BLLN DIL 3X2  75CM      1\n",
              "LEFT WITHOUT BEEN SEEN/ERRONEO     1\n",
              "Name: ALTdesc, Length: 76591, dtype: int64"
            ]
          },
          "metadata": {},
          "execution_count": 79
        }
      ]
    },
    {
      "cell_type": "code",
      "source": [
        "df_msq['DEPTcode'].value_counts()"
      ],
      "metadata": {
        "colab": {
          "base_uri": "https://localhost:8080/"
        },
        "id": "EGkUmqBdiyVo",
        "outputId": "34e06b7d-2139-4272-908f-d4cb618147e9"
      },
      "execution_count": 80,
      "outputs": [
        {
          "output_type": "execute_result",
          "data": {
            "text/plain": [
              "700    47056\n",
              "500    31710\n",
              "184     7320\n",
              "800     6480\n",
              "415     4452\n",
              "       ...  \n",
              "162        2\n",
              "626        1\n",
              "310        1\n",
              "994        1\n",
              "998        1\n",
              "Name: DEPTcode, Length: 75, dtype: int64"
            ]
          },
          "metadata": {},
          "execution_count": 80
        }
      ]
    },
    {
      "cell_type": "code",
      "source": [
        "df_msq['DEPTname'].value_counts()"
      ],
      "metadata": {
        "colab": {
          "base_uri": "https://localhost:8080/"
        },
        "id": "yyp4Hy6IiyF-",
        "outputId": "e2514982-d787-4983-a683-eb10fbbf579d"
      },
      "execution_count": 81,
      "outputs": [
        {
          "output_type": "execute_result",
          "data": {
            "text/plain": [
              "OR OPTIME SUPPLIES 700      47056\n",
              "OR SUPPLIES A00             31710\n",
              "PHARMACY                    11772\n",
              "OR OPTIME SUPPLIES 800       6480\n",
              "OR SUPPLIES X21- IR          4028\n",
              "                            ...  \n",
              "AMBULATORY SERV. TESTING        2\n",
              "AMBULATORY SURGERY              2\n",
              "BALANCE FORWARD                 1\n",
              "ROOM & BOARD ICU                1\n",
              "MISCELLANEOUS                   1\n",
              "Name: DEPTname, Length: 71, dtype: int64"
            ]
          },
          "metadata": {},
          "execution_count": 81
        }
      ]
    },
    {
      "cell_type": "code",
      "source": [
        "df_msq['RATEcharged'].value_counts()"
      ],
      "metadata": {
        "colab": {
          "base_uri": "https://localhost:8080/"
        },
        "id": "Eqvov_z8ixqY",
        "outputId": "4548285e-8d01-4056-aea9-223b706a4dbd"
      },
      "execution_count": 82,
      "outputs": [
        {
          "output_type": "execute_result",
          "data": {
            "text/plain": [
              "1.00       952\n",
              "300.00     717\n",
              "0.00       677\n",
              "250.00     612\n",
              "500.00     573\n",
              "          ... \n",
              "405.10       1\n",
              "455.54       1\n",
              "414.20       1\n",
              "2582.00      1\n",
              "220.64       1\n",
              "Name: RATEcharged, Length: 15914, dtype: int64"
            ]
          },
          "metadata": {},
          "execution_count": 82
        }
      ]
    },
    {
      "cell_type": "code",
      "source": [
        "df_msq['REVENUEcodeINPT'].value_counts()"
      ],
      "metadata": {
        "colab": {
          "base_uri": "https://localhost:8080/"
        },
        "id": "V1bQ7r-xi1_Q",
        "outputId": "f60ae62e-bf50-4d5c-8a30-f8b96ff4b6fe"
      },
      "execution_count": 83,
      "outputs": [
        {
          "output_type": "execute_result",
          "data": {
            "text/plain": [
              "278.0    82182\n",
              "270.0     7830\n",
              "250.0     7549\n",
              "276.0     3221\n",
              "636.0     2899\n",
              "         ...  \n",
              "381.0        1\n",
              "389.0        1\n",
              "385.0        1\n",
              "303.0        1\n",
              "271.0        1\n",
              "Name: REVENUEcodeINPT, Length: 124, dtype: int64"
            ]
          },
          "metadata": {},
          "execution_count": 83
        }
      ]
    },
    {
      "cell_type": "code",
      "source": [
        "df_msq['REVENUEcodeOPT'].value_counts()"
      ],
      "metadata": {
        "colab": {
          "base_uri": "https://localhost:8080/"
        },
        "id": "kypvDTAAi2Q_",
        "outputId": "a71eff26-b5da-4293-9791-813265435b10"
      },
      "execution_count": 84,
      "outputs": [
        {
          "output_type": "execute_result",
          "data": {
            "text/plain": [
              "278.0    82182\n",
              "270.0     7830\n",
              "250.0     7257\n",
              "276.0     3221\n",
              "636.0     3191\n",
              "         ...  \n",
              "381.0        1\n",
              "389.0        1\n",
              "385.0        1\n",
              "303.0        1\n",
              "271.0        1\n",
              "Name: REVENUEcodeOPT, Length: 124, dtype: int64"
            ]
          },
          "metadata": {},
          "execution_count": 84
        }
      ]
    },
    {
      "cell_type": "code",
      "source": [
        "# Data distribution\n",
        "\n",
        "# Calculate mean, median, and mode\n",
        "mean= df_msq['RATEcharged'].mean()\n",
        "median = df_msq['RATEcharged'].median()\n",
        "mode = df_msq['RATEcharged'].mode().iloc[0]\n",
        "print(\"Mean is:\", mean)\n",
        "print(\"Median is:\", median)\n",
        "print(\"Mode is: \", mode)\n",
        "# Calculate range\n",
        "range  = df_msq['RATEcharged'].max() - df_msq['RATEcharged'].min()\n",
        "print(\"Range is:\", range)\n",
        "# Calculate variance and standard deviation\n",
        "variance = np.var(df_msq['RATEcharged'])\n",
        "print(\"Variance is: \",variance)\n",
        "std_dev = np.std(df_msq['RATEcharged'])\n",
        "print(\"Standard Deviation is:\", std_dev)"
      ],
      "metadata": {
        "colab": {
          "base_uri": "https://localhost:8080/"
        },
        "id": "hgKRLtRvXern",
        "outputId": "8d8669ca-23b8-4b5e-c40e-3011e7ad7b8e"
      },
      "execution_count": 99,
      "outputs": [
        {
          "output_type": "stream",
          "name": "stdout",
          "text": [
            "Mean is: 2051.366812512512\n",
            "Median is: 636.18\n",
            "Mode is:  1.0\n",
            "Range is: 318000.0\n",
            "Variance is:  19395266.741329383\n",
            "Standard Deviation is: 4404.005760819277\n"
          ]
        }
      ]
    },
    {
      "cell_type": "code",
      "source": [
        "# Remove outliers by only allowing data within 3 standard deviations\n",
        "df_cleaned = df_msq[df_msq['RATEcharged']<= std_dev*3]"
      ],
      "metadata": {
        "id": "32QzOR6bo4CJ"
      },
      "execution_count": 102,
      "outputs": []
    },
    {
      "cell_type": "code",
      "source": [
        "# Create a histogram\n",
        "plt.hist(df_cleaned['RATEcharged'], bins=30, density=True, alpha=0.7, color='purple', label='Histogram')\n",
        "\n",
        "# Create a probability density function (PDF) curve\n",
        "x = np.linspace(min(df_cleaned['RATEcharged']), max(df_cleaned['RATEcharged']),100)\n",
        "pdf = (1/(std_dev * np.sqrt(2*np.pi))) * np.exp(-(x - mean)**2 / (2*std_dev**2))\n",
        "plt.plot(x, pdf, color='blue', label='PDF')\n",
        "\n",
        "plt.title('Distribution of Rates Charged ($)')\n",
        "plt.xlabel('Rate Charged ($)')\n",
        "plt.ylabel('Probability Density')\n",
        "plt.legend()\n",
        "plt.grid(True)\n",
        "plt.show()"
      ],
      "metadata": {
        "colab": {
          "base_uri": "https://localhost:8080/",
          "height": 472
        },
        "id": "elu-_0mhpJd1",
        "outputId": "05c0d5b7-1799-4178-9f95-4f36d53404ef"
      },
      "execution_count": 107,
      "outputs": [
        {
          "output_type": "display_data",
          "data": {
            "text/plain": [
              "<Figure size 640x480 with 1 Axes>"
            ],
            "image/png": "[encoded data removed]"
          },
          "metadata": {}
        }
      ]
    },
    {
      "cell_type": "code",
      "source": [
        "df_cleaned.to_csv('/content/outliers_rem_cleaned_mount-sinai-queens_chargemaster.csv')"
      ],
      "metadata": {
        "id": "lTd_BXZQqEyn"
      },
      "execution_count": 160,
      "outputs": []
    },
    {
      "cell_type": "markdown",
      "source": [
        "#SQLite Database Operations"
      ],
      "metadata": {
        "id": "YbivWjpdtDsV"
      }
    },
    {
      "cell_type": "code",
      "source": [
        "conn = sqlite3.connect('health.db')\n",
        "c = conn.cursor()"
      ],
      "metadata": {
        "id": "s8fwUxAfst-i"
      },
      "execution_count": 174,
      "outputs": []
    },
    {
      "cell_type": "markdown",
      "source": [
        "### Manual table creation"
      ],
      "metadata": {
        "id": "w2KlnVi1xENl"
      }
    },
    {
      "cell_type": "code",
      "source": [
        "c.execute('''\n",
        "              CREATE TABLE msqCharges7\n",
        "                    (\n",
        "                      Charge_description text,\n",
        "                      Department_name text,\n",
        "                      Rate_Charged real,\n",
        "                      PaidClaim real,\n",
        "                      LostRevenue real\n",
        "                    );\n",
        "          ''')\n",
        "conn.commit()"
      ],
      "metadata": {
        "id": "FpjBbVqXvqs6"
      },
      "execution_count": null,
      "outputs": []
    },
    {
      "cell_type": "code",
      "source": [
        "c.execute('''\n",
        "\n",
        "  SELECT name\n",
        "  FROM sqlite_master\n",
        "  WHERE type='table';\n",
        "   ''')\n",
        "print(c.fetchall())"
      ],
      "metadata": {
        "colab": {
          "base_uri": "https://localhost:8080/"
        },
        "id": "MICnE_cKwxZa",
        "outputId": "d5e0d3f1-dcdb-4e1b-81ba-00fa3841f3e7"
      },
      "execution_count": 185,
      "outputs": [
        {
          "output_type": "stream",
          "name": "stdout",
          "text": [
            "[('msqCharges1',), ('msqCharges',), ('msqCharges2',), ('msqCharges3',), ('msqCharges4',), ('msqCharges5',), ('msqCharges5db',), ('msq_database',), ('msqCharges6',), ('msqCharges7',)]\n"
          ]
        }
      ]
    },
    {
      "cell_type": "code",
      "source": [
        "sql_query = '''\n",
        "INSERT INTO msqCharges7\n",
        "  (\n",
        "  'Charge_description',\n",
        "  'Department_name',\n",
        "  'Rate_Charged',\n",
        "  'PaidClaim',\n",
        "  'LostRevenue'\n",
        ")\n",
        "values\n",
        "  (\n",
        "  'Mount Sinai Queens',\n",
        "  'Outpatient Surgery',\n",
        "   10000,\n",
        "   5000,\n",
        "   5000\n",
        ");\n",
        "\n",
        "'''\n",
        "print(sql_query)"
      ],
      "metadata": {
        "colab": {
          "base_uri": "https://localhost:8080/"
        },
        "id": "UNf2cnKyzjul",
        "outputId": "0e0eca48-e78b-4ac5-aa47-c7b698325fb8"
      },
      "execution_count": 188,
      "outputs": [
        {
          "output_type": "stream",
          "name": "stdout",
          "text": [
            "\n",
            "INSERT INTO msqCharges7\n",
            "  (\n",
            "  'Charge_description',\n",
            "  'Department_name',\n",
            "  'Rate_Charged',\n",
            "  'PaidClaim',\n",
            "  'LostRevenue'\n",
            ")\n",
            "values\n",
            "  (\n",
            "  'Mount Sinai Queens',\n",
            "  'Outpatient Surgery',\n",
            "   10000,\n",
            "   5000,\n",
            "   5000\n",
            ");\n",
            "\n",
            "\n"
          ]
        }
      ]
    },
    {
      "cell_type": "code",
      "source": [
        "c.execute(sql_query)\n",
        "conn.commit()"
      ],
      "metadata": {
        "id": "QZPLVYsR0yLy"
      },
      "execution_count": 189,
      "outputs": []
    },
    {
      "cell_type": "code",
      "source": [
        "sql_query_2 = '''\n",
        "\n",
        "select *\n",
        "from msqCharges7;\n",
        "\n",
        "'''\n",
        "\n",
        "c.execute(sql_query_2)\n",
        "print(c.fetchall())"
      ],
      "metadata": {
        "colab": {
          "base_uri": "https://localhost:8080/"
        },
        "id": "197iISNd1hwm",
        "outputId": "fa890638-de42-4df3-c9ef-6942d0127591"
      },
      "execution_count": 190,
      "outputs": [
        {
          "output_type": "stream",
          "name": "stdout",
          "text": [
            "[('Mount Sinai Queens', 'Outpatient Surgery', 10000.0, 5000.0, 5000.0)]\n"
          ]
        }
      ]
    },
    {
      "cell_type": "code",
      "source": [
        "msqCharges7db = pd.read_sql('select * from msqCharges7;', conn)"
      ],
      "metadata": {
        "id": "NwvajQFo128B"
      },
      "execution_count": 192,
      "outputs": []
    },
    {
      "cell_type": "code",
      "source": [
        "msqCharges7db.to_sql('msqCharges57db', conn, if_exists=\"replace\")"
      ],
      "metadata": {
        "colab": {
          "base_uri": "https://localhost:8080/"
        },
        "id": "P36uXDJa19BC",
        "outputId": "be17a59a-3985-4fb7-f7a4-262e12ba42e6"
      },
      "execution_count": 194,
      "outputs": [
        {
          "output_type": "execute_result",
          "data": {
            "text/plain": [
              "1"
            ]
          },
          "metadata": {},
          "execution_count": 194
        }
      ]
    },
    {
      "cell_type": "code",
      "source": [
        "query = '''\n",
        "select *\n",
        " from msqCharges7\n",
        ";\n",
        " '''\n",
        "\n",
        "response = pd.read_sql(query, conn)\n",
        "response"
      ],
      "metadata": {
        "colab": {
          "base_uri": "https://localhost:8080/",
          "height": 80
        },
        "id": "rdFaeTK_2b6c",
        "outputId": "9e4cbfa0-eb18-4d50-943d-c2ca746209c6"
      },
      "execution_count": 195,
      "outputs": [
        {
          "output_type": "execute_result",
          "data": {
            "text/plain": [
              "   Charge_description     Department_name  Rate_Charged  PaidClaim  \\\n",
              "0  Mount Sinai Queens  Outpatient Surgery       10000.0     5000.0   \n",
              "\n",
              "   LostRevenue  \n",
              "0       5000.0  "
            ],
            "text/html": [
              "\n",
              "  <div id=\"df-27950d52-775f-44a2-9f5e-8130edea2a85\" class=\"colab-df-container\">\n",
              "    <div>\n",
              "<style scoped>\n",
              "    .dataframe tbody tr th:only-of-type {\n",
              "        vertical-align: middle;\n",
              "    }\n",
              "\n",
              "    .dataframe tbody tr th {\n",
              "        vertical-align: top;\n",
              "    }\n",
              "\n",
              "    .dataframe thead th {\n",
              "        text-align: right;\n",
              "    }\n",
              "</style>\n",
              "<table border=\"1\" class=\"dataframe\">\n",
              "  <thead>\n",
              "    <tr style=\"text-align: right;\">\n",
              "      <th></th>\n",
              "      <th>Charge_description</th>\n",
              "      <th>Department_name</th>\n",
              "      <th>Rate_Charged</th>\n",
              "      <th>PaidClaim</th>\n",
              "      <th>LostRevenue</th>\n",
              "    </tr>\n",
              "  </thead>\n",
              "  <tbody>\n",
              "    <tr>\n",
              "      <th>0</th>\n",
              "      <td>Mount Sinai Queens</td>\n",
              "      <td>Outpatient Surgery</td>\n",
              "      <td>10000.0</td>\n",
              "      <td>5000.0</td>\n",
              "      <td>5000.0</td>\n",
              "    </tr>\n",
              "  </tbody>\n",
              "</table>\n",
              "</div>\n",
              "    <div class=\"colab-df-buttons\">\n",
              "\n",
              "  <div class=\"colab-df-container\">\n",
              "    <button class=\"colab-df-convert\" onclick=\"convertToInteractive('df-27950d52-775f-44a2-9f5e-8130edea2a85')\"\n",
              "            title=\"Convert this dataframe to an interactive table.\"\n",
              "            style=\"display:none;\">\n",
              "\n",
              "  <svg xmlns=\"http://www.w3.org/2000/svg\" height=\"24px\" viewBox=\"0 -960 960 960\">\n",
              "    <path d=\"M120-120v-720h720v720H120Zm60-500h600v-160H180v160Zm220 220h160v-160H400v160Zm0 220h160v-160H400v160ZM180-400h160v-160H180v160Zm440 0h160v-160H620v160ZM180-180h160v-160H180v160Zm440 0h160v-160H620v160Z\"/>\n",
              "  </svg>\n",
              "    </button>\n",
              "\n",
              "  <style>\n",
              "    .colab-df-container {\n",
              "      display:flex;\n",
              "      gap: 12px;\n",
              "    }\n",
              "\n",
              "    .colab-df-convert {\n",
              "      background-color: #E8F0FE;\n",
              "      border: none;\n",
              "      border-radius: 50%;\n",
              "      cursor: pointer;\n",
              "      display: none;\n",
              "      fill: #1967D2;\n",
              "      height: 32px;\n",
              "      padding: 0 0 0 0;\n",
              "      width: 32px;\n",
              "    }\n",
              "\n",
              "    .colab-df-convert:hover {\n",
              "      background-color: #E2EBFA;\n",
              "      box-shadow: 0px 1px 2px rgba(60, 64, 67, 0.3), 0px 1px 3px 1px rgba(60, 64, 67, 0.15);\n",
              "      fill: #174EA6;\n",
              "    }\n",
              "\n",
              "    .colab-df-buttons div {\n",
              "      margin-bottom: 4px;\n",
              "    }\n",
              "\n",
              "    [theme=dark] .colab-df-convert {\n",
              "      background-color: #3B4455;\n",
              "      fill: #D2E3FC;\n",
              "    }\n",
              "\n",
              "    [theme=dark] .colab-df-convert:hover {\n",
              "      background-color: #434B5C;\n",
              "      box-shadow: 0px 1px 3px 1px rgba(0, 0, 0, 0.15);\n",
              "      filter: drop-shadow(0px 1px 2px rgba(0, 0, 0, 0.3));\n",
              "      fill: #FFFFFF;\n",
              "    }\n",
              "  </style>\n",
              "\n",
              "    <script>\n",
              "      const buttonEl =\n",
              "        document.querySelector('#df-27950d52-775f-44a2-9f5e-8130edea2a85 button.colab-df-convert');\n",
              "      buttonEl.style.display =\n",
              "        google.colab.kernel.accessAllowed ? 'block' : 'none';\n",
              "\n",
              "      async function convertToInteractive(key) {\n",
              "        const element = document.querySelector('#df-27950d52-775f-44a2-9f5e-8130edea2a85');\n",
              "        const dataTable =\n",
              "          await google.colab.kernel.invokeFunction('convertToInteractive',\n",
              "                                                    [key], {});\n",
              "        if (!dataTable) return;\n",
              "\n",
              "        const docLinkHtml = 'Like what you see? Visit the ' +\n",
              "          '<a target=\"_blank\" href=https://colab.research.google.com/notebooks/data_table.ipynb>data table notebook</a>'\n",
              "          + ' to learn more about interactive tables.';\n",
              "        element.innerHTML = '';\n",
              "        dataTable['output_type'] = 'display_data';\n",
              "        await google.colab.output.renderOutput(dataTable, element);\n",
              "        const docLink = document.createElement('div');\n",
              "        docLink.innerHTML = docLinkHtml;\n",
              "        element.appendChild(docLink);\n",
              "      }\n",
              "    </script>\n",
              "  </div>\n",
              "\n",
              "    </div>\n",
              "  </div>\n"
            ]
          },
          "metadata": {},
          "execution_count": 195
        }
      ]
    },
    {
      "cell_type": "markdown",
      "source": [
        "### Automatic table creation"
      ],
      "metadata": {
        "id": "FoV0i0xRxSIx"
      }
    },
    {
      "cell_type": "code",
      "source": [
        "msq_database = pd.read_csv('/content/outliers_rem_cleaned_mount-sinai-queens_chargemaster.csv')"
      ],
      "metadata": {
        "id": "WbVjk-v03eIQ"
      },
      "execution_count": 168,
      "outputs": []
    },
    {
      "cell_type": "code",
      "source": [
        "msq_database.to_sql('msq_database', conn, if_exists='append', index=False)"
      ],
      "metadata": {
        "colab": {
          "base_uri": "https://localhost:8080/"
        },
        "id": "Rkti2bat3pir",
        "outputId": "6662fd54-4bf8-4ef2-8bc0-cd07fb97a3fe"
      },
      "execution_count": 169,
      "outputs": [
        {
          "output_type": "execute_result",
          "data": {
            "text/plain": [
              "112621"
            ]
          },
          "metadata": {},
          "execution_count": 169
        }
      ]
    },
    {
      "cell_type": "code",
      "source": [
        "query = '''\n",
        "select *\n",
        " from msq_database\n",
        ";\n",
        " '''\n",
        "\n",
        "response1 = pd.read_sql(query, conn)\n",
        "response1"
      ],
      "metadata": {
        "colab": {
          "base_uri": "https://localhost:8080/",
          "height": 527
        },
        "id": "mt24bh-L4yy3",
        "outputId": "113be864-471f-448c-e766-b0670c693f78"
      },
      "execution_count": 173,
      "outputs": [
        {
          "output_type": "execute_result",
          "data": {
            "text/plain": [
              "        Unnamed: 0  CHARGEcode                      CHARGEdesc  \\\n",
              "0                0    10300300         NON ESRD HEMO INPT UNIT   \n",
              "1                1    10300500  NON ESRD HEMO ED IN DIALYS UNI   \n",
              "2                2    10300600             INPT CAPD TREATMENT   \n",
              "3                3    10300700     ESRD HEMO ED IN DIALYS UNIT   \n",
              "4                4    10300800             ESRD HEMO INPT UNIT   \n",
              "...            ...         ...                             ...   \n",
              "337858      114888    99300060   SEMI-PVT ISOLATION DAILY RATE   \n",
              "337859      114889    99300061    PRIVATE ISOLATION DAILY RATE   \n",
              "337860      114890    99300062        SEMI-PVT ISOLATION DAILY   \n",
              "337861      114891    99400013                  ICU DAILY RATE   \n",
              "337862      114892    99899993  LEFT WITHOUT BEEN SEEN/ERRONEO   \n",
              "\n",
              "                               ALTdesc  DEPTcode                 DEPTname  \\\n",
              "0              NON ESRD HEMO INPT UNIT       103                 DIALYSIS   \n",
              "1       NON ESRD HEMO ED IN DIALYS UNI       103                 DIALYSIS   \n",
              "2                  INPT CAPD TREATMENT       103                 DIALYSIS   \n",
              "3          ESRD HEMO ED IN DIALYS UNIT       103                 DIALYSIS   \n",
              "4                  ESRD HEMO INPT UNIT       103                 DIALYSIS   \n",
              "...                                ...       ...                      ...   \n",
              "337858   SEMI-PVT ISOLATION DAILY RATE       993  ROOM & BOARD SEMI PRIV.   \n",
              "337859    PRIVATE ISOLATION DAILY RATE       993  ROOM & BOARD SEMI PRIV.   \n",
              "337860        SEMI-PVT ISOLATION DAILY       993  ROOM & BOARD SEMI PRIV.   \n",
              "337861                  ICU DAILY RATE       994         ROOM & BOARD ICU   \n",
              "337862  LEFT WITHOUT BEEN SEEN/ERRONEO       998            MISCELLANEOUS   \n",
              "\n",
              "       EFFECTIVEdate  RATEcharged  REVENUEcodeINPT  REVENUEcodeOPT  \n",
              "0            12/1/18       2150.0            801.0           801.0  \n",
              "1            12/1/18       1500.0            821.0           821.0  \n",
              "2             1/1/19       1150.0            803.0           803.0  \n",
              "3            12/1/18       1500.0            821.0           821.0  \n",
              "4            12/1/18       1700.0            801.0           801.0  \n",
              "...              ...          ...              ...             ...  \n",
              "337858                        0.0              NaN             NaN  \n",
              "337859                        0.0              NaN             NaN  \n",
              "337860                        0.0              NaN             NaN  \n",
              "337861                        0.0              NaN             NaN  \n",
              "337862        1/1/20          0.0            500.0           500.0  \n",
              "\n",
              "[337863 rows x 10 columns]"
            ],
            "text/html": [
              "\n",
              "  <div id=\"df-de7ac572-f6af-4882-8524-4e24115fdef0\" class=\"colab-df-container\">\n",
              "    <div>\n",
              "<style scoped>\n",
              "    .dataframe tbody tr th:only-of-type {\n",
              "        vertical-align: middle;\n",
              "    }\n",
              "\n",
              "    .dataframe tbody tr th {\n",
              "        vertical-align: top;\n",
              "    }\n",
              "\n",
              "    .dataframe thead th {\n",
              "        text-align: right;\n",
              "    }\n",
              "</style>\n",
              "<table border=\"1\" class=\"dataframe\">\n",
              "  <thead>\n",
              "    <tr style=\"text-align: right;\">\n",
              "      <th></th>\n",
              "      <th>Unnamed: 0</th>\n",
              "      <th>CHARGEcode</th>\n",
              "      <th>CHARGEdesc</th>\n",
              "      <th>ALTdesc</th>\n",
              "      <th>DEPTcode</th>\n",
              "      <th>DEPTname</th>\n",
              "      <th>EFFECTIVEdate</th>\n",
              "      <th>RATEcharged</th>\n",
              "      <th>REVENUEcodeINPT</th>\n",
              "      <th>REVENUEcodeOPT</th>\n",
              "    </tr>\n",
              "  </thead>\n",
              "  <tbody>\n",
              "    <tr>\n",
              "      <th>0</th>\n",
              "      <td>0</td>\n",
              "      <td>10300300</td>\n",
              "      <td>NON ESRD HEMO INPT UNIT</td>\n",
              "      <td>NON ESRD HEMO INPT UNIT</td>\n",
              "      <td>103</td>\n",
              "      <td>DIALYSIS</td>\n",
              "      <td>12/1/18</td>\n",
              "      <td>2150.0</td>\n",
              "      <td>801.0</td>\n",
              "      <td>801.0</td>\n",
              "    </tr>\n",
              "    <tr>\n",
              "      <th>1</th>\n",
              "      <td>1</td>\n",
              "      <td>10300500</td>\n",
              "      <td>NON ESRD HEMO ED IN DIALYS UNI</td>\n",
              "      <td>NON ESRD HEMO ED IN DIALYS UNI</td>\n",
              "      <td>103</td>\n",
              "      <td>DIALYSIS</td>\n",
              "      <td>12/1/18</td>\n",
              "      <td>1500.0</td>\n",
              "      <td>821.0</td>\n",
              "      <td>821.0</td>\n",
              "    </tr>\n",
              "    <tr>\n",
              "      <th>2</th>\n",
              "      <td>2</td>\n",
              "      <td>10300600</td>\n",
              "      <td>INPT CAPD TREATMENT</td>\n",
              "      <td>INPT CAPD TREATMENT</td>\n",
              "      <td>103</td>\n",
              "      <td>DIALYSIS</td>\n",
              "      <td>1/1/19</td>\n",
              "      <td>1150.0</td>\n",
              "      <td>803.0</td>\n",
              "      <td>803.0</td>\n",
              "    </tr>\n",
              "    <tr>\n",
              "      <th>3</th>\n",
              "      <td>3</td>\n",
              "      <td>10300700</td>\n",
              "      <td>ESRD HEMO ED IN DIALYS UNIT</td>\n",
              "      <td>ESRD HEMO ED IN DIALYS UNIT</td>\n",
              "      <td>103</td>\n",
              "      <td>DIALYSIS</td>\n",
              "      <td>12/1/18</td>\n",
              "      <td>1500.0</td>\n",
              "      <td>821.0</td>\n",
              "      <td>821.0</td>\n",
              "    </tr>\n",
              "    <tr>\n",
              "      <th>4</th>\n",
              "      <td>4</td>\n",
              "      <td>10300800</td>\n",
              "      <td>ESRD HEMO INPT UNIT</td>\n",
              "      <td>ESRD HEMO INPT UNIT</td>\n",
              "      <td>103</td>\n",
              "      <td>DIALYSIS</td>\n",
              "      <td>12/1/18</td>\n",
              "      <td>1700.0</td>\n",
              "      <td>801.0</td>\n",
              "      <td>801.0</td>\n",
              "    </tr>\n",
              "    <tr>\n",
              "      <th>...</th>\n",
              "      <td>...</td>\n",
              "      <td>...</td>\n",
              "      <td>...</td>\n",
              "      <td>...</td>\n",
              "      <td>...</td>\n",
              "      <td>...</td>\n",
              "      <td>...</td>\n",
              "      <td>...</td>\n",
              "      <td>...</td>\n",
              "      <td>...</td>\n",
              "    </tr>\n",
              "    <tr>\n",
              "      <th>337858</th>\n",
              "      <td>114888</td>\n",
              "      <td>99300060</td>\n",
              "      <td>SEMI-PVT ISOLATION DAILY RATE</td>\n",
              "      <td>SEMI-PVT ISOLATION DAILY RATE</td>\n",
              "      <td>993</td>\n",
              "      <td>ROOM &amp; BOARD SEMI PRIV.</td>\n",
              "      <td></td>\n",
              "      <td>0.0</td>\n",
              "      <td>NaN</td>\n",
              "      <td>NaN</td>\n",
              "    </tr>\n",
              "    <tr>\n",
              "      <th>337859</th>\n",
              "      <td>114889</td>\n",
              "      <td>99300061</td>\n",
              "      <td>PRIVATE ISOLATION DAILY RATE</td>\n",
              "      <td>PRIVATE ISOLATION DAILY RATE</td>\n",
              "      <td>993</td>\n",
              "      <td>ROOM &amp; BOARD SEMI PRIV.</td>\n",
              "      <td></td>\n",
              "      <td>0.0</td>\n",
              "      <td>NaN</td>\n",
              "      <td>NaN</td>\n",
              "    </tr>\n",
              "    <tr>\n",
              "      <th>337860</th>\n",
              "      <td>114890</td>\n",
              "      <td>99300062</td>\n",
              "      <td>SEMI-PVT ISOLATION DAILY</td>\n",
              "      <td>SEMI-PVT ISOLATION DAILY</td>\n",
              "      <td>993</td>\n",
              "      <td>ROOM &amp; BOARD SEMI PRIV.</td>\n",
              "      <td></td>\n",
              "      <td>0.0</td>\n",
              "      <td>NaN</td>\n",
              "      <td>NaN</td>\n",
              "    </tr>\n",
              "    <tr>\n",
              "      <th>337861</th>\n",
              "      <td>114891</td>\n",
              "      <td>99400013</td>\n",
              "      <td>ICU DAILY RATE</td>\n",
              "      <td>ICU DAILY RATE</td>\n",
              "      <td>994</td>\n",
              "      <td>ROOM &amp; BOARD ICU</td>\n",
              "      <td></td>\n",
              "      <td>0.0</td>\n",
              "      <td>NaN</td>\n",
              "      <td>NaN</td>\n",
              "    </tr>\n",
              "    <tr>\n",
              "      <th>337862</th>\n",
              "      <td>114892</td>\n",
              "      <td>99899993</td>\n",
              "      <td>LEFT WITHOUT BEEN SEEN/ERRONEO</td>\n",
              "      <td>LEFT WITHOUT BEEN SEEN/ERRONEO</td>\n",
              "      <td>998</td>\n",
              "      <td>MISCELLANEOUS</td>\n",
              "      <td>1/1/20</td>\n",
              "      <td>0.0</td>\n",
              "      <td>500.0</td>\n",
              "      <td>500.0</td>\n",
              "    </tr>\n",
              "  </tbody>\n",
              "</table>\n",
              "<p>337863 rows × 10 columns</p>\n",
              "</div>\n",
              "    <div class=\"colab-df-buttons\">\n",
              "\n",
              "  <div class=\"colab-df-container\">\n",
              "    <button class=\"colab-df-convert\" onclick=\"convertToInteractive('df-de7ac572-f6af-4882-8524-4e24115fdef0')\"\n",
              "            title=\"Convert this dataframe to an interactive table.\"\n",
              "            style=\"display:none;\">\n",
              "\n",
              "  <svg xmlns=\"http://www.w3.org/2000/svg\" height=\"24px\" viewBox=\"0 -960 960 960\">\n",
              "    <path d=\"M120-120v-720h720v720H120Zm60-500h600v-160H180v160Zm220 220h160v-160H400v160Zm0 220h160v-160H400v160ZM180-400h160v-160H180v160Zm440 0h160v-160H620v160ZM180-180h160v-160H180v160Zm440 0h160v-160H620v160Z\"/>\n",
              "  </svg>\n",
              "    </button>\n",
              "\n",
              "  <style>\n",
              "    .colab-df-container {\n",
              "      display:flex;\n",
              "      gap: 12px;\n",
              "    }\n",
              "\n",
              "    .colab-df-convert {\n",
              "      background-color: #E8F0FE;\n",
              "      border: none;\n",
              "      border-radius: 50%;\n",
              "      cursor: pointer;\n",
              "      display: none;\n",
              "      fill: #1967D2;\n",
              "      height: 32px;\n",
              "      padding: 0 0 0 0;\n",
              "      width: 32px;\n",
              "    }\n",
              "\n",
              "    .colab-df-convert:hover {\n",
              "      background-color: #E2EBFA;\n",
              "      box-shadow: 0px 1px 2px rgba(60, 64, 67, 0.3), 0px 1px 3px 1px rgba(60, 64, 67, 0.15);\n",
              "      fill: #174EA6;\n",
              "    }\n",
              "\n",
              "    .colab-df-buttons div {\n",
              "      margin-bottom: 4px;\n",
              "    }\n",
              "\n",
              "    [theme=dark] .colab-df-convert {\n",
              "      background-color: #3B4455;\n",
              "      fill: #D2E3FC;\n",
              "    }\n",
              "\n",
              "    [theme=dark] .colab-df-convert:hover {\n",
              "      background-color: #434B5C;\n",
              "      box-shadow: 0px 1px 3px 1px rgba(0, 0, 0, 0.15);\n",
              "      filter: drop-shadow(0px 1px 2px rgba(0, 0, 0, 0.3));\n",
              "      fill: #FFFFFF;\n",
              "    }\n",
              "  </style>\n",
              "\n",
              "    <script>\n",
              "      const buttonEl =\n",
              "        document.querySelector('#df-de7ac572-f6af-4882-8524-4e24115fdef0 button.colab-df-convert');\n",
              "      buttonEl.style.display =\n",
              "        google.colab.kernel.accessAllowed ? 'block' : 'none';\n",
              "\n",
              "      async function convertToInteractive(key) {\n",
              "        const element = document.querySelector('#df-de7ac572-f6af-4882-8524-4e24115fdef0');\n",
              "        const dataTable =\n",
              "          await google.colab.kernel.invokeFunction('convertToInteractive',\n",
              "                                                    [key], {});\n",
              "        if (!dataTable) return;\n",
              "\n",
              "        const docLinkHtml = 'Like what you see? Visit the ' +\n",
              "          '<a target=\"_blank\" href=https://colab.research.google.com/notebooks/data_table.ipynb>data table notebook</a>'\n",
              "          + ' to learn more about interactive tables.';\n",
              "        element.innerHTML = '';\n",
              "        dataTable['output_type'] = 'display_data';\n",
              "        await google.colab.output.renderOutput(dataTable, element);\n",
              "        const docLink = document.createElement('div');\n",
              "        docLink.innerHTML = docLinkHtml;\n",
              "        element.appendChild(docLink);\n",
              "      }\n",
              "    </script>\n",
              "  </div>\n",
              "\n",
              "\n",
              "<div id=\"df-46f8d255-01d4-467b-88a3-8fdf4517ed95\">\n",
              "  <button class=\"colab-df-quickchart\" onclick=\"quickchart('df-46f8d255-01d4-467b-88a3-8fdf4517ed95')\"\n",
              "            title=\"Suggest charts.\"\n",
              "            style=\"display:none;\">\n",
              "\n",
              "<svg xmlns=\"http://www.w3.org/2000/svg\" height=\"24px\"viewBox=\"0 0 24 24\"\n",
              "     width=\"24px\">\n",
              "    <g>\n",
              "        <path d=\"M19 3H5c-1.1 0-2 .9-2 2v14c0 1.1.9 2 2 2h14c1.1 0 2-.9 2-2V5c0-1.1-.9-2-2-2zM9 17H7v-7h2v7zm4 0h-2V7h2v10zm4 0h-2v-4h2v4z\"/>\n",
              "    </g>\n",
              "</svg>\n",
              "  </button>\n",
              "\n",
              "<style>\n",
              "  .colab-df-quickchart {\n",
              "      --bg-color: #E8F0FE;\n",
              "      --fill-color: #1967D2;\n",
              "      --hover-bg-color: #E2EBFA;\n",
              "      --hover-fill-color: #174EA6;\n",
              "      --disabled-fill-color: #AAA;\n",
              "      --disabled-bg-color: #DDD;\n",
              "  }\n",
              "\n",
              "  [theme=dark] .colab-df-quickchart {\n",
              "      --bg-color: #3B4455;\n",
              "      --fill-color: #D2E3FC;\n",
              "      --hover-bg-color: #434B5C;\n",
              "      --hover-fill-color: #FFFFFF;\n",
              "      --disabled-bg-color: #3B4455;\n",
              "      --disabled-fill-color: #666;\n",
              "  }\n",
              "\n",
              "  .colab-df-quickchart {\n",
              "    background-color: var(--bg-color);\n",
              "    border: none;\n",
              "    border-radius: 50%;\n",
              "    cursor: pointer;\n",
              "    display: none;\n",
              "    fill: var(--fill-color);\n",
              "    height: 32px;\n",
              "    padding: 0;\n",
              "    width: 32px;\n",
              "  }\n",
              "\n",
              "  .colab-df-quickchart:hover {\n",
              "    background-color: var(--hover-bg-color);\n",
              "    box-shadow: 0 1px 2px rgba(60, 64, 67, 0.3), 0 1px 3px 1px rgba(60, 64, 67, 0.15);\n",
              "    fill: var(--button-hover-fill-color);\n",
              "  }\n",
              "\n",
              "  .colab-df-quickchart-complete:disabled,\n",
              "  .colab-df-quickchart-complete:disabled:hover {\n",
              "    background-color: var(--disabled-bg-color);\n",
              "    fill: var(--disabled-fill-color);\n",
              "    box-shadow: none;\n",
              "  }\n",
              "\n",
              "  .colab-df-spinner {\n",
              "    border: 2px solid var(--fill-color);\n",
              "    border-color: transparent;\n",
              "    border-bottom-color: var(--fill-color);\n",
              "    animation:\n",
              "      spin 1s steps(1) infinite;\n",
              "  }\n",
              "\n",
              "  @keyframes spin {\n",
              "    0% {\n",
              "      border-color: transparent;\n",
              "      border-bottom-color: var(--fill-color);\n",
              "      border-left-color: var(--fill-color);\n",
              "    }\n",
              "    20% {\n",
              "      border-color: transparent;\n",
              "      border-left-color: var(--fill-color);\n",
              "      border-top-color: var(--fill-color);\n",
              "    }\n",
              "    30% {\n",
              "      border-color: transparent;\n",
              "      border-left-color: var(--fill-color);\n",
              "      border-top-color: var(--fill-color);\n",
              "      border-right-color: var(--fill-color);\n",
              "    }\n",
              "    40% {\n",
              "      border-color: transparent;\n",
              "      border-right-color: var(--fill-color);\n",
              "      border-top-color: var(--fill-color);\n",
              "    }\n",
              "    60% {\n",
              "      border-color: transparent;\n",
              "      border-right-color: var(--fill-color);\n",
              "    }\n",
              "    80% {\n",
              "      border-color: transparent;\n",
              "      border-right-color: var(--fill-color);\n",
              "      border-bottom-color: var(--fill-color);\n",
              "    }\n",
              "    90% {\n",
              "      border-color: transparent;\n",
              "      border-bottom-color: var(--fill-color);\n",
              "    }\n",
              "  }\n",
              "</style>\n",
              "\n",
              "  <script>\n",
              "    async function quickchart(key) {\n",
              "      const quickchartButtonEl =\n",
              "        document.querySelector('#' + key + ' button');\n",
              "      quickchartButtonEl.disabled = true;  // To prevent multiple clicks.\n",
              "      quickchartButtonEl.classList.add('colab-df-spinner');\n",
              "      try {\n",
              "        const charts = await google.colab.kernel.invokeFunction(\n",
              "            'suggestCharts', [key], {});\n",
              "      } catch (error) {\n",
              "        console.error('Error during call to suggestCharts:', error);\n",
              "      }\n",
              "      quickchartButtonEl.classList.remove('colab-df-spinner');\n",
              "      quickchartButtonEl.classList.add('colab-df-quickchart-complete');\n",
              "    }\n",
              "    (() => {\n",
              "      let quickchartButtonEl =\n",
              "        document.querySelector('#df-46f8d255-01d4-467b-88a3-8fdf4517ed95 button');\n",
              "      quickchartButtonEl.style.display =\n",
              "        google.colab.kernel.accessAllowed ? 'block' : 'none';\n",
              "    })();\n",
              "  </script>\n",
              "</div>\n",
              "    </div>\n",
              "  </div>\n"
            ]
          },
          "metadata": {},
          "execution_count": 173
        }
      ]
    }
  ]
}